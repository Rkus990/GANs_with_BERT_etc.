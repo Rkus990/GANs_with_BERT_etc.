{
  "nbformat": 4,
  "nbformat_minor": 0,
  "metadata": {
    "accelerator": "GPU",
    "colab": {
      "name": "GAN_ALBERT_CLINC150_pytorch_final.ipynb",
      "provenance": [],
      "collapsed_sections": [],
      "toc_visible": true
    },
    "kernelspec": {
      "display_name": "Python 3",
      "name": "python3"
    },
    "widgets": {
      "application/vnd.jupyter.widget-state+json": {
        "69a156e690874b129a3b8dcde25cdcf5": {
          "model_module": "@jupyter-widgets/controls",
          "model_name": "HBoxModel",
          "model_module_version": "1.5.0",
          "state": {
            "_dom_classes": [],
            "_model_module": "@jupyter-widgets/controls",
            "_model_module_version": "1.5.0",
            "_model_name": "HBoxModel",
            "_view_count": null,
            "_view_module": "@jupyter-widgets/controls",
            "_view_module_version": "1.5.0",
            "_view_name": "HBoxView",
            "box_style": "",
            "children": [
              "IPY_MODEL_751fd541ff2c4897a9c740d47f80b30a",
              "IPY_MODEL_f337073b3a1a4d2a83e315f2e24708a1",
              "IPY_MODEL_0fb9b2bab32c4b348f29e9909cc5d178"
            ],
            "layout": "IPY_MODEL_99673ef46ce44625b3071a575688462f"
          }
        },
        "751fd541ff2c4897a9c740d47f80b30a": {
          "model_module": "@jupyter-widgets/controls",
          "model_name": "HTMLModel",
          "model_module_version": "1.5.0",
          "state": {
            "_dom_classes": [],
            "_model_module": "@jupyter-widgets/controls",
            "_model_module_version": "1.5.0",
            "_model_name": "HTMLModel",
            "_view_count": null,
            "_view_module": "@jupyter-widgets/controls",
            "_view_module_version": "1.5.0",
            "_view_name": "HTMLView",
            "description": "",
            "description_tooltip": null,
            "layout": "IPY_MODEL_122470cede1040caafe6f6a96615b999",
            "placeholder": "​",
            "style": "IPY_MODEL_a1042c1ea6bb488eb5822e077114406f",
            "value": "Downloading: 100%"
          }
        },
        "f337073b3a1a4d2a83e315f2e24708a1": {
          "model_module": "@jupyter-widgets/controls",
          "model_name": "FloatProgressModel",
          "model_module_version": "1.5.0",
          "state": {
            "_dom_classes": [],
            "_model_module": "@jupyter-widgets/controls",
            "_model_module_version": "1.5.0",
            "_model_name": "FloatProgressModel",
            "_view_count": null,
            "_view_module": "@jupyter-widgets/controls",
            "_view_module_version": "1.5.0",
            "_view_name": "ProgressView",
            "bar_style": "success",
            "description": "",
            "description_tooltip": null,
            "layout": "IPY_MODEL_20051c0a67484a9299d74ee87bafdad1",
            "max": 684,
            "min": 0,
            "orientation": "horizontal",
            "style": "IPY_MODEL_7d9633f17c2148df8f6dc307fcac6467",
            "value": 684
          }
        },
        "0fb9b2bab32c4b348f29e9909cc5d178": {
          "model_module": "@jupyter-widgets/controls",
          "model_name": "HTMLModel",
          "model_module_version": "1.5.0",
          "state": {
            "_dom_classes": [],
            "_model_module": "@jupyter-widgets/controls",
            "_model_module_version": "1.5.0",
            "_model_name": "HTMLModel",
            "_view_count": null,
            "_view_module": "@jupyter-widgets/controls",
            "_view_module_version": "1.5.0",
            "_view_name": "HTMLView",
            "description": "",
            "description_tooltip": null,
            "layout": "IPY_MODEL_61848ac486a6440d8cb034aeb94b5dc0",
            "placeholder": "​",
            "style": "IPY_MODEL_62ad43217b21434982f339f043082f26",
            "value": " 684/684 [00:00&lt;00:00, 19.6kB/s]"
          }
        },
        "99673ef46ce44625b3071a575688462f": {
          "model_module": "@jupyter-widgets/base",
          "model_name": "LayoutModel",
          "model_module_version": "1.2.0",
          "state": {
            "_model_module": "@jupyter-widgets/base",
            "_model_module_version": "1.2.0",
            "_model_name": "LayoutModel",
            "_view_count": null,
            "_view_module": "@jupyter-widgets/base",
            "_view_module_version": "1.2.0",
            "_view_name": "LayoutView",
            "align_content": null,
            "align_items": null,
            "align_self": null,
            "border": null,
            "bottom": null,
            "display": null,
            "flex": null,
            "flex_flow": null,
            "grid_area": null,
            "grid_auto_columns": null,
            "grid_auto_flow": null,
            "grid_auto_rows": null,
            "grid_column": null,
            "grid_gap": null,
            "grid_row": null,
            "grid_template_areas": null,
            "grid_template_columns": null,
            "grid_template_rows": null,
            "height": null,
            "justify_content": null,
            "justify_items": null,
            "left": null,
            "margin": null,
            "max_height": null,
            "max_width": null,
            "min_height": null,
            "min_width": null,
            "object_fit": null,
            "object_position": null,
            "order": null,
            "overflow": null,
            "overflow_x": null,
            "overflow_y": null,
            "padding": null,
            "right": null,
            "top": null,
            "visibility": null,
            "width": null
          }
        },
        "122470cede1040caafe6f6a96615b999": {
          "model_module": "@jupyter-widgets/base",
          "model_name": "LayoutModel",
          "model_module_version": "1.2.0",
          "state": {
            "_model_module": "@jupyter-widgets/base",
            "_model_module_version": "1.2.0",
            "_model_name": "LayoutModel",
            "_view_count": null,
            "_view_module": "@jupyter-widgets/base",
            "_view_module_version": "1.2.0",
            "_view_name": "LayoutView",
            "align_content": null,
            "align_items": null,
            "align_self": null,
            "border": null,
            "bottom": null,
            "display": null,
            "flex": null,
            "flex_flow": null,
            "grid_area": null,
            "grid_auto_columns": null,
            "grid_auto_flow": null,
            "grid_auto_rows": null,
            "grid_column": null,
            "grid_gap": null,
            "grid_row": null,
            "grid_template_areas": null,
            "grid_template_columns": null,
            "grid_template_rows": null,
            "height": null,
            "justify_content": null,
            "justify_items": null,
            "left": null,
            "margin": null,
            "max_height": null,
            "max_width": null,
            "min_height": null,
            "min_width": null,
            "object_fit": null,
            "object_position": null,
            "order": null,
            "overflow": null,
            "overflow_x": null,
            "overflow_y": null,
            "padding": null,
            "right": null,
            "top": null,
            "visibility": null,
            "width": null
          }
        },
        "a1042c1ea6bb488eb5822e077114406f": {
          "model_module": "@jupyter-widgets/controls",
          "model_name": "DescriptionStyleModel",
          "model_module_version": "1.5.0",
          "state": {
            "_model_module": "@jupyter-widgets/controls",
            "_model_module_version": "1.5.0",
            "_model_name": "DescriptionStyleModel",
            "_view_count": null,
            "_view_module": "@jupyter-widgets/base",
            "_view_module_version": "1.2.0",
            "_view_name": "StyleView",
            "description_width": ""
          }
        },
        "20051c0a67484a9299d74ee87bafdad1": {
          "model_module": "@jupyter-widgets/base",
          "model_name": "LayoutModel",
          "model_module_version": "1.2.0",
          "state": {
            "_model_module": "@jupyter-widgets/base",
            "_model_module_version": "1.2.0",
            "_model_name": "LayoutModel",
            "_view_count": null,
            "_view_module": "@jupyter-widgets/base",
            "_view_module_version": "1.2.0",
            "_view_name": "LayoutView",
            "align_content": null,
            "align_items": null,
            "align_self": null,
            "border": null,
            "bottom": null,
            "display": null,
            "flex": null,
            "flex_flow": null,
            "grid_area": null,
            "grid_auto_columns": null,
            "grid_auto_flow": null,
            "grid_auto_rows": null,
            "grid_column": null,
            "grid_gap": null,
            "grid_row": null,
            "grid_template_areas": null,
            "grid_template_columns": null,
            "grid_template_rows": null,
            "height": null,
            "justify_content": null,
            "justify_items": null,
            "left": null,
            "margin": null,
            "max_height": null,
            "max_width": null,
            "min_height": null,
            "min_width": null,
            "object_fit": null,
            "object_position": null,
            "order": null,
            "overflow": null,
            "overflow_x": null,
            "overflow_y": null,
            "padding": null,
            "right": null,
            "top": null,
            "visibility": null,
            "width": null
          }
        },
        "7d9633f17c2148df8f6dc307fcac6467": {
          "model_module": "@jupyter-widgets/controls",
          "model_name": "ProgressStyleModel",
          "model_module_version": "1.5.0",
          "state": {
            "_model_module": "@jupyter-widgets/controls",
            "_model_module_version": "1.5.0",
            "_model_name": "ProgressStyleModel",
            "_view_count": null,
            "_view_module": "@jupyter-widgets/base",
            "_view_module_version": "1.2.0",
            "_view_name": "StyleView",
            "bar_color": null,
            "description_width": ""
          }
        },
        "61848ac486a6440d8cb034aeb94b5dc0": {
          "model_module": "@jupyter-widgets/base",
          "model_name": "LayoutModel",
          "model_module_version": "1.2.0",
          "state": {
            "_model_module": "@jupyter-widgets/base",
            "_model_module_version": "1.2.0",
            "_model_name": "LayoutModel",
            "_view_count": null,
            "_view_module": "@jupyter-widgets/base",
            "_view_module_version": "1.2.0",
            "_view_name": "LayoutView",
            "align_content": null,
            "align_items": null,
            "align_self": null,
            "border": null,
            "bottom": null,
            "display": null,
            "flex": null,
            "flex_flow": null,
            "grid_area": null,
            "grid_auto_columns": null,
            "grid_auto_flow": null,
            "grid_auto_rows": null,
            "grid_column": null,
            "grid_gap": null,
            "grid_row": null,
            "grid_template_areas": null,
            "grid_template_columns": null,
            "grid_template_rows": null,
            "height": null,
            "justify_content": null,
            "justify_items": null,
            "left": null,
            "margin": null,
            "max_height": null,
            "max_width": null,
            "min_height": null,
            "min_width": null,
            "object_fit": null,
            "object_position": null,
            "order": null,
            "overflow": null,
            "overflow_x": null,
            "overflow_y": null,
            "padding": null,
            "right": null,
            "top": null,
            "visibility": null,
            "width": null
          }
        },
        "62ad43217b21434982f339f043082f26": {
          "model_module": "@jupyter-widgets/controls",
          "model_name": "DescriptionStyleModel",
          "model_module_version": "1.5.0",
          "state": {
            "_model_module": "@jupyter-widgets/controls",
            "_model_module_version": "1.5.0",
            "_model_name": "DescriptionStyleModel",
            "_view_count": null,
            "_view_module": "@jupyter-widgets/base",
            "_view_module_version": "1.2.0",
            "_view_name": "StyleView",
            "description_width": ""
          }
        },
        "35c31d0c7bdd4be3b0482b315778250c": {
          "model_module": "@jupyter-widgets/controls",
          "model_name": "HBoxModel",
          "model_module_version": "1.5.0",
          "state": {
            "_dom_classes": [],
            "_model_module": "@jupyter-widgets/controls",
            "_model_module_version": "1.5.0",
            "_model_name": "HBoxModel",
            "_view_count": null,
            "_view_module": "@jupyter-widgets/controls",
            "_view_module_version": "1.5.0",
            "_view_name": "HBoxView",
            "box_style": "",
            "children": [
              "IPY_MODEL_6aa814efe28347a2a28166eb0c880c24",
              "IPY_MODEL_a6f11b82f70042f2bf7b035d5314939f",
              "IPY_MODEL_48af22912ea54232b4b9db2f92914348"
            ],
            "layout": "IPY_MODEL_6bcf8434cf8540b0a5db09533dfc1f14"
          }
        },
        "6aa814efe28347a2a28166eb0c880c24": {
          "model_module": "@jupyter-widgets/controls",
          "model_name": "HTMLModel",
          "model_module_version": "1.5.0",
          "state": {
            "_dom_classes": [],
            "_model_module": "@jupyter-widgets/controls",
            "_model_module_version": "1.5.0",
            "_model_name": "HTMLModel",
            "_view_count": null,
            "_view_module": "@jupyter-widgets/controls",
            "_view_module_version": "1.5.0",
            "_view_name": "HTMLView",
            "description": "",
            "description_tooltip": null,
            "layout": "IPY_MODEL_bb1ee081b163447d8f7bbbe63714617c",
            "placeholder": "​",
            "style": "IPY_MODEL_fdf44477eebd4f5399e3b394be46b039",
            "value": "Downloading: 100%"
          }
        },
        "a6f11b82f70042f2bf7b035d5314939f": {
          "model_module": "@jupyter-widgets/controls",
          "model_name": "FloatProgressModel",
          "model_module_version": "1.5.0",
          "state": {
            "_dom_classes": [],
            "_model_module": "@jupyter-widgets/controls",
            "_model_module_version": "1.5.0",
            "_model_name": "FloatProgressModel",
            "_view_count": null,
            "_view_module": "@jupyter-widgets/controls",
            "_view_module_version": "1.5.0",
            "_view_name": "ProgressView",
            "bar_style": "success",
            "description": "",
            "description_tooltip": null,
            "layout": "IPY_MODEL_01647ecb34704379a6ec6911ffb64f3e",
            "max": 47376696,
            "min": 0,
            "orientation": "horizontal",
            "style": "IPY_MODEL_899dbf54a0974d1280884bd4cd409df1",
            "value": 47376696
          }
        },
        "48af22912ea54232b4b9db2f92914348": {
          "model_module": "@jupyter-widgets/controls",
          "model_name": "HTMLModel",
          "model_module_version": "1.5.0",
          "state": {
            "_dom_classes": [],
            "_model_module": "@jupyter-widgets/controls",
            "_model_module_version": "1.5.0",
            "_model_name": "HTMLModel",
            "_view_count": null,
            "_view_module": "@jupyter-widgets/controls",
            "_view_module_version": "1.5.0",
            "_view_name": "HTMLView",
            "description": "",
            "description_tooltip": null,
            "layout": "IPY_MODEL_fc71487805494636ac88a642c4fe8064",
            "placeholder": "​",
            "style": "IPY_MODEL_b678f32cb95745bb9c0dc363a2867b79",
            "value": " 47.4M/47.4M [00:02&lt;00:00, 30.4MB/s]"
          }
        },
        "6bcf8434cf8540b0a5db09533dfc1f14": {
          "model_module": "@jupyter-widgets/base",
          "model_name": "LayoutModel",
          "model_module_version": "1.2.0",
          "state": {
            "_model_module": "@jupyter-widgets/base",
            "_model_module_version": "1.2.0",
            "_model_name": "LayoutModel",
            "_view_count": null,
            "_view_module": "@jupyter-widgets/base",
            "_view_module_version": "1.2.0",
            "_view_name": "LayoutView",
            "align_content": null,
            "align_items": null,
            "align_self": null,
            "border": null,
            "bottom": null,
            "display": null,
            "flex": null,
            "flex_flow": null,
            "grid_area": null,
            "grid_auto_columns": null,
            "grid_auto_flow": null,
            "grid_auto_rows": null,
            "grid_column": null,
            "grid_gap": null,
            "grid_row": null,
            "grid_template_areas": null,
            "grid_template_columns": null,
            "grid_template_rows": null,
            "height": null,
            "justify_content": null,
            "justify_items": null,
            "left": null,
            "margin": null,
            "max_height": null,
            "max_width": null,
            "min_height": null,
            "min_width": null,
            "object_fit": null,
            "object_position": null,
            "order": null,
            "overflow": null,
            "overflow_x": null,
            "overflow_y": null,
            "padding": null,
            "right": null,
            "top": null,
            "visibility": null,
            "width": null
          }
        },
        "bb1ee081b163447d8f7bbbe63714617c": {
          "model_module": "@jupyter-widgets/base",
          "model_name": "LayoutModel",
          "model_module_version": "1.2.0",
          "state": {
            "_model_module": "@jupyter-widgets/base",
            "_model_module_version": "1.2.0",
            "_model_name": "LayoutModel",
            "_view_count": null,
            "_view_module": "@jupyter-widgets/base",
            "_view_module_version": "1.2.0",
            "_view_name": "LayoutView",
            "align_content": null,
            "align_items": null,
            "align_self": null,
            "border": null,
            "bottom": null,
            "display": null,
            "flex": null,
            "flex_flow": null,
            "grid_area": null,
            "grid_auto_columns": null,
            "grid_auto_flow": null,
            "grid_auto_rows": null,
            "grid_column": null,
            "grid_gap": null,
            "grid_row": null,
            "grid_template_areas": null,
            "grid_template_columns": null,
            "grid_template_rows": null,
            "height": null,
            "justify_content": null,
            "justify_items": null,
            "left": null,
            "margin": null,
            "max_height": null,
            "max_width": null,
            "min_height": null,
            "min_width": null,
            "object_fit": null,
            "object_position": null,
            "order": null,
            "overflow": null,
            "overflow_x": null,
            "overflow_y": null,
            "padding": null,
            "right": null,
            "top": null,
            "visibility": null,
            "width": null
          }
        },
        "fdf44477eebd4f5399e3b394be46b039": {
          "model_module": "@jupyter-widgets/controls",
          "model_name": "DescriptionStyleModel",
          "model_module_version": "1.5.0",
          "state": {
            "_model_module": "@jupyter-widgets/controls",
            "_model_module_version": "1.5.0",
            "_model_name": "DescriptionStyleModel",
            "_view_count": null,
            "_view_module": "@jupyter-widgets/base",
            "_view_module_version": "1.2.0",
            "_view_name": "StyleView",
            "description_width": ""
          }
        },
        "01647ecb34704379a6ec6911ffb64f3e": {
          "model_module": "@jupyter-widgets/base",
          "model_name": "LayoutModel",
          "model_module_version": "1.2.0",
          "state": {
            "_model_module": "@jupyter-widgets/base",
            "_model_module_version": "1.2.0",
            "_model_name": "LayoutModel",
            "_view_count": null,
            "_view_module": "@jupyter-widgets/base",
            "_view_module_version": "1.2.0",
            "_view_name": "LayoutView",
            "align_content": null,
            "align_items": null,
            "align_self": null,
            "border": null,
            "bottom": null,
            "display": null,
            "flex": null,
            "flex_flow": null,
            "grid_area": null,
            "grid_auto_columns": null,
            "grid_auto_flow": null,
            "grid_auto_rows": null,
            "grid_column": null,
            "grid_gap": null,
            "grid_row": null,
            "grid_template_areas": null,
            "grid_template_columns": null,
            "grid_template_rows": null,
            "height": null,
            "justify_content": null,
            "justify_items": null,
            "left": null,
            "margin": null,
            "max_height": null,
            "max_width": null,
            "min_height": null,
            "min_width": null,
            "object_fit": null,
            "object_position": null,
            "order": null,
            "overflow": null,
            "overflow_x": null,
            "overflow_y": null,
            "padding": null,
            "right": null,
            "top": null,
            "visibility": null,
            "width": null
          }
        },
        "899dbf54a0974d1280884bd4cd409df1": {
          "model_module": "@jupyter-widgets/controls",
          "model_name": "ProgressStyleModel",
          "model_module_version": "1.5.0",
          "state": {
            "_model_module": "@jupyter-widgets/controls",
            "_model_module_version": "1.5.0",
            "_model_name": "ProgressStyleModel",
            "_view_count": null,
            "_view_module": "@jupyter-widgets/base",
            "_view_module_version": "1.2.0",
            "_view_name": "StyleView",
            "bar_color": null,
            "description_width": ""
          }
        },
        "fc71487805494636ac88a642c4fe8064": {
          "model_module": "@jupyter-widgets/base",
          "model_name": "LayoutModel",
          "model_module_version": "1.2.0",
          "state": {
            "_model_module": "@jupyter-widgets/base",
            "_model_module_version": "1.2.0",
            "_model_name": "LayoutModel",
            "_view_count": null,
            "_view_module": "@jupyter-widgets/base",
            "_view_module_version": "1.2.0",
            "_view_name": "LayoutView",
            "align_content": null,
            "align_items": null,
            "align_self": null,
            "border": null,
            "bottom": null,
            "display": null,
            "flex": null,
            "flex_flow": null,
            "grid_area": null,
            "grid_auto_columns": null,
            "grid_auto_flow": null,
            "grid_auto_rows": null,
            "grid_column": null,
            "grid_gap": null,
            "grid_row": null,
            "grid_template_areas": null,
            "grid_template_columns": null,
            "grid_template_rows": null,
            "height": null,
            "justify_content": null,
            "justify_items": null,
            "left": null,
            "margin": null,
            "max_height": null,
            "max_width": null,
            "min_height": null,
            "min_width": null,
            "object_fit": null,
            "object_position": null,
            "order": null,
            "overflow": null,
            "overflow_x": null,
            "overflow_y": null,
            "padding": null,
            "right": null,
            "top": null,
            "visibility": null,
            "width": null
          }
        },
        "b678f32cb95745bb9c0dc363a2867b79": {
          "model_module": "@jupyter-widgets/controls",
          "model_name": "DescriptionStyleModel",
          "model_module_version": "1.5.0",
          "state": {
            "_model_module": "@jupyter-widgets/controls",
            "_model_module_version": "1.5.0",
            "_model_name": "DescriptionStyleModel",
            "_view_count": null,
            "_view_module": "@jupyter-widgets/base",
            "_view_module_version": "1.2.0",
            "_view_name": "StyleView",
            "description_width": ""
          }
        },
        "8f90bde975414a6fba02edb6568c2eed": {
          "model_module": "@jupyter-widgets/controls",
          "model_name": "HBoxModel",
          "model_module_version": "1.5.0",
          "state": {
            "_dom_classes": [],
            "_model_module": "@jupyter-widgets/controls",
            "_model_module_version": "1.5.0",
            "_model_name": "HBoxModel",
            "_view_count": null,
            "_view_module": "@jupyter-widgets/controls",
            "_view_module_version": "1.5.0",
            "_view_name": "HBoxView",
            "box_style": "",
            "children": [
              "IPY_MODEL_4104fa3a6fb445129a5bba6df1934e14",
              "IPY_MODEL_8e1233014b0e4ad1abafac69101d6668",
              "IPY_MODEL_9488bf410fb04a9ab55f69280caeca1e"
            ],
            "layout": "IPY_MODEL_84add86720fe4d6eb76a18e00c106745"
          }
        },
        "4104fa3a6fb445129a5bba6df1934e14": {
          "model_module": "@jupyter-widgets/controls",
          "model_name": "HTMLModel",
          "model_module_version": "1.5.0",
          "state": {
            "_dom_classes": [],
            "_model_module": "@jupyter-widgets/controls",
            "_model_module_version": "1.5.0",
            "_model_name": "HTMLModel",
            "_view_count": null,
            "_view_module": "@jupyter-widgets/controls",
            "_view_module_version": "1.5.0",
            "_view_name": "HTMLView",
            "description": "",
            "description_tooltip": null,
            "layout": "IPY_MODEL_8e97302abe4347cb80033f32bbe2ccba",
            "placeholder": "​",
            "style": "IPY_MODEL_325c90c9b3b3494db50f55a6ee156fd2",
            "value": "Downloading: 100%"
          }
        },
        "8e1233014b0e4ad1abafac69101d6668": {
          "model_module": "@jupyter-widgets/controls",
          "model_name": "FloatProgressModel",
          "model_module_version": "1.5.0",
          "state": {
            "_dom_classes": [],
            "_model_module": "@jupyter-widgets/controls",
            "_model_module_version": "1.5.0",
            "_model_name": "FloatProgressModel",
            "_view_count": null,
            "_view_module": "@jupyter-widgets/controls",
            "_view_module_version": "1.5.0",
            "_view_name": "ProgressView",
            "bar_style": "success",
            "description": "",
            "description_tooltip": null,
            "layout": "IPY_MODEL_c647133aaf1b4f72ae2ed51fa5ed58a1",
            "max": 760289,
            "min": 0,
            "orientation": "horizontal",
            "style": "IPY_MODEL_568ec01cdc6d4999a89dc4cf513d9286",
            "value": 760289
          }
        },
        "9488bf410fb04a9ab55f69280caeca1e": {
          "model_module": "@jupyter-widgets/controls",
          "model_name": "HTMLModel",
          "model_module_version": "1.5.0",
          "state": {
            "_dom_classes": [],
            "_model_module": "@jupyter-widgets/controls",
            "_model_module_version": "1.5.0",
            "_model_name": "HTMLModel",
            "_view_count": null,
            "_view_module": "@jupyter-widgets/controls",
            "_view_module_version": "1.5.0",
            "_view_name": "HTMLView",
            "description": "",
            "description_tooltip": null,
            "layout": "IPY_MODEL_b53bc468cef74c90b8bece04b0bcf16f",
            "placeholder": "​",
            "style": "IPY_MODEL_6333d854127b439281bd5c06040ec4a2",
            "value": " 760k/760k [00:00&lt;00:00, 721kB/s]"
          }
        },
        "84add86720fe4d6eb76a18e00c106745": {
          "model_module": "@jupyter-widgets/base",
          "model_name": "LayoutModel",
          "model_module_version": "1.2.0",
          "state": {
            "_model_module": "@jupyter-widgets/base",
            "_model_module_version": "1.2.0",
            "_model_name": "LayoutModel",
            "_view_count": null,
            "_view_module": "@jupyter-widgets/base",
            "_view_module_version": "1.2.0",
            "_view_name": "LayoutView",
            "align_content": null,
            "align_items": null,
            "align_self": null,
            "border": null,
            "bottom": null,
            "display": null,
            "flex": null,
            "flex_flow": null,
            "grid_area": null,
            "grid_auto_columns": null,
            "grid_auto_flow": null,
            "grid_auto_rows": null,
            "grid_column": null,
            "grid_gap": null,
            "grid_row": null,
            "grid_template_areas": null,
            "grid_template_columns": null,
            "grid_template_rows": null,
            "height": null,
            "justify_content": null,
            "justify_items": null,
            "left": null,
            "margin": null,
            "max_height": null,
            "max_width": null,
            "min_height": null,
            "min_width": null,
            "object_fit": null,
            "object_position": null,
            "order": null,
            "overflow": null,
            "overflow_x": null,
            "overflow_y": null,
            "padding": null,
            "right": null,
            "top": null,
            "visibility": null,
            "width": null
          }
        },
        "8e97302abe4347cb80033f32bbe2ccba": {
          "model_module": "@jupyter-widgets/base",
          "model_name": "LayoutModel",
          "model_module_version": "1.2.0",
          "state": {
            "_model_module": "@jupyter-widgets/base",
            "_model_module_version": "1.2.0",
            "_model_name": "LayoutModel",
            "_view_count": null,
            "_view_module": "@jupyter-widgets/base",
            "_view_module_version": "1.2.0",
            "_view_name": "LayoutView",
            "align_content": null,
            "align_items": null,
            "align_self": null,
            "border": null,
            "bottom": null,
            "display": null,
            "flex": null,
            "flex_flow": null,
            "grid_area": null,
            "grid_auto_columns": null,
            "grid_auto_flow": null,
            "grid_auto_rows": null,
            "grid_column": null,
            "grid_gap": null,
            "grid_row": null,
            "grid_template_areas": null,
            "grid_template_columns": null,
            "grid_template_rows": null,
            "height": null,
            "justify_content": null,
            "justify_items": null,
            "left": null,
            "margin": null,
            "max_height": null,
            "max_width": null,
            "min_height": null,
            "min_width": null,
            "object_fit": null,
            "object_position": null,
            "order": null,
            "overflow": null,
            "overflow_x": null,
            "overflow_y": null,
            "padding": null,
            "right": null,
            "top": null,
            "visibility": null,
            "width": null
          }
        },
        "325c90c9b3b3494db50f55a6ee156fd2": {
          "model_module": "@jupyter-widgets/controls",
          "model_name": "DescriptionStyleModel",
          "model_module_version": "1.5.0",
          "state": {
            "_model_module": "@jupyter-widgets/controls",
            "_model_module_version": "1.5.0",
            "_model_name": "DescriptionStyleModel",
            "_view_count": null,
            "_view_module": "@jupyter-widgets/base",
            "_view_module_version": "1.2.0",
            "_view_name": "StyleView",
            "description_width": ""
          }
        },
        "c647133aaf1b4f72ae2ed51fa5ed58a1": {
          "model_module": "@jupyter-widgets/base",
          "model_name": "LayoutModel",
          "model_module_version": "1.2.0",
          "state": {
            "_model_module": "@jupyter-widgets/base",
            "_model_module_version": "1.2.0",
            "_model_name": "LayoutModel",
            "_view_count": null,
            "_view_module": "@jupyter-widgets/base",
            "_view_module_version": "1.2.0",
            "_view_name": "LayoutView",
            "align_content": null,
            "align_items": null,
            "align_self": null,
            "border": null,
            "bottom": null,
            "display": null,
            "flex": null,
            "flex_flow": null,
            "grid_area": null,
            "grid_auto_columns": null,
            "grid_auto_flow": null,
            "grid_auto_rows": null,
            "grid_column": null,
            "grid_gap": null,
            "grid_row": null,
            "grid_template_areas": null,
            "grid_template_columns": null,
            "grid_template_rows": null,
            "height": null,
            "justify_content": null,
            "justify_items": null,
            "left": null,
            "margin": null,
            "max_height": null,
            "max_width": null,
            "min_height": null,
            "min_width": null,
            "object_fit": null,
            "object_position": null,
            "order": null,
            "overflow": null,
            "overflow_x": null,
            "overflow_y": null,
            "padding": null,
            "right": null,
            "top": null,
            "visibility": null,
            "width": null
          }
        },
        "568ec01cdc6d4999a89dc4cf513d9286": {
          "model_module": "@jupyter-widgets/controls",
          "model_name": "ProgressStyleModel",
          "model_module_version": "1.5.0",
          "state": {
            "_model_module": "@jupyter-widgets/controls",
            "_model_module_version": "1.5.0",
            "_model_name": "ProgressStyleModel",
            "_view_count": null,
            "_view_module": "@jupyter-widgets/base",
            "_view_module_version": "1.2.0",
            "_view_name": "StyleView",
            "bar_color": null,
            "description_width": ""
          }
        },
        "b53bc468cef74c90b8bece04b0bcf16f": {
          "model_module": "@jupyter-widgets/base",
          "model_name": "LayoutModel",
          "model_module_version": "1.2.0",
          "state": {
            "_model_module": "@jupyter-widgets/base",
            "_model_module_version": "1.2.0",
            "_model_name": "LayoutModel",
            "_view_count": null,
            "_view_module": "@jupyter-widgets/base",
            "_view_module_version": "1.2.0",
            "_view_name": "LayoutView",
            "align_content": null,
            "align_items": null,
            "align_self": null,
            "border": null,
            "bottom": null,
            "display": null,
            "flex": null,
            "flex_flow": null,
            "grid_area": null,
            "grid_auto_columns": null,
            "grid_auto_flow": null,
            "grid_auto_rows": null,
            "grid_column": null,
            "grid_gap": null,
            "grid_row": null,
            "grid_template_areas": null,
            "grid_template_columns": null,
            "grid_template_rows": null,
            "height": null,
            "justify_content": null,
            "justify_items": null,
            "left": null,
            "margin": null,
            "max_height": null,
            "max_width": null,
            "min_height": null,
            "min_width": null,
            "object_fit": null,
            "object_position": null,
            "order": null,
            "overflow": null,
            "overflow_x": null,
            "overflow_y": null,
            "padding": null,
            "right": null,
            "top": null,
            "visibility": null,
            "width": null
          }
        },
        "6333d854127b439281bd5c06040ec4a2": {
          "model_module": "@jupyter-widgets/controls",
          "model_name": "DescriptionStyleModel",
          "model_module_version": "1.5.0",
          "state": {
            "_model_module": "@jupyter-widgets/controls",
            "_model_module_version": "1.5.0",
            "_model_name": "DescriptionStyleModel",
            "_view_count": null,
            "_view_module": "@jupyter-widgets/base",
            "_view_module_version": "1.2.0",
            "_view_name": "StyleView",
            "description_width": ""
          }
        },
        "829d00a494644599bae3a310d2b13272": {
          "model_module": "@jupyter-widgets/controls",
          "model_name": "HBoxModel",
          "model_module_version": "1.5.0",
          "state": {
            "_dom_classes": [],
            "_model_module": "@jupyter-widgets/controls",
            "_model_module_version": "1.5.0",
            "_model_name": "HBoxModel",
            "_view_count": null,
            "_view_module": "@jupyter-widgets/controls",
            "_view_module_version": "1.5.0",
            "_view_name": "HBoxView",
            "box_style": "",
            "children": [
              "IPY_MODEL_a748e50b233c49239a6d53098c7c3757",
              "IPY_MODEL_8882e78cdc6e4481b7873a74e1b8ec00",
              "IPY_MODEL_5f1f0b368f7749579068fb68f1a09302"
            ],
            "layout": "IPY_MODEL_db9475a8aa0d416680cc527a636fd0a7"
          }
        },
        "a748e50b233c49239a6d53098c7c3757": {
          "model_module": "@jupyter-widgets/controls",
          "model_name": "HTMLModel",
          "model_module_version": "1.5.0",
          "state": {
            "_dom_classes": [],
            "_model_module": "@jupyter-widgets/controls",
            "_model_module_version": "1.5.0",
            "_model_name": "HTMLModel",
            "_view_count": null,
            "_view_module": "@jupyter-widgets/controls",
            "_view_module_version": "1.5.0",
            "_view_name": "HTMLView",
            "description": "",
            "description_tooltip": null,
            "layout": "IPY_MODEL_c2f5e3acacb9484f9d0edba95d1b4429",
            "placeholder": "​",
            "style": "IPY_MODEL_6fc185eaec0343cc916c300c84eec52b",
            "value": "Downloading: 100%"
          }
        },
        "8882e78cdc6e4481b7873a74e1b8ec00": {
          "model_module": "@jupyter-widgets/controls",
          "model_name": "FloatProgressModel",
          "model_module_version": "1.5.0",
          "state": {
            "_dom_classes": [],
            "_model_module": "@jupyter-widgets/controls",
            "_model_module_version": "1.5.0",
            "_model_name": "FloatProgressModel",
            "_view_count": null,
            "_view_module": "@jupyter-widgets/controls",
            "_view_module_version": "1.5.0",
            "_view_name": "ProgressView",
            "bar_style": "success",
            "description": "",
            "description_tooltip": null,
            "layout": "IPY_MODEL_c23edb411be747dfbee36ffddf76ddb3",
            "max": 1312669,
            "min": 0,
            "orientation": "horizontal",
            "style": "IPY_MODEL_3f8fd215f058432685842be1080164cc",
            "value": 1312669
          }
        },
        "5f1f0b368f7749579068fb68f1a09302": {
          "model_module": "@jupyter-widgets/controls",
          "model_name": "HTMLModel",
          "model_module_version": "1.5.0",
          "state": {
            "_dom_classes": [],
            "_model_module": "@jupyter-widgets/controls",
            "_model_module_version": "1.5.0",
            "_model_name": "HTMLModel",
            "_view_count": null,
            "_view_module": "@jupyter-widgets/controls",
            "_view_module_version": "1.5.0",
            "_view_name": "HTMLView",
            "description": "",
            "description_tooltip": null,
            "layout": "IPY_MODEL_2756f4dddcf146799c5dcbc0a12f1c4e",
            "placeholder": "​",
            "style": "IPY_MODEL_1e12c169d02a4b9b8e40863c7b7922ea",
            "value": " 1.31M/1.31M [00:00&lt;00:00, 1.79MB/s]"
          }
        },
        "db9475a8aa0d416680cc527a636fd0a7": {
          "model_module": "@jupyter-widgets/base",
          "model_name": "LayoutModel",
          "model_module_version": "1.2.0",
          "state": {
            "_model_module": "@jupyter-widgets/base",
            "_model_module_version": "1.2.0",
            "_model_name": "LayoutModel",
            "_view_count": null,
            "_view_module": "@jupyter-widgets/base",
            "_view_module_version": "1.2.0",
            "_view_name": "LayoutView",
            "align_content": null,
            "align_items": null,
            "align_self": null,
            "border": null,
            "bottom": null,
            "display": null,
            "flex": null,
            "flex_flow": null,
            "grid_area": null,
            "grid_auto_columns": null,
            "grid_auto_flow": null,
            "grid_auto_rows": null,
            "grid_column": null,
            "grid_gap": null,
            "grid_row": null,
            "grid_template_areas": null,
            "grid_template_columns": null,
            "grid_template_rows": null,
            "height": null,
            "justify_content": null,
            "justify_items": null,
            "left": null,
            "margin": null,
            "max_height": null,
            "max_width": null,
            "min_height": null,
            "min_width": null,
            "object_fit": null,
            "object_position": null,
            "order": null,
            "overflow": null,
            "overflow_x": null,
            "overflow_y": null,
            "padding": null,
            "right": null,
            "top": null,
            "visibility": null,
            "width": null
          }
        },
        "c2f5e3acacb9484f9d0edba95d1b4429": {
          "model_module": "@jupyter-widgets/base",
          "model_name": "LayoutModel",
          "model_module_version": "1.2.0",
          "state": {
            "_model_module": "@jupyter-widgets/base",
            "_model_module_version": "1.2.0",
            "_model_name": "LayoutModel",
            "_view_count": null,
            "_view_module": "@jupyter-widgets/base",
            "_view_module_version": "1.2.0",
            "_view_name": "LayoutView",
            "align_content": null,
            "align_items": null,
            "align_self": null,
            "border": null,
            "bottom": null,
            "display": null,
            "flex": null,
            "flex_flow": null,
            "grid_area": null,
            "grid_auto_columns": null,
            "grid_auto_flow": null,
            "grid_auto_rows": null,
            "grid_column": null,
            "grid_gap": null,
            "grid_row": null,
            "grid_template_areas": null,
            "grid_template_columns": null,
            "grid_template_rows": null,
            "height": null,
            "justify_content": null,
            "justify_items": null,
            "left": null,
            "margin": null,
            "max_height": null,
            "max_width": null,
            "min_height": null,
            "min_width": null,
            "object_fit": null,
            "object_position": null,
            "order": null,
            "overflow": null,
            "overflow_x": null,
            "overflow_y": null,
            "padding": null,
            "right": null,
            "top": null,
            "visibility": null,
            "width": null
          }
        },
        "6fc185eaec0343cc916c300c84eec52b": {
          "model_module": "@jupyter-widgets/controls",
          "model_name": "DescriptionStyleModel",
          "model_module_version": "1.5.0",
          "state": {
            "_model_module": "@jupyter-widgets/controls",
            "_model_module_version": "1.5.0",
            "_model_name": "DescriptionStyleModel",
            "_view_count": null,
            "_view_module": "@jupyter-widgets/base",
            "_view_module_version": "1.2.0",
            "_view_name": "StyleView",
            "description_width": ""
          }
        },
        "c23edb411be747dfbee36ffddf76ddb3": {
          "model_module": "@jupyter-widgets/base",
          "model_name": "LayoutModel",
          "model_module_version": "1.2.0",
          "state": {
            "_model_module": "@jupyter-widgets/base",
            "_model_module_version": "1.2.0",
            "_model_name": "LayoutModel",
            "_view_count": null,
            "_view_module": "@jupyter-widgets/base",
            "_view_module_version": "1.2.0",
            "_view_name": "LayoutView",
            "align_content": null,
            "align_items": null,
            "align_self": null,
            "border": null,
            "bottom": null,
            "display": null,
            "flex": null,
            "flex_flow": null,
            "grid_area": null,
            "grid_auto_columns": null,
            "grid_auto_flow": null,
            "grid_auto_rows": null,
            "grid_column": null,
            "grid_gap": null,
            "grid_row": null,
            "grid_template_areas": null,
            "grid_template_columns": null,
            "grid_template_rows": null,
            "height": null,
            "justify_content": null,
            "justify_items": null,
            "left": null,
            "margin": null,
            "max_height": null,
            "max_width": null,
            "min_height": null,
            "min_width": null,
            "object_fit": null,
            "object_position": null,
            "order": null,
            "overflow": null,
            "overflow_x": null,
            "overflow_y": null,
            "padding": null,
            "right": null,
            "top": null,
            "visibility": null,
            "width": null
          }
        },
        "3f8fd215f058432685842be1080164cc": {
          "model_module": "@jupyter-widgets/controls",
          "model_name": "ProgressStyleModel",
          "model_module_version": "1.5.0",
          "state": {
            "_model_module": "@jupyter-widgets/controls",
            "_model_module_version": "1.5.0",
            "_model_name": "ProgressStyleModel",
            "_view_count": null,
            "_view_module": "@jupyter-widgets/base",
            "_view_module_version": "1.2.0",
            "_view_name": "StyleView",
            "bar_color": null,
            "description_width": ""
          }
        },
        "2756f4dddcf146799c5dcbc0a12f1c4e": {
          "model_module": "@jupyter-widgets/base",
          "model_name": "LayoutModel",
          "model_module_version": "1.2.0",
          "state": {
            "_model_module": "@jupyter-widgets/base",
            "_model_module_version": "1.2.0",
            "_model_name": "LayoutModel",
            "_view_count": null,
            "_view_module": "@jupyter-widgets/base",
            "_view_module_version": "1.2.0",
            "_view_name": "LayoutView",
            "align_content": null,
            "align_items": null,
            "align_self": null,
            "border": null,
            "bottom": null,
            "display": null,
            "flex": null,
            "flex_flow": null,
            "grid_area": null,
            "grid_auto_columns": null,
            "grid_auto_flow": null,
            "grid_auto_rows": null,
            "grid_column": null,
            "grid_gap": null,
            "grid_row": null,
            "grid_template_areas": null,
            "grid_template_columns": null,
            "grid_template_rows": null,
            "height": null,
            "justify_content": null,
            "justify_items": null,
            "left": null,
            "margin": null,
            "max_height": null,
            "max_width": null,
            "min_height": null,
            "min_width": null,
            "object_fit": null,
            "object_position": null,
            "order": null,
            "overflow": null,
            "overflow_x": null,
            "overflow_y": null,
            "padding": null,
            "right": null,
            "top": null,
            "visibility": null,
            "width": null
          }
        },
        "1e12c169d02a4b9b8e40863c7b7922ea": {
          "model_module": "@jupyter-widgets/controls",
          "model_name": "DescriptionStyleModel",
          "model_module_version": "1.5.0",
          "state": {
            "_model_module": "@jupyter-widgets/controls",
            "_model_module_version": "1.5.0",
            "_model_name": "DescriptionStyleModel",
            "_view_count": null,
            "_view_module": "@jupyter-widgets/base",
            "_view_module_version": "1.2.0",
            "_view_name": "StyleView",
            "description_width": ""
          }
        }
      }
    }
  },
  "cells": [
    {
      "cell_type": "markdown",
      "metadata": {
        "id": "view-in-github"
      },
      "source": [
        "<a href=\"https://colab.research.google.com/github/crux82/ganbert-pytorch/blob/main/GANBERT_pytorch.ipynb\" target=\"_parent\"><img src=\"https://colab.research.google.com/assets/colab-badge.svg\" alt=\"Open In Colab\"/></a>"
      ]
    },
    {
      "cell_type": "markdown",
      "metadata": {
        "id": "fUpqAwtN8rTA"
      },
      "source": [
        "# GAN-AlBERT (in Pytorch and compatible with HuggingFace)\n",
        "\n",
        "This is a Pytorch (+ **Huggingface** transformers) implementation of the GAN-BERT model from https://github.com/crux82/ganbert. While the original GAN-BERT was an extension of BERT, this implementation can be adapted to several architectures, ranging from Roberta to Albert!\n",
        "\n",
        "**NOTE**: given that this implementation is different from the original one in Tensorflow, some results can be slighty different.\n"
      ]
    },
    {
      "cell_type": "markdown",
      "metadata": {
        "id": "Q0m5KR34gmRH"
      },
      "source": [
        "Let's GO!\n",
        "\n",
        "Required Imports."
      ]
    },
    {
      "cell_type": "markdown",
      "source": [
        "## Importing Library"
      ],
      "metadata": {
        "id": "_QNqyjz1Fq-x"
      }
    },
    {
      "cell_type": "code",
      "metadata": {
        "colab": {
          "base_uri": "https://localhost:8080/"
        },
        "id": "UIqpm34x2rms",
        "outputId": "1702b18a-d424-4095-a027-06283e2687bf"
      },
      "source": [
        "!pip install transformers==4.3.2\n",
        "import torch\n",
        "import io\n",
        "import torch.nn.functional as F\n",
        "import random\n",
        "import numpy as np\n",
        "import time\n",
        "import math\n",
        "import datetime\n",
        "import torch.nn as nn\n",
        "from transformers import *\n",
        "from torch.utils.data import TensorDataset, DataLoader, RandomSampler, SequentialSampler\n",
        "#!pip install torch==1.7.1+cu101 torchvision==0.8.2+cu101 -f https://download.pytorch.org/whl/torch_stable.html\n",
        "#!pip install sentencepiece\n",
        "\n",
        "##Set random values\n",
        "seed_val = 42\n",
        "random.seed(seed_val)\n",
        "np.random.seed(seed_val)\n",
        "torch.manual_seed(seed_val)\n",
        "if torch.cuda.is_available():\n",
        "  torch.cuda.manual_seed_all(seed_val)"
      ],
      "execution_count": 1,
      "outputs": [
        {
          "output_type": "stream",
          "name": "stdout",
          "text": [
            "Looking in indexes: https://pypi.org/simple, https://us-python.pkg.dev/colab-wheels/public/simple/\n",
            "Collecting transformers==4.3.2\n",
            "  Downloading transformers-4.3.2-py3-none-any.whl (1.8 MB)\n",
            "\u001b[K     |████████████████████████████████| 1.8 MB 14.7 MB/s \n",
            "\u001b[?25hRequirement already satisfied: regex!=2019.12.17 in /usr/local/lib/python3.7/dist-packages (from transformers==4.3.2) (2019.12.20)\n",
            "Requirement already satisfied: numpy>=1.17 in /usr/local/lib/python3.7/dist-packages (from transformers==4.3.2) (1.21.6)\n",
            "Requirement already satisfied: filelock in /usr/local/lib/python3.7/dist-packages (from transformers==4.3.2) (3.7.0)\n",
            "Requirement already satisfied: tqdm>=4.27 in /usr/local/lib/python3.7/dist-packages (from transformers==4.3.2) (4.64.0)\n",
            "Collecting sacremoses\n",
            "  Downloading sacremoses-0.0.53.tar.gz (880 kB)\n",
            "\u001b[K     |████████████████████████████████| 880 kB 53.7 MB/s \n",
            "\u001b[?25hRequirement already satisfied: importlib-metadata in /usr/local/lib/python3.7/dist-packages (from transformers==4.3.2) (4.11.4)\n",
            "Requirement already satisfied: packaging in /usr/local/lib/python3.7/dist-packages (from transformers==4.3.2) (21.3)\n",
            "Collecting tokenizers<0.11,>=0.10.1\n",
            "  Downloading tokenizers-0.10.3-cp37-cp37m-manylinux_2_5_x86_64.manylinux1_x86_64.manylinux_2_12_x86_64.manylinux2010_x86_64.whl (3.3 MB)\n",
            "\u001b[K     |████████████████████████████████| 3.3 MB 51.7 MB/s \n",
            "\u001b[?25hRequirement already satisfied: requests in /usr/local/lib/python3.7/dist-packages (from transformers==4.3.2) (2.23.0)\n",
            "Requirement already satisfied: zipp>=0.5 in /usr/local/lib/python3.7/dist-packages (from importlib-metadata->transformers==4.3.2) (3.8.0)\n",
            "Requirement already satisfied: typing-extensions>=3.6.4 in /usr/local/lib/python3.7/dist-packages (from importlib-metadata->transformers==4.3.2) (4.2.0)\n",
            "Requirement already satisfied: pyparsing!=3.0.5,>=2.0.2 in /usr/local/lib/python3.7/dist-packages (from packaging->transformers==4.3.2) (3.0.9)\n",
            "Requirement already satisfied: idna<3,>=2.5 in /usr/local/lib/python3.7/dist-packages (from requests->transformers==4.3.2) (2.10)\n",
            "Requirement already satisfied: urllib3!=1.25.0,!=1.25.1,<1.26,>=1.21.1 in /usr/local/lib/python3.7/dist-packages (from requests->transformers==4.3.2) (1.24.3)\n",
            "Requirement already satisfied: chardet<4,>=3.0.2 in /usr/local/lib/python3.7/dist-packages (from requests->transformers==4.3.2) (3.0.4)\n",
            "Requirement already satisfied: certifi>=2017.4.17 in /usr/local/lib/python3.7/dist-packages (from requests->transformers==4.3.2) (2022.5.18.1)\n",
            "Requirement already satisfied: six in /usr/local/lib/python3.7/dist-packages (from sacremoses->transformers==4.3.2) (1.15.0)\n",
            "Requirement already satisfied: click in /usr/local/lib/python3.7/dist-packages (from sacremoses->transformers==4.3.2) (7.1.2)\n",
            "Requirement already satisfied: joblib in /usr/local/lib/python3.7/dist-packages (from sacremoses->transformers==4.3.2) (1.1.0)\n",
            "Building wheels for collected packages: sacremoses\n",
            "  Building wheel for sacremoses (setup.py) ... \u001b[?25l\u001b[?25hdone\n",
            "  Created wheel for sacremoses: filename=sacremoses-0.0.53-py3-none-any.whl size=895260 sha256=f117dbf04c4b982ebd33f6e30f7528e342bf03a75fe8f66b43bf7fbbae98e6fb\n",
            "  Stored in directory: /root/.cache/pip/wheels/87/39/dd/a83eeef36d0bf98e7a4d1933a4ad2d660295a40613079bafc9\n",
            "Successfully built sacremoses\n",
            "Installing collected packages: tokenizers, sacremoses, transformers\n",
            "Successfully installed sacremoses-0.0.53 tokenizers-0.10.3 transformers-4.3.2\n"
          ]
        }
      ]
    },
    {
      "cell_type": "markdown",
      "source": [
        "## Mounting Drive"
      ],
      "metadata": {
        "id": "Xk68mMDHFuT_"
      }
    },
    {
      "cell_type": "code",
      "source": [
        "from google.colab import drive\n",
        "drive.mount('/content/gdrive')"
      ],
      "metadata": {
        "colab": {
          "base_uri": "https://localhost:8080/"
        },
        "id": "u8wV81hUXIPz",
        "outputId": "fc8c1cdb-b90d-47b0-bcf6-43ca2fdbc13d"
      },
      "execution_count": 2,
      "outputs": [
        {
          "output_type": "stream",
          "name": "stdout",
          "text": [
            "Mounted at /content/gdrive\n"
          ]
        }
      ]
    },
    {
      "cell_type": "code",
      "source": [
        "%cd \"/content/gdrive/My Drive/GAN-BERT/data_CLINC150\""
      ],
      "metadata": {
        "colab": {
          "base_uri": "https://localhost:8080/"
        },
        "id": "Fo5-RJvBXOkl",
        "outputId": "7598a2d9-3020-48af-9242-be88aaf15743"
      },
      "execution_count": 3,
      "outputs": [
        {
          "output_type": "stream",
          "name": "stdout",
          "text": [
            "/content/gdrive/My Drive/GAN-BERT/data_CLINC150\n"
          ]
        }
      ]
    },
    {
      "cell_type": "code",
      "source": [
        "import os\n",
        "os.listdir('./')"
      ],
      "metadata": {
        "colab": {
          "base_uri": "https://localhost:8080/"
        },
        "id": "fpJT4toCXyul",
        "outputId": "d3efd5d8-d365-4f74-cde6-19cc1681e657"
      },
      "execution_count": 4,
      "outputs": [
        {
          "output_type": "execute_result",
          "data": {
            "text/plain": [
              "['Data_Preparation.ipynb',\n",
              " 'data_full.json',\n",
              " '10_90',\n",
              " '.ipynb_checkpoints',\n",
              " '20_80',\n",
              " '40_60',\n",
              " 'ganbert',\n",
              " 'test.tsv',\n",
              " 'test_OOS.tsv',\n",
              " '1_99',\n",
              " '2_98',\n",
              " '5_95',\n",
              " '50_50',\n",
              " '30_70']"
            ]
          },
          "metadata": {},
          "execution_count": 4
        }
      ]
    },
    {
      "cell_type": "code",
      "metadata": {
        "id": "LeZgRup520II",
        "colab": {
          "base_uri": "https://localhost:8080/"
        },
        "outputId": "5a22dcc1-bdb9-4691-d147-a04f2ccd7be3"
      },
      "source": [
        "# If there's a GPU available...\n",
        "if torch.cuda.is_available():    \n",
        "    # Tell PyTorch to use the GPU.    \n",
        "    device = torch.device(\"cuda\")\n",
        "    print('There are %d GPU(s) available.' % torch.cuda.device_count())\n",
        "    print('We will use the GPU:', torch.cuda.get_device_name(0))\n",
        "# If not...\n",
        "else:\n",
        "    print('No GPU available, using the CPU instead.')\n",
        "    device = torch.device(\"cpu\")"
      ],
      "execution_count": 5,
      "outputs": [
        {
          "output_type": "stream",
          "name": "stdout",
          "text": [
            "There are 1 GPU(s) available.\n",
            "We will use the GPU: Tesla P100-PCIE-16GB\n"
          ]
        }
      ]
    },
    {
      "cell_type": "markdown",
      "metadata": {
        "id": "AU3ns8Ic7I-h"
      },
      "source": [
        "### Input Parameters\n"
      ]
    },
    {
      "cell_type": "code",
      "metadata": {
        "id": "jw0HC_hU3FUy",
        "colab": {
          "base_uri": "https://localhost:8080/"
        },
        "outputId": "60188f73-0694-4a00-fd7d-bb58b0517b5f"
      },
      "source": [
        "#--------------------------------\n",
        "#  Transformer parameters\n",
        "#--------------------------------\n",
        "max_seq_length = 64\n",
        "batch_size = 64\n",
        "\n",
        "#--------------------------------\n",
        "#  GAN-BERT specific parameters\n",
        "#--------------------------------\n",
        "# number of hidden layers in the generator, \n",
        "# each of the size of the output space\n",
        "num_hidden_layers_g = 1; \n",
        "# number of hidden layers in the discriminator, \n",
        "# each of the size of the input space\n",
        "num_hidden_layers_d = 1; \n",
        "# size of the generator's input noisy vectors\n",
        "noise_size = 100\n",
        "# dropout to be applied to discriminator's input vectors\n",
        "out_dropout_rate = 0.2\n",
        "\n",
        "# Replicate labeled data to balance poorly represented datasets, \n",
        "# e.g., less than 1% of labeled material\n",
        "apply_balance = True\n",
        "\n",
        "#--------------------------------\n",
        "#  Optimization parameters\n",
        "#--------------------------------\n",
        "learning_rate_discriminator = 5e-5\n",
        "learning_rate_generator = 5e-5\n",
        "epsilon = 1e-8\n",
        "num_train_epochs = 5\n",
        "multi_gpu = True\n",
        "# Scheduler\n",
        "apply_scheduler = False\n",
        "warmup_proportion = 0.1\n",
        "# Print\n",
        "print_each_n_step = 10\n",
        "\n",
        "#--------------------------------\n",
        "#  Adopted Tranformer model\n",
        "#--------------------------------\n",
        "# Since this version is compatible with Huggingface transformers, you can uncomment\n",
        "# (or add) transformer models compatible with GAN\n",
        "\n",
        "#model_name = \"bert-base-cased\"\n",
        "#model_name = \"bert-base-uncased\"\n",
        "#model_name = \"roberta-base\"\n",
        "model_name = \"albert-base-v2\"\n",
        "#model_name = \"xlm-roberta-base\"\n",
        "#model_name = \"amazon/bort\"\n",
        "\n",
        "#--------------------------------\n",
        "#  Retrieve the TREC QC Dataset\n",
        "#--------------------------------\n",
        "! git clone https://github.com/crux82/ganbert\n",
        "\n",
        "#  NOTE: in this setting 50 classes are involved\n",
        "labeled_file = \"./ganbert/data/labeled.tsv\"\n",
        "unlabeled_file = \"./ganbert/data/unlabeled.tsv\"\n",
        "test_filename = \"./ganbert/data/test.tsv\"\n",
        "\n",
        "#label_list = [\"UNK_UNK\",\"ABBR_abb\", \"ABBR_exp\", \"DESC_def\", \"DESC_desc\", \n",
        "#              \"DESC_manner\", \"DESC_reason\", \"ENTY_animal\", \"ENTY_body\", \n",
        "#              \"ENTY_color\", \"ENTY_cremat\", \"ENTY_currency\", \"ENTY_dismed\", \n",
        "#              \"ENTY_event\", \"ENTY_food\", \"ENTY_instru\", \"ENTY_lang\", \n",
        "#              \"ENTY_letter\", \"ENTY_other\", \"ENTY_plant\", \"ENTY_product\", \n",
        "#              \"ENTY_religion\", \"ENTY_sport\", \"ENTY_substance\", \"ENTY_symbol\", \n",
        "#              \"ENTY_techmeth\", \"ENTY_termeq\", \"ENTY_veh\", \"ENTY_word\", \"HUM_desc\", \n",
        "#              \"HUM_gr\", \"HUM_ind\", \"HUM_title\", \"LOC_city\", \"LOC_country\", \n",
        "#              \"LOC_mount\", \"LOC_other\", \"LOC_state\", \"NUM_code\", \"NUM_count\", \n",
        "#              \"NUM_date\", \"NUM_dist\", \"NUM_money\", \"NUM_ord\", \"NUM_other\", \n",
        "#              \"NUM_perc\", \"NUM_period\", \"NUM_speed\", \"NUM_temp\", \"NUM_volsize\", \n",
        "#              \"NUM_weight\"]\n",
        "\n",
        "label_list = ['UNK_UNK','translate', 'transfer', 'timer', 'definition', 'meaning_of_life',\n",
        "       'insurance_change', 'find_phone', 'travel_alert', 'pto_request',\n",
        "       'improve_credit_score', 'fun_fact', 'change_language', 'payday',\n",
        "       'replacement_card_duration', 'time', 'application_status',\n",
        "       'flight_status', 'flip_coin', 'change_user_name',\n",
        "       'where_are_you_from', 'shopping_list_update', 'what_can_i_ask_you',\n",
        "       'maybe', 'oil_change_how', 'restaurant_reservation', 'balance',\n",
        "       'confirm_reservation', 'freeze_account', 'rollover_401k',\n",
        "       'who_made_you', 'distance', 'user_name', 'timezone', 'next_song',\n",
        "       'transactions', 'restaurant_suggestion', 'rewards_balance',\n",
        "       'pay_bill', 'spending_history', 'pto_request_status',\n",
        "       'credit_score', 'new_card', 'lost_luggage', 'repeat', 'mpg',\n",
        "       'oil_change_when', 'yes', 'travel_suggestion', 'insurance',\n",
        "       'todo_list_update', 'reminder', 'change_speed', 'tire_pressure',\n",
        "       'no', 'apr', 'nutrition_info', 'calendar', 'uber', 'calculator',\n",
        "       'date', 'carry_on', 'pto_used', 'schedule_maintenance',\n",
        "       'travel_notification', 'sync_device', 'thank_you', 'roll_dice',\n",
        "       'food_last', 'cook_time', 'reminder_update', 'report_lost_card',\n",
        "       'ingredient_substitution', 'make_call', 'alarm', 'todo_list',\n",
        "       'change_accent', 'w2', 'bill_due', 'calories', 'damaged_card',\n",
        "       'restaurant_reviews', 'routing', 'do_you_have_pets',\n",
        "       'schedule_meeting', 'gas_type', 'plug_type', 'tire_change',\n",
        "       'exchange_rate', 'next_holiday', 'change_volume',\n",
        "       'who_do_you_work_for', 'credit_limit', 'how_busy',\n",
        "       'accept_reservations', 'order_status', 'pin_change', 'goodbye',\n",
        "       'account_blocked', 'what_song', 'international_fees',\n",
        "       'last_maintenance', 'meeting_schedule', 'ingredients_list',\n",
        "       'report_fraud', 'measurement_conversion', 'smart_home',\n",
        "       'book_hotel', 'current_location', 'weather', 'taxes',\n",
        "       'min_payment', 'whisper_mode', 'cancel', 'international_visa',\n",
        "       'vaccines', 'pto_balance', 'directions', 'spelling', 'greeting',\n",
        "       'reset_settings', 'what_is_your_name', 'direct_deposit',\n",
        "       'interest_rate', 'credit_limit_change', 'what_are_your_hobbies',\n",
        "       'book_flight', 'shopping_list', 'text', 'bill_balance',\n",
        "       'share_location', 'redeem_rewards', 'play_music',\n",
        "       'calendar_update', 'are_you_a_bot', 'gas', 'expiration_date',\n",
        "       'update_playlist', 'cancel_reservation', 'tell_joke',\n",
        "       'change_ai_name', 'how_old_are_you', 'car_rental', 'jump_start',\n",
        "       'meal_suggestion', 'recipe', 'income', 'order', 'traffic',\n",
        "       'order_checks', 'card_declined']"
      ],
      "execution_count": 24,
      "outputs": [
        {
          "output_type": "stream",
          "name": "stdout",
          "text": [
            "fatal: destination path 'ganbert' already exists and is not an empty directory.\n"
          ]
        }
      ]
    },
    {
      "cell_type": "code",
      "source": [
        "labeled_examples = None\n",
        "unlabeled_examples = None\n",
        "test_examples = None"
      ],
      "metadata": {
        "id": "VPPZXi50MQq0"
      },
      "execution_count": 7,
      "outputs": []
    },
    {
      "cell_type": "markdown",
      "metadata": {
        "id": "R6Q5jzVioTHb"
      },
      "source": [
        "## Load the Tranformer Model"
      ]
    },
    {
      "cell_type": "code",
      "metadata": {
        "id": "gxghkkZq3Gbn",
        "outputId": "9877bab6-5447-471d-b042-6943b3cb4cbb",
        "colab": {
          "base_uri": "https://localhost:8080/",
          "height": 145,
          "referenced_widgets": [
            "69a156e690874b129a3b8dcde25cdcf5",
            "751fd541ff2c4897a9c740d47f80b30a",
            "f337073b3a1a4d2a83e315f2e24708a1",
            "0fb9b2bab32c4b348f29e9909cc5d178",
            "99673ef46ce44625b3071a575688462f",
            "122470cede1040caafe6f6a96615b999",
            "a1042c1ea6bb488eb5822e077114406f",
            "20051c0a67484a9299d74ee87bafdad1",
            "7d9633f17c2148df8f6dc307fcac6467",
            "61848ac486a6440d8cb034aeb94b5dc0",
            "62ad43217b21434982f339f043082f26",
            "35c31d0c7bdd4be3b0482b315778250c",
            "6aa814efe28347a2a28166eb0c880c24",
            "a6f11b82f70042f2bf7b035d5314939f",
            "48af22912ea54232b4b9db2f92914348",
            "6bcf8434cf8540b0a5db09533dfc1f14",
            "bb1ee081b163447d8f7bbbe63714617c",
            "fdf44477eebd4f5399e3b394be46b039",
            "01647ecb34704379a6ec6911ffb64f3e",
            "899dbf54a0974d1280884bd4cd409df1",
            "fc71487805494636ac88a642c4fe8064",
            "b678f32cb95745bb9c0dc363a2867b79",
            "8f90bde975414a6fba02edb6568c2eed",
            "4104fa3a6fb445129a5bba6df1934e14",
            "8e1233014b0e4ad1abafac69101d6668",
            "9488bf410fb04a9ab55f69280caeca1e",
            "84add86720fe4d6eb76a18e00c106745",
            "8e97302abe4347cb80033f32bbe2ccba",
            "325c90c9b3b3494db50f55a6ee156fd2",
            "c647133aaf1b4f72ae2ed51fa5ed58a1",
            "568ec01cdc6d4999a89dc4cf513d9286",
            "b53bc468cef74c90b8bece04b0bcf16f",
            "6333d854127b439281bd5c06040ec4a2",
            "829d00a494644599bae3a310d2b13272",
            "a748e50b233c49239a6d53098c7c3757",
            "8882e78cdc6e4481b7873a74e1b8ec00",
            "5f1f0b368f7749579068fb68f1a09302",
            "db9475a8aa0d416680cc527a636fd0a7",
            "c2f5e3acacb9484f9d0edba95d1b4429",
            "6fc185eaec0343cc916c300c84eec52b",
            "c23edb411be747dfbee36ffddf76ddb3",
            "3f8fd215f058432685842be1080164cc",
            "2756f4dddcf146799c5dcbc0a12f1c4e",
            "1e12c169d02a4b9b8e40863c7b7922ea"
          ]
        }
      },
      "source": [
        "transformer = AutoModel.from_pretrained(model_name)\n",
        "tokenizer = AutoTokenizer.from_pretrained(model_name)"
      ],
      "execution_count": 8,
      "outputs": [
        {
          "output_type": "display_data",
          "data": {
            "text/plain": [
              "Downloading:   0%|          | 0.00/684 [00:00<?, ?B/s]"
            ],
            "application/vnd.jupyter.widget-view+json": {
              "version_major": 2,
              "version_minor": 0,
              "model_id": "69a156e690874b129a3b8dcde25cdcf5"
            }
          },
          "metadata": {}
        },
        {
          "output_type": "display_data",
          "data": {
            "text/plain": [
              "Downloading:   0%|          | 0.00/47.4M [00:00<?, ?B/s]"
            ],
            "application/vnd.jupyter.widget-view+json": {
              "version_major": 2,
              "version_minor": 0,
              "model_id": "35c31d0c7bdd4be3b0482b315778250c"
            }
          },
          "metadata": {}
        },
        {
          "output_type": "display_data",
          "data": {
            "text/plain": [
              "Downloading:   0%|          | 0.00/760k [00:00<?, ?B/s]"
            ],
            "application/vnd.jupyter.widget-view+json": {
              "version_major": 2,
              "version_minor": 0,
              "model_id": "8f90bde975414a6fba02edb6568c2eed"
            }
          },
          "metadata": {}
        },
        {
          "output_type": "display_data",
          "data": {
            "text/plain": [
              "Downloading:   0%|          | 0.00/1.31M [00:00<?, ?B/s]"
            ],
            "application/vnd.jupyter.widget-view+json": {
              "version_major": 2,
              "version_minor": 0,
              "model_id": "829d00a494644599bae3a310d2b13272"
            }
          },
          "metadata": {}
        }
      ]
    },
    {
      "cell_type": "markdown",
      "metadata": {
        "id": "rd_ixn5qn_zV"
      },
      "source": [
        "## Function required to load the dataset"
      ]
    },
    {
      "cell_type": "code",
      "metadata": {
        "id": "W7cP8q7K3BId"
      },
      "source": [
        "def get_qc_examples(input_file):\n",
        "  \"\"\"Creates examples for the training and dev sets.\"\"\"\n",
        "  examples = []\n",
        "\n",
        "  with open(input_file, 'r') as f:\n",
        "      contents = f.read()\n",
        "      file_as_list = contents.splitlines()\n",
        "      for line in file_as_list[1:]:\n",
        "          split = line.split(\" \")\n",
        "          statement = ' '.join(split[1:])\n",
        "\n",
        "          text_a = statement\n",
        "          label = split[0] \n",
        "          examples.append((text_a, label))\n",
        "      f.close()\n",
        "\n",
        "  return examples"
      ],
      "execution_count": 9,
      "outputs": []
    },
    {
      "cell_type": "markdown",
      "metadata": {
        "id": "K43tOavNqib4"
      },
      "source": [
        "##**Load** the input QC dataset (fine-grained)"
      ]
    },
    {
      "cell_type": "code",
      "metadata": {
        "id": "cXCwFyF2qhw7"
      },
      "source": [
        "#Load the examples\n",
        "def load_the_input_dataset():\n",
        "  labeled_examples = get_qc_examples(labeled_file)\n",
        "  unlabeled_examples = get_qc_examples(unlabeled_file)\n",
        "  test_examples = get_qc_examples(test_filename)\n",
        "  return labeled_examples, unlabeled_examples, test_examples"
      ],
      "execution_count": 10,
      "outputs": []
    },
    {
      "cell_type": "markdown",
      "metadata": {
        "id": "JBhaW5vBfR6B"
      },
      "source": [
        "##Functions required to convert examples into Dataloader"
      ]
    },
    {
      "cell_type": "code",
      "metadata": {
        "id": "fmKL5AD7I4Zg"
      },
      "source": [
        "def generate_data_loader(input_examples, label_masks, label_map, do_shuffle = False, balance_label_examples = False):\n",
        "  '''\n",
        "  Generate a Dataloader given the input examples, eventually masked if they are \n",
        "  to be considered NOT labeled.\n",
        "  '''\n",
        "  examples = []\n",
        "\n",
        "  # Count the percentage of labeled examples  \n",
        "  num_labeled_examples = 0\n",
        "  for label_mask in label_masks:\n",
        "    if label_mask: \n",
        "      num_labeled_examples += 1\n",
        "  label_mask_rate = num_labeled_examples/len(input_examples)\n",
        "\n",
        "  # if required it applies the balance\n",
        "  for index, ex in enumerate(input_examples): \n",
        "    if label_mask_rate == 1 or not balance_label_examples:\n",
        "      examples.append((ex, label_masks[index]))\n",
        "    else:\n",
        "      # IT SIMULATE A LABELED EXAMPLE\n",
        "      if label_masks[index]:\n",
        "        balance = int(1/label_mask_rate)\n",
        "        balance = int(math.log(balance,2))\n",
        "        if balance < 1:\n",
        "          balance = 1\n",
        "        for b in range(0, int(balance)):\n",
        "          examples.append((ex, label_masks[index]))\n",
        "      else:\n",
        "        examples.append((ex, label_masks[index]))\n",
        "  \n",
        "  #-----------------------------------------------\n",
        "  # Generate input examples to the Transformer\n",
        "  #-----------------------------------------------\n",
        "  input_ids = []\n",
        "  input_mask_array = []\n",
        "  label_mask_array = []\n",
        "  label_id_array = []\n",
        "\n",
        "  # Tokenization \n",
        "  for (text, label_mask) in examples:\n",
        "    encoded_sent = tokenizer.encode(text[0], add_special_tokens=True, max_length=max_seq_length, padding=\"max_length\", truncation=True)\n",
        "    input_ids.append(encoded_sent)\n",
        "    label_id_array.append(label_map[text[1]])\n",
        "    label_mask_array.append(label_mask)\n",
        "  \n",
        "  # Attention to token (to ignore padded input wordpieces)\n",
        "  for sent in input_ids:\n",
        "    att_mask = [int(token_id > 0) for token_id in sent]                          \n",
        "    input_mask_array.append(att_mask)\n",
        "  # Convertion to Tensor\n",
        "  input_ids = torch.tensor(input_ids) \n",
        "  input_mask_array = torch.tensor(input_mask_array)\n",
        "  label_id_array = torch.tensor(label_id_array, dtype=torch.long)\n",
        "  label_mask_array = torch.tensor(label_mask_array)\n",
        "\n",
        "  # Building the TensorDataset\n",
        "  dataset = TensorDataset(input_ids, input_mask_array, label_id_array, label_mask_array)\n",
        "\n",
        "  if do_shuffle:\n",
        "    sampler = RandomSampler\n",
        "  else:\n",
        "    sampler = SequentialSampler\n",
        "\n",
        "  # Building the DataLoader\n",
        "  return DataLoader(\n",
        "              dataset,  # The training samples.\n",
        "              sampler = sampler(dataset), \n",
        "              batch_size = batch_size) # Trains with this batch size.\n",
        "\n",
        "def format_time(elapsed):\n",
        "    '''\n",
        "    Takes a time in seconds and returns a string hh:mm:ss\n",
        "    '''\n",
        "    # Round to the nearest second.\n",
        "    elapsed_rounded = int(round((elapsed)))\n",
        "    # Format as hh:mm:ss\n",
        "    return str(datetime.timedelta(seconds=elapsed_rounded))"
      ],
      "execution_count": 11,
      "outputs": []
    },
    {
      "cell_type": "markdown",
      "metadata": {
        "id": "Do3O-VeefT3g"
      },
      "source": [
        "##Convert the input examples into DataLoader"
      ]
    },
    {
      "cell_type": "code",
      "metadata": {
        "id": "4c-nsMXlKX-D"
      },
      "source": [
        "def convert_input_examples_to_dataloader(label_list):\n",
        "  label_map = {}\n",
        "  for (i, label) in enumerate(label_list):\n",
        "    label_map[label] = i\n",
        "  #------------------------------\n",
        "  #   Load the train dataset\n",
        "  #------------------------------\n",
        "  train_examples = labeled_examples\n",
        "  #The labeled (train) dataset is assigned with a mask set to True\n",
        "  train_label_masks = np.ones(len(labeled_examples), dtype=bool)\n",
        "  #If unlabel examples are available\n",
        "  if unlabeled_examples:\n",
        "    train_examples = train_examples + unlabeled_examples\n",
        "    #The unlabeled (train) dataset is assigned with a mask set to False\n",
        "    tmp_masks = np.zeros(len(unlabeled_examples), dtype=bool)\n",
        "    train_label_masks = np.concatenate([train_label_masks,tmp_masks])\n",
        "\n",
        "  train_dataloader = generate_data_loader(train_examples, train_label_masks, label_map, do_shuffle = True, balance_label_examples = apply_balance)\n",
        "\n",
        "  #------------------------------\n",
        "  #   Load the test dataset\n",
        "  #------------------------------\n",
        "  #The labeled (test) dataset is assigned with a mask set to True\n",
        "  test_label_masks = np.ones(len(test_examples), dtype=bool)\n",
        "\n",
        "  test_dataloader = generate_data_loader(test_examples, test_label_masks, label_map, do_shuffle = False, balance_label_examples = False)\n",
        "  return test_dataloader, train_dataloader, train_examples"
      ],
      "execution_count": 12,
      "outputs": []
    },
    {
      "cell_type": "markdown",
      "metadata": {
        "id": "6Ihcw3vquaQm"
      },
      "source": [
        "## Generator and Discriminator definition\n",
        "We define the Generator and Discriminator as discussed in https://www.aclweb.org/anthology/2020.acl-main.191/"
      ]
    },
    {
      "cell_type": "code",
      "metadata": {
        "id": "18kY64-n3I6y"
      },
      "source": [
        "#------------------------------\n",
        "#   The Generator as in \n",
        "#   https://www.aclweb.org/anthology/2020.acl-main.191/\n",
        "#   https://github.com/crux82/ganbert\n",
        "#------------------------------\n",
        "class Generator(nn.Module):\n",
        "    def __init__(self, noise_size=100, output_size=512, hidden_sizes=[512], dropout_rate=0.1):\n",
        "        super(Generator, self).__init__()\n",
        "        layers = []\n",
        "        hidden_sizes = [noise_size] + hidden_sizes\n",
        "        for i in range(len(hidden_sizes)-1):\n",
        "            layers.extend([nn.Linear(hidden_sizes[i], hidden_sizes[i+1]), nn.LeakyReLU(0.2, inplace=True), nn.Dropout(dropout_rate)])\n",
        "\n",
        "        layers.append(nn.Linear(hidden_sizes[-1],output_size))\n",
        "        self.layers = nn.Sequential(*layers)\n",
        "\n",
        "    def forward(self, noise):\n",
        "        output_rep = self.layers(noise)\n",
        "        return output_rep\n",
        "\n",
        "#------------------------------\n",
        "#   The Discriminator\n",
        "#   https://www.aclweb.org/anthology/2020.acl-main.191/\n",
        "#   https://github.com/crux82/ganbert\n",
        "#------------------------------\n",
        "class Discriminator(nn.Module):\n",
        "    def __init__(self, input_size=512, hidden_sizes=[512], num_labels=2, dropout_rate=0.1):\n",
        "        super(Discriminator, self).__init__()\n",
        "        self.input_dropout = nn.Dropout(p=dropout_rate)\n",
        "        layers = []\n",
        "        hidden_sizes = [input_size] + hidden_sizes\n",
        "        for i in range(len(hidden_sizes)-1):\n",
        "            layers.extend([nn.Linear(hidden_sizes[i], hidden_sizes[i+1]), nn.LeakyReLU(0.2, inplace=True), nn.Dropout(dropout_rate)])\n",
        "\n",
        "        self.layers = nn.Sequential(*layers) #per il flatten\n",
        "        self.logit = nn.Linear(hidden_sizes[-1],num_labels+1) # +1 for the probability of this sample being fake/real.\n",
        "        self.softmax = nn.Softmax(dim=-1)\n",
        "\n",
        "    def forward(self, input_rep):\n",
        "        input_rep = self.input_dropout(input_rep)\n",
        "        last_rep = self.layers(input_rep)\n",
        "        logits = self.logit(last_rep)\n",
        "        probs = self.softmax(logits)\n",
        "        return last_rep, logits, probs"
      ],
      "execution_count": 13,
      "outputs": []
    },
    {
      "cell_type": "markdown",
      "metadata": {
        "id": "Uje9s2zQunFc"
      },
      "source": [
        "##We instantiate the Discriminator and Generator"
      ]
    },
    {
      "cell_type": "code",
      "metadata": {
        "id": "Ylz5rvqE3U2S"
      },
      "source": [
        "def instantiate_discriminator_and_generator(transformer):\n",
        "  # The config file is required to get the dimension of the vector produced by \n",
        "  # the underlying transformer\n",
        "  config = AutoConfig.from_pretrained(model_name)\n",
        "  hidden_size = int(config.hidden_size)\n",
        "  # Define the number and width of hidden layers\n",
        "  hidden_levels_g = [hidden_size for i in range(0, num_hidden_layers_g)]\n",
        "  hidden_levels_d = [hidden_size for i in range(0, num_hidden_layers_d)]\n",
        "\n",
        "  #-------------------------------------------------\n",
        "  #   Instantiate the Generator and Discriminator\n",
        "  #-------------------------------------------------\n",
        "  generator = Generator(noise_size=noise_size, output_size=hidden_size, hidden_sizes=hidden_levels_g, dropout_rate=out_dropout_rate)\n",
        "  discriminator = Discriminator(input_size=hidden_size, hidden_sizes=hidden_levels_d, num_labels=len(label_list), dropout_rate=out_dropout_rate)\n",
        "\n",
        "  # Put everything in the GPU if available\n",
        "  if torch.cuda.is_available():    \n",
        "    generator.cuda()\n",
        "    discriminator.cuda()\n",
        "    transformer.cuda()\n",
        "    if multi_gpu:\n",
        "      transformer = torch.nn.DataParallel(transformer)\n",
        "\n",
        "  # print(config)\n",
        "  return generator, discriminator"
      ],
      "execution_count": 14,
      "outputs": []
    },
    {
      "cell_type": "markdown",
      "metadata": {
        "id": "VG3qzp2-usZE"
      },
      "source": [
        "##Training procedure starting method\n",
        "Let's go with the training procedure"
      ]
    },
    {
      "cell_type": "code",
      "metadata": {
        "id": "NhqylHGK3Va4"
      },
      "source": [
        "def training_procedure_start(test_dataloader, train_dataloader, train_examples, generator, discriminator):\n",
        "  training_stats = []\n",
        "\n",
        "  # Measure the total training time for the whole run.\n",
        "  total_t0 = time.time()\n",
        "\n",
        "  #models parameters\n",
        "  transformer_vars = [i for i in transformer.parameters()]\n",
        "  d_vars = transformer_vars + [v for v in discriminator.parameters()]\n",
        "  g_vars = [v for v in generator.parameters()]\n",
        "\n",
        "  #optimizer\n",
        "  dis_optimizer = torch.optim.AdamW(d_vars, lr=learning_rate_discriminator)\n",
        "  gen_optimizer = torch.optim.AdamW(g_vars, lr=learning_rate_generator) \n",
        "\n",
        "  #scheduler\n",
        "  if apply_scheduler:\n",
        "    num_train_examples = len(train_examples)\n",
        "    num_train_steps = int(num_train_examples / batch_size * num_train_epochs)\n",
        "    num_warmup_steps = int(num_train_steps * warmup_proportion)\n",
        "\n",
        "    scheduler_d = get_constant_schedule_with_warmup(dis_optimizer, \n",
        "                                            num_warmup_steps = num_warmup_steps)\n",
        "    scheduler_g = get_constant_schedule_with_warmup(gen_optimizer, \n",
        "                                            num_warmup_steps = num_warmup_steps)\n",
        "\n",
        "  # For each epoch...\n",
        "  for epoch_i in range(0, num_train_epochs):\n",
        "      # ========================================\n",
        "      #               Training\n",
        "      # ========================================\n",
        "      # Perform one full pass over the training set.\n",
        "      print(\"\")\n",
        "      print('======== Epoch {:} / {:} ========'.format(epoch_i + 1, num_train_epochs))\n",
        "      print('Training...')\n",
        "\n",
        "      # Measure how long the training epoch takes.\n",
        "      t0 = time.time()\n",
        "\n",
        "      # Reset the total loss for this epoch.\n",
        "      tr_g_loss = 0\n",
        "      tr_d_loss = 0\n",
        "\n",
        "      # Put the model into training mode.\n",
        "      transformer.train() \n",
        "      generator.train()\n",
        "      discriminator.train()\n",
        "\n",
        "      # For each batch of training data...\n",
        "      for step, batch in enumerate(train_dataloader):\n",
        "\n",
        "          # Progress update every print_each_n_step batches.\n",
        "          if step % print_each_n_step == 0 and not step == 0:\n",
        "              # Calculate elapsed time in minutes.\n",
        "              elapsed = format_time(time.time() - t0)\n",
        "              \n",
        "              # Report progress.\n",
        "              print('  Batch {:>5,}  of  {:>5,}.    Elapsed: {:}.'.format(step, len(train_dataloader), elapsed))\n",
        "\n",
        "          # Unpack this training batch from our dataloader. \n",
        "          b_input_ids = batch[0].to(\"cuda:0\") \n",
        "          b_input_mask = batch[1].to(\"cuda:0\")\n",
        "          b_labels = batch[2].to(\"cuda:0\")\n",
        "          b_label_mask = batch[3].to(\"cuda:0\")\n",
        "\n",
        "          real_batch_size = b_input_ids.shape[0]\n",
        "      \n",
        "          # Encode real data in the Transformer\n",
        "          model_outputs = transformer(b_input_ids, attention_mask=b_input_mask)\n",
        "          hidden_states = model_outputs[-1]\n",
        "          \n",
        "          # Generate fake data that should have the same distribution of the ones\n",
        "          # encoded by the transformer. \n",
        "          # First noisy input are used in input to the Generator\n",
        "          noise = torch.zeros(real_batch_size, noise_size, device=device).uniform_(0, 1)\n",
        "          # Gnerate Fake data\n",
        "          gen_rep = generator(noise)\n",
        "\n",
        "          # Generate the output of the Discriminator for real and fake data.\n",
        "          # First, we put together the output of the tranformer and the generator\n",
        "          disciminator_input = torch.cat([hidden_states, gen_rep], dim=0)\n",
        "          # Then, we select the output of the disciminator\n",
        "          features, logits, probs = discriminator(disciminator_input)\n",
        "\n",
        "          # Finally, we separate the discriminator's output for the real and fake\n",
        "          # data\n",
        "          features_list = torch.split(features, real_batch_size)\n",
        "          D_real_features = features_list[0]\n",
        "          D_fake_features = features_list[1]\n",
        "        \n",
        "          logits_list = torch.split(logits, real_batch_size)\n",
        "          D_real_logits = logits_list[0]\n",
        "          D_fake_logits = logits_list[1]\n",
        "          \n",
        "          probs_list = torch.split(probs, real_batch_size)\n",
        "          D_real_probs = probs_list[0]\n",
        "          D_fake_probs = probs_list[1]\n",
        "\n",
        "          #---------------------------------\n",
        "          #  LOSS evaluation\n",
        "          #---------------------------------\n",
        "          # Generator's LOSS estimation\n",
        "          g_loss_d = -1 * torch.mean(torch.log(1 - D_fake_probs[:,-1] + epsilon))\n",
        "          g_feat_reg = torch.mean(torch.pow(torch.mean(D_real_features, dim=0) - torch.mean(D_fake_features, dim=0), 2))\n",
        "          g_loss = g_loss_d + g_feat_reg\n",
        "    \n",
        "          # Disciminator's LOSS estimation\n",
        "          logits = D_real_logits[:,0:-1]\n",
        "          log_probs = F.log_softmax(logits, dim=-1)\n",
        "          # The discriminator provides an output for labeled and unlabeled real data\n",
        "          # so the loss evaluated for unlabeled data is ignored (masked)\n",
        "          label2one_hot = torch.nn.functional.one_hot(b_labels, len(label_list))\n",
        "          per_example_loss = -torch.sum(label2one_hot * log_probs, dim=-1)\n",
        "          per_example_loss = torch.masked_select(per_example_loss, b_label_mask.to(device))\n",
        "          labeled_example_count = per_example_loss.type(torch.float32).numel()\n",
        "\n",
        "          # It may be the case that a batch does not contain labeled examples, \n",
        "          # so the \"supervised loss\" in this case is not evaluated\n",
        "          if labeled_example_count == 0:\n",
        "            D_L_Supervised = 0\n",
        "          else:\n",
        "            D_L_Supervised = torch.div(torch.sum(per_example_loss.to(device)), labeled_example_count)\n",
        "                  \n",
        "          D_L_unsupervised1U = -1 * torch.mean(torch.log(1 - D_real_probs[:, -1] + epsilon))\n",
        "          D_L_unsupervised2U = -1 * torch.mean(torch.log(D_fake_probs[:, -1] + epsilon))\n",
        "          d_loss = D_L_Supervised + D_L_unsupervised1U + D_L_unsupervised2U\n",
        "\n",
        "          #---------------------------------\n",
        "          #  OPTIMIZATION\n",
        "          #---------------------------------\n",
        "          # Avoid gradient accumulation\n",
        "          gen_optimizer.zero_grad()\n",
        "          dis_optimizer.zero_grad()\n",
        "\n",
        "          # Calculate weigth updates\n",
        "          # retain_graph=True is required since the underlying graph will be deleted after backward\n",
        "          g_loss.backward(retain_graph=True)\n",
        "          d_loss.backward() \n",
        "          \n",
        "          # Apply modifications\n",
        "          gen_optimizer.step()\n",
        "          dis_optimizer.step()\n",
        "\n",
        "          # A detail log of the individual losses\n",
        "          #print(\"{0:.4f}\\t{1:.4f}\\t{2:.4f}\\t{3:.4f}\\t{4:.4f}\".\n",
        "          #      format(D_L_Supervised, D_L_unsupervised1U, D_L_unsupervised2U,\n",
        "          #             g_loss_d, g_feat_reg))\n",
        "\n",
        "          # Save the losses to print them later\n",
        "          tr_g_loss += g_loss.item()\n",
        "          tr_d_loss += d_loss.item()\n",
        "\n",
        "          # Update the learning rate with the scheduler\n",
        "          if apply_scheduler:\n",
        "            scheduler_d.step()\n",
        "            scheduler_g.step()\n",
        "\n",
        "      # Calculate the average loss over all of the batches.\n",
        "      avg_train_loss_g = tr_g_loss / len(train_dataloader)\n",
        "      avg_train_loss_d = tr_d_loss / len(train_dataloader)             \n",
        "      \n",
        "      # Measure how long this epoch took.\n",
        "      training_time = format_time(time.time() - t0)\n",
        "\n",
        "      print(\"\")\n",
        "      print(\"  Average training loss generetor: {0:.3f}\".format(avg_train_loss_g))\n",
        "      print(\"  Average training loss discriminator: {0:.3f}\".format(avg_train_loss_d))\n",
        "      print(\"  Training epcoh took: {:}\".format(training_time))\n",
        "          \n",
        "      # ========================================\n",
        "      #     TEST ON THE EVALUATION DATASET\n",
        "      # ========================================\n",
        "      # After the completion of each training epoch, measure our performance on\n",
        "      # our test set.\n",
        "      print(\"\")\n",
        "      print(\"Running Test...\")\n",
        "\n",
        "      t0 = time.time()\n",
        "\n",
        "      # Put the model in evaluation mode--the dropout layers behave differently\n",
        "      # during evaluation.\n",
        "      transformer.eval() #maybe redundant\n",
        "      discriminator.eval()\n",
        "      generator.eval()\n",
        "\n",
        "      # Tracking variables \n",
        "      total_test_accuracy = 0\n",
        "    \n",
        "      total_test_loss = 0\n",
        "      nb_test_steps = 0\n",
        "\n",
        "      all_preds = []\n",
        "      all_labels_ids = []\n",
        "\n",
        "      #loss\n",
        "      nll_loss = torch.nn.CrossEntropyLoss(ignore_index=-1)\n",
        "\n",
        "      # Evaluate data for one epoch\n",
        "      for batch in test_dataloader:\n",
        "          \n",
        "          # Unpack this training batch from our dataloader. \n",
        "          b_input_ids = batch[0].to(device)\n",
        "          b_input_mask = batch[1].to(device)\n",
        "          b_labels = batch[2].to(device)\n",
        "          \n",
        "          # Tell pytorch not to bother with constructing the compute graph during\n",
        "          # the forward pass, since this is only needed for backprop (training).\n",
        "          with torch.no_grad():        \n",
        "              model_outputs = transformer(b_input_ids, attention_mask=b_input_mask)\n",
        "              hidden_states = model_outputs[-1]\n",
        "              _, logits, probs = discriminator(hidden_states)\n",
        "              ###log_probs = F.log_softmax(probs[:,1:], dim=-1)\n",
        "              filtered_logits = logits[:,0:-1]\n",
        "              # Accumulate the test loss.\n",
        "              total_test_loss += nll_loss(filtered_logits, b_labels)\n",
        "              \n",
        "          # Accumulate the predictions and the input labels\n",
        "          _, preds = torch.max(filtered_logits, 1)\n",
        "          all_preds += preds.detach().cpu()\n",
        "          all_labels_ids += b_labels.detach().cpu()\n",
        "\n",
        "      # Report the final accuracy for this validation run.\n",
        "      all_preds = torch.stack(all_preds).numpy()\n",
        "      all_labels_ids = torch.stack(all_labels_ids).numpy()\n",
        "      test_accuracy = np.sum(all_preds == all_labels_ids) / len(all_preds)\n",
        "      print(\"  Accuracy: {0:.3f}\".format(test_accuracy))\n",
        "\n",
        "      # Calculate the average loss over all of the batches.\n",
        "      avg_test_loss = total_test_loss / len(test_dataloader)\n",
        "      avg_test_loss = avg_test_loss.item()\n",
        "      \n",
        "      # Measure how long the validation run took.\n",
        "      test_time = format_time(time.time() - t0)\n",
        "      \n",
        "      print(\"  Test Loss: {0:.3f}\".format(avg_test_loss))\n",
        "      print(\"  Test took: {:}\".format(test_time))\n",
        "\n",
        "      # Record all statistics from this epoch.\n",
        "      training_stats.append(\n",
        "          {\n",
        "              'epoch': epoch_i + 1,\n",
        "              'Training Loss generator': avg_train_loss_g,\n",
        "              'Training Loss discriminator': avg_train_loss_d,\n",
        "              'Valid. Loss': avg_test_loss,\n",
        "              'Valid. Accur.': test_accuracy,\n",
        "              'Training Time': training_time,\n",
        "              'Test Time': test_time\n",
        "          }\n",
        "      )\n",
        "  return training_stats, total_t0"
      ],
      "execution_count": 15,
      "outputs": []
    },
    {
      "cell_type": "markdown",
      "source": [
        "##Training complete visualization"
      ],
      "metadata": {
        "id": "eTX0HOHaGUJq"
      }
    },
    {
      "cell_type": "code",
      "metadata": {
        "id": "dDm9NProRB4c"
      },
      "source": [
        "def training_procedure_completion_print(training_stats, total_t0):\n",
        "  for stat in training_stats:\n",
        "    print(stat)\n",
        "\n",
        "  print(\"\\nTraining complete!\")\n",
        "\n",
        "  print(\"Total training took {:} (h:mm:ss)\".format(format_time(time.time()-total_t0)))"
      ],
      "execution_count": 16,
      "outputs": []
    },
    {
      "cell_type": "markdown",
      "source": [
        "##10_90"
      ],
      "metadata": {
        "id": "uznO9TEJ_98f"
      }
    },
    {
      "cell_type": "code",
      "source": [
        "labeled_file = \"./10_90/labeled.tsv\"\n",
        "unlabeled_file = \"./10_90/unlabeled.tsv\"\n",
        "test_filename = \"./10_90/test.tsv\""
      ],
      "metadata": {
        "id": "GWdiy94-Xuvo"
      },
      "execution_count": 57,
      "outputs": []
    },
    {
      "cell_type": "code",
      "source": [
        "labeled_examples, unlabeled_examples, test_examples = load_the_input_dataset()"
      ],
      "metadata": {
        "id": "iCOTa8n4YwN2"
      },
      "execution_count": 58,
      "outputs": []
    },
    {
      "cell_type": "code",
      "source": [
        "len(labeled_examples)"
      ],
      "metadata": {
        "id": "zxNXQddnluA-"
      },
      "execution_count": null,
      "outputs": []
    },
    {
      "cell_type": "code",
      "source": [
        "len(unlabeled_examples)"
      ],
      "metadata": {
        "id": "IVOC5uMomrbm"
      },
      "execution_count": null,
      "outputs": []
    },
    {
      "cell_type": "code",
      "source": [
        "test_dataloader, train_dataloader, train_examples = convert_input_examples_to_dataloader(label_list)"
      ],
      "metadata": {
        "id": "qaGcL4-rm1ZW"
      },
      "execution_count": 29,
      "outputs": []
    },
    {
      "cell_type": "code",
      "source": [
        "generator, discriminator = instantiate_discriminator_and_generator(transformer)"
      ],
      "metadata": {
        "id": "3xNHljrEptEh"
      },
      "execution_count": 30,
      "outputs": []
    },
    {
      "cell_type": "code",
      "source": [
        "training_stats, total_t0 = training_procedure_start(test_dataloader, train_dataloader, train_examples, generator, discriminator)"
      ],
      "metadata": {
        "colab": {
          "base_uri": "https://localhost:8080/"
        },
        "id": "hWP5yxE0p0jR",
        "outputId": "4047a6b2-103e-448a-aa92-722ec22184bf"
      },
      "execution_count": 31,
      "outputs": [
        {
          "output_type": "stream",
          "name": "stdout",
          "text": [
            "\n",
            "======== Epoch 1 / 5 ========\n",
            "Training...\n",
            "  Batch    10  of    282.    Elapsed: 0:00:06.\n",
            "  Batch    20  of    282.    Elapsed: 0:00:13.\n",
            "  Batch    30  of    282.    Elapsed: 0:00:19.\n",
            "  Batch    40  of    282.    Elapsed: 0:00:25.\n",
            "  Batch    50  of    282.    Elapsed: 0:00:32.\n",
            "  Batch    60  of    282.    Elapsed: 0:00:38.\n",
            "  Batch    70  of    282.    Elapsed: 0:00:44.\n",
            "  Batch    80  of    282.    Elapsed: 0:00:51.\n",
            "  Batch    90  of    282.    Elapsed: 0:00:57.\n",
            "  Batch   100  of    282.    Elapsed: 0:01:03.\n",
            "  Batch   110  of    282.    Elapsed: 0:01:10.\n",
            "  Batch   120  of    282.    Elapsed: 0:01:16.\n",
            "  Batch   130  of    282.    Elapsed: 0:01:22.\n",
            "  Batch   140  of    282.    Elapsed: 0:01:29.\n",
            "  Batch   150  of    282.    Elapsed: 0:01:35.\n",
            "  Batch   160  of    282.    Elapsed: 0:01:41.\n",
            "  Batch   170  of    282.    Elapsed: 0:01:48.\n",
            "  Batch   180  of    282.    Elapsed: 0:01:54.\n",
            "  Batch   190  of    282.    Elapsed: 0:02:00.\n",
            "  Batch   200  of    282.    Elapsed: 0:02:07.\n",
            "  Batch   210  of    282.    Elapsed: 0:02:13.\n",
            "  Batch   220  of    282.    Elapsed: 0:02:19.\n",
            "  Batch   230  of    282.    Elapsed: 0:02:26.\n",
            "  Batch   240  of    282.    Elapsed: 0:02:32.\n",
            "  Batch   250  of    282.    Elapsed: 0:02:38.\n",
            "  Batch   260  of    282.    Elapsed: 0:02:44.\n",
            "  Batch   270  of    282.    Elapsed: 0:02:51.\n",
            "  Batch   280  of    282.    Elapsed: 0:02:57.\n",
            "\n",
            "  Average training loss generetor: 0.680\n",
            "  Average training loss discriminator: 6.105\n",
            "  Training epcoh took: 0:02:58\n",
            "\n",
            "Running Test...\n",
            "  Accuracy: 0.014\n",
            "  Test Loss: 4.759\n",
            "  Test took: 0:00:09\n",
            "\n",
            "======== Epoch 2 / 5 ========\n",
            "Training...\n",
            "  Batch    10  of    282.    Elapsed: 0:00:06.\n",
            "  Batch    20  of    282.    Elapsed: 0:00:13.\n",
            "  Batch    30  of    282.    Elapsed: 0:00:19.\n",
            "  Batch    40  of    282.    Elapsed: 0:00:25.\n",
            "  Batch    50  of    282.    Elapsed: 0:00:32.\n",
            "  Batch    60  of    282.    Elapsed: 0:00:38.\n",
            "  Batch    70  of    282.    Elapsed: 0:00:44.\n",
            "  Batch    80  of    282.    Elapsed: 0:00:51.\n",
            "  Batch    90  of    282.    Elapsed: 0:00:57.\n",
            "  Batch   100  of    282.    Elapsed: 0:01:03.\n",
            "  Batch   110  of    282.    Elapsed: 0:01:09.\n",
            "  Batch   120  of    282.    Elapsed: 0:01:16.\n",
            "  Batch   130  of    282.    Elapsed: 0:01:22.\n",
            "  Batch   140  of    282.    Elapsed: 0:01:28.\n",
            "  Batch   150  of    282.    Elapsed: 0:01:35.\n",
            "  Batch   160  of    282.    Elapsed: 0:01:41.\n",
            "  Batch   170  of    282.    Elapsed: 0:01:47.\n",
            "  Batch   180  of    282.    Elapsed: 0:01:54.\n",
            "  Batch   190  of    282.    Elapsed: 0:02:00.\n",
            "  Batch   200  of    282.    Elapsed: 0:02:06.\n",
            "  Batch   210  of    282.    Elapsed: 0:02:13.\n",
            "  Batch   220  of    282.    Elapsed: 0:02:19.\n",
            "  Batch   230  of    282.    Elapsed: 0:02:25.\n",
            "  Batch   240  of    282.    Elapsed: 0:02:32.\n",
            "  Batch   250  of    282.    Elapsed: 0:02:38.\n",
            "  Batch   260  of    282.    Elapsed: 0:02:44.\n",
            "  Batch   270  of    282.    Elapsed: 0:02:50.\n",
            "  Batch   280  of    282.    Elapsed: 0:02:57.\n",
            "\n",
            "  Average training loss generetor: 0.742\n",
            "  Average training loss discriminator: 5.361\n",
            "  Training epcoh took: 0:02:58\n",
            "\n",
            "Running Test...\n",
            "  Accuracy: 0.014\n",
            "  Test Loss: 4.518\n",
            "  Test took: 0:00:09\n",
            "\n",
            "======== Epoch 3 / 5 ========\n",
            "Training...\n",
            "  Batch    10  of    282.    Elapsed: 0:00:06.\n",
            "  Batch    20  of    282.    Elapsed: 0:00:13.\n",
            "  Batch    30  of    282.    Elapsed: 0:00:19.\n",
            "  Batch    40  of    282.    Elapsed: 0:00:25.\n",
            "  Batch    50  of    282.    Elapsed: 0:00:32.\n",
            "  Batch    60  of    282.    Elapsed: 0:00:38.\n",
            "  Batch    70  of    282.    Elapsed: 0:00:44.\n",
            "  Batch    80  of    282.    Elapsed: 0:00:50.\n",
            "  Batch    90  of    282.    Elapsed: 0:00:57.\n",
            "  Batch   100  of    282.    Elapsed: 0:01:03.\n",
            "  Batch   110  of    282.    Elapsed: 0:01:09.\n",
            "  Batch   120  of    282.    Elapsed: 0:01:16.\n",
            "  Batch   130  of    282.    Elapsed: 0:01:22.\n",
            "  Batch   140  of    282.    Elapsed: 0:01:28.\n",
            "  Batch   150  of    282.    Elapsed: 0:01:35.\n",
            "  Batch   160  of    282.    Elapsed: 0:01:41.\n",
            "  Batch   170  of    282.    Elapsed: 0:01:47.\n",
            "  Batch   180  of    282.    Elapsed: 0:01:54.\n",
            "  Batch   190  of    282.    Elapsed: 0:02:00.\n",
            "  Batch   200  of    282.    Elapsed: 0:02:06.\n",
            "  Batch   210  of    282.    Elapsed: 0:02:13.\n",
            "  Batch   220  of    282.    Elapsed: 0:02:19.\n",
            "  Batch   230  of    282.    Elapsed: 0:02:25.\n",
            "  Batch   240  of    282.    Elapsed: 0:02:31.\n",
            "  Batch   250  of    282.    Elapsed: 0:02:38.\n",
            "  Batch   260  of    282.    Elapsed: 0:02:44.\n",
            "  Batch   270  of    282.    Elapsed: 0:02:50.\n",
            "  Batch   280  of    282.    Elapsed: 0:02:57.\n",
            "\n",
            "  Average training loss generetor: 0.742\n",
            "  Average training loss discriminator: 5.050\n",
            "  Training epcoh took: 0:02:58\n",
            "\n",
            "Running Test...\n",
            "  Accuracy: 0.033\n",
            "  Test Loss: 4.240\n",
            "  Test took: 0:00:09\n",
            "\n",
            "======== Epoch 4 / 5 ========\n",
            "Training...\n",
            "  Batch    10  of    282.    Elapsed: 0:00:06.\n",
            "  Batch    20  of    282.    Elapsed: 0:00:13.\n",
            "  Batch    30  of    282.    Elapsed: 0:00:19.\n",
            "  Batch    40  of    282.    Elapsed: 0:00:25.\n",
            "  Batch    50  of    282.    Elapsed: 0:00:32.\n",
            "  Batch    60  of    282.    Elapsed: 0:00:38.\n",
            "  Batch    70  of    282.    Elapsed: 0:00:44.\n",
            "  Batch    80  of    282.    Elapsed: 0:00:50.\n",
            "  Batch    90  of    282.    Elapsed: 0:00:57.\n",
            "  Batch   100  of    282.    Elapsed: 0:01:03.\n",
            "  Batch   110  of    282.    Elapsed: 0:01:09.\n",
            "  Batch   120  of    282.    Elapsed: 0:01:16.\n",
            "  Batch   130  of    282.    Elapsed: 0:01:22.\n",
            "  Batch   140  of    282.    Elapsed: 0:01:28.\n",
            "  Batch   150  of    282.    Elapsed: 0:01:35.\n",
            "  Batch   160  of    282.    Elapsed: 0:01:41.\n",
            "  Batch   170  of    282.    Elapsed: 0:01:47.\n",
            "  Batch   180  of    282.    Elapsed: 0:01:54.\n",
            "  Batch   190  of    282.    Elapsed: 0:02:00.\n",
            "  Batch   200  of    282.    Elapsed: 0:02:06.\n",
            "  Batch   210  of    282.    Elapsed: 0:02:13.\n",
            "  Batch   220  of    282.    Elapsed: 0:02:19.\n",
            "  Batch   230  of    282.    Elapsed: 0:02:25.\n",
            "  Batch   240  of    282.    Elapsed: 0:02:32.\n",
            "  Batch   250  of    282.    Elapsed: 0:02:38.\n",
            "  Batch   260  of    282.    Elapsed: 0:02:44.\n",
            "  Batch   270  of    282.    Elapsed: 0:02:50.\n",
            "  Batch   280  of    282.    Elapsed: 0:02:57.\n",
            "\n",
            "  Average training loss generetor: 0.740\n",
            "  Average training loss discriminator: 4.659\n",
            "  Training epcoh took: 0:02:58\n",
            "\n",
            "Running Test...\n",
            "  Accuracy: 0.039\n",
            "  Test Loss: 4.071\n",
            "  Test took: 0:00:09\n",
            "\n",
            "======== Epoch 5 / 5 ========\n",
            "Training...\n",
            "  Batch    10  of    282.    Elapsed: 0:00:06.\n",
            "  Batch    20  of    282.    Elapsed: 0:00:13.\n",
            "  Batch    30  of    282.    Elapsed: 0:00:19.\n",
            "  Batch    40  of    282.    Elapsed: 0:00:25.\n",
            "  Batch    50  of    282.    Elapsed: 0:00:32.\n",
            "  Batch    60  of    282.    Elapsed: 0:00:38.\n",
            "  Batch    70  of    282.    Elapsed: 0:00:44.\n",
            "  Batch    80  of    282.    Elapsed: 0:00:50.\n",
            "  Batch    90  of    282.    Elapsed: 0:00:57.\n",
            "  Batch   100  of    282.    Elapsed: 0:01:03.\n",
            "  Batch   110  of    282.    Elapsed: 0:01:09.\n",
            "  Batch   120  of    282.    Elapsed: 0:01:16.\n",
            "  Batch   130  of    282.    Elapsed: 0:01:22.\n",
            "  Batch   140  of    282.    Elapsed: 0:01:28.\n",
            "  Batch   150  of    282.    Elapsed: 0:01:35.\n",
            "  Batch   160  of    282.    Elapsed: 0:01:41.\n",
            "  Batch   170  of    282.    Elapsed: 0:01:47.\n",
            "  Batch   180  of    282.    Elapsed: 0:01:54.\n",
            "  Batch   190  of    282.    Elapsed: 0:02:00.\n",
            "  Batch   200  of    282.    Elapsed: 0:02:06.\n",
            "  Batch   210  of    282.    Elapsed: 0:02:13.\n",
            "  Batch   220  of    282.    Elapsed: 0:02:19.\n",
            "  Batch   230  of    282.    Elapsed: 0:02:25.\n",
            "  Batch   240  of    282.    Elapsed: 0:02:31.\n",
            "  Batch   250  of    282.    Elapsed: 0:02:38.\n",
            "  Batch   260  of    282.    Elapsed: 0:02:44.\n",
            "  Batch   270  of    282.    Elapsed: 0:02:50.\n",
            "  Batch   280  of    282.    Elapsed: 0:02:57.\n",
            "\n",
            "  Average training loss generetor: 0.740\n",
            "  Average training loss discriminator: 4.308\n",
            "  Training epcoh took: 0:02:58\n",
            "\n",
            "Running Test...\n",
            "  Accuracy: 0.083\n",
            "  Test Loss: 3.760\n",
            "  Test took: 0:00:09\n"
          ]
        }
      ]
    },
    {
      "cell_type": "code",
      "source": [
        "training_procedure_completion_print(training_stats, total_t0)"
      ],
      "metadata": {
        "colab": {
          "base_uri": "https://localhost:8080/"
        },
        "id": "Gc-ApVKKvC7E",
        "outputId": "a4d6f32d-9f03-4343-c8d6-cb958a6f979e"
      },
      "execution_count": 32,
      "outputs": [
        {
          "output_type": "stream",
          "name": "stdout",
          "text": [
            "{'epoch': 1, 'Training Loss generator': 0.6795390768121954, 'Training Loss discriminator': 6.104566080350402, 'Valid. Loss': 4.759158134460449, 'Valid. Accur.': 0.013777777777777778, 'Training Time': '0:02:58', 'Test Time': '0:00:09'}\n",
            "{'epoch': 2, 'Training Loss generator': 0.74249016181797, 'Training Loss discriminator': 5.360957096654473, 'Valid. Loss': 4.517725467681885, 'Valid. Accur.': 0.014444444444444444, 'Training Time': '0:02:58', 'Test Time': '0:00:09'}\n",
            "{'epoch': 3, 'Training Loss generator': 0.7415161010221387, 'Training Loss discriminator': 5.0496180446435375, 'Valid. Loss': 4.240380764007568, 'Valid. Accur.': 0.03333333333333333, 'Training Time': '0:02:58', 'Test Time': '0:00:09'}\n",
            "{'epoch': 4, 'Training Loss generator': 0.7403974125148557, 'Training Loss discriminator': 4.658806327386951, 'Valid. Loss': 4.070914268493652, 'Valid. Accur.': 0.03933333333333333, 'Training Time': '0:02:58', 'Test Time': '0:00:09'}\n",
            "{'epoch': 5, 'Training Loss generator': 0.7401469053951562, 'Training Loss discriminator': 4.307760827930261, 'Valid. Loss': 3.759648323059082, 'Valid. Accur.': 0.08266666666666667, 'Training Time': '0:02:58', 'Test Time': '0:00:09'}\n",
            "\n",
            "Training complete!\n",
            "Total training took 0:18:42 (h:mm:ss)\n"
          ]
        }
      ]
    },
    {
      "cell_type": "code",
      "source": [
        "training_stats[-1]"
      ],
      "metadata": {
        "colab": {
          "base_uri": "https://localhost:8080/"
        },
        "id": "mIFKs-q8_Grs",
        "outputId": "7cc048e1-c686-4d86-c815-884c54fa2c4d"
      },
      "execution_count": 33,
      "outputs": [
        {
          "output_type": "execute_result",
          "data": {
            "text/plain": [
              "{'Test Time': '0:00:09',\n",
              " 'Training Loss discriminator': 4.307760827930261,\n",
              " 'Training Loss generator': 0.7401469053951562,\n",
              " 'Training Time': '0:02:58',\n",
              " 'Valid. Accur.': 0.08266666666666667,\n",
              " 'Valid. Loss': 3.759648323059082,\n",
              " 'epoch': 5}"
            ]
          },
          "metadata": {},
          "execution_count": 33
        }
      ]
    },
    {
      "cell_type": "markdown",
      "source": [
        "##20_80"
      ],
      "metadata": {
        "id": "x2sNzMzfC0el"
      }
    },
    {
      "cell_type": "code",
      "source": [
        "labeled_file = \"./20_80/labeled.tsv\"\n",
        "unlabeled_file = \"./20_80/unlabeled.tsv\"\n",
        "test_filename = \"./20_80/test.tsv\""
      ],
      "metadata": {
        "id": "KJbq2AEbDGAw"
      },
      "execution_count": 71,
      "outputs": []
    },
    {
      "cell_type": "code",
      "source": [
        "labeled_examples, unlabeled_examples, test_examples = load_the_input_dataset()"
      ],
      "metadata": {
        "id": "oER6_EOIDGAx"
      },
      "execution_count": 72,
      "outputs": []
    },
    {
      "cell_type": "code",
      "source": [
        "len(labeled_examples)"
      ],
      "metadata": {
        "colab": {
          "base_uri": "https://localhost:8080/"
        },
        "outputId": "01fec24d-748a-4ee4-cd20-82a25c29a5f7",
        "id": "qqlf7W1UDGAy"
      },
      "execution_count": 73,
      "outputs": [
        {
          "output_type": "execute_result",
          "data": {
            "text/plain": [
              "3000"
            ]
          },
          "metadata": {},
          "execution_count": 73
        }
      ]
    },
    {
      "cell_type": "code",
      "source": [
        "len(unlabeled_examples)"
      ],
      "metadata": {
        "colab": {
          "base_uri": "https://localhost:8080/"
        },
        "outputId": "1459d6e8-9fd7-4d3a-bde4-4cd4b349c774",
        "id": "5AEVWhCwDGAy"
      },
      "execution_count": 74,
      "outputs": [
        {
          "output_type": "execute_result",
          "data": {
            "text/plain": [
              "12000"
            ]
          },
          "metadata": {},
          "execution_count": 74
        }
      ]
    },
    {
      "cell_type": "code",
      "source": [
        "len(test_examples)"
      ],
      "metadata": {
        "colab": {
          "base_uri": "https://localhost:8080/"
        },
        "id": "PfhqjSP3E6fO",
        "outputId": "8d6ba6e6-a5bd-47ff-e9d4-ff91dfc9959e"
      },
      "execution_count": 75,
      "outputs": [
        {
          "output_type": "execute_result",
          "data": {
            "text/plain": [
              "4500"
            ]
          },
          "metadata": {},
          "execution_count": 75
        }
      ]
    },
    {
      "cell_type": "code",
      "source": [
        "test_dataloader, train_dataloader, train_examples = convert_input_examples_to_dataloader(label_list)"
      ],
      "metadata": {
        "id": "BnoHO_eADGAz"
      },
      "execution_count": 76,
      "outputs": []
    },
    {
      "cell_type": "code",
      "source": [
        "generator, discriminator = instantiate_discriminator_and_generator(transformer)"
      ],
      "metadata": {
        "id": "f5TJtSqPDGAz"
      },
      "execution_count": 77,
      "outputs": []
    },
    {
      "cell_type": "code",
      "source": [
        "training_stats_20, total_t0 = training_procedure_start(test_dataloader, train_dataloader, train_examples, generator, discriminator)"
      ],
      "metadata": {
        "colab": {
          "base_uri": "https://localhost:8080/"
        },
        "outputId": "dd53d19f-64d0-4ba7-d75d-92a96f1c9164",
        "id": "NxrpXFcwDGAz"
      },
      "execution_count": 78,
      "outputs": [
        {
          "output_type": "stream",
          "name": "stdout",
          "text": [
            "\n",
            "======== Epoch 1 / 5 ========\n",
            "Training...\n",
            "  Batch    10  of    282.    Elapsed: 0:00:06.\n",
            "  Batch    20  of    282.    Elapsed: 0:00:13.\n",
            "  Batch    30  of    282.    Elapsed: 0:00:19.\n",
            "  Batch    40  of    282.    Elapsed: 0:00:25.\n",
            "  Batch    50  of    282.    Elapsed: 0:00:32.\n",
            "  Batch    60  of    282.    Elapsed: 0:00:38.\n",
            "  Batch    70  of    282.    Elapsed: 0:00:44.\n",
            "  Batch    80  of    282.    Elapsed: 0:00:51.\n",
            "  Batch    90  of    282.    Elapsed: 0:00:57.\n",
            "  Batch   100  of    282.    Elapsed: 0:01:03.\n",
            "  Batch   110  of    282.    Elapsed: 0:01:09.\n",
            "  Batch   120  of    282.    Elapsed: 0:01:16.\n",
            "  Batch   130  of    282.    Elapsed: 0:01:22.\n",
            "  Batch   140  of    282.    Elapsed: 0:01:28.\n",
            "  Batch   150  of    282.    Elapsed: 0:01:35.\n",
            "  Batch   160  of    282.    Elapsed: 0:01:41.\n",
            "  Batch   170  of    282.    Elapsed: 0:01:47.\n",
            "  Batch   180  of    282.    Elapsed: 0:01:54.\n",
            "  Batch   190  of    282.    Elapsed: 0:02:00.\n",
            "  Batch   200  of    282.    Elapsed: 0:02:06.\n",
            "  Batch   210  of    282.    Elapsed: 0:02:13.\n",
            "  Batch   220  of    282.    Elapsed: 0:02:19.\n",
            "  Batch   230  of    282.    Elapsed: 0:02:25.\n",
            "  Batch   240  of    282.    Elapsed: 0:02:32.\n",
            "  Batch   250  of    282.    Elapsed: 0:02:38.\n",
            "  Batch   260  of    282.    Elapsed: 0:02:44.\n",
            "  Batch   270  of    282.    Elapsed: 0:02:50.\n",
            "  Batch   280  of    282.    Elapsed: 0:02:57.\n",
            "\n",
            "  Average training loss generetor: 0.680\n",
            "  Average training loss discriminator: 5.566\n",
            "  Training epcoh took: 0:02:58\n",
            "\n",
            "Running Test...\n",
            "  Accuracy: 0.068\n",
            "  Test Loss: 3.893\n",
            "  Test took: 0:00:09\n",
            "\n",
            "======== Epoch 2 / 5 ========\n",
            "Training...\n",
            "  Batch    10  of    282.    Elapsed: 0:00:06.\n",
            "  Batch    20  of    282.    Elapsed: 0:00:13.\n",
            "  Batch    30  of    282.    Elapsed: 0:00:19.\n",
            "  Batch    40  of    282.    Elapsed: 0:00:25.\n",
            "  Batch    50  of    282.    Elapsed: 0:00:32.\n",
            "  Batch    60  of    282.    Elapsed: 0:00:38.\n",
            "  Batch    70  of    282.    Elapsed: 0:00:44.\n",
            "  Batch    80  of    282.    Elapsed: 0:00:51.\n",
            "  Batch    90  of    282.    Elapsed: 0:00:57.\n",
            "  Batch   100  of    282.    Elapsed: 0:01:03.\n",
            "  Batch   110  of    282.    Elapsed: 0:01:09.\n",
            "  Batch   120  of    282.    Elapsed: 0:01:16.\n",
            "  Batch   130  of    282.    Elapsed: 0:01:22.\n",
            "  Batch   140  of    282.    Elapsed: 0:01:28.\n",
            "  Batch   150  of    282.    Elapsed: 0:01:35.\n",
            "  Batch   160  of    282.    Elapsed: 0:01:41.\n",
            "  Batch   170  of    282.    Elapsed: 0:01:47.\n",
            "  Batch   180  of    282.    Elapsed: 0:01:54.\n",
            "  Batch   190  of    282.    Elapsed: 0:02:00.\n",
            "  Batch   200  of    282.    Elapsed: 0:02:06.\n",
            "  Batch   210  of    282.    Elapsed: 0:02:13.\n",
            "  Batch   220  of    282.    Elapsed: 0:02:19.\n",
            "  Batch   230  of    282.    Elapsed: 0:02:25.\n",
            "  Batch   240  of    282.    Elapsed: 0:02:31.\n",
            "  Batch   250  of    282.    Elapsed: 0:02:38.\n",
            "  Batch   260  of    282.    Elapsed: 0:02:44.\n",
            "  Batch   270  of    282.    Elapsed: 0:02:50.\n",
            "  Batch   280  of    282.    Elapsed: 0:02:57.\n",
            "\n",
            "  Average training loss generetor: 0.757\n",
            "  Average training loss discriminator: 4.291\n",
            "  Training epcoh took: 0:02:58\n",
            "\n",
            "Running Test...\n",
            "  Accuracy: 0.093\n",
            "  Test Loss: 3.570\n",
            "  Test took: 0:00:09\n",
            "\n",
            "======== Epoch 3 / 5 ========\n",
            "Training...\n",
            "  Batch    10  of    282.    Elapsed: 0:00:06.\n",
            "  Batch    20  of    282.    Elapsed: 0:00:13.\n",
            "  Batch    30  of    282.    Elapsed: 0:00:19.\n",
            "  Batch    40  of    282.    Elapsed: 0:00:25.\n",
            "  Batch    50  of    282.    Elapsed: 0:00:32.\n",
            "  Batch    60  of    282.    Elapsed: 0:00:38.\n",
            "  Batch    70  of    282.    Elapsed: 0:00:44.\n",
            "  Batch    80  of    282.    Elapsed: 0:00:50.\n",
            "  Batch    90  of    282.    Elapsed: 0:00:57.\n",
            "  Batch   100  of    282.    Elapsed: 0:01:03.\n",
            "  Batch   110  of    282.    Elapsed: 0:01:09.\n",
            "  Batch   120  of    282.    Elapsed: 0:01:16.\n",
            "  Batch   130  of    282.    Elapsed: 0:01:22.\n",
            "  Batch   140  of    282.    Elapsed: 0:01:28.\n",
            "  Batch   150  of    282.    Elapsed: 0:01:35.\n",
            "  Batch   160  of    282.    Elapsed: 0:01:41.\n",
            "  Batch   170  of    282.    Elapsed: 0:01:47.\n",
            "  Batch   180  of    282.    Elapsed: 0:01:54.\n",
            "  Batch   190  of    282.    Elapsed: 0:02:00.\n",
            "  Batch   200  of    282.    Elapsed: 0:02:06.\n",
            "  Batch   210  of    282.    Elapsed: 0:02:13.\n",
            "  Batch   220  of    282.    Elapsed: 0:02:19.\n",
            "  Batch   230  of    282.    Elapsed: 0:02:25.\n",
            "  Batch   240  of    282.    Elapsed: 0:02:31.\n",
            "  Batch   250  of    282.    Elapsed: 0:02:38.\n",
            "  Batch   260  of    282.    Elapsed: 0:02:44.\n",
            "  Batch   270  of    282.    Elapsed: 0:02:50.\n",
            "  Batch   280  of    282.    Elapsed: 0:02:57.\n",
            "\n",
            "  Average training loss generetor: 0.742\n",
            "  Average training loss discriminator: 3.888\n",
            "  Training epcoh took: 0:02:58\n",
            "\n",
            "Running Test...\n",
            "  Accuracy: 0.155\n",
            "  Test Loss: 3.204\n",
            "  Test took: 0:00:09\n",
            "\n",
            "======== Epoch 4 / 5 ========\n",
            "Training...\n",
            "  Batch    10  of    282.    Elapsed: 0:00:06.\n",
            "  Batch    20  of    282.    Elapsed: 0:00:13.\n",
            "  Batch    30  of    282.    Elapsed: 0:00:19.\n",
            "  Batch    40  of    282.    Elapsed: 0:00:25.\n",
            "  Batch    50  of    282.    Elapsed: 0:00:32.\n",
            "  Batch    60  of    282.    Elapsed: 0:00:38.\n",
            "  Batch    70  of    282.    Elapsed: 0:00:44.\n",
            "  Batch    80  of    282.    Elapsed: 0:00:50.\n",
            "  Batch    90  of    282.    Elapsed: 0:00:57.\n",
            "  Batch   100  of    282.    Elapsed: 0:01:03.\n",
            "  Batch   110  of    282.    Elapsed: 0:01:09.\n",
            "  Batch   120  of    282.    Elapsed: 0:01:16.\n",
            "  Batch   130  of    282.    Elapsed: 0:01:22.\n",
            "  Batch   140  of    282.    Elapsed: 0:01:28.\n",
            "  Batch   150  of    282.    Elapsed: 0:01:35.\n",
            "  Batch   160  of    282.    Elapsed: 0:01:41.\n",
            "  Batch   170  of    282.    Elapsed: 0:01:47.\n",
            "  Batch   180  of    282.    Elapsed: 0:01:54.\n",
            "  Batch   190  of    282.    Elapsed: 0:02:00.\n",
            "  Batch   200  of    282.    Elapsed: 0:02:06.\n",
            "  Batch   210  of    282.    Elapsed: 0:02:13.\n",
            "  Batch   220  of    282.    Elapsed: 0:02:19.\n",
            "  Batch   230  of    282.    Elapsed: 0:02:25.\n",
            "  Batch   240  of    282.    Elapsed: 0:02:31.\n",
            "  Batch   250  of    282.    Elapsed: 0:02:38.\n",
            "  Batch   260  of    282.    Elapsed: 0:02:44.\n",
            "  Batch   270  of    282.    Elapsed: 0:02:50.\n",
            "  Batch   280  of    282.    Elapsed: 0:02:57.\n",
            "\n",
            "  Average training loss generetor: 0.736\n",
            "  Average training loss discriminator: 3.471\n",
            "  Training epcoh took: 0:02:58\n",
            "\n",
            "Running Test...\n",
            "  Accuracy: 0.209\n",
            "  Test Loss: 2.934\n",
            "  Test took: 0:00:09\n",
            "\n",
            "======== Epoch 5 / 5 ========\n",
            "Training...\n",
            "  Batch    10  of    282.    Elapsed: 0:00:06.\n",
            "  Batch    20  of    282.    Elapsed: 0:00:13.\n",
            "  Batch    30  of    282.    Elapsed: 0:00:19.\n",
            "  Batch    40  of    282.    Elapsed: 0:00:25.\n",
            "  Batch    50  of    282.    Elapsed: 0:00:32.\n",
            "  Batch    60  of    282.    Elapsed: 0:00:38.\n",
            "  Batch    70  of    282.    Elapsed: 0:00:44.\n",
            "  Batch    80  of    282.    Elapsed: 0:00:50.\n",
            "  Batch    90  of    282.    Elapsed: 0:00:57.\n",
            "  Batch   100  of    282.    Elapsed: 0:01:03.\n",
            "  Batch   110  of    282.    Elapsed: 0:01:09.\n",
            "  Batch   120  of    282.    Elapsed: 0:01:16.\n",
            "  Batch   130  of    282.    Elapsed: 0:01:22.\n",
            "  Batch   140  of    282.    Elapsed: 0:01:28.\n",
            "  Batch   150  of    282.    Elapsed: 0:01:35.\n",
            "  Batch   160  of    282.    Elapsed: 0:01:41.\n",
            "  Batch   170  of    282.    Elapsed: 0:01:47.\n",
            "  Batch   180  of    282.    Elapsed: 0:01:54.\n",
            "  Batch   190  of    282.    Elapsed: 0:02:00.\n",
            "  Batch   200  of    282.    Elapsed: 0:02:06.\n",
            "  Batch   210  of    282.    Elapsed: 0:02:13.\n",
            "  Batch   220  of    282.    Elapsed: 0:02:19.\n",
            "  Batch   230  of    282.    Elapsed: 0:02:25.\n",
            "  Batch   240  of    282.    Elapsed: 0:02:31.\n",
            "  Batch   250  of    282.    Elapsed: 0:02:38.\n",
            "  Batch   260  of    282.    Elapsed: 0:02:44.\n",
            "  Batch   270  of    282.    Elapsed: 0:02:50.\n",
            "  Batch   280  of    282.    Elapsed: 0:02:57.\n",
            "\n",
            "  Average training loss generetor: 0.732\n",
            "  Average training loss discriminator: 3.079\n",
            "  Training epcoh took: 0:02:58\n",
            "\n",
            "Running Test...\n",
            "  Accuracy: 0.229\n",
            "  Test Loss: 2.726\n",
            "  Test took: 0:00:09\n"
          ]
        }
      ]
    },
    {
      "cell_type": "code",
      "source": [
        "training_procedure_completion_print(training_stats_20, total_t0)"
      ],
      "metadata": {
        "colab": {
          "base_uri": "https://localhost:8080/"
        },
        "outputId": "cce4a1a3-df19-4f1d-a55d-cddd19415acf",
        "id": "v326QeDHDGA0"
      },
      "execution_count": 79,
      "outputs": [
        {
          "output_type": "stream",
          "name": "stdout",
          "text": [
            "{'epoch': 1, 'Training Loss generator': 0.6801863274015222, 'Training Loss discriminator': 5.565615554227897, 'Valid. Loss': 3.8933324813842773, 'Valid. Accur.': 0.06777777777777778, 'Training Time': '0:02:58', 'Test Time': '0:00:09'}\n",
            "{'epoch': 2, 'Training Loss generator': 0.7571967844421982, 'Training Loss discriminator': 4.290530903965023, 'Valid. Loss': 3.5699799060821533, 'Valid. Accur.': 0.09266666666666666, 'Training Time': '0:02:58', 'Test Time': '0:00:09'}\n",
            "{'epoch': 3, 'Training Loss generator': 0.7421231669314364, 'Training Loss discriminator': 3.887969744966385, 'Valid. Loss': 3.2043378353118896, 'Valid. Accur.': 0.15488888888888888, 'Training Time': '0:02:58', 'Test Time': '0:00:09'}\n",
            "{'epoch': 4, 'Training Loss generator': 0.7356071973100622, 'Training Loss discriminator': 3.4706982974465013, 'Valid. Loss': 2.934365749359131, 'Valid. Accur.': 0.20866666666666667, 'Training Time': '0:02:58', 'Test Time': '0:00:09'}\n",
            "{'epoch': 5, 'Training Loss generator': 0.7324373377553115, 'Training Loss discriminator': 3.078514690094806, 'Valid. Loss': 2.726079225540161, 'Valid. Accur.': 0.22866666666666666, 'Training Time': '0:02:58', 'Test Time': '0:00:09'}\n",
            "\n",
            "Training complete!\n",
            "Total training took 0:22:30 (h:mm:ss)\n"
          ]
        }
      ]
    },
    {
      "cell_type": "code",
      "source": [
        "training_stats_20[-1]"
      ],
      "metadata": {
        "colab": {
          "base_uri": "https://localhost:8080/"
        },
        "outputId": "dd31ce1f-7a6e-4759-8dfc-1dd007d37a3c",
        "id": "P4GHkkJBDGA0"
      },
      "execution_count": 80,
      "outputs": [
        {
          "output_type": "execute_result",
          "data": {
            "text/plain": [
              "{'Test Time': '0:00:09',\n",
              " 'Training Loss discriminator': 3.078514690094806,\n",
              " 'Training Loss generator': 0.7324373377553115,\n",
              " 'Training Time': '0:02:58',\n",
              " 'Valid. Accur.': 0.22866666666666666,\n",
              " 'Valid. Loss': 2.726079225540161,\n",
              " 'epoch': 5}"
            ]
          },
          "metadata": {},
          "execution_count": 80
        }
      ]
    },
    {
      "cell_type": "code",
      "source": [
        "#num_train_epochs = 5"
      ],
      "metadata": {
        "id": "XpggRXG0OjJO"
      },
      "execution_count": null,
      "outputs": []
    },
    {
      "cell_type": "markdown",
      "source": [
        "##30_70"
      ],
      "metadata": {
        "id": "Sg2aYWrfGnUK"
      }
    },
    {
      "cell_type": "code",
      "source": [
        "labeled_file = \"./30_70/labeled.tsv\"\n",
        "unlabeled_file = \"./30_70/unlabeled.tsv\"\n",
        "test_filename = \"./30_70/test.tsv\""
      ],
      "metadata": {
        "id": "C17pjqXBGnUL"
      },
      "execution_count": 81,
      "outputs": []
    },
    {
      "cell_type": "code",
      "source": [
        "labeled_examples, unlabeled_examples, test_examples = load_the_input_dataset()"
      ],
      "metadata": {
        "id": "HyuAIEhtGnUL"
      },
      "execution_count": 82,
      "outputs": []
    },
    {
      "cell_type": "code",
      "source": [
        "len(labeled_examples)"
      ],
      "metadata": {
        "colab": {
          "base_uri": "https://localhost:8080/"
        },
        "outputId": "cb674ee5-5e53-415b-dd31-b8f5544d06a6",
        "id": "Sy0n5TidGnUL"
      },
      "execution_count": 83,
      "outputs": [
        {
          "output_type": "execute_result",
          "data": {
            "text/plain": [
              "4500"
            ]
          },
          "metadata": {},
          "execution_count": 83
        }
      ]
    },
    {
      "cell_type": "code",
      "source": [
        "len(unlabeled_examples)"
      ],
      "metadata": {
        "colab": {
          "base_uri": "https://localhost:8080/"
        },
        "outputId": "eb30d007-7351-4613-a8f8-66d871983c6c",
        "id": "u8IPPAY9GnUM"
      },
      "execution_count": 84,
      "outputs": [
        {
          "output_type": "execute_result",
          "data": {
            "text/plain": [
              "10500"
            ]
          },
          "metadata": {},
          "execution_count": 84
        }
      ]
    },
    {
      "cell_type": "code",
      "source": [
        "len(test_examples)"
      ],
      "metadata": {
        "colab": {
          "base_uri": "https://localhost:8080/"
        },
        "outputId": "1fe167ab-bdf5-49c1-996a-93e8af4f565e",
        "id": "s615E3FgGnUM"
      },
      "execution_count": 85,
      "outputs": [
        {
          "output_type": "execute_result",
          "data": {
            "text/plain": [
              "4500"
            ]
          },
          "metadata": {},
          "execution_count": 85
        }
      ]
    },
    {
      "cell_type": "code",
      "source": [
        "test_dataloader, train_dataloader, train_examples = convert_input_examples_to_dataloader(label_list)"
      ],
      "metadata": {
        "id": "H76yRdwSGnUM"
      },
      "execution_count": 86,
      "outputs": []
    },
    {
      "cell_type": "code",
      "source": [
        "generator, discriminator = instantiate_discriminator_and_generator(transformer)"
      ],
      "metadata": {
        "id": "LYAA4At_GnUM"
      },
      "execution_count": 87,
      "outputs": []
    },
    {
      "cell_type": "code",
      "source": [
        "training_stats_30, total_t0 = training_procedure_start(test_dataloader, train_dataloader, train_examples, generator, discriminator)"
      ],
      "metadata": {
        "colab": {
          "base_uri": "https://localhost:8080/"
        },
        "outputId": "c85f358f-7840-4dd7-d352-a8c0181e2868",
        "id": "wje7fHObGnUM"
      },
      "execution_count": 88,
      "outputs": [
        {
          "output_type": "stream",
          "name": "stdout",
          "text": [
            "\n",
            "======== Epoch 1 / 5 ========\n",
            "Training...\n",
            "  Batch    10  of    235.    Elapsed: 0:00:06.\n",
            "  Batch    20  of    235.    Elapsed: 0:00:13.\n",
            "  Batch    30  of    235.    Elapsed: 0:00:19.\n",
            "  Batch    40  of    235.    Elapsed: 0:00:25.\n",
            "  Batch    50  of    235.    Elapsed: 0:00:32.\n",
            "  Batch    60  of    235.    Elapsed: 0:00:38.\n",
            "  Batch    70  of    235.    Elapsed: 0:00:44.\n",
            "  Batch    80  of    235.    Elapsed: 0:00:51.\n",
            "  Batch    90  of    235.    Elapsed: 0:00:57.\n",
            "  Batch   100  of    235.    Elapsed: 0:01:03.\n",
            "  Batch   110  of    235.    Elapsed: 0:01:09.\n",
            "  Batch   120  of    235.    Elapsed: 0:01:16.\n",
            "  Batch   130  of    235.    Elapsed: 0:01:22.\n",
            "  Batch   140  of    235.    Elapsed: 0:01:28.\n",
            "  Batch   150  of    235.    Elapsed: 0:01:35.\n",
            "  Batch   160  of    235.    Elapsed: 0:01:41.\n",
            "  Batch   170  of    235.    Elapsed: 0:01:47.\n",
            "  Batch   180  of    235.    Elapsed: 0:01:54.\n",
            "  Batch   190  of    235.    Elapsed: 0:02:00.\n",
            "  Batch   200  of    235.    Elapsed: 0:02:06.\n",
            "  Batch   210  of    235.    Elapsed: 0:02:13.\n",
            "  Batch   220  of    235.    Elapsed: 0:02:19.\n",
            "  Batch   230  of    235.    Elapsed: 0:02:25.\n",
            "\n",
            "  Average training loss generetor: 0.655\n",
            "  Average training loss discriminator: 5.518\n",
            "  Training epcoh took: 0:02:28\n",
            "\n",
            "Running Test...\n",
            "  Accuracy: 0.197\n",
            "  Test Loss: 3.459\n",
            "  Test took: 0:00:09\n",
            "\n",
            "======== Epoch 2 / 5 ========\n",
            "Training...\n",
            "  Batch    10  of    235.    Elapsed: 0:00:06.\n",
            "  Batch    20  of    235.    Elapsed: 0:00:13.\n",
            "  Batch    30  of    235.    Elapsed: 0:00:19.\n",
            "  Batch    40  of    235.    Elapsed: 0:00:25.\n",
            "  Batch    50  of    235.    Elapsed: 0:00:32.\n",
            "  Batch    60  of    235.    Elapsed: 0:00:38.\n",
            "  Batch    70  of    235.    Elapsed: 0:00:44.\n",
            "  Batch    80  of    235.    Elapsed: 0:00:50.\n",
            "  Batch    90  of    235.    Elapsed: 0:00:57.\n",
            "  Batch   100  of    235.    Elapsed: 0:01:03.\n",
            "  Batch   110  of    235.    Elapsed: 0:01:09.\n",
            "  Batch   120  of    235.    Elapsed: 0:01:16.\n",
            "  Batch   130  of    235.    Elapsed: 0:01:22.\n",
            "  Batch   140  of    235.    Elapsed: 0:01:29.\n",
            "  Batch   150  of    235.    Elapsed: 0:01:35.\n",
            "  Batch   160  of    235.    Elapsed: 0:01:41.\n",
            "  Batch   170  of    235.    Elapsed: 0:01:47.\n",
            "  Batch   180  of    235.    Elapsed: 0:01:54.\n",
            "  Batch   190  of    235.    Elapsed: 0:02:00.\n",
            "  Batch   200  of    235.    Elapsed: 0:02:06.\n",
            "  Batch   210  of    235.    Elapsed: 0:02:13.\n",
            "  Batch   220  of    235.    Elapsed: 0:02:19.\n",
            "  Batch   230  of    235.    Elapsed: 0:02:25.\n",
            "\n",
            "  Average training loss generetor: 0.765\n",
            "  Average training loss discriminator: 3.668\n",
            "  Training epcoh took: 0:02:28\n",
            "\n",
            "Running Test...\n",
            "  Accuracy: 0.288\n",
            "  Test Loss: 2.793\n",
            "  Test took: 0:00:09\n",
            "\n",
            "======== Epoch 3 / 5 ========\n",
            "Training...\n",
            "  Batch    10  of    235.    Elapsed: 0:00:06.\n",
            "  Batch    20  of    235.    Elapsed: 0:00:13.\n",
            "  Batch    30  of    235.    Elapsed: 0:00:19.\n",
            "  Batch    40  of    235.    Elapsed: 0:00:25.\n",
            "  Batch    50  of    235.    Elapsed: 0:00:32.\n",
            "  Batch    60  of    235.    Elapsed: 0:00:38.\n",
            "  Batch    70  of    235.    Elapsed: 0:00:44.\n",
            "  Batch    80  of    235.    Elapsed: 0:00:51.\n",
            "  Batch    90  of    235.    Elapsed: 0:00:57.\n",
            "  Batch   100  of    235.    Elapsed: 0:01:03.\n",
            "  Batch   110  of    235.    Elapsed: 0:01:09.\n",
            "  Batch   120  of    235.    Elapsed: 0:01:16.\n",
            "  Batch   130  of    235.    Elapsed: 0:01:22.\n",
            "  Batch   140  of    235.    Elapsed: 0:01:28.\n",
            "  Batch   150  of    235.    Elapsed: 0:01:35.\n",
            "  Batch   160  of    235.    Elapsed: 0:01:41.\n",
            "  Batch   170  of    235.    Elapsed: 0:01:47.\n",
            "  Batch   180  of    235.    Elapsed: 0:01:54.\n",
            "  Batch   190  of    235.    Elapsed: 0:02:00.\n",
            "  Batch   200  of    235.    Elapsed: 0:02:06.\n",
            "  Batch   210  of    235.    Elapsed: 0:02:13.\n",
            "  Batch   220  of    235.    Elapsed: 0:02:19.\n",
            "  Batch   230  of    235.    Elapsed: 0:02:25.\n",
            "\n",
            "  Average training loss generetor: 0.753\n",
            "  Average training loss discriminator: 3.123\n",
            "  Training epcoh took: 0:02:28\n",
            "\n",
            "Running Test...\n",
            "  Accuracy: 0.309\n",
            "  Test Loss: 2.529\n",
            "  Test took: 0:00:09\n",
            "\n",
            "======== Epoch 4 / 5 ========\n",
            "Training...\n",
            "  Batch    10  of    235.    Elapsed: 0:00:06.\n",
            "  Batch    20  of    235.    Elapsed: 0:00:13.\n",
            "  Batch    30  of    235.    Elapsed: 0:00:19.\n",
            "  Batch    40  of    235.    Elapsed: 0:00:25.\n",
            "  Batch    50  of    235.    Elapsed: 0:00:32.\n",
            "  Batch    60  of    235.    Elapsed: 0:00:38.\n",
            "  Batch    70  of    235.    Elapsed: 0:00:44.\n",
            "  Batch    80  of    235.    Elapsed: 0:00:50.\n",
            "  Batch    90  of    235.    Elapsed: 0:00:57.\n",
            "  Batch   100  of    235.    Elapsed: 0:01:03.\n",
            "  Batch   110  of    235.    Elapsed: 0:01:09.\n",
            "  Batch   120  of    235.    Elapsed: 0:01:16.\n",
            "  Batch   130  of    235.    Elapsed: 0:01:22.\n",
            "  Batch   140  of    235.    Elapsed: 0:01:28.\n",
            "  Batch   150  of    235.    Elapsed: 0:01:35.\n",
            "  Batch   160  of    235.    Elapsed: 0:01:41.\n",
            "  Batch   170  of    235.    Elapsed: 0:01:47.\n",
            "  Batch   180  of    235.    Elapsed: 0:01:54.\n",
            "  Batch   190  of    235.    Elapsed: 0:02:00.\n",
            "  Batch   200  of    235.    Elapsed: 0:02:06.\n",
            "  Batch   210  of    235.    Elapsed: 0:02:13.\n",
            "  Batch   220  of    235.    Elapsed: 0:02:19.\n",
            "  Batch   230  of    235.    Elapsed: 0:02:25.\n",
            "\n",
            "  Average training loss generetor: 0.742\n",
            "  Average training loss discriminator: 2.762\n",
            "  Training epcoh took: 0:02:28\n",
            "\n",
            "Running Test...\n",
            "  Accuracy: 0.403\n",
            "  Test Loss: 2.242\n",
            "  Test took: 0:00:09\n",
            "\n",
            "======== Epoch 5 / 5 ========\n",
            "Training...\n",
            "  Batch    10  of    235.    Elapsed: 0:00:06.\n",
            "  Batch    20  of    235.    Elapsed: 0:00:13.\n",
            "  Batch    30  of    235.    Elapsed: 0:00:19.\n",
            "  Batch    40  of    235.    Elapsed: 0:00:25.\n",
            "  Batch    50  of    235.    Elapsed: 0:00:32.\n",
            "  Batch    60  of    235.    Elapsed: 0:00:38.\n",
            "  Batch    70  of    235.    Elapsed: 0:00:44.\n",
            "  Batch    80  of    235.    Elapsed: 0:00:50.\n",
            "  Batch    90  of    235.    Elapsed: 0:00:57.\n",
            "  Batch   100  of    235.    Elapsed: 0:01:03.\n",
            "  Batch   110  of    235.    Elapsed: 0:01:09.\n",
            "  Batch   120  of    235.    Elapsed: 0:01:16.\n",
            "  Batch   130  of    235.    Elapsed: 0:01:22.\n",
            "  Batch   140  of    235.    Elapsed: 0:01:28.\n",
            "  Batch   150  of    235.    Elapsed: 0:01:35.\n",
            "  Batch   160  of    235.    Elapsed: 0:01:41.\n",
            "  Batch   170  of    235.    Elapsed: 0:01:47.\n",
            "  Batch   180  of    235.    Elapsed: 0:01:54.\n",
            "  Batch   190  of    235.    Elapsed: 0:02:00.\n",
            "  Batch   200  of    235.    Elapsed: 0:02:06.\n",
            "  Batch   210  of    235.    Elapsed: 0:02:13.\n",
            "  Batch   220  of    235.    Elapsed: 0:02:19.\n",
            "  Batch   230  of    235.    Elapsed: 0:02:25.\n",
            "\n",
            "  Average training loss generetor: 0.734\n",
            "  Average training loss discriminator: 2.450\n",
            "  Training epcoh took: 0:02:28\n",
            "\n",
            "Running Test...\n",
            "  Accuracy: 0.481\n",
            "  Test Loss: 1.995\n",
            "  Test took: 0:00:09\n"
          ]
        }
      ]
    },
    {
      "cell_type": "code",
      "source": [
        "training_procedure_completion_print(training_stats_30, total_t0)"
      ],
      "metadata": {
        "colab": {
          "base_uri": "https://localhost:8080/"
        },
        "outputId": "220e0bb2-3f7c-4efd-a03e-f3795444c6fe",
        "id": "P7ZbeHuaGnUM"
      },
      "execution_count": 89,
      "outputs": [
        {
          "output_type": "stream",
          "name": "stdout",
          "text": [
            "{'epoch': 1, 'Training Loss generator': 0.6545066728553873, 'Training Loss discriminator': 5.518177624966236, 'Valid. Loss': 3.4592747688293457, 'Valid. Accur.': 0.1971111111111111, 'Training Time': '0:02:28', 'Test Time': '0:00:09'}\n",
            "{'epoch': 2, 'Training Loss generator': 0.7653721198122552, 'Training Loss discriminator': 3.667679969300615, 'Valid. Loss': 2.793306589126587, 'Valid. Accur.': 0.28755555555555556, 'Training Time': '0:02:28', 'Test Time': '0:00:09'}\n",
            "{'epoch': 3, 'Training Loss generator': 0.7534596511658201, 'Training Loss discriminator': 3.1225903521192833, 'Valid. Loss': 2.5291543006896973, 'Valid. Accur.': 0.3091111111111111, 'Training Time': '0:02:28', 'Test Time': '0:00:09'}\n",
            "{'epoch': 4, 'Training Loss generator': 0.7417518293603937, 'Training Loss discriminator': 2.7621411810529994, 'Valid. Loss': 2.241874933242798, 'Valid. Accur.': 0.4028888888888889, 'Training Time': '0:02:28', 'Test Time': '0:00:09'}\n",
            "{'epoch': 5, 'Training Loss generator': 0.7335847481768182, 'Training Loss discriminator': 2.4501230787723625, 'Valid. Loss': 1.9952754974365234, 'Valid. Accur.': 0.48133333333333334, 'Training Time': '0:02:28', 'Test Time': '0:00:09'}\n",
            "\n",
            "Training complete!\n",
            "Total training took 0:15:15 (h:mm:ss)\n"
          ]
        }
      ]
    },
    {
      "cell_type": "code",
      "source": [
        "training_stats_30[-1]"
      ],
      "metadata": {
        "colab": {
          "base_uri": "https://localhost:8080/"
        },
        "outputId": "10d10dbf-9f90-4d87-8ad0-03d2cc0a02ce",
        "id": "85ctEpKdGnUN"
      },
      "execution_count": 90,
      "outputs": [
        {
          "output_type": "execute_result",
          "data": {
            "text/plain": [
              "{'Test Time': '0:00:09',\n",
              " 'Training Loss discriminator': 2.4501230787723625,\n",
              " 'Training Loss generator': 0.7335847481768182,\n",
              " 'Training Time': '0:02:28',\n",
              " 'Valid. Accur.': 0.48133333333333334,\n",
              " 'Valid. Loss': 1.9952754974365234,\n",
              " 'epoch': 5}"
            ]
          },
          "metadata": {},
          "execution_count": 90
        }
      ]
    },
    {
      "cell_type": "markdown",
      "source": [
        "##40_60"
      ],
      "metadata": {
        "id": "PHN-rjWRG5BL"
      }
    },
    {
      "cell_type": "code",
      "source": [
        "labeled_file = \"./40_60/labeled.tsv\"\n",
        "unlabeled_file = \"./40_60/unlabeled.tsv\"\n",
        "test_filename = \"./40_60/test.tsv\""
      ],
      "metadata": {
        "id": "SI8CXuC_G5BL"
      },
      "execution_count": 91,
      "outputs": []
    },
    {
      "cell_type": "code",
      "source": [
        "labeled_examples, unlabeled_examples, test_examples = load_the_input_dataset()"
      ],
      "metadata": {
        "id": "3bJndoWQG5BM"
      },
      "execution_count": 92,
      "outputs": []
    },
    {
      "cell_type": "code",
      "source": [
        "len(labeled_examples)"
      ],
      "metadata": {
        "colab": {
          "base_uri": "https://localhost:8080/"
        },
        "outputId": "5fb64d86-f9a6-4fac-811b-f43b886a35b1",
        "id": "4yi4Y_q8G5BM"
      },
      "execution_count": 93,
      "outputs": [
        {
          "output_type": "execute_result",
          "data": {
            "text/plain": [
              "6000"
            ]
          },
          "metadata": {},
          "execution_count": 93
        }
      ]
    },
    {
      "cell_type": "code",
      "source": [
        "len(unlabeled_examples)"
      ],
      "metadata": {
        "colab": {
          "base_uri": "https://localhost:8080/"
        },
        "outputId": "fc4a7e1e-d296-48ae-94f5-570aafd307a0",
        "id": "CdlIotJ1G5BN"
      },
      "execution_count": 94,
      "outputs": [
        {
          "output_type": "execute_result",
          "data": {
            "text/plain": [
              "9000"
            ]
          },
          "metadata": {},
          "execution_count": 94
        }
      ]
    },
    {
      "cell_type": "code",
      "source": [
        "len(test_examples)"
      ],
      "metadata": {
        "colab": {
          "base_uri": "https://localhost:8080/"
        },
        "outputId": "e8495b4e-9ebc-427a-c6ee-459c8218fc77",
        "id": "56uRf6g_G5BN"
      },
      "execution_count": 95,
      "outputs": [
        {
          "output_type": "execute_result",
          "data": {
            "text/plain": [
              "4500"
            ]
          },
          "metadata": {},
          "execution_count": 95
        }
      ]
    },
    {
      "cell_type": "code",
      "source": [
        "test_dataloader, train_dataloader, train_examples = convert_input_examples_to_dataloader(label_list)"
      ],
      "metadata": {
        "id": "n3REQeClG5BN"
      },
      "execution_count": 96,
      "outputs": []
    },
    {
      "cell_type": "code",
      "source": [
        "generator, discriminator = instantiate_discriminator_and_generator(transformer)"
      ],
      "metadata": {
        "id": "PVcUnCeWG5BO"
      },
      "execution_count": 97,
      "outputs": []
    },
    {
      "cell_type": "code",
      "source": [
        "training_stats_40, total_t0 = training_procedure_start(test_dataloader, train_dataloader, train_examples, generator, discriminator)"
      ],
      "metadata": {
        "colab": {
          "base_uri": "https://localhost:8080/"
        },
        "outputId": "bf05db65-ab61-46b1-95fc-9797c9ab1af9",
        "id": "v56OoHXTG5BO"
      },
      "execution_count": 98,
      "outputs": [
        {
          "output_type": "stream",
          "name": "stdout",
          "text": [
            "\n",
            "======== Epoch 1 / 5 ========\n",
            "Training...\n",
            "  Batch    10  of    235.    Elapsed: 0:00:06.\n",
            "  Batch    20  of    235.    Elapsed: 0:00:13.\n",
            "  Batch    30  of    235.    Elapsed: 0:00:19.\n",
            "  Batch    40  of    235.    Elapsed: 0:00:25.\n",
            "  Batch    50  of    235.    Elapsed: 0:00:32.\n",
            "  Batch    60  of    235.    Elapsed: 0:00:38.\n",
            "  Batch    70  of    235.    Elapsed: 0:00:44.\n",
            "  Batch    80  of    235.    Elapsed: 0:00:51.\n",
            "  Batch    90  of    235.    Elapsed: 0:00:57.\n",
            "  Batch   100  of    235.    Elapsed: 0:01:03.\n",
            "  Batch   110  of    235.    Elapsed: 0:01:09.\n",
            "  Batch   120  of    235.    Elapsed: 0:01:16.\n",
            "  Batch   130  of    235.    Elapsed: 0:01:22.\n",
            "  Batch   140  of    235.    Elapsed: 0:01:28.\n",
            "  Batch   150  of    235.    Elapsed: 0:01:35.\n",
            "  Batch   160  of    235.    Elapsed: 0:01:41.\n",
            "  Batch   170  of    235.    Elapsed: 0:01:47.\n",
            "  Batch   180  of    235.    Elapsed: 0:01:54.\n",
            "  Batch   190  of    235.    Elapsed: 0:02:00.\n",
            "  Batch   200  of    235.    Elapsed: 0:02:06.\n",
            "  Batch   210  of    235.    Elapsed: 0:02:13.\n",
            "  Batch   220  of    235.    Elapsed: 0:02:19.\n",
            "  Batch   230  of    235.    Elapsed: 0:02:25.\n",
            "\n",
            "  Average training loss generetor: 0.674\n",
            "  Average training loss discriminator: 5.076\n",
            "  Training epcoh took: 0:02:28\n",
            "\n",
            "Running Test...\n",
            "  Accuracy: 0.396\n",
            "  Test Loss: 2.935\n",
            "  Test took: 0:00:09\n",
            "\n",
            "======== Epoch 2 / 5 ========\n",
            "Training...\n",
            "  Batch    10  of    235.    Elapsed: 0:00:06.\n",
            "  Batch    20  of    235.    Elapsed: 0:00:13.\n",
            "  Batch    30  of    235.    Elapsed: 0:00:19.\n",
            "  Batch    40  of    235.    Elapsed: 0:00:25.\n",
            "  Batch    50  of    235.    Elapsed: 0:00:32.\n",
            "  Batch    60  of    235.    Elapsed: 0:00:38.\n",
            "  Batch    70  of    235.    Elapsed: 0:00:44.\n",
            "  Batch    80  of    235.    Elapsed: 0:00:50.\n",
            "  Batch    90  of    235.    Elapsed: 0:00:57.\n",
            "  Batch   100  of    235.    Elapsed: 0:01:03.\n",
            "  Batch   110  of    235.    Elapsed: 0:01:09.\n",
            "  Batch   120  of    235.    Elapsed: 0:01:16.\n",
            "  Batch   130  of    235.    Elapsed: 0:01:22.\n",
            "  Batch   140  of    235.    Elapsed: 0:01:28.\n",
            "  Batch   150  of    235.    Elapsed: 0:01:35.\n",
            "  Batch   160  of    235.    Elapsed: 0:01:41.\n",
            "  Batch   170  of    235.    Elapsed: 0:01:47.\n",
            "  Batch   180  of    235.    Elapsed: 0:01:54.\n",
            "  Batch   190  of    235.    Elapsed: 0:02:00.\n",
            "  Batch   200  of    235.    Elapsed: 0:02:06.\n",
            "  Batch   210  of    235.    Elapsed: 0:02:13.\n",
            "  Batch   220  of    235.    Elapsed: 0:02:19.\n",
            "  Batch   230  of    235.    Elapsed: 0:02:25.\n",
            "\n",
            "  Average training loss generetor: 0.764\n",
            "  Average training loss discriminator: 2.979\n",
            "  Training epcoh took: 0:02:28\n",
            "\n",
            "Running Test...\n",
            "  Accuracy: 0.486\n",
            "  Test Loss: 2.092\n",
            "  Test took: 0:00:09\n",
            "\n",
            "======== Epoch 3 / 5 ========\n",
            "Training...\n",
            "  Batch    10  of    235.    Elapsed: 0:00:06.\n",
            "  Batch    20  of    235.    Elapsed: 0:00:13.\n",
            "  Batch    30  of    235.    Elapsed: 0:00:19.\n",
            "  Batch    40  of    235.    Elapsed: 0:00:25.\n",
            "  Batch    50  of    235.    Elapsed: 0:00:32.\n",
            "  Batch    60  of    235.    Elapsed: 0:00:38.\n",
            "  Batch    70  of    235.    Elapsed: 0:00:44.\n",
            "  Batch    80  of    235.    Elapsed: 0:00:51.\n",
            "  Batch    90  of    235.    Elapsed: 0:00:57.\n",
            "  Batch   100  of    235.    Elapsed: 0:01:03.\n",
            "  Batch   110  of    235.    Elapsed: 0:01:09.\n",
            "  Batch   120  of    235.    Elapsed: 0:01:16.\n",
            "  Batch   130  of    235.    Elapsed: 0:01:22.\n",
            "  Batch   140  of    235.    Elapsed: 0:01:28.\n",
            "  Batch   150  of    235.    Elapsed: 0:01:35.\n",
            "  Batch   160  of    235.    Elapsed: 0:01:41.\n",
            "  Batch   170  of    235.    Elapsed: 0:01:47.\n",
            "  Batch   180  of    235.    Elapsed: 0:01:54.\n",
            "  Batch   190  of    235.    Elapsed: 0:02:00.\n",
            "  Batch   200  of    235.    Elapsed: 0:02:06.\n",
            "  Batch   210  of    235.    Elapsed: 0:02:13.\n",
            "  Batch   220  of    235.    Elapsed: 0:02:19.\n",
            "  Batch   230  of    235.    Elapsed: 0:02:25.\n",
            "\n",
            "  Average training loss generetor: 0.744\n",
            "  Average training loss discriminator: 2.319\n",
            "  Training epcoh took: 0:02:28\n",
            "\n",
            "Running Test...\n",
            "  Accuracy: 0.554\n",
            "  Test Loss: 1.782\n",
            "  Test took: 0:00:09\n",
            "\n",
            "======== Epoch 4 / 5 ========\n",
            "Training...\n",
            "  Batch    10  of    235.    Elapsed: 0:00:06.\n",
            "  Batch    20  of    235.    Elapsed: 0:00:13.\n",
            "  Batch    30  of    235.    Elapsed: 0:00:19.\n",
            "  Batch    40  of    235.    Elapsed: 0:00:25.\n",
            "  Batch    50  of    235.    Elapsed: 0:00:32.\n",
            "  Batch    60  of    235.    Elapsed: 0:00:38.\n",
            "  Batch    70  of    235.    Elapsed: 0:00:44.\n",
            "  Batch    80  of    235.    Elapsed: 0:00:50.\n",
            "  Batch    90  of    235.    Elapsed: 0:00:57.\n",
            "  Batch   100  of    235.    Elapsed: 0:01:03.\n",
            "  Batch   110  of    235.    Elapsed: 0:01:09.\n",
            "  Batch   120  of    235.    Elapsed: 0:01:16.\n",
            "  Batch   130  of    235.    Elapsed: 0:01:22.\n",
            "  Batch   140  of    235.    Elapsed: 0:01:28.\n",
            "  Batch   150  of    235.    Elapsed: 0:01:35.\n",
            "  Batch   160  of    235.    Elapsed: 0:01:41.\n",
            "  Batch   170  of    235.    Elapsed: 0:01:47.\n",
            "  Batch   180  of    235.    Elapsed: 0:01:54.\n",
            "  Batch   190  of    235.    Elapsed: 0:02:00.\n",
            "  Batch   200  of    235.    Elapsed: 0:02:06.\n",
            "  Batch   210  of    235.    Elapsed: 0:02:13.\n",
            "  Batch   220  of    235.    Elapsed: 0:02:19.\n",
            "  Batch   230  of    235.    Elapsed: 0:02:25.\n",
            "\n",
            "  Average training loss generetor: 0.732\n",
            "  Average training loss discriminator: 1.985\n",
            "  Training epcoh took: 0:02:28\n",
            "\n",
            "Running Test...\n",
            "  Accuracy: 0.550\n",
            "  Test Loss: 1.760\n",
            "  Test took: 0:00:09\n",
            "\n",
            "======== Epoch 5 / 5 ========\n",
            "Training...\n",
            "  Batch    10  of    235.    Elapsed: 0:00:06.\n",
            "  Batch    20  of    235.    Elapsed: 0:00:13.\n",
            "  Batch    30  of    235.    Elapsed: 0:00:19.\n",
            "  Batch    40  of    235.    Elapsed: 0:00:25.\n",
            "  Batch    50  of    235.    Elapsed: 0:00:32.\n",
            "  Batch    60  of    235.    Elapsed: 0:00:38.\n",
            "  Batch    70  of    235.    Elapsed: 0:00:44.\n",
            "  Batch    80  of    235.    Elapsed: 0:00:51.\n",
            "  Batch    90  of    235.    Elapsed: 0:00:57.\n",
            "  Batch   100  of    235.    Elapsed: 0:01:03.\n",
            "  Batch   110  of    235.    Elapsed: 0:01:09.\n",
            "  Batch   120  of    235.    Elapsed: 0:01:16.\n",
            "  Batch   130  of    235.    Elapsed: 0:01:22.\n",
            "  Batch   140  of    235.    Elapsed: 0:01:28.\n",
            "  Batch   150  of    235.    Elapsed: 0:01:35.\n",
            "  Batch   160  of    235.    Elapsed: 0:01:41.\n",
            "  Batch   170  of    235.    Elapsed: 0:01:47.\n",
            "  Batch   180  of    235.    Elapsed: 0:01:54.\n",
            "  Batch   190  of    235.    Elapsed: 0:02:00.\n",
            "  Batch   200  of    235.    Elapsed: 0:02:06.\n",
            "  Batch   210  of    235.    Elapsed: 0:02:13.\n",
            "  Batch   220  of    235.    Elapsed: 0:02:19.\n",
            "  Batch   230  of    235.    Elapsed: 0:02:25.\n",
            "\n",
            "  Average training loss generetor: 0.726\n",
            "  Average training loss discriminator: 1.788\n",
            "  Training epcoh took: 0:02:28\n",
            "\n",
            "Running Test...\n",
            "  Accuracy: 0.623\n",
            "  Test Loss: 1.494\n",
            "  Test took: 0:00:09\n"
          ]
        }
      ]
    },
    {
      "cell_type": "code",
      "source": [
        "training_procedure_completion_print(training_stats_40, total_t0)"
      ],
      "metadata": {
        "colab": {
          "base_uri": "https://localhost:8080/"
        },
        "outputId": "cb946756-44de-443a-c247-f4af6095b4aa",
        "id": "Xt-3fUi5G5BP"
      },
      "execution_count": 99,
      "outputs": [
        {
          "output_type": "stream",
          "name": "stdout",
          "text": [
            "{'epoch': 1, 'Training Loss generator': 0.6737962535404144, 'Training Loss discriminator': 5.076465005062996, 'Valid. Loss': 2.9354944229125977, 'Valid. Accur.': 0.396, 'Training Time': '0:02:28', 'Test Time': '0:00:09'}\n",
            "{'epoch': 2, 'Training Loss generator': 0.7642307608685595, 'Training Loss discriminator': 2.9791994257176175, 'Valid. Loss': 2.092273712158203, 'Valid. Accur.': 0.48577777777777775, 'Training Time': '0:02:28', 'Test Time': '0:00:09'}\n",
            "{'epoch': 3, 'Training Loss generator': 0.7437286810672029, 'Training Loss discriminator': 2.318660927326121, 'Valid. Loss': 1.7817323207855225, 'Valid. Accur.': 0.5542222222222222, 'Training Time': '0:02:28', 'Test Time': '0:00:09'}\n",
            "{'epoch': 4, 'Training Loss generator': 0.7315922592548614, 'Training Loss discriminator': 1.9849252959515187, 'Valid. Loss': 1.759508490562439, 'Valid. Accur.': 0.5502222222222222, 'Training Time': '0:02:28', 'Test Time': '0:00:09'}\n",
            "{'epoch': 5, 'Training Loss generator': 0.7264176845550537, 'Training Loss discriminator': 1.7882813514547145, 'Valid. Loss': 1.493538498878479, 'Valid. Accur.': 0.6233333333333333, 'Training Time': '0:02:28', 'Test Time': '0:00:09'}\n",
            "\n",
            "Training complete!\n",
            "Total training took 0:31:18 (h:mm:ss)\n"
          ]
        }
      ]
    },
    {
      "cell_type": "code",
      "source": [
        "training_stats_40[-1]"
      ],
      "metadata": {
        "colab": {
          "base_uri": "https://localhost:8080/"
        },
        "outputId": "2aa74ca3-960a-4d61-b34e-8a7902bbd8c4",
        "id": "qf-LFYGhG5BP"
      },
      "execution_count": 101,
      "outputs": [
        {
          "output_type": "execute_result",
          "data": {
            "text/plain": [
              "{'Test Time': '0:00:09',\n",
              " 'Training Loss discriminator': 1.7882813514547145,\n",
              " 'Training Loss generator': 0.7264176845550537,\n",
              " 'Training Time': '0:02:28',\n",
              " 'Valid. Accur.': 0.6233333333333333,\n",
              " 'Valid. Loss': 1.493538498878479,\n",
              " 'epoch': 5}"
            ]
          },
          "metadata": {},
          "execution_count": 101
        }
      ]
    },
    {
      "cell_type": "markdown",
      "source": [
        "##50_50"
      ],
      "metadata": {
        "id": "xwZfDyvyLzEr"
      }
    },
    {
      "cell_type": "code",
      "source": [
        "labeled_file = \"./50_50/labeled.tsv\"\n",
        "unlabeled_file = \"./50_50/unlabeled.tsv\"\n",
        "test_filename = \"./50_50/test.tsv\""
      ],
      "metadata": {
        "id": "lLlRUNuILzEs"
      },
      "execution_count": 102,
      "outputs": []
    },
    {
      "cell_type": "code",
      "source": [
        "labeled_examples, unlabeled_examples, test_examples = load_the_input_dataset()"
      ],
      "metadata": {
        "id": "F5XdpKTjLzEs"
      },
      "execution_count": 103,
      "outputs": []
    },
    {
      "cell_type": "code",
      "source": [
        "len(labeled_examples)"
      ],
      "metadata": {
        "colab": {
          "base_uri": "https://localhost:8080/"
        },
        "outputId": "2dd56160-0320-4959-c7d2-6f507103000b",
        "id": "U4ciKxTsLzEs"
      },
      "execution_count": 104,
      "outputs": [
        {
          "output_type": "execute_result",
          "data": {
            "text/plain": [
              "7500"
            ]
          },
          "metadata": {},
          "execution_count": 104
        }
      ]
    },
    {
      "cell_type": "code",
      "source": [
        "len(unlabeled_examples)"
      ],
      "metadata": {
        "colab": {
          "base_uri": "https://localhost:8080/"
        },
        "outputId": "8d83e356-bce0-4888-f5ce-d8f754407449",
        "id": "lRmORmv3LzEs"
      },
      "execution_count": 105,
      "outputs": [
        {
          "output_type": "execute_result",
          "data": {
            "text/plain": [
              "7500"
            ]
          },
          "metadata": {},
          "execution_count": 105
        }
      ]
    },
    {
      "cell_type": "code",
      "source": [
        "len(test_examples)"
      ],
      "metadata": {
        "colab": {
          "base_uri": "https://localhost:8080/"
        },
        "outputId": "9f4649db-b981-4014-b628-0809053d5a49",
        "id": "qJ3ho9oCLzEs"
      },
      "execution_count": 106,
      "outputs": [
        {
          "output_type": "execute_result",
          "data": {
            "text/plain": [
              "4500"
            ]
          },
          "metadata": {},
          "execution_count": 106
        }
      ]
    },
    {
      "cell_type": "code",
      "source": [
        "test_dataloader, train_dataloader, train_examples = convert_input_examples_to_dataloader(label_list)"
      ],
      "metadata": {
        "id": "3AQJw0J9LzEs"
      },
      "execution_count": 107,
      "outputs": []
    },
    {
      "cell_type": "code",
      "source": [
        "generator, discriminator = instantiate_discriminator_and_generator(transformer)"
      ],
      "metadata": {
        "id": "CimCG2csLzEt"
      },
      "execution_count": 108,
      "outputs": []
    },
    {
      "cell_type": "code",
      "source": [
        "training_stats_50, total_t0 = training_procedure_start(test_dataloader, train_dataloader, train_examples, generator, discriminator)"
      ],
      "metadata": {
        "colab": {
          "base_uri": "https://localhost:8080/"
        },
        "outputId": "2e605a79-48a3-43eb-8010-670ccd4e9947",
        "id": "1dP_jKgwLzEt"
      },
      "execution_count": 109,
      "outputs": [
        {
          "output_type": "stream",
          "name": "stdout",
          "text": [
            "\n",
            "======== Epoch 1 / 5 ========\n",
            "Training...\n",
            "  Batch    10  of    235.    Elapsed: 0:00:06.\n",
            "  Batch    20  of    235.    Elapsed: 0:00:13.\n",
            "  Batch    30  of    235.    Elapsed: 0:00:19.\n",
            "  Batch    40  of    235.    Elapsed: 0:00:25.\n",
            "  Batch    50  of    235.    Elapsed: 0:00:32.\n",
            "  Batch    60  of    235.    Elapsed: 0:00:38.\n",
            "  Batch    70  of    235.    Elapsed: 0:00:44.\n",
            "  Batch    80  of    235.    Elapsed: 0:00:50.\n",
            "  Batch    90  of    235.    Elapsed: 0:00:57.\n",
            "  Batch   100  of    235.    Elapsed: 0:01:03.\n",
            "  Batch   110  of    235.    Elapsed: 0:01:09.\n",
            "  Batch   120  of    235.    Elapsed: 0:01:16.\n",
            "  Batch   130  of    235.    Elapsed: 0:01:22.\n",
            "  Batch   140  of    235.    Elapsed: 0:01:28.\n",
            "  Batch   150  of    235.    Elapsed: 0:01:35.\n",
            "  Batch   160  of    235.    Elapsed: 0:01:41.\n",
            "  Batch   170  of    235.    Elapsed: 0:01:47.\n",
            "  Batch   180  of    235.    Elapsed: 0:01:54.\n",
            "  Batch   190  of    235.    Elapsed: 0:02:00.\n",
            "  Batch   200  of    235.    Elapsed: 0:02:06.\n",
            "  Batch   210  of    235.    Elapsed: 0:02:13.\n",
            "  Batch   220  of    235.    Elapsed: 0:02:19.\n",
            "  Batch   230  of    235.    Elapsed: 0:02:25.\n",
            "\n",
            "  Average training loss generetor: 0.667\n",
            "  Average training loss discriminator: 4.825\n",
            "  Training epcoh took: 0:02:28\n",
            "\n",
            "Running Test...\n",
            "  Accuracy: 0.570\n",
            "  Test Loss: 2.432\n",
            "  Test took: 0:00:09\n",
            "\n",
            "======== Epoch 2 / 5 ========\n",
            "Training...\n",
            "  Batch    10  of    235.    Elapsed: 0:00:06.\n",
            "  Batch    20  of    235.    Elapsed: 0:00:13.\n",
            "  Batch    30  of    235.    Elapsed: 0:00:19.\n",
            "  Batch    40  of    235.    Elapsed: 0:00:25.\n",
            "  Batch    50  of    235.    Elapsed: 0:00:32.\n",
            "  Batch    60  of    235.    Elapsed: 0:00:38.\n",
            "  Batch    70  of    235.    Elapsed: 0:00:44.\n",
            "  Batch    80  of    235.    Elapsed: 0:00:50.\n",
            "  Batch    90  of    235.    Elapsed: 0:00:57.\n",
            "  Batch   100  of    235.    Elapsed: 0:01:03.\n",
            "  Batch   110  of    235.    Elapsed: 0:01:09.\n",
            "  Batch   120  of    235.    Elapsed: 0:01:16.\n",
            "  Batch   130  of    235.    Elapsed: 0:01:22.\n",
            "  Batch   140  of    235.    Elapsed: 0:01:28.\n",
            "  Batch   150  of    235.    Elapsed: 0:01:35.\n",
            "  Batch   160  of    235.    Elapsed: 0:01:41.\n",
            "  Batch   170  of    235.    Elapsed: 0:01:47.\n",
            "  Batch   180  of    235.    Elapsed: 0:01:54.\n",
            "  Batch   190  of    235.    Elapsed: 0:02:00.\n",
            "  Batch   200  of    235.    Elapsed: 0:02:06.\n",
            "  Batch   210  of    235.    Elapsed: 0:02:12.\n",
            "  Batch   220  of    235.    Elapsed: 0:02:19.\n",
            "  Batch   230  of    235.    Elapsed: 0:02:25.\n",
            "\n",
            "  Average training loss generetor: 0.757\n",
            "  Average training loss discriminator: 2.302\n",
            "  Training epcoh took: 0:02:28\n",
            "\n",
            "Running Test...\n",
            "  Accuracy: 0.656\n",
            "  Test Loss: 1.434\n",
            "  Test took: 0:00:09\n",
            "\n",
            "======== Epoch 3 / 5 ========\n",
            "Training...\n",
            "  Batch    10  of    235.    Elapsed: 0:00:06.\n",
            "  Batch    20  of    235.    Elapsed: 0:00:13.\n",
            "  Batch    30  of    235.    Elapsed: 0:00:19.\n",
            "  Batch    40  of    235.    Elapsed: 0:00:25.\n",
            "  Batch    50  of    235.    Elapsed: 0:00:32.\n",
            "  Batch    60  of    235.    Elapsed: 0:00:38.\n",
            "  Batch    70  of    235.    Elapsed: 0:00:44.\n",
            "  Batch    80  of    235.    Elapsed: 0:00:50.\n",
            "  Batch    90  of    235.    Elapsed: 0:00:57.\n",
            "  Batch   100  of    235.    Elapsed: 0:01:03.\n",
            "  Batch   110  of    235.    Elapsed: 0:01:09.\n",
            "  Batch   120  of    235.    Elapsed: 0:01:16.\n",
            "  Batch   130  of    235.    Elapsed: 0:01:22.\n",
            "  Batch   140  of    235.    Elapsed: 0:01:28.\n",
            "  Batch   150  of    235.    Elapsed: 0:01:35.\n",
            "  Batch   160  of    235.    Elapsed: 0:01:41.\n",
            "  Batch   170  of    235.    Elapsed: 0:01:47.\n",
            "  Batch   180  of    235.    Elapsed: 0:01:54.\n",
            "  Batch   190  of    235.    Elapsed: 0:02:00.\n",
            "  Batch   200  of    235.    Elapsed: 0:02:06.\n",
            "  Batch   210  of    235.    Elapsed: 0:02:12.\n",
            "  Batch   220  of    235.    Elapsed: 0:02:19.\n",
            "  Batch   230  of    235.    Elapsed: 0:02:25.\n",
            "\n",
            "  Average training loss generetor: 0.735\n",
            "  Average training loss discriminator: 1.743\n",
            "  Training epcoh took: 0:02:28\n",
            "\n",
            "Running Test...\n",
            "  Accuracy: 0.604\n",
            "  Test Loss: 1.632\n",
            "  Test took: 0:00:09\n",
            "\n",
            "======== Epoch 4 / 5 ========\n",
            "Training...\n",
            "  Batch    10  of    235.    Elapsed: 0:00:06.\n",
            "  Batch    20  of    235.    Elapsed: 0:00:13.\n",
            "  Batch    30  of    235.    Elapsed: 0:00:19.\n",
            "  Batch    40  of    235.    Elapsed: 0:00:25.\n",
            "  Batch    50  of    235.    Elapsed: 0:00:32.\n",
            "  Batch    60  of    235.    Elapsed: 0:00:38.\n",
            "  Batch    70  of    235.    Elapsed: 0:00:44.\n",
            "  Batch    80  of    235.    Elapsed: 0:00:50.\n",
            "  Batch    90  of    235.    Elapsed: 0:00:57.\n",
            "  Batch   100  of    235.    Elapsed: 0:01:03.\n",
            "  Batch   110  of    235.    Elapsed: 0:01:09.\n",
            "  Batch   120  of    235.    Elapsed: 0:01:16.\n",
            "  Batch   130  of    235.    Elapsed: 0:01:22.\n",
            "  Batch   140  of    235.    Elapsed: 0:01:28.\n",
            "  Batch   150  of    235.    Elapsed: 0:01:35.\n",
            "  Batch   160  of    235.    Elapsed: 0:01:41.\n",
            "  Batch   170  of    235.    Elapsed: 0:01:47.\n",
            "  Batch   180  of    235.    Elapsed: 0:01:54.\n",
            "  Batch   190  of    235.    Elapsed: 0:02:00.\n",
            "  Batch   200  of    235.    Elapsed: 0:02:06.\n",
            "  Batch   210  of    235.    Elapsed: 0:02:12.\n",
            "  Batch   220  of    235.    Elapsed: 0:02:19.\n",
            "  Batch   230  of    235.    Elapsed: 0:02:25.\n",
            "\n",
            "  Average training loss generetor: 0.725\n",
            "  Average training loss discriminator: 1.609\n",
            "  Training epcoh took: 0:02:28\n",
            "\n",
            "Running Test...\n",
            "  Accuracy: 0.696\n",
            "  Test Loss: 1.248\n",
            "  Test took: 0:00:09\n",
            "\n",
            "======== Epoch 5 / 5 ========\n",
            "Training...\n",
            "  Batch    10  of    235.    Elapsed: 0:00:06.\n",
            "  Batch    20  of    235.    Elapsed: 0:00:13.\n",
            "  Batch    30  of    235.    Elapsed: 0:00:19.\n",
            "  Batch    40  of    235.    Elapsed: 0:00:25.\n",
            "  Batch    50  of    235.    Elapsed: 0:00:32.\n",
            "  Batch    60  of    235.    Elapsed: 0:00:38.\n",
            "  Batch    70  of    235.    Elapsed: 0:00:44.\n",
            "  Batch    80  of    235.    Elapsed: 0:00:50.\n",
            "  Batch    90  of    235.    Elapsed: 0:00:57.\n",
            "  Batch   100  of    235.    Elapsed: 0:01:03.\n",
            "  Batch   110  of    235.    Elapsed: 0:01:09.\n",
            "  Batch   120  of    235.    Elapsed: 0:01:16.\n",
            "  Batch   130  of    235.    Elapsed: 0:01:22.\n",
            "  Batch   140  of    235.    Elapsed: 0:01:28.\n",
            "  Batch   150  of    235.    Elapsed: 0:01:35.\n",
            "  Batch   160  of    235.    Elapsed: 0:01:41.\n",
            "  Batch   170  of    235.    Elapsed: 0:01:47.\n",
            "  Batch   180  of    235.    Elapsed: 0:01:54.\n",
            "  Batch   190  of    235.    Elapsed: 0:02:00.\n",
            "  Batch   200  of    235.    Elapsed: 0:02:06.\n",
            "  Batch   210  of    235.    Elapsed: 0:02:12.\n",
            "  Batch   220  of    235.    Elapsed: 0:02:19.\n",
            "  Batch   230  of    235.    Elapsed: 0:02:25.\n",
            "\n",
            "  Average training loss generetor: 0.723\n",
            "  Average training loss discriminator: 1.537\n",
            "  Training epcoh took: 0:02:28\n",
            "\n",
            "Running Test...\n",
            "  Accuracy: 0.703\n",
            "  Test Loss: 1.236\n",
            "  Test took: 0:00:09\n"
          ]
        }
      ]
    },
    {
      "cell_type": "code",
      "source": [
        "training_procedure_completion_print(training_stats_50, total_t0)"
      ],
      "metadata": {
        "colab": {
          "base_uri": "https://localhost:8080/"
        },
        "outputId": "55ebe269-8f7d-448b-80bf-d80e5ddf14b8",
        "id": "Afm-dTntLzEt"
      },
      "execution_count": 110,
      "outputs": [
        {
          "output_type": "stream",
          "name": "stdout",
          "text": [
            "{'epoch': 1, 'Training Loss generator': 0.6671577800303063, 'Training Loss discriminator': 4.8254617193911935, 'Valid. Loss': 2.4316558837890625, 'Valid. Accur.': 0.5695555555555556, 'Training Time': '0:02:28', 'Test Time': '0:00:09'}\n",
            "{'epoch': 2, 'Training Loss generator': 0.7573575364782456, 'Training Loss discriminator': 2.302447850653466, 'Valid. Loss': 1.4337892532348633, 'Valid. Accur.': 0.6555555555555556, 'Training Time': '0:02:28', 'Test Time': '0:00:09'}\n",
            "{'epoch': 3, 'Training Loss generator': 0.7347331156121923, 'Training Loss discriminator': 1.7434314854601596, 'Valid. Loss': 1.631554126739502, 'Valid. Accur.': 0.6035555555555555, 'Training Time': '0:02:28', 'Test Time': '0:00:09'}\n",
            "{'epoch': 4, 'Training Loss generator': 0.7252097406285875, 'Training Loss discriminator': 1.6092591498760467, 'Valid. Loss': 1.2483625411987305, 'Valid. Accur.': 0.6957777777777778, 'Training Time': '0:02:28', 'Test Time': '0:00:09'}\n",
            "{'epoch': 5, 'Training Loss generator': 0.7227136992393656, 'Training Loss discriminator': 1.5367662906646729, 'Valid. Loss': 1.2359117269515991, 'Valid. Accur.': 0.7033333333333334, 'Training Time': '0:02:28', 'Test Time': '0:00:09'}\n",
            "\n",
            "Training complete!\n",
            "Total training took 0:13:15 (h:mm:ss)\n"
          ]
        }
      ]
    },
    {
      "cell_type": "code",
      "source": [
        "training_stats_50[-1]"
      ],
      "metadata": {
        "colab": {
          "base_uri": "https://localhost:8080/"
        },
        "outputId": "a420039a-9bb7-4dd9-cfdc-dee060babd8f",
        "id": "nA_PJEYILzEt"
      },
      "execution_count": 111,
      "outputs": [
        {
          "output_type": "execute_result",
          "data": {
            "text/plain": [
              "{'Test Time': '0:00:09',\n",
              " 'Training Loss discriminator': 1.5367662906646729,\n",
              " 'Training Loss generator': 0.7227136992393656,\n",
              " 'Training Time': '0:02:28',\n",
              " 'Valid. Accur.': 0.7033333333333334,\n",
              " 'Valid. Loss': 1.2359117269515991,\n",
              " 'epoch': 5}"
            ]
          },
          "metadata": {},
          "execution_count": 111
        }
      ]
    },
    {
      "cell_type": "markdown",
      "source": [
        "##1_99"
      ],
      "metadata": {
        "id": "jA5J8q6hMrFO"
      }
    },
    {
      "cell_type": "code",
      "source": [
        "labeled_file = \"./1_99/labeled.tsv\"\n",
        "unlabeled_file = \"./1_99/unlabeled.tsv\"\n",
        "test_filename = \"./1_99/test.tsv\""
      ],
      "metadata": {
        "id": "iokUBVrJMrFO"
      },
      "execution_count": 112,
      "outputs": []
    },
    {
      "cell_type": "code",
      "source": [
        "labeled_examples, unlabeled_examples, test_examples = load_the_input_dataset()"
      ],
      "metadata": {
        "id": "eOF82Tx2MrFP"
      },
      "execution_count": 113,
      "outputs": []
    },
    {
      "cell_type": "code",
      "source": [
        "len(labeled_examples)"
      ],
      "metadata": {
        "colab": {
          "base_uri": "https://localhost:8080/"
        },
        "outputId": "4e5b7976-fee0-448e-eccf-2a5ef7f2dd48",
        "id": "Ww14cnQmMrFP"
      },
      "execution_count": 114,
      "outputs": [
        {
          "output_type": "execute_result",
          "data": {
            "text/plain": [
              "150"
            ]
          },
          "metadata": {},
          "execution_count": 114
        }
      ]
    },
    {
      "cell_type": "code",
      "source": [
        "len(unlabeled_examples)"
      ],
      "metadata": {
        "colab": {
          "base_uri": "https://localhost:8080/"
        },
        "outputId": "6ec8a629-c55f-442a-9487-ddfb7980d63f",
        "id": "R26TdAIoMrFP"
      },
      "execution_count": 115,
      "outputs": [
        {
          "output_type": "execute_result",
          "data": {
            "text/plain": [
              "14850"
            ]
          },
          "metadata": {},
          "execution_count": 115
        }
      ]
    },
    {
      "cell_type": "code",
      "source": [
        "len(test_examples)"
      ],
      "metadata": {
        "colab": {
          "base_uri": "https://localhost:8080/"
        },
        "outputId": "55d61ded-3c80-4875-969e-cbb7c524c0e6",
        "id": "MLQ2dJNyMrFP"
      },
      "execution_count": 116,
      "outputs": [
        {
          "output_type": "execute_result",
          "data": {
            "text/plain": [
              "4500"
            ]
          },
          "metadata": {},
          "execution_count": 116
        }
      ]
    },
    {
      "cell_type": "code",
      "source": [
        "test_dataloader, train_dataloader, train_examples = convert_input_examples_to_dataloader(label_list)"
      ],
      "metadata": {
        "id": "gQ6ZHq_jMrFP"
      },
      "execution_count": 117,
      "outputs": []
    },
    {
      "cell_type": "code",
      "source": [
        "generator, discriminator = instantiate_discriminator_and_generator(transformer)"
      ],
      "metadata": {
        "id": "UHZphA0nMrFP"
      },
      "execution_count": 118,
      "outputs": []
    },
    {
      "cell_type": "code",
      "source": [
        "training_stats_1, total_t0 = training_procedure_start(test_dataloader, train_dataloader, train_examples, generator, discriminator)"
      ],
      "metadata": {
        "colab": {
          "base_uri": "https://localhost:8080/"
        },
        "outputId": "27091ae2-6cde-4a6e-b673-87552651dcb4",
        "id": "Jgrs7ezFMrFP"
      },
      "execution_count": 119,
      "outputs": [
        {
          "output_type": "stream",
          "name": "stdout",
          "text": [
            "\n",
            "======== Epoch 1 / 5 ========\n",
            "Training...\n",
            "  Batch    10  of    247.    Elapsed: 0:00:06.\n",
            "  Batch    20  of    247.    Elapsed: 0:00:13.\n",
            "  Batch    30  of    247.    Elapsed: 0:00:19.\n",
            "  Batch    40  of    247.    Elapsed: 0:00:25.\n",
            "  Batch    50  of    247.    Elapsed: 0:00:32.\n",
            "  Batch    60  of    247.    Elapsed: 0:00:38.\n",
            "  Batch    70  of    247.    Elapsed: 0:00:44.\n",
            "  Batch    80  of    247.    Elapsed: 0:00:50.\n",
            "  Batch    90  of    247.    Elapsed: 0:00:57.\n",
            "  Batch   100  of    247.    Elapsed: 0:01:03.\n",
            "  Batch   110  of    247.    Elapsed: 0:01:09.\n",
            "  Batch   120  of    247.    Elapsed: 0:01:16.\n",
            "  Batch   130  of    247.    Elapsed: 0:01:22.\n",
            "  Batch   140  of    247.    Elapsed: 0:01:28.\n",
            "  Batch   150  of    247.    Elapsed: 0:01:35.\n",
            "  Batch   160  of    247.    Elapsed: 0:01:41.\n",
            "  Batch   170  of    247.    Elapsed: 0:01:47.\n",
            "  Batch   180  of    247.    Elapsed: 0:01:54.\n",
            "  Batch   190  of    247.    Elapsed: 0:02:00.\n",
            "  Batch   200  of    247.    Elapsed: 0:02:06.\n",
            "  Batch   210  of    247.    Elapsed: 0:02:13.\n",
            "  Batch   220  of    247.    Elapsed: 0:02:19.\n",
            "  Batch   230  of    247.    Elapsed: 0:02:25.\n",
            "  Batch   240  of    247.    Elapsed: 0:02:31.\n",
            "\n",
            "  Average training loss generetor: 0.644\n",
            "  Average training loss discriminator: 5.812\n",
            "  Training epcoh took: 0:02:35\n",
            "\n",
            "Running Test...\n",
            "  Accuracy: 0.168\n",
            "  Test Loss: 4.239\n",
            "  Test took: 0:00:09\n",
            "\n",
            "======== Epoch 2 / 5 ========\n",
            "Training...\n",
            "  Batch    10  of    247.    Elapsed: 0:00:06.\n",
            "  Batch    20  of    247.    Elapsed: 0:00:13.\n",
            "  Batch    30  of    247.    Elapsed: 0:00:19.\n",
            "  Batch    40  of    247.    Elapsed: 0:00:25.\n",
            "  Batch    50  of    247.    Elapsed: 0:00:32.\n",
            "  Batch    60  of    247.    Elapsed: 0:00:38.\n",
            "  Batch    70  of    247.    Elapsed: 0:00:44.\n",
            "  Batch    80  of    247.    Elapsed: 0:00:50.\n",
            "  Batch    90  of    247.    Elapsed: 0:00:57.\n",
            "  Batch   100  of    247.    Elapsed: 0:01:03.\n",
            "  Batch   110  of    247.    Elapsed: 0:01:09.\n",
            "  Batch   120  of    247.    Elapsed: 0:01:16.\n",
            "  Batch   130  of    247.    Elapsed: 0:01:22.\n",
            "  Batch   140  of    247.    Elapsed: 0:01:28.\n",
            "  Batch   150  of    247.    Elapsed: 0:01:35.\n",
            "  Batch   160  of    247.    Elapsed: 0:01:41.\n",
            "  Batch   170  of    247.    Elapsed: 0:01:47.\n",
            "  Batch   180  of    247.    Elapsed: 0:01:54.\n",
            "  Batch   190  of    247.    Elapsed: 0:02:00.\n",
            "  Batch   200  of    247.    Elapsed: 0:02:06.\n",
            "  Batch   210  of    247.    Elapsed: 0:02:12.\n",
            "  Batch   220  of    247.    Elapsed: 0:02:19.\n",
            "  Batch   230  of    247.    Elapsed: 0:02:25.\n",
            "  Batch   240  of    247.    Elapsed: 0:02:31.\n",
            "\n",
            "  Average training loss generetor: 0.743\n",
            "  Average training loss discriminator: 4.287\n",
            "  Training epcoh took: 0:02:35\n",
            "\n",
            "Running Test...\n",
            "  Accuracy: 0.292\n",
            "  Test Loss: 3.438\n",
            "  Test took: 0:00:09\n",
            "\n",
            "======== Epoch 3 / 5 ========\n",
            "Training...\n",
            "  Batch    10  of    247.    Elapsed: 0:00:06.\n",
            "  Batch    20  of    247.    Elapsed: 0:00:13.\n",
            "  Batch    30  of    247.    Elapsed: 0:00:19.\n",
            "  Batch    40  of    247.    Elapsed: 0:00:25.\n",
            "  Batch    50  of    247.    Elapsed: 0:00:32.\n",
            "  Batch    60  of    247.    Elapsed: 0:00:38.\n",
            "  Batch    70  of    247.    Elapsed: 0:00:44.\n",
            "  Batch    80  of    247.    Elapsed: 0:00:50.\n",
            "  Batch    90  of    247.    Elapsed: 0:00:57.\n",
            "  Batch   100  of    247.    Elapsed: 0:01:03.\n",
            "  Batch   110  of    247.    Elapsed: 0:01:09.\n",
            "  Batch   120  of    247.    Elapsed: 0:01:16.\n",
            "  Batch   130  of    247.    Elapsed: 0:01:22.\n",
            "  Batch   140  of    247.    Elapsed: 0:01:28.\n",
            "  Batch   150  of    247.    Elapsed: 0:01:35.\n",
            "  Batch   160  of    247.    Elapsed: 0:01:41.\n",
            "  Batch   170  of    247.    Elapsed: 0:01:47.\n",
            "  Batch   180  of    247.    Elapsed: 0:01:54.\n",
            "  Batch   190  of    247.    Elapsed: 0:02:00.\n",
            "  Batch   200  of    247.    Elapsed: 0:02:06.\n",
            "  Batch   210  of    247.    Elapsed: 0:02:12.\n",
            "  Batch   220  of    247.    Elapsed: 0:02:19.\n",
            "  Batch   230  of    247.    Elapsed: 0:02:25.\n",
            "  Batch   240  of    247.    Elapsed: 0:02:31.\n",
            "\n",
            "  Average training loss generetor: 0.741\n",
            "  Average training loss discriminator: 3.475\n",
            "  Training epcoh took: 0:02:35\n",
            "\n",
            "Running Test...\n",
            "  Accuracy: 0.305\n",
            "  Test Loss: 2.864\n",
            "  Test took: 0:00:09\n",
            "\n",
            "======== Epoch 4 / 5 ========\n",
            "Training...\n",
            "  Batch    10  of    247.    Elapsed: 0:00:06.\n",
            "  Batch    20  of    247.    Elapsed: 0:00:13.\n",
            "  Batch    30  of    247.    Elapsed: 0:00:19.\n",
            "  Batch    40  of    247.    Elapsed: 0:00:25.\n",
            "  Batch    50  of    247.    Elapsed: 0:00:32.\n",
            "  Batch    60  of    247.    Elapsed: 0:00:38.\n",
            "  Batch    70  of    247.    Elapsed: 0:00:44.\n",
            "  Batch    80  of    247.    Elapsed: 0:00:50.\n",
            "  Batch    90  of    247.    Elapsed: 0:00:57.\n",
            "  Batch   100  of    247.    Elapsed: 0:01:03.\n",
            "  Batch   110  of    247.    Elapsed: 0:01:09.\n",
            "  Batch   120  of    247.    Elapsed: 0:01:16.\n",
            "  Batch   130  of    247.    Elapsed: 0:01:22.\n",
            "  Batch   140  of    247.    Elapsed: 0:01:28.\n",
            "  Batch   150  of    247.    Elapsed: 0:01:35.\n",
            "  Batch   160  of    247.    Elapsed: 0:01:41.\n",
            "  Batch   170  of    247.    Elapsed: 0:01:47.\n",
            "  Batch   180  of    247.    Elapsed: 0:01:53.\n",
            "  Batch   190  of    247.    Elapsed: 0:02:00.\n",
            "  Batch   200  of    247.    Elapsed: 0:02:06.\n",
            "  Batch   210  of    247.    Elapsed: 0:02:12.\n",
            "  Batch   220  of    247.    Elapsed: 0:02:19.\n",
            "  Batch   230  of    247.    Elapsed: 0:02:25.\n",
            "  Batch   240  of    247.    Elapsed: 0:02:31.\n",
            "\n",
            "  Average training loss generetor: 0.739\n",
            "  Average training loss discriminator: 2.877\n",
            "  Training epcoh took: 0:02:35\n",
            "\n",
            "Running Test...\n",
            "  Accuracy: 0.317\n",
            "  Test Loss: 2.630\n",
            "  Test took: 0:00:09\n",
            "\n",
            "======== Epoch 5 / 5 ========\n",
            "Training...\n",
            "  Batch    10  of    247.    Elapsed: 0:00:06.\n",
            "  Batch    20  of    247.    Elapsed: 0:00:13.\n",
            "  Batch    30  of    247.    Elapsed: 0:00:19.\n",
            "  Batch    40  of    247.    Elapsed: 0:00:25.\n",
            "  Batch    50  of    247.    Elapsed: 0:00:32.\n",
            "  Batch    60  of    247.    Elapsed: 0:00:38.\n",
            "  Batch    70  of    247.    Elapsed: 0:00:44.\n",
            "  Batch    80  of    247.    Elapsed: 0:00:50.\n",
            "  Batch    90  of    247.    Elapsed: 0:00:57.\n",
            "  Batch   100  of    247.    Elapsed: 0:01:03.\n",
            "  Batch   110  of    247.    Elapsed: 0:01:09.\n",
            "  Batch   120  of    247.    Elapsed: 0:01:16.\n",
            "  Batch   130  of    247.    Elapsed: 0:01:22.\n",
            "  Batch   140  of    247.    Elapsed: 0:01:28.\n",
            "  Batch   150  of    247.    Elapsed: 0:01:35.\n",
            "  Batch   160  of    247.    Elapsed: 0:01:41.\n",
            "  Batch   170  of    247.    Elapsed: 0:01:47.\n",
            "  Batch   180  of    247.    Elapsed: 0:01:54.\n",
            "  Batch   190  of    247.    Elapsed: 0:02:00.\n",
            "  Batch   200  of    247.    Elapsed: 0:02:06.\n",
            "  Batch   210  of    247.    Elapsed: 0:02:12.\n",
            "  Batch   220  of    247.    Elapsed: 0:02:19.\n",
            "  Batch   230  of    247.    Elapsed: 0:02:25.\n",
            "  Batch   240  of    247.    Elapsed: 0:02:31.\n",
            "\n",
            "  Average training loss generetor: 0.735\n",
            "  Average training loss discriminator: 2.688\n",
            "  Training epcoh took: 0:02:35\n",
            "\n",
            "Running Test...\n",
            "  Accuracy: 0.332\n",
            "  Test Loss: 2.537\n",
            "  Test took: 0:00:09\n"
          ]
        }
      ]
    },
    {
      "cell_type": "code",
      "source": [
        "training_procedure_completion_print(training_stats_1, total_t0)"
      ],
      "metadata": {
        "colab": {
          "base_uri": "https://localhost:8080/"
        },
        "outputId": "6843d204-093f-47a7-8576-6669c0a23e01",
        "id": "fp72ot0aMrFQ"
      },
      "execution_count": 120,
      "outputs": [
        {
          "output_type": "stream",
          "name": "stdout",
          "text": [
            "{'epoch': 1, 'Training Loss generator': 0.6444976752103582, 'Training Loss discriminator': 5.812304293095824, 'Valid. Loss': 4.238748550415039, 'Valid. Accur.': 0.168, 'Training Time': '0:02:35', 'Test Time': '0:00:09'}\n",
            "{'epoch': 2, 'Training Loss generator': 0.7432345349779014, 'Training Loss discriminator': 4.287224411723102, 'Valid. Loss': 3.4384052753448486, 'Valid. Accur.': 0.2917777777777778, 'Training Time': '0:02:35', 'Test Time': '0:00:09'}\n",
            "{'epoch': 3, 'Training Loss generator': 0.7414150238037109, 'Training Loss discriminator': 3.4750337352154226, 'Valid. Loss': 2.864027738571167, 'Valid. Accur.': 0.3048888888888889, 'Training Time': '0:02:35', 'Test Time': '0:00:09'}\n",
            "{'epoch': 4, 'Training Loss generator': 0.7393599960968079, 'Training Loss discriminator': 2.876765282047905, 'Valid. Loss': 2.6298470497131348, 'Valid. Accur.': 0.3168888888888889, 'Training Time': '0:02:35', 'Test Time': '0:00:09'}\n",
            "{'epoch': 5, 'Training Loss generator': 0.7349563796027951, 'Training Loss discriminator': 2.687647764016742, 'Valid. Loss': 2.5370895862579346, 'Valid. Accur.': 0.3317777777777778, 'Training Time': '0:02:35', 'Test Time': '0:00:09'}\n",
            "\n",
            "Training complete!\n",
            "Total training took 0:13:50 (h:mm:ss)\n"
          ]
        }
      ]
    },
    {
      "cell_type": "code",
      "source": [
        "training_stats_1[-1]"
      ],
      "metadata": {
        "colab": {
          "base_uri": "https://localhost:8080/"
        },
        "outputId": "cdd2c9a6-4a15-491c-d605-9ded53df85fd",
        "id": "uSuz6Er4MrFQ"
      },
      "execution_count": 121,
      "outputs": [
        {
          "output_type": "execute_result",
          "data": {
            "text/plain": [
              "{'Test Time': '0:00:09',\n",
              " 'Training Loss discriminator': 2.687647764016742,\n",
              " 'Training Loss generator': 0.7349563796027951,\n",
              " 'Training Time': '0:02:35',\n",
              " 'Valid. Accur.': 0.3317777777777778,\n",
              " 'Valid. Loss': 2.5370895862579346,\n",
              " 'epoch': 5}"
            ]
          },
          "metadata": {},
          "execution_count": 121
        }
      ]
    },
    {
      "cell_type": "markdown",
      "source": [
        "##2_98"
      ],
      "metadata": {
        "id": "LAhKqqvUM8mf"
      }
    },
    {
      "cell_type": "code",
      "source": [
        "labeled_file = \"./2_98/labeled.tsv\"\n",
        "unlabeled_file = \"./2_98/unlabeled.tsv\"\n",
        "test_filename = \"./2_98/test.tsv\""
      ],
      "metadata": {
        "id": "H9oUBL25M8mg"
      },
      "execution_count": 122,
      "outputs": []
    },
    {
      "cell_type": "code",
      "source": [
        "labeled_examples, unlabeled_examples, test_examples = load_the_input_dataset()"
      ],
      "metadata": {
        "id": "PGsjlj79M8mg"
      },
      "execution_count": 123,
      "outputs": []
    },
    {
      "cell_type": "code",
      "source": [
        "len(labeled_examples)"
      ],
      "metadata": {
        "colab": {
          "base_uri": "https://localhost:8080/"
        },
        "outputId": "1342217b-dcf5-4107-d938-04a5a41cd05d",
        "id": "io8zU3oNM8mh"
      },
      "execution_count": 124,
      "outputs": [
        {
          "output_type": "execute_result",
          "data": {
            "text/plain": [
              "300"
            ]
          },
          "metadata": {},
          "execution_count": 124
        }
      ]
    },
    {
      "cell_type": "code",
      "source": [
        "len(unlabeled_examples)"
      ],
      "metadata": {
        "colab": {
          "base_uri": "https://localhost:8080/"
        },
        "outputId": "b85df645-7a01-4fa3-c031-c0948a4acdc2",
        "id": "uarOxPTmM8mh"
      },
      "execution_count": 125,
      "outputs": [
        {
          "output_type": "execute_result",
          "data": {
            "text/plain": [
              "14700"
            ]
          },
          "metadata": {},
          "execution_count": 125
        }
      ]
    },
    {
      "cell_type": "code",
      "source": [
        "len(test_examples)"
      ],
      "metadata": {
        "colab": {
          "base_uri": "https://localhost:8080/"
        },
        "outputId": "9550e063-0cc2-47f1-89a8-103a6407a3ea",
        "id": "Wqfs18knM8mh"
      },
      "execution_count": 126,
      "outputs": [
        {
          "output_type": "execute_result",
          "data": {
            "text/plain": [
              "4500"
            ]
          },
          "metadata": {},
          "execution_count": 126
        }
      ]
    },
    {
      "cell_type": "code",
      "source": [
        "test_dataloader, train_dataloader, train_examples = convert_input_examples_to_dataloader(label_list)"
      ],
      "metadata": {
        "id": "SSQZPXk5M8mi"
      },
      "execution_count": 127,
      "outputs": []
    },
    {
      "cell_type": "code",
      "source": [
        "generator, discriminator = instantiate_discriminator_and_generator(transformer)"
      ],
      "metadata": {
        "id": "uF2fD8yuM8mi"
      },
      "execution_count": 128,
      "outputs": []
    },
    {
      "cell_type": "code",
      "source": [
        "training_stats_2, total_t0 = training_procedure_start(test_dataloader, train_dataloader, train_examples, generator, discriminator)"
      ],
      "metadata": {
        "colab": {
          "base_uri": "https://localhost:8080/"
        },
        "outputId": "bf22afdc-3e6b-4bed-fcd5-28fe6df14ad3",
        "id": "FLiwgZJkM8mi"
      },
      "execution_count": 129,
      "outputs": [
        {
          "output_type": "stream",
          "name": "stdout",
          "text": [
            "\n",
            "======== Epoch 1 / 5 ========\n",
            "Training...\n",
            "  Batch    10  of    254.    Elapsed: 0:00:06.\n",
            "  Batch    20  of    254.    Elapsed: 0:00:13.\n",
            "  Batch    30  of    254.    Elapsed: 0:00:19.\n",
            "  Batch    40  of    254.    Elapsed: 0:00:25.\n",
            "  Batch    50  of    254.    Elapsed: 0:00:32.\n",
            "  Batch    60  of    254.    Elapsed: 0:00:38.\n",
            "  Batch    70  of    254.    Elapsed: 0:00:44.\n",
            "  Batch    80  of    254.    Elapsed: 0:00:51.\n",
            "  Batch    90  of    254.    Elapsed: 0:00:57.\n",
            "  Batch   100  of    254.    Elapsed: 0:01:03.\n",
            "  Batch   110  of    254.    Elapsed: 0:01:10.\n",
            "  Batch   120  of    254.    Elapsed: 0:01:16.\n",
            "  Batch   130  of    254.    Elapsed: 0:01:22.\n",
            "  Batch   140  of    254.    Elapsed: 0:01:29.\n",
            "  Batch   150  of    254.    Elapsed: 0:01:35.\n",
            "  Batch   160  of    254.    Elapsed: 0:01:41.\n",
            "  Batch   170  of    254.    Elapsed: 0:01:47.\n",
            "  Batch   180  of    254.    Elapsed: 0:01:54.\n",
            "  Batch   190  of    254.    Elapsed: 0:02:00.\n",
            "  Batch   200  of    254.    Elapsed: 0:02:06.\n",
            "  Batch   210  of    254.    Elapsed: 0:02:13.\n",
            "  Batch   220  of    254.    Elapsed: 0:02:19.\n",
            "  Batch   230  of    254.    Elapsed: 0:02:25.\n",
            "  Batch   240  of    254.    Elapsed: 0:02:32.\n",
            "  Batch   250  of    254.    Elapsed: 0:02:38.\n",
            "\n",
            "  Average training loss generetor: 0.659\n",
            "  Average training loss discriminator: 5.707\n",
            "  Training epcoh took: 0:02:40\n",
            "\n",
            "Running Test...\n",
            "  Accuracy: 0.204\n",
            "  Test Loss: 3.894\n",
            "  Test took: 0:00:09\n",
            "\n",
            "======== Epoch 2 / 5 ========\n",
            "Training...\n",
            "  Batch    10  of    254.    Elapsed: 0:00:06.\n",
            "  Batch    20  of    254.    Elapsed: 0:00:13.\n",
            "  Batch    30  of    254.    Elapsed: 0:00:19.\n",
            "  Batch    40  of    254.    Elapsed: 0:00:25.\n",
            "  Batch    50  of    254.    Elapsed: 0:00:32.\n",
            "  Batch    60  of    254.    Elapsed: 0:00:38.\n",
            "  Batch    70  of    254.    Elapsed: 0:00:44.\n",
            "  Batch    80  of    254.    Elapsed: 0:00:50.\n",
            "  Batch    90  of    254.    Elapsed: 0:00:57.\n",
            "  Batch   100  of    254.    Elapsed: 0:01:03.\n",
            "  Batch   110  of    254.    Elapsed: 0:01:09.\n",
            "  Batch   120  of    254.    Elapsed: 0:01:16.\n",
            "  Batch   130  of    254.    Elapsed: 0:01:22.\n",
            "  Batch   140  of    254.    Elapsed: 0:01:28.\n",
            "  Batch   150  of    254.    Elapsed: 0:01:35.\n",
            "  Batch   160  of    254.    Elapsed: 0:01:41.\n",
            "  Batch   170  of    254.    Elapsed: 0:01:47.\n",
            "  Batch   180  of    254.    Elapsed: 0:01:54.\n",
            "  Batch   190  of    254.    Elapsed: 0:02:00.\n",
            "  Batch   200  of    254.    Elapsed: 0:02:06.\n",
            "  Batch   210  of    254.    Elapsed: 0:02:12.\n",
            "  Batch   220  of    254.    Elapsed: 0:02:19.\n",
            "  Batch   230  of    254.    Elapsed: 0:02:25.\n",
            "  Batch   240  of    254.    Elapsed: 0:02:31.\n",
            "  Batch   250  of    254.    Elapsed: 0:02:38.\n",
            "\n",
            "  Average training loss generetor: 0.745\n",
            "  Average training loss discriminator: 3.901\n",
            "  Training epcoh took: 0:02:40\n",
            "\n",
            "Running Test...\n",
            "  Accuracy: 0.318\n",
            "  Test Loss: 2.910\n",
            "  Test took: 0:00:09\n",
            "\n",
            "======== Epoch 3 / 5 ========\n",
            "Training...\n",
            "  Batch    10  of    254.    Elapsed: 0:00:06.\n",
            "  Batch    20  of    254.    Elapsed: 0:00:13.\n",
            "  Batch    30  of    254.    Elapsed: 0:00:19.\n",
            "  Batch    40  of    254.    Elapsed: 0:00:25.\n",
            "  Batch    50  of    254.    Elapsed: 0:00:32.\n",
            "  Batch    60  of    254.    Elapsed: 0:00:38.\n",
            "  Batch    70  of    254.    Elapsed: 0:00:44.\n",
            "  Batch    80  of    254.    Elapsed: 0:00:50.\n",
            "  Batch    90  of    254.    Elapsed: 0:00:57.\n",
            "  Batch   100  of    254.    Elapsed: 0:01:03.\n",
            "  Batch   110  of    254.    Elapsed: 0:01:09.\n",
            "  Batch   120  of    254.    Elapsed: 0:01:16.\n",
            "  Batch   130  of    254.    Elapsed: 0:01:22.\n",
            "  Batch   140  of    254.    Elapsed: 0:01:28.\n",
            "  Batch   150  of    254.    Elapsed: 0:01:35.\n",
            "  Batch   160  of    254.    Elapsed: 0:01:41.\n",
            "  Batch   170  of    254.    Elapsed: 0:01:47.\n",
            "  Batch   180  of    254.    Elapsed: 0:01:54.\n",
            "  Batch   190  of    254.    Elapsed: 0:02:00.\n",
            "  Batch   200  of    254.    Elapsed: 0:02:06.\n",
            "  Batch   210  of    254.    Elapsed: 0:02:12.\n",
            "  Batch   220  of    254.    Elapsed: 0:02:19.\n",
            "  Batch   230  of    254.    Elapsed: 0:02:25.\n",
            "  Batch   240  of    254.    Elapsed: 0:02:31.\n",
            "  Batch   250  of    254.    Elapsed: 0:02:38.\n",
            "\n",
            "  Average training loss generetor: 0.745\n",
            "  Average training loss discriminator: 2.990\n",
            "  Training epcoh took: 0:02:40\n",
            "\n",
            "Running Test...\n",
            "  Accuracy: 0.320\n",
            "  Test Loss: 2.728\n",
            "  Test took: 0:00:09\n",
            "\n",
            "======== Epoch 4 / 5 ========\n",
            "Training...\n",
            "  Batch    10  of    254.    Elapsed: 0:00:06.\n",
            "  Batch    20  of    254.    Elapsed: 0:00:13.\n",
            "  Batch    30  of    254.    Elapsed: 0:00:19.\n",
            "  Batch    40  of    254.    Elapsed: 0:00:25.\n",
            "  Batch    50  of    254.    Elapsed: 0:00:32.\n",
            "  Batch    60  of    254.    Elapsed: 0:00:38.\n",
            "  Batch    70  of    254.    Elapsed: 0:00:44.\n",
            "  Batch    80  of    254.    Elapsed: 0:00:50.\n",
            "  Batch    90  of    254.    Elapsed: 0:00:57.\n",
            "  Batch   100  of    254.    Elapsed: 0:01:03.\n",
            "  Batch   110  of    254.    Elapsed: 0:01:09.\n",
            "  Batch   120  of    254.    Elapsed: 0:01:16.\n",
            "  Batch   130  of    254.    Elapsed: 0:01:22.\n",
            "  Batch   140  of    254.    Elapsed: 0:01:28.\n",
            "  Batch   150  of    254.    Elapsed: 0:01:35.\n",
            "  Batch   160  of    254.    Elapsed: 0:01:41.\n",
            "  Batch   170  of    254.    Elapsed: 0:01:47.\n",
            "  Batch   180  of    254.    Elapsed: 0:01:54.\n",
            "  Batch   190  of    254.    Elapsed: 0:02:00.\n",
            "  Batch   200  of    254.    Elapsed: 0:02:06.\n",
            "  Batch   210  of    254.    Elapsed: 0:02:12.\n",
            "  Batch   220  of    254.    Elapsed: 0:02:19.\n",
            "  Batch   230  of    254.    Elapsed: 0:02:25.\n",
            "  Batch   240  of    254.    Elapsed: 0:02:31.\n",
            "  Batch   250  of    254.    Elapsed: 0:02:38.\n",
            "\n",
            "  Average training loss generetor: 0.739\n",
            "  Average training loss discriminator: 2.526\n",
            "  Training epcoh took: 0:02:40\n",
            "\n",
            "Running Test...\n",
            "  Accuracy: 0.386\n",
            "  Test Loss: 2.357\n",
            "  Test took: 0:00:09\n",
            "\n",
            "======== Epoch 5 / 5 ========\n",
            "Training...\n",
            "  Batch    10  of    254.    Elapsed: 0:00:06.\n",
            "  Batch    20  of    254.    Elapsed: 0:00:13.\n",
            "  Batch    30  of    254.    Elapsed: 0:00:19.\n",
            "  Batch    40  of    254.    Elapsed: 0:00:25.\n",
            "  Batch    50  of    254.    Elapsed: 0:00:32.\n",
            "  Batch    60  of    254.    Elapsed: 0:00:38.\n",
            "  Batch    70  of    254.    Elapsed: 0:00:44.\n",
            "  Batch    80  of    254.    Elapsed: 0:00:50.\n",
            "  Batch    90  of    254.    Elapsed: 0:00:57.\n",
            "  Batch   100  of    254.    Elapsed: 0:01:03.\n",
            "  Batch   110  of    254.    Elapsed: 0:01:09.\n",
            "  Batch   120  of    254.    Elapsed: 0:01:16.\n",
            "  Batch   130  of    254.    Elapsed: 0:01:22.\n",
            "  Batch   140  of    254.    Elapsed: 0:01:28.\n",
            "  Batch   150  of    254.    Elapsed: 0:01:35.\n",
            "  Batch   160  of    254.    Elapsed: 0:01:41.\n",
            "  Batch   170  of    254.    Elapsed: 0:01:47.\n",
            "  Batch   180  of    254.    Elapsed: 0:01:54.\n",
            "  Batch   190  of    254.    Elapsed: 0:02:00.\n",
            "  Batch   200  of    254.    Elapsed: 0:02:06.\n",
            "  Batch   210  of    254.    Elapsed: 0:02:12.\n",
            "  Batch   220  of    254.    Elapsed: 0:02:19.\n",
            "  Batch   230  of    254.    Elapsed: 0:02:25.\n",
            "  Batch   240  of    254.    Elapsed: 0:02:31.\n",
            "  Batch   250  of    254.    Elapsed: 0:02:38.\n",
            "\n",
            "  Average training loss generetor: 0.732\n",
            "  Average training loss discriminator: 2.162\n",
            "  Training epcoh took: 0:02:40\n",
            "\n",
            "Running Test...\n",
            "  Accuracy: 0.456\n",
            "  Test Loss: 2.159\n",
            "  Test took: 0:00:09\n"
          ]
        }
      ]
    },
    {
      "cell_type": "code",
      "source": [
        "training_procedure_completion_print(training_stats_2, total_t0)"
      ],
      "metadata": {
        "colab": {
          "base_uri": "https://localhost:8080/"
        },
        "outputId": "06b25303-55f7-4f2b-ef98-c21e9c4c1b55",
        "id": "Jyf2fEx1M8mi"
      },
      "execution_count": 130,
      "outputs": [
        {
          "output_type": "stream",
          "name": "stdout",
          "text": [
            "{'epoch': 1, 'Training Loss generator': 0.659208962092484, 'Training Loss discriminator': 5.707302097260483, 'Valid. Loss': 3.8937995433807373, 'Valid. Accur.': 0.20444444444444446, 'Training Time': '0:02:40', 'Test Time': '0:00:09'}\n",
            "{'epoch': 2, 'Training Loss generator': 0.7451118437323984, 'Training Loss discriminator': 3.9008015537355827, 'Valid. Loss': 2.910026788711548, 'Valid. Accur.': 0.31755555555555554, 'Training Time': '0:02:40', 'Test Time': '0:00:09'}\n",
            "{'epoch': 3, 'Training Loss generator': 0.7453371086927849, 'Training Loss discriminator': 2.98950002043266, 'Valid. Loss': 2.727757453918457, 'Valid. Accur.': 0.31955555555555554, 'Training Time': '0:02:40', 'Test Time': '0:00:09'}\n",
            "{'epoch': 4, 'Training Loss generator': 0.7385188845668252, 'Training Loss discriminator': 2.52557175506757, 'Valid. Loss': 2.357213258743286, 'Valid. Accur.': 0.3857777777777778, 'Training Time': '0:02:40', 'Test Time': '0:00:09'}\n",
            "{'epoch': 5, 'Training Loss generator': 0.7316116082856036, 'Training Loss discriminator': 2.1618051371705813, 'Valid. Loss': 2.1592721939086914, 'Valid. Accur.': 0.45644444444444443, 'Training Time': '0:02:40', 'Test Time': '0:00:09'}\n",
            "\n",
            "Training complete!\n",
            "Total training took 0:15:47 (h:mm:ss)\n"
          ]
        }
      ]
    },
    {
      "cell_type": "code",
      "source": [
        "training_stats_2[-1]"
      ],
      "metadata": {
        "colab": {
          "base_uri": "https://localhost:8080/"
        },
        "outputId": "49e5e818-2902-47ca-ca20-9e05f7650cbf",
        "id": "4B5d3rVvM8mj"
      },
      "execution_count": 131,
      "outputs": [
        {
          "output_type": "execute_result",
          "data": {
            "text/plain": [
              "{'Test Time': '0:00:09',\n",
              " 'Training Loss discriminator': 2.1618051371705813,\n",
              " 'Training Loss generator': 0.7316116082856036,\n",
              " 'Training Time': '0:02:40',\n",
              " 'Valid. Accur.': 0.45644444444444443,\n",
              " 'Valid. Loss': 2.1592721939086914,\n",
              " 'epoch': 5}"
            ]
          },
          "metadata": {},
          "execution_count": 131
        }
      ]
    },
    {
      "cell_type": "markdown",
      "source": [
        "##5_95"
      ],
      "metadata": {
        "id": "m43kYfDwNVmY"
      }
    },
    {
      "cell_type": "code",
      "source": [
        "labeled_file = \"./5_95/labeled.tsv\"\n",
        "unlabeled_file = \"./5_95/unlabeled.tsv\"\n",
        "test_filename = \"./5_95/test.tsv\""
      ],
      "metadata": {
        "id": "I3eJUARqNVmY"
      },
      "execution_count": 132,
      "outputs": []
    },
    {
      "cell_type": "code",
      "source": [
        "labeled_examples, unlabeled_examples, test_examples = load_the_input_dataset()"
      ],
      "metadata": {
        "id": "kOXQ68jqNVmZ"
      },
      "execution_count": 133,
      "outputs": []
    },
    {
      "cell_type": "code",
      "source": [
        "len(labeled_examples)"
      ],
      "metadata": {
        "colab": {
          "base_uri": "https://localhost:8080/"
        },
        "outputId": "423ccf85-cfc0-4469-d89c-34413c8cd4e7",
        "id": "B3cv5EnNNVmZ"
      },
      "execution_count": 134,
      "outputs": [
        {
          "output_type": "execute_result",
          "data": {
            "text/plain": [
              "750"
            ]
          },
          "metadata": {},
          "execution_count": 134
        }
      ]
    },
    {
      "cell_type": "code",
      "source": [
        "len(unlabeled_examples)"
      ],
      "metadata": {
        "colab": {
          "base_uri": "https://localhost:8080/"
        },
        "outputId": "5b907a30-e3d4-4549-daac-3ec82de0796e",
        "id": "y8ESd6UENVmZ"
      },
      "execution_count": 135,
      "outputs": [
        {
          "output_type": "execute_result",
          "data": {
            "text/plain": [
              "14250"
            ]
          },
          "metadata": {},
          "execution_count": 135
        }
      ]
    },
    {
      "cell_type": "code",
      "source": [
        "len(test_examples)"
      ],
      "metadata": {
        "colab": {
          "base_uri": "https://localhost:8080/"
        },
        "outputId": "5179c3cb-357f-4f64-d7ab-e7d0adc9c4f7",
        "id": "dZoo4o1-NVmZ"
      },
      "execution_count": 136,
      "outputs": [
        {
          "output_type": "execute_result",
          "data": {
            "text/plain": [
              "4500"
            ]
          },
          "metadata": {},
          "execution_count": 136
        }
      ]
    },
    {
      "cell_type": "code",
      "source": [
        "test_dataloader, train_dataloader, train_examples = convert_input_examples_to_dataloader(label_list)"
      ],
      "metadata": {
        "id": "shGYiKHiNVma"
      },
      "execution_count": 137,
      "outputs": []
    },
    {
      "cell_type": "code",
      "source": [
        "generator, discriminator = instantiate_discriminator_and_generator(transformer)"
      ],
      "metadata": {
        "id": "twHU-G7vNVma"
      },
      "execution_count": 138,
      "outputs": []
    },
    {
      "cell_type": "code",
      "source": [
        "training_stats_5, total_t0 = training_procedure_start(test_dataloader, train_dataloader, train_examples, generator, discriminator)"
      ],
      "metadata": {
        "colab": {
          "base_uri": "https://localhost:8080/"
        },
        "outputId": "0b74479b-c9c2-4ded-829b-70ccc24ecdcb",
        "id": "3PDAqlXDNVma"
      },
      "execution_count": 139,
      "outputs": [
        {
          "output_type": "stream",
          "name": "stdout",
          "text": [
            "\n",
            "======== Epoch 1 / 5 ========\n",
            "Training...\n",
            "  Batch    10  of    270.    Elapsed: 0:00:06.\n",
            "  Batch    20  of    270.    Elapsed: 0:00:13.\n",
            "  Batch    30  of    270.    Elapsed: 0:00:19.\n",
            "  Batch    40  of    270.    Elapsed: 0:00:25.\n",
            "  Batch    50  of    270.    Elapsed: 0:00:32.\n",
            "  Batch    60  of    270.    Elapsed: 0:00:38.\n",
            "  Batch    70  of    270.    Elapsed: 0:00:44.\n",
            "  Batch    80  of    270.    Elapsed: 0:00:50.\n",
            "  Batch    90  of    270.    Elapsed: 0:00:57.\n",
            "  Batch   100  of    270.    Elapsed: 0:01:03.\n",
            "  Batch   110  of    270.    Elapsed: 0:01:09.\n",
            "  Batch   120  of    270.    Elapsed: 0:01:16.\n",
            "  Batch   130  of    270.    Elapsed: 0:01:22.\n",
            "  Batch   140  of    270.    Elapsed: 0:01:28.\n",
            "  Batch   150  of    270.    Elapsed: 0:01:35.\n",
            "  Batch   160  of    270.    Elapsed: 0:01:41.\n",
            "  Batch   170  of    270.    Elapsed: 0:01:47.\n",
            "  Batch   180  of    270.    Elapsed: 0:01:54.\n",
            "  Batch   190  of    270.    Elapsed: 0:02:00.\n",
            "  Batch   200  of    270.    Elapsed: 0:02:06.\n",
            "  Batch   210  of    270.    Elapsed: 0:02:13.\n",
            "  Batch   220  of    270.    Elapsed: 0:02:19.\n",
            "  Batch   230  of    270.    Elapsed: 0:02:25.\n",
            "  Batch   240  of    270.    Elapsed: 0:02:31.\n",
            "  Batch   250  of    270.    Elapsed: 0:02:38.\n",
            "  Batch   260  of    270.    Elapsed: 0:02:44.\n",
            "\n",
            "  Average training loss generetor: 0.668\n",
            "  Average training loss discriminator: 5.283\n",
            "  Training epcoh took: 0:02:50\n",
            "\n",
            "Running Test...\n",
            "  Accuracy: 0.410\n",
            "  Test Loss: 3.205\n",
            "  Test took: 0:00:09\n",
            "\n",
            "======== Epoch 2 / 5 ========\n",
            "Training...\n",
            "  Batch    10  of    270.    Elapsed: 0:00:06.\n",
            "  Batch    20  of    270.    Elapsed: 0:00:13.\n",
            "  Batch    30  of    270.    Elapsed: 0:00:19.\n",
            "  Batch    40  of    270.    Elapsed: 0:00:25.\n",
            "  Batch    50  of    270.    Elapsed: 0:00:32.\n",
            "  Batch    60  of    270.    Elapsed: 0:00:38.\n",
            "  Batch    70  of    270.    Elapsed: 0:00:44.\n",
            "  Batch    80  of    270.    Elapsed: 0:00:50.\n",
            "  Batch    90  of    270.    Elapsed: 0:00:57.\n",
            "  Batch   100  of    270.    Elapsed: 0:01:03.\n",
            "  Batch   110  of    270.    Elapsed: 0:01:09.\n",
            "  Batch   120  of    270.    Elapsed: 0:01:16.\n",
            "  Batch   130  of    270.    Elapsed: 0:01:22.\n",
            "  Batch   140  of    270.    Elapsed: 0:01:28.\n",
            "  Batch   150  of    270.    Elapsed: 0:01:35.\n",
            "  Batch   160  of    270.    Elapsed: 0:01:41.\n",
            "  Batch   170  of    270.    Elapsed: 0:01:47.\n",
            "  Batch   180  of    270.    Elapsed: 0:01:54.\n",
            "  Batch   190  of    270.    Elapsed: 0:02:00.\n",
            "  Batch   200  of    270.    Elapsed: 0:02:06.\n",
            "  Batch   210  of    270.    Elapsed: 0:02:12.\n",
            "  Batch   220  of    270.    Elapsed: 0:02:19.\n",
            "  Batch   230  of    270.    Elapsed: 0:02:25.\n",
            "  Batch   240  of    270.    Elapsed: 0:02:31.\n",
            "  Batch   250  of    270.    Elapsed: 0:02:38.\n",
            "  Batch   260  of    270.    Elapsed: 0:02:44.\n",
            "\n",
            "  Average training loss generetor: 0.754\n",
            "  Average training loss discriminator: 2.981\n",
            "  Training epcoh took: 0:02:50\n",
            "\n",
            "Running Test...\n",
            "  Accuracy: 0.524\n",
            "  Test Loss: 2.102\n",
            "  Test took: 0:00:09\n",
            "\n",
            "======== Epoch 3 / 5 ========\n",
            "Training...\n",
            "  Batch    10  of    270.    Elapsed: 0:00:06.\n",
            "  Batch    20  of    270.    Elapsed: 0:00:13.\n",
            "  Batch    30  of    270.    Elapsed: 0:00:19.\n",
            "  Batch    40  of    270.    Elapsed: 0:00:25.\n",
            "  Batch    50  of    270.    Elapsed: 0:00:32.\n",
            "  Batch    60  of    270.    Elapsed: 0:00:38.\n",
            "  Batch    70  of    270.    Elapsed: 0:00:44.\n",
            "  Batch    80  of    270.    Elapsed: 0:00:50.\n",
            "  Batch    90  of    270.    Elapsed: 0:00:57.\n",
            "  Batch   100  of    270.    Elapsed: 0:01:03.\n",
            "  Batch   110  of    270.    Elapsed: 0:01:09.\n",
            "  Batch   120  of    270.    Elapsed: 0:01:16.\n",
            "  Batch   130  of    270.    Elapsed: 0:01:22.\n",
            "  Batch   140  of    270.    Elapsed: 0:01:28.\n",
            "  Batch   150  of    270.    Elapsed: 0:01:35.\n",
            "  Batch   160  of    270.    Elapsed: 0:01:41.\n",
            "  Batch   170  of    270.    Elapsed: 0:01:47.\n",
            "  Batch   180  of    270.    Elapsed: 0:01:54.\n",
            "  Batch   190  of    270.    Elapsed: 0:02:00.\n",
            "  Batch   200  of    270.    Elapsed: 0:02:06.\n",
            "  Batch   210  of    270.    Elapsed: 0:02:12.\n",
            "  Batch   220  of    270.    Elapsed: 0:02:19.\n",
            "  Batch   230  of    270.    Elapsed: 0:02:25.\n",
            "  Batch   240  of    270.    Elapsed: 0:02:31.\n",
            "  Batch   250  of    270.    Elapsed: 0:02:38.\n",
            "  Batch   260  of    270.    Elapsed: 0:02:44.\n",
            "\n",
            "  Average training loss generetor: 0.744\n",
            "  Average training loss discriminator: 2.062\n",
            "  Training epcoh took: 0:02:50\n",
            "\n",
            "Running Test...\n",
            "  Accuracy: 0.550\n",
            "  Test Loss: 1.802\n",
            "  Test took: 0:00:09\n",
            "\n",
            "======== Epoch 4 / 5 ========\n",
            "Training...\n",
            "  Batch    10  of    270.    Elapsed: 0:00:06.\n",
            "  Batch    20  of    270.    Elapsed: 0:00:13.\n",
            "  Batch    30  of    270.    Elapsed: 0:00:19.\n",
            "  Batch    40  of    270.    Elapsed: 0:00:25.\n",
            "  Batch    50  of    270.    Elapsed: 0:00:32.\n",
            "  Batch    60  of    270.    Elapsed: 0:00:38.\n",
            "  Batch    70  of    270.    Elapsed: 0:00:44.\n",
            "  Batch    80  of    270.    Elapsed: 0:00:50.\n",
            "  Batch    90  of    270.    Elapsed: 0:00:57.\n",
            "  Batch   100  of    270.    Elapsed: 0:01:03.\n",
            "  Batch   110  of    270.    Elapsed: 0:01:09.\n",
            "  Batch   120  of    270.    Elapsed: 0:01:16.\n",
            "  Batch   130  of    270.    Elapsed: 0:01:22.\n",
            "  Batch   140  of    270.    Elapsed: 0:01:28.\n",
            "  Batch   150  of    270.    Elapsed: 0:01:35.\n",
            "  Batch   160  of    270.    Elapsed: 0:01:41.\n",
            "  Batch   170  of    270.    Elapsed: 0:01:47.\n",
            "  Batch   180  of    270.    Elapsed: 0:01:54.\n",
            "  Batch   190  of    270.    Elapsed: 0:02:00.\n",
            "  Batch   200  of    270.    Elapsed: 0:02:06.\n",
            "  Batch   210  of    270.    Elapsed: 0:02:12.\n",
            "  Batch   220  of    270.    Elapsed: 0:02:19.\n",
            "  Batch   230  of    270.    Elapsed: 0:02:25.\n",
            "  Batch   240  of    270.    Elapsed: 0:02:31.\n",
            "  Batch   250  of    270.    Elapsed: 0:02:38.\n",
            "  Batch   260  of    270.    Elapsed: 0:02:44.\n",
            "\n",
            "  Average training loss generetor: 0.731\n",
            "  Average training loss discriminator: 1.621\n",
            "  Training epcoh took: 0:02:50\n",
            "\n",
            "Running Test...\n",
            "  Accuracy: 0.571\n",
            "  Test Loss: 1.776\n",
            "  Test took: 0:00:09\n",
            "\n",
            "======== Epoch 5 / 5 ========\n",
            "Training...\n",
            "  Batch    10  of    270.    Elapsed: 0:00:06.\n",
            "  Batch    20  of    270.    Elapsed: 0:00:13.\n",
            "  Batch    30  of    270.    Elapsed: 0:00:19.\n",
            "  Batch    40  of    270.    Elapsed: 0:00:25.\n",
            "  Batch    50  of    270.    Elapsed: 0:00:32.\n",
            "  Batch    60  of    270.    Elapsed: 0:00:38.\n",
            "  Batch    70  of    270.    Elapsed: 0:00:44.\n",
            "  Batch    80  of    270.    Elapsed: 0:00:50.\n",
            "  Batch    90  of    270.    Elapsed: 0:00:57.\n",
            "  Batch   100  of    270.    Elapsed: 0:01:03.\n",
            "  Batch   110  of    270.    Elapsed: 0:01:09.\n",
            "  Batch   120  of    270.    Elapsed: 0:01:16.\n",
            "  Batch   130  of    270.    Elapsed: 0:01:22.\n",
            "  Batch   140  of    270.    Elapsed: 0:01:28.\n",
            "  Batch   150  of    270.    Elapsed: 0:01:35.\n",
            "  Batch   160  of    270.    Elapsed: 0:01:41.\n",
            "  Batch   170  of    270.    Elapsed: 0:01:47.\n",
            "  Batch   180  of    270.    Elapsed: 0:01:54.\n",
            "  Batch   190  of    270.    Elapsed: 0:02:00.\n",
            "  Batch   200  of    270.    Elapsed: 0:02:06.\n",
            "  Batch   210  of    270.    Elapsed: 0:02:12.\n",
            "  Batch   220  of    270.    Elapsed: 0:02:19.\n",
            "  Batch   230  of    270.    Elapsed: 0:02:25.\n",
            "  Batch   240  of    270.    Elapsed: 0:02:31.\n",
            "  Batch   250  of    270.    Elapsed: 0:02:38.\n",
            "  Batch   260  of    270.    Elapsed: 0:02:44.\n",
            "\n",
            "  Average training loss generetor: 0.725\n",
            "  Average training loss discriminator: 1.441\n",
            "  Training epcoh took: 0:02:50\n",
            "\n",
            "Running Test...\n",
            "  Accuracy: 0.587\n",
            "  Test Loss: 1.732\n",
            "  Test took: 0:00:09\n"
          ]
        }
      ]
    },
    {
      "cell_type": "code",
      "source": [
        "training_procedure_completion_print(training_stats_5, total_t0)"
      ],
      "metadata": {
        "colab": {
          "base_uri": "https://localhost:8080/"
        },
        "outputId": "40fcfad8-46bf-4c80-e8bf-5caf7bb2a0e3",
        "id": "xbr48AgMNVma"
      },
      "execution_count": 140,
      "outputs": [
        {
          "output_type": "stream",
          "name": "stdout",
          "text": [
            "{'epoch': 1, 'Training Loss generator': 0.6684312797806881, 'Training Loss discriminator': 5.2826245802420155, 'Valid. Loss': 3.205151081085205, 'Valid. Accur.': 0.41, 'Training Time': '0:02:50', 'Test Time': '0:00:09'}\n",
            "{'epoch': 2, 'Training Loss generator': 0.7542310169449559, 'Training Loss discriminator': 2.9806429147720337, 'Valid. Loss': 2.1023173332214355, 'Valid. Accur.': 0.524, 'Training Time': '0:02:50', 'Test Time': '0:00:09'}\n",
            "{'epoch': 3, 'Training Loss generator': 0.7440843502680461, 'Training Loss discriminator': 2.061655746124409, 'Valid. Loss': 1.8017778396606445, 'Valid. Accur.': 0.5502222222222222, 'Training Time': '0:02:50', 'Test Time': '0:00:09'}\n",
            "{'epoch': 4, 'Training Loss generator': 0.7310948895083533, 'Training Loss discriminator': 1.6205493432504159, 'Valid. Loss': 1.775606393814087, 'Valid. Accur.': 0.5713333333333334, 'Training Time': '0:02:50', 'Test Time': '0:00:09'}\n",
            "{'epoch': 5, 'Training Loss generator': 0.7254066732194688, 'Training Loss discriminator': 1.4408644998515094, 'Valid. Loss': 1.7321797609329224, 'Valid. Accur.': 0.5868888888888889, 'Training Time': '0:02:50', 'Test Time': '0:00:09'}\n",
            "\n",
            "Training complete!\n",
            "Total training took 0:15:19 (h:mm:ss)\n"
          ]
        }
      ]
    },
    {
      "cell_type": "code",
      "source": [
        "training_stats_5[-1]"
      ],
      "metadata": {
        "colab": {
          "base_uri": "https://localhost:8080/"
        },
        "outputId": "6089b75d-ec96-4eb1-df70-ab6211d2432a",
        "id": "It8qnSsqNVma"
      },
      "execution_count": 141,
      "outputs": [
        {
          "output_type": "execute_result",
          "data": {
            "text/plain": [
              "{'Test Time': '0:00:09',\n",
              " 'Training Loss discriminator': 1.4408644998515094,\n",
              " 'Training Loss generator': 0.7254066732194688,\n",
              " 'Training Time': '0:02:50',\n",
              " 'Valid. Accur.': 0.5868888888888889,\n",
              " 'Valid. Loss': 1.7321797609329224,\n",
              " 'epoch': 5}"
            ]
          },
          "metadata": {},
          "execution_count": 141
        }
      ]
    },
    {
      "cell_type": "markdown",
      "source": [
        "## Analysis for different splits and epochs"
      ],
      "metadata": {
        "id": "TOglB1f5zjOD"
      }
    },
    {
      "cell_type": "code",
      "source": [
        "print(\"Last epoch accuracies:\")\n",
        "print(\"1:99:\", training_stats_1[-1][\"Valid. Accur.\"])\n",
        "print(\"2:98:\", training_stats_2[-1][\"Valid. Accur.\"])\n",
        "print(\"5:95:\", training_stats_5[-1][\"Valid. Accur.\"])\n",
        "print(\"10:90:\", training_stats[-1][\"Valid. Accur.\"]) #for 10 \n",
        "print(\"20:80:\", training_stats_20[-1][\"Valid. Accur.\"]) #for 20\n",
        "print(\"30:70:\", training_stats_30[-1][\"Valid. Accur.\"]) #for 30\n",
        "print(\"40:60:\", training_stats_40[-1][\"Valid. Accur.\"])\n",
        "print(\"50:50:\", training_stats_50[-1][\"Valid. Accur.\"])\n"
      ],
      "metadata": {
        "colab": {
          "base_uri": "https://localhost:8080/"
        },
        "id": "jPjRnjB1nhwj",
        "outputId": "30e5b350-774a-46bb-9729-aa475052154e"
      },
      "execution_count": 143,
      "outputs": [
        {
          "output_type": "stream",
          "name": "stdout",
          "text": [
            "Last epoch accuracies:\n",
            "1:99: 0.3317777777777778\n",
            "2:98: 0.45644444444444443\n",
            "5:95: 0.5868888888888889\n",
            "10:90: 0.08266666666666667\n",
            "20:80: 0.22866666666666666\n",
            "30:70: 0.48133333333333334\n",
            "40:60: 0.6233333333333333\n",
            "50:50: 0.7033333333333334\n"
          ]
        }
      ]
    },
    {
      "cell_type": "code",
      "source": [
        "import matplotlib.pyplot as plt\n",
        "\n",
        "y = [training_stats_1[-1][\"Valid. Accur.\"], training_stats_2[-1][\"Valid. Accur.\"], \\\n",
        "     training_stats_5[-1][\"Valid. Accur.\"], training_stats[-1][\"Valid. Accur.\"], training_stats_20[-1][\"Valid. Accur.\"], \\\n",
        "     training_stats_30[-1][\"Valid. Accur.\"], training_stats_40[-1][\"Valid. Accur.\"]\\\n",
        "     , training_stats_50[-1][\"Valid. Accur.\"]]\n",
        "x = [\"1:99\",\"2:98\",\"5:95\", \"10:90\", \"20:80\", \"30:70\", \"40:60\", \"50:50\"]\n",
        "plt.plot(x, y, '-o')\n",
        "\n",
        "#plt.plot(x, y, label = \"line 1\")\n",
        "#plt.plot(y, x, label = \"line 2\")\n",
        "#plt.plot(x, np.sin(x), label = \"curve 1\")\n",
        "#plt.plot(x, np.cos(x), label = \"curve 2\")\n",
        "\n",
        "# naming the x axis\n",
        "plt.xlabel('Ratio of Training:Testing split')\n",
        "# naming the y axis\n",
        "plt.ylabel('Accuracy (%) after 5 epochs')\n",
        "# giving a title to my graph\n",
        "plt.title('ALBERT: GAN on CLINC-150 dataset')\n",
        "  \n",
        "# function to show the plot\n",
        "plt.show()"
      ],
      "metadata": {
        "colab": {
          "base_uri": "https://localhost:8080/",
          "height": 295
        },
        "id": "N_-r6L6qNVma",
        "outputId": "24c39d4c-e2a1-4c6e-9407-89a808f39619"
      },
      "execution_count": 159,
      "outputs": [
        {
          "output_type": "display_data",
          "data": {
            "text/plain": [
              "<Figure size 432x288 with 1 Axes>"
            ],
            "image/png": "[encoded data removed]"
          },
          "metadata": {
            "needs_background": "light"
          }
        }
      ]
    },
    {
      "cell_type": "code",
      "source": [
        "num_train_epochs"
      ],
      "metadata": {
        "colab": {
          "base_uri": "https://localhost:8080/"
        },
        "id": "DpEgiKVLyR1P",
        "outputId": "093aa0e6-ceb3-4cb9-e4ff-02aff9747c41"
      },
      "execution_count": 154,
      "outputs": [
        {
          "output_type": "execute_result",
          "data": {
            "text/plain": [
              "5"
            ]
          },
          "metadata": {},
          "execution_count": 154
        }
      ]
    },
    {
      "cell_type": "code",
      "source": [
        "import matplotlib.pyplot as plt\n",
        "\n",
        "y_1 = [training_stats_1[x][\"Valid. Accur.\"] for x in range(num_train_epochs)]\n",
        "y_2 = [training_stats_2[x][\"Valid. Accur.\"] for x in range(num_train_epochs)]\n",
        "y_5 = [training_stats_5[x][\"Valid. Accur.\"] for x in range(num_train_epochs)]\n",
        "y_10 = [training_stats[x][\"Valid. Accur.\"] for x in range(num_train_epochs)]\n",
        "y_20 = [training_stats_20[x][\"Valid. Accur.\"] for x in range(num_train_epochs)]\n",
        "y_30 = [training_stats_30[x][\"Valid. Accur.\"] for x in range(num_train_epochs)]\n",
        "y_40 = [training_stats_40[x][\"Valid. Accur.\"] for x in range(num_train_epochs)]\n",
        "y_50 = [training_stats_50[x][\"Valid. Accur.\"] for x in range(num_train_epochs)]\n",
        "x = [\"1\",\"2\",\"3\", \"4\", \"5\"]\n",
        "\n",
        "plt.plot(x, y_1, '-o', label = \"1:99 split\")\n",
        "plt.plot(x, y_2, '-o', label = \"2:98 split\")\n",
        "plt.plot(x, y_5, '-o', label = \"5:95 split\")\n",
        "plt.plot(x, y_10, '-o', label = \"10:90 split\")\n",
        "plt.plot(x, y_20, '-o', label = \"20:80 split\")\n",
        "plt.plot(x, y_30, '-o', label = \"30:70 split\")\n",
        "plt.plot(x, y_40, '-o', label = \"40:60 split\")\n",
        "plt.plot(x, y_50, '-o', label = \"50:50 split\")\n",
        "\n",
        "\n",
        "# naming the x axis\n",
        "plt.xlabel('Epochs')\n",
        "# naming the y axis\n",
        "plt.ylabel('Accuracy (%)')\n",
        "# giving a title to my graph\n",
        "plt.title('ALBERT: GAN on CLINC-150 dataset (Accuracy vs Epochs) for various training splits')\n",
        "plt.legend()\n",
        "  \n",
        "# function to show the plot\n",
        "plt.show()"
      ],
      "metadata": {
        "colab": {
          "base_uri": "https://localhost:8080/",
          "height": 295
        },
        "id": "dFerPQK8mk4-",
        "outputId": "fef7641e-c60a-460a-c0df-29e63a1d022b"
      },
      "execution_count": 157,
      "outputs": [
        {
          "output_type": "display_data",
          "data": {
            "text/plain": [
              "<Figure size 432x288 with 1 Axes>"
            ],
            "image/png": "[encoded data removed]"
          },
          "metadata": {
            "needs_background": "light"
          }
        }
      ]
    },
    {
      "cell_type": "code",
      "source": [
        "print(\"Accuracies for different splits over 5 epochs:\")\n",
        "print(\"1:99\", y_1)\n",
        "print(\"2:98\", y_2)\n",
        "print(\"5:95\", y_5)\n",
        "print(\"10:90\", y_10)\n",
        "print(\"20:80\", y_20)\n",
        "print(\"30:70\", y_30)\n",
        "print(\"40:60\", y_40)\n",
        "print(\"50:50\", y_50)"
      ],
      "metadata": {
        "colab": {
          "base_uri": "https://localhost:8080/"
        },
        "id": "FizYhQ5XyxSE",
        "outputId": "017a002b-35da-4189-beb3-2e7af354ffdc"
      },
      "execution_count": 158,
      "outputs": [
        {
          "output_type": "stream",
          "name": "stdout",
          "text": [
            "Accuracies for different splits over 5 epochs:\n",
            "1:99 [0.168, 0.2917777777777778, 0.3048888888888889, 0.3168888888888889, 0.3317777777777778]\n",
            "2:98 [0.20444444444444446, 0.31755555555555554, 0.31955555555555554, 0.3857777777777778, 0.45644444444444443]\n",
            "5:95 [0.41, 0.524, 0.5502222222222222, 0.5713333333333334, 0.5868888888888889]\n",
            "10:90 [0.013777777777777778, 0.014444444444444444, 0.03333333333333333, 0.03933333333333333, 0.08266666666666667]\n",
            "20:80 [0.06777777777777778, 0.09266666666666666, 0.15488888888888888, 0.20866666666666667, 0.22866666666666666]\n",
            "30:70 [0.1971111111111111, 0.28755555555555556, 0.3091111111111111, 0.4028888888888889, 0.48133333333333334]\n",
            "40:60 [0.396, 0.48577777777777775, 0.5542222222222222, 0.5502222222222222, 0.6233333333333333]\n",
            "50:50 [0.5695555555555556, 0.6555555555555556, 0.6035555555555555, 0.6957777777777778, 0.7033333333333334]\n"
          ]
        }
      ]
    }
  ]
}