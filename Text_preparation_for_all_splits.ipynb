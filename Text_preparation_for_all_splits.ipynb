{
  "nbformat": 4,
  "nbformat_minor": 0,
  "metadata": {
    "colab": {
      "name": "Text preparation for all splits.ipynb",
      "provenance": [],
      "toc_visible": true
    },
    "kernelspec": {
      "name": "python3",
      "display_name": "Python 3"
    },
    "language_info": {
      "name": "python"
    }
  },
  "cells": [
    {
      "cell_type": "markdown",
      "source": [
        "##Text preparation for all splits"
      ],
      "metadata": {
        "id": "u3ieaU2ZAX3j"
      }
    },
    {
      "cell_type": "code",
      "source": [
        "import pandas as pd\n",
        "import json\n",
        "from sklearn.model_selection import train_test_split"
      ],
      "metadata": {
        "id": "nOTW8v7Z7SXL"
      },
      "execution_count": 1,
      "outputs": []
    },
    {
      "cell_type": "code",
      "source": [
        "from google.colab import drive\n",
        "drive.mount('/content/gdrive')"
      ],
      "metadata": {
        "colab": {
          "base_uri": "https://localhost:8080/"
        },
        "id": "UcB8uCRrplwU",
        "outputId": "ca9183c7-dacf-4e76-cd6a-b2b979720d41"
      },
      "execution_count": 3,
      "outputs": [
        {
          "output_type": "stream",
          "name": "stdout",
          "text": [
            "Mounted at /content/gdrive\n"
          ]
        }
      ]
    },
    {
      "cell_type": "code",
      "source": [
        "%cd \"/content/gdrive/My Drive/GAN-BERT/data_CLINC150\""
      ],
      "metadata": {
        "colab": {
          "base_uri": "https://localhost:8080/"
        },
        "id": "lAKe5gBJqFIV",
        "outputId": "b5e3c480-2d6f-4746-f354-256c02cad54d"
      },
      "execution_count": 4,
      "outputs": [
        {
          "output_type": "stream",
          "name": "stdout",
          "text": [
            "/content/gdrive/My Drive/GAN-BERT/data_CLINC150\n"
          ]
        }
      ]
    },
    {
      "cell_type": "code",
      "source": [
        "import os\n",
        "os.listdir('./')"
      ],
      "metadata": {
        "colab": {
          "base_uri": "https://localhost:8080/"
        },
        "id": "vAzRqybPqIKV",
        "outputId": "d6797682-ca6d-475e-f7f1-4dad521dcb3a"
      },
      "execution_count": 5,
      "outputs": [
        {
          "output_type": "execute_result",
          "data": {
            "text/plain": [
              "['Data_Preparation.ipynb',\n",
              " 'data_full.json',\n",
              " '10_90',\n",
              " '.ipynb_checkpoints',\n",
              " '20_80',\n",
              " '40_60',\n",
              " 'ganbert',\n",
              " '1_99',\n",
              " '2_98',\n",
              " '5_95',\n",
              " '50_50',\n",
              " '30_70',\n",
              " 'test_OOS.tsv',\n",
              " 'test.tsv']"
            ]
          },
          "metadata": {},
          "execution_count": 5
        }
      ]
    },
    {
      "cell_type": "code",
      "source": [
        "with open('data_full.json') as json_file:\n",
        "    data = json.load(json_file)"
      ],
      "metadata": {
        "id": "D0HEKW277VNV"
      },
      "execution_count": 6,
      "outputs": []
    },
    {
      "cell_type": "code",
      "source": [
        "data.keys()"
      ],
      "metadata": {
        "colab": {
          "base_uri": "https://localhost:8080/"
        },
        "id": "xAYbb7Gu75po",
        "outputId": "a110a2cb-8487-4dec-be51-92071d92a0df"
      },
      "execution_count": 7,
      "outputs": [
        {
          "output_type": "execute_result",
          "data": {
            "text/plain": [
              "dict_keys(['oos_val', 'val', 'train', 'oos_test', 'test', 'oos_train'])"
            ]
          },
          "metadata": {},
          "execution_count": 7
        }
      ]
    },
    {
      "cell_type": "code",
      "source": [
        "test_data = data['test']\n",
        "test_OOS_data = data['oos_test']\n",
        "\n",
        "with open('test.tsv','a+') as f_out:\n",
        "    f_out.write('fine_label utterance'+'\\n')\n",
        "with open('test_OOS.tsv','a+') as f_out:\n",
        "    f_out.write('fine_label utterance'+'\\n')\n",
        "\n",
        "with open('test.tsv','a+') as f_out:\n",
        "    for lst in test_data:\n",
        "        line = ' '.join(lst[::-1])\n",
        "        f_out.write(line+'\\n')\n",
        "\n",
        "with open('test_OOS.tsv','a+') as f_out:\n",
        "    for lst in test_OOS_data:\n",
        "        line = ' '.join(['OOS',lst[0]])\n",
        "        f_out.write(line+'\\n')"
      ],
      "metadata": {
        "id": "5AZoMBoF779Q"
      },
      "execution_count": 8,
      "outputs": []
    },
    {
      "cell_type": "code",
      "source": [
        "def split_labeled(labeled_prop,unlabeled_prop):\n",
        "    test_size = unlabeled_prop/ (labeled_prop + unlabeled_prop)\n",
        "    df_labeled, df_unlabeled = train_test_split(df_train,stratify=df_train['label'], test_size=test_size, random_state=42)\n",
        "\n",
        "    df_labeled = df_labeled.reset_index(drop=True)\n",
        "    df_unlabeled = df_unlabeled.reset_index(drop=True)\n",
        "\n",
        "    with open(f'{labeled_prop}_{unlabeled_prop}/labeled.tsv','a+') as f_out:\n",
        "        f_out.write('fine_label utterance'+'\\n')\n",
        "    with open(f'{labeled_prop}_{unlabeled_prop}/labeled.tsv','a+') as f_out:\n",
        "        for i in range(len(df_labeled)):\n",
        "            line = ' '.join([df_labeled.loc[i,'label'], df_labeled.loc[i,'query']])\n",
        "            f_out.write(line+'\\n')\n",
        "\n",
        "    with open(f'{labeled_prop}_{unlabeled_prop}/unlabeled.tsv','a+') as f_out:\n",
        "        f_out.write('fine_label utterance'+'\\n')\n",
        "    with open(f'{labeled_prop}_{unlabeled_prop}/unlabeled.tsv','a+') as f_out:\n",
        "        for i in range(len(df_unlabeled)):\n",
        "            line = ' '.join(['UNK_UNK', df_unlabeled.loc[i,'query']])\n",
        "            f_out.write(line+'\\n')"
      ],
      "metadata": {
        "id": "E_m_dHkb7-hu"
      },
      "execution_count": 9,
      "outputs": []
    },
    {
      "cell_type": "code",
      "source": [
        "train_data = data['train']\n",
        "\n",
        "df_train = pd.DataFrame(columns=['label','query'])\n",
        "\n",
        "for lst in train_data:\n",
        "    df_train = df_train.append({'label':lst[1],'query':lst[0]},ignore_index=True)"
      ],
      "metadata": {
        "id": "ihNu9qDY8Bs5"
      },
      "execution_count": 10,
      "outputs": []
    },
    {
      "cell_type": "code",
      "source": [
        "#1st Variation\n",
        "split_labeled(labeled_prop=1,unlabeled_prop=99)"
      ],
      "metadata": {
        "id": "tWC8-FrW8SDC"
      },
      "execution_count": null,
      "outputs": []
    },
    {
      "cell_type": "code",
      "source": [
        "#2nd Variation\n",
        "split_labeled(labeled_prop=2,unlabeled_prop=98)"
      ],
      "metadata": {
        "id": "DpMGVezvAqMM"
      },
      "execution_count": null,
      "outputs": []
    },
    {
      "cell_type": "code",
      "source": [
        "#3rd Variation\n",
        "split_labeled(labeled_prop=5,unlabeled_prop=95)"
      ],
      "metadata": {
        "id": "OLTyRNCmCJN0"
      },
      "execution_count": null,
      "outputs": []
    },
    {
      "cell_type": "code",
      "source": [
        "#4th Variation\n",
        "split_labeled(labeled_prop=10,unlabeled_prop=90)"
      ],
      "metadata": {
        "id": "mg9e48qWQyAG"
      },
      "execution_count": null,
      "outputs": []
    },
    {
      "cell_type": "code",
      "source": [
        "#5th Variation\n",
        "split_labeled(labeled_prop=20,unlabeled_prop=80)"
      ],
      "metadata": {
        "id": "4-LaZnFWCN8N"
      },
      "execution_count": null,
      "outputs": []
    },
    {
      "cell_type": "code",
      "source": [
        "#6th Variation\n",
        "split_labeled(labeled_prop=30,unlabeled_prop=70)"
      ],
      "metadata": {
        "id": "q1v-3gX7CWCi"
      },
      "execution_count": null,
      "outputs": []
    },
    {
      "cell_type": "code",
      "source": [
        "#7th Variation\n",
        "split_labeled(labeled_prop=40,unlabeled_prop=60)"
      ],
      "metadata": {
        "id": "8Yms6WMZCbm1"
      },
      "execution_count": null,
      "outputs": []
    },
    {
      "cell_type": "code",
      "source": [
        "#8th Variation\n",
        "split_labeled(labeled_prop=50,unlabeled_prop=50)"
      ],
      "metadata": {
        "id": "GS_jojhwCq7Y"
      },
      "execution_count": null,
      "outputs": []
    }
  ]
}