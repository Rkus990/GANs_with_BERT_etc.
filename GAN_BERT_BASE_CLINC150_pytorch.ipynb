{
  "nbformat": 4,
  "nbformat_minor": 0,
  "metadata": {
    "accelerator": "GPU",
    "colab": {
      "name": "GAN_BERT-BASE_CLINC150_pytorch.ipynb",
      "provenance": [],
      "collapsed_sections": [],
      "toc_visible": true
    },
    "kernelspec": {
      "display_name": "Python 3",
      "name": "python3"
    },
    "widgets": {
      "application/vnd.jupyter.widget-state+json": {
        "402f383225df480ebdd4665fd6a29482": {
          "model_module": "@jupyter-widgets/controls",
          "model_name": "HBoxModel",
          "model_module_version": "1.5.0",
          "state": {
            "_dom_classes": [],
            "_model_module": "@jupyter-widgets/controls",
            "_model_module_version": "1.5.0",
            "_model_name": "HBoxModel",
            "_view_count": null,
            "_view_module": "@jupyter-widgets/controls",
            "_view_module_version": "1.5.0",
            "_view_name": "HBoxView",
            "box_style": "",
            "children": [
              "IPY_MODEL_f88f79fdcd0b4d8b8dcd878bd94f4794",
              "IPY_MODEL_bcd0ecc1f65c4ae19ed259679cd66cb3",
              "IPY_MODEL_643f5e9d0c244addb9da4eefa5b1e287"
            ],
            "layout": "IPY_MODEL_6c39cd3080d5479d9aff1718ab3477c0"
          }
        },
        "f88f79fdcd0b4d8b8dcd878bd94f4794": {
          "model_module": "@jupyter-widgets/controls",
          "model_name": "HTMLModel",
          "model_module_version": "1.5.0",
          "state": {
            "_dom_classes": [],
            "_model_module": "@jupyter-widgets/controls",
            "_model_module_version": "1.5.0",
            "_model_name": "HTMLModel",
            "_view_count": null,
            "_view_module": "@jupyter-widgets/controls",
            "_view_module_version": "1.5.0",
            "_view_name": "HTMLView",
            "description": "",
            "description_tooltip": null,
            "layout": "IPY_MODEL_9c7ec029a2324ff5a366eccea1523a21",
            "placeholder": "​",
            "style": "IPY_MODEL_354bb60f6aba4f1ab90f337d2eb586bd",
            "value": "Downloading: 100%"
          }
        },
        "bcd0ecc1f65c4ae19ed259679cd66cb3": {
          "model_module": "@jupyter-widgets/controls",
          "model_name": "FloatProgressModel",
          "model_module_version": "1.5.0",
          "state": {
            "_dom_classes": [],
            "_model_module": "@jupyter-widgets/controls",
            "_model_module_version": "1.5.0",
            "_model_name": "FloatProgressModel",
            "_view_count": null,
            "_view_module": "@jupyter-widgets/controls",
            "_view_module_version": "1.5.0",
            "_view_name": "ProgressView",
            "bar_style": "success",
            "description": "",
            "description_tooltip": null,
            "layout": "IPY_MODEL_95f61deca8bc47358d3dd4cb9ba137b8",
            "max": 570,
            "min": 0,
            "orientation": "horizontal",
            "style": "IPY_MODEL_77b9f48cf9bd425f8a0714fc0f3d1fd6",
            "value": 570
          }
        },
        "643f5e9d0c244addb9da4eefa5b1e287": {
          "model_module": "@jupyter-widgets/controls",
          "model_name": "HTMLModel",
          "model_module_version": "1.5.0",
          "state": {
            "_dom_classes": [],
            "_model_module": "@jupyter-widgets/controls",
            "_model_module_version": "1.5.0",
            "_model_name": "HTMLModel",
            "_view_count": null,
            "_view_module": "@jupyter-widgets/controls",
            "_view_module_version": "1.5.0",
            "_view_name": "HTMLView",
            "description": "",
            "description_tooltip": null,
            "layout": "IPY_MODEL_6e6e702384814339bc2a4d0fda982d84",
            "placeholder": "​",
            "style": "IPY_MODEL_81f99d330b424db4b78a3721524c5787",
            "value": " 570/570 [00:00&lt;00:00, 15.4kB/s]"
          }
        },
        "6c39cd3080d5479d9aff1718ab3477c0": {
          "model_module": "@jupyter-widgets/base",
          "model_name": "LayoutModel",
          "model_module_version": "1.2.0",
          "state": {
            "_model_module": "@jupyter-widgets/base",
            "_model_module_version": "1.2.0",
            "_model_name": "LayoutModel",
            "_view_count": null,
            "_view_module": "@jupyter-widgets/base",
            "_view_module_version": "1.2.0",
            "_view_name": "LayoutView",
            "align_content": null,
            "align_items": null,
            "align_self": null,
            "border": null,
            "bottom": null,
            "display": null,
            "flex": null,
            "flex_flow": null,
            "grid_area": null,
            "grid_auto_columns": null,
            "grid_auto_flow": null,
            "grid_auto_rows": null,
            "grid_column": null,
            "grid_gap": null,
            "grid_row": null,
            "grid_template_areas": null,
            "grid_template_columns": null,
            "grid_template_rows": null,
            "height": null,
            "justify_content": null,
            "justify_items": null,
            "left": null,
            "margin": null,
            "max_height": null,
            "max_width": null,
            "min_height": null,
            "min_width": null,
            "object_fit": null,
            "object_position": null,
            "order": null,
            "overflow": null,
            "overflow_x": null,
            "overflow_y": null,
            "padding": null,
            "right": null,
            "top": null,
            "visibility": null,
            "width": null
          }
        },
        "9c7ec029a2324ff5a366eccea1523a21": {
          "model_module": "@jupyter-widgets/base",
          "model_name": "LayoutModel",
          "model_module_version": "1.2.0",
          "state": {
            "_model_module": "@jupyter-widgets/base",
            "_model_module_version": "1.2.0",
            "_model_name": "LayoutModel",
            "_view_count": null,
            "_view_module": "@jupyter-widgets/base",
            "_view_module_version": "1.2.0",
            "_view_name": "LayoutView",
            "align_content": null,
            "align_items": null,
            "align_self": null,
            "border": null,
            "bottom": null,
            "display": null,
            "flex": null,
            "flex_flow": null,
            "grid_area": null,
            "grid_auto_columns": null,
            "grid_auto_flow": null,
            "grid_auto_rows": null,
            "grid_column": null,
            "grid_gap": null,
            "grid_row": null,
            "grid_template_areas": null,
            "grid_template_columns": null,
            "grid_template_rows": null,
            "height": null,
            "justify_content": null,
            "justify_items": null,
            "left": null,
            "margin": null,
            "max_height": null,
            "max_width": null,
            "min_height": null,
            "min_width": null,
            "object_fit": null,
            "object_position": null,
            "order": null,
            "overflow": null,
            "overflow_x": null,
            "overflow_y": null,
            "padding": null,
            "right": null,
            "top": null,
            "visibility": null,
            "width": null
          }
        },
        "354bb60f6aba4f1ab90f337d2eb586bd": {
          "model_module": "@jupyter-widgets/controls",
          "model_name": "DescriptionStyleModel",
          "model_module_version": "1.5.0",
          "state": {
            "_model_module": "@jupyter-widgets/controls",
            "_model_module_version": "1.5.0",
            "_model_name": "DescriptionStyleModel",
            "_view_count": null,
            "_view_module": "@jupyter-widgets/base",
            "_view_module_version": "1.2.0",
            "_view_name": "StyleView",
            "description_width": ""
          }
        },
        "95f61deca8bc47358d3dd4cb9ba137b8": {
          "model_module": "@jupyter-widgets/base",
          "model_name": "LayoutModel",
          "model_module_version": "1.2.0",
          "state": {
            "_model_module": "@jupyter-widgets/base",
            "_model_module_version": "1.2.0",
            "_model_name": "LayoutModel",
            "_view_count": null,
            "_view_module": "@jupyter-widgets/base",
            "_view_module_version": "1.2.0",
            "_view_name": "LayoutView",
            "align_content": null,
            "align_items": null,
            "align_self": null,
            "border": null,
            "bottom": null,
            "display": null,
            "flex": null,
            "flex_flow": null,
            "grid_area": null,
            "grid_auto_columns": null,
            "grid_auto_flow": null,
            "grid_auto_rows": null,
            "grid_column": null,
            "grid_gap": null,
            "grid_row": null,
            "grid_template_areas": null,
            "grid_template_columns": null,
            "grid_template_rows": null,
            "height": null,
            "justify_content": null,
            "justify_items": null,
            "left": null,
            "margin": null,
            "max_height": null,
            "max_width": null,
            "min_height": null,
            "min_width": null,
            "object_fit": null,
            "object_position": null,
            "order": null,
            "overflow": null,
            "overflow_x": null,
            "overflow_y": null,
            "padding": null,
            "right": null,
            "top": null,
            "visibility": null,
            "width": null
          }
        },
        "77b9f48cf9bd425f8a0714fc0f3d1fd6": {
          "model_module": "@jupyter-widgets/controls",
          "model_name": "ProgressStyleModel",
          "model_module_version": "1.5.0",
          "state": {
            "_model_module": "@jupyter-widgets/controls",
            "_model_module_version": "1.5.0",
            "_model_name": "ProgressStyleModel",
            "_view_count": null,
            "_view_module": "@jupyter-widgets/base",
            "_view_module_version": "1.2.0",
            "_view_name": "StyleView",
            "bar_color": null,
            "description_width": ""
          }
        },
        "6e6e702384814339bc2a4d0fda982d84": {
          "model_module": "@jupyter-widgets/base",
          "model_name": "LayoutModel",
          "model_module_version": "1.2.0",
          "state": {
            "_model_module": "@jupyter-widgets/base",
            "_model_module_version": "1.2.0",
            "_model_name": "LayoutModel",
            "_view_count": null,
            "_view_module": "@jupyter-widgets/base",
            "_view_module_version": "1.2.0",
            "_view_name": "LayoutView",
            "align_content": null,
            "align_items": null,
            "align_self": null,
            "border": null,
            "bottom": null,
            "display": null,
            "flex": null,
            "flex_flow": null,
            "grid_area": null,
            "grid_auto_columns": null,
            "grid_auto_flow": null,
            "grid_auto_rows": null,
            "grid_column": null,
            "grid_gap": null,
            "grid_row": null,
            "grid_template_areas": null,
            "grid_template_columns": null,
            "grid_template_rows": null,
            "height": null,
            "justify_content": null,
            "justify_items": null,
            "left": null,
            "margin": null,
            "max_height": null,
            "max_width": null,
            "min_height": null,
            "min_width": null,
            "object_fit": null,
            "object_position": null,
            "order": null,
            "overflow": null,
            "overflow_x": null,
            "overflow_y": null,
            "padding": null,
            "right": null,
            "top": null,
            "visibility": null,
            "width": null
          }
        },
        "81f99d330b424db4b78a3721524c5787": {
          "model_module": "@jupyter-widgets/controls",
          "model_name": "DescriptionStyleModel",
          "model_module_version": "1.5.0",
          "state": {
            "_model_module": "@jupyter-widgets/controls",
            "_model_module_version": "1.5.0",
            "_model_name": "DescriptionStyleModel",
            "_view_count": null,
            "_view_module": "@jupyter-widgets/base",
            "_view_module_version": "1.2.0",
            "_view_name": "StyleView",
            "description_width": ""
          }
        },
        "99a27a243abe4fcaa17ac94725e84d13": {
          "model_module": "@jupyter-widgets/controls",
          "model_name": "HBoxModel",
          "model_module_version": "1.5.0",
          "state": {
            "_dom_classes": [],
            "_model_module": "@jupyter-widgets/controls",
            "_model_module_version": "1.5.0",
            "_model_name": "HBoxModel",
            "_view_count": null,
            "_view_module": "@jupyter-widgets/controls",
            "_view_module_version": "1.5.0",
            "_view_name": "HBoxView",
            "box_style": "",
            "children": [
              "IPY_MODEL_76723e45776a49ecb772721ac71d43fe",
              "IPY_MODEL_0efe600dae70457095df7364ae3e369b",
              "IPY_MODEL_cd462caeb35147e8a09f35f78c84f354"
            ],
            "layout": "IPY_MODEL_2d7194b0a7eb4f41a8a4da00cb99fe2a"
          }
        },
        "76723e45776a49ecb772721ac71d43fe": {
          "model_module": "@jupyter-widgets/controls",
          "model_name": "HTMLModel",
          "model_module_version": "1.5.0",
          "state": {
            "_dom_classes": [],
            "_model_module": "@jupyter-widgets/controls",
            "_model_module_version": "1.5.0",
            "_model_name": "HTMLModel",
            "_view_count": null,
            "_view_module": "@jupyter-widgets/controls",
            "_view_module_version": "1.5.0",
            "_view_name": "HTMLView",
            "description": "",
            "description_tooltip": null,
            "layout": "IPY_MODEL_3d00fe1fdd9f47c0b712f2fe513cd623",
            "placeholder": "​",
            "style": "IPY_MODEL_34ca21f0c2254a7f872649dcb8393da3",
            "value": "Downloading: 100%"
          }
        },
        "0efe600dae70457095df7364ae3e369b": {
          "model_module": "@jupyter-widgets/controls",
          "model_name": "FloatProgressModel",
          "model_module_version": "1.5.0",
          "state": {
            "_dom_classes": [],
            "_model_module": "@jupyter-widgets/controls",
            "_model_module_version": "1.5.0",
            "_model_name": "FloatProgressModel",
            "_view_count": null,
            "_view_module": "@jupyter-widgets/controls",
            "_view_module_version": "1.5.0",
            "_view_name": "ProgressView",
            "bar_style": "success",
            "description": "",
            "description_tooltip": null,
            "layout": "IPY_MODEL_96973603172d4b6fbce7971ba90e7eff",
            "max": 435779157,
            "min": 0,
            "orientation": "horizontal",
            "style": "IPY_MODEL_684a7a89f3574e58b07ad013695bcb87",
            "value": 435779157
          }
        },
        "cd462caeb35147e8a09f35f78c84f354": {
          "model_module": "@jupyter-widgets/controls",
          "model_name": "HTMLModel",
          "model_module_version": "1.5.0",
          "state": {
            "_dom_classes": [],
            "_model_module": "@jupyter-widgets/controls",
            "_model_module_version": "1.5.0",
            "_model_name": "HTMLModel",
            "_view_count": null,
            "_view_module": "@jupyter-widgets/controls",
            "_view_module_version": "1.5.0",
            "_view_name": "HTMLView",
            "description": "",
            "description_tooltip": null,
            "layout": "IPY_MODEL_de60bdd7ec59432481390be2c3b26f34",
            "placeholder": "​",
            "style": "IPY_MODEL_57017dfe416847f4a8e8cc024ef6118e",
            "value": " 436M/436M [00:07&lt;00:00, 58.8MB/s]"
          }
        },
        "2d7194b0a7eb4f41a8a4da00cb99fe2a": {
          "model_module": "@jupyter-widgets/base",
          "model_name": "LayoutModel",
          "model_module_version": "1.2.0",
          "state": {
            "_model_module": "@jupyter-widgets/base",
            "_model_module_version": "1.2.0",
            "_model_name": "LayoutModel",
            "_view_count": null,
            "_view_module": "@jupyter-widgets/base",
            "_view_module_version": "1.2.0",
            "_view_name": "LayoutView",
            "align_content": null,
            "align_items": null,
            "align_self": null,
            "border": null,
            "bottom": null,
            "display": null,
            "flex": null,
            "flex_flow": null,
            "grid_area": null,
            "grid_auto_columns": null,
            "grid_auto_flow": null,
            "grid_auto_rows": null,
            "grid_column": null,
            "grid_gap": null,
            "grid_row": null,
            "grid_template_areas": null,
            "grid_template_columns": null,
            "grid_template_rows": null,
            "height": null,
            "justify_content": null,
            "justify_items": null,
            "left": null,
            "margin": null,
            "max_height": null,
            "max_width": null,
            "min_height": null,
            "min_width": null,
            "object_fit": null,
            "object_position": null,
            "order": null,
            "overflow": null,
            "overflow_x": null,
            "overflow_y": null,
            "padding": null,
            "right": null,
            "top": null,
            "visibility": null,
            "width": null
          }
        },
        "3d00fe1fdd9f47c0b712f2fe513cd623": {
          "model_module": "@jupyter-widgets/base",
          "model_name": "LayoutModel",
          "model_module_version": "1.2.0",
          "state": {
            "_model_module": "@jupyter-widgets/base",
            "_model_module_version": "1.2.0",
            "_model_name": "LayoutModel",
            "_view_count": null,
            "_view_module": "@jupyter-widgets/base",
            "_view_module_version": "1.2.0",
            "_view_name": "LayoutView",
            "align_content": null,
            "align_items": null,
            "align_self": null,
            "border": null,
            "bottom": null,
            "display": null,
            "flex": null,
            "flex_flow": null,
            "grid_area": null,
            "grid_auto_columns": null,
            "grid_auto_flow": null,
            "grid_auto_rows": null,
            "grid_column": null,
            "grid_gap": null,
            "grid_row": null,
            "grid_template_areas": null,
            "grid_template_columns": null,
            "grid_template_rows": null,
            "height": null,
            "justify_content": null,
            "justify_items": null,
            "left": null,
            "margin": null,
            "max_height": null,
            "max_width": null,
            "min_height": null,
            "min_width": null,
            "object_fit": null,
            "object_position": null,
            "order": null,
            "overflow": null,
            "overflow_x": null,
            "overflow_y": null,
            "padding": null,
            "right": null,
            "top": null,
            "visibility": null,
            "width": null
          }
        },
        "34ca21f0c2254a7f872649dcb8393da3": {
          "model_module": "@jupyter-widgets/controls",
          "model_name": "DescriptionStyleModel",
          "model_module_version": "1.5.0",
          "state": {
            "_model_module": "@jupyter-widgets/controls",
            "_model_module_version": "1.5.0",
            "_model_name": "DescriptionStyleModel",
            "_view_count": null,
            "_view_module": "@jupyter-widgets/base",
            "_view_module_version": "1.2.0",
            "_view_name": "StyleView",
            "description_width": ""
          }
        },
        "96973603172d4b6fbce7971ba90e7eff": {
          "model_module": "@jupyter-widgets/base",
          "model_name": "LayoutModel",
          "model_module_version": "1.2.0",
          "state": {
            "_model_module": "@jupyter-widgets/base",
            "_model_module_version": "1.2.0",
            "_model_name": "LayoutModel",
            "_view_count": null,
            "_view_module": "@jupyter-widgets/base",
            "_view_module_version": "1.2.0",
            "_view_name": "LayoutView",
            "align_content": null,
            "align_items": null,
            "align_self": null,
            "border": null,
            "bottom": null,
            "display": null,
            "flex": null,
            "flex_flow": null,
            "grid_area": null,
            "grid_auto_columns": null,
            "grid_auto_flow": null,
            "grid_auto_rows": null,
            "grid_column": null,
            "grid_gap": null,
            "grid_row": null,
            "grid_template_areas": null,
            "grid_template_columns": null,
            "grid_template_rows": null,
            "height": null,
            "justify_content": null,
            "justify_items": null,
            "left": null,
            "margin": null,
            "max_height": null,
            "max_width": null,
            "min_height": null,
            "min_width": null,
            "object_fit": null,
            "object_position": null,
            "order": null,
            "overflow": null,
            "overflow_x": null,
            "overflow_y": null,
            "padding": null,
            "right": null,
            "top": null,
            "visibility": null,
            "width": null
          }
        },
        "684a7a89f3574e58b07ad013695bcb87": {
          "model_module": "@jupyter-widgets/controls",
          "model_name": "ProgressStyleModel",
          "model_module_version": "1.5.0",
          "state": {
            "_model_module": "@jupyter-widgets/controls",
            "_model_module_version": "1.5.0",
            "_model_name": "ProgressStyleModel",
            "_view_count": null,
            "_view_module": "@jupyter-widgets/base",
            "_view_module_version": "1.2.0",
            "_view_name": "StyleView",
            "bar_color": null,
            "description_width": ""
          }
        },
        "de60bdd7ec59432481390be2c3b26f34": {
          "model_module": "@jupyter-widgets/base",
          "model_name": "LayoutModel",
          "model_module_version": "1.2.0",
          "state": {
            "_model_module": "@jupyter-widgets/base",
            "_model_module_version": "1.2.0",
            "_model_name": "LayoutModel",
            "_view_count": null,
            "_view_module": "@jupyter-widgets/base",
            "_view_module_version": "1.2.0",
            "_view_name": "LayoutView",
            "align_content": null,
            "align_items": null,
            "align_self": null,
            "border": null,
            "bottom": null,
            "display": null,
            "flex": null,
            "flex_flow": null,
            "grid_area": null,
            "grid_auto_columns": null,
            "grid_auto_flow": null,
            "grid_auto_rows": null,
            "grid_column": null,
            "grid_gap": null,
            "grid_row": null,
            "grid_template_areas": null,
            "grid_template_columns": null,
            "grid_template_rows": null,
            "height": null,
            "justify_content": null,
            "justify_items": null,
            "left": null,
            "margin": null,
            "max_height": null,
            "max_width": null,
            "min_height": null,
            "min_width": null,
            "object_fit": null,
            "object_position": null,
            "order": null,
            "overflow": null,
            "overflow_x": null,
            "overflow_y": null,
            "padding": null,
            "right": null,
            "top": null,
            "visibility": null,
            "width": null
          }
        },
        "57017dfe416847f4a8e8cc024ef6118e": {
          "model_module": "@jupyter-widgets/controls",
          "model_name": "DescriptionStyleModel",
          "model_module_version": "1.5.0",
          "state": {
            "_model_module": "@jupyter-widgets/controls",
            "_model_module_version": "1.5.0",
            "_model_name": "DescriptionStyleModel",
            "_view_count": null,
            "_view_module": "@jupyter-widgets/base",
            "_view_module_version": "1.2.0",
            "_view_name": "StyleView",
            "description_width": ""
          }
        },
        "945b685e1f414a83bfc68ed8f71144a2": {
          "model_module": "@jupyter-widgets/controls",
          "model_name": "HBoxModel",
          "model_module_version": "1.5.0",
          "state": {
            "_dom_classes": [],
            "_model_module": "@jupyter-widgets/controls",
            "_model_module_version": "1.5.0",
            "_model_name": "HBoxModel",
            "_view_count": null,
            "_view_module": "@jupyter-widgets/controls",
            "_view_module_version": "1.5.0",
            "_view_name": "HBoxView",
            "box_style": "",
            "children": [
              "IPY_MODEL_5424607fb2d94bcd83741ceda36913f6",
              "IPY_MODEL_6a6b441594554d46ae692bdb9d4b369b",
              "IPY_MODEL_1ab9cd7b80de4b76902a3f06bd73b666"
            ],
            "layout": "IPY_MODEL_aa7453a75e8148428a3be32fe3045e26"
          }
        },
        "5424607fb2d94bcd83741ceda36913f6": {
          "model_module": "@jupyter-widgets/controls",
          "model_name": "HTMLModel",
          "model_module_version": "1.5.0",
          "state": {
            "_dom_classes": [],
            "_model_module": "@jupyter-widgets/controls",
            "_model_module_version": "1.5.0",
            "_model_name": "HTMLModel",
            "_view_count": null,
            "_view_module": "@jupyter-widgets/controls",
            "_view_module_version": "1.5.0",
            "_view_name": "HTMLView",
            "description": "",
            "description_tooltip": null,
            "layout": "IPY_MODEL_2f7bf391f66a458e92cb6a9222940c6d",
            "placeholder": "​",
            "style": "IPY_MODEL_a508daa347bf42bcb98c73b3626df653",
            "value": "Downloading: 100%"
          }
        },
        "6a6b441594554d46ae692bdb9d4b369b": {
          "model_module": "@jupyter-widgets/controls",
          "model_name": "FloatProgressModel",
          "model_module_version": "1.5.0",
          "state": {
            "_dom_classes": [],
            "_model_module": "@jupyter-widgets/controls",
            "_model_module_version": "1.5.0",
            "_model_name": "FloatProgressModel",
            "_view_count": null,
            "_view_module": "@jupyter-widgets/controls",
            "_view_module_version": "1.5.0",
            "_view_name": "ProgressView",
            "bar_style": "success",
            "description": "",
            "description_tooltip": null,
            "layout": "IPY_MODEL_fbfb2769923d4bd4a11796823fc96e73",
            "max": 213450,
            "min": 0,
            "orientation": "horizontal",
            "style": "IPY_MODEL_bef3076f51c848dcb4c4c544f34ade63",
            "value": 213450
          }
        },
        "1ab9cd7b80de4b76902a3f06bd73b666": {
          "model_module": "@jupyter-widgets/controls",
          "model_name": "HTMLModel",
          "model_module_version": "1.5.0",
          "state": {
            "_dom_classes": [],
            "_model_module": "@jupyter-widgets/controls",
            "_model_module_version": "1.5.0",
            "_model_name": "HTMLModel",
            "_view_count": null,
            "_view_module": "@jupyter-widgets/controls",
            "_view_module_version": "1.5.0",
            "_view_name": "HTMLView",
            "description": "",
            "description_tooltip": null,
            "layout": "IPY_MODEL_84d2ac10e8ff468c9144dc34a1a412b2",
            "placeholder": "​",
            "style": "IPY_MODEL_7c0833c302ff420abc2c1a38efaa1a78",
            "value": " 213k/213k [00:00&lt;00:00, 913kB/s]"
          }
        },
        "aa7453a75e8148428a3be32fe3045e26": {
          "model_module": "@jupyter-widgets/base",
          "model_name": "LayoutModel",
          "model_module_version": "1.2.0",
          "state": {
            "_model_module": "@jupyter-widgets/base",
            "_model_module_version": "1.2.0",
            "_model_name": "LayoutModel",
            "_view_count": null,
            "_view_module": "@jupyter-widgets/base",
            "_view_module_version": "1.2.0",
            "_view_name": "LayoutView",
            "align_content": null,
            "align_items": null,
            "align_self": null,
            "border": null,
            "bottom": null,
            "display": null,
            "flex": null,
            "flex_flow": null,
            "grid_area": null,
            "grid_auto_columns": null,
            "grid_auto_flow": null,
            "grid_auto_rows": null,
            "grid_column": null,
            "grid_gap": null,
            "grid_row": null,
            "grid_template_areas": null,
            "grid_template_columns": null,
            "grid_template_rows": null,
            "height": null,
            "justify_content": null,
            "justify_items": null,
            "left": null,
            "margin": null,
            "max_height": null,
            "max_width": null,
            "min_height": null,
            "min_width": null,
            "object_fit": null,
            "object_position": null,
            "order": null,
            "overflow": null,
            "overflow_x": null,
            "overflow_y": null,
            "padding": null,
            "right": null,
            "top": null,
            "visibility": null,
            "width": null
          }
        },
        "2f7bf391f66a458e92cb6a9222940c6d": {
          "model_module": "@jupyter-widgets/base",
          "model_name": "LayoutModel",
          "model_module_version": "1.2.0",
          "state": {
            "_model_module": "@jupyter-widgets/base",
            "_model_module_version": "1.2.0",
            "_model_name": "LayoutModel",
            "_view_count": null,
            "_view_module": "@jupyter-widgets/base",
            "_view_module_version": "1.2.0",
            "_view_name": "LayoutView",
            "align_content": null,
            "align_items": null,
            "align_self": null,
            "border": null,
            "bottom": null,
            "display": null,
            "flex": null,
            "flex_flow": null,
            "grid_area": null,
            "grid_auto_columns": null,
            "grid_auto_flow": null,
            "grid_auto_rows": null,
            "grid_column": null,
            "grid_gap": null,
            "grid_row": null,
            "grid_template_areas": null,
            "grid_template_columns": null,
            "grid_template_rows": null,
            "height": null,
            "justify_content": null,
            "justify_items": null,
            "left": null,
            "margin": null,
            "max_height": null,
            "max_width": null,
            "min_height": null,
            "min_width": null,
            "object_fit": null,
            "object_position": null,
            "order": null,
            "overflow": null,
            "overflow_x": null,
            "overflow_y": null,
            "padding": null,
            "right": null,
            "top": null,
            "visibility": null,
            "width": null
          }
        },
        "a508daa347bf42bcb98c73b3626df653": {
          "model_module": "@jupyter-widgets/controls",
          "model_name": "DescriptionStyleModel",
          "model_module_version": "1.5.0",
          "state": {
            "_model_module": "@jupyter-widgets/controls",
            "_model_module_version": "1.5.0",
            "_model_name": "DescriptionStyleModel",
            "_view_count": null,
            "_view_module": "@jupyter-widgets/base",
            "_view_module_version": "1.2.0",
            "_view_name": "StyleView",
            "description_width": ""
          }
        },
        "fbfb2769923d4bd4a11796823fc96e73": {
          "model_module": "@jupyter-widgets/base",
          "model_name": "LayoutModel",
          "model_module_version": "1.2.0",
          "state": {
            "_model_module": "@jupyter-widgets/base",
            "_model_module_version": "1.2.0",
            "_model_name": "LayoutModel",
            "_view_count": null,
            "_view_module": "@jupyter-widgets/base",
            "_view_module_version": "1.2.0",
            "_view_name": "LayoutView",
            "align_content": null,
            "align_items": null,
            "align_self": null,
            "border": null,
            "bottom": null,
            "display": null,
            "flex": null,
            "flex_flow": null,
            "grid_area": null,
            "grid_auto_columns": null,
            "grid_auto_flow": null,
            "grid_auto_rows": null,
            "grid_column": null,
            "grid_gap": null,
            "grid_row": null,
            "grid_template_areas": null,
            "grid_template_columns": null,
            "grid_template_rows": null,
            "height": null,
            "justify_content": null,
            "justify_items": null,
            "left": null,
            "margin": null,
            "max_height": null,
            "max_width": null,
            "min_height": null,
            "min_width": null,
            "object_fit": null,
            "object_position": null,
            "order": null,
            "overflow": null,
            "overflow_x": null,
            "overflow_y": null,
            "padding": null,
            "right": null,
            "top": null,
            "visibility": null,
            "width": null
          }
        },
        "bef3076f51c848dcb4c4c544f34ade63": {
          "model_module": "@jupyter-widgets/controls",
          "model_name": "ProgressStyleModel",
          "model_module_version": "1.5.0",
          "state": {
            "_model_module": "@jupyter-widgets/controls",
            "_model_module_version": "1.5.0",
            "_model_name": "ProgressStyleModel",
            "_view_count": null,
            "_view_module": "@jupyter-widgets/base",
            "_view_module_version": "1.2.0",
            "_view_name": "StyleView",
            "bar_color": null,
            "description_width": ""
          }
        },
        "84d2ac10e8ff468c9144dc34a1a412b2": {
          "model_module": "@jupyter-widgets/base",
          "model_name": "LayoutModel",
          "model_module_version": "1.2.0",
          "state": {
            "_model_module": "@jupyter-widgets/base",
            "_model_module_version": "1.2.0",
            "_model_name": "LayoutModel",
            "_view_count": null,
            "_view_module": "@jupyter-widgets/base",
            "_view_module_version": "1.2.0",
            "_view_name": "LayoutView",
            "align_content": null,
            "align_items": null,
            "align_self": null,
            "border": null,
            "bottom": null,
            "display": null,
            "flex": null,
            "flex_flow": null,
            "grid_area": null,
            "grid_auto_columns": null,
            "grid_auto_flow": null,
            "grid_auto_rows": null,
            "grid_column": null,
            "grid_gap": null,
            "grid_row": null,
            "grid_template_areas": null,
            "grid_template_columns": null,
            "grid_template_rows": null,
            "height": null,
            "justify_content": null,
            "justify_items": null,
            "left": null,
            "margin": null,
            "max_height": null,
            "max_width": null,
            "min_height": null,
            "min_width": null,
            "object_fit": null,
            "object_position": null,
            "order": null,
            "overflow": null,
            "overflow_x": null,
            "overflow_y": null,
            "padding": null,
            "right": null,
            "top": null,
            "visibility": null,
            "width": null
          }
        },
        "7c0833c302ff420abc2c1a38efaa1a78": {
          "model_module": "@jupyter-widgets/controls",
          "model_name": "DescriptionStyleModel",
          "model_module_version": "1.5.0",
          "state": {
            "_model_module": "@jupyter-widgets/controls",
            "_model_module_version": "1.5.0",
            "_model_name": "DescriptionStyleModel",
            "_view_count": null,
            "_view_module": "@jupyter-widgets/base",
            "_view_module_version": "1.2.0",
            "_view_name": "StyleView",
            "description_width": ""
          }
        },
        "528d9597fa7a4d479b09ebed10d84501": {
          "model_module": "@jupyter-widgets/controls",
          "model_name": "HBoxModel",
          "model_module_version": "1.5.0",
          "state": {
            "_dom_classes": [],
            "_model_module": "@jupyter-widgets/controls",
            "_model_module_version": "1.5.0",
            "_model_name": "HBoxModel",
            "_view_count": null,
            "_view_module": "@jupyter-widgets/controls",
            "_view_module_version": "1.5.0",
            "_view_name": "HBoxView",
            "box_style": "",
            "children": [
              "IPY_MODEL_4b605d04bf884926a7e94a29e07b071f",
              "IPY_MODEL_f60c4ba66e6c4824b80dca001e655ada",
              "IPY_MODEL_7539a4ea1f0a43bea94dd681cd272b49"
            ],
            "layout": "IPY_MODEL_9382252bf79c4128915f183b698f5cfc"
          }
        },
        "4b605d04bf884926a7e94a29e07b071f": {
          "model_module": "@jupyter-widgets/controls",
          "model_name": "HTMLModel",
          "model_module_version": "1.5.0",
          "state": {
            "_dom_classes": [],
            "_model_module": "@jupyter-widgets/controls",
            "_model_module_version": "1.5.0",
            "_model_name": "HTMLModel",
            "_view_count": null,
            "_view_module": "@jupyter-widgets/controls",
            "_view_module_version": "1.5.0",
            "_view_name": "HTMLView",
            "description": "",
            "description_tooltip": null,
            "layout": "IPY_MODEL_9ca07d20da4243eab09670632d697979",
            "placeholder": "​",
            "style": "IPY_MODEL_431d576ebbb24087a0e6636e58c6c3ff",
            "value": "Downloading: 100%"
          }
        },
        "f60c4ba66e6c4824b80dca001e655ada": {
          "model_module": "@jupyter-widgets/controls",
          "model_name": "FloatProgressModel",
          "model_module_version": "1.5.0",
          "state": {
            "_dom_classes": [],
            "_model_module": "@jupyter-widgets/controls",
            "_model_module_version": "1.5.0",
            "_model_name": "FloatProgressModel",
            "_view_count": null,
            "_view_module": "@jupyter-widgets/controls",
            "_view_module_version": "1.5.0",
            "_view_name": "ProgressView",
            "bar_style": "success",
            "description": "",
            "description_tooltip": null,
            "layout": "IPY_MODEL_e1774f8d28a74c6bb0e132a7aded6567",
            "max": 435797,
            "min": 0,
            "orientation": "horizontal",
            "style": "IPY_MODEL_5fe743263b8147438699c3a78297b997",
            "value": 435797
          }
        },
        "7539a4ea1f0a43bea94dd681cd272b49": {
          "model_module": "@jupyter-widgets/controls",
          "model_name": "HTMLModel",
          "model_module_version": "1.5.0",
          "state": {
            "_dom_classes": [],
            "_model_module": "@jupyter-widgets/controls",
            "_model_module_version": "1.5.0",
            "_model_name": "HTMLModel",
            "_view_count": null,
            "_view_module": "@jupyter-widgets/controls",
            "_view_module_version": "1.5.0",
            "_view_name": "HTMLView",
            "description": "",
            "description_tooltip": null,
            "layout": "IPY_MODEL_fcbc1720552d4d5e89c1edf1a9b56815",
            "placeholder": "​",
            "style": "IPY_MODEL_ea82454185134ae5a6122523006e1395",
            "value": " 436k/436k [00:00&lt;00:00, 914kB/s]"
          }
        },
        "9382252bf79c4128915f183b698f5cfc": {
          "model_module": "@jupyter-widgets/base",
          "model_name": "LayoutModel",
          "model_module_version": "1.2.0",
          "state": {
            "_model_module": "@jupyter-widgets/base",
            "_model_module_version": "1.2.0",
            "_model_name": "LayoutModel",
            "_view_count": null,
            "_view_module": "@jupyter-widgets/base",
            "_view_module_version": "1.2.0",
            "_view_name": "LayoutView",
            "align_content": null,
            "align_items": null,
            "align_self": null,
            "border": null,
            "bottom": null,
            "display": null,
            "flex": null,
            "flex_flow": null,
            "grid_area": null,
            "grid_auto_columns": null,
            "grid_auto_flow": null,
            "grid_auto_rows": null,
            "grid_column": null,
            "grid_gap": null,
            "grid_row": null,
            "grid_template_areas": null,
            "grid_template_columns": null,
            "grid_template_rows": null,
            "height": null,
            "justify_content": null,
            "justify_items": null,
            "left": null,
            "margin": null,
            "max_height": null,
            "max_width": null,
            "min_height": null,
            "min_width": null,
            "object_fit": null,
            "object_position": null,
            "order": null,
            "overflow": null,
            "overflow_x": null,
            "overflow_y": null,
            "padding": null,
            "right": null,
            "top": null,
            "visibility": null,
            "width": null
          }
        },
        "9ca07d20da4243eab09670632d697979": {
          "model_module": "@jupyter-widgets/base",
          "model_name": "LayoutModel",
          "model_module_version": "1.2.0",
          "state": {
            "_model_module": "@jupyter-widgets/base",
            "_model_module_version": "1.2.0",
            "_model_name": "LayoutModel",
            "_view_count": null,
            "_view_module": "@jupyter-widgets/base",
            "_view_module_version": "1.2.0",
            "_view_name": "LayoutView",
            "align_content": null,
            "align_items": null,
            "align_self": null,
            "border": null,
            "bottom": null,
            "display": null,
            "flex": null,
            "flex_flow": null,
            "grid_area": null,
            "grid_auto_columns": null,
            "grid_auto_flow": null,
            "grid_auto_rows": null,
            "grid_column": null,
            "grid_gap": null,
            "grid_row": null,
            "grid_template_areas": null,
            "grid_template_columns": null,
            "grid_template_rows": null,
            "height": null,
            "justify_content": null,
            "justify_items": null,
            "left": null,
            "margin": null,
            "max_height": null,
            "max_width": null,
            "min_height": null,
            "min_width": null,
            "object_fit": null,
            "object_position": null,
            "order": null,
            "overflow": null,
            "overflow_x": null,
            "overflow_y": null,
            "padding": null,
            "right": null,
            "top": null,
            "visibility": null,
            "width": null
          }
        },
        "431d576ebbb24087a0e6636e58c6c3ff": {
          "model_module": "@jupyter-widgets/controls",
          "model_name": "DescriptionStyleModel",
          "model_module_version": "1.5.0",
          "state": {
            "_model_module": "@jupyter-widgets/controls",
            "_model_module_version": "1.5.0",
            "_model_name": "DescriptionStyleModel",
            "_view_count": null,
            "_view_module": "@jupyter-widgets/base",
            "_view_module_version": "1.2.0",
            "_view_name": "StyleView",
            "description_width": ""
          }
        },
        "e1774f8d28a74c6bb0e132a7aded6567": {
          "model_module": "@jupyter-widgets/base",
          "model_name": "LayoutModel",
          "model_module_version": "1.2.0",
          "state": {
            "_model_module": "@jupyter-widgets/base",
            "_model_module_version": "1.2.0",
            "_model_name": "LayoutModel",
            "_view_count": null,
            "_view_module": "@jupyter-widgets/base",
            "_view_module_version": "1.2.0",
            "_view_name": "LayoutView",
            "align_content": null,
            "align_items": null,
            "align_self": null,
            "border": null,
            "bottom": null,
            "display": null,
            "flex": null,
            "flex_flow": null,
            "grid_area": null,
            "grid_auto_columns": null,
            "grid_auto_flow": null,
            "grid_auto_rows": null,
            "grid_column": null,
            "grid_gap": null,
            "grid_row": null,
            "grid_template_areas": null,
            "grid_template_columns": null,
            "grid_template_rows": null,
            "height": null,
            "justify_content": null,
            "justify_items": null,
            "left": null,
            "margin": null,
            "max_height": null,
            "max_width": null,
            "min_height": null,
            "min_width": null,
            "object_fit": null,
            "object_position": null,
            "order": null,
            "overflow": null,
            "overflow_x": null,
            "overflow_y": null,
            "padding": null,
            "right": null,
            "top": null,
            "visibility": null,
            "width": null
          }
        },
        "5fe743263b8147438699c3a78297b997": {
          "model_module": "@jupyter-widgets/controls",
          "model_name": "ProgressStyleModel",
          "model_module_version": "1.5.0",
          "state": {
            "_model_module": "@jupyter-widgets/controls",
            "_model_module_version": "1.5.0",
            "_model_name": "ProgressStyleModel",
            "_view_count": null,
            "_view_module": "@jupyter-widgets/base",
            "_view_module_version": "1.2.0",
            "_view_name": "StyleView",
            "bar_color": null,
            "description_width": ""
          }
        },
        "fcbc1720552d4d5e89c1edf1a9b56815": {
          "model_module": "@jupyter-widgets/base",
          "model_name": "LayoutModel",
          "model_module_version": "1.2.0",
          "state": {
            "_model_module": "@jupyter-widgets/base",
            "_model_module_version": "1.2.0",
            "_model_name": "LayoutModel",
            "_view_count": null,
            "_view_module": "@jupyter-widgets/base",
            "_view_module_version": "1.2.0",
            "_view_name": "LayoutView",
            "align_content": null,
            "align_items": null,
            "align_self": null,
            "border": null,
            "bottom": null,
            "display": null,
            "flex": null,
            "flex_flow": null,
            "grid_area": null,
            "grid_auto_columns": null,
            "grid_auto_flow": null,
            "grid_auto_rows": null,
            "grid_column": null,
            "grid_gap": null,
            "grid_row": null,
            "grid_template_areas": null,
            "grid_template_columns": null,
            "grid_template_rows": null,
            "height": null,
            "justify_content": null,
            "justify_items": null,
            "left": null,
            "margin": null,
            "max_height": null,
            "max_width": null,
            "min_height": null,
            "min_width": null,
            "object_fit": null,
            "object_position": null,
            "order": null,
            "overflow": null,
            "overflow_x": null,
            "overflow_y": null,
            "padding": null,
            "right": null,
            "top": null,
            "visibility": null,
            "width": null
          }
        },
        "ea82454185134ae5a6122523006e1395": {
          "model_module": "@jupyter-widgets/controls",
          "model_name": "DescriptionStyleModel",
          "model_module_version": "1.5.0",
          "state": {
            "_model_module": "@jupyter-widgets/controls",
            "_model_module_version": "1.5.0",
            "_model_name": "DescriptionStyleModel",
            "_view_count": null,
            "_view_module": "@jupyter-widgets/base",
            "_view_module_version": "1.2.0",
            "_view_name": "StyleView",
            "description_width": ""
          }
        }
      }
    }
  },
  "cells": [
    {
      "cell_type": "markdown",
      "metadata": {
        "id": "view-in-github"
      },
      "source": [
        "<a href=\"https://colab.research.google.com/github/crux82/ganbert-pytorch/blob/main/GANBERT_pytorch.ipynb\" target=\"_parent\"><img src=\"https://colab.research.google.com/assets/colab-badge.svg\" alt=\"Open In Colab\"/></a>"
      ]
    },
    {
      "cell_type": "markdown",
      "metadata": {
        "id": "fUpqAwtN8rTA"
      },
      "source": [
        "# GAN-BERT (in Pytorch and compatible with HuggingFace)\n",
        "\n",
        "This is a Pytorch (+ **Huggingface** transformers) implementation of the GAN-BERT model from https://github.com/crux82/ganbert. While the original GAN-BERT was an extension of BERT, this implementation can be adapted to several architectures, ranging from Roberta to Albert!\n",
        "\n",
        "**NOTE**: given that this implementation is different from the original one in Tensorflow, some results can be slighty different.\n"
      ]
    },
    {
      "cell_type": "markdown",
      "metadata": {
        "id": "Q0m5KR34gmRH"
      },
      "source": [
        "Let's GO!\n",
        "\n",
        "Required Imports."
      ]
    },
    {
      "cell_type": "markdown",
      "source": [
        "## Importing Library"
      ],
      "metadata": {
        "id": "_QNqyjz1Fq-x"
      }
    },
    {
      "cell_type": "code",
      "metadata": {
        "colab": {
          "base_uri": "https://localhost:8080/"
        },
        "id": "UIqpm34x2rms",
        "outputId": "1f0f2a7d-1928-4cce-ba4d-8e112a413a17"
      },
      "source": [
        "!pip install transformers==4.3.2\n",
        "import torch\n",
        "import io\n",
        "import torch.nn.functional as F\n",
        "import random\n",
        "import numpy as np\n",
        "import time\n",
        "import math\n",
        "import datetime\n",
        "import torch.nn as nn\n",
        "from transformers import *\n",
        "from torch.utils.data import TensorDataset, DataLoader, RandomSampler, SequentialSampler\n",
        "#!pip install torch==1.7.1+cu101 torchvision==0.8.2+cu101 -f https://download.pytorch.org/whl/torch_stable.html\n",
        "#!pip install sentencepiece\n",
        "\n",
        "##Set random values\n",
        "seed_val = 42\n",
        "random.seed(seed_val)\n",
        "np.random.seed(seed_val)\n",
        "torch.manual_seed(seed_val)\n",
        "if torch.cuda.is_available():\n",
        "  torch.cuda.manual_seed_all(seed_val)"
      ],
      "execution_count": 1,
      "outputs": [
        {
          "output_type": "stream",
          "name": "stdout",
          "text": [
            "Looking in indexes: https://pypi.org/simple, https://us-python.pkg.dev/colab-wheels/public/simple/\n",
            "Collecting transformers==4.3.2\n",
            "  Downloading transformers-4.3.2-py3-none-any.whl (1.8 MB)\n",
            "\u001b[K     |████████████████████████████████| 1.8 MB 6.8 MB/s \n",
            "\u001b[?25hRequirement already satisfied: packaging in /usr/local/lib/python3.7/dist-packages (from transformers==4.3.2) (21.3)\n",
            "Collecting sacremoses\n",
            "  Downloading sacremoses-0.0.53.tar.gz (880 kB)\n",
            "\u001b[K     |████████████████████████████████| 880 kB 31.8 MB/s \n",
            "\u001b[?25hRequirement already satisfied: importlib-metadata in /usr/local/lib/python3.7/dist-packages (from transformers==4.3.2) (4.11.4)\n",
            "Requirement already satisfied: tqdm>=4.27 in /usr/local/lib/python3.7/dist-packages (from transformers==4.3.2) (4.64.0)\n",
            "Requirement already satisfied: numpy>=1.17 in /usr/local/lib/python3.7/dist-packages (from transformers==4.3.2) (1.21.6)\n",
            "Requirement already satisfied: requests in /usr/local/lib/python3.7/dist-packages (from transformers==4.3.2) (2.23.0)\n",
            "Collecting tokenizers<0.11,>=0.10.1\n",
            "  Downloading tokenizers-0.10.3-cp37-cp37m-manylinux_2_5_x86_64.manylinux1_x86_64.manylinux_2_12_x86_64.manylinux2010_x86_64.whl (3.3 MB)\n",
            "\u001b[K     |████████████████████████████████| 3.3 MB 40.4 MB/s \n",
            "\u001b[?25hRequirement already satisfied: regex!=2019.12.17 in /usr/local/lib/python3.7/dist-packages (from transformers==4.3.2) (2019.12.20)\n",
            "Requirement already satisfied: filelock in /usr/local/lib/python3.7/dist-packages (from transformers==4.3.2) (3.7.0)\n",
            "Requirement already satisfied: zipp>=0.5 in /usr/local/lib/python3.7/dist-packages (from importlib-metadata->transformers==4.3.2) (3.8.0)\n",
            "Requirement already satisfied: typing-extensions>=3.6.4 in /usr/local/lib/python3.7/dist-packages (from importlib-metadata->transformers==4.3.2) (4.2.0)\n",
            "Requirement already satisfied: pyparsing!=3.0.5,>=2.0.2 in /usr/local/lib/python3.7/dist-packages (from packaging->transformers==4.3.2) (3.0.9)\n",
            "Requirement already satisfied: chardet<4,>=3.0.2 in /usr/local/lib/python3.7/dist-packages (from requests->transformers==4.3.2) (3.0.4)\n",
            "Requirement already satisfied: urllib3!=1.25.0,!=1.25.1,<1.26,>=1.21.1 in /usr/local/lib/python3.7/dist-packages (from requests->transformers==4.3.2) (1.24.3)\n",
            "Requirement already satisfied: idna<3,>=2.5 in /usr/local/lib/python3.7/dist-packages (from requests->transformers==4.3.2) (2.10)\n",
            "Requirement already satisfied: certifi>=2017.4.17 in /usr/local/lib/python3.7/dist-packages (from requests->transformers==4.3.2) (2022.5.18.1)\n",
            "Requirement already satisfied: six in /usr/local/lib/python3.7/dist-packages (from sacremoses->transformers==4.3.2) (1.15.0)\n",
            "Requirement already satisfied: click in /usr/local/lib/python3.7/dist-packages (from sacremoses->transformers==4.3.2) (7.1.2)\n",
            "Requirement already satisfied: joblib in /usr/local/lib/python3.7/dist-packages (from sacremoses->transformers==4.3.2) (1.1.0)\n",
            "Building wheels for collected packages: sacremoses\n",
            "  Building wheel for sacremoses (setup.py) ... \u001b[?25l\u001b[?25hdone\n",
            "  Created wheel for sacremoses: filename=sacremoses-0.0.53-py3-none-any.whl size=895260 sha256=ccfcc0f991a39b10a89c17b9d45550e670a13d789254fca9fb6704f52b14a6ee\n",
            "  Stored in directory: /root/.cache/pip/wheels/87/39/dd/a83eeef36d0bf98e7a4d1933a4ad2d660295a40613079bafc9\n",
            "Successfully built sacremoses\n",
            "Installing collected packages: tokenizers, sacremoses, transformers\n",
            "Successfully installed sacremoses-0.0.53 tokenizers-0.10.3 transformers-4.3.2\n"
          ]
        }
      ]
    },
    {
      "cell_type": "markdown",
      "source": [
        "## Mounting Drive"
      ],
      "metadata": {
        "id": "Xk68mMDHFuT_"
      }
    },
    {
      "cell_type": "code",
      "source": [
        "from google.colab import drive\n",
        "drive.mount('/content/gdrive')"
      ],
      "metadata": {
        "colab": {
          "base_uri": "https://localhost:8080/"
        },
        "id": "u8wV81hUXIPz",
        "outputId": "7ce53ea5-46a5-4484-c242-f54ac971ca6e"
      },
      "execution_count": 2,
      "outputs": [
        {
          "output_type": "stream",
          "name": "stdout",
          "text": [
            "Mounted at /content/gdrive\n"
          ]
        }
      ]
    },
    {
      "cell_type": "code",
      "source": [
        "%cd \"/content/gdrive/My Drive/GAN-BERT/data_CLINC150\""
      ],
      "metadata": {
        "colab": {
          "base_uri": "https://localhost:8080/"
        },
        "id": "Fo5-RJvBXOkl",
        "outputId": "0c8b8470-1ecd-4d23-ac6d-7cffc7f7b424"
      },
      "execution_count": 3,
      "outputs": [
        {
          "output_type": "stream",
          "name": "stdout",
          "text": [
            "/content/gdrive/My Drive/GAN-BERT/data_CLINC150\n"
          ]
        }
      ]
    },
    {
      "cell_type": "code",
      "source": [
        "import os\n",
        "os.listdir('./')"
      ],
      "metadata": {
        "colab": {
          "base_uri": "https://localhost:8080/"
        },
        "id": "fpJT4toCXyul",
        "outputId": "e0607f3e-dca2-48bb-8a61-ba65e0532e0a"
      },
      "execution_count": 4,
      "outputs": [
        {
          "output_type": "execute_result",
          "data": {
            "text/plain": [
              "['Data_Preparation.ipynb',\n",
              " 'data_full.json',\n",
              " '10_90',\n",
              " '.ipynb_checkpoints',\n",
              " '20_80',\n",
              " '40_60',\n",
              " 'ganbert',\n",
              " '1_99',\n",
              " '2_98',\n",
              " '5_95',\n",
              " '50_50',\n",
              " '30_70',\n",
              " 'test.tsv',\n",
              " 'test_OOS.tsv']"
            ]
          },
          "metadata": {},
          "execution_count": 4
        }
      ]
    },
    {
      "cell_type": "code",
      "metadata": {
        "id": "LeZgRup520II",
        "colab": {
          "base_uri": "https://localhost:8080/"
        },
        "outputId": "ac2404ee-53be-470e-e968-72dafe2bff23"
      },
      "source": [
        "# If there's a GPU available...\n",
        "if torch.cuda.is_available():    \n",
        "    # Tell PyTorch to use the GPU.    \n",
        "    device = torch.device(\"cuda\")\n",
        "    print('There are %d GPU(s) available.' % torch.cuda.device_count())\n",
        "    print('We will use the GPU:', torch.cuda.get_device_name(0))\n",
        "# If not...\n",
        "else:\n",
        "    print('No GPU available, using the CPU instead.')\n",
        "    device = torch.device(\"cpu\")"
      ],
      "execution_count": 5,
      "outputs": [
        {
          "output_type": "stream",
          "name": "stdout",
          "text": [
            "There are 1 GPU(s) available.\n",
            "We will use the GPU: Tesla P100-PCIE-16GB\n"
          ]
        }
      ]
    },
    {
      "cell_type": "markdown",
      "metadata": {
        "id": "AU3ns8Ic7I-h"
      },
      "source": [
        "### Input Parameters\n"
      ]
    },
    {
      "cell_type": "code",
      "metadata": {
        "id": "jw0HC_hU3FUy",
        "colab": {
          "base_uri": "https://localhost:8080/"
        },
        "outputId": "92a31a57-795a-462b-cd05-99bbf2970b30"
      },
      "source": [
        "#--------------------------------\n",
        "#  Transformer parameters\n",
        "#--------------------------------\n",
        "max_seq_length = 64\n",
        "batch_size = 64\n",
        "\n",
        "#--------------------------------\n",
        "#  GAN-BERT specific parameters\n",
        "#--------------------------------\n",
        "# number of hidden layers in the generator, \n",
        "# each of the size of the output space\n",
        "num_hidden_layers_g = 1; \n",
        "# number of hidden layers in the discriminator, \n",
        "# each of the size of the input space\n",
        "num_hidden_layers_d = 1; \n",
        "# size of the generator's input noisy vectors\n",
        "noise_size = 100\n",
        "# dropout to be applied to discriminator's input vectors\n",
        "out_dropout_rate = 0.2\n",
        "\n",
        "# Replicate labeled data to balance poorly represented datasets, \n",
        "# e.g., less than 1% of labeled material\n",
        "apply_balance = True\n",
        "\n",
        "#--------------------------------\n",
        "#  Optimization parameters\n",
        "#--------------------------------\n",
        "learning_rate_discriminator = 5e-5\n",
        "learning_rate_generator = 5e-5\n",
        "epsilon = 1e-8\n",
        "num_train_epochs = 5\n",
        "multi_gpu = True\n",
        "# Scheduler\n",
        "apply_scheduler = False\n",
        "warmup_proportion = 0.1\n",
        "# Print\n",
        "print_each_n_step = 10\n",
        "\n",
        "#--------------------------------\n",
        "#  Adopted Tranformer model\n",
        "#--------------------------------\n",
        "# Since this version is compatible with Huggingface transformers, you can uncomment\n",
        "# (or add) transformer models compatible with GAN\n",
        "\n",
        "model_name = \"bert-base-cased\"\n",
        "#model_name = \"bert-base-uncased\"\n",
        "#model_name = \"roberta-base\"\n",
        "#model_name = \"albert-base-v2\"\n",
        "#model_name = \"xlm-roberta-base\"\n",
        "#model_name = \"amazon/bort\"\n",
        "#model_name = \"prajjwal1/bert-tiny\"\n",
        "\n",
        "\n",
        "#--------------------------------\n",
        "#  Retrieve the TREC QC Dataset\n",
        "#--------------------------------\n",
        "! git clone https://github.com/crux82/ganbert\n",
        "\n",
        "#  NOTE: in this setting 50 classes are involved\n",
        "labeled_file = \"./ganbert/data/labeled.tsv\"\n",
        "unlabeled_file = \"./ganbert/data/unlabeled.tsv\"\n",
        "test_filename = \"./ganbert/data/test.tsv\"\n",
        "\n",
        "#label_list = [\"UNK_UNK\",\"ABBR_abb\", \"ABBR_exp\", \"DESC_def\", \"DESC_desc\", \n",
        "#              \"DESC_manner\", \"DESC_reason\", \"ENTY_animal\", \"ENTY_body\", \n",
        "#              \"ENTY_color\", \"ENTY_cremat\", \"ENTY_currency\", \"ENTY_dismed\", \n",
        "#              \"ENTY_event\", \"ENTY_food\", \"ENTY_instru\", \"ENTY_lang\", \n",
        "#              \"ENTY_letter\", \"ENTY_other\", \"ENTY_plant\", \"ENTY_product\", \n",
        "#              \"ENTY_religion\", \"ENTY_sport\", \"ENTY_substance\", \"ENTY_symbol\", \n",
        "#              \"ENTY_techmeth\", \"ENTY_termeq\", \"ENTY_veh\", \"ENTY_word\", \"HUM_desc\", \n",
        "#              \"HUM_gr\", \"HUM_ind\", \"HUM_title\", \"LOC_city\", \"LOC_country\", \n",
        "#              \"LOC_mount\", \"LOC_other\", \"LOC_state\", \"NUM_code\", \"NUM_count\", \n",
        "#              \"NUM_date\", \"NUM_dist\", \"NUM_money\", \"NUM_ord\", \"NUM_other\", \n",
        "#              \"NUM_perc\", \"NUM_period\", \"NUM_speed\", \"NUM_temp\", \"NUM_volsize\", \n",
        "#              \"NUM_weight\"]\n",
        "\n",
        "label_list = ['UNK_UNK','translate', 'transfer', 'timer', 'definition', 'meaning_of_life',\n",
        "       'insurance_change', 'find_phone', 'travel_alert', 'pto_request',\n",
        "       'improve_credit_score', 'fun_fact', 'change_language', 'payday',\n",
        "       'replacement_card_duration', 'time', 'application_status',\n",
        "       'flight_status', 'flip_coin', 'change_user_name',\n",
        "       'where_are_you_from', 'shopping_list_update', 'what_can_i_ask_you',\n",
        "       'maybe', 'oil_change_how', 'restaurant_reservation', 'balance',\n",
        "       'confirm_reservation', 'freeze_account', 'rollover_401k',\n",
        "       'who_made_you', 'distance', 'user_name', 'timezone', 'next_song',\n",
        "       'transactions', 'restaurant_suggestion', 'rewards_balance',\n",
        "       'pay_bill', 'spending_history', 'pto_request_status',\n",
        "       'credit_score', 'new_card', 'lost_luggage', 'repeat', 'mpg',\n",
        "       'oil_change_when', 'yes', 'travel_suggestion', 'insurance',\n",
        "       'todo_list_update', 'reminder', 'change_speed', 'tire_pressure',\n",
        "       'no', 'apr', 'nutrition_info', 'calendar', 'uber', 'calculator',\n",
        "       'date', 'carry_on', 'pto_used', 'schedule_maintenance',\n",
        "       'travel_notification', 'sync_device', 'thank_you', 'roll_dice',\n",
        "       'food_last', 'cook_time', 'reminder_update', 'report_lost_card',\n",
        "       'ingredient_substitution', 'make_call', 'alarm', 'todo_list',\n",
        "       'change_accent', 'w2', 'bill_due', 'calories', 'damaged_card',\n",
        "       'restaurant_reviews', 'routing', 'do_you_have_pets',\n",
        "       'schedule_meeting', 'gas_type', 'plug_type', 'tire_change',\n",
        "       'exchange_rate', 'next_holiday', 'change_volume',\n",
        "       'who_do_you_work_for', 'credit_limit', 'how_busy',\n",
        "       'accept_reservations', 'order_status', 'pin_change', 'goodbye',\n",
        "       'account_blocked', 'what_song', 'international_fees',\n",
        "       'last_maintenance', 'meeting_schedule', 'ingredients_list',\n",
        "       'report_fraud', 'measurement_conversion', 'smart_home',\n",
        "       'book_hotel', 'current_location', 'weather', 'taxes',\n",
        "       'min_payment', 'whisper_mode', 'cancel', 'international_visa',\n",
        "       'vaccines', 'pto_balance', 'directions', 'spelling', 'greeting',\n",
        "       'reset_settings', 'what_is_your_name', 'direct_deposit',\n",
        "       'interest_rate', 'credit_limit_change', 'what_are_your_hobbies',\n",
        "       'book_flight', 'shopping_list', 'text', 'bill_balance',\n",
        "       'share_location', 'redeem_rewards', 'play_music',\n",
        "       'calendar_update', 'are_you_a_bot', 'gas', 'expiration_date',\n",
        "       'update_playlist', 'cancel_reservation', 'tell_joke',\n",
        "       'change_ai_name', 'how_old_are_you', 'car_rental', 'jump_start',\n",
        "       'meal_suggestion', 'recipe', 'income', 'order', 'traffic',\n",
        "       'order_checks', 'card_declined']"
      ],
      "execution_count": 6,
      "outputs": [
        {
          "output_type": "stream",
          "name": "stdout",
          "text": [
            "fatal: destination path 'ganbert' already exists and is not an empty directory.\n"
          ]
        }
      ]
    },
    {
      "cell_type": "code",
      "source": [
        "labeled_examples = None\n",
        "unlabeled_examples = None\n",
        "test_examples = None"
      ],
      "metadata": {
        "id": "VPPZXi50MQq0"
      },
      "execution_count": 7,
      "outputs": []
    },
    {
      "cell_type": "markdown",
      "metadata": {
        "id": "R6Q5jzVioTHb"
      },
      "source": [
        "## Load the Tranformer Model"
      ]
    },
    {
      "cell_type": "code",
      "metadata": {
        "id": "gxghkkZq3Gbn",
        "outputId": "408c592b-8249-40a1-bb27-5ad631c4b699",
        "colab": {
          "base_uri": "https://localhost:8080/",
          "height": 145,
          "referenced_widgets": [
            "402f383225df480ebdd4665fd6a29482",
            "f88f79fdcd0b4d8b8dcd878bd94f4794",
            "bcd0ecc1f65c4ae19ed259679cd66cb3",
            "643f5e9d0c244addb9da4eefa5b1e287",
            "6c39cd3080d5479d9aff1718ab3477c0",
            "9c7ec029a2324ff5a366eccea1523a21",
            "354bb60f6aba4f1ab90f337d2eb586bd",
            "95f61deca8bc47358d3dd4cb9ba137b8",
            "77b9f48cf9bd425f8a0714fc0f3d1fd6",
            "6e6e702384814339bc2a4d0fda982d84",
            "81f99d330b424db4b78a3721524c5787",
            "99a27a243abe4fcaa17ac94725e84d13",
            "76723e45776a49ecb772721ac71d43fe",
            "0efe600dae70457095df7364ae3e369b",
            "cd462caeb35147e8a09f35f78c84f354",
            "2d7194b0a7eb4f41a8a4da00cb99fe2a",
            "3d00fe1fdd9f47c0b712f2fe513cd623",
            "34ca21f0c2254a7f872649dcb8393da3",
            "96973603172d4b6fbce7971ba90e7eff",
            "684a7a89f3574e58b07ad013695bcb87",
            "de60bdd7ec59432481390be2c3b26f34",
            "57017dfe416847f4a8e8cc024ef6118e",
            "945b685e1f414a83bfc68ed8f71144a2",
            "5424607fb2d94bcd83741ceda36913f6",
            "6a6b441594554d46ae692bdb9d4b369b",
            "1ab9cd7b80de4b76902a3f06bd73b666",
            "aa7453a75e8148428a3be32fe3045e26",
            "2f7bf391f66a458e92cb6a9222940c6d",
            "a508daa347bf42bcb98c73b3626df653",
            "fbfb2769923d4bd4a11796823fc96e73",
            "bef3076f51c848dcb4c4c544f34ade63",
            "84d2ac10e8ff468c9144dc34a1a412b2",
            "7c0833c302ff420abc2c1a38efaa1a78",
            "528d9597fa7a4d479b09ebed10d84501",
            "4b605d04bf884926a7e94a29e07b071f",
            "f60c4ba66e6c4824b80dca001e655ada",
            "7539a4ea1f0a43bea94dd681cd272b49",
            "9382252bf79c4128915f183b698f5cfc",
            "9ca07d20da4243eab09670632d697979",
            "431d576ebbb24087a0e6636e58c6c3ff",
            "e1774f8d28a74c6bb0e132a7aded6567",
            "5fe743263b8147438699c3a78297b997",
            "fcbc1720552d4d5e89c1edf1a9b56815",
            "ea82454185134ae5a6122523006e1395"
          ]
        }
      },
      "source": [
        "transformer = AutoModel.from_pretrained(model_name)\n",
        "tokenizer = AutoTokenizer.from_pretrained(model_name)"
      ],
      "execution_count": 8,
      "outputs": [
        {
          "output_type": "display_data",
          "data": {
            "text/plain": [
              "Downloading:   0%|          | 0.00/570 [00:00<?, ?B/s]"
            ],
            "application/vnd.jupyter.widget-view+json": {
              "version_major": 2,
              "version_minor": 0,
              "model_id": "402f383225df480ebdd4665fd6a29482"
            }
          },
          "metadata": {}
        },
        {
          "output_type": "display_data",
          "data": {
            "text/plain": [
              "Downloading:   0%|          | 0.00/436M [00:00<?, ?B/s]"
            ],
            "application/vnd.jupyter.widget-view+json": {
              "version_major": 2,
              "version_minor": 0,
              "model_id": "99a27a243abe4fcaa17ac94725e84d13"
            }
          },
          "metadata": {}
        },
        {
          "output_type": "display_data",
          "data": {
            "text/plain": [
              "Downloading:   0%|          | 0.00/213k [00:00<?, ?B/s]"
            ],
            "application/vnd.jupyter.widget-view+json": {
              "version_major": 2,
              "version_minor": 0,
              "model_id": "945b685e1f414a83bfc68ed8f71144a2"
            }
          },
          "metadata": {}
        },
        {
          "output_type": "display_data",
          "data": {
            "text/plain": [
              "Downloading:   0%|          | 0.00/436k [00:00<?, ?B/s]"
            ],
            "application/vnd.jupyter.widget-view+json": {
              "version_major": 2,
              "version_minor": 0,
              "model_id": "528d9597fa7a4d479b09ebed10d84501"
            }
          },
          "metadata": {}
        }
      ]
    },
    {
      "cell_type": "markdown",
      "metadata": {
        "id": "rd_ixn5qn_zV"
      },
      "source": [
        "## Function required to load the dataset"
      ]
    },
    {
      "cell_type": "code",
      "metadata": {
        "id": "W7cP8q7K3BId"
      },
      "source": [
        "def get_qc_examples(input_file):\n",
        "  \"\"\"Creates examples for the training and dev sets.\"\"\"\n",
        "  examples = []\n",
        "\n",
        "  with open(input_file, 'r') as f:\n",
        "      contents = f.read()\n",
        "      file_as_list = contents.splitlines()\n",
        "      for line in file_as_list[1:]:\n",
        "          split = line.split(\" \")\n",
        "          statement = ' '.join(split[1:])\n",
        "\n",
        "          text_a = statement\n",
        "          label = split[0] \n",
        "          examples.append((text_a, label))\n",
        "      f.close()\n",
        "\n",
        "  return examples"
      ],
      "execution_count": 9,
      "outputs": []
    },
    {
      "cell_type": "markdown",
      "metadata": {
        "id": "K43tOavNqib4"
      },
      "source": [
        "##**Load** the input QC dataset (fine-grained)"
      ]
    },
    {
      "cell_type": "code",
      "metadata": {
        "id": "cXCwFyF2qhw7"
      },
      "source": [
        "#Load the examples\n",
        "def load_the_input_dataset():\n",
        "  labeled_examples = get_qc_examples(labeled_file)\n",
        "  unlabeled_examples = get_qc_examples(unlabeled_file)\n",
        "  test_examples = get_qc_examples(test_filename)\n",
        "  return labeled_examples, unlabeled_examples, test_examples"
      ],
      "execution_count": 10,
      "outputs": []
    },
    {
      "cell_type": "markdown",
      "metadata": {
        "id": "JBhaW5vBfR6B"
      },
      "source": [
        "##Functions required to convert examples into Dataloader"
      ]
    },
    {
      "cell_type": "code",
      "metadata": {
        "id": "fmKL5AD7I4Zg"
      },
      "source": [
        "def generate_data_loader(input_examples, label_masks, label_map, do_shuffle = False, balance_label_examples = False):\n",
        "  '''\n",
        "  Generate a Dataloader given the input examples, eventually masked if they are \n",
        "  to be considered NOT labeled.\n",
        "  '''\n",
        "  examples = []\n",
        "\n",
        "  # Count the percentage of labeled examples  \n",
        "  num_labeled_examples = 0\n",
        "  for label_mask in label_masks:\n",
        "    if label_mask: \n",
        "      num_labeled_examples += 1\n",
        "  label_mask_rate = num_labeled_examples/len(input_examples)\n",
        "\n",
        "  # if required it applies the balance\n",
        "  for index, ex in enumerate(input_examples): \n",
        "    if label_mask_rate == 1 or not balance_label_examples:\n",
        "      examples.append((ex, label_masks[index]))\n",
        "    else:\n",
        "      # IT SIMULATE A LABELED EXAMPLE\n",
        "      if label_masks[index]:\n",
        "        balance = int(1/label_mask_rate)\n",
        "        balance = int(math.log(balance,2))\n",
        "        if balance < 1:\n",
        "          balance = 1\n",
        "        for b in range(0, int(balance)):\n",
        "          examples.append((ex, label_masks[index]))\n",
        "      else:\n",
        "        examples.append((ex, label_masks[index]))\n",
        "  \n",
        "  #-----------------------------------------------\n",
        "  # Generate input examples to the Transformer\n",
        "  #-----------------------------------------------\n",
        "  input_ids = []\n",
        "  input_mask_array = []\n",
        "  label_mask_array = []\n",
        "  label_id_array = []\n",
        "\n",
        "  # Tokenization \n",
        "  for (text, label_mask) in examples:\n",
        "    encoded_sent = tokenizer.encode(text[0], add_special_tokens=True, max_length=max_seq_length, padding=\"max_length\", truncation=True)\n",
        "    input_ids.append(encoded_sent)\n",
        "    label_id_array.append(label_map[text[1]])\n",
        "    label_mask_array.append(label_mask)\n",
        "  \n",
        "  # Attention to token (to ignore padded input wordpieces)\n",
        "  for sent in input_ids:\n",
        "    att_mask = [int(token_id > 0) for token_id in sent]                          \n",
        "    input_mask_array.append(att_mask)\n",
        "  # Convertion to Tensor\n",
        "  input_ids = torch.tensor(input_ids) \n",
        "  input_mask_array = torch.tensor(input_mask_array)\n",
        "  label_id_array = torch.tensor(label_id_array, dtype=torch.long)\n",
        "  label_mask_array = torch.tensor(label_mask_array)\n",
        "\n",
        "  # Building the TensorDataset\n",
        "  dataset = TensorDataset(input_ids, input_mask_array, label_id_array, label_mask_array)\n",
        "\n",
        "  if do_shuffle:\n",
        "    sampler = RandomSampler\n",
        "  else:\n",
        "    sampler = SequentialSampler\n",
        "\n",
        "  # Building the DataLoader\n",
        "  return DataLoader(\n",
        "              dataset,  # The training samples.\n",
        "              sampler = sampler(dataset), \n",
        "              batch_size = batch_size) # Trains with this batch size.\n",
        "\n",
        "def format_time(elapsed):\n",
        "    '''\n",
        "    Takes a time in seconds and returns a string hh:mm:ss\n",
        "    '''\n",
        "    # Round to the nearest second.\n",
        "    elapsed_rounded = int(round((elapsed)))\n",
        "    # Format as hh:mm:ss\n",
        "    return str(datetime.timedelta(seconds=elapsed_rounded))"
      ],
      "execution_count": 11,
      "outputs": []
    },
    {
      "cell_type": "markdown",
      "metadata": {
        "id": "Do3O-VeefT3g"
      },
      "source": [
        "##Convert the input examples into DataLoader"
      ]
    },
    {
      "cell_type": "code",
      "metadata": {
        "id": "4c-nsMXlKX-D"
      },
      "source": [
        "def convert_input_examples_to_dataloader(label_list):\n",
        "  label_map = {}\n",
        "  for (i, label) in enumerate(label_list):\n",
        "    label_map[label] = i\n",
        "  #------------------------------\n",
        "  #   Load the train dataset\n",
        "  #------------------------------\n",
        "  train_examples = labeled_examples\n",
        "  #The labeled (train) dataset is assigned with a mask set to True\n",
        "  train_label_masks = np.ones(len(labeled_examples), dtype=bool)\n",
        "  #If unlabel examples are available\n",
        "  if unlabeled_examples:\n",
        "    train_examples = train_examples + unlabeled_examples\n",
        "    #The unlabeled (train) dataset is assigned with a mask set to False\n",
        "    tmp_masks = np.zeros(len(unlabeled_examples), dtype=bool)\n",
        "    train_label_masks = np.concatenate([train_label_masks,tmp_masks])\n",
        "\n",
        "  train_dataloader = generate_data_loader(train_examples, train_label_masks, label_map, do_shuffle = True, balance_label_examples = apply_balance)\n",
        "\n",
        "  #------------------------------\n",
        "  #   Load the test dataset\n",
        "  #------------------------------\n",
        "  #The labeled (test) dataset is assigned with a mask set to True\n",
        "  test_label_masks = np.ones(len(test_examples), dtype=bool)\n",
        "\n",
        "  test_dataloader = generate_data_loader(test_examples, test_label_masks, label_map, do_shuffle = False, balance_label_examples = False)\n",
        "  return test_dataloader, train_dataloader, train_examples"
      ],
      "execution_count": 12,
      "outputs": []
    },
    {
      "cell_type": "markdown",
      "metadata": {
        "id": "6Ihcw3vquaQm"
      },
      "source": [
        "## Generator and Discriminator definition\n",
        "We define the Generator and Discriminator as discussed in https://www.aclweb.org/anthology/2020.acl-main.191/"
      ]
    },
    {
      "cell_type": "code",
      "metadata": {
        "id": "18kY64-n3I6y"
      },
      "source": [
        "#------------------------------\n",
        "#   The Generator as in \n",
        "#   https://www.aclweb.org/anthology/2020.acl-main.191/\n",
        "#   https://github.com/crux82/ganbert\n",
        "#------------------------------\n",
        "class Generator(nn.Module):\n",
        "    def __init__(self, noise_size=100, output_size=512, hidden_sizes=[512], dropout_rate=0.1):\n",
        "        super(Generator, self).__init__()\n",
        "        layers = []\n",
        "        hidden_sizes = [noise_size] + hidden_sizes\n",
        "        for i in range(len(hidden_sizes)-1):\n",
        "            layers.extend([nn.Linear(hidden_sizes[i], hidden_sizes[i+1]), nn.LeakyReLU(0.2, inplace=True), nn.Dropout(dropout_rate)])\n",
        "\n",
        "        layers.append(nn.Linear(hidden_sizes[-1],output_size))\n",
        "        self.layers = nn.Sequential(*layers)\n",
        "\n",
        "    def forward(self, noise):\n",
        "        output_rep = self.layers(noise)\n",
        "        return output_rep\n",
        "\n",
        "#------------------------------\n",
        "#   The Discriminator\n",
        "#   https://www.aclweb.org/anthology/2020.acl-main.191/\n",
        "#   https://github.com/crux82/ganbert\n",
        "#------------------------------\n",
        "class Discriminator(nn.Module):\n",
        "    def __init__(self, input_size=512, hidden_sizes=[512], num_labels=2, dropout_rate=0.1):\n",
        "        super(Discriminator, self).__init__()\n",
        "        self.input_dropout = nn.Dropout(p=dropout_rate)\n",
        "        layers = []\n",
        "        hidden_sizes = [input_size] + hidden_sizes\n",
        "        for i in range(len(hidden_sizes)-1):\n",
        "            layers.extend([nn.Linear(hidden_sizes[i], hidden_sizes[i+1]), nn.LeakyReLU(0.2, inplace=True), nn.Dropout(dropout_rate)])\n",
        "\n",
        "        self.layers = nn.Sequential(*layers) #per il flatten\n",
        "        self.logit = nn.Linear(hidden_sizes[-1],num_labels+1) # +1 for the probability of this sample being fake/real.\n",
        "        self.softmax = nn.Softmax(dim=-1)\n",
        "\n",
        "    def forward(self, input_rep):\n",
        "        input_rep = self.input_dropout(input_rep)\n",
        "        last_rep = self.layers(input_rep)\n",
        "        logits = self.logit(last_rep)\n",
        "        probs = self.softmax(logits)\n",
        "        return last_rep, logits, probs"
      ],
      "execution_count": 13,
      "outputs": []
    },
    {
      "cell_type": "markdown",
      "metadata": {
        "id": "Uje9s2zQunFc"
      },
      "source": [
        "##We instantiate the Discriminator and Generator"
      ]
    },
    {
      "cell_type": "code",
      "metadata": {
        "id": "Ylz5rvqE3U2S"
      },
      "source": [
        "def instantiate_discriminator_and_generator(transformer):\n",
        "  # The config file is required to get the dimension of the vector produced by \n",
        "  # the underlying transformer\n",
        "  config = AutoConfig.from_pretrained(model_name)\n",
        "  hidden_size = int(config.hidden_size)\n",
        "  # Define the number and width of hidden layers\n",
        "  hidden_levels_g = [hidden_size for i in range(0, num_hidden_layers_g)]\n",
        "  hidden_levels_d = [hidden_size for i in range(0, num_hidden_layers_d)]\n",
        "\n",
        "  #-------------------------------------------------\n",
        "  #   Instantiate the Generator and Discriminator\n",
        "  #-------------------------------------------------\n",
        "  generator = Generator(noise_size=noise_size, output_size=hidden_size, hidden_sizes=hidden_levels_g, dropout_rate=out_dropout_rate)\n",
        "  discriminator = Discriminator(input_size=hidden_size, hidden_sizes=hidden_levels_d, num_labels=len(label_list), dropout_rate=out_dropout_rate)\n",
        "\n",
        "  # Put everything in the GPU if available\n",
        "  if torch.cuda.is_available():    \n",
        "    generator.cuda()\n",
        "    discriminator.cuda()\n",
        "    transformer.cuda()\n",
        "    if multi_gpu:\n",
        "      transformer = torch.nn.DataParallel(transformer)\n",
        "\n",
        "  # print(config)\n",
        "  return generator, discriminator"
      ],
      "execution_count": 14,
      "outputs": []
    },
    {
      "cell_type": "markdown",
      "metadata": {
        "id": "VG3qzp2-usZE"
      },
      "source": [
        "##Training procedure starting method\n",
        "Let's go with the training procedure"
      ]
    },
    {
      "cell_type": "code",
      "metadata": {
        "id": "NhqylHGK3Va4"
      },
      "source": [
        "def training_procedure_start(test_dataloader, train_dataloader, train_examples, generator, discriminator):\n",
        "  training_stats = []\n",
        "\n",
        "  # Measure the total training time for the whole run.\n",
        "  total_t0 = time.time()\n",
        "\n",
        "  #models parameters\n",
        "  transformer_vars = [i for i in transformer.parameters()]\n",
        "  d_vars = transformer_vars + [v for v in discriminator.parameters()]\n",
        "  g_vars = [v for v in generator.parameters()]\n",
        "\n",
        "  #optimizer\n",
        "  dis_optimizer = torch.optim.AdamW(d_vars, lr=learning_rate_discriminator)\n",
        "  gen_optimizer = torch.optim.AdamW(g_vars, lr=learning_rate_generator) \n",
        "\n",
        "  #scheduler\n",
        "  if apply_scheduler:\n",
        "    num_train_examples = len(train_examples)\n",
        "    num_train_steps = int(num_train_examples / batch_size * num_train_epochs)\n",
        "    num_warmup_steps = int(num_train_steps * warmup_proportion)\n",
        "\n",
        "    scheduler_d = get_constant_schedule_with_warmup(dis_optimizer, \n",
        "                                            num_warmup_steps = num_warmup_steps)\n",
        "    scheduler_g = get_constant_schedule_with_warmup(gen_optimizer, \n",
        "                                            num_warmup_steps = num_warmup_steps)\n",
        "\n",
        "  # For each epoch...\n",
        "  for epoch_i in range(0, num_train_epochs):\n",
        "      # ========================================\n",
        "      #               Training\n",
        "      # ========================================\n",
        "      # Perform one full pass over the training set.\n",
        "      print(\"\")\n",
        "      print('======== Epoch {:} / {:} ========'.format(epoch_i + 1, num_train_epochs))\n",
        "      print('Training...')\n",
        "\n",
        "      # Measure how long the training epoch takes.\n",
        "      t0 = time.time()\n",
        "\n",
        "      # Reset the total loss for this epoch.\n",
        "      tr_g_loss = 0\n",
        "      tr_d_loss = 0\n",
        "\n",
        "      # Put the model into training mode.\n",
        "      transformer.train() \n",
        "      generator.train()\n",
        "      discriminator.train()\n",
        "\n",
        "      # For each batch of training data...\n",
        "      for step, batch in enumerate(train_dataloader):\n",
        "\n",
        "          # Progress update every print_each_n_step batches.\n",
        "          if step % print_each_n_step == 0 and not step == 0:\n",
        "              # Calculate elapsed time in minutes.\n",
        "              elapsed = format_time(time.time() - t0)\n",
        "              \n",
        "              # Report progress.\n",
        "              print('  Batch {:>5,}  of  {:>5,}.    Elapsed: {:}.'.format(step, len(train_dataloader), elapsed))\n",
        "\n",
        "          # Unpack this training batch from our dataloader. \n",
        "          b_input_ids = batch[0].to(\"cuda:0\") \n",
        "          b_input_mask = batch[1].to(\"cuda:0\")\n",
        "          b_labels = batch[2].to(\"cuda:0\")\n",
        "          b_label_mask = batch[3].to(\"cuda:0\")\n",
        "\n",
        "          real_batch_size = b_input_ids.shape[0]\n",
        "      \n",
        "          # Encode real data in the Transformer\n",
        "          model_outputs = transformer(b_input_ids, attention_mask=b_input_mask)\n",
        "          hidden_states = model_outputs[-1]\n",
        "          \n",
        "          # Generate fake data that should have the same distribution of the ones\n",
        "          # encoded by the transformer. \n",
        "          # First noisy input are used in input to the Generator\n",
        "          noise = torch.zeros(real_batch_size, noise_size, device=device).uniform_(0, 1)\n",
        "          # Gnerate Fake data\n",
        "          gen_rep = generator(noise)\n",
        "\n",
        "          # Generate the output of the Discriminator for real and fake data.\n",
        "          # First, we put together the output of the tranformer and the generator\n",
        "          disciminator_input = torch.cat([hidden_states, gen_rep], dim=0)\n",
        "          # Then, we select the output of the disciminator\n",
        "          features, logits, probs = discriminator(disciminator_input)\n",
        "\n",
        "          # Finally, we separate the discriminator's output for the real and fake\n",
        "          # data\n",
        "          features_list = torch.split(features, real_batch_size)\n",
        "          D_real_features = features_list[0]\n",
        "          D_fake_features = features_list[1]\n",
        "        \n",
        "          logits_list = torch.split(logits, real_batch_size)\n",
        "          D_real_logits = logits_list[0]\n",
        "          D_fake_logits = logits_list[1]\n",
        "          \n",
        "          probs_list = torch.split(probs, real_batch_size)\n",
        "          D_real_probs = probs_list[0]\n",
        "          D_fake_probs = probs_list[1]\n",
        "\n",
        "          #---------------------------------\n",
        "          #  LOSS evaluation\n",
        "          #---------------------------------\n",
        "          # Generator's LOSS estimation\n",
        "          g_loss_d = -1 * torch.mean(torch.log(1 - D_fake_probs[:,-1] + epsilon))\n",
        "          g_feat_reg = torch.mean(torch.pow(torch.mean(D_real_features, dim=0) - torch.mean(D_fake_features, dim=0), 2))\n",
        "          g_loss = g_loss_d + g_feat_reg\n",
        "    \n",
        "          # Disciminator's LOSS estimation\n",
        "          logits = D_real_logits[:,0:-1]\n",
        "          log_probs = F.log_softmax(logits, dim=-1)\n",
        "          # The discriminator provides an output for labeled and unlabeled real data\n",
        "          # so the loss evaluated for unlabeled data is ignored (masked)\n",
        "          label2one_hot = torch.nn.functional.one_hot(b_labels, len(label_list))\n",
        "          per_example_loss = -torch.sum(label2one_hot * log_probs, dim=-1)\n",
        "          per_example_loss = torch.masked_select(per_example_loss, b_label_mask.to(device))\n",
        "          labeled_example_count = per_example_loss.type(torch.float32).numel()\n",
        "\n",
        "          # It may be the case that a batch does not contain labeled examples, \n",
        "          # so the \"supervised loss\" in this case is not evaluated\n",
        "          if labeled_example_count == 0:\n",
        "            D_L_Supervised = 0\n",
        "          else:\n",
        "            D_L_Supervised = torch.div(torch.sum(per_example_loss.to(device)), labeled_example_count)\n",
        "                  \n",
        "          D_L_unsupervised1U = -1 * torch.mean(torch.log(1 - D_real_probs[:, -1] + epsilon))\n",
        "          D_L_unsupervised2U = -1 * torch.mean(torch.log(D_fake_probs[:, -1] + epsilon))\n",
        "          d_loss = D_L_Supervised + D_L_unsupervised1U + D_L_unsupervised2U\n",
        "\n",
        "          #---------------------------------\n",
        "          #  OPTIMIZATION\n",
        "          #---------------------------------\n",
        "          # Avoid gradient accumulation\n",
        "          gen_optimizer.zero_grad()\n",
        "          dis_optimizer.zero_grad()\n",
        "\n",
        "          # Calculate weigth updates\n",
        "          # retain_graph=True is required since the underlying graph will be deleted after backward\n",
        "          g_loss.backward(retain_graph=True)\n",
        "          d_loss.backward() \n",
        "          \n",
        "          # Apply modifications\n",
        "          gen_optimizer.step()\n",
        "          dis_optimizer.step()\n",
        "\n",
        "          # A detail log of the individual losses\n",
        "          #print(\"{0:.4f}\\t{1:.4f}\\t{2:.4f}\\t{3:.4f}\\t{4:.4f}\".\n",
        "          #      format(D_L_Supervised, D_L_unsupervised1U, D_L_unsupervised2U,\n",
        "          #             g_loss_d, g_feat_reg))\n",
        "\n",
        "          # Save the losses to print them later\n",
        "          tr_g_loss += g_loss.item()\n",
        "          tr_d_loss += d_loss.item()\n",
        "\n",
        "          # Update the learning rate with the scheduler\n",
        "          if apply_scheduler:\n",
        "            scheduler_d.step()\n",
        "            scheduler_g.step()\n",
        "\n",
        "      # Calculate the average loss over all of the batches.\n",
        "      avg_train_loss_g = tr_g_loss / len(train_dataloader)\n",
        "      avg_train_loss_d = tr_d_loss / len(train_dataloader)             \n",
        "      \n",
        "      # Measure how long this epoch took.\n",
        "      training_time = format_time(time.time() - t0)\n",
        "\n",
        "      print(\"\")\n",
        "      print(\"  Average training loss generetor: {0:.3f}\".format(avg_train_loss_g))\n",
        "      print(\"  Average training loss discriminator: {0:.3f}\".format(avg_train_loss_d))\n",
        "      print(\"  Training epcoh took: {:}\".format(training_time))\n",
        "          \n",
        "      # ========================================\n",
        "      #     TEST ON THE EVALUATION DATASET\n",
        "      # ========================================\n",
        "      # After the completion of each training epoch, measure our performance on\n",
        "      # our test set.\n",
        "      print(\"\")\n",
        "      print(\"Running Test...\")\n",
        "\n",
        "      t0 = time.time()\n",
        "\n",
        "      # Put the model in evaluation mode--the dropout layers behave differently\n",
        "      # during evaluation.\n",
        "      transformer.eval() #maybe redundant\n",
        "      discriminator.eval()\n",
        "      generator.eval()\n",
        "\n",
        "      # Tracking variables \n",
        "      total_test_accuracy = 0\n",
        "    \n",
        "      total_test_loss = 0\n",
        "      nb_test_steps = 0\n",
        "\n",
        "      all_preds = []\n",
        "      all_labels_ids = []\n",
        "\n",
        "      #loss\n",
        "      nll_loss = torch.nn.CrossEntropyLoss(ignore_index=-1)\n",
        "\n",
        "      # Evaluate data for one epoch\n",
        "      for batch in test_dataloader:\n",
        "          \n",
        "          # Unpack this training batch from our dataloader. \n",
        "          b_input_ids = batch[0].to(device)\n",
        "          b_input_mask = batch[1].to(device)\n",
        "          b_labels = batch[2].to(device)\n",
        "          \n",
        "          # Tell pytorch not to bother with constructing the compute graph during\n",
        "          # the forward pass, since this is only needed for backprop (training).\n",
        "          with torch.no_grad():        \n",
        "              model_outputs = transformer(b_input_ids, attention_mask=b_input_mask)\n",
        "              hidden_states = model_outputs[-1]\n",
        "              _, logits, probs = discriminator(hidden_states)\n",
        "              ###log_probs = F.log_softmax(probs[:,1:], dim=-1)\n",
        "              filtered_logits = logits[:,0:-1]\n",
        "              # Accumulate the test loss.\n",
        "              total_test_loss += nll_loss(filtered_logits, b_labels)\n",
        "              \n",
        "          # Accumulate the predictions and the input labels\n",
        "          _, preds = torch.max(filtered_logits, 1)\n",
        "          all_preds += preds.detach().cpu()\n",
        "          all_labels_ids += b_labels.detach().cpu()\n",
        "\n",
        "      # Report the final accuracy for this validation run.\n",
        "      all_preds = torch.stack(all_preds).numpy()\n",
        "      all_labels_ids = torch.stack(all_labels_ids).numpy()\n",
        "      test_accuracy = np.sum(all_preds == all_labels_ids) / len(all_preds)\n",
        "      print(\"  Accuracy: {0:.3f}\".format(test_accuracy))\n",
        "\n",
        "      # Calculate the average loss over all of the batches.\n",
        "      avg_test_loss = total_test_loss / len(test_dataloader)\n",
        "      avg_test_loss = avg_test_loss.item()\n",
        "      \n",
        "      # Measure how long the validation run took.\n",
        "      test_time = format_time(time.time() - t0)\n",
        "      \n",
        "      print(\"  Test Loss: {0:.3f}\".format(avg_test_loss))\n",
        "      print(\"  Test took: {:}\".format(test_time))\n",
        "\n",
        "      # Record all statistics from this epoch.\n",
        "      training_stats.append(\n",
        "          {\n",
        "              'epoch': epoch_i + 1,\n",
        "              'Training Loss generator': avg_train_loss_g,\n",
        "              'Training Loss discriminator': avg_train_loss_d,\n",
        "              'Valid. Loss': avg_test_loss,\n",
        "              'Valid. Accur.': test_accuracy,\n",
        "              'Training Time': training_time,\n",
        "              'Test Time': test_time\n",
        "          }\n",
        "      )\n",
        "  return training_stats, total_t0"
      ],
      "execution_count": 15,
      "outputs": []
    },
    {
      "cell_type": "markdown",
      "source": [
        "##Training complete visualization"
      ],
      "metadata": {
        "id": "eTX0HOHaGUJq"
      }
    },
    {
      "cell_type": "code",
      "metadata": {
        "id": "dDm9NProRB4c"
      },
      "source": [
        "def training_procedure_completion_print(training_stats, total_t0):\n",
        "  for stat in training_stats:\n",
        "    print(stat)\n",
        "\n",
        "  print(\"\\nTraining complete!\")\n",
        "\n",
        "  print(\"Total training took {:} (h:mm:ss)\".format(format_time(time.time()-total_t0)))"
      ],
      "execution_count": 16,
      "outputs": []
    },
    {
      "cell_type": "markdown",
      "source": [
        "##10_90"
      ],
      "metadata": {
        "id": "uznO9TEJ_98f"
      }
    },
    {
      "cell_type": "code",
      "source": [
        "labeled_file = \"./10_90/labeled.tsv\"\n",
        "unlabeled_file = \"./10_90/unlabeled.tsv\"\n",
        "test_filename = \"./10_90/test.tsv\""
      ],
      "metadata": {
        "id": "GWdiy94-Xuvo"
      },
      "execution_count": 17,
      "outputs": []
    },
    {
      "cell_type": "code",
      "source": [
        "labeled_examples, unlabeled_examples, test_examples = load_the_input_dataset()"
      ],
      "metadata": {
        "id": "iCOTa8n4YwN2"
      },
      "execution_count": 18,
      "outputs": []
    },
    {
      "cell_type": "code",
      "source": [
        "len(labeled_examples)"
      ],
      "metadata": {
        "colab": {
          "base_uri": "https://localhost:8080/"
        },
        "id": "zxNXQddnluA-",
        "outputId": "e9850a1f-abb9-46d4-df0a-b8faf0460331"
      },
      "execution_count": 19,
      "outputs": [
        {
          "output_type": "execute_result",
          "data": {
            "text/plain": [
              "1500"
            ]
          },
          "metadata": {},
          "execution_count": 19
        }
      ]
    },
    {
      "cell_type": "code",
      "source": [
        "len(unlabeled_examples)"
      ],
      "metadata": {
        "colab": {
          "base_uri": "https://localhost:8080/"
        },
        "id": "IVOC5uMomrbm",
        "outputId": "b474dca6-6983-42a3-b7d9-c79f36339bbc"
      },
      "execution_count": 20,
      "outputs": [
        {
          "output_type": "execute_result",
          "data": {
            "text/plain": [
              "13500"
            ]
          },
          "metadata": {},
          "execution_count": 20
        }
      ]
    },
    {
      "cell_type": "code",
      "source": [
        "test_dataloader, train_dataloader, train_examples = convert_input_examples_to_dataloader(label_list)"
      ],
      "metadata": {
        "id": "qaGcL4-rm1ZW"
      },
      "execution_count": 21,
      "outputs": []
    },
    {
      "cell_type": "code",
      "source": [
        "generator, discriminator = instantiate_discriminator_and_generator(transformer)"
      ],
      "metadata": {
        "id": "3xNHljrEptEh"
      },
      "execution_count": 22,
      "outputs": []
    },
    {
      "cell_type": "code",
      "source": [
        "training_stats, total_t0 = training_procedure_start(test_dataloader, train_dataloader, train_examples, generator, discriminator)"
      ],
      "metadata": {
        "colab": {
          "base_uri": "https://localhost:8080/"
        },
        "id": "hWP5yxE0p0jR",
        "outputId": "b8249ff5-380c-4100-90d5-5340f5a7033b"
      },
      "execution_count": 23,
      "outputs": [
        {
          "output_type": "stream",
          "name": "stdout",
          "text": [
            "\n",
            "======== Epoch 1 / 5 ========\n",
            "Training...\n",
            "  Batch    10  of    282.    Elapsed: 0:00:06.\n",
            "  Batch    20  of    282.    Elapsed: 0:00:12.\n",
            "  Batch    30  of    282.    Elapsed: 0:00:18.\n",
            "  Batch    40  of    282.    Elapsed: 0:00:23.\n",
            "  Batch    50  of    282.    Elapsed: 0:00:29.\n",
            "  Batch    60  of    282.    Elapsed: 0:00:35.\n",
            "  Batch    70  of    282.    Elapsed: 0:00:41.\n",
            "  Batch    80  of    282.    Elapsed: 0:00:47.\n",
            "  Batch    90  of    282.    Elapsed: 0:00:52.\n",
            "  Batch   100  of    282.    Elapsed: 0:00:58.\n",
            "  Batch   110  of    282.    Elapsed: 0:01:04.\n",
            "  Batch   120  of    282.    Elapsed: 0:01:10.\n",
            "  Batch   130  of    282.    Elapsed: 0:01:16.\n",
            "  Batch   140  of    282.    Elapsed: 0:01:21.\n",
            "  Batch   150  of    282.    Elapsed: 0:01:27.\n",
            "  Batch   160  of    282.    Elapsed: 0:01:33.\n",
            "  Batch   170  of    282.    Elapsed: 0:01:39.\n",
            "  Batch   180  of    282.    Elapsed: 0:01:45.\n",
            "  Batch   190  of    282.    Elapsed: 0:01:50.\n",
            "  Batch   200  of    282.    Elapsed: 0:01:56.\n",
            "  Batch   210  of    282.    Elapsed: 0:02:02.\n",
            "  Batch   220  of    282.    Elapsed: 0:02:08.\n",
            "  Batch   230  of    282.    Elapsed: 0:02:14.\n",
            "  Batch   240  of    282.    Elapsed: 0:02:19.\n",
            "  Batch   250  of    282.    Elapsed: 0:02:25.\n",
            "  Batch   260  of    282.    Elapsed: 0:02:31.\n",
            "  Batch   270  of    282.    Elapsed: 0:02:37.\n",
            "  Batch   280  of    282.    Elapsed: 0:02:42.\n",
            "\n",
            "  Average training loss generetor: 0.678\n",
            "  Average training loss discriminator: 5.837\n",
            "  Training epcoh took: 0:02:43\n",
            "\n",
            "Running Test...\n",
            "  Accuracy: 0.159\n",
            "  Test Loss: 4.052\n",
            "  Test took: 0:00:08\n",
            "\n",
            "======== Epoch 2 / 5 ========\n",
            "Training...\n",
            "  Batch    10  of    282.    Elapsed: 0:00:06.\n",
            "  Batch    20  of    282.    Elapsed: 0:00:12.\n",
            "  Batch    30  of    282.    Elapsed: 0:00:17.\n",
            "  Batch    40  of    282.    Elapsed: 0:00:23.\n",
            "  Batch    50  of    282.    Elapsed: 0:00:29.\n",
            "  Batch    60  of    282.    Elapsed: 0:00:35.\n",
            "  Batch    70  of    282.    Elapsed: 0:00:41.\n",
            "  Batch    80  of    282.    Elapsed: 0:00:46.\n",
            "  Batch    90  of    282.    Elapsed: 0:00:52.\n",
            "  Batch   100  of    282.    Elapsed: 0:00:58.\n",
            "  Batch   110  of    282.    Elapsed: 0:01:04.\n",
            "  Batch   120  of    282.    Elapsed: 0:01:10.\n",
            "  Batch   130  of    282.    Elapsed: 0:01:15.\n",
            "  Batch   140  of    282.    Elapsed: 0:01:21.\n",
            "  Batch   150  of    282.    Elapsed: 0:01:27.\n",
            "  Batch   160  of    282.    Elapsed: 0:01:33.\n",
            "  Batch   170  of    282.    Elapsed: 0:01:39.\n",
            "  Batch   180  of    282.    Elapsed: 0:01:44.\n",
            "  Batch   190  of    282.    Elapsed: 0:01:50.\n",
            "  Batch   200  of    282.    Elapsed: 0:01:56.\n",
            "  Batch   210  of    282.    Elapsed: 0:02:02.\n",
            "  Batch   220  of    282.    Elapsed: 0:02:07.\n",
            "  Batch   230  of    282.    Elapsed: 0:02:13.\n",
            "  Batch   240  of    282.    Elapsed: 0:02:19.\n",
            "  Batch   250  of    282.    Elapsed: 0:02:25.\n",
            "  Batch   260  of    282.    Elapsed: 0:02:31.\n",
            "  Batch   270  of    282.    Elapsed: 0:02:36.\n",
            "  Batch   280  of    282.    Elapsed: 0:02:42.\n",
            "\n",
            "  Average training loss generetor: 0.754\n",
            "  Average training loss discriminator: 4.090\n",
            "  Training epcoh took: 0:02:43\n",
            "\n",
            "Running Test...\n",
            "  Accuracy: 0.563\n",
            "  Test Loss: 2.691\n",
            "  Test took: 0:00:08\n",
            "\n",
            "======== Epoch 3 / 5 ========\n",
            "Training...\n",
            "  Batch    10  of    282.    Elapsed: 0:00:06.\n",
            "  Batch    20  of    282.    Elapsed: 0:00:12.\n",
            "  Batch    30  of    282.    Elapsed: 0:00:17.\n",
            "  Batch    40  of    282.    Elapsed: 0:00:23.\n",
            "  Batch    50  of    282.    Elapsed: 0:00:29.\n",
            "  Batch    60  of    282.    Elapsed: 0:00:35.\n",
            "  Batch    70  of    282.    Elapsed: 0:00:41.\n",
            "  Batch    80  of    282.    Elapsed: 0:00:46.\n",
            "  Batch    90  of    282.    Elapsed: 0:00:52.\n",
            "  Batch   100  of    282.    Elapsed: 0:00:58.\n",
            "  Batch   110  of    282.    Elapsed: 0:01:04.\n",
            "  Batch   120  of    282.    Elapsed: 0:01:10.\n",
            "  Batch   130  of    282.    Elapsed: 0:01:15.\n",
            "  Batch   140  of    282.    Elapsed: 0:01:21.\n",
            "  Batch   150  of    282.    Elapsed: 0:01:27.\n",
            "  Batch   160  of    282.    Elapsed: 0:01:33.\n",
            "  Batch   170  of    282.    Elapsed: 0:01:39.\n",
            "  Batch   180  of    282.    Elapsed: 0:01:44.\n",
            "  Batch   190  of    282.    Elapsed: 0:01:50.\n",
            "  Batch   200  of    282.    Elapsed: 0:01:56.\n",
            "  Batch   210  of    282.    Elapsed: 0:02:02.\n",
            "  Batch   220  of    282.    Elapsed: 0:02:08.\n",
            "  Batch   230  of    282.    Elapsed: 0:02:13.\n",
            "  Batch   240  of    282.    Elapsed: 0:02:19.\n",
            "  Batch   250  of    282.    Elapsed: 0:02:25.\n",
            "  Batch   260  of    282.    Elapsed: 0:02:31.\n",
            "  Batch   270  of    282.    Elapsed: 0:02:36.\n",
            "  Batch   280  of    282.    Elapsed: 0:02:42.\n",
            "\n",
            "  Average training loss generetor: 0.753\n",
            "  Average training loss discriminator: 2.653\n",
            "  Training epcoh took: 0:02:43\n",
            "\n",
            "Running Test...\n",
            "  Accuracy: 0.781\n",
            "  Test Loss: 1.563\n",
            "  Test took: 0:00:08\n",
            "\n",
            "======== Epoch 4 / 5 ========\n",
            "Training...\n",
            "  Batch    10  of    282.    Elapsed: 0:00:06.\n",
            "  Batch    20  of    282.    Elapsed: 0:00:12.\n",
            "  Batch    30  of    282.    Elapsed: 0:00:17.\n",
            "  Batch    40  of    282.    Elapsed: 0:00:23.\n",
            "  Batch    50  of    282.    Elapsed: 0:00:29.\n",
            "  Batch    60  of    282.    Elapsed: 0:00:35.\n",
            "  Batch    70  of    282.    Elapsed: 0:00:41.\n",
            "  Batch    80  of    282.    Elapsed: 0:00:46.\n",
            "  Batch    90  of    282.    Elapsed: 0:00:52.\n",
            "  Batch   100  of    282.    Elapsed: 0:00:58.\n",
            "  Batch   110  of    282.    Elapsed: 0:01:04.\n",
            "  Batch   120  of    282.    Elapsed: 0:01:10.\n",
            "  Batch   130  of    282.    Elapsed: 0:01:15.\n",
            "  Batch   140  of    282.    Elapsed: 0:01:21.\n",
            "  Batch   150  of    282.    Elapsed: 0:01:27.\n",
            "  Batch   160  of    282.    Elapsed: 0:01:33.\n",
            "  Batch   170  of    282.    Elapsed: 0:01:39.\n",
            "  Batch   180  of    282.    Elapsed: 0:01:44.\n",
            "  Batch   190  of    282.    Elapsed: 0:01:50.\n",
            "  Batch   200  of    282.    Elapsed: 0:01:56.\n",
            "  Batch   210  of    282.    Elapsed: 0:02:02.\n",
            "  Batch   220  of    282.    Elapsed: 0:02:08.\n",
            "  Batch   230  of    282.    Elapsed: 0:02:13.\n",
            "  Batch   240  of    282.    Elapsed: 0:02:19.\n",
            "  Batch   250  of    282.    Elapsed: 0:02:25.\n",
            "  Batch   260  of    282.    Elapsed: 0:02:31.\n",
            "  Batch   270  of    282.    Elapsed: 0:02:37.\n",
            "  Batch   280  of    282.    Elapsed: 0:02:42.\n",
            "\n",
            "  Average training loss generetor: 0.745\n",
            "  Average training loss discriminator: 1.627\n",
            "  Training epcoh took: 0:02:43\n",
            "\n",
            "Running Test...\n",
            "  Accuracy: 0.832\n",
            "  Test Loss: 0.989\n",
            "  Test took: 0:00:08\n",
            "\n",
            "======== Epoch 5 / 5 ========\n",
            "Training...\n",
            "  Batch    10  of    282.    Elapsed: 0:00:06.\n",
            "  Batch    20  of    282.    Elapsed: 0:00:12.\n",
            "  Batch    30  of    282.    Elapsed: 0:00:17.\n",
            "  Batch    40  of    282.    Elapsed: 0:00:23.\n",
            "  Batch    50  of    282.    Elapsed: 0:00:29.\n",
            "  Batch    60  of    282.    Elapsed: 0:00:35.\n",
            "  Batch    70  of    282.    Elapsed: 0:00:41.\n",
            "  Batch    80  of    282.    Elapsed: 0:00:46.\n",
            "  Batch    90  of    282.    Elapsed: 0:00:52.\n",
            "  Batch   100  of    282.    Elapsed: 0:00:58.\n",
            "  Batch   110  of    282.    Elapsed: 0:01:04.\n",
            "  Batch   120  of    282.    Elapsed: 0:01:10.\n",
            "  Batch   130  of    282.    Elapsed: 0:01:15.\n",
            "  Batch   140  of    282.    Elapsed: 0:01:21.\n",
            "  Batch   150  of    282.    Elapsed: 0:01:27.\n",
            "  Batch   160  of    282.    Elapsed: 0:01:33.\n",
            "  Batch   170  of    282.    Elapsed: 0:01:39.\n",
            "  Batch   180  of    282.    Elapsed: 0:01:44.\n",
            "  Batch   190  of    282.    Elapsed: 0:01:50.\n",
            "  Batch   200  of    282.    Elapsed: 0:01:56.\n",
            "  Batch   210  of    282.    Elapsed: 0:02:02.\n",
            "  Batch   220  of    282.    Elapsed: 0:02:08.\n",
            "  Batch   230  of    282.    Elapsed: 0:02:13.\n",
            "  Batch   240  of    282.    Elapsed: 0:02:19.\n",
            "  Batch   250  of    282.    Elapsed: 0:02:25.\n",
            "  Batch   260  of    282.    Elapsed: 0:02:31.\n",
            "  Batch   270  of    282.    Elapsed: 0:02:37.\n",
            "  Batch   280  of    282.    Elapsed: 0:02:42.\n",
            "\n",
            "  Average training loss generetor: 0.738\n",
            "  Average training loss discriminator: 1.096\n",
            "  Training epcoh took: 0:02:43\n",
            "\n",
            "Running Test...\n",
            "  Accuracy: 0.863\n",
            "  Test Loss: 0.726\n",
            "  Test took: 0:00:08\n"
          ]
        }
      ]
    },
    {
      "cell_type": "code",
      "source": [
        "training_procedure_completion_print(training_stats, total_t0)"
      ],
      "metadata": {
        "colab": {
          "base_uri": "https://localhost:8080/"
        },
        "id": "Gc-ApVKKvC7E",
        "outputId": "63ed7e9e-85f3-4102-959f-a70833ffb579"
      },
      "execution_count": 24,
      "outputs": [
        {
          "output_type": "stream",
          "name": "stdout",
          "text": [
            "{'epoch': 1, 'Training Loss generator': 0.6783262025697011, 'Training Loss discriminator': 5.837131775862781, 'Valid. Loss': 4.051893711090088, 'Valid. Accur.': 0.15911111111111112, 'Training Time': '0:02:43', 'Test Time': '0:00:08'}\n",
            "{'epoch': 2, 'Training Loss generator': 0.7543364545554979, 'Training Loss discriminator': 4.090072987772894, 'Valid. Loss': 2.690840244293213, 'Valid. Accur.': 0.5628888888888889, 'Training Time': '0:02:43', 'Test Time': '0:00:08'}\n",
            "{'epoch': 3, 'Training Loss generator': 0.7531675573781873, 'Training Loss discriminator': 2.652762626925259, 'Valid. Loss': 1.563303828239441, 'Valid. Accur.': 0.7813333333333333, 'Training Time': '0:02:43', 'Test Time': '0:00:08'}\n",
            "{'epoch': 4, 'Training Loss generator': 0.7452266081005123, 'Training Loss discriminator': 1.6271689910415217, 'Valid. Loss': 0.9894434809684753, 'Valid. Accur.': 0.8324444444444444, 'Training Time': '0:02:43', 'Test Time': '0:00:08'}\n",
            "{'epoch': 5, 'Training Loss generator': 0.7380222384388565, 'Training Loss discriminator': 1.0959334502406155, 'Valid. Loss': 0.7255311608314514, 'Valid. Accur.': 0.8631111111111112, 'Training Time': '0:02:43', 'Test Time': '0:00:08'}\n",
            "\n",
            "Training complete!\n",
            "Total training took 0:14:25 (h:mm:ss)\n"
          ]
        }
      ]
    },
    {
      "cell_type": "code",
      "source": [
        "training_stats[-1]"
      ],
      "metadata": {
        "colab": {
          "base_uri": "https://localhost:8080/"
        },
        "id": "mIFKs-q8_Grs",
        "outputId": "902c8f82-ccab-40ce-b8c3-ce1646c00006"
      },
      "execution_count": 25,
      "outputs": [
        {
          "output_type": "execute_result",
          "data": {
            "text/plain": [
              "{'Test Time': '0:00:08',\n",
              " 'Training Loss discriminator': 1.0959334502406155,\n",
              " 'Training Loss generator': 0.7380222384388565,\n",
              " 'Training Time': '0:02:43',\n",
              " 'Valid. Accur.': 0.8631111111111112,\n",
              " 'Valid. Loss': 0.7255311608314514,\n",
              " 'epoch': 5}"
            ]
          },
          "metadata": {},
          "execution_count": 25
        }
      ]
    },
    {
      "cell_type": "markdown",
      "source": [
        "##20_80"
      ],
      "metadata": {
        "id": "x2sNzMzfC0el"
      }
    },
    {
      "cell_type": "code",
      "source": [
        "labeled_file = \"./20_80/labeled.tsv\"\n",
        "unlabeled_file = \"./20_80/unlabeled.tsv\"\n",
        "test_filename = \"./20_80/test.tsv\""
      ],
      "metadata": {
        "id": "KJbq2AEbDGAw"
      },
      "execution_count": 86,
      "outputs": []
    },
    {
      "cell_type": "code",
      "source": [
        "labeled_examples, unlabeled_examples, test_examples = load_the_input_dataset()"
      ],
      "metadata": {
        "id": "oER6_EOIDGAx"
      },
      "execution_count": 87,
      "outputs": []
    },
    {
      "cell_type": "code",
      "source": [
        "len(labeled_examples)"
      ],
      "metadata": {
        "colab": {
          "base_uri": "https://localhost:8080/"
        },
        "outputId": "3d4fad49-607f-430f-e13b-8c22c50cafbd",
        "id": "qqlf7W1UDGAy"
      },
      "execution_count": 88,
      "outputs": [
        {
          "output_type": "execute_result",
          "data": {
            "text/plain": [
              "3000"
            ]
          },
          "metadata": {},
          "execution_count": 88
        }
      ]
    },
    {
      "cell_type": "code",
      "source": [
        "len(unlabeled_examples)"
      ],
      "metadata": {
        "colab": {
          "base_uri": "https://localhost:8080/"
        },
        "outputId": "dd38c5e5-eefe-44e3-adc6-070f17ee42b4",
        "id": "5AEVWhCwDGAy"
      },
      "execution_count": 89,
      "outputs": [
        {
          "output_type": "execute_result",
          "data": {
            "text/plain": [
              "12000"
            ]
          },
          "metadata": {},
          "execution_count": 89
        }
      ]
    },
    {
      "cell_type": "code",
      "source": [
        "len(test_examples)"
      ],
      "metadata": {
        "colab": {
          "base_uri": "https://localhost:8080/"
        },
        "id": "PfhqjSP3E6fO",
        "outputId": "db0e887a-9041-4ba9-9594-885bfdfd45a9"
      },
      "execution_count": 90,
      "outputs": [
        {
          "output_type": "execute_result",
          "data": {
            "text/plain": [
              "4500"
            ]
          },
          "metadata": {},
          "execution_count": 90
        }
      ]
    },
    {
      "cell_type": "code",
      "source": [
        "test_dataloader, train_dataloader, train_examples = convert_input_examples_to_dataloader(label_list)"
      ],
      "metadata": {
        "id": "BnoHO_eADGAz"
      },
      "execution_count": 91,
      "outputs": []
    },
    {
      "cell_type": "code",
      "source": [
        "generator, discriminator = instantiate_discriminator_and_generator(transformer)"
      ],
      "metadata": {
        "id": "f5TJtSqPDGAz"
      },
      "execution_count": 92,
      "outputs": []
    },
    {
      "cell_type": "code",
      "source": [
        "training_stats_20, total_t0 = training_procedure_start(test_dataloader, train_dataloader, train_examples, generator, discriminator)"
      ],
      "metadata": {
        "colab": {
          "base_uri": "https://localhost:8080/"
        },
        "outputId": "270ddf84-6c91-4777-e83c-498529e14235",
        "id": "NxrpXFcwDGAz"
      },
      "execution_count": 93,
      "outputs": [
        {
          "output_type": "stream",
          "name": "stdout",
          "text": [
            "\n",
            "======== Epoch 1 / 5 ========\n",
            "Training...\n",
            "  Batch    10  of    282.    Elapsed: 0:00:06.\n",
            "  Batch    20  of    282.    Elapsed: 0:00:12.\n",
            "  Batch    30  of    282.    Elapsed: 0:00:17.\n",
            "  Batch    40  of    282.    Elapsed: 0:00:23.\n",
            "  Batch    50  of    282.    Elapsed: 0:00:29.\n",
            "  Batch    60  of    282.    Elapsed: 0:00:35.\n",
            "  Batch    70  of    282.    Elapsed: 0:00:41.\n",
            "  Batch    80  of    282.    Elapsed: 0:00:46.\n",
            "  Batch    90  of    282.    Elapsed: 0:00:52.\n",
            "  Batch   100  of    282.    Elapsed: 0:00:58.\n",
            "  Batch   110  of    282.    Elapsed: 0:01:04.\n",
            "  Batch   120  of    282.    Elapsed: 0:01:10.\n",
            "  Batch   130  of    282.    Elapsed: 0:01:15.\n",
            "  Batch   140  of    282.    Elapsed: 0:01:21.\n",
            "  Batch   150  of    282.    Elapsed: 0:01:27.\n",
            "  Batch   160  of    282.    Elapsed: 0:01:33.\n",
            "  Batch   170  of    282.    Elapsed: 0:01:39.\n",
            "  Batch   180  of    282.    Elapsed: 0:01:44.\n",
            "  Batch   190  of    282.    Elapsed: 0:01:50.\n",
            "  Batch   200  of    282.    Elapsed: 0:01:56.\n",
            "  Batch   210  of    282.    Elapsed: 0:02:02.\n",
            "  Batch   220  of    282.    Elapsed: 0:02:08.\n",
            "  Batch   230  of    282.    Elapsed: 0:02:13.\n",
            "  Batch   240  of    282.    Elapsed: 0:02:19.\n",
            "  Batch   250  of    282.    Elapsed: 0:02:25.\n",
            "  Batch   260  of    282.    Elapsed: 0:02:31.\n",
            "  Batch   270  of    282.    Elapsed: 0:02:37.\n",
            "  Batch   280  of    282.    Elapsed: 0:02:42.\n",
            "\n",
            "  Average training loss generetor: 0.680\n",
            "  Average training loss discriminator: 4.270\n",
            "  Training epcoh took: 0:02:43\n",
            "\n",
            "Running Test...\n",
            "  Accuracy: 0.927\n",
            "  Test Loss: 1.377\n",
            "  Test took: 0:00:08\n",
            "\n",
            "======== Epoch 2 / 5 ========\n",
            "Training...\n",
            "  Batch    10  of    282.    Elapsed: 0:00:06.\n",
            "  Batch    20  of    282.    Elapsed: 0:00:12.\n",
            "  Batch    30  of    282.    Elapsed: 0:00:17.\n",
            "  Batch    40  of    282.    Elapsed: 0:00:23.\n",
            "  Batch    50  of    282.    Elapsed: 0:00:29.\n",
            "  Batch    60  of    282.    Elapsed: 0:00:35.\n",
            "  Batch    70  of    282.    Elapsed: 0:00:41.\n",
            "  Batch    80  of    282.    Elapsed: 0:00:46.\n",
            "  Batch    90  of    282.    Elapsed: 0:00:52.\n",
            "  Batch   100  of    282.    Elapsed: 0:00:58.\n",
            "  Batch   110  of    282.    Elapsed: 0:01:04.\n",
            "  Batch   120  of    282.    Elapsed: 0:01:10.\n",
            "  Batch   130  of    282.    Elapsed: 0:01:15.\n",
            "  Batch   140  of    282.    Elapsed: 0:01:21.\n",
            "  Batch   150  of    282.    Elapsed: 0:01:27.\n",
            "  Batch   160  of    282.    Elapsed: 0:01:33.\n",
            "  Batch   170  of    282.    Elapsed: 0:01:39.\n",
            "  Batch   180  of    282.    Elapsed: 0:01:44.\n",
            "  Batch   190  of    282.    Elapsed: 0:01:50.\n",
            "  Batch   200  of    282.    Elapsed: 0:01:56.\n",
            "  Batch   210  of    282.    Elapsed: 0:02:02.\n",
            "  Batch   220  of    282.    Elapsed: 0:02:08.\n",
            "  Batch   230  of    282.    Elapsed: 0:02:13.\n",
            "  Batch   240  of    282.    Elapsed: 0:02:19.\n",
            "  Batch   250  of    282.    Elapsed: 0:02:25.\n",
            "  Batch   260  of    282.    Elapsed: 0:02:31.\n",
            "  Batch   270  of    282.    Elapsed: 0:02:37.\n",
            "  Batch   280  of    282.    Elapsed: 0:02:42.\n",
            "\n",
            "  Average training loss generetor: 0.755\n",
            "  Average training loss discriminator: 1.253\n",
            "  Training epcoh took: 0:02:43\n",
            "\n",
            "Running Test...\n",
            "  Accuracy: 0.921\n",
            "  Test Loss: 0.579\n",
            "  Test took: 0:00:08\n",
            "\n",
            "======== Epoch 3 / 5 ========\n",
            "Training...\n",
            "  Batch    10  of    282.    Elapsed: 0:00:06.\n",
            "  Batch    20  of    282.    Elapsed: 0:00:12.\n",
            "  Batch    30  of    282.    Elapsed: 0:00:17.\n",
            "  Batch    40  of    282.    Elapsed: 0:00:23.\n",
            "  Batch    50  of    282.    Elapsed: 0:00:29.\n",
            "  Batch    60  of    282.    Elapsed: 0:00:35.\n",
            "  Batch    70  of    282.    Elapsed: 0:00:41.\n",
            "  Batch    80  of    282.    Elapsed: 0:00:46.\n",
            "  Batch    90  of    282.    Elapsed: 0:00:52.\n",
            "  Batch   100  of    282.    Elapsed: 0:00:58.\n",
            "  Batch   110  of    282.    Elapsed: 0:01:04.\n",
            "  Batch   120  of    282.    Elapsed: 0:01:10.\n",
            "  Batch   130  of    282.    Elapsed: 0:01:15.\n",
            "  Batch   140  of    282.    Elapsed: 0:01:21.\n",
            "  Batch   150  of    282.    Elapsed: 0:01:27.\n",
            "  Batch   160  of    282.    Elapsed: 0:01:33.\n",
            "  Batch   170  of    282.    Elapsed: 0:01:39.\n",
            "  Batch   180  of    282.    Elapsed: 0:01:44.\n",
            "  Batch   190  of    282.    Elapsed: 0:01:50.\n",
            "  Batch   200  of    282.    Elapsed: 0:01:56.\n",
            "  Batch   210  of    282.    Elapsed: 0:02:02.\n",
            "  Batch   220  of    282.    Elapsed: 0:02:08.\n",
            "  Batch   230  of    282.    Elapsed: 0:02:13.\n",
            "  Batch   240  of    282.    Elapsed: 0:02:19.\n",
            "  Batch   250  of    282.    Elapsed: 0:02:25.\n",
            "  Batch   260  of    282.    Elapsed: 0:02:31.\n",
            "  Batch   270  of    282.    Elapsed: 0:02:37.\n",
            "  Batch   280  of    282.    Elapsed: 0:02:42.\n",
            "\n",
            "  Average training loss generetor: 0.725\n",
            "  Average training loss discriminator: 0.855\n",
            "  Training epcoh took: 0:02:43\n",
            "\n",
            "Running Test...\n",
            "  Accuracy: 0.915\n",
            "  Test Loss: 0.575\n",
            "  Test took: 0:00:08\n",
            "\n",
            "======== Epoch 4 / 5 ========\n",
            "Training...\n",
            "  Batch    10  of    282.    Elapsed: 0:00:06.\n",
            "  Batch    20  of    282.    Elapsed: 0:00:12.\n",
            "  Batch    30  of    282.    Elapsed: 0:00:17.\n",
            "  Batch    40  of    282.    Elapsed: 0:00:23.\n",
            "  Batch    50  of    282.    Elapsed: 0:00:29.\n",
            "  Batch    60  of    282.    Elapsed: 0:00:35.\n",
            "  Batch    70  of    282.    Elapsed: 0:00:41.\n",
            "  Batch    80  of    282.    Elapsed: 0:00:46.\n",
            "  Batch    90  of    282.    Elapsed: 0:00:52.\n",
            "  Batch   100  of    282.    Elapsed: 0:00:58.\n",
            "  Batch   110  of    282.    Elapsed: 0:01:04.\n",
            "  Batch   120  of    282.    Elapsed: 0:01:10.\n",
            "  Batch   130  of    282.    Elapsed: 0:01:15.\n",
            "  Batch   140  of    282.    Elapsed: 0:01:21.\n",
            "  Batch   150  of    282.    Elapsed: 0:01:27.\n",
            "  Batch   160  of    282.    Elapsed: 0:01:33.\n",
            "  Batch   170  of    282.    Elapsed: 0:01:39.\n",
            "  Batch   180  of    282.    Elapsed: 0:01:44.\n",
            "  Batch   190  of    282.    Elapsed: 0:01:50.\n",
            "  Batch   200  of    282.    Elapsed: 0:01:56.\n",
            "  Batch   210  of    282.    Elapsed: 0:02:02.\n",
            "  Batch   220  of    282.    Elapsed: 0:02:08.\n",
            "  Batch   230  of    282.    Elapsed: 0:02:13.\n",
            "  Batch   240  of    282.    Elapsed: 0:02:19.\n",
            "  Batch   250  of    282.    Elapsed: 0:02:25.\n",
            "  Batch   260  of    282.    Elapsed: 0:02:31.\n",
            "  Batch   270  of    282.    Elapsed: 0:02:37.\n",
            "  Batch   280  of    282.    Elapsed: 0:02:42.\n",
            "\n",
            "  Average training loss generetor: 0.718\n",
            "  Average training loss discriminator: 0.793\n",
            "  Training epcoh took: 0:02:43\n",
            "\n",
            "Running Test...\n",
            "  Accuracy: 0.920\n",
            "  Test Loss: 0.563\n",
            "  Test took: 0:00:08\n",
            "\n",
            "======== Epoch 5 / 5 ========\n",
            "Training...\n",
            "  Batch    10  of    282.    Elapsed: 0:00:06.\n",
            "  Batch    20  of    282.    Elapsed: 0:00:12.\n",
            "  Batch    30  of    282.    Elapsed: 0:00:17.\n",
            "  Batch    40  of    282.    Elapsed: 0:00:23.\n",
            "  Batch    50  of    282.    Elapsed: 0:00:29.\n",
            "  Batch    60  of    282.    Elapsed: 0:00:35.\n",
            "  Batch    70  of    282.    Elapsed: 0:00:41.\n",
            "  Batch    80  of    282.    Elapsed: 0:00:46.\n",
            "  Batch    90  of    282.    Elapsed: 0:00:52.\n",
            "  Batch   100  of    282.    Elapsed: 0:00:58.\n",
            "  Batch   110  of    282.    Elapsed: 0:01:04.\n",
            "  Batch   120  of    282.    Elapsed: 0:01:10.\n",
            "  Batch   130  of    282.    Elapsed: 0:01:15.\n",
            "  Batch   140  of    282.    Elapsed: 0:01:21.\n",
            "  Batch   150  of    282.    Elapsed: 0:01:27.\n",
            "  Batch   160  of    282.    Elapsed: 0:01:33.\n",
            "  Batch   170  of    282.    Elapsed: 0:01:39.\n",
            "  Batch   180  of    282.    Elapsed: 0:01:44.\n",
            "  Batch   190  of    282.    Elapsed: 0:01:50.\n",
            "  Batch   200  of    282.    Elapsed: 0:01:56.\n",
            "  Batch   210  of    282.    Elapsed: 0:02:02.\n",
            "  Batch   220  of    282.    Elapsed: 0:02:08.\n",
            "  Batch   230  of    282.    Elapsed: 0:02:13.\n",
            "  Batch   240  of    282.    Elapsed: 0:02:19.\n",
            "  Batch   250  of    282.    Elapsed: 0:02:25.\n",
            "  Batch   260  of    282.    Elapsed: 0:02:31.\n",
            "  Batch   270  of    282.    Elapsed: 0:02:37.\n",
            "  Batch   280  of    282.    Elapsed: 0:02:42.\n",
            "\n",
            "  Average training loss generetor: 0.717\n",
            "  Average training loss discriminator: 0.770\n",
            "  Training epcoh took: 0:02:43\n",
            "\n",
            "Running Test...\n",
            "  Accuracy: 0.921\n",
            "  Test Loss: 0.525\n",
            "  Test took: 0:00:08\n"
          ]
        }
      ]
    },
    {
      "cell_type": "code",
      "source": [
        "training_procedure_completion_print(training_stats_20, total_t0)"
      ],
      "metadata": {
        "colab": {
          "base_uri": "https://localhost:8080/"
        },
        "outputId": "ee671b9a-f8c4-49b0-ad81-c5365f4bb785",
        "id": "v326QeDHDGA0"
      },
      "execution_count": 94,
      "outputs": [
        {
          "output_type": "stream",
          "name": "stdout",
          "text": [
            "{'epoch': 1, 'Training Loss generator': 0.6800781637298089, 'Training Loss discriminator': 4.269945885272736, 'Valid. Loss': 1.3774516582489014, 'Valid. Accur.': 0.9273333333333333, 'Training Time': '0:02:43', 'Test Time': '0:00:08'}\n",
            "{'epoch': 2, 'Training Loss generator': 0.7554243439478232, 'Training Loss discriminator': 1.2531224577984912, 'Valid. Loss': 0.579150378704071, 'Valid. Accur.': 0.9206666666666666, 'Training Time': '0:02:43', 'Test Time': '0:00:08'}\n",
            "{'epoch': 3, 'Training Loss generator': 0.7254063353893605, 'Training Loss discriminator': 0.8553847695918794, 'Valid. Loss': 0.5751867890357971, 'Valid. Accur.': 0.9151111111111111, 'Training Time': '0:02:43', 'Test Time': '0:00:08'}\n",
            "{'epoch': 4, 'Training Loss generator': 0.7181332971610076, 'Training Loss discriminator': 0.7934364148065554, 'Valid. Loss': 0.5634797811508179, 'Valid. Accur.': 0.9195555555555556, 'Training Time': '0:02:43', 'Test Time': '0:00:08'}\n",
            "{'epoch': 5, 'Training Loss generator': 0.7169736363786332, 'Training Loss discriminator': 0.7702048659747374, 'Valid. Loss': 0.5250311493873596, 'Valid. Accur.': 0.9208888888888889, 'Training Time': '0:02:43', 'Test Time': '0:00:08'}\n",
            "\n",
            "Training complete!\n",
            "Total training took 0:14:20 (h:mm:ss)\n"
          ]
        }
      ]
    },
    {
      "cell_type": "code",
      "source": [
        "training_stats_20[-1]"
      ],
      "metadata": {
        "colab": {
          "base_uri": "https://localhost:8080/"
        },
        "outputId": "78c7e630-84b1-4134-9637-93822d60ad78",
        "id": "P4GHkkJBDGA0"
      },
      "execution_count": 95,
      "outputs": [
        {
          "output_type": "execute_result",
          "data": {
            "text/plain": [
              "{'Test Time': '0:00:08',\n",
              " 'Training Loss discriminator': 0.7702048659747374,\n",
              " 'Training Loss generator': 0.7169736363786332,\n",
              " 'Training Time': '0:02:43',\n",
              " 'Valid. Accur.': 0.9208888888888889,\n",
              " 'Valid. Loss': 0.5250311493873596,\n",
              " 'epoch': 5}"
            ]
          },
          "metadata": {},
          "execution_count": 95
        }
      ]
    },
    {
      "cell_type": "markdown",
      "source": [
        "##30_70"
      ],
      "metadata": {
        "id": "Sg2aYWrfGnUK"
      }
    },
    {
      "cell_type": "code",
      "source": [
        "labeled_file = \"./30_70/labeled.tsv\"\n",
        "unlabeled_file = \"./30_70/unlabeled.tsv\"\n",
        "test_filename = \"./30_70/test.tsv\""
      ],
      "metadata": {
        "id": "C17pjqXBGnUL"
      },
      "execution_count": 26,
      "outputs": []
    },
    {
      "cell_type": "code",
      "source": [
        "labeled_examples, unlabeled_examples, test_examples = load_the_input_dataset()"
      ],
      "metadata": {
        "id": "HyuAIEhtGnUL"
      },
      "execution_count": 27,
      "outputs": []
    },
    {
      "cell_type": "code",
      "source": [
        "len(labeled_examples)"
      ],
      "metadata": {
        "colab": {
          "base_uri": "https://localhost:8080/"
        },
        "outputId": "36c26c3c-673c-43ab-c7f0-77e38dd34f99",
        "id": "Sy0n5TidGnUL"
      },
      "execution_count": 28,
      "outputs": [
        {
          "output_type": "execute_result",
          "data": {
            "text/plain": [
              "4500"
            ]
          },
          "metadata": {},
          "execution_count": 28
        }
      ]
    },
    {
      "cell_type": "code",
      "source": [
        "len(unlabeled_examples)"
      ],
      "metadata": {
        "colab": {
          "base_uri": "https://localhost:8080/"
        },
        "outputId": "801ab9e1-c946-4b95-d310-beecacf56ac3",
        "id": "u8IPPAY9GnUM"
      },
      "execution_count": 29,
      "outputs": [
        {
          "output_type": "execute_result",
          "data": {
            "text/plain": [
              "10500"
            ]
          },
          "metadata": {},
          "execution_count": 29
        }
      ]
    },
    {
      "cell_type": "code",
      "source": [
        "len(test_examples)"
      ],
      "metadata": {
        "colab": {
          "base_uri": "https://localhost:8080/"
        },
        "outputId": "fba767fd-e50d-451d-c7bb-05abe7509bb4",
        "id": "s615E3FgGnUM"
      },
      "execution_count": 30,
      "outputs": [
        {
          "output_type": "execute_result",
          "data": {
            "text/plain": [
              "4500"
            ]
          },
          "metadata": {},
          "execution_count": 30
        }
      ]
    },
    {
      "cell_type": "code",
      "source": [
        "test_dataloader, train_dataloader, train_examples = convert_input_examples_to_dataloader(label_list)"
      ],
      "metadata": {
        "id": "H76yRdwSGnUM"
      },
      "execution_count": 31,
      "outputs": []
    },
    {
      "cell_type": "code",
      "source": [
        "generator, discriminator = instantiate_discriminator_and_generator(transformer)"
      ],
      "metadata": {
        "id": "LYAA4At_GnUM"
      },
      "execution_count": 32,
      "outputs": []
    },
    {
      "cell_type": "code",
      "source": [
        "training_stats_30, total_t0 = training_procedure_start(test_dataloader, train_dataloader, train_examples, generator, discriminator)"
      ],
      "metadata": {
        "colab": {
          "base_uri": "https://localhost:8080/"
        },
        "outputId": "07459161-312b-449a-a227-38810b9df558",
        "id": "wje7fHObGnUM"
      },
      "execution_count": 33,
      "outputs": [
        {
          "output_type": "stream",
          "name": "stdout",
          "text": [
            "\n",
            "======== Epoch 1 / 5 ========\n",
            "Training...\n",
            "  Batch    10  of    235.    Elapsed: 0:00:06.\n",
            "  Batch    20  of    235.    Elapsed: 0:00:12.\n",
            "  Batch    30  of    235.    Elapsed: 0:00:17.\n",
            "  Batch    40  of    235.    Elapsed: 0:00:23.\n",
            "  Batch    50  of    235.    Elapsed: 0:00:29.\n",
            "  Batch    60  of    235.    Elapsed: 0:00:35.\n",
            "  Batch    70  of    235.    Elapsed: 0:00:41.\n",
            "  Batch    80  of    235.    Elapsed: 0:00:46.\n",
            "  Batch    90  of    235.    Elapsed: 0:00:52.\n",
            "  Batch   100  of    235.    Elapsed: 0:00:58.\n",
            "  Batch   110  of    235.    Elapsed: 0:01:04.\n",
            "  Batch   120  of    235.    Elapsed: 0:01:10.\n",
            "  Batch   130  of    235.    Elapsed: 0:01:15.\n",
            "  Batch   140  of    235.    Elapsed: 0:01:21.\n",
            "  Batch   150  of    235.    Elapsed: 0:01:27.\n",
            "  Batch   160  of    235.    Elapsed: 0:01:33.\n",
            "  Batch   170  of    235.    Elapsed: 0:01:39.\n",
            "  Batch   180  of    235.    Elapsed: 0:01:44.\n",
            "  Batch   190  of    235.    Elapsed: 0:01:50.\n",
            "  Batch   200  of    235.    Elapsed: 0:01:56.\n",
            "  Batch   210  of    235.    Elapsed: 0:02:02.\n",
            "  Batch   220  of    235.    Elapsed: 0:02:08.\n",
            "  Batch   230  of    235.    Elapsed: 0:02:13.\n",
            "\n",
            "  Average training loss generetor: 0.662\n",
            "  Average training loss discriminator: 5.102\n",
            "  Training epcoh took: 0:02:16\n",
            "\n",
            "Running Test...\n",
            "  Accuracy: 0.839\n",
            "  Test Loss: 2.632\n",
            "  Test took: 0:00:08\n",
            "\n",
            "======== Epoch 2 / 5 ========\n",
            "Training...\n",
            "  Batch    10  of    235.    Elapsed: 0:00:06.\n",
            "  Batch    20  of    235.    Elapsed: 0:00:12.\n",
            "  Batch    30  of    235.    Elapsed: 0:00:17.\n",
            "  Batch    40  of    235.    Elapsed: 0:00:23.\n",
            "  Batch    50  of    235.    Elapsed: 0:00:29.\n",
            "  Batch    60  of    235.    Elapsed: 0:00:35.\n",
            "  Batch    70  of    235.    Elapsed: 0:00:41.\n",
            "  Batch    80  of    235.    Elapsed: 0:00:46.\n",
            "  Batch    90  of    235.    Elapsed: 0:00:52.\n",
            "  Batch   100  of    235.    Elapsed: 0:00:58.\n",
            "  Batch   110  of    235.    Elapsed: 0:01:04.\n",
            "  Batch   120  of    235.    Elapsed: 0:01:10.\n",
            "  Batch   130  of    235.    Elapsed: 0:01:15.\n",
            "  Batch   140  of    235.    Elapsed: 0:01:21.\n",
            "  Batch   150  of    235.    Elapsed: 0:01:27.\n",
            "  Batch   160  of    235.    Elapsed: 0:01:33.\n",
            "  Batch   170  of    235.    Elapsed: 0:01:39.\n",
            "  Batch   180  of    235.    Elapsed: 0:01:44.\n",
            "  Batch   190  of    235.    Elapsed: 0:01:50.\n",
            "  Batch   200  of    235.    Elapsed: 0:01:56.\n",
            "  Batch   210  of    235.    Elapsed: 0:02:02.\n",
            "  Batch   220  of    235.    Elapsed: 0:02:08.\n",
            "  Batch   230  of    235.    Elapsed: 0:02:13.\n",
            "\n",
            "  Average training loss generetor: 0.761\n",
            "  Average training loss discriminator: 2.417\n",
            "  Training epcoh took: 0:02:16\n",
            "\n",
            "Running Test...\n",
            "  Accuracy: 0.900\n",
            "  Test Loss: 1.009\n",
            "  Test took: 0:00:08\n",
            "\n",
            "======== Epoch 3 / 5 ========\n",
            "Training...\n",
            "  Batch    10  of    235.    Elapsed: 0:00:06.\n",
            "  Batch    20  of    235.    Elapsed: 0:00:12.\n",
            "  Batch    30  of    235.    Elapsed: 0:00:17.\n",
            "  Batch    40  of    235.    Elapsed: 0:00:23.\n",
            "  Batch    50  of    235.    Elapsed: 0:00:29.\n",
            "  Batch    60  of    235.    Elapsed: 0:00:35.\n",
            "  Batch    70  of    235.    Elapsed: 0:00:41.\n",
            "  Batch    80  of    235.    Elapsed: 0:00:46.\n",
            "  Batch    90  of    235.    Elapsed: 0:00:52.\n",
            "  Batch   100  of    235.    Elapsed: 0:00:58.\n",
            "  Batch   110  of    235.    Elapsed: 0:01:04.\n",
            "  Batch   120  of    235.    Elapsed: 0:01:10.\n",
            "  Batch   130  of    235.    Elapsed: 0:01:15.\n",
            "  Batch   140  of    235.    Elapsed: 0:01:21.\n",
            "  Batch   150  of    235.    Elapsed: 0:01:27.\n",
            "  Batch   160  of    235.    Elapsed: 0:01:33.\n",
            "  Batch   170  of    235.    Elapsed: 0:01:39.\n",
            "  Batch   180  of    235.    Elapsed: 0:01:45.\n",
            "  Batch   190  of    235.    Elapsed: 0:01:51.\n",
            "  Batch   200  of    235.    Elapsed: 0:01:57.\n",
            "  Batch   210  of    235.    Elapsed: 0:02:02.\n",
            "  Batch   220  of    235.    Elapsed: 0:02:08.\n",
            "  Batch   230  of    235.    Elapsed: 0:02:14.\n",
            "\n",
            "  Average training loss generetor: 0.748\n",
            "  Average training loss discriminator: 1.275\n",
            "  Training epcoh took: 0:02:17\n",
            "\n",
            "Running Test...\n",
            "  Accuracy: 0.916\n",
            "  Test Loss: 0.552\n",
            "  Test took: 0:00:08\n",
            "\n",
            "======== Epoch 4 / 5 ========\n",
            "Training...\n",
            "  Batch    10  of    235.    Elapsed: 0:00:06.\n",
            "  Batch    20  of    235.    Elapsed: 0:00:12.\n",
            "  Batch    30  of    235.    Elapsed: 0:00:17.\n",
            "  Batch    40  of    235.    Elapsed: 0:00:23.\n",
            "  Batch    50  of    235.    Elapsed: 0:00:29.\n",
            "  Batch    60  of    235.    Elapsed: 0:00:35.\n",
            "  Batch    70  of    235.    Elapsed: 0:00:41.\n",
            "  Batch    80  of    235.    Elapsed: 0:00:46.\n",
            "  Batch    90  of    235.    Elapsed: 0:00:52.\n",
            "  Batch   100  of    235.    Elapsed: 0:00:58.\n",
            "  Batch   110  of    235.    Elapsed: 0:01:04.\n",
            "  Batch   120  of    235.    Elapsed: 0:01:10.\n",
            "  Batch   130  of    235.    Elapsed: 0:01:15.\n",
            "  Batch   140  of    235.    Elapsed: 0:01:21.\n",
            "  Batch   150  of    235.    Elapsed: 0:01:27.\n",
            "  Batch   160  of    235.    Elapsed: 0:01:33.\n",
            "  Batch   170  of    235.    Elapsed: 0:01:39.\n",
            "  Batch   180  of    235.    Elapsed: 0:01:44.\n",
            "  Batch   190  of    235.    Elapsed: 0:01:50.\n",
            "  Batch   200  of    235.    Elapsed: 0:01:56.\n",
            "  Batch   210  of    235.    Elapsed: 0:02:02.\n",
            "  Batch   220  of    235.    Elapsed: 0:02:08.\n",
            "  Batch   230  of    235.    Elapsed: 0:02:13.\n",
            "\n",
            "  Average training loss generetor: 0.733\n",
            "  Average training loss discriminator: 0.951\n",
            "  Training epcoh took: 0:02:16\n",
            "\n",
            "Running Test...\n",
            "  Accuracy: 0.918\n",
            "  Test Loss: 0.461\n",
            "  Test took: 0:00:08\n",
            "\n",
            "======== Epoch 5 / 5 ========\n",
            "Training...\n",
            "  Batch    10  of    235.    Elapsed: 0:00:06.\n",
            "  Batch    20  of    235.    Elapsed: 0:00:12.\n",
            "  Batch    30  of    235.    Elapsed: 0:00:17.\n",
            "  Batch    40  of    235.    Elapsed: 0:00:23.\n",
            "  Batch    50  of    235.    Elapsed: 0:00:29.\n",
            "  Batch    60  of    235.    Elapsed: 0:00:35.\n",
            "  Batch    70  of    235.    Elapsed: 0:00:41.\n",
            "  Batch    80  of    235.    Elapsed: 0:00:46.\n",
            "  Batch    90  of    235.    Elapsed: 0:00:52.\n",
            "  Batch   100  of    235.    Elapsed: 0:00:58.\n",
            "  Batch   110  of    235.    Elapsed: 0:01:04.\n",
            "  Batch   120  of    235.    Elapsed: 0:01:10.\n",
            "  Batch   130  of    235.    Elapsed: 0:01:15.\n",
            "  Batch   140  of    235.    Elapsed: 0:01:21.\n",
            "  Batch   150  of    235.    Elapsed: 0:01:27.\n",
            "  Batch   160  of    235.    Elapsed: 0:01:33.\n",
            "  Batch   170  of    235.    Elapsed: 0:01:39.\n",
            "  Batch   180  of    235.    Elapsed: 0:01:44.\n",
            "  Batch   190  of    235.    Elapsed: 0:01:50.\n",
            "  Batch   200  of    235.    Elapsed: 0:01:56.\n",
            "  Batch   210  of    235.    Elapsed: 0:02:02.\n",
            "  Batch   220  of    235.    Elapsed: 0:02:08.\n",
            "  Batch   230  of    235.    Elapsed: 0:02:13.\n",
            "\n",
            "  Average training loss generetor: 0.726\n",
            "  Average training loss discriminator: 0.837\n",
            "  Training epcoh took: 0:02:16\n",
            "\n",
            "Running Test...\n",
            "  Accuracy: 0.926\n",
            "  Test Loss: 0.397\n",
            "  Test took: 0:00:08\n"
          ]
        }
      ]
    },
    {
      "cell_type": "code",
      "source": [
        "training_procedure_completion_print(training_stats_30, total_t0)"
      ],
      "metadata": {
        "colab": {
          "base_uri": "https://localhost:8080/"
        },
        "outputId": "c47767f6-3d80-427a-9c5d-b5864a0e6798",
        "id": "P7ZbeHuaGnUM"
      },
      "execution_count": 34,
      "outputs": [
        {
          "output_type": "stream",
          "name": "stdout",
          "text": [
            "{'epoch': 1, 'Training Loss generator': 0.6616601176559925, 'Training Loss discriminator': 5.1019795255458105, 'Valid. Loss': 2.6320223808288574, 'Valid. Accur.': 0.8386666666666667, 'Training Time': '0:02:16', 'Test Time': '0:00:08'}\n",
            "{'epoch': 2, 'Training Loss generator': 0.7611425303398295, 'Training Loss discriminator': 2.4170759723541586, 'Valid. Loss': 1.0085294246673584, 'Valid. Accur.': 0.9002222222222223, 'Training Time': '0:02:16', 'Test Time': '0:00:08'}\n",
            "{'epoch': 3, 'Training Loss generator': 0.7476126812874002, 'Training Loss discriminator': 1.2746163621861883, 'Valid. Loss': 0.5520200729370117, 'Valid. Accur.': 0.9157777777777778, 'Training Time': '0:02:17', 'Test Time': '0:00:08'}\n",
            "{'epoch': 4, 'Training Loss generator': 0.7327007187173722, 'Training Loss discriminator': 0.9512123419883404, 'Valid. Loss': 0.46087828278541565, 'Valid. Accur.': 0.918, 'Training Time': '0:02:16', 'Test Time': '0:00:08'}\n",
            "{'epoch': 5, 'Training Loss generator': 0.7256330391193958, 'Training Loss discriminator': 0.8371157017159969, 'Valid. Loss': 0.39743858575820923, 'Valid. Accur.': 0.9264444444444444, 'Training Time': '0:02:16', 'Test Time': '0:00:08'}\n",
            "\n",
            "Training complete!\n",
            "Total training took 0:18:04 (h:mm:ss)\n"
          ]
        }
      ]
    },
    {
      "cell_type": "code",
      "source": [
        "training_stats_30[-1]"
      ],
      "metadata": {
        "colab": {
          "base_uri": "https://localhost:8080/"
        },
        "outputId": "96976a05-c158-4d12-8631-b58fbd4ea3fc",
        "id": "85ctEpKdGnUN"
      },
      "execution_count": 35,
      "outputs": [
        {
          "output_type": "execute_result",
          "data": {
            "text/plain": [
              "{'Test Time': '0:00:08',\n",
              " 'Training Loss discriminator': 0.8371157017159969,\n",
              " 'Training Loss generator': 0.7256330391193958,\n",
              " 'Training Time': '0:02:16',\n",
              " 'Valid. Accur.': 0.9264444444444444,\n",
              " 'Valid. Loss': 0.39743858575820923,\n",
              " 'epoch': 5}"
            ]
          },
          "metadata": {},
          "execution_count": 35
        }
      ]
    },
    {
      "cell_type": "markdown",
      "source": [
        "##40_60"
      ],
      "metadata": {
        "id": "PHN-rjWRG5BL"
      }
    },
    {
      "cell_type": "code",
      "source": [
        "labeled_file = \"./40_60/labeled.tsv\"\n",
        "unlabeled_file = \"./40_60/unlabeled.tsv\"\n",
        "test_filename = \"./40_60/test.tsv\""
      ],
      "metadata": {
        "id": "SI8CXuC_G5BL"
      },
      "execution_count": 36,
      "outputs": []
    },
    {
      "cell_type": "code",
      "source": [
        "labeled_examples, unlabeled_examples, test_examples = load_the_input_dataset()"
      ],
      "metadata": {
        "id": "3bJndoWQG5BM"
      },
      "execution_count": 37,
      "outputs": []
    },
    {
      "cell_type": "code",
      "source": [
        "len(labeled_examples)"
      ],
      "metadata": {
        "colab": {
          "base_uri": "https://localhost:8080/"
        },
        "outputId": "da02cd0d-da5b-4d96-ba8c-acb28736fc65",
        "id": "4yi4Y_q8G5BM"
      },
      "execution_count": 38,
      "outputs": [
        {
          "output_type": "execute_result",
          "data": {
            "text/plain": [
              "6000"
            ]
          },
          "metadata": {},
          "execution_count": 38
        }
      ]
    },
    {
      "cell_type": "code",
      "source": [
        "len(unlabeled_examples)"
      ],
      "metadata": {
        "colab": {
          "base_uri": "https://localhost:8080/"
        },
        "outputId": "a6cc76ef-a053-4a9f-bdf6-75532e1d016c",
        "id": "CdlIotJ1G5BN"
      },
      "execution_count": 39,
      "outputs": [
        {
          "output_type": "execute_result",
          "data": {
            "text/plain": [
              "9000"
            ]
          },
          "metadata": {},
          "execution_count": 39
        }
      ]
    },
    {
      "cell_type": "code",
      "source": [
        "len(test_examples)"
      ],
      "metadata": {
        "colab": {
          "base_uri": "https://localhost:8080/"
        },
        "outputId": "ca9cb781-2cfa-4ffd-f9c8-55e5684ed10f",
        "id": "56uRf6g_G5BN"
      },
      "execution_count": 40,
      "outputs": [
        {
          "output_type": "execute_result",
          "data": {
            "text/plain": [
              "4500"
            ]
          },
          "metadata": {},
          "execution_count": 40
        }
      ]
    },
    {
      "cell_type": "code",
      "source": [
        "test_dataloader, train_dataloader, train_examples = convert_input_examples_to_dataloader(label_list)"
      ],
      "metadata": {
        "id": "n3REQeClG5BN"
      },
      "execution_count": 41,
      "outputs": []
    },
    {
      "cell_type": "code",
      "source": [
        "generator, discriminator = instantiate_discriminator_and_generator(transformer)"
      ],
      "metadata": {
        "id": "PVcUnCeWG5BO"
      },
      "execution_count": 42,
      "outputs": []
    },
    {
      "cell_type": "code",
      "source": [
        "training_stats_40, total_t0 = training_procedure_start(test_dataloader, train_dataloader, train_examples, generator, discriminator)"
      ],
      "metadata": {
        "colab": {
          "base_uri": "https://localhost:8080/"
        },
        "outputId": "6011d016-627e-47c2-a624-901afbc0e406",
        "id": "v56OoHXTG5BO"
      },
      "execution_count": 43,
      "outputs": [
        {
          "output_type": "stream",
          "name": "stdout",
          "text": [
            "\n",
            "======== Epoch 1 / 5 ========\n",
            "Training...\n",
            "  Batch    10  of    235.    Elapsed: 0:00:06.\n",
            "  Batch    20  of    235.    Elapsed: 0:00:12.\n",
            "  Batch    30  of    235.    Elapsed: 0:00:17.\n",
            "  Batch    40  of    235.    Elapsed: 0:00:23.\n",
            "  Batch    50  of    235.    Elapsed: 0:00:29.\n",
            "  Batch    60  of    235.    Elapsed: 0:00:35.\n",
            "  Batch    70  of    235.    Elapsed: 0:00:41.\n",
            "  Batch    80  of    235.    Elapsed: 0:00:46.\n",
            "  Batch    90  of    235.    Elapsed: 0:00:52.\n",
            "  Batch   100  of    235.    Elapsed: 0:00:58.\n",
            "  Batch   110  of    235.    Elapsed: 0:01:04.\n",
            "  Batch   120  of    235.    Elapsed: 0:01:10.\n",
            "  Batch   130  of    235.    Elapsed: 0:01:15.\n",
            "  Batch   140  of    235.    Elapsed: 0:01:21.\n",
            "  Batch   150  of    235.    Elapsed: 0:01:27.\n",
            "  Batch   160  of    235.    Elapsed: 0:01:33.\n",
            "  Batch   170  of    235.    Elapsed: 0:01:39.\n",
            "  Batch   180  of    235.    Elapsed: 0:01:45.\n",
            "  Batch   190  of    235.    Elapsed: 0:01:51.\n",
            "  Batch   200  of    235.    Elapsed: 0:01:56.\n",
            "  Batch   210  of    235.    Elapsed: 0:02:02.\n",
            "  Batch   220  of    235.    Elapsed: 0:02:08.\n",
            "  Batch   230  of    235.    Elapsed: 0:02:14.\n",
            "\n",
            "  Average training loss generetor: 0.669\n",
            "  Average training loss discriminator: 4.670\n",
            "  Training epcoh took: 0:02:16\n",
            "\n",
            "Running Test...\n",
            "  Accuracy: 0.924\n",
            "  Test Loss: 1.936\n",
            "  Test took: 0:00:08\n",
            "\n",
            "======== Epoch 2 / 5 ========\n",
            "Training...\n",
            "  Batch    10  of    235.    Elapsed: 0:00:06.\n",
            "  Batch    20  of    235.    Elapsed: 0:00:12.\n",
            "  Batch    30  of    235.    Elapsed: 0:00:17.\n",
            "  Batch    40  of    235.    Elapsed: 0:00:23.\n",
            "  Batch    50  of    235.    Elapsed: 0:00:29.\n",
            "  Batch    60  of    235.    Elapsed: 0:00:35.\n",
            "  Batch    70  of    235.    Elapsed: 0:00:41.\n",
            "  Batch    80  of    235.    Elapsed: 0:00:46.\n",
            "  Batch    90  of    235.    Elapsed: 0:00:52.\n",
            "  Batch   100  of    235.    Elapsed: 0:00:58.\n",
            "  Batch   110  of    235.    Elapsed: 0:01:04.\n",
            "  Batch   120  of    235.    Elapsed: 0:01:10.\n",
            "  Batch   130  of    235.    Elapsed: 0:01:15.\n",
            "  Batch   140  of    235.    Elapsed: 0:01:21.\n",
            "  Batch   150  of    235.    Elapsed: 0:01:27.\n",
            "  Batch   160  of    235.    Elapsed: 0:01:33.\n",
            "  Batch   170  of    235.    Elapsed: 0:01:39.\n",
            "  Batch   180  of    235.    Elapsed: 0:01:44.\n",
            "  Batch   190  of    235.    Elapsed: 0:01:50.\n",
            "  Batch   200  of    235.    Elapsed: 0:01:56.\n",
            "  Batch   210  of    235.    Elapsed: 0:02:02.\n",
            "  Batch   220  of    235.    Elapsed: 0:02:08.\n",
            "  Batch   230  of    235.    Elapsed: 0:02:13.\n",
            "\n",
            "  Average training loss generetor: 0.762\n",
            "  Average training loss discriminator: 1.700\n",
            "  Training epcoh took: 0:02:16\n",
            "\n",
            "Running Test...\n",
            "  Accuracy: 0.915\n",
            "  Test Loss: 0.651\n",
            "  Test took: 0:00:08\n",
            "\n",
            "======== Epoch 3 / 5 ========\n",
            "Training...\n",
            "  Batch    10  of    235.    Elapsed: 0:00:06.\n",
            "  Batch    20  of    235.    Elapsed: 0:00:12.\n",
            "  Batch    30  of    235.    Elapsed: 0:00:17.\n",
            "  Batch    40  of    235.    Elapsed: 0:00:23.\n",
            "  Batch    50  of    235.    Elapsed: 0:00:29.\n",
            "  Batch    60  of    235.    Elapsed: 0:00:35.\n",
            "  Batch    70  of    235.    Elapsed: 0:00:41.\n",
            "  Batch    80  of    235.    Elapsed: 0:00:46.\n",
            "  Batch    90  of    235.    Elapsed: 0:00:52.\n",
            "  Batch   100  of    235.    Elapsed: 0:00:58.\n",
            "  Batch   110  of    235.    Elapsed: 0:01:04.\n",
            "  Batch   120  of    235.    Elapsed: 0:01:10.\n",
            "  Batch   130  of    235.    Elapsed: 0:01:15.\n",
            "  Batch   140  of    235.    Elapsed: 0:01:21.\n",
            "  Batch   150  of    235.    Elapsed: 0:01:27.\n",
            "  Batch   160  of    235.    Elapsed: 0:01:33.\n",
            "  Batch   170  of    235.    Elapsed: 0:01:39.\n",
            "  Batch   180  of    235.    Elapsed: 0:01:44.\n",
            "  Batch   190  of    235.    Elapsed: 0:01:50.\n",
            "  Batch   200  of    235.    Elapsed: 0:01:56.\n",
            "  Batch   210  of    235.    Elapsed: 0:02:02.\n",
            "  Batch   220  of    235.    Elapsed: 0:02:08.\n",
            "  Batch   230  of    235.    Elapsed: 0:02:13.\n",
            "\n",
            "  Average training loss generetor: 0.738\n",
            "  Average training loss discriminator: 0.959\n",
            "  Training epcoh took: 0:02:16\n",
            "\n",
            "Running Test...\n",
            "  Accuracy: 0.926\n",
            "  Test Loss: 0.452\n",
            "  Test took: 0:00:08\n",
            "\n",
            "======== Epoch 4 / 5 ========\n",
            "Training...\n",
            "  Batch    10  of    235.    Elapsed: 0:00:06.\n",
            "  Batch    20  of    235.    Elapsed: 0:00:12.\n",
            "  Batch    30  of    235.    Elapsed: 0:00:17.\n",
            "  Batch    40  of    235.    Elapsed: 0:00:23.\n",
            "  Batch    50  of    235.    Elapsed: 0:00:29.\n",
            "  Batch    60  of    235.    Elapsed: 0:00:35.\n",
            "  Batch    70  of    235.    Elapsed: 0:00:41.\n",
            "  Batch    80  of    235.    Elapsed: 0:00:46.\n",
            "  Batch    90  of    235.    Elapsed: 0:00:52.\n",
            "  Batch   100  of    235.    Elapsed: 0:00:58.\n",
            "  Batch   110  of    235.    Elapsed: 0:01:04.\n",
            "  Batch   120  of    235.    Elapsed: 0:01:10.\n",
            "  Batch   130  of    235.    Elapsed: 0:01:15.\n",
            "  Batch   140  of    235.    Elapsed: 0:01:21.\n",
            "  Batch   150  of    235.    Elapsed: 0:01:27.\n",
            "  Batch   160  of    235.    Elapsed: 0:01:33.\n",
            "  Batch   170  of    235.    Elapsed: 0:01:39.\n",
            "  Batch   180  of    235.    Elapsed: 0:01:44.\n",
            "  Batch   190  of    235.    Elapsed: 0:01:50.\n",
            "  Batch   200  of    235.    Elapsed: 0:01:56.\n",
            "  Batch   210  of    235.    Elapsed: 0:02:02.\n",
            "  Batch   220  of    235.    Elapsed: 0:02:08.\n",
            "  Batch   230  of    235.    Elapsed: 0:02:13.\n",
            "\n",
            "  Average training loss generetor: 0.725\n",
            "  Average training loss discriminator: 0.831\n",
            "  Training epcoh took: 0:02:16\n",
            "\n",
            "Running Test...\n",
            "  Accuracy: 0.927\n",
            "  Test Loss: 0.451\n",
            "  Test took: 0:00:08\n",
            "\n",
            "======== Epoch 5 / 5 ========\n",
            "Training...\n",
            "  Batch    10  of    235.    Elapsed: 0:00:06.\n",
            "  Batch    20  of    235.    Elapsed: 0:00:12.\n",
            "  Batch    30  of    235.    Elapsed: 0:00:17.\n",
            "  Batch    40  of    235.    Elapsed: 0:00:23.\n",
            "  Batch    50  of    235.    Elapsed: 0:00:29.\n",
            "  Batch    60  of    235.    Elapsed: 0:00:35.\n",
            "  Batch    70  of    235.    Elapsed: 0:00:41.\n",
            "  Batch    80  of    235.    Elapsed: 0:00:46.\n",
            "  Batch    90  of    235.    Elapsed: 0:00:52.\n",
            "  Batch   100  of    235.    Elapsed: 0:00:58.\n",
            "  Batch   110  of    235.    Elapsed: 0:01:04.\n",
            "  Batch   120  of    235.    Elapsed: 0:01:10.\n",
            "  Batch   130  of    235.    Elapsed: 0:01:15.\n",
            "  Batch   140  of    235.    Elapsed: 0:01:21.\n",
            "  Batch   150  of    235.    Elapsed: 0:01:27.\n",
            "  Batch   160  of    235.    Elapsed: 0:01:33.\n",
            "  Batch   170  of    235.    Elapsed: 0:01:39.\n",
            "  Batch   180  of    235.    Elapsed: 0:01:44.\n",
            "  Batch   190  of    235.    Elapsed: 0:01:50.\n",
            "  Batch   200  of    235.    Elapsed: 0:01:56.\n",
            "  Batch   210  of    235.    Elapsed: 0:02:02.\n",
            "  Batch   220  of    235.    Elapsed: 0:02:08.\n",
            "  Batch   230  of    235.    Elapsed: 0:02:13.\n",
            "\n",
            "  Average training loss generetor: 0.721\n",
            "  Average training loss discriminator: 0.795\n",
            "  Training epcoh took: 0:02:16\n",
            "\n",
            "Running Test...\n",
            "  Accuracy: 0.919\n",
            "  Test Loss: 0.473\n",
            "  Test took: 0:00:08\n"
          ]
        }
      ]
    },
    {
      "cell_type": "code",
      "source": [
        "training_procedure_completion_print(training_stats_40, total_t0)"
      ],
      "metadata": {
        "colab": {
          "base_uri": "https://localhost:8080/"
        },
        "outputId": "8fa90807-450d-4bb8-f289-dccec1a7794b",
        "id": "Xt-3fUi5G5BP"
      },
      "execution_count": 44,
      "outputs": [
        {
          "output_type": "stream",
          "name": "stdout",
          "text": [
            "{'epoch': 1, 'Training Loss generator': 0.6686477369926077, 'Training Loss discriminator': 4.67033406419957, 'Valid. Loss': 1.9355595111846924, 'Valid. Accur.': 0.9242222222222222, 'Training Time': '0:02:16', 'Test Time': '0:00:08'}\n",
            "{'epoch': 2, 'Training Loss generator': 0.7623781779979137, 'Training Loss discriminator': 1.6995354530659128, 'Valid. Loss': 0.6514646410942078, 'Valid. Accur.': 0.9146666666666666, 'Training Time': '0:02:16', 'Test Time': '0:00:08'}\n",
            "{'epoch': 3, 'Training Loss generator': 0.7376820500860823, 'Training Loss discriminator': 0.9585101142842719, 'Valid. Loss': 0.45238789916038513, 'Valid. Accur.': 0.9262222222222222, 'Training Time': '0:02:16', 'Test Time': '0:00:08'}\n",
            "{'epoch': 4, 'Training Loss generator': 0.7246929934684266, 'Training Loss discriminator': 0.8310655984472721, 'Valid. Loss': 0.45106199383735657, 'Valid. Accur.': 0.9268888888888889, 'Training Time': '0:02:16', 'Test Time': '0:00:08'}\n",
            "{'epoch': 5, 'Training Loss generator': 0.7212575722247996, 'Training Loss discriminator': 0.7947467568072867, 'Valid. Loss': 0.47298678755760193, 'Valid. Accur.': 0.9193333333333333, 'Training Time': '0:02:16', 'Test Time': '0:00:08'}\n",
            "\n",
            "Training complete!\n",
            "Total training took 0:12:42 (h:mm:ss)\n"
          ]
        }
      ]
    },
    {
      "cell_type": "code",
      "source": [
        "training_stats_40[-1]"
      ],
      "metadata": {
        "colab": {
          "base_uri": "https://localhost:8080/"
        },
        "outputId": "2cf1a62d-4778-4e0b-9138-d287bea1b2be",
        "id": "qf-LFYGhG5BP"
      },
      "execution_count": 45,
      "outputs": [
        {
          "output_type": "execute_result",
          "data": {
            "text/plain": [
              "{'Test Time': '0:00:08',\n",
              " 'Training Loss discriminator': 0.7947467568072867,\n",
              " 'Training Loss generator': 0.7212575722247996,\n",
              " 'Training Time': '0:02:16',\n",
              " 'Valid. Accur.': 0.9193333333333333,\n",
              " 'Valid. Loss': 0.47298678755760193,\n",
              " 'epoch': 5}"
            ]
          },
          "metadata": {},
          "execution_count": 45
        }
      ]
    },
    {
      "cell_type": "markdown",
      "source": [
        "##50_50"
      ],
      "metadata": {
        "id": "xwZfDyvyLzEr"
      }
    },
    {
      "cell_type": "code",
      "source": [
        "labeled_file = \"./50_50/labeled.tsv\"\n",
        "unlabeled_file = \"./50_50/unlabeled.tsv\"\n",
        "test_filename = \"./50_50/test.tsv\""
      ],
      "metadata": {
        "id": "lLlRUNuILzEs"
      },
      "execution_count": 46,
      "outputs": []
    },
    {
      "cell_type": "code",
      "source": [
        "labeled_examples, unlabeled_examples, test_examples = load_the_input_dataset()"
      ],
      "metadata": {
        "id": "F5XdpKTjLzEs"
      },
      "execution_count": 47,
      "outputs": []
    },
    {
      "cell_type": "code",
      "source": [
        "len(labeled_examples)"
      ],
      "metadata": {
        "colab": {
          "base_uri": "https://localhost:8080/"
        },
        "outputId": "7d1a9dc5-29f1-4776-8cf9-dc8e536d8890",
        "id": "U4ciKxTsLzEs"
      },
      "execution_count": 48,
      "outputs": [
        {
          "output_type": "execute_result",
          "data": {
            "text/plain": [
              "7500"
            ]
          },
          "metadata": {},
          "execution_count": 48
        }
      ]
    },
    {
      "cell_type": "code",
      "source": [
        "len(unlabeled_examples)"
      ],
      "metadata": {
        "colab": {
          "base_uri": "https://localhost:8080/"
        },
        "outputId": "472e9537-522b-4f1d-ce9c-51f47a4880b8",
        "id": "lRmORmv3LzEs"
      },
      "execution_count": 49,
      "outputs": [
        {
          "output_type": "execute_result",
          "data": {
            "text/plain": [
              "7500"
            ]
          },
          "metadata": {},
          "execution_count": 49
        }
      ]
    },
    {
      "cell_type": "code",
      "source": [
        "len(test_examples)"
      ],
      "metadata": {
        "colab": {
          "base_uri": "https://localhost:8080/"
        },
        "outputId": "626943a7-e33b-468d-dd47-5ad05feb2e6c",
        "id": "qJ3ho9oCLzEs"
      },
      "execution_count": 50,
      "outputs": [
        {
          "output_type": "execute_result",
          "data": {
            "text/plain": [
              "4500"
            ]
          },
          "metadata": {},
          "execution_count": 50
        }
      ]
    },
    {
      "cell_type": "code",
      "source": [
        "test_dataloader, train_dataloader, train_examples = convert_input_examples_to_dataloader(label_list)"
      ],
      "metadata": {
        "id": "3AQJw0J9LzEs"
      },
      "execution_count": 51,
      "outputs": []
    },
    {
      "cell_type": "code",
      "source": [
        "generator, discriminator = instantiate_discriminator_and_generator(transformer)"
      ],
      "metadata": {
        "id": "CimCG2csLzEt"
      },
      "execution_count": 52,
      "outputs": []
    },
    {
      "cell_type": "code",
      "source": [
        "training_stats_50, total_t0 = training_procedure_start(test_dataloader, train_dataloader, train_examples, generator, discriminator)"
      ],
      "metadata": {
        "colab": {
          "base_uri": "https://localhost:8080/"
        },
        "outputId": "2fd94835-d03b-409d-f3cd-7e8842eba111",
        "id": "1dP_jKgwLzEt"
      },
      "execution_count": 53,
      "outputs": [
        {
          "output_type": "stream",
          "name": "stdout",
          "text": [
            "\n",
            "======== Epoch 1 / 5 ========\n",
            "Training...\n",
            "  Batch    10  of    235.    Elapsed: 0:00:06.\n",
            "  Batch    20  of    235.    Elapsed: 0:00:12.\n",
            "  Batch    30  of    235.    Elapsed: 0:00:17.\n",
            "  Batch    40  of    235.    Elapsed: 0:00:23.\n",
            "  Batch    50  of    235.    Elapsed: 0:00:29.\n",
            "  Batch    60  of    235.    Elapsed: 0:00:35.\n",
            "  Batch    70  of    235.    Elapsed: 0:00:41.\n",
            "  Batch    80  of    235.    Elapsed: 0:00:46.\n",
            "  Batch    90  of    235.    Elapsed: 0:00:52.\n",
            "  Batch   100  of    235.    Elapsed: 0:00:58.\n",
            "  Batch   110  of    235.    Elapsed: 0:01:04.\n",
            "  Batch   120  of    235.    Elapsed: 0:01:10.\n",
            "  Batch   130  of    235.    Elapsed: 0:01:15.\n",
            "  Batch   140  of    235.    Elapsed: 0:01:21.\n",
            "  Batch   150  of    235.    Elapsed: 0:01:27.\n",
            "  Batch   160  of    235.    Elapsed: 0:01:33.\n",
            "  Batch   170  of    235.    Elapsed: 0:01:39.\n",
            "  Batch   180  of    235.    Elapsed: 0:01:44.\n",
            "  Batch   190  of    235.    Elapsed: 0:01:50.\n",
            "  Batch   200  of    235.    Elapsed: 0:01:56.\n",
            "  Batch   210  of    235.    Elapsed: 0:02:02.\n",
            "  Batch   220  of    235.    Elapsed: 0:02:08.\n",
            "  Batch   230  of    235.    Elapsed: 0:02:13.\n",
            "\n",
            "  Average training loss generetor: 0.668\n",
            "  Average training loss discriminator: 4.475\n",
            "  Training epcoh took: 0:02:16\n",
            "\n",
            "Running Test...\n",
            "  Accuracy: 0.927\n",
            "  Test Loss: 1.598\n",
            "  Test took: 0:00:08\n",
            "\n",
            "======== Epoch 2 / 5 ========\n",
            "Training...\n",
            "  Batch    10  of    235.    Elapsed: 0:00:06.\n",
            "  Batch    20  of    235.    Elapsed: 0:00:12.\n",
            "  Batch    30  of    235.    Elapsed: 0:00:17.\n",
            "  Batch    40  of    235.    Elapsed: 0:00:23.\n",
            "  Batch    50  of    235.    Elapsed: 0:00:29.\n",
            "  Batch    60  of    235.    Elapsed: 0:00:35.\n",
            "  Batch    70  of    235.    Elapsed: 0:00:41.\n",
            "  Batch    80  of    235.    Elapsed: 0:00:46.\n",
            "  Batch    90  of    235.    Elapsed: 0:00:52.\n",
            "  Batch   100  of    235.    Elapsed: 0:00:58.\n",
            "  Batch   110  of    235.    Elapsed: 0:01:04.\n",
            "  Batch   120  of    235.    Elapsed: 0:01:10.\n",
            "  Batch   130  of    235.    Elapsed: 0:01:15.\n",
            "  Batch   140  of    235.    Elapsed: 0:01:21.\n",
            "  Batch   150  of    235.    Elapsed: 0:01:27.\n",
            "  Batch   160  of    235.    Elapsed: 0:01:33.\n",
            "  Batch   170  of    235.    Elapsed: 0:01:39.\n",
            "  Batch   180  of    235.    Elapsed: 0:01:44.\n",
            "  Batch   190  of    235.    Elapsed: 0:01:50.\n",
            "  Batch   200  of    235.    Elapsed: 0:01:56.\n",
            "  Batch   210  of    235.    Elapsed: 0:02:02.\n",
            "  Batch   220  of    235.    Elapsed: 0:02:08.\n",
            "  Batch   230  of    235.    Elapsed: 0:02:13.\n",
            "\n",
            "  Average training loss generetor: 0.766\n",
            "  Average training loss discriminator: 1.421\n",
            "  Training epcoh took: 0:02:16\n",
            "\n",
            "Running Test...\n",
            "  Accuracy: 0.929\n",
            "  Test Loss: 0.529\n",
            "  Test took: 0:00:08\n",
            "\n",
            "======== Epoch 3 / 5 ========\n",
            "Training...\n",
            "  Batch    10  of    235.    Elapsed: 0:00:06.\n",
            "  Batch    20  of    235.    Elapsed: 0:00:12.\n",
            "  Batch    30  of    235.    Elapsed: 0:00:17.\n",
            "  Batch    40  of    235.    Elapsed: 0:00:23.\n",
            "  Batch    50  of    235.    Elapsed: 0:00:29.\n",
            "  Batch    60  of    235.    Elapsed: 0:00:35.\n",
            "  Batch    70  of    235.    Elapsed: 0:00:41.\n",
            "  Batch    80  of    235.    Elapsed: 0:00:46.\n",
            "  Batch    90  of    235.    Elapsed: 0:00:52.\n",
            "  Batch   100  of    235.    Elapsed: 0:00:58.\n",
            "  Batch   110  of    235.    Elapsed: 0:01:04.\n",
            "  Batch   120  of    235.    Elapsed: 0:01:10.\n",
            "  Batch   130  of    235.    Elapsed: 0:01:15.\n",
            "  Batch   140  of    235.    Elapsed: 0:01:21.\n",
            "  Batch   150  of    235.    Elapsed: 0:01:27.\n",
            "  Batch   160  of    235.    Elapsed: 0:01:33.\n",
            "  Batch   170  of    235.    Elapsed: 0:01:39.\n",
            "  Batch   180  of    235.    Elapsed: 0:01:44.\n",
            "  Batch   190  of    235.    Elapsed: 0:01:50.\n",
            "  Batch   200  of    235.    Elapsed: 0:01:56.\n",
            "  Batch   210  of    235.    Elapsed: 0:02:02.\n",
            "  Batch   220  of    235.    Elapsed: 0:02:08.\n",
            "  Batch   230  of    235.    Elapsed: 0:02:13.\n",
            "\n",
            "  Average training loss generetor: 0.733\n",
            "  Average training loss discriminator: 0.911\n",
            "  Training epcoh took: 0:02:16\n",
            "\n",
            "Running Test...\n",
            "  Accuracy: 0.927\n",
            "  Test Loss: 0.454\n",
            "  Test took: 0:00:08\n",
            "\n",
            "======== Epoch 4 / 5 ========\n",
            "Training...\n",
            "  Batch    10  of    235.    Elapsed: 0:00:06.\n",
            "  Batch    20  of    235.    Elapsed: 0:00:12.\n",
            "  Batch    30  of    235.    Elapsed: 0:00:17.\n",
            "  Batch    40  of    235.    Elapsed: 0:00:23.\n",
            "  Batch    50  of    235.    Elapsed: 0:00:29.\n",
            "  Batch    60  of    235.    Elapsed: 0:00:35.\n",
            "  Batch    70  of    235.    Elapsed: 0:00:41.\n",
            "  Batch    80  of    235.    Elapsed: 0:00:46.\n",
            "  Batch    90  of    235.    Elapsed: 0:00:52.\n",
            "  Batch   100  of    235.    Elapsed: 0:00:58.\n",
            "  Batch   110  of    235.    Elapsed: 0:01:04.\n",
            "  Batch   120  of    235.    Elapsed: 0:01:10.\n",
            "  Batch   130  of    235.    Elapsed: 0:01:15.\n",
            "  Batch   140  of    235.    Elapsed: 0:01:21.\n",
            "  Batch   150  of    235.    Elapsed: 0:01:27.\n",
            "  Batch   160  of    235.    Elapsed: 0:01:33.\n",
            "  Batch   170  of    235.    Elapsed: 0:01:39.\n",
            "  Batch   180  of    235.    Elapsed: 0:01:44.\n",
            "  Batch   190  of    235.    Elapsed: 0:01:50.\n",
            "  Batch   200  of    235.    Elapsed: 0:01:56.\n",
            "  Batch   210  of    235.    Elapsed: 0:02:02.\n",
            "  Batch   220  of    235.    Elapsed: 0:02:08.\n",
            "  Batch   230  of    235.    Elapsed: 0:02:13.\n",
            "\n",
            "  Average training loss generetor: 0.722\n",
            "  Average training loss discriminator: 0.827\n",
            "  Training epcoh took: 0:02:16\n",
            "\n",
            "Running Test...\n",
            "  Accuracy: 0.920\n",
            "  Test Loss: 0.489\n",
            "  Test took: 0:00:08\n",
            "\n",
            "======== Epoch 5 / 5 ========\n",
            "Training...\n",
            "  Batch    10  of    235.    Elapsed: 0:00:06.\n",
            "  Batch    20  of    235.    Elapsed: 0:00:12.\n",
            "  Batch    30  of    235.    Elapsed: 0:00:17.\n",
            "  Batch    40  of    235.    Elapsed: 0:00:23.\n",
            "  Batch    50  of    235.    Elapsed: 0:00:29.\n",
            "  Batch    60  of    235.    Elapsed: 0:00:35.\n",
            "  Batch    70  of    235.    Elapsed: 0:00:41.\n",
            "  Batch    80  of    235.    Elapsed: 0:00:46.\n",
            "  Batch    90  of    235.    Elapsed: 0:00:52.\n",
            "  Batch   100  of    235.    Elapsed: 0:00:58.\n",
            "  Batch   110  of    235.    Elapsed: 0:01:04.\n",
            "  Batch   120  of    235.    Elapsed: 0:01:10.\n",
            "  Batch   130  of    235.    Elapsed: 0:01:15.\n",
            "  Batch   140  of    235.    Elapsed: 0:01:21.\n",
            "  Batch   150  of    235.    Elapsed: 0:01:27.\n",
            "  Batch   160  of    235.    Elapsed: 0:01:33.\n",
            "  Batch   170  of    235.    Elapsed: 0:01:39.\n",
            "  Batch   180  of    235.    Elapsed: 0:01:44.\n",
            "  Batch   190  of    235.    Elapsed: 0:01:50.\n",
            "  Batch   200  of    235.    Elapsed: 0:01:56.\n",
            "  Batch   210  of    235.    Elapsed: 0:02:02.\n",
            "  Batch   220  of    235.    Elapsed: 0:02:08.\n",
            "  Batch   230  of    235.    Elapsed: 0:02:13.\n",
            "\n",
            "  Average training loss generetor: 0.720\n",
            "  Average training loss discriminator: 0.795\n",
            "  Training epcoh took: 0:02:16\n",
            "\n",
            "Running Test...\n",
            "  Accuracy: 0.922\n",
            "  Test Loss: 0.478\n",
            "  Test took: 0:00:08\n"
          ]
        }
      ]
    },
    {
      "cell_type": "code",
      "source": [
        "training_procedure_completion_print(training_stats_50, total_t0)"
      ],
      "metadata": {
        "colab": {
          "base_uri": "https://localhost:8080/"
        },
        "outputId": "19268110-59b8-457c-b63c-4a3af92311df",
        "id": "Afm-dTntLzEt"
      },
      "execution_count": 54,
      "outputs": [
        {
          "output_type": "stream",
          "name": "stdout",
          "text": [
            "{'epoch': 1, 'Training Loss generator': 0.6682880322666879, 'Training Loss discriminator': 4.474598552825603, 'Valid. Loss': 1.597577691078186, 'Valid. Accur.': 0.9268888888888889, 'Training Time': '0:02:16', 'Test Time': '0:00:08'}\n",
            "{'epoch': 2, 'Training Loss generator': 0.7655387711017689, 'Training Loss discriminator': 1.4206979302649803, 'Valid. Loss': 0.528710663318634, 'Valid. Accur.': 0.9288888888888889, 'Training Time': '0:02:16', 'Test Time': '0:00:08'}\n",
            "{'epoch': 3, 'Training Loss generator': 0.7334176469356456, 'Training Loss discriminator': 0.9107733356191757, 'Valid. Loss': 0.4541521668434143, 'Valid. Accur.': 0.9273333333333333, 'Training Time': '0:02:16', 'Test Time': '0:00:08'}\n",
            "{'epoch': 4, 'Training Loss generator': 0.7221892752545945, 'Training Loss discriminator': 0.8269851154469429, 'Valid. Loss': 0.4893912076950073, 'Valid. Accur.': 0.9195555555555556, 'Training Time': '0:02:16', 'Test Time': '0:00:08'}\n",
            "{'epoch': 5, 'Training Loss generator': 0.7196908851887317, 'Training Loss discriminator': 0.7953368189487051, 'Valid. Loss': 0.4778393805027008, 'Valid. Accur.': 0.922, 'Training Time': '0:02:16', 'Test Time': '0:00:08'}\n",
            "\n",
            "Training complete!\n",
            "Total training took 0:12:35 (h:mm:ss)\n"
          ]
        }
      ]
    },
    {
      "cell_type": "code",
      "source": [
        "training_stats_50[-1]"
      ],
      "metadata": {
        "colab": {
          "base_uri": "https://localhost:8080/"
        },
        "outputId": "082f55a2-dd06-4791-eca7-ce3a872d6f51",
        "id": "nA_PJEYILzEt"
      },
      "execution_count": 55,
      "outputs": [
        {
          "output_type": "execute_result",
          "data": {
            "text/plain": [
              "{'Test Time': '0:00:08',\n",
              " 'Training Loss discriminator': 0.7953368189487051,\n",
              " 'Training Loss generator': 0.7196908851887317,\n",
              " 'Training Time': '0:02:16',\n",
              " 'Valid. Accur.': 0.922,\n",
              " 'Valid. Loss': 0.4778393805027008,\n",
              " 'epoch': 5}"
            ]
          },
          "metadata": {},
          "execution_count": 55
        }
      ]
    },
    {
      "cell_type": "markdown",
      "source": [
        "##1_99"
      ],
      "metadata": {
        "id": "jA5J8q6hMrFO"
      }
    },
    {
      "cell_type": "code",
      "source": [
        "labeled_file = \"./1_99/labeled.tsv\"\n",
        "unlabeled_file = \"./1_99/unlabeled.tsv\"\n",
        "test_filename = \"./1_99/test.tsv\""
      ],
      "metadata": {
        "id": "iokUBVrJMrFO"
      },
      "execution_count": 56,
      "outputs": []
    },
    {
      "cell_type": "code",
      "source": [
        "labeled_examples, unlabeled_examples, test_examples = load_the_input_dataset()"
      ],
      "metadata": {
        "id": "eOF82Tx2MrFP"
      },
      "execution_count": 57,
      "outputs": []
    },
    {
      "cell_type": "code",
      "source": [
        "len(labeled_examples)"
      ],
      "metadata": {
        "colab": {
          "base_uri": "https://localhost:8080/"
        },
        "outputId": "4d2e9a1c-b8c6-46a6-e18c-a98540d2a3b9",
        "id": "Ww14cnQmMrFP"
      },
      "execution_count": 58,
      "outputs": [
        {
          "output_type": "execute_result",
          "data": {
            "text/plain": [
              "150"
            ]
          },
          "metadata": {},
          "execution_count": 58
        }
      ]
    },
    {
      "cell_type": "code",
      "source": [
        "len(unlabeled_examples)"
      ],
      "metadata": {
        "colab": {
          "base_uri": "https://localhost:8080/"
        },
        "outputId": "9d738a62-fa91-4503-e22a-8cc1ec764b4a",
        "id": "R26TdAIoMrFP"
      },
      "execution_count": 59,
      "outputs": [
        {
          "output_type": "execute_result",
          "data": {
            "text/plain": [
              "14850"
            ]
          },
          "metadata": {},
          "execution_count": 59
        }
      ]
    },
    {
      "cell_type": "code",
      "source": [
        "len(test_examples)"
      ],
      "metadata": {
        "colab": {
          "base_uri": "https://localhost:8080/"
        },
        "outputId": "c3aa96ab-1cc0-4556-8fd8-8671b06adabd",
        "id": "MLQ2dJNyMrFP"
      },
      "execution_count": 60,
      "outputs": [
        {
          "output_type": "execute_result",
          "data": {
            "text/plain": [
              "4500"
            ]
          },
          "metadata": {},
          "execution_count": 60
        }
      ]
    },
    {
      "cell_type": "code",
      "source": [
        "test_dataloader, train_dataloader, train_examples = convert_input_examples_to_dataloader(label_list)"
      ],
      "metadata": {
        "id": "gQ6ZHq_jMrFP"
      },
      "execution_count": 61,
      "outputs": []
    },
    {
      "cell_type": "code",
      "source": [
        "generator, discriminator = instantiate_discriminator_and_generator(transformer)"
      ],
      "metadata": {
        "id": "UHZphA0nMrFP"
      },
      "execution_count": 62,
      "outputs": []
    },
    {
      "cell_type": "code",
      "source": [
        "training_stats_1, total_t0 = training_procedure_start(test_dataloader, train_dataloader, train_examples, generator, discriminator)"
      ],
      "metadata": {
        "colab": {
          "base_uri": "https://localhost:8080/"
        },
        "outputId": "73dee47c-9ba5-4d66-e33b-7fb54c8b5006",
        "id": "Jgrs7ezFMrFP"
      },
      "execution_count": 63,
      "outputs": [
        {
          "output_type": "stream",
          "name": "stdout",
          "text": [
            "\n",
            "======== Epoch 1 / 5 ========\n",
            "Training...\n",
            "  Batch    10  of    247.    Elapsed: 0:00:06.\n",
            "  Batch    20  of    247.    Elapsed: 0:00:12.\n",
            "  Batch    30  of    247.    Elapsed: 0:00:17.\n",
            "  Batch    40  of    247.    Elapsed: 0:00:23.\n",
            "  Batch    50  of    247.    Elapsed: 0:00:29.\n",
            "  Batch    60  of    247.    Elapsed: 0:00:35.\n",
            "  Batch    70  of    247.    Elapsed: 0:00:41.\n",
            "  Batch    80  of    247.    Elapsed: 0:00:46.\n",
            "  Batch    90  of    247.    Elapsed: 0:00:52.\n",
            "  Batch   100  of    247.    Elapsed: 0:00:58.\n",
            "  Batch   110  of    247.    Elapsed: 0:01:04.\n",
            "  Batch   120  of    247.    Elapsed: 0:01:10.\n",
            "  Batch   130  of    247.    Elapsed: 0:01:15.\n",
            "  Batch   140  of    247.    Elapsed: 0:01:21.\n",
            "  Batch   150  of    247.    Elapsed: 0:01:27.\n",
            "  Batch   160  of    247.    Elapsed: 0:01:33.\n",
            "  Batch   170  of    247.    Elapsed: 0:01:39.\n",
            "  Batch   180  of    247.    Elapsed: 0:01:44.\n",
            "  Batch   190  of    247.    Elapsed: 0:01:50.\n",
            "  Batch   200  of    247.    Elapsed: 0:01:56.\n",
            "  Batch   210  of    247.    Elapsed: 0:02:02.\n",
            "  Batch   220  of    247.    Elapsed: 0:02:08.\n",
            "  Batch   230  of    247.    Elapsed: 0:02:13.\n",
            "  Batch   240  of    247.    Elapsed: 0:02:19.\n",
            "\n",
            "  Average training loss generetor: 0.651\n",
            "  Average training loss discriminator: 5.627\n",
            "  Training epcoh took: 0:02:23\n",
            "\n",
            "Running Test...\n",
            "  Accuracy: 0.809\n",
            "  Test Loss: 3.792\n",
            "  Test took: 0:00:08\n",
            "\n",
            "======== Epoch 2 / 5 ========\n",
            "Training...\n",
            "  Batch    10  of    247.    Elapsed: 0:00:06.\n",
            "  Batch    20  of    247.    Elapsed: 0:00:12.\n",
            "  Batch    30  of    247.    Elapsed: 0:00:17.\n",
            "  Batch    40  of    247.    Elapsed: 0:00:23.\n",
            "  Batch    50  of    247.    Elapsed: 0:00:29.\n",
            "  Batch    60  of    247.    Elapsed: 0:00:35.\n",
            "  Batch    70  of    247.    Elapsed: 0:00:41.\n",
            "  Batch    80  of    247.    Elapsed: 0:00:46.\n",
            "  Batch    90  of    247.    Elapsed: 0:00:52.\n",
            "  Batch   100  of    247.    Elapsed: 0:00:58.\n",
            "  Batch   110  of    247.    Elapsed: 0:01:04.\n",
            "  Batch   120  of    247.    Elapsed: 0:01:10.\n",
            "  Batch   130  of    247.    Elapsed: 0:01:15.\n",
            "  Batch   140  of    247.    Elapsed: 0:01:21.\n",
            "  Batch   150  of    247.    Elapsed: 0:01:27.\n",
            "  Batch   160  of    247.    Elapsed: 0:01:33.\n",
            "  Batch   170  of    247.    Elapsed: 0:01:39.\n",
            "  Batch   180  of    247.    Elapsed: 0:01:44.\n",
            "  Batch   190  of    247.    Elapsed: 0:01:50.\n",
            "  Batch   200  of    247.    Elapsed: 0:01:56.\n",
            "  Batch   210  of    247.    Elapsed: 0:02:02.\n",
            "  Batch   220  of    247.    Elapsed: 0:02:08.\n",
            "  Batch   230  of    247.    Elapsed: 0:02:13.\n",
            "  Batch   240  of    247.    Elapsed: 0:02:19.\n",
            "\n",
            "  Average training loss generetor: 0.738\n",
            "  Average training loss discriminator: 3.836\n",
            "  Training epcoh took: 0:02:23\n",
            "\n",
            "Running Test...\n",
            "  Accuracy: 0.880\n",
            "  Test Loss: 2.637\n",
            "  Test took: 0:00:08\n",
            "\n",
            "======== Epoch 3 / 5 ========\n",
            "Training...\n",
            "  Batch    10  of    247.    Elapsed: 0:00:06.\n",
            "  Batch    20  of    247.    Elapsed: 0:00:12.\n",
            "  Batch    30  of    247.    Elapsed: 0:00:17.\n",
            "  Batch    40  of    247.    Elapsed: 0:00:23.\n",
            "  Batch    50  of    247.    Elapsed: 0:00:29.\n",
            "  Batch    60  of    247.    Elapsed: 0:00:35.\n",
            "  Batch    70  of    247.    Elapsed: 0:00:41.\n",
            "  Batch    80  of    247.    Elapsed: 0:00:46.\n",
            "  Batch    90  of    247.    Elapsed: 0:00:52.\n",
            "  Batch   100  of    247.    Elapsed: 0:00:58.\n",
            "  Batch   110  of    247.    Elapsed: 0:01:04.\n",
            "  Batch   120  of    247.    Elapsed: 0:01:10.\n",
            "  Batch   130  of    247.    Elapsed: 0:01:15.\n",
            "  Batch   140  of    247.    Elapsed: 0:01:21.\n",
            "  Batch   150  of    247.    Elapsed: 0:01:27.\n",
            "  Batch   160  of    247.    Elapsed: 0:01:33.\n",
            "  Batch   170  of    247.    Elapsed: 0:01:39.\n",
            "  Batch   180  of    247.    Elapsed: 0:01:44.\n",
            "  Batch   190  of    247.    Elapsed: 0:01:50.\n",
            "  Batch   200  of    247.    Elapsed: 0:01:56.\n",
            "  Batch   210  of    247.    Elapsed: 0:02:02.\n",
            "  Batch   220  of    247.    Elapsed: 0:02:08.\n",
            "  Batch   230  of    247.    Elapsed: 0:02:13.\n",
            "  Batch   240  of    247.    Elapsed: 0:02:19.\n",
            "\n",
            "  Average training loss generetor: 0.738\n",
            "  Average training loss discriminator: 2.702\n",
            "  Training epcoh took: 0:02:23\n",
            "\n",
            "Running Test...\n",
            "  Accuracy: 0.882\n",
            "  Test Loss: 1.610\n",
            "  Test took: 0:00:08\n",
            "\n",
            "======== Epoch 4 / 5 ========\n",
            "Training...\n",
            "  Batch    10  of    247.    Elapsed: 0:00:06.\n",
            "  Batch    20  of    247.    Elapsed: 0:00:12.\n",
            "  Batch    30  of    247.    Elapsed: 0:00:17.\n",
            "  Batch    40  of    247.    Elapsed: 0:00:23.\n",
            "  Batch    50  of    247.    Elapsed: 0:00:29.\n",
            "  Batch    60  of    247.    Elapsed: 0:00:35.\n",
            "  Batch    70  of    247.    Elapsed: 0:00:41.\n",
            "  Batch    80  of    247.    Elapsed: 0:00:46.\n",
            "  Batch    90  of    247.    Elapsed: 0:00:52.\n",
            "  Batch   100  of    247.    Elapsed: 0:00:58.\n",
            "  Batch   110  of    247.    Elapsed: 0:01:04.\n",
            "  Batch   120  of    247.    Elapsed: 0:01:10.\n",
            "  Batch   130  of    247.    Elapsed: 0:01:15.\n",
            "  Batch   140  of    247.    Elapsed: 0:01:21.\n",
            "  Batch   150  of    247.    Elapsed: 0:01:27.\n",
            "  Batch   160  of    247.    Elapsed: 0:01:33.\n",
            "  Batch   170  of    247.    Elapsed: 0:01:39.\n",
            "  Batch   180  of    247.    Elapsed: 0:01:44.\n",
            "  Batch   190  of    247.    Elapsed: 0:01:50.\n",
            "  Batch   200  of    247.    Elapsed: 0:01:56.\n",
            "  Batch   210  of    247.    Elapsed: 0:02:02.\n",
            "  Batch   220  of    247.    Elapsed: 0:02:08.\n",
            "  Batch   230  of    247.    Elapsed: 0:02:13.\n",
            "  Batch   240  of    247.    Elapsed: 0:02:19.\n",
            "\n",
            "  Average training loss generetor: 0.736\n",
            "  Average training loss discriminator: 1.723\n",
            "  Training epcoh took: 0:02:23\n",
            "\n",
            "Running Test...\n",
            "  Accuracy: 0.898\n",
            "  Test Loss: 0.961\n",
            "  Test took: 0:00:08\n",
            "\n",
            "======== Epoch 5 / 5 ========\n",
            "Training...\n",
            "  Batch    10  of    247.    Elapsed: 0:00:06.\n",
            "  Batch    20  of    247.    Elapsed: 0:00:12.\n",
            "  Batch    30  of    247.    Elapsed: 0:00:17.\n",
            "  Batch    40  of    247.    Elapsed: 0:00:23.\n",
            "  Batch    50  of    247.    Elapsed: 0:00:29.\n",
            "  Batch    60  of    247.    Elapsed: 0:00:35.\n",
            "  Batch    70  of    247.    Elapsed: 0:00:41.\n",
            "  Batch    80  of    247.    Elapsed: 0:00:46.\n",
            "  Batch    90  of    247.    Elapsed: 0:00:52.\n",
            "  Batch   100  of    247.    Elapsed: 0:00:58.\n",
            "  Batch   110  of    247.    Elapsed: 0:01:04.\n",
            "  Batch   120  of    247.    Elapsed: 0:01:10.\n",
            "  Batch   130  of    247.    Elapsed: 0:01:15.\n",
            "  Batch   140  of    247.    Elapsed: 0:01:21.\n",
            "  Batch   150  of    247.    Elapsed: 0:01:27.\n",
            "  Batch   160  of    247.    Elapsed: 0:01:33.\n",
            "  Batch   170  of    247.    Elapsed: 0:01:39.\n",
            "  Batch   180  of    247.    Elapsed: 0:01:44.\n",
            "  Batch   190  of    247.    Elapsed: 0:01:50.\n",
            "  Batch   200  of    247.    Elapsed: 0:01:56.\n",
            "  Batch   210  of    247.    Elapsed: 0:02:02.\n",
            "  Batch   220  of    247.    Elapsed: 0:02:08.\n",
            "  Batch   230  of    247.    Elapsed: 0:02:13.\n",
            "  Batch   240  of    247.    Elapsed: 0:02:19.\n",
            "\n",
            "  Average training loss generetor: 0.732\n",
            "  Average training loss discriminator: 1.189\n",
            "  Training epcoh took: 0:02:23\n",
            "\n",
            "Running Test...\n",
            "  Accuracy: 0.906\n",
            "  Test Loss: 0.705\n",
            "  Test took: 0:00:08\n"
          ]
        }
      ]
    },
    {
      "cell_type": "code",
      "source": [
        "training_procedure_completion_print(training_stats_1, total_t0)"
      ],
      "metadata": {
        "colab": {
          "base_uri": "https://localhost:8080/"
        },
        "outputId": "833a8bc2-384a-4ee2-a954-c71fc72683b6",
        "id": "fp72ot0aMrFQ"
      },
      "execution_count": 64,
      "outputs": [
        {
          "output_type": "stream",
          "name": "stdout",
          "text": [
            "{'epoch': 1, 'Training Loss generator': 0.6513207722229031, 'Training Loss discriminator': 5.626914861472512, 'Valid. Loss': 3.7922890186309814, 'Valid. Accur.': 0.8086666666666666, 'Training Time': '0:02:23', 'Test Time': '0:00:08'}\n",
            "{'epoch': 2, 'Training Loss generator': 0.7383675041951632, 'Training Loss discriminator': 3.835853421253714, 'Valid. Loss': 2.636536121368408, 'Valid. Accur.': 0.8795555555555555, 'Training Time': '0:02:23', 'Test Time': '0:00:08'}\n",
            "{'epoch': 3, 'Training Loss generator': 0.7381924813092962, 'Training Loss discriminator': 2.70210498523133, 'Valid. Loss': 1.610031008720398, 'Valid. Accur.': 0.8817777777777778, 'Training Time': '0:02:23', 'Test Time': '0:00:08'}\n",
            "{'epoch': 4, 'Training Loss generator': 0.7361281000168217, 'Training Loss discriminator': 1.7226614838669658, 'Valid. Loss': 0.9605027437210083, 'Valid. Accur.': 0.898, 'Training Time': '0:02:23', 'Test Time': '0:00:08'}\n",
            "{'epoch': 5, 'Training Loss generator': 0.7315043085499814, 'Training Loss discriminator': 1.188756705537016, 'Valid. Loss': 0.7046515941619873, 'Valid. Accur.': 0.9055555555555556, 'Training Time': '0:02:23', 'Test Time': '0:00:08'}\n",
            "\n",
            "Training complete!\n",
            "Total training took 0:13:10 (h:mm:ss)\n"
          ]
        }
      ]
    },
    {
      "cell_type": "code",
      "source": [
        "training_stats_1[-1]"
      ],
      "metadata": {
        "colab": {
          "base_uri": "https://localhost:8080/"
        },
        "outputId": "0fac4544-148e-492f-83bb-ca5f70457411",
        "id": "uSuz6Er4MrFQ"
      },
      "execution_count": 65,
      "outputs": [
        {
          "output_type": "execute_result",
          "data": {
            "text/plain": [
              "{'Test Time': '0:00:08',\n",
              " 'Training Loss discriminator': 1.188756705537016,\n",
              " 'Training Loss generator': 0.7315043085499814,\n",
              " 'Training Time': '0:02:23',\n",
              " 'Valid. Accur.': 0.9055555555555556,\n",
              " 'Valid. Loss': 0.7046515941619873,\n",
              " 'epoch': 5}"
            ]
          },
          "metadata": {},
          "execution_count": 65
        }
      ]
    },
    {
      "cell_type": "markdown",
      "source": [
        "##2_98"
      ],
      "metadata": {
        "id": "LAhKqqvUM8mf"
      }
    },
    {
      "cell_type": "code",
      "source": [
        "labeled_file = \"./2_98/labeled.tsv\"\n",
        "unlabeled_file = \"./2_98/unlabeled.tsv\"\n",
        "test_filename = \"./2_98/test.tsv\""
      ],
      "metadata": {
        "id": "H9oUBL25M8mg"
      },
      "execution_count": 66,
      "outputs": []
    },
    {
      "cell_type": "code",
      "source": [
        "labeled_examples, unlabeled_examples, test_examples = load_the_input_dataset()"
      ],
      "metadata": {
        "id": "PGsjlj79M8mg"
      },
      "execution_count": 67,
      "outputs": []
    },
    {
      "cell_type": "code",
      "source": [
        "len(labeled_examples)"
      ],
      "metadata": {
        "colab": {
          "base_uri": "https://localhost:8080/"
        },
        "outputId": "df3017a6-10d5-43c1-d136-dbdfe2e848ff",
        "id": "io8zU3oNM8mh"
      },
      "execution_count": 68,
      "outputs": [
        {
          "output_type": "execute_result",
          "data": {
            "text/plain": [
              "300"
            ]
          },
          "metadata": {},
          "execution_count": 68
        }
      ]
    },
    {
      "cell_type": "code",
      "source": [
        "len(unlabeled_examples)"
      ],
      "metadata": {
        "colab": {
          "base_uri": "https://localhost:8080/"
        },
        "outputId": "8a62a5ac-207d-4b4e-d9be-72435cbd2e2e",
        "id": "uarOxPTmM8mh"
      },
      "execution_count": 69,
      "outputs": [
        {
          "output_type": "execute_result",
          "data": {
            "text/plain": [
              "14700"
            ]
          },
          "metadata": {},
          "execution_count": 69
        }
      ]
    },
    {
      "cell_type": "code",
      "source": [
        "len(test_examples)"
      ],
      "metadata": {
        "colab": {
          "base_uri": "https://localhost:8080/"
        },
        "outputId": "d0948beb-3130-468e-df04-abfd85f3dbdf",
        "id": "Wqfs18knM8mh"
      },
      "execution_count": 70,
      "outputs": [
        {
          "output_type": "execute_result",
          "data": {
            "text/plain": [
              "4500"
            ]
          },
          "metadata": {},
          "execution_count": 70
        }
      ]
    },
    {
      "cell_type": "code",
      "source": [
        "test_dataloader, train_dataloader, train_examples = convert_input_examples_to_dataloader(label_list)"
      ],
      "metadata": {
        "id": "SSQZPXk5M8mi"
      },
      "execution_count": 71,
      "outputs": []
    },
    {
      "cell_type": "code",
      "source": [
        "generator, discriminator = instantiate_discriminator_and_generator(transformer)"
      ],
      "metadata": {
        "id": "uF2fD8yuM8mi"
      },
      "execution_count": 72,
      "outputs": []
    },
    {
      "cell_type": "code",
      "source": [
        "training_stats_2, total_t0 = training_procedure_start(test_dataloader, train_dataloader, train_examples, generator, discriminator)"
      ],
      "metadata": {
        "colab": {
          "base_uri": "https://localhost:8080/"
        },
        "outputId": "627899df-6a82-4ef3-f8ea-e4a00af9ea1a",
        "id": "FLiwgZJkM8mi"
      },
      "execution_count": 73,
      "outputs": [
        {
          "output_type": "stream",
          "name": "stdout",
          "text": [
            "\n",
            "======== Epoch 1 / 5 ========\n",
            "Training...\n",
            "  Batch    10  of    254.    Elapsed: 0:00:06.\n",
            "  Batch    20  of    254.    Elapsed: 0:00:12.\n",
            "  Batch    30  of    254.    Elapsed: 0:00:17.\n",
            "  Batch    40  of    254.    Elapsed: 0:00:23.\n",
            "  Batch    50  of    254.    Elapsed: 0:00:29.\n",
            "  Batch    60  of    254.    Elapsed: 0:00:35.\n",
            "  Batch    70  of    254.    Elapsed: 0:00:41.\n",
            "  Batch    80  of    254.    Elapsed: 0:00:46.\n",
            "  Batch    90  of    254.    Elapsed: 0:00:52.\n",
            "  Batch   100  of    254.    Elapsed: 0:00:58.\n",
            "  Batch   110  of    254.    Elapsed: 0:01:04.\n",
            "  Batch   120  of    254.    Elapsed: 0:01:10.\n",
            "  Batch   130  of    254.    Elapsed: 0:01:15.\n",
            "  Batch   140  of    254.    Elapsed: 0:01:21.\n",
            "  Batch   150  of    254.    Elapsed: 0:01:27.\n",
            "  Batch   160  of    254.    Elapsed: 0:01:33.\n",
            "  Batch   170  of    254.    Elapsed: 0:01:39.\n",
            "  Batch   180  of    254.    Elapsed: 0:01:44.\n",
            "  Batch   190  of    254.    Elapsed: 0:01:50.\n",
            "  Batch   200  of    254.    Elapsed: 0:01:56.\n",
            "  Batch   210  of    254.    Elapsed: 0:02:02.\n",
            "  Batch   220  of    254.    Elapsed: 0:02:08.\n",
            "  Batch   230  of    254.    Elapsed: 0:02:13.\n",
            "  Batch   240  of    254.    Elapsed: 0:02:19.\n",
            "  Batch   250  of    254.    Elapsed: 0:02:25.\n",
            "\n",
            "  Average training loss generetor: 0.653\n",
            "  Average training loss discriminator: 5.468\n",
            "  Training epcoh took: 0:02:27\n",
            "\n",
            "Running Test...\n",
            "  Accuracy: 0.875\n",
            "  Test Loss: 3.266\n",
            "  Test took: 0:00:08\n",
            "\n",
            "======== Epoch 2 / 5 ========\n",
            "Training...\n",
            "  Batch    10  of    254.    Elapsed: 0:00:06.\n",
            "  Batch    20  of    254.    Elapsed: 0:00:12.\n",
            "  Batch    30  of    254.    Elapsed: 0:00:17.\n",
            "  Batch    40  of    254.    Elapsed: 0:00:23.\n",
            "  Batch    50  of    254.    Elapsed: 0:00:29.\n",
            "  Batch    60  of    254.    Elapsed: 0:00:35.\n",
            "  Batch    70  of    254.    Elapsed: 0:00:41.\n",
            "  Batch    80  of    254.    Elapsed: 0:00:46.\n",
            "  Batch    90  of    254.    Elapsed: 0:00:52.\n",
            "  Batch   100  of    254.    Elapsed: 0:00:58.\n",
            "  Batch   110  of    254.    Elapsed: 0:01:04.\n",
            "  Batch   120  of    254.    Elapsed: 0:01:10.\n",
            "  Batch   130  of    254.    Elapsed: 0:01:15.\n",
            "  Batch   140  of    254.    Elapsed: 0:01:21.\n",
            "  Batch   150  of    254.    Elapsed: 0:01:27.\n",
            "  Batch   160  of    254.    Elapsed: 0:01:33.\n",
            "  Batch   170  of    254.    Elapsed: 0:01:39.\n",
            "  Batch   180  of    254.    Elapsed: 0:01:44.\n",
            "  Batch   190  of    254.    Elapsed: 0:01:50.\n",
            "  Batch   200  of    254.    Elapsed: 0:01:56.\n",
            "  Batch   210  of    254.    Elapsed: 0:02:02.\n",
            "  Batch   220  of    254.    Elapsed: 0:02:08.\n",
            "  Batch   230  of    254.    Elapsed: 0:02:13.\n",
            "  Batch   240  of    254.    Elapsed: 0:02:19.\n",
            "  Batch   250  of    254.    Elapsed: 0:02:25.\n",
            "\n",
            "  Average training loss generetor: 0.742\n",
            "  Average training loss discriminator: 3.146\n",
            "  Training epcoh took: 0:02:27\n",
            "\n",
            "Running Test...\n",
            "  Accuracy: 0.899\n",
            "  Test Loss: 1.715\n",
            "  Test took: 0:00:08\n",
            "\n",
            "======== Epoch 3 / 5 ========\n",
            "Training...\n",
            "  Batch    10  of    254.    Elapsed: 0:00:06.\n",
            "  Batch    20  of    254.    Elapsed: 0:00:12.\n",
            "  Batch    30  of    254.    Elapsed: 0:00:17.\n",
            "  Batch    40  of    254.    Elapsed: 0:00:23.\n",
            "  Batch    50  of    254.    Elapsed: 0:00:29.\n",
            "  Batch    60  of    254.    Elapsed: 0:00:35.\n",
            "  Batch    70  of    254.    Elapsed: 0:00:41.\n",
            "  Batch    80  of    254.    Elapsed: 0:00:46.\n",
            "  Batch    90  of    254.    Elapsed: 0:00:52.\n",
            "  Batch   100  of    254.    Elapsed: 0:00:58.\n",
            "  Batch   110  of    254.    Elapsed: 0:01:04.\n",
            "  Batch   120  of    254.    Elapsed: 0:01:10.\n",
            "  Batch   130  of    254.    Elapsed: 0:01:15.\n",
            "  Batch   140  of    254.    Elapsed: 0:01:21.\n",
            "  Batch   150  of    254.    Elapsed: 0:01:27.\n",
            "  Batch   160  of    254.    Elapsed: 0:01:33.\n",
            "  Batch   170  of    254.    Elapsed: 0:01:39.\n",
            "  Batch   180  of    254.    Elapsed: 0:01:44.\n",
            "  Batch   190  of    254.    Elapsed: 0:01:50.\n",
            "  Batch   200  of    254.    Elapsed: 0:01:56.\n",
            "  Batch   210  of    254.    Elapsed: 0:02:02.\n",
            "  Batch   220  of    254.    Elapsed: 0:02:08.\n",
            "  Batch   230  of    254.    Elapsed: 0:02:13.\n",
            "  Batch   240  of    254.    Elapsed: 0:02:19.\n",
            "  Batch   250  of    254.    Elapsed: 0:02:25.\n",
            "\n",
            "  Average training loss generetor: 0.741\n",
            "  Average training loss discriminator: 1.730\n",
            "  Training epcoh took: 0:02:27\n",
            "\n",
            "Running Test...\n",
            "  Accuracy: 0.914\n",
            "  Test Loss: 0.840\n",
            "  Test took: 0:00:08\n",
            "\n",
            "======== Epoch 4 / 5 ========\n",
            "Training...\n",
            "  Batch    10  of    254.    Elapsed: 0:00:06.\n",
            "  Batch    20  of    254.    Elapsed: 0:00:12.\n",
            "  Batch    30  of    254.    Elapsed: 0:00:17.\n",
            "  Batch    40  of    254.    Elapsed: 0:00:23.\n",
            "  Batch    50  of    254.    Elapsed: 0:00:29.\n",
            "  Batch    60  of    254.    Elapsed: 0:00:35.\n",
            "  Batch    70  of    254.    Elapsed: 0:00:41.\n",
            "  Batch    80  of    254.    Elapsed: 0:00:46.\n",
            "  Batch    90  of    254.    Elapsed: 0:00:52.\n",
            "  Batch   100  of    254.    Elapsed: 0:00:58.\n",
            "  Batch   110  of    254.    Elapsed: 0:01:04.\n",
            "  Batch   120  of    254.    Elapsed: 0:01:10.\n",
            "  Batch   130  of    254.    Elapsed: 0:01:15.\n",
            "  Batch   140  of    254.    Elapsed: 0:01:21.\n",
            "  Batch   150  of    254.    Elapsed: 0:01:27.\n",
            "  Batch   160  of    254.    Elapsed: 0:01:33.\n",
            "  Batch   170  of    254.    Elapsed: 0:01:39.\n",
            "  Batch   180  of    254.    Elapsed: 0:01:44.\n",
            "  Batch   190  of    254.    Elapsed: 0:01:50.\n",
            "  Batch   200  of    254.    Elapsed: 0:01:56.\n",
            "  Batch   210  of    254.    Elapsed: 0:02:02.\n",
            "  Batch   220  of    254.    Elapsed: 0:02:08.\n",
            "  Batch   230  of    254.    Elapsed: 0:02:13.\n",
            "  Batch   240  of    254.    Elapsed: 0:02:19.\n",
            "  Batch   250  of    254.    Elapsed: 0:02:25.\n",
            "\n",
            "  Average training loss generetor: 0.731\n",
            "  Average training loss discriminator: 1.073\n",
            "  Training epcoh took: 0:02:27\n",
            "\n",
            "Running Test...\n",
            "  Accuracy: 0.918\n",
            "  Test Loss: 0.597\n",
            "  Test took: 0:00:08\n",
            "\n",
            "======== Epoch 5 / 5 ========\n",
            "Training...\n",
            "  Batch    10  of    254.    Elapsed: 0:00:06.\n",
            "  Batch    20  of    254.    Elapsed: 0:00:12.\n",
            "  Batch    30  of    254.    Elapsed: 0:00:17.\n",
            "  Batch    40  of    254.    Elapsed: 0:00:23.\n",
            "  Batch    50  of    254.    Elapsed: 0:00:29.\n",
            "  Batch    60  of    254.    Elapsed: 0:00:35.\n",
            "  Batch    70  of    254.    Elapsed: 0:00:41.\n",
            "  Batch    80  of    254.    Elapsed: 0:00:46.\n",
            "  Batch    90  of    254.    Elapsed: 0:00:52.\n",
            "  Batch   100  of    254.    Elapsed: 0:00:58.\n",
            "  Batch   110  of    254.    Elapsed: 0:01:04.\n",
            "  Batch   120  of    254.    Elapsed: 0:01:10.\n",
            "  Batch   130  of    254.    Elapsed: 0:01:15.\n",
            "  Batch   140  of    254.    Elapsed: 0:01:21.\n",
            "  Batch   150  of    254.    Elapsed: 0:01:27.\n",
            "  Batch   160  of    254.    Elapsed: 0:01:33.\n",
            "  Batch   170  of    254.    Elapsed: 0:01:39.\n",
            "  Batch   180  of    254.    Elapsed: 0:01:44.\n",
            "  Batch   190  of    254.    Elapsed: 0:01:50.\n",
            "  Batch   200  of    254.    Elapsed: 0:01:56.\n",
            "  Batch   210  of    254.    Elapsed: 0:02:02.\n",
            "  Batch   220  of    254.    Elapsed: 0:02:08.\n",
            "  Batch   230  of    254.    Elapsed: 0:02:13.\n",
            "  Batch   240  of    254.    Elapsed: 0:02:19.\n",
            "  Batch   250  of    254.    Elapsed: 0:02:25.\n",
            "\n",
            "  Average training loss generetor: 0.726\n",
            "  Average training loss discriminator: 0.885\n",
            "  Training epcoh took: 0:02:27\n",
            "\n",
            "Running Test...\n",
            "  Accuracy: 0.922\n",
            "  Test Loss: 0.542\n",
            "  Test took: 0:00:08\n"
          ]
        }
      ]
    },
    {
      "cell_type": "code",
      "source": [
        "training_procedure_completion_print(training_stats_2, total_t0)"
      ],
      "metadata": {
        "colab": {
          "base_uri": "https://localhost:8080/"
        },
        "outputId": "cc82da4b-882c-4cb2-f9eb-e56b8c5d132c",
        "id": "Jyf2fEx1M8mi"
      },
      "execution_count": 74,
      "outputs": [
        {
          "output_type": "stream",
          "name": "stdout",
          "text": [
            "{'epoch': 1, 'Training Loss generator': 0.6534509693866405, 'Training Loss discriminator': 5.468472174772128, 'Valid. Loss': 3.266458749771118, 'Valid. Accur.': 0.8748888888888889, 'Training Time': '0:02:27', 'Test Time': '0:00:08'}\n",
            "{'epoch': 2, 'Training Loss generator': 0.7419712491861479, 'Training Loss discriminator': 3.1455839309166738, 'Valid. Loss': 1.715285062789917, 'Valid. Accur.': 0.8986666666666666, 'Training Time': '0:02:27', 'Test Time': '0:00:08'}\n",
            "{'epoch': 3, 'Training Loss generator': 0.7409003109443845, 'Training Loss discriminator': 1.730034393353725, 'Valid. Loss': 0.8403106331825256, 'Valid. Accur.': 0.9137777777777778, 'Training Time': '0:02:27', 'Test Time': '0:00:08'}\n",
            "{'epoch': 4, 'Training Loss generator': 0.7313536830305114, 'Training Loss discriminator': 1.0727149583692626, 'Valid. Loss': 0.5972844958305359, 'Valid. Accur.': 0.9184444444444444, 'Training Time': '0:02:27', 'Test Time': '0:00:08'}\n",
            "{'epoch': 5, 'Training Loss generator': 0.725518333864963, 'Training Loss discriminator': 0.8848252930040434, 'Valid. Loss': 0.5423166751861572, 'Valid. Accur.': 0.9222222222222223, 'Training Time': '0:02:27', 'Test Time': '0:00:08'}\n",
            "\n",
            "Training complete!\n",
            "Total training took 0:14:06 (h:mm:ss)\n"
          ]
        }
      ]
    },
    {
      "cell_type": "code",
      "source": [
        "training_stats_2[-1]"
      ],
      "metadata": {
        "colab": {
          "base_uri": "https://localhost:8080/"
        },
        "outputId": "6e9e18a0-8eae-4892-9904-a7f8fd0040a5",
        "id": "4B5d3rVvM8mj"
      },
      "execution_count": 75,
      "outputs": [
        {
          "output_type": "execute_result",
          "data": {
            "text/plain": [
              "{'Test Time': '0:00:08',\n",
              " 'Training Loss discriminator': 0.8848252930040434,\n",
              " 'Training Loss generator': 0.725518333864963,\n",
              " 'Training Time': '0:02:27',\n",
              " 'Valid. Accur.': 0.9222222222222223,\n",
              " 'Valid. Loss': 0.5423166751861572,\n",
              " 'epoch': 5}"
            ]
          },
          "metadata": {},
          "execution_count": 75
        }
      ]
    },
    {
      "cell_type": "markdown",
      "source": [
        "##5_95"
      ],
      "metadata": {
        "id": "m43kYfDwNVmY"
      }
    },
    {
      "cell_type": "code",
      "source": [
        "labeled_file = \"./5_95/labeled.tsv\"\n",
        "unlabeled_file = \"./5_95/unlabeled.tsv\"\n",
        "test_filename = \"./5_95/test.tsv\""
      ],
      "metadata": {
        "id": "I3eJUARqNVmY"
      },
      "execution_count": 76,
      "outputs": []
    },
    {
      "cell_type": "code",
      "source": [
        "labeled_examples, unlabeled_examples, test_examples = load_the_input_dataset()"
      ],
      "metadata": {
        "id": "kOXQ68jqNVmZ"
      },
      "execution_count": 77,
      "outputs": []
    },
    {
      "cell_type": "code",
      "source": [
        "len(labeled_examples)"
      ],
      "metadata": {
        "colab": {
          "base_uri": "https://localhost:8080/"
        },
        "outputId": "534421e2-8d13-4193-ad59-f21c96143c00",
        "id": "B3cv5EnNNVmZ"
      },
      "execution_count": 78,
      "outputs": [
        {
          "output_type": "execute_result",
          "data": {
            "text/plain": [
              "750"
            ]
          },
          "metadata": {},
          "execution_count": 78
        }
      ]
    },
    {
      "cell_type": "code",
      "source": [
        "len(unlabeled_examples)"
      ],
      "metadata": {
        "colab": {
          "base_uri": "https://localhost:8080/"
        },
        "outputId": "df955fc1-a3b2-494f-df50-7a215d3d631f",
        "id": "y8ESd6UENVmZ"
      },
      "execution_count": 79,
      "outputs": [
        {
          "output_type": "execute_result",
          "data": {
            "text/plain": [
              "14250"
            ]
          },
          "metadata": {},
          "execution_count": 79
        }
      ]
    },
    {
      "cell_type": "code",
      "source": [
        "len(test_examples)"
      ],
      "metadata": {
        "colab": {
          "base_uri": "https://localhost:8080/"
        },
        "outputId": "4673dfc3-901f-4fdd-df2f-73d365e42b20",
        "id": "dZoo4o1-NVmZ"
      },
      "execution_count": 80,
      "outputs": [
        {
          "output_type": "execute_result",
          "data": {
            "text/plain": [
              "4500"
            ]
          },
          "metadata": {},
          "execution_count": 80
        }
      ]
    },
    {
      "cell_type": "code",
      "source": [
        "test_dataloader, train_dataloader, train_examples = convert_input_examples_to_dataloader(label_list)"
      ],
      "metadata": {
        "id": "shGYiKHiNVma"
      },
      "execution_count": 81,
      "outputs": []
    },
    {
      "cell_type": "code",
      "source": [
        "generator, discriminator = instantiate_discriminator_and_generator(transformer)"
      ],
      "metadata": {
        "id": "twHU-G7vNVma"
      },
      "execution_count": 82,
      "outputs": []
    },
    {
      "cell_type": "code",
      "source": [
        "training_stats_5, total_t0 = training_procedure_start(test_dataloader, train_dataloader, train_examples, generator, discriminator)"
      ],
      "metadata": {
        "colab": {
          "base_uri": "https://localhost:8080/"
        },
        "outputId": "2f53946f-0c58-4e08-d067-f23887fd0db3",
        "id": "3PDAqlXDNVma"
      },
      "execution_count": 83,
      "outputs": [
        {
          "output_type": "stream",
          "name": "stdout",
          "text": [
            "\n",
            "======== Epoch 1 / 5 ========\n",
            "Training...\n",
            "  Batch    10  of    270.    Elapsed: 0:00:06.\n",
            "  Batch    20  of    270.    Elapsed: 0:00:12.\n",
            "  Batch    30  of    270.    Elapsed: 0:00:17.\n",
            "  Batch    40  of    270.    Elapsed: 0:00:23.\n",
            "  Batch    50  of    270.    Elapsed: 0:00:29.\n",
            "  Batch    60  of    270.    Elapsed: 0:00:35.\n",
            "  Batch    70  of    270.    Elapsed: 0:00:41.\n",
            "  Batch    80  of    270.    Elapsed: 0:00:46.\n",
            "  Batch    90  of    270.    Elapsed: 0:00:52.\n",
            "  Batch   100  of    270.    Elapsed: 0:00:58.\n",
            "  Batch   110  of    270.    Elapsed: 0:01:04.\n",
            "  Batch   120  of    270.    Elapsed: 0:01:10.\n",
            "  Batch   130  of    270.    Elapsed: 0:01:15.\n",
            "  Batch   140  of    270.    Elapsed: 0:01:21.\n",
            "  Batch   150  of    270.    Elapsed: 0:01:27.\n",
            "  Batch   160  of    270.    Elapsed: 0:01:33.\n",
            "  Batch   170  of    270.    Elapsed: 0:01:39.\n",
            "  Batch   180  of    270.    Elapsed: 0:01:44.\n",
            "  Batch   190  of    270.    Elapsed: 0:01:50.\n",
            "  Batch   200  of    270.    Elapsed: 0:01:56.\n",
            "  Batch   210  of    270.    Elapsed: 0:02:02.\n",
            "  Batch   220  of    270.    Elapsed: 0:02:08.\n",
            "  Batch   230  of    270.    Elapsed: 0:02:13.\n",
            "  Batch   240  of    270.    Elapsed: 0:02:19.\n",
            "  Batch   250  of    270.    Elapsed: 0:02:25.\n",
            "  Batch   260  of    270.    Elapsed: 0:02:31.\n",
            "\n",
            "  Average training loss generetor: 0.670\n",
            "  Average training loss discriminator: 4.868\n",
            "  Training epcoh took: 0:02:36\n",
            "\n",
            "Running Test...\n",
            "  Accuracy: 0.911\n",
            "  Test Loss: 2.365\n",
            "  Test took: 0:00:08\n",
            "\n",
            "======== Epoch 2 / 5 ========\n",
            "Training...\n",
            "  Batch    10  of    270.    Elapsed: 0:00:06.\n",
            "  Batch    20  of    270.    Elapsed: 0:00:12.\n",
            "  Batch    30  of    270.    Elapsed: 0:00:17.\n",
            "  Batch    40  of    270.    Elapsed: 0:00:23.\n",
            "  Batch    50  of    270.    Elapsed: 0:00:29.\n",
            "  Batch    60  of    270.    Elapsed: 0:00:35.\n",
            "  Batch    70  of    270.    Elapsed: 0:00:41.\n",
            "  Batch    80  of    270.    Elapsed: 0:00:46.\n",
            "  Batch    90  of    270.    Elapsed: 0:00:52.\n",
            "  Batch   100  of    270.    Elapsed: 0:00:58.\n",
            "  Batch   110  of    270.    Elapsed: 0:01:04.\n",
            "  Batch   120  of    270.    Elapsed: 0:01:10.\n",
            "  Batch   130  of    270.    Elapsed: 0:01:15.\n",
            "  Batch   140  of    270.    Elapsed: 0:01:21.\n",
            "  Batch   150  of    270.    Elapsed: 0:01:27.\n",
            "  Batch   160  of    270.    Elapsed: 0:01:33.\n",
            "  Batch   170  of    270.    Elapsed: 0:01:39.\n",
            "  Batch   180  of    270.    Elapsed: 0:01:44.\n",
            "  Batch   190  of    270.    Elapsed: 0:01:50.\n",
            "  Batch   200  of    270.    Elapsed: 0:01:56.\n",
            "  Batch   210  of    270.    Elapsed: 0:02:02.\n",
            "  Batch   220  of    270.    Elapsed: 0:02:08.\n",
            "  Batch   230  of    270.    Elapsed: 0:02:13.\n",
            "  Batch   240  of    270.    Elapsed: 0:02:19.\n",
            "  Batch   250  of    270.    Elapsed: 0:02:25.\n",
            "  Batch   260  of    270.    Elapsed: 0:02:31.\n",
            "\n",
            "  Average training loss generetor: 0.749\n",
            "  Average training loss discriminator: 1.959\n",
            "  Training epcoh took: 0:02:36\n",
            "\n",
            "Running Test...\n",
            "  Accuracy: 0.918\n",
            "  Test Loss: 0.780\n",
            "  Test took: 0:00:08\n",
            "\n",
            "======== Epoch 3 / 5 ========\n",
            "Training...\n",
            "  Batch    10  of    270.    Elapsed: 0:00:06.\n",
            "  Batch    20  of    270.    Elapsed: 0:00:12.\n",
            "  Batch    30  of    270.    Elapsed: 0:00:17.\n",
            "  Batch    40  of    270.    Elapsed: 0:00:23.\n",
            "  Batch    50  of    270.    Elapsed: 0:00:29.\n",
            "  Batch    60  of    270.    Elapsed: 0:00:35.\n",
            "  Batch    70  of    270.    Elapsed: 0:00:41.\n",
            "  Batch    80  of    270.    Elapsed: 0:00:46.\n",
            "  Batch    90  of    270.    Elapsed: 0:00:52.\n",
            "  Batch   100  of    270.    Elapsed: 0:00:58.\n",
            "  Batch   110  of    270.    Elapsed: 0:01:04.\n",
            "  Batch   120  of    270.    Elapsed: 0:01:10.\n",
            "  Batch   130  of    270.    Elapsed: 0:01:15.\n",
            "  Batch   140  of    270.    Elapsed: 0:01:21.\n",
            "  Batch   150  of    270.    Elapsed: 0:01:27.\n",
            "  Batch   160  of    270.    Elapsed: 0:01:33.\n",
            "  Batch   170  of    270.    Elapsed: 0:01:39.\n",
            "  Batch   180  of    270.    Elapsed: 0:01:44.\n",
            "  Batch   190  of    270.    Elapsed: 0:01:50.\n",
            "  Batch   200  of    270.    Elapsed: 0:01:56.\n",
            "  Batch   210  of    270.    Elapsed: 0:02:02.\n",
            "  Batch   220  of    270.    Elapsed: 0:02:08.\n",
            "  Batch   230  of    270.    Elapsed: 0:02:13.\n",
            "  Batch   240  of    270.    Elapsed: 0:02:19.\n",
            "  Batch   250  of    270.    Elapsed: 0:02:25.\n",
            "  Batch   260  of    270.    Elapsed: 0:02:31.\n",
            "\n",
            "  Average training loss generetor: 0.732\n",
            "  Average training loss discriminator: 0.994\n",
            "  Training epcoh took: 0:02:36\n",
            "\n",
            "Running Test...\n",
            "  Accuracy: 0.912\n",
            "  Test Loss: 0.612\n",
            "  Test took: 0:00:08\n",
            "\n",
            "======== Epoch 4 / 5 ========\n",
            "Training...\n",
            "  Batch    10  of    270.    Elapsed: 0:00:06.\n",
            "  Batch    20  of    270.    Elapsed: 0:00:12.\n",
            "  Batch    30  of    270.    Elapsed: 0:00:17.\n",
            "  Batch    40  of    270.    Elapsed: 0:00:23.\n",
            "  Batch    50  of    270.    Elapsed: 0:00:29.\n",
            "  Batch    60  of    270.    Elapsed: 0:00:35.\n",
            "  Batch    70  of    270.    Elapsed: 0:00:41.\n",
            "  Batch    80  of    270.    Elapsed: 0:00:46.\n",
            "  Batch    90  of    270.    Elapsed: 0:00:52.\n",
            "  Batch   100  of    270.    Elapsed: 0:00:58.\n",
            "  Batch   110  of    270.    Elapsed: 0:01:04.\n",
            "  Batch   120  of    270.    Elapsed: 0:01:10.\n",
            "  Batch   130  of    270.    Elapsed: 0:01:15.\n",
            "  Batch   140  of    270.    Elapsed: 0:01:21.\n",
            "  Batch   150  of    270.    Elapsed: 0:01:27.\n",
            "  Batch   160  of    270.    Elapsed: 0:01:33.\n",
            "  Batch   170  of    270.    Elapsed: 0:01:39.\n",
            "  Batch   180  of    270.    Elapsed: 0:01:44.\n",
            "  Batch   190  of    270.    Elapsed: 0:01:50.\n",
            "  Batch   200  of    270.    Elapsed: 0:01:56.\n",
            "  Batch   210  of    270.    Elapsed: 0:02:02.\n",
            "  Batch   220  of    270.    Elapsed: 0:02:08.\n",
            "  Batch   230  of    270.    Elapsed: 0:02:13.\n",
            "  Batch   240  of    270.    Elapsed: 0:02:19.\n",
            "  Batch   250  of    270.    Elapsed: 0:02:25.\n",
            "  Batch   260  of    270.    Elapsed: 0:02:31.\n",
            "\n",
            "  Average training loss generetor: 0.720\n",
            "  Average training loss discriminator: 0.830\n",
            "  Training epcoh took: 0:02:36\n",
            "\n",
            "Running Test...\n",
            "  Accuracy: 0.918\n",
            "  Test Loss: 0.551\n",
            "  Test took: 0:00:08\n",
            "\n",
            "======== Epoch 5 / 5 ========\n",
            "Training...\n",
            "  Batch    10  of    270.    Elapsed: 0:00:06.\n",
            "  Batch    20  of    270.    Elapsed: 0:00:12.\n",
            "  Batch    30  of    270.    Elapsed: 0:00:17.\n",
            "  Batch    40  of    270.    Elapsed: 0:00:23.\n",
            "  Batch    50  of    270.    Elapsed: 0:00:29.\n",
            "  Batch    60  of    270.    Elapsed: 0:00:35.\n",
            "  Batch    70  of    270.    Elapsed: 0:00:41.\n",
            "  Batch    80  of    270.    Elapsed: 0:00:46.\n",
            "  Batch    90  of    270.    Elapsed: 0:00:52.\n",
            "  Batch   100  of    270.    Elapsed: 0:00:58.\n",
            "  Batch   110  of    270.    Elapsed: 0:01:04.\n",
            "  Batch   120  of    270.    Elapsed: 0:01:10.\n",
            "  Batch   130  of    270.    Elapsed: 0:01:15.\n",
            "  Batch   140  of    270.    Elapsed: 0:01:21.\n",
            "  Batch   150  of    270.    Elapsed: 0:01:27.\n",
            "  Batch   160  of    270.    Elapsed: 0:01:33.\n",
            "  Batch   170  of    270.    Elapsed: 0:01:39.\n",
            "  Batch   180  of    270.    Elapsed: 0:01:44.\n",
            "  Batch   190  of    270.    Elapsed: 0:01:50.\n",
            "  Batch   200  of    270.    Elapsed: 0:01:56.\n",
            "  Batch   210  of    270.    Elapsed: 0:02:02.\n",
            "  Batch   220  of    270.    Elapsed: 0:02:08.\n",
            "  Batch   230  of    270.    Elapsed: 0:02:13.\n",
            "  Batch   240  of    270.    Elapsed: 0:02:19.\n",
            "  Batch   250  of    270.    Elapsed: 0:02:25.\n",
            "  Batch   260  of    270.    Elapsed: 0:02:31.\n",
            "\n",
            "  Average training loss generetor: 0.718\n",
            "  Average training loss discriminator: 0.779\n",
            "  Training epcoh took: 0:02:36\n",
            "\n",
            "Running Test...\n",
            "  Accuracy: 0.922\n",
            "  Test Loss: 0.554\n",
            "  Test took: 0:00:08\n"
          ]
        }
      ]
    },
    {
      "cell_type": "code",
      "source": [
        "training_procedure_completion_print(training_stats_5, total_t0)"
      ],
      "metadata": {
        "colab": {
          "base_uri": "https://localhost:8080/"
        },
        "outputId": "882e7d30-4d9f-4b67-ba4b-ed530a2a1713",
        "id": "xbr48AgMNVma"
      },
      "execution_count": 84,
      "outputs": [
        {
          "output_type": "stream",
          "name": "stdout",
          "text": [
            "{'epoch': 1, 'Training Loss generator': 0.6697514037291209, 'Training Loss discriminator': 4.868439473046196, 'Valid. Loss': 2.3651394844055176, 'Valid. Accur.': 0.9111111111111111, 'Training Time': '0:02:36', 'Test Time': '0:00:08'}\n",
            "{'epoch': 2, 'Training Loss generator': 0.7489273978604211, 'Training Loss discriminator': 1.9588687230039525, 'Valid. Loss': 0.7804856896400452, 'Valid. Accur.': 0.9182222222222223, 'Training Time': '0:02:36', 'Test Time': '0:00:08'}\n",
            "{'epoch': 3, 'Training Loss generator': 0.7320961744697005, 'Training Loss discriminator': 0.9941177231294137, 'Valid. Loss': 0.6117883324623108, 'Valid. Accur.': 0.9115555555555556, 'Training Time': '0:02:36', 'Test Time': '0:00:08'}\n",
            "{'epoch': 4, 'Training Loss generator': 0.7201299351674539, 'Training Loss discriminator': 0.8303559513003738, 'Valid. Loss': 0.5512059330940247, 'Valid. Accur.': 0.918, 'Training Time': '0:02:36', 'Test Time': '0:00:08'}\n",
            "{'epoch': 5, 'Training Loss generator': 0.7178967877670571, 'Training Loss discriminator': 0.7786004697835004, 'Valid. Loss': 0.5543385148048401, 'Valid. Accur.': 0.9222222222222223, 'Training Time': '0:02:36', 'Test Time': '0:00:08'}\n",
            "\n",
            "Training complete!\n",
            "Total training took 0:13:53 (h:mm:ss)\n"
          ]
        }
      ]
    },
    {
      "cell_type": "code",
      "source": [
        "training_stats_5[-1]"
      ],
      "metadata": {
        "colab": {
          "base_uri": "https://localhost:8080/"
        },
        "outputId": "605410f7-2eb7-4ec6-e42b-81a8ec13fdee",
        "id": "It8qnSsqNVma"
      },
      "execution_count": 85,
      "outputs": [
        {
          "output_type": "execute_result",
          "data": {
            "text/plain": [
              "{'Test Time': '0:00:08',\n",
              " 'Training Loss discriminator': 0.7786004697835004,\n",
              " 'Training Loss generator': 0.7178967877670571,\n",
              " 'Training Time': '0:02:36',\n",
              " 'Valid. Accur.': 0.9222222222222223,\n",
              " 'Valid. Loss': 0.5543385148048401,\n",
              " 'epoch': 5}"
            ]
          },
          "metadata": {},
          "execution_count": 85
        }
      ]
    },
    {
      "cell_type": "markdown",
      "source": [
        "## Analysis for different splits and epochs"
      ],
      "metadata": {
        "id": "TOglB1f5zjOD"
      }
    },
    {
      "cell_type": "code",
      "source": [
        "print(\"Last epoch accuracies:\")\n",
        "print(\"1:99:\", training_stats_1[-1][\"Valid. Accur.\"])\n",
        "print(\"2:98:\", training_stats_2[-1][\"Valid. Accur.\"])\n",
        "print(\"5:95:\", training_stats_5[-1][\"Valid. Accur.\"])\n",
        "print(\"10:90:\", training_stats[-1][\"Valid. Accur.\"]) #for 10 \n",
        "print(\"20:80:\", training_stats_20[-1][\"Valid. Accur.\"]) #for 20\n",
        "print(\"30:70:\", training_stats_30[-1][\"Valid. Accur.\"]) #for 30\n",
        "print(\"40:60:\", training_stats_40[-1][\"Valid. Accur.\"])\n",
        "print(\"50:50:\", training_stats_50[-1][\"Valid. Accur.\"])\n"
      ],
      "metadata": {
        "colab": {
          "base_uri": "https://localhost:8080/"
        },
        "id": "jPjRnjB1nhwj",
        "outputId": "2768e90f-89a9-4516-c151-66bbe47275ce"
      },
      "execution_count": 96,
      "outputs": [
        {
          "output_type": "stream",
          "name": "stdout",
          "text": [
            "Last epoch accuracies:\n",
            "1:99: 0.9055555555555556\n",
            "2:98: 0.9222222222222223\n",
            "5:95: 0.9222222222222223\n",
            "10:90: 0.8631111111111112\n",
            "20:80: 0.9208888888888889\n",
            "30:70: 0.9264444444444444\n",
            "40:60: 0.9193333333333333\n",
            "50:50: 0.922\n"
          ]
        }
      ]
    },
    {
      "cell_type": "code",
      "source": [
        "import matplotlib.pyplot as plt\n",
        "\n",
        "y = [training_stats_1[-1][\"Valid. Accur.\"], training_stats_2[-1][\"Valid. Accur.\"], \\\n",
        "     training_stats_5[-1][\"Valid. Accur.\"], training_stats[-1][\"Valid. Accur.\"], training_stats_20[-1][\"Valid. Accur.\"], \\\n",
        "     training_stats_30[-1][\"Valid. Accur.\"], training_stats_40[-1][\"Valid. Accur.\"]\\\n",
        "     , training_stats_50[-1][\"Valid. Accur.\"]]\n",
        "x = [\"1:99\",\"2:98\",\"5:95\", \"10:90\", \"20:80\", \"30:70\", \"40:60\", \"50:50\"]\n",
        "plt.plot(x, y, '-o')\n",
        "\n",
        "#plt.plot(x, y, label = \"line 1\")\n",
        "#plt.plot(y, x, label = \"line 2\")\n",
        "#plt.plot(x, np.sin(x), label = \"curve 1\")\n",
        "#plt.plot(x, np.cos(x), label = \"curve 2\")\n",
        "\n",
        "# naming the x axis\n",
        "plt.xlabel('Ratio of Training:Testing split')\n",
        "# naming the y axis\n",
        "plt.ylabel('Accuracy (%) after 5 epochs')\n",
        "# giving a title to my graph\n",
        "plt.title('BERT: GAN on CLINC-150 dataset')\n",
        "  \n",
        "# function to show the plot\n",
        "plt.show()"
      ],
      "metadata": {
        "colab": {
          "base_uri": "https://localhost:8080/",
          "height": 295
        },
        "id": "N_-r6L6qNVma",
        "outputId": "25600754-08ef-4f4b-c3b9-c4bed8844b28"
      },
      "execution_count": 100,
      "outputs": [
        {
          "output_type": "display_data",
          "data": {
            "text/plain": [
              "<Figure size 432x288 with 1 Axes>"
            ],
            "image/png": "[encoded data removed]"
          },
          "metadata": {
            "needs_background": "light"
          }
        }
      ]
    },
    {
      "cell_type": "code",
      "source": [
        "import matplotlib.pyplot as plt\n",
        "\n",
        "y_1 = [training_stats_1[x][\"Valid. Accur.\"] for x in range(num_train_epochs)]\n",
        "y_2 = [training_stats_2[x][\"Valid. Accur.\"] for x in range(num_train_epochs)]\n",
        "y_5 = [training_stats_5[x][\"Valid. Accur.\"] for x in range(num_train_epochs)]\n",
        "y_10 = [training_stats[x][\"Valid. Accur.\"] for x in range(num_train_epochs)]\n",
        "y_20 = [training_stats_20[x][\"Valid. Accur.\"] for x in range(num_train_epochs)]\n",
        "y_30 = [training_stats_30[x][\"Valid. Accur.\"] for x in range(num_train_epochs)]\n",
        "y_40 = [training_stats_40[x][\"Valid. Accur.\"] for x in range(num_train_epochs)]\n",
        "y_50 = [training_stats_50[x][\"Valid. Accur.\"] for x in range(num_train_epochs)]\n",
        "x = [\"1\",\"2\",\"3\", \"4\", \"5\"]\n",
        "\n",
        "plt.plot(x, y_1, '-o', label = \"1:99 split\")\n",
        "plt.plot(x, y_2, '-o', label = \"2:98 split\")\n",
        "plt.plot(x, y_5, '-o', label = \"5:95 split\")\n",
        "plt.plot(x, y_10, '-o', label = \"10:90 split\")\n",
        "plt.plot(x, y_20, '-o', label = \"20:80 split\")\n",
        "plt.plot(x, y_30, '-o', label = \"30:70 split\")\n",
        "plt.plot(x, y_40, '-o', label = \"40:60 split\")\n",
        "plt.plot(x, y_50, '-o', label = \"50:50 split\")\n",
        "\n",
        "\n",
        "# naming the x axis\n",
        "plt.xlabel('Epochs')\n",
        "# naming the y axis\n",
        "plt.ylabel('Accuracy (%)')\n",
        "# giving a title to my graph\n",
        "plt.title('BERT: GAN on CLINC-150 dataset (Accuracy vs Epochs) for various training splits')\n",
        "plt.legend()\n",
        "  \n",
        "# function to show the plot\n",
        "plt.show()"
      ],
      "metadata": {
        "colab": {
          "base_uri": "https://localhost:8080/",
          "height": 295
        },
        "id": "dFerPQK8mk4-",
        "outputId": "ba0670b0-63b9-43f3-b217-85692da20cff"
      },
      "execution_count": 101,
      "outputs": [
        {
          "output_type": "display_data",
          "data": {
            "text/plain": [
              "<Figure size 432x288 with 1 Axes>"
            ],
            "image/png": "[encoded data removed]"
          },
          "metadata": {
            "needs_background": "light"
          }
        }
      ]
    },
    {
      "cell_type": "code",
      "source": [
        "print(\"Accuracies for different splits over 5 epochs:\")\n",
        "print(\"1:99\", y_1)\n",
        "print(\"2:98\", y_2)\n",
        "print(\"5:95\", y_5)\n",
        "print(\"10:90\", y_10)\n",
        "print(\"20:80\", y_20)\n",
        "print(\"30:70\", y_30)\n",
        "print(\"40:60\", y_40)\n",
        "print(\"50:50\", y_50)"
      ],
      "metadata": {
        "colab": {
          "base_uri": "https://localhost:8080/"
        },
        "id": "FizYhQ5XyxSE",
        "outputId": "d2c2f6c2-5ce0-445a-fb7e-021941ce23c1"
      },
      "execution_count": 102,
      "outputs": [
        {
          "output_type": "stream",
          "name": "stdout",
          "text": [
            "Accuracies for different splits over 5 epochs:\n",
            "1:99 [0.8086666666666666, 0.8795555555555555, 0.8817777777777778, 0.898, 0.9055555555555556]\n",
            "2:98 [0.8748888888888889, 0.8986666666666666, 0.9137777777777778, 0.9184444444444444, 0.9222222222222223]\n",
            "5:95 [0.9111111111111111, 0.9182222222222223, 0.9115555555555556, 0.918, 0.9222222222222223]\n",
            "10:90 [0.15911111111111112, 0.5628888888888889, 0.7813333333333333, 0.8324444444444444, 0.8631111111111112]\n",
            "20:80 [0.9273333333333333, 0.9206666666666666, 0.9151111111111111, 0.9195555555555556, 0.9208888888888889]\n",
            "30:70 [0.8386666666666667, 0.9002222222222223, 0.9157777777777778, 0.918, 0.9264444444444444]\n",
            "40:60 [0.9242222222222222, 0.9146666666666666, 0.9262222222222222, 0.9268888888888889, 0.9193333333333333]\n",
            "50:50 [0.9268888888888889, 0.9288888888888889, 0.9273333333333333, 0.9195555555555556, 0.922]\n"
          ]
        }
      ]
    }
  ]
}