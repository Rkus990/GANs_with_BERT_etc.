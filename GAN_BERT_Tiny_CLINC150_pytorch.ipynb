{
  "nbformat": 4,
  "nbformat_minor": 0,
  "metadata": {
    "accelerator": "GPU",
    "colab": {
      "name": "GAN_BERT-Tiny_CLINC150_pytorch.ipynb",
      "provenance": [],
      "collapsed_sections": [],
      "toc_visible": true
    },
    "kernelspec": {
      "display_name": "Python 3",
      "name": "python3"
    },
    "widgets": {
      "application/vnd.jupyter.widget-state+json": {
        "fba9c9e3c38a4a8e93f16e6314dd8efa": {
          "model_module": "@jupyter-widgets/controls",
          "model_name": "HBoxModel",
          "model_module_version": "1.5.0",
          "state": {
            "_dom_classes": [],
            "_model_module": "@jupyter-widgets/controls",
            "_model_module_version": "1.5.0",
            "_model_name": "HBoxModel",
            "_view_count": null,
            "_view_module": "@jupyter-widgets/controls",
            "_view_module_version": "1.5.0",
            "_view_name": "HBoxView",
            "box_style": "",
            "children": [
              "IPY_MODEL_d27fa0cbfda34ff2a3822261af1ac595",
              "IPY_MODEL_f2a2cff89a614f60af043828ca71b4de",
              "IPY_MODEL_bbf737e503984a118f87f5e18b2a42ca"
            ],
            "layout": "IPY_MODEL_32831caebcf84fe6bd97b0cdd54fe35f"
          }
        },
        "d27fa0cbfda34ff2a3822261af1ac595": {
          "model_module": "@jupyter-widgets/controls",
          "model_name": "HTMLModel",
          "model_module_version": "1.5.0",
          "state": {
            "_dom_classes": [],
            "_model_module": "@jupyter-widgets/controls",
            "_model_module_version": "1.5.0",
            "_model_name": "HTMLModel",
            "_view_count": null,
            "_view_module": "@jupyter-widgets/controls",
            "_view_module_version": "1.5.0",
            "_view_name": "HTMLView",
            "description": "",
            "description_tooltip": null,
            "layout": "IPY_MODEL_840f397bf7e84664b973503b8348dfb1",
            "placeholder": "​",
            "style": "IPY_MODEL_39fb357adfb04920bb5bd9a94a604117",
            "value": "Downloading: 100%"
          }
        },
        "f2a2cff89a614f60af043828ca71b4de": {
          "model_module": "@jupyter-widgets/controls",
          "model_name": "FloatProgressModel",
          "model_module_version": "1.5.0",
          "state": {
            "_dom_classes": [],
            "_model_module": "@jupyter-widgets/controls",
            "_model_module_version": "1.5.0",
            "_model_name": "FloatProgressModel",
            "_view_count": null,
            "_view_module": "@jupyter-widgets/controls",
            "_view_module_version": "1.5.0",
            "_view_name": "ProgressView",
            "bar_style": "success",
            "description": "",
            "description_tooltip": null,
            "layout": "IPY_MODEL_e0712aaa356c4fc4ac754b23c706a923",
            "max": 285,
            "min": 0,
            "orientation": "horizontal",
            "style": "IPY_MODEL_b0f9e9b32e9d4217aa8007b872534596",
            "value": 285
          }
        },
        "bbf737e503984a118f87f5e18b2a42ca": {
          "model_module": "@jupyter-widgets/controls",
          "model_name": "HTMLModel",
          "model_module_version": "1.5.0",
          "state": {
            "_dom_classes": [],
            "_model_module": "@jupyter-widgets/controls",
            "_model_module_version": "1.5.0",
            "_model_name": "HTMLModel",
            "_view_count": null,
            "_view_module": "@jupyter-widgets/controls",
            "_view_module_version": "1.5.0",
            "_view_name": "HTMLView",
            "description": "",
            "description_tooltip": null,
            "layout": "IPY_MODEL_94e8731d1c7f4049b28b08a26ef0edd0",
            "placeholder": "​",
            "style": "IPY_MODEL_6a94aba2e9834f1eb70c930e19439a8e",
            "value": " 285/285 [00:00&lt;00:00, 6.52kB/s]"
          }
        },
        "32831caebcf84fe6bd97b0cdd54fe35f": {
          "model_module": "@jupyter-widgets/base",
          "model_name": "LayoutModel",
          "model_module_version": "1.2.0",
          "state": {
            "_model_module": "@jupyter-widgets/base",
            "_model_module_version": "1.2.0",
            "_model_name": "LayoutModel",
            "_view_count": null,
            "_view_module": "@jupyter-widgets/base",
            "_view_module_version": "1.2.0",
            "_view_name": "LayoutView",
            "align_content": null,
            "align_items": null,
            "align_self": null,
            "border": null,
            "bottom": null,
            "display": null,
            "flex": null,
            "flex_flow": null,
            "grid_area": null,
            "grid_auto_columns": null,
            "grid_auto_flow": null,
            "grid_auto_rows": null,
            "grid_column": null,
            "grid_gap": null,
            "grid_row": null,
            "grid_template_areas": null,
            "grid_template_columns": null,
            "grid_template_rows": null,
            "height": null,
            "justify_content": null,
            "justify_items": null,
            "left": null,
            "margin": null,
            "max_height": null,
            "max_width": null,
            "min_height": null,
            "min_width": null,
            "object_fit": null,
            "object_position": null,
            "order": null,
            "overflow": null,
            "overflow_x": null,
            "overflow_y": null,
            "padding": null,
            "right": null,
            "top": null,
            "visibility": null,
            "width": null
          }
        },
        "840f397bf7e84664b973503b8348dfb1": {
          "model_module": "@jupyter-widgets/base",
          "model_name": "LayoutModel",
          "model_module_version": "1.2.0",
          "state": {
            "_model_module": "@jupyter-widgets/base",
            "_model_module_version": "1.2.0",
            "_model_name": "LayoutModel",
            "_view_count": null,
            "_view_module": "@jupyter-widgets/base",
            "_view_module_version": "1.2.0",
            "_view_name": "LayoutView",
            "align_content": null,
            "align_items": null,
            "align_self": null,
            "border": null,
            "bottom": null,
            "display": null,
            "flex": null,
            "flex_flow": null,
            "grid_area": null,
            "grid_auto_columns": null,
            "grid_auto_flow": null,
            "grid_auto_rows": null,
            "grid_column": null,
            "grid_gap": null,
            "grid_row": null,
            "grid_template_areas": null,
            "grid_template_columns": null,
            "grid_template_rows": null,
            "height": null,
            "justify_content": null,
            "justify_items": null,
            "left": null,
            "margin": null,
            "max_height": null,
            "max_width": null,
            "min_height": null,
            "min_width": null,
            "object_fit": null,
            "object_position": null,
            "order": null,
            "overflow": null,
            "overflow_x": null,
            "overflow_y": null,
            "padding": null,
            "right": null,
            "top": null,
            "visibility": null,
            "width": null
          }
        },
        "39fb357adfb04920bb5bd9a94a604117": {
          "model_module": "@jupyter-widgets/controls",
          "model_name": "DescriptionStyleModel",
          "model_module_version": "1.5.0",
          "state": {
            "_model_module": "@jupyter-widgets/controls",
            "_model_module_version": "1.5.0",
            "_model_name": "DescriptionStyleModel",
            "_view_count": null,
            "_view_module": "@jupyter-widgets/base",
            "_view_module_version": "1.2.0",
            "_view_name": "StyleView",
            "description_width": ""
          }
        },
        "e0712aaa356c4fc4ac754b23c706a923": {
          "model_module": "@jupyter-widgets/base",
          "model_name": "LayoutModel",
          "model_module_version": "1.2.0",
          "state": {
            "_model_module": "@jupyter-widgets/base",
            "_model_module_version": "1.2.0",
            "_model_name": "LayoutModel",
            "_view_count": null,
            "_view_module": "@jupyter-widgets/base",
            "_view_module_version": "1.2.0",
            "_view_name": "LayoutView",
            "align_content": null,
            "align_items": null,
            "align_self": null,
            "border": null,
            "bottom": null,
            "display": null,
            "flex": null,
            "flex_flow": null,
            "grid_area": null,
            "grid_auto_columns": null,
            "grid_auto_flow": null,
            "grid_auto_rows": null,
            "grid_column": null,
            "grid_gap": null,
            "grid_row": null,
            "grid_template_areas": null,
            "grid_template_columns": null,
            "grid_template_rows": null,
            "height": null,
            "justify_content": null,
            "justify_items": null,
            "left": null,
            "margin": null,
            "max_height": null,
            "max_width": null,
            "min_height": null,
            "min_width": null,
            "object_fit": null,
            "object_position": null,
            "order": null,
            "overflow": null,
            "overflow_x": null,
            "overflow_y": null,
            "padding": null,
            "right": null,
            "top": null,
            "visibility": null,
            "width": null
          }
        },
        "b0f9e9b32e9d4217aa8007b872534596": {
          "model_module": "@jupyter-widgets/controls",
          "model_name": "ProgressStyleModel",
          "model_module_version": "1.5.0",
          "state": {
            "_model_module": "@jupyter-widgets/controls",
            "_model_module_version": "1.5.0",
            "_model_name": "ProgressStyleModel",
            "_view_count": null,
            "_view_module": "@jupyter-widgets/base",
            "_view_module_version": "1.2.0",
            "_view_name": "StyleView",
            "bar_color": null,
            "description_width": ""
          }
        },
        "94e8731d1c7f4049b28b08a26ef0edd0": {
          "model_module": "@jupyter-widgets/base",
          "model_name": "LayoutModel",
          "model_module_version": "1.2.0",
          "state": {
            "_model_module": "@jupyter-widgets/base",
            "_model_module_version": "1.2.0",
            "_model_name": "LayoutModel",
            "_view_count": null,
            "_view_module": "@jupyter-widgets/base",
            "_view_module_version": "1.2.0",
            "_view_name": "LayoutView",
            "align_content": null,
            "align_items": null,
            "align_self": null,
            "border": null,
            "bottom": null,
            "display": null,
            "flex": null,
            "flex_flow": null,
            "grid_area": null,
            "grid_auto_columns": null,
            "grid_auto_flow": null,
            "grid_auto_rows": null,
            "grid_column": null,
            "grid_gap": null,
            "grid_row": null,
            "grid_template_areas": null,
            "grid_template_columns": null,
            "grid_template_rows": null,
            "height": null,
            "justify_content": null,
            "justify_items": null,
            "left": null,
            "margin": null,
            "max_height": null,
            "max_width": null,
            "min_height": null,
            "min_width": null,
            "object_fit": null,
            "object_position": null,
            "order": null,
            "overflow": null,
            "overflow_x": null,
            "overflow_y": null,
            "padding": null,
            "right": null,
            "top": null,
            "visibility": null,
            "width": null
          }
        },
        "6a94aba2e9834f1eb70c930e19439a8e": {
          "model_module": "@jupyter-widgets/controls",
          "model_name": "DescriptionStyleModel",
          "model_module_version": "1.5.0",
          "state": {
            "_model_module": "@jupyter-widgets/controls",
            "_model_module_version": "1.5.0",
            "_model_name": "DescriptionStyleModel",
            "_view_count": null,
            "_view_module": "@jupyter-widgets/base",
            "_view_module_version": "1.2.0",
            "_view_name": "StyleView",
            "description_width": ""
          }
        },
        "9f61d61e737841ebb98d04b5ec4271db": {
          "model_module": "@jupyter-widgets/controls",
          "model_name": "HBoxModel",
          "model_module_version": "1.5.0",
          "state": {
            "_dom_classes": [],
            "_model_module": "@jupyter-widgets/controls",
            "_model_module_version": "1.5.0",
            "_model_name": "HBoxModel",
            "_view_count": null,
            "_view_module": "@jupyter-widgets/controls",
            "_view_module_version": "1.5.0",
            "_view_name": "HBoxView",
            "box_style": "",
            "children": [
              "IPY_MODEL_dc05e114ad6e47a2a4714a4f6de20b73",
              "IPY_MODEL_7733bb5de78d49a1864915b50fdf3918",
              "IPY_MODEL_59879ac1f55d42deabac2475fec75876"
            ],
            "layout": "IPY_MODEL_fc83bd2900ab46789a6727119ef76d9c"
          }
        },
        "dc05e114ad6e47a2a4714a4f6de20b73": {
          "model_module": "@jupyter-widgets/controls",
          "model_name": "HTMLModel",
          "model_module_version": "1.5.0",
          "state": {
            "_dom_classes": [],
            "_model_module": "@jupyter-widgets/controls",
            "_model_module_version": "1.5.0",
            "_model_name": "HTMLModel",
            "_view_count": null,
            "_view_module": "@jupyter-widgets/controls",
            "_view_module_version": "1.5.0",
            "_view_name": "HTMLView",
            "description": "",
            "description_tooltip": null,
            "layout": "IPY_MODEL_2007f50eb3474fd28ee01ede862faae2",
            "placeholder": "​",
            "style": "IPY_MODEL_0dc3fb1596064efa8e7f514f34822bd7",
            "value": "Downloading: 100%"
          }
        },
        "7733bb5de78d49a1864915b50fdf3918": {
          "model_module": "@jupyter-widgets/controls",
          "model_name": "FloatProgressModel",
          "model_module_version": "1.5.0",
          "state": {
            "_dom_classes": [],
            "_model_module": "@jupyter-widgets/controls",
            "_model_module_version": "1.5.0",
            "_model_name": "FloatProgressModel",
            "_view_count": null,
            "_view_module": "@jupyter-widgets/controls",
            "_view_module_version": "1.5.0",
            "_view_name": "ProgressView",
            "bar_style": "success",
            "description": "",
            "description_tooltip": null,
            "layout": "IPY_MODEL_815390482a8941d894aa1cedb3cfcdb0",
            "max": 17756393,
            "min": 0,
            "orientation": "horizontal",
            "style": "IPY_MODEL_8c68e1263f4f4f21a34c1bc9f5b105bd",
            "value": 17756393
          }
        },
        "59879ac1f55d42deabac2475fec75876": {
          "model_module": "@jupyter-widgets/controls",
          "model_name": "HTMLModel",
          "model_module_version": "1.5.0",
          "state": {
            "_dom_classes": [],
            "_model_module": "@jupyter-widgets/controls",
            "_model_module_version": "1.5.0",
            "_model_name": "HTMLModel",
            "_view_count": null,
            "_view_module": "@jupyter-widgets/controls",
            "_view_module_version": "1.5.0",
            "_view_name": "HTMLView",
            "description": "",
            "description_tooltip": null,
            "layout": "IPY_MODEL_2f395555a0394e21a7bec887e483e895",
            "placeholder": "​",
            "style": "IPY_MODEL_8415ed202b9e4bc2b71d00f220cb15ea",
            "value": " 17.8M/17.8M [00:00&lt;00:00, 31.6MB/s]"
          }
        },
        "fc83bd2900ab46789a6727119ef76d9c": {
          "model_module": "@jupyter-widgets/base",
          "model_name": "LayoutModel",
          "model_module_version": "1.2.0",
          "state": {
            "_model_module": "@jupyter-widgets/base",
            "_model_module_version": "1.2.0",
            "_model_name": "LayoutModel",
            "_view_count": null,
            "_view_module": "@jupyter-widgets/base",
            "_view_module_version": "1.2.0",
            "_view_name": "LayoutView",
            "align_content": null,
            "align_items": null,
            "align_self": null,
            "border": null,
            "bottom": null,
            "display": null,
            "flex": null,
            "flex_flow": null,
            "grid_area": null,
            "grid_auto_columns": null,
            "grid_auto_flow": null,
            "grid_auto_rows": null,
            "grid_column": null,
            "grid_gap": null,
            "grid_row": null,
            "grid_template_areas": null,
            "grid_template_columns": null,
            "grid_template_rows": null,
            "height": null,
            "justify_content": null,
            "justify_items": null,
            "left": null,
            "margin": null,
            "max_height": null,
            "max_width": null,
            "min_height": null,
            "min_width": null,
            "object_fit": null,
            "object_position": null,
            "order": null,
            "overflow": null,
            "overflow_x": null,
            "overflow_y": null,
            "padding": null,
            "right": null,
            "top": null,
            "visibility": null,
            "width": null
          }
        },
        "2007f50eb3474fd28ee01ede862faae2": {
          "model_module": "@jupyter-widgets/base",
          "model_name": "LayoutModel",
          "model_module_version": "1.2.0",
          "state": {
            "_model_module": "@jupyter-widgets/base",
            "_model_module_version": "1.2.0",
            "_model_name": "LayoutModel",
            "_view_count": null,
            "_view_module": "@jupyter-widgets/base",
            "_view_module_version": "1.2.0",
            "_view_name": "LayoutView",
            "align_content": null,
            "align_items": null,
            "align_self": null,
            "border": null,
            "bottom": null,
            "display": null,
            "flex": null,
            "flex_flow": null,
            "grid_area": null,
            "grid_auto_columns": null,
            "grid_auto_flow": null,
            "grid_auto_rows": null,
            "grid_column": null,
            "grid_gap": null,
            "grid_row": null,
            "grid_template_areas": null,
            "grid_template_columns": null,
            "grid_template_rows": null,
            "height": null,
            "justify_content": null,
            "justify_items": null,
            "left": null,
            "margin": null,
            "max_height": null,
            "max_width": null,
            "min_height": null,
            "min_width": null,
            "object_fit": null,
            "object_position": null,
            "order": null,
            "overflow": null,
            "overflow_x": null,
            "overflow_y": null,
            "padding": null,
            "right": null,
            "top": null,
            "visibility": null,
            "width": null
          }
        },
        "0dc3fb1596064efa8e7f514f34822bd7": {
          "model_module": "@jupyter-widgets/controls",
          "model_name": "DescriptionStyleModel",
          "model_module_version": "1.5.0",
          "state": {
            "_model_module": "@jupyter-widgets/controls",
            "_model_module_version": "1.5.0",
            "_model_name": "DescriptionStyleModel",
            "_view_count": null,
            "_view_module": "@jupyter-widgets/base",
            "_view_module_version": "1.2.0",
            "_view_name": "StyleView",
            "description_width": ""
          }
        },
        "815390482a8941d894aa1cedb3cfcdb0": {
          "model_module": "@jupyter-widgets/base",
          "model_name": "LayoutModel",
          "model_module_version": "1.2.0",
          "state": {
            "_model_module": "@jupyter-widgets/base",
            "_model_module_version": "1.2.0",
            "_model_name": "LayoutModel",
            "_view_count": null,
            "_view_module": "@jupyter-widgets/base",
            "_view_module_version": "1.2.0",
            "_view_name": "LayoutView",
            "align_content": null,
            "align_items": null,
            "align_self": null,
            "border": null,
            "bottom": null,
            "display": null,
            "flex": null,
            "flex_flow": null,
            "grid_area": null,
            "grid_auto_columns": null,
            "grid_auto_flow": null,
            "grid_auto_rows": null,
            "grid_column": null,
            "grid_gap": null,
            "grid_row": null,
            "grid_template_areas": null,
            "grid_template_columns": null,
            "grid_template_rows": null,
            "height": null,
            "justify_content": null,
            "justify_items": null,
            "left": null,
            "margin": null,
            "max_height": null,
            "max_width": null,
            "min_height": null,
            "min_width": null,
            "object_fit": null,
            "object_position": null,
            "order": null,
            "overflow": null,
            "overflow_x": null,
            "overflow_y": null,
            "padding": null,
            "right": null,
            "top": null,
            "visibility": null,
            "width": null
          }
        },
        "8c68e1263f4f4f21a34c1bc9f5b105bd": {
          "model_module": "@jupyter-widgets/controls",
          "model_name": "ProgressStyleModel",
          "model_module_version": "1.5.0",
          "state": {
            "_model_module": "@jupyter-widgets/controls",
            "_model_module_version": "1.5.0",
            "_model_name": "ProgressStyleModel",
            "_view_count": null,
            "_view_module": "@jupyter-widgets/base",
            "_view_module_version": "1.2.0",
            "_view_name": "StyleView",
            "bar_color": null,
            "description_width": ""
          }
        },
        "2f395555a0394e21a7bec887e483e895": {
          "model_module": "@jupyter-widgets/base",
          "model_name": "LayoutModel",
          "model_module_version": "1.2.0",
          "state": {
            "_model_module": "@jupyter-widgets/base",
            "_model_module_version": "1.2.0",
            "_model_name": "LayoutModel",
            "_view_count": null,
            "_view_module": "@jupyter-widgets/base",
            "_view_module_version": "1.2.0",
            "_view_name": "LayoutView",
            "align_content": null,
            "align_items": null,
            "align_self": null,
            "border": null,
            "bottom": null,
            "display": null,
            "flex": null,
            "flex_flow": null,
            "grid_area": null,
            "grid_auto_columns": null,
            "grid_auto_flow": null,
            "grid_auto_rows": null,
            "grid_column": null,
            "grid_gap": null,
            "grid_row": null,
            "grid_template_areas": null,
            "grid_template_columns": null,
            "grid_template_rows": null,
            "height": null,
            "justify_content": null,
            "justify_items": null,
            "left": null,
            "margin": null,
            "max_height": null,
            "max_width": null,
            "min_height": null,
            "min_width": null,
            "object_fit": null,
            "object_position": null,
            "order": null,
            "overflow": null,
            "overflow_x": null,
            "overflow_y": null,
            "padding": null,
            "right": null,
            "top": null,
            "visibility": null,
            "width": null
          }
        },
        "8415ed202b9e4bc2b71d00f220cb15ea": {
          "model_module": "@jupyter-widgets/controls",
          "model_name": "DescriptionStyleModel",
          "model_module_version": "1.5.0",
          "state": {
            "_model_module": "@jupyter-widgets/controls",
            "_model_module_version": "1.5.0",
            "_model_name": "DescriptionStyleModel",
            "_view_count": null,
            "_view_module": "@jupyter-widgets/base",
            "_view_module_version": "1.2.0",
            "_view_name": "StyleView",
            "description_width": ""
          }
        },
        "a4832b4620364bdd95267d1d44ad5915": {
          "model_module": "@jupyter-widgets/controls",
          "model_name": "HBoxModel",
          "model_module_version": "1.5.0",
          "state": {
            "_dom_classes": [],
            "_model_module": "@jupyter-widgets/controls",
            "_model_module_version": "1.5.0",
            "_model_name": "HBoxModel",
            "_view_count": null,
            "_view_module": "@jupyter-widgets/controls",
            "_view_module_version": "1.5.0",
            "_view_name": "HBoxView",
            "box_style": "",
            "children": [
              "IPY_MODEL_755531683e424019ad4270ba254d80ad",
              "IPY_MODEL_9176f3a0adc24d049c468295088767ef",
              "IPY_MODEL_fc1156e99cf3419a82660000c7b59d68"
            ],
            "layout": "IPY_MODEL_e6360890318442d4b05e2c589035a7cc"
          }
        },
        "755531683e424019ad4270ba254d80ad": {
          "model_module": "@jupyter-widgets/controls",
          "model_name": "HTMLModel",
          "model_module_version": "1.5.0",
          "state": {
            "_dom_classes": [],
            "_model_module": "@jupyter-widgets/controls",
            "_model_module_version": "1.5.0",
            "_model_name": "HTMLModel",
            "_view_count": null,
            "_view_module": "@jupyter-widgets/controls",
            "_view_module_version": "1.5.0",
            "_view_name": "HTMLView",
            "description": "",
            "description_tooltip": null,
            "layout": "IPY_MODEL_aa2f06c313ae41b296a0efd01e2598ca",
            "placeholder": "​",
            "style": "IPY_MODEL_97cdb886d1304855bb7fb4ac61bb90c0",
            "value": "Downloading: 100%"
          }
        },
        "9176f3a0adc24d049c468295088767ef": {
          "model_module": "@jupyter-widgets/controls",
          "model_name": "FloatProgressModel",
          "model_module_version": "1.5.0",
          "state": {
            "_dom_classes": [],
            "_model_module": "@jupyter-widgets/controls",
            "_model_module_version": "1.5.0",
            "_model_name": "FloatProgressModel",
            "_view_count": null,
            "_view_module": "@jupyter-widgets/controls",
            "_view_module_version": "1.5.0",
            "_view_name": "ProgressView",
            "bar_style": "success",
            "description": "",
            "description_tooltip": null,
            "layout": "IPY_MODEL_c62b228512ac4875a97190c4ed7f387b",
            "max": 231508,
            "min": 0,
            "orientation": "horizontal",
            "style": "IPY_MODEL_5037c05fb5044be9b4616e6cc60e2c86",
            "value": 231508
          }
        },
        "fc1156e99cf3419a82660000c7b59d68": {
          "model_module": "@jupyter-widgets/controls",
          "model_name": "HTMLModel",
          "model_module_version": "1.5.0",
          "state": {
            "_dom_classes": [],
            "_model_module": "@jupyter-widgets/controls",
            "_model_module_version": "1.5.0",
            "_model_name": "HTMLModel",
            "_view_count": null,
            "_view_module": "@jupyter-widgets/controls",
            "_view_module_version": "1.5.0",
            "_view_name": "HTMLView",
            "description": "",
            "description_tooltip": null,
            "layout": "IPY_MODEL_f2f181d072d44be8ae3474acc66f79e5",
            "placeholder": "​",
            "style": "IPY_MODEL_2b8a2cba877b4f92ba41c0a1f72cf16c",
            "value": " 232k/232k [00:00&lt;00:00, 353kB/s]"
          }
        },
        "e6360890318442d4b05e2c589035a7cc": {
          "model_module": "@jupyter-widgets/base",
          "model_name": "LayoutModel",
          "model_module_version": "1.2.0",
          "state": {
            "_model_module": "@jupyter-widgets/base",
            "_model_module_version": "1.2.0",
            "_model_name": "LayoutModel",
            "_view_count": null,
            "_view_module": "@jupyter-widgets/base",
            "_view_module_version": "1.2.0",
            "_view_name": "LayoutView",
            "align_content": null,
            "align_items": null,
            "align_self": null,
            "border": null,
            "bottom": null,
            "display": null,
            "flex": null,
            "flex_flow": null,
            "grid_area": null,
            "grid_auto_columns": null,
            "grid_auto_flow": null,
            "grid_auto_rows": null,
            "grid_column": null,
            "grid_gap": null,
            "grid_row": null,
            "grid_template_areas": null,
            "grid_template_columns": null,
            "grid_template_rows": null,
            "height": null,
            "justify_content": null,
            "justify_items": null,
            "left": null,
            "margin": null,
            "max_height": null,
            "max_width": null,
            "min_height": null,
            "min_width": null,
            "object_fit": null,
            "object_position": null,
            "order": null,
            "overflow": null,
            "overflow_x": null,
            "overflow_y": null,
            "padding": null,
            "right": null,
            "top": null,
            "visibility": null,
            "width": null
          }
        },
        "aa2f06c313ae41b296a0efd01e2598ca": {
          "model_module": "@jupyter-widgets/base",
          "model_name": "LayoutModel",
          "model_module_version": "1.2.0",
          "state": {
            "_model_module": "@jupyter-widgets/base",
            "_model_module_version": "1.2.0",
            "_model_name": "LayoutModel",
            "_view_count": null,
            "_view_module": "@jupyter-widgets/base",
            "_view_module_version": "1.2.0",
            "_view_name": "LayoutView",
            "align_content": null,
            "align_items": null,
            "align_self": null,
            "border": null,
            "bottom": null,
            "display": null,
            "flex": null,
            "flex_flow": null,
            "grid_area": null,
            "grid_auto_columns": null,
            "grid_auto_flow": null,
            "grid_auto_rows": null,
            "grid_column": null,
            "grid_gap": null,
            "grid_row": null,
            "grid_template_areas": null,
            "grid_template_columns": null,
            "grid_template_rows": null,
            "height": null,
            "justify_content": null,
            "justify_items": null,
            "left": null,
            "margin": null,
            "max_height": null,
            "max_width": null,
            "min_height": null,
            "min_width": null,
            "object_fit": null,
            "object_position": null,
            "order": null,
            "overflow": null,
            "overflow_x": null,
            "overflow_y": null,
            "padding": null,
            "right": null,
            "top": null,
            "visibility": null,
            "width": null
          }
        },
        "97cdb886d1304855bb7fb4ac61bb90c0": {
          "model_module": "@jupyter-widgets/controls",
          "model_name": "DescriptionStyleModel",
          "model_module_version": "1.5.0",
          "state": {
            "_model_module": "@jupyter-widgets/controls",
            "_model_module_version": "1.5.0",
            "_model_name": "DescriptionStyleModel",
            "_view_count": null,
            "_view_module": "@jupyter-widgets/base",
            "_view_module_version": "1.2.0",
            "_view_name": "StyleView",
            "description_width": ""
          }
        },
        "c62b228512ac4875a97190c4ed7f387b": {
          "model_module": "@jupyter-widgets/base",
          "model_name": "LayoutModel",
          "model_module_version": "1.2.0",
          "state": {
            "_model_module": "@jupyter-widgets/base",
            "_model_module_version": "1.2.0",
            "_model_name": "LayoutModel",
            "_view_count": null,
            "_view_module": "@jupyter-widgets/base",
            "_view_module_version": "1.2.0",
            "_view_name": "LayoutView",
            "align_content": null,
            "align_items": null,
            "align_self": null,
            "border": null,
            "bottom": null,
            "display": null,
            "flex": null,
            "flex_flow": null,
            "grid_area": null,
            "grid_auto_columns": null,
            "grid_auto_flow": null,
            "grid_auto_rows": null,
            "grid_column": null,
            "grid_gap": null,
            "grid_row": null,
            "grid_template_areas": null,
            "grid_template_columns": null,
            "grid_template_rows": null,
            "height": null,
            "justify_content": null,
            "justify_items": null,
            "left": null,
            "margin": null,
            "max_height": null,
            "max_width": null,
            "min_height": null,
            "min_width": null,
            "object_fit": null,
            "object_position": null,
            "order": null,
            "overflow": null,
            "overflow_x": null,
            "overflow_y": null,
            "padding": null,
            "right": null,
            "top": null,
            "visibility": null,
            "width": null
          }
        },
        "5037c05fb5044be9b4616e6cc60e2c86": {
          "model_module": "@jupyter-widgets/controls",
          "model_name": "ProgressStyleModel",
          "model_module_version": "1.5.0",
          "state": {
            "_model_module": "@jupyter-widgets/controls",
            "_model_module_version": "1.5.0",
            "_model_name": "ProgressStyleModel",
            "_view_count": null,
            "_view_module": "@jupyter-widgets/base",
            "_view_module_version": "1.2.0",
            "_view_name": "StyleView",
            "bar_color": null,
            "description_width": ""
          }
        },
        "f2f181d072d44be8ae3474acc66f79e5": {
          "model_module": "@jupyter-widgets/base",
          "model_name": "LayoutModel",
          "model_module_version": "1.2.0",
          "state": {
            "_model_module": "@jupyter-widgets/base",
            "_model_module_version": "1.2.0",
            "_model_name": "LayoutModel",
            "_view_count": null,
            "_view_module": "@jupyter-widgets/base",
            "_view_module_version": "1.2.0",
            "_view_name": "LayoutView",
            "align_content": null,
            "align_items": null,
            "align_self": null,
            "border": null,
            "bottom": null,
            "display": null,
            "flex": null,
            "flex_flow": null,
            "grid_area": null,
            "grid_auto_columns": null,
            "grid_auto_flow": null,
            "grid_auto_rows": null,
            "grid_column": null,
            "grid_gap": null,
            "grid_row": null,
            "grid_template_areas": null,
            "grid_template_columns": null,
            "grid_template_rows": null,
            "height": null,
            "justify_content": null,
            "justify_items": null,
            "left": null,
            "margin": null,
            "max_height": null,
            "max_width": null,
            "min_height": null,
            "min_width": null,
            "object_fit": null,
            "object_position": null,
            "order": null,
            "overflow": null,
            "overflow_x": null,
            "overflow_y": null,
            "padding": null,
            "right": null,
            "top": null,
            "visibility": null,
            "width": null
          }
        },
        "2b8a2cba877b4f92ba41c0a1f72cf16c": {
          "model_module": "@jupyter-widgets/controls",
          "model_name": "DescriptionStyleModel",
          "model_module_version": "1.5.0",
          "state": {
            "_model_module": "@jupyter-widgets/controls",
            "_model_module_version": "1.5.0",
            "_model_name": "DescriptionStyleModel",
            "_view_count": null,
            "_view_module": "@jupyter-widgets/base",
            "_view_module_version": "1.2.0",
            "_view_name": "StyleView",
            "description_width": ""
          }
        }
      }
    }
  },
  "cells": [
    {
      "cell_type": "markdown",
      "metadata": {
        "id": "view-in-github"
      },
      "source": [
        "<a href=\"https://colab.research.google.com/github/crux82/ganbert-pytorch/blob/main/GANBERT_pytorch.ipynb\" target=\"_parent\"><img src=\"https://colab.research.google.com/assets/colab-badge.svg\" alt=\"Open In Colab\"/></a>"
      ]
    },
    {
      "cell_type": "markdown",
      "metadata": {
        "id": "fUpqAwtN8rTA"
      },
      "source": [
        "# GAN-BERT-Tiny (in Pytorch and compatible with HuggingFace)\n",
        "\n",
        "This is a Pytorch (+ **Huggingface** transformers) implementation of the GAN-BERT model from https://github.com/crux82/ganbert. While the original GAN-BERT was an extension of BERT, this implementation can be adapted to several architectures, ranging from Roberta to Albert!\n",
        "\n",
        "**NOTE**: given that this implementation is different from the original one in Tensorflow, some results can be slighty different.\n"
      ]
    },
    {
      "cell_type": "markdown",
      "metadata": {
        "id": "Q0m5KR34gmRH"
      },
      "source": [
        "Let's GO!\n",
        "\n",
        "Required Imports."
      ]
    },
    {
      "cell_type": "markdown",
      "source": [
        "## Importing Library"
      ],
      "metadata": {
        "id": "_QNqyjz1Fq-x"
      }
    },
    {
      "cell_type": "code",
      "metadata": {
        "colab": {
          "base_uri": "https://localhost:8080/"
        },
        "id": "UIqpm34x2rms",
        "outputId": "f49c47d2-23ca-4fe9-fb4d-d0256deda6b4"
      },
      "source": [
        "!pip install transformers==4.3.2\n",
        "import torch\n",
        "import io\n",
        "import torch.nn.functional as F\n",
        "import random\n",
        "import numpy as np\n",
        "import time\n",
        "import math\n",
        "import datetime\n",
        "import torch.nn as nn\n",
        "from transformers import *\n",
        "from torch.utils.data import TensorDataset, DataLoader, RandomSampler, SequentialSampler\n",
        "#!pip install torch==1.7.1+cu101 torchvision==0.8.2+cu101 -f https://download.pytorch.org/whl/torch_stable.html\n",
        "#!pip install sentencepiece\n",
        "\n",
        "##Set random values\n",
        "seed_val = 42\n",
        "random.seed(seed_val)\n",
        "np.random.seed(seed_val)\n",
        "torch.manual_seed(seed_val)\n",
        "if torch.cuda.is_available():\n",
        "  torch.cuda.manual_seed_all(seed_val)"
      ],
      "execution_count": 1,
      "outputs": [
        {
          "output_type": "stream",
          "name": "stdout",
          "text": [
            "Looking in indexes: https://pypi.org/simple, https://us-python.pkg.dev/colab-wheels/public/simple/\n",
            "Collecting transformers==4.3.2\n",
            "  Downloading transformers-4.3.2-py3-none-any.whl (1.8 MB)\n",
            "\u001b[K     |████████████████████████████████| 1.8 MB 4.2 MB/s \n",
            "\u001b[?25hRequirement already satisfied: tqdm>=4.27 in /usr/local/lib/python3.7/dist-packages (from transformers==4.3.2) (4.64.0)\n",
            "Requirement already satisfied: packaging in /usr/local/lib/python3.7/dist-packages (from transformers==4.3.2) (21.3)\n",
            "Requirement already satisfied: numpy>=1.17 in /usr/local/lib/python3.7/dist-packages (from transformers==4.3.2) (1.21.6)\n",
            "Requirement already satisfied: requests in /usr/local/lib/python3.7/dist-packages (from transformers==4.3.2) (2.23.0)\n",
            "Collecting sacremoses\n",
            "  Downloading sacremoses-0.0.53.tar.gz (880 kB)\n",
            "\u001b[K     |████████████████████████████████| 880 kB 34.8 MB/s \n",
            "\u001b[?25hRequirement already satisfied: filelock in /usr/local/lib/python3.7/dist-packages (from transformers==4.3.2) (3.7.0)\n",
            "Collecting tokenizers<0.11,>=0.10.1\n",
            "  Downloading tokenizers-0.10.3-cp37-cp37m-manylinux_2_5_x86_64.manylinux1_x86_64.manylinux_2_12_x86_64.manylinux2010_x86_64.whl (3.3 MB)\n",
            "\u001b[K     |████████████████████████████████| 3.3 MB 23.3 MB/s \n",
            "\u001b[?25hRequirement already satisfied: regex!=2019.12.17 in /usr/local/lib/python3.7/dist-packages (from transformers==4.3.2) (2019.12.20)\n",
            "Requirement already satisfied: importlib-metadata in /usr/local/lib/python3.7/dist-packages (from transformers==4.3.2) (4.11.4)\n",
            "Requirement already satisfied: zipp>=0.5 in /usr/local/lib/python3.7/dist-packages (from importlib-metadata->transformers==4.3.2) (3.8.0)\n",
            "Requirement already satisfied: typing-extensions>=3.6.4 in /usr/local/lib/python3.7/dist-packages (from importlib-metadata->transformers==4.3.2) (4.2.0)\n",
            "Requirement already satisfied: pyparsing!=3.0.5,>=2.0.2 in /usr/local/lib/python3.7/dist-packages (from packaging->transformers==4.3.2) (3.0.9)\n",
            "Requirement already satisfied: idna<3,>=2.5 in /usr/local/lib/python3.7/dist-packages (from requests->transformers==4.3.2) (2.10)\n",
            "Requirement already satisfied: chardet<4,>=3.0.2 in /usr/local/lib/python3.7/dist-packages (from requests->transformers==4.3.2) (3.0.4)\n",
            "Requirement already satisfied: certifi>=2017.4.17 in /usr/local/lib/python3.7/dist-packages (from requests->transformers==4.3.2) (2022.5.18.1)\n",
            "Requirement already satisfied: urllib3!=1.25.0,!=1.25.1,<1.26,>=1.21.1 in /usr/local/lib/python3.7/dist-packages (from requests->transformers==4.3.2) (1.24.3)\n",
            "Requirement already satisfied: six in /usr/local/lib/python3.7/dist-packages (from sacremoses->transformers==4.3.2) (1.15.0)\n",
            "Requirement already satisfied: click in /usr/local/lib/python3.7/dist-packages (from sacremoses->transformers==4.3.2) (7.1.2)\n",
            "Requirement already satisfied: joblib in /usr/local/lib/python3.7/dist-packages (from sacremoses->transformers==4.3.2) (1.1.0)\n",
            "Building wheels for collected packages: sacremoses\n",
            "  Building wheel for sacremoses (setup.py) ... \u001b[?25l\u001b[?25hdone\n",
            "  Created wheel for sacremoses: filename=sacremoses-0.0.53-py3-none-any.whl size=895260 sha256=c8083309f5413f5bd6ed57d667187cc140209ed21e9c31597416b51dc41c6137\n",
            "  Stored in directory: /root/.cache/pip/wheels/87/39/dd/a83eeef36d0bf98e7a4d1933a4ad2d660295a40613079bafc9\n",
            "Successfully built sacremoses\n",
            "Installing collected packages: tokenizers, sacremoses, transformers\n",
            "Successfully installed sacremoses-0.0.53 tokenizers-0.10.3 transformers-4.3.2\n"
          ]
        }
      ]
    },
    {
      "cell_type": "markdown",
      "source": [
        "## Mounting Drive"
      ],
      "metadata": {
        "id": "Xk68mMDHFuT_"
      }
    },
    {
      "cell_type": "code",
      "source": [
        "from google.colab import drive\n",
        "drive.mount('/content/gdrive')"
      ],
      "metadata": {
        "colab": {
          "base_uri": "https://localhost:8080/"
        },
        "id": "u8wV81hUXIPz",
        "outputId": "5137ec50-7a10-4626-8e75-1bfbe7c04173"
      },
      "execution_count": 2,
      "outputs": [
        {
          "output_type": "stream",
          "name": "stdout",
          "text": [
            "Mounted at /content/gdrive\n"
          ]
        }
      ]
    },
    {
      "cell_type": "code",
      "source": [
        "%cd \"/content/gdrive/My Drive/GAN-BERT/data_CLINC150\""
      ],
      "metadata": {
        "colab": {
          "base_uri": "https://localhost:8080/"
        },
        "id": "Fo5-RJvBXOkl",
        "outputId": "e162c1c9-6f00-41db-a4f6-6b969662300c"
      },
      "execution_count": 3,
      "outputs": [
        {
          "output_type": "stream",
          "name": "stdout",
          "text": [
            "/content/gdrive/My Drive/GAN-BERT/data_CLINC150\n"
          ]
        }
      ]
    },
    {
      "cell_type": "code",
      "source": [
        "import os\n",
        "os.listdir('./')"
      ],
      "metadata": {
        "colab": {
          "base_uri": "https://localhost:8080/"
        },
        "id": "fpJT4toCXyul",
        "outputId": "b0e14f28-9eea-4f85-8ed9-f4181e1ffb0c"
      },
      "execution_count": 4,
      "outputs": [
        {
          "output_type": "execute_result",
          "data": {
            "text/plain": [
              "['Data_Preparation.ipynb',\n",
              " 'data_full.json',\n",
              " '10_90',\n",
              " '.ipynb_checkpoints',\n",
              " '20_80',\n",
              " '40_60',\n",
              " 'ganbert',\n",
              " '1_99',\n",
              " '2_98',\n",
              " '5_95',\n",
              " '50_50',\n",
              " '30_70',\n",
              " 'test.tsv',\n",
              " 'test_OOS.tsv']"
            ]
          },
          "metadata": {},
          "execution_count": 4
        }
      ]
    },
    {
      "cell_type": "code",
      "metadata": {
        "id": "LeZgRup520II",
        "colab": {
          "base_uri": "https://localhost:8080/"
        },
        "outputId": "1e49e78d-3230-4cdf-9189-c0b9329d5d03"
      },
      "source": [
        "# If there's a GPU available...\n",
        "if torch.cuda.is_available():    \n",
        "    # Tell PyTorch to use the GPU.    \n",
        "    device = torch.device(\"cuda\")\n",
        "    print('There are %d GPU(s) available.' % torch.cuda.device_count())\n",
        "    print('We will use the GPU:', torch.cuda.get_device_name(0))\n",
        "# If not...\n",
        "else:\n",
        "    print('No GPU available, using the CPU instead.')\n",
        "    device = torch.device(\"cpu\")"
      ],
      "execution_count": 5,
      "outputs": [
        {
          "output_type": "stream",
          "name": "stdout",
          "text": [
            "There are 1 GPU(s) available.\n",
            "We will use the GPU: Tesla P100-PCIE-16GB\n"
          ]
        }
      ]
    },
    {
      "cell_type": "markdown",
      "metadata": {
        "id": "AU3ns8Ic7I-h"
      },
      "source": [
        "### Input Parameters\n"
      ]
    },
    {
      "cell_type": "code",
      "metadata": {
        "id": "jw0HC_hU3FUy",
        "colab": {
          "base_uri": "https://localhost:8080/"
        },
        "outputId": "a4e39749-0352-4600-abd9-404bce06d958"
      },
      "source": [
        "#--------------------------------\n",
        "#  Transformer parameters\n",
        "#--------------------------------\n",
        "max_seq_length = 64\n",
        "batch_size = 64\n",
        "\n",
        "#--------------------------------\n",
        "#  GAN-BERT specific parameters\n",
        "#--------------------------------\n",
        "# number of hidden layers in the generator, \n",
        "# each of the size of the output space\n",
        "num_hidden_layers_g = 1; \n",
        "# number of hidden layers in the discriminator, \n",
        "# each of the size of the input space\n",
        "num_hidden_layers_d = 1; \n",
        "# size of the generator's input noisy vectors\n",
        "noise_size = 100\n",
        "# dropout to be applied to discriminator's input vectors\n",
        "out_dropout_rate = 0.2\n",
        "\n",
        "# Replicate labeled data to balance poorly represented datasets, \n",
        "# e.g., less than 1% of labeled material\n",
        "apply_balance = True\n",
        "\n",
        "#--------------------------------\n",
        "#  Optimization parameters\n",
        "#--------------------------------\n",
        "learning_rate_discriminator = 5e-5\n",
        "learning_rate_generator = 5e-5\n",
        "epsilon = 1e-8\n",
        "num_train_epochs = 5\n",
        "multi_gpu = True\n",
        "# Scheduler\n",
        "apply_scheduler = False\n",
        "warmup_proportion = 0.1\n",
        "# Print\n",
        "print_each_n_step = 10\n",
        "\n",
        "#--------------------------------\n",
        "#  Adopted Tranformer model\n",
        "#--------------------------------\n",
        "# Since this version is compatible with Huggingface transformers, you can uncomment\n",
        "# (or add) transformer models compatible with GAN\n",
        "\n",
        "#model_name = \"bert-base-cased\"\n",
        "#model_name = \"bert-base-uncased\"\n",
        "#model_name = \"roberta-base\"\n",
        "#model_name = \"albert-base-v2\"\n",
        "#model_name = \"xlm-roberta-base\"\n",
        "#model_name = \"amazon/bort\"\n",
        "model_name = \"prajjwal1/bert-tiny\"\n",
        "\n",
        "\n",
        "#--------------------------------\n",
        "#  Retrieve the TREC QC Dataset\n",
        "#--------------------------------\n",
        "! git clone https://github.com/crux82/ganbert\n",
        "\n",
        "#  NOTE: in this setting 50 classes are involved\n",
        "labeled_file = \"./ganbert/data/labeled.tsv\"\n",
        "unlabeled_file = \"./ganbert/data/unlabeled.tsv\"\n",
        "test_filename = \"./ganbert/data/test.tsv\"\n",
        "\n",
        "#label_list = [\"UNK_UNK\",\"ABBR_abb\", \"ABBR_exp\", \"DESC_def\", \"DESC_desc\", \n",
        "#              \"DESC_manner\", \"DESC_reason\", \"ENTY_animal\", \"ENTY_body\", \n",
        "#              \"ENTY_color\", \"ENTY_cremat\", \"ENTY_currency\", \"ENTY_dismed\", \n",
        "#              \"ENTY_event\", \"ENTY_food\", \"ENTY_instru\", \"ENTY_lang\", \n",
        "#              \"ENTY_letter\", \"ENTY_other\", \"ENTY_plant\", \"ENTY_product\", \n",
        "#              \"ENTY_religion\", \"ENTY_sport\", \"ENTY_substance\", \"ENTY_symbol\", \n",
        "#              \"ENTY_techmeth\", \"ENTY_termeq\", \"ENTY_veh\", \"ENTY_word\", \"HUM_desc\", \n",
        "#              \"HUM_gr\", \"HUM_ind\", \"HUM_title\", \"LOC_city\", \"LOC_country\", \n",
        "#              \"LOC_mount\", \"LOC_other\", \"LOC_state\", \"NUM_code\", \"NUM_count\", \n",
        "#              \"NUM_date\", \"NUM_dist\", \"NUM_money\", \"NUM_ord\", \"NUM_other\", \n",
        "#              \"NUM_perc\", \"NUM_period\", \"NUM_speed\", \"NUM_temp\", \"NUM_volsize\", \n",
        "#              \"NUM_weight\"]\n",
        "\n",
        "label_list = ['UNK_UNK','translate', 'transfer', 'timer', 'definition', 'meaning_of_life',\n",
        "       'insurance_change', 'find_phone', 'travel_alert', 'pto_request',\n",
        "       'improve_credit_score', 'fun_fact', 'change_language', 'payday',\n",
        "       'replacement_card_duration', 'time', 'application_status',\n",
        "       'flight_status', 'flip_coin', 'change_user_name',\n",
        "       'where_are_you_from', 'shopping_list_update', 'what_can_i_ask_you',\n",
        "       'maybe', 'oil_change_how', 'restaurant_reservation', 'balance',\n",
        "       'confirm_reservation', 'freeze_account', 'rollover_401k',\n",
        "       'who_made_you', 'distance', 'user_name', 'timezone', 'next_song',\n",
        "       'transactions', 'restaurant_suggestion', 'rewards_balance',\n",
        "       'pay_bill', 'spending_history', 'pto_request_status',\n",
        "       'credit_score', 'new_card', 'lost_luggage', 'repeat', 'mpg',\n",
        "       'oil_change_when', 'yes', 'travel_suggestion', 'insurance',\n",
        "       'todo_list_update', 'reminder', 'change_speed', 'tire_pressure',\n",
        "       'no', 'apr', 'nutrition_info', 'calendar', 'uber', 'calculator',\n",
        "       'date', 'carry_on', 'pto_used', 'schedule_maintenance',\n",
        "       'travel_notification', 'sync_device', 'thank_you', 'roll_dice',\n",
        "       'food_last', 'cook_time', 'reminder_update', 'report_lost_card',\n",
        "       'ingredient_substitution', 'make_call', 'alarm', 'todo_list',\n",
        "       'change_accent', 'w2', 'bill_due', 'calories', 'damaged_card',\n",
        "       'restaurant_reviews', 'routing', 'do_you_have_pets',\n",
        "       'schedule_meeting', 'gas_type', 'plug_type', 'tire_change',\n",
        "       'exchange_rate', 'next_holiday', 'change_volume',\n",
        "       'who_do_you_work_for', 'credit_limit', 'how_busy',\n",
        "       'accept_reservations', 'order_status', 'pin_change', 'goodbye',\n",
        "       'account_blocked', 'what_song', 'international_fees',\n",
        "       'last_maintenance', 'meeting_schedule', 'ingredients_list',\n",
        "       'report_fraud', 'measurement_conversion', 'smart_home',\n",
        "       'book_hotel', 'current_location', 'weather', 'taxes',\n",
        "       'min_payment', 'whisper_mode', 'cancel', 'international_visa',\n",
        "       'vaccines', 'pto_balance', 'directions', 'spelling', 'greeting',\n",
        "       'reset_settings', 'what_is_your_name', 'direct_deposit',\n",
        "       'interest_rate', 'credit_limit_change', 'what_are_your_hobbies',\n",
        "       'book_flight', 'shopping_list', 'text', 'bill_balance',\n",
        "       'share_location', 'redeem_rewards', 'play_music',\n",
        "       'calendar_update', 'are_you_a_bot', 'gas', 'expiration_date',\n",
        "       'update_playlist', 'cancel_reservation', 'tell_joke',\n",
        "       'change_ai_name', 'how_old_are_you', 'car_rental', 'jump_start',\n",
        "       'meal_suggestion', 'recipe', 'income', 'order', 'traffic',\n",
        "       'order_checks', 'card_declined']"
      ],
      "execution_count": 6,
      "outputs": [
        {
          "output_type": "stream",
          "name": "stdout",
          "text": [
            "fatal: destination path 'ganbert' already exists and is not an empty directory.\n"
          ]
        }
      ]
    },
    {
      "cell_type": "code",
      "source": [
        "labeled_examples = None\n",
        "unlabeled_examples = None\n",
        "test_examples = None"
      ],
      "metadata": {
        "id": "VPPZXi50MQq0"
      },
      "execution_count": 7,
      "outputs": []
    },
    {
      "cell_type": "markdown",
      "metadata": {
        "id": "R6Q5jzVioTHb"
      },
      "source": [
        "## Load the Tranformer Model"
      ]
    },
    {
      "cell_type": "code",
      "metadata": {
        "id": "gxghkkZq3Gbn",
        "outputId": "1706b530-1c77-43b9-adc0-285d9f5ab0af",
        "colab": {
          "base_uri": "https://localhost:8080/",
          "height": 113,
          "referenced_widgets": [
            "fba9c9e3c38a4a8e93f16e6314dd8efa",
            "d27fa0cbfda34ff2a3822261af1ac595",
            "f2a2cff89a614f60af043828ca71b4de",
            "bbf737e503984a118f87f5e18b2a42ca",
            "32831caebcf84fe6bd97b0cdd54fe35f",
            "840f397bf7e84664b973503b8348dfb1",
            "39fb357adfb04920bb5bd9a94a604117",
            "e0712aaa356c4fc4ac754b23c706a923",
            "b0f9e9b32e9d4217aa8007b872534596",
            "94e8731d1c7f4049b28b08a26ef0edd0",
            "6a94aba2e9834f1eb70c930e19439a8e",
            "9f61d61e737841ebb98d04b5ec4271db",
            "dc05e114ad6e47a2a4714a4f6de20b73",
            "7733bb5de78d49a1864915b50fdf3918",
            "59879ac1f55d42deabac2475fec75876",
            "fc83bd2900ab46789a6727119ef76d9c",
            "2007f50eb3474fd28ee01ede862faae2",
            "0dc3fb1596064efa8e7f514f34822bd7",
            "815390482a8941d894aa1cedb3cfcdb0",
            "8c68e1263f4f4f21a34c1bc9f5b105bd",
            "2f395555a0394e21a7bec887e483e895",
            "8415ed202b9e4bc2b71d00f220cb15ea",
            "a4832b4620364bdd95267d1d44ad5915",
            "755531683e424019ad4270ba254d80ad",
            "9176f3a0adc24d049c468295088767ef",
            "fc1156e99cf3419a82660000c7b59d68",
            "e6360890318442d4b05e2c589035a7cc",
            "aa2f06c313ae41b296a0efd01e2598ca",
            "97cdb886d1304855bb7fb4ac61bb90c0",
            "c62b228512ac4875a97190c4ed7f387b",
            "5037c05fb5044be9b4616e6cc60e2c86",
            "f2f181d072d44be8ae3474acc66f79e5",
            "2b8a2cba877b4f92ba41c0a1f72cf16c"
          ]
        }
      },
      "source": [
        "transformer = AutoModel.from_pretrained(model_name)\n",
        "tokenizer = AutoTokenizer.from_pretrained(model_name)"
      ],
      "execution_count": 8,
      "outputs": [
        {
          "output_type": "display_data",
          "data": {
            "text/plain": [
              "Downloading:   0%|          | 0.00/285 [00:00<?, ?B/s]"
            ],
            "application/vnd.jupyter.widget-view+json": {
              "version_major": 2,
              "version_minor": 0,
              "model_id": "fba9c9e3c38a4a8e93f16e6314dd8efa"
            }
          },
          "metadata": {}
        },
        {
          "output_type": "display_data",
          "data": {
            "text/plain": [
              "Downloading:   0%|          | 0.00/17.8M [00:00<?, ?B/s]"
            ],
            "application/vnd.jupyter.widget-view+json": {
              "version_major": 2,
              "version_minor": 0,
              "model_id": "9f61d61e737841ebb98d04b5ec4271db"
            }
          },
          "metadata": {}
        },
        {
          "output_type": "display_data",
          "data": {
            "text/plain": [
              "Downloading:   0%|          | 0.00/232k [00:00<?, ?B/s]"
            ],
            "application/vnd.jupyter.widget-view+json": {
              "version_major": 2,
              "version_minor": 0,
              "model_id": "a4832b4620364bdd95267d1d44ad5915"
            }
          },
          "metadata": {}
        }
      ]
    },
    {
      "cell_type": "markdown",
      "metadata": {
        "id": "rd_ixn5qn_zV"
      },
      "source": [
        "## Function required to load the dataset"
      ]
    },
    {
      "cell_type": "code",
      "metadata": {
        "id": "W7cP8q7K3BId"
      },
      "source": [
        "def get_qc_examples(input_file):\n",
        "  \"\"\"Creates examples for the training and dev sets.\"\"\"\n",
        "  examples = []\n",
        "\n",
        "  with open(input_file, 'r') as f:\n",
        "      contents = f.read()\n",
        "      file_as_list = contents.splitlines()\n",
        "      for line in file_as_list[1:]:\n",
        "          split = line.split(\" \")\n",
        "          statement = ' '.join(split[1:])\n",
        "\n",
        "          text_a = statement\n",
        "          label = split[0] \n",
        "          examples.append((text_a, label))\n",
        "      f.close()\n",
        "\n",
        "  return examples"
      ],
      "execution_count": 9,
      "outputs": []
    },
    {
      "cell_type": "markdown",
      "metadata": {
        "id": "K43tOavNqib4"
      },
      "source": [
        "##**Load** the input QC dataset (fine-grained)"
      ]
    },
    {
      "cell_type": "code",
      "metadata": {
        "id": "cXCwFyF2qhw7"
      },
      "source": [
        "#Load the examples\n",
        "def load_the_input_dataset():\n",
        "  labeled_examples = get_qc_examples(labeled_file)\n",
        "  unlabeled_examples = get_qc_examples(unlabeled_file)\n",
        "  test_examples = get_qc_examples(test_filename)\n",
        "  return labeled_examples, unlabeled_examples, test_examples"
      ],
      "execution_count": 10,
      "outputs": []
    },
    {
      "cell_type": "markdown",
      "metadata": {
        "id": "JBhaW5vBfR6B"
      },
      "source": [
        "##Functions required to convert examples into Dataloader"
      ]
    },
    {
      "cell_type": "code",
      "metadata": {
        "id": "fmKL5AD7I4Zg"
      },
      "source": [
        "def generate_data_loader(input_examples, label_masks, label_map, do_shuffle = False, balance_label_examples = False):\n",
        "  '''\n",
        "  Generate a Dataloader given the input examples, eventually masked if they are \n",
        "  to be considered NOT labeled.\n",
        "  '''\n",
        "  examples = []\n",
        "\n",
        "  # Count the percentage of labeled examples  \n",
        "  num_labeled_examples = 0\n",
        "  for label_mask in label_masks:\n",
        "    if label_mask: \n",
        "      num_labeled_examples += 1\n",
        "  label_mask_rate = num_labeled_examples/len(input_examples)\n",
        "\n",
        "  # if required it applies the balance\n",
        "  for index, ex in enumerate(input_examples): \n",
        "    if label_mask_rate == 1 or not balance_label_examples:\n",
        "      examples.append((ex, label_masks[index]))\n",
        "    else:\n",
        "      # IT SIMULATE A LABELED EXAMPLE\n",
        "      if label_masks[index]:\n",
        "        balance = int(1/label_mask_rate)\n",
        "        balance = int(math.log(balance,2))\n",
        "        if balance < 1:\n",
        "          balance = 1\n",
        "        for b in range(0, int(balance)):\n",
        "          examples.append((ex, label_masks[index]))\n",
        "      else:\n",
        "        examples.append((ex, label_masks[index]))\n",
        "  \n",
        "  #-----------------------------------------------\n",
        "  # Generate input examples to the Transformer\n",
        "  #-----------------------------------------------\n",
        "  input_ids = []\n",
        "  input_mask_array = []\n",
        "  label_mask_array = []\n",
        "  label_id_array = []\n",
        "\n",
        "  # Tokenization \n",
        "  for (text, label_mask) in examples:\n",
        "    encoded_sent = tokenizer.encode(text[0], add_special_tokens=True, max_length=max_seq_length, padding=\"max_length\", truncation=True)\n",
        "    input_ids.append(encoded_sent)\n",
        "    label_id_array.append(label_map[text[1]])\n",
        "    label_mask_array.append(label_mask)\n",
        "  \n",
        "  # Attention to token (to ignore padded input wordpieces)\n",
        "  for sent in input_ids:\n",
        "    att_mask = [int(token_id > 0) for token_id in sent]                          \n",
        "    input_mask_array.append(att_mask)\n",
        "  # Convertion to Tensor\n",
        "  input_ids = torch.tensor(input_ids) \n",
        "  input_mask_array = torch.tensor(input_mask_array)\n",
        "  label_id_array = torch.tensor(label_id_array, dtype=torch.long)\n",
        "  label_mask_array = torch.tensor(label_mask_array)\n",
        "\n",
        "  # Building the TensorDataset\n",
        "  dataset = TensorDataset(input_ids, input_mask_array, label_id_array, label_mask_array)\n",
        "\n",
        "  if do_shuffle:\n",
        "    sampler = RandomSampler\n",
        "  else:\n",
        "    sampler = SequentialSampler\n",
        "\n",
        "  # Building the DataLoader\n",
        "  return DataLoader(\n",
        "              dataset,  # The training samples.\n",
        "              sampler = sampler(dataset), \n",
        "              batch_size = batch_size) # Trains with this batch size.\n",
        "\n",
        "def format_time(elapsed):\n",
        "    '''\n",
        "    Takes a time in seconds and returns a string hh:mm:ss\n",
        "    '''\n",
        "    # Round to the nearest second.\n",
        "    elapsed_rounded = int(round((elapsed)))\n",
        "    # Format as hh:mm:ss\n",
        "    return str(datetime.timedelta(seconds=elapsed_rounded))"
      ],
      "execution_count": 11,
      "outputs": []
    },
    {
      "cell_type": "markdown",
      "metadata": {
        "id": "Do3O-VeefT3g"
      },
      "source": [
        "##Convert the input examples into DataLoader"
      ]
    },
    {
      "cell_type": "code",
      "metadata": {
        "id": "4c-nsMXlKX-D"
      },
      "source": [
        "def convert_input_examples_to_dataloader(label_list):\n",
        "  label_map = {}\n",
        "  for (i, label) in enumerate(label_list):\n",
        "    label_map[label] = i\n",
        "  #------------------------------\n",
        "  #   Load the train dataset\n",
        "  #------------------------------\n",
        "  train_examples = labeled_examples\n",
        "  #The labeled (train) dataset is assigned with a mask set to True\n",
        "  train_label_masks = np.ones(len(labeled_examples), dtype=bool)\n",
        "  #If unlabel examples are available\n",
        "  if unlabeled_examples:\n",
        "    train_examples = train_examples + unlabeled_examples\n",
        "    #The unlabeled (train) dataset is assigned with a mask set to False\n",
        "    tmp_masks = np.zeros(len(unlabeled_examples), dtype=bool)\n",
        "    train_label_masks = np.concatenate([train_label_masks,tmp_masks])\n",
        "\n",
        "  train_dataloader = generate_data_loader(train_examples, train_label_masks, label_map, do_shuffle = True, balance_label_examples = apply_balance)\n",
        "\n",
        "  #------------------------------\n",
        "  #   Load the test dataset\n",
        "  #------------------------------\n",
        "  #The labeled (test) dataset is assigned with a mask set to True\n",
        "  test_label_masks = np.ones(len(test_examples), dtype=bool)\n",
        "\n",
        "  test_dataloader = generate_data_loader(test_examples, test_label_masks, label_map, do_shuffle = False, balance_label_examples = False)\n",
        "  return test_dataloader, train_dataloader, train_examples"
      ],
      "execution_count": 12,
      "outputs": []
    },
    {
      "cell_type": "markdown",
      "metadata": {
        "id": "6Ihcw3vquaQm"
      },
      "source": [
        "## Generator and Discriminator definition\n",
        "We define the Generator and Discriminator as discussed in https://www.aclweb.org/anthology/2020.acl-main.191/"
      ]
    },
    {
      "cell_type": "code",
      "metadata": {
        "id": "18kY64-n3I6y"
      },
      "source": [
        "#------------------------------\n",
        "#   The Generator as in \n",
        "#   https://www.aclweb.org/anthology/2020.acl-main.191/\n",
        "#   https://github.com/crux82/ganbert\n",
        "#------------------------------\n",
        "class Generator(nn.Module):\n",
        "    def __init__(self, noise_size=100, output_size=512, hidden_sizes=[512], dropout_rate=0.1):\n",
        "        super(Generator, self).__init__()\n",
        "        layers = []\n",
        "        hidden_sizes = [noise_size] + hidden_sizes\n",
        "        for i in range(len(hidden_sizes)-1):\n",
        "            layers.extend([nn.Linear(hidden_sizes[i], hidden_sizes[i+1]), nn.LeakyReLU(0.2, inplace=True), nn.Dropout(dropout_rate)])\n",
        "\n",
        "        layers.append(nn.Linear(hidden_sizes[-1],output_size))\n",
        "        self.layers = nn.Sequential(*layers)\n",
        "\n",
        "    def forward(self, noise):\n",
        "        output_rep = self.layers(noise)\n",
        "        return output_rep\n",
        "\n",
        "#------------------------------\n",
        "#   The Discriminator\n",
        "#   https://www.aclweb.org/anthology/2020.acl-main.191/\n",
        "#   https://github.com/crux82/ganbert\n",
        "#------------------------------\n",
        "class Discriminator(nn.Module):\n",
        "    def __init__(self, input_size=512, hidden_sizes=[512], num_labels=2, dropout_rate=0.1):\n",
        "        super(Discriminator, self).__init__()\n",
        "        self.input_dropout = nn.Dropout(p=dropout_rate)\n",
        "        layers = []\n",
        "        hidden_sizes = [input_size] + hidden_sizes\n",
        "        for i in range(len(hidden_sizes)-1):\n",
        "            layers.extend([nn.Linear(hidden_sizes[i], hidden_sizes[i+1]), nn.LeakyReLU(0.2, inplace=True), nn.Dropout(dropout_rate)])\n",
        "\n",
        "        self.layers = nn.Sequential(*layers) #per il flatten\n",
        "        self.logit = nn.Linear(hidden_sizes[-1],num_labels+1) # +1 for the probability of this sample being fake/real.\n",
        "        self.softmax = nn.Softmax(dim=-1)\n",
        "\n",
        "    def forward(self, input_rep):\n",
        "        input_rep = self.input_dropout(input_rep)\n",
        "        last_rep = self.layers(input_rep)\n",
        "        logits = self.logit(last_rep)\n",
        "        probs = self.softmax(logits)\n",
        "        return last_rep, logits, probs"
      ],
      "execution_count": 13,
      "outputs": []
    },
    {
      "cell_type": "markdown",
      "metadata": {
        "id": "Uje9s2zQunFc"
      },
      "source": [
        "##We instantiate the Discriminator and Generator"
      ]
    },
    {
      "cell_type": "code",
      "metadata": {
        "id": "Ylz5rvqE3U2S"
      },
      "source": [
        "def instantiate_discriminator_and_generator(transformer):\n",
        "  # The config file is required to get the dimension of the vector produced by \n",
        "  # the underlying transformer\n",
        "  config = AutoConfig.from_pretrained(model_name)\n",
        "  hidden_size = int(config.hidden_size)\n",
        "  # Define the number and width of hidden layers\n",
        "  hidden_levels_g = [hidden_size for i in range(0, num_hidden_layers_g)]\n",
        "  hidden_levels_d = [hidden_size for i in range(0, num_hidden_layers_d)]\n",
        "\n",
        "  #-------------------------------------------------\n",
        "  #   Instantiate the Generator and Discriminator\n",
        "  #-------------------------------------------------\n",
        "  generator = Generator(noise_size=noise_size, output_size=hidden_size, hidden_sizes=hidden_levels_g, dropout_rate=out_dropout_rate)\n",
        "  discriminator = Discriminator(input_size=hidden_size, hidden_sizes=hidden_levels_d, num_labels=len(label_list), dropout_rate=out_dropout_rate)\n",
        "\n",
        "  # Put everything in the GPU if available\n",
        "  if torch.cuda.is_available():    \n",
        "    generator.cuda()\n",
        "    discriminator.cuda()\n",
        "    transformer.cuda()\n",
        "    if multi_gpu:\n",
        "      transformer = torch.nn.DataParallel(transformer)\n",
        "\n",
        "  # print(config)\n",
        "  return generator, discriminator"
      ],
      "execution_count": 14,
      "outputs": []
    },
    {
      "cell_type": "markdown",
      "metadata": {
        "id": "VG3qzp2-usZE"
      },
      "source": [
        "##Training procedure starting method\n",
        "Let's go with the training procedure"
      ]
    },
    {
      "cell_type": "code",
      "metadata": {
        "id": "NhqylHGK3Va4"
      },
      "source": [
        "def training_procedure_start(test_dataloader, train_dataloader, train_examples, generator, discriminator):\n",
        "  training_stats = []\n",
        "\n",
        "  # Measure the total training time for the whole run.\n",
        "  total_t0 = time.time()\n",
        "\n",
        "  #models parameters\n",
        "  transformer_vars = [i for i in transformer.parameters()]\n",
        "  d_vars = transformer_vars + [v for v in discriminator.parameters()]\n",
        "  g_vars = [v for v in generator.parameters()]\n",
        "\n",
        "  #optimizer\n",
        "  dis_optimizer = torch.optim.AdamW(d_vars, lr=learning_rate_discriminator)\n",
        "  gen_optimizer = torch.optim.AdamW(g_vars, lr=learning_rate_generator) \n",
        "\n",
        "  #scheduler\n",
        "  if apply_scheduler:\n",
        "    num_train_examples = len(train_examples)\n",
        "    num_train_steps = int(num_train_examples / batch_size * num_train_epochs)\n",
        "    num_warmup_steps = int(num_train_steps * warmup_proportion)\n",
        "\n",
        "    scheduler_d = get_constant_schedule_with_warmup(dis_optimizer, \n",
        "                                            num_warmup_steps = num_warmup_steps)\n",
        "    scheduler_g = get_constant_schedule_with_warmup(gen_optimizer, \n",
        "                                            num_warmup_steps = num_warmup_steps)\n",
        "\n",
        "  # For each epoch...\n",
        "  for epoch_i in range(0, num_train_epochs):\n",
        "      # ========================================\n",
        "      #               Training\n",
        "      # ========================================\n",
        "      # Perform one full pass over the training set.\n",
        "      print(\"\")\n",
        "      print('======== Epoch {:} / {:} ========'.format(epoch_i + 1, num_train_epochs))\n",
        "      print('Training...')\n",
        "\n",
        "      # Measure how long the training epoch takes.\n",
        "      t0 = time.time()\n",
        "\n",
        "      # Reset the total loss for this epoch.\n",
        "      tr_g_loss = 0\n",
        "      tr_d_loss = 0\n",
        "\n",
        "      # Put the model into training mode.\n",
        "      transformer.train() \n",
        "      generator.train()\n",
        "      discriminator.train()\n",
        "\n",
        "      # For each batch of training data...\n",
        "      for step, batch in enumerate(train_dataloader):\n",
        "\n",
        "          # Progress update every print_each_n_step batches.\n",
        "          if step % print_each_n_step == 0 and not step == 0:\n",
        "              # Calculate elapsed time in minutes.\n",
        "              elapsed = format_time(time.time() - t0)\n",
        "              \n",
        "              # Report progress.\n",
        "              print('  Batch {:>5,}  of  {:>5,}.    Elapsed: {:}.'.format(step, len(train_dataloader), elapsed))\n",
        "\n",
        "          # Unpack this training batch from our dataloader. \n",
        "          b_input_ids = batch[0].to(\"cuda:0\") \n",
        "          b_input_mask = batch[1].to(\"cuda:0\")\n",
        "          b_labels = batch[2].to(\"cuda:0\")\n",
        "          b_label_mask = batch[3].to(\"cuda:0\")\n",
        "\n",
        "          real_batch_size = b_input_ids.shape[0]\n",
        "      \n",
        "          # Encode real data in the Transformer\n",
        "          model_outputs = transformer(b_input_ids, attention_mask=b_input_mask)\n",
        "          hidden_states = model_outputs[-1]\n",
        "          \n",
        "          # Generate fake data that should have the same distribution of the ones\n",
        "          # encoded by the transformer. \n",
        "          # First noisy input are used in input to the Generator\n",
        "          noise = torch.zeros(real_batch_size, noise_size, device=device).uniform_(0, 1)\n",
        "          # Gnerate Fake data\n",
        "          gen_rep = generator(noise)\n",
        "\n",
        "          # Generate the output of the Discriminator for real and fake data.\n",
        "          # First, we put together the output of the tranformer and the generator\n",
        "          disciminator_input = torch.cat([hidden_states, gen_rep], dim=0)\n",
        "          # Then, we select the output of the disciminator\n",
        "          features, logits, probs = discriminator(disciminator_input)\n",
        "\n",
        "          # Finally, we separate the discriminator's output for the real and fake\n",
        "          # data\n",
        "          features_list = torch.split(features, real_batch_size)\n",
        "          D_real_features = features_list[0]\n",
        "          D_fake_features = features_list[1]\n",
        "        \n",
        "          logits_list = torch.split(logits, real_batch_size)\n",
        "          D_real_logits = logits_list[0]\n",
        "          D_fake_logits = logits_list[1]\n",
        "          \n",
        "          probs_list = torch.split(probs, real_batch_size)\n",
        "          D_real_probs = probs_list[0]\n",
        "          D_fake_probs = probs_list[1]\n",
        "\n",
        "          #---------------------------------\n",
        "          #  LOSS evaluation\n",
        "          #---------------------------------\n",
        "          # Generator's LOSS estimation\n",
        "          g_loss_d = -1 * torch.mean(torch.log(1 - D_fake_probs[:,-1] + epsilon))\n",
        "          g_feat_reg = torch.mean(torch.pow(torch.mean(D_real_features, dim=0) - torch.mean(D_fake_features, dim=0), 2))\n",
        "          g_loss = g_loss_d + g_feat_reg\n",
        "    \n",
        "          # Disciminator's LOSS estimation\n",
        "          logits = D_real_logits[:,0:-1]\n",
        "          log_probs = F.log_softmax(logits, dim=-1)\n",
        "          # The discriminator provides an output for labeled and unlabeled real data\n",
        "          # so the loss evaluated for unlabeled data is ignored (masked)\n",
        "          label2one_hot = torch.nn.functional.one_hot(b_labels, len(label_list))\n",
        "          per_example_loss = -torch.sum(label2one_hot * log_probs, dim=-1)\n",
        "          per_example_loss = torch.masked_select(per_example_loss, b_label_mask.to(device))\n",
        "          labeled_example_count = per_example_loss.type(torch.float32).numel()\n",
        "\n",
        "          # It may be the case that a batch does not contain labeled examples, \n",
        "          # so the \"supervised loss\" in this case is not evaluated\n",
        "          if labeled_example_count == 0:\n",
        "            D_L_Supervised = 0\n",
        "          else:\n",
        "            D_L_Supervised = torch.div(torch.sum(per_example_loss.to(device)), labeled_example_count)\n",
        "                  \n",
        "          D_L_unsupervised1U = -1 * torch.mean(torch.log(1 - D_real_probs[:, -1] + epsilon))\n",
        "          D_L_unsupervised2U = -1 * torch.mean(torch.log(D_fake_probs[:, -1] + epsilon))\n",
        "          d_loss = D_L_Supervised + D_L_unsupervised1U + D_L_unsupervised2U\n",
        "\n",
        "          #---------------------------------\n",
        "          #  OPTIMIZATION\n",
        "          #---------------------------------\n",
        "          # Avoid gradient accumulation\n",
        "          gen_optimizer.zero_grad()\n",
        "          dis_optimizer.zero_grad()\n",
        "\n",
        "          # Calculate weigth updates\n",
        "          # retain_graph=True is required since the underlying graph will be deleted after backward\n",
        "          g_loss.backward(retain_graph=True)\n",
        "          d_loss.backward() \n",
        "          \n",
        "          # Apply modifications\n",
        "          gen_optimizer.step()\n",
        "          dis_optimizer.step()\n",
        "\n",
        "          # A detail log of the individual losses\n",
        "          #print(\"{0:.4f}\\t{1:.4f}\\t{2:.4f}\\t{3:.4f}\\t{4:.4f}\".\n",
        "          #      format(D_L_Supervised, D_L_unsupervised1U, D_L_unsupervised2U,\n",
        "          #             g_loss_d, g_feat_reg))\n",
        "\n",
        "          # Save the losses to print them later\n",
        "          tr_g_loss += g_loss.item()\n",
        "          tr_d_loss += d_loss.item()\n",
        "\n",
        "          # Update the learning rate with the scheduler\n",
        "          if apply_scheduler:\n",
        "            scheduler_d.step()\n",
        "            scheduler_g.step()\n",
        "\n",
        "      # Calculate the average loss over all of the batches.\n",
        "      avg_train_loss_g = tr_g_loss / len(train_dataloader)\n",
        "      avg_train_loss_d = tr_d_loss / len(train_dataloader)             \n",
        "      \n",
        "      # Measure how long this epoch took.\n",
        "      training_time = format_time(time.time() - t0)\n",
        "\n",
        "      print(\"\")\n",
        "      print(\"  Average training loss generetor: {0:.3f}\".format(avg_train_loss_g))\n",
        "      print(\"  Average training loss discriminator: {0:.3f}\".format(avg_train_loss_d))\n",
        "      print(\"  Training epcoh took: {:}\".format(training_time))\n",
        "          \n",
        "      # ========================================\n",
        "      #     TEST ON THE EVALUATION DATASET\n",
        "      # ========================================\n",
        "      # After the completion of each training epoch, measure our performance on\n",
        "      # our test set.\n",
        "      print(\"\")\n",
        "      print(\"Running Test...\")\n",
        "\n",
        "      t0 = time.time()\n",
        "\n",
        "      # Put the model in evaluation mode--the dropout layers behave differently\n",
        "      # during evaluation.\n",
        "      transformer.eval() #maybe redundant\n",
        "      discriminator.eval()\n",
        "      generator.eval()\n",
        "\n",
        "      # Tracking variables \n",
        "      total_test_accuracy = 0\n",
        "    \n",
        "      total_test_loss = 0\n",
        "      nb_test_steps = 0\n",
        "\n",
        "      all_preds = []\n",
        "      all_labels_ids = []\n",
        "\n",
        "      #loss\n",
        "      nll_loss = torch.nn.CrossEntropyLoss(ignore_index=-1)\n",
        "\n",
        "      # Evaluate data for one epoch\n",
        "      for batch in test_dataloader:\n",
        "          \n",
        "          # Unpack this training batch from our dataloader. \n",
        "          b_input_ids = batch[0].to(device)\n",
        "          b_input_mask = batch[1].to(device)\n",
        "          b_labels = batch[2].to(device)\n",
        "          \n",
        "          # Tell pytorch not to bother with constructing the compute graph during\n",
        "          # the forward pass, since this is only needed for backprop (training).\n",
        "          with torch.no_grad():        \n",
        "              model_outputs = transformer(b_input_ids, attention_mask=b_input_mask)\n",
        "              hidden_states = model_outputs[-1]\n",
        "              _, logits, probs = discriminator(hidden_states)\n",
        "              ###log_probs = F.log_softmax(probs[:,1:], dim=-1)\n",
        "              filtered_logits = logits[:,0:-1]\n",
        "              # Accumulate the test loss.\n",
        "              total_test_loss += nll_loss(filtered_logits, b_labels)\n",
        "              \n",
        "          # Accumulate the predictions and the input labels\n",
        "          _, preds = torch.max(filtered_logits, 1)\n",
        "          all_preds += preds.detach().cpu()\n",
        "          all_labels_ids += b_labels.detach().cpu()\n",
        "\n",
        "      # Report the final accuracy for this validation run.\n",
        "      all_preds = torch.stack(all_preds).numpy()\n",
        "      all_labels_ids = torch.stack(all_labels_ids).numpy()\n",
        "      test_accuracy = np.sum(all_preds == all_labels_ids) / len(all_preds)\n",
        "      print(\"  Accuracy: {0:.3f}\".format(test_accuracy))\n",
        "\n",
        "      # Calculate the average loss over all of the batches.\n",
        "      avg_test_loss = total_test_loss / len(test_dataloader)\n",
        "      avg_test_loss = avg_test_loss.item()\n",
        "      \n",
        "      # Measure how long the validation run took.\n",
        "      test_time = format_time(time.time() - t0)\n",
        "      \n",
        "      print(\"  Test Loss: {0:.3f}\".format(avg_test_loss))\n",
        "      print(\"  Test took: {:}\".format(test_time))\n",
        "\n",
        "      # Record all statistics from this epoch.\n",
        "      training_stats.append(\n",
        "          {\n",
        "              'epoch': epoch_i + 1,\n",
        "              'Training Loss generator': avg_train_loss_g,\n",
        "              'Training Loss discriminator': avg_train_loss_d,\n",
        "              'Valid. Loss': avg_test_loss,\n",
        "              'Valid. Accur.': test_accuracy,\n",
        "              'Training Time': training_time,\n",
        "              'Test Time': test_time\n",
        "          }\n",
        "      )\n",
        "  return training_stats, total_t0"
      ],
      "execution_count": 15,
      "outputs": []
    },
    {
      "cell_type": "markdown",
      "source": [
        "##Training complete visualization"
      ],
      "metadata": {
        "id": "eTX0HOHaGUJq"
      }
    },
    {
      "cell_type": "code",
      "metadata": {
        "id": "dDm9NProRB4c"
      },
      "source": [
        "def training_procedure_completion_print(training_stats, total_t0):\n",
        "  for stat in training_stats:\n",
        "    print(stat)\n",
        "\n",
        "  print(\"\\nTraining complete!\")\n",
        "\n",
        "  print(\"Total training took {:} (h:mm:ss)\".format(format_time(time.time()-total_t0)))"
      ],
      "execution_count": 16,
      "outputs": []
    },
    {
      "cell_type": "markdown",
      "source": [
        "##10_90"
      ],
      "metadata": {
        "id": "uznO9TEJ_98f"
      }
    },
    {
      "cell_type": "code",
      "source": [
        "labeled_file = \"./10_90/labeled.tsv\"\n",
        "unlabeled_file = \"./10_90/unlabeled.tsv\"\n",
        "test_filename = \"./10_90/test.tsv\""
      ],
      "metadata": {
        "id": "GWdiy94-Xuvo"
      },
      "execution_count": 17,
      "outputs": []
    },
    {
      "cell_type": "code",
      "source": [
        "labeled_examples, unlabeled_examples, test_examples = load_the_input_dataset()"
      ],
      "metadata": {
        "id": "iCOTa8n4YwN2"
      },
      "execution_count": 18,
      "outputs": []
    },
    {
      "cell_type": "code",
      "source": [
        "len(labeled_examples)"
      ],
      "metadata": {
        "colab": {
          "base_uri": "https://localhost:8080/"
        },
        "id": "zxNXQddnluA-",
        "outputId": "6d9a4cfe-4b13-42f7-b89b-227180a593c2"
      },
      "execution_count": 19,
      "outputs": [
        {
          "output_type": "execute_result",
          "data": {
            "text/plain": [
              "1500"
            ]
          },
          "metadata": {},
          "execution_count": 19
        }
      ]
    },
    {
      "cell_type": "code",
      "source": [
        "len(unlabeled_examples)"
      ],
      "metadata": {
        "colab": {
          "base_uri": "https://localhost:8080/"
        },
        "id": "IVOC5uMomrbm",
        "outputId": "6638f552-4d45-4f8a-99ae-70d7f875e4f6"
      },
      "execution_count": 20,
      "outputs": [
        {
          "output_type": "execute_result",
          "data": {
            "text/plain": [
              "13500"
            ]
          },
          "metadata": {},
          "execution_count": 20
        }
      ]
    },
    {
      "cell_type": "code",
      "source": [
        "test_dataloader, train_dataloader, train_examples = convert_input_examples_to_dataloader(label_list)"
      ],
      "metadata": {
        "id": "qaGcL4-rm1ZW"
      },
      "execution_count": 21,
      "outputs": []
    },
    {
      "cell_type": "code",
      "source": [
        "generator, discriminator = instantiate_discriminator_and_generator(transformer)"
      ],
      "metadata": {
        "id": "3xNHljrEptEh"
      },
      "execution_count": 22,
      "outputs": []
    },
    {
      "cell_type": "code",
      "source": [
        "training_stats, total_t0 = training_procedure_start(test_dataloader, train_dataloader, train_examples, generator, discriminator)"
      ],
      "metadata": {
        "colab": {
          "base_uri": "https://localhost:8080/"
        },
        "id": "hWP5yxE0p0jR",
        "outputId": "0596626f-05cd-4463-9950-d46f492c657e"
      },
      "execution_count": 23,
      "outputs": [
        {
          "output_type": "stream",
          "name": "stdout",
          "text": [
            "\n",
            "======== Epoch 1 / 5 ========\n",
            "Training...\n",
            "  Batch    10  of    282.    Elapsed: 0:00:00.\n",
            "  Batch    20  of    282.    Elapsed: 0:00:01.\n",
            "  Batch    30  of    282.    Elapsed: 0:00:01.\n",
            "  Batch    40  of    282.    Elapsed: 0:00:01.\n",
            "  Batch    50  of    282.    Elapsed: 0:00:01.\n",
            "  Batch    60  of    282.    Elapsed: 0:00:02.\n",
            "  Batch    70  of    282.    Elapsed: 0:00:02.\n",
            "  Batch    80  of    282.    Elapsed: 0:00:02.\n",
            "  Batch    90  of    282.    Elapsed: 0:00:02.\n",
            "  Batch   100  of    282.    Elapsed: 0:00:03.\n",
            "  Batch   110  of    282.    Elapsed: 0:00:03.\n",
            "  Batch   120  of    282.    Elapsed: 0:00:03.\n",
            "  Batch   130  of    282.    Elapsed: 0:00:03.\n",
            "  Batch   140  of    282.    Elapsed: 0:00:04.\n",
            "  Batch   150  of    282.    Elapsed: 0:00:04.\n",
            "  Batch   160  of    282.    Elapsed: 0:00:04.\n",
            "  Batch   170  of    282.    Elapsed: 0:00:04.\n",
            "  Batch   180  of    282.    Elapsed: 0:00:05.\n",
            "  Batch   190  of    282.    Elapsed: 0:00:05.\n",
            "  Batch   200  of    282.    Elapsed: 0:00:05.\n",
            "  Batch   210  of    282.    Elapsed: 0:00:06.\n",
            "  Batch   220  of    282.    Elapsed: 0:00:06.\n",
            "  Batch   230  of    282.    Elapsed: 0:00:06.\n",
            "  Batch   240  of    282.    Elapsed: 0:00:06.\n",
            "  Batch   250  of    282.    Elapsed: 0:00:07.\n",
            "  Batch   260  of    282.    Elapsed: 0:00:07.\n",
            "  Batch   270  of    282.    Elapsed: 0:00:07.\n",
            "  Batch   280  of    282.    Elapsed: 0:00:07.\n",
            "\n",
            "  Average training loss generetor: 0.368\n",
            "  Average training loss discriminator: 7.736\n",
            "  Training epcoh took: 0:00:07\n",
            "\n",
            "Running Test...\n",
            "  Accuracy: 0.015\n",
            "  Test Loss: 5.003\n",
            "  Test took: 0:00:00\n",
            "\n",
            "======== Epoch 2 / 5 ========\n",
            "Training...\n",
            "  Batch    10  of    282.    Elapsed: 0:00:00.\n",
            "  Batch    20  of    282.    Elapsed: 0:00:01.\n",
            "  Batch    30  of    282.    Elapsed: 0:00:01.\n",
            "  Batch    40  of    282.    Elapsed: 0:00:01.\n",
            "  Batch    50  of    282.    Elapsed: 0:00:01.\n",
            "  Batch    60  of    282.    Elapsed: 0:00:02.\n",
            "  Batch    70  of    282.    Elapsed: 0:00:02.\n",
            "  Batch    80  of    282.    Elapsed: 0:00:02.\n",
            "  Batch    90  of    282.    Elapsed: 0:00:02.\n",
            "  Batch   100  of    282.    Elapsed: 0:00:03.\n",
            "  Batch   110  of    282.    Elapsed: 0:00:03.\n",
            "  Batch   120  of    282.    Elapsed: 0:00:03.\n",
            "  Batch   130  of    282.    Elapsed: 0:00:03.\n",
            "  Batch   140  of    282.    Elapsed: 0:00:04.\n",
            "  Batch   150  of    282.    Elapsed: 0:00:04.\n",
            "  Batch   160  of    282.    Elapsed: 0:00:04.\n",
            "  Batch   170  of    282.    Elapsed: 0:00:04.\n",
            "  Batch   180  of    282.    Elapsed: 0:00:05.\n",
            "  Batch   190  of    282.    Elapsed: 0:00:05.\n",
            "  Batch   200  of    282.    Elapsed: 0:00:05.\n",
            "  Batch   210  of    282.    Elapsed: 0:00:05.\n",
            "  Batch   220  of    282.    Elapsed: 0:00:06.\n",
            "  Batch   230  of    282.    Elapsed: 0:00:06.\n",
            "  Batch   240  of    282.    Elapsed: 0:00:06.\n",
            "  Batch   250  of    282.    Elapsed: 0:00:06.\n",
            "  Batch   260  of    282.    Elapsed: 0:00:07.\n",
            "  Batch   270  of    282.    Elapsed: 0:00:07.\n",
            "  Batch   280  of    282.    Elapsed: 0:00:07.\n",
            "\n",
            "  Average training loss generetor: 0.729\n",
            "  Average training loss discriminator: 5.891\n",
            "  Training epcoh took: 0:00:07\n",
            "\n",
            "Running Test...\n",
            "  Accuracy: 0.054\n",
            "  Test Loss: 4.877\n",
            "  Test took: 0:00:00\n",
            "\n",
            "======== Epoch 3 / 5 ========\n",
            "Training...\n",
            "  Batch    10  of    282.    Elapsed: 0:00:00.\n",
            "  Batch    20  of    282.    Elapsed: 0:00:01.\n",
            "  Batch    30  of    282.    Elapsed: 0:00:01.\n",
            "  Batch    40  of    282.    Elapsed: 0:00:01.\n",
            "  Batch    50  of    282.    Elapsed: 0:00:01.\n",
            "  Batch    60  of    282.    Elapsed: 0:00:02.\n",
            "  Batch    70  of    282.    Elapsed: 0:00:02.\n",
            "  Batch    80  of    282.    Elapsed: 0:00:02.\n",
            "  Batch    90  of    282.    Elapsed: 0:00:02.\n",
            "  Batch   100  of    282.    Elapsed: 0:00:03.\n",
            "  Batch   110  of    282.    Elapsed: 0:00:03.\n",
            "  Batch   120  of    282.    Elapsed: 0:00:03.\n",
            "  Batch   130  of    282.    Elapsed: 0:00:03.\n",
            "  Batch   140  of    282.    Elapsed: 0:00:04.\n",
            "  Batch   150  of    282.    Elapsed: 0:00:04.\n",
            "  Batch   160  of    282.    Elapsed: 0:00:04.\n",
            "  Batch   170  of    282.    Elapsed: 0:00:04.\n",
            "  Batch   180  of    282.    Elapsed: 0:00:05.\n",
            "  Batch   190  of    282.    Elapsed: 0:00:05.\n",
            "  Batch   200  of    282.    Elapsed: 0:00:05.\n",
            "  Batch   210  of    282.    Elapsed: 0:00:05.\n",
            "  Batch   220  of    282.    Elapsed: 0:00:06.\n",
            "  Batch   230  of    282.    Elapsed: 0:00:06.\n",
            "  Batch   240  of    282.    Elapsed: 0:00:06.\n",
            "  Batch   250  of    282.    Elapsed: 0:00:06.\n",
            "  Batch   260  of    282.    Elapsed: 0:00:07.\n",
            "  Batch   270  of    282.    Elapsed: 0:00:07.\n",
            "  Batch   280  of    282.    Elapsed: 0:00:07.\n",
            "\n",
            "  Average training loss generetor: 0.730\n",
            "  Average training loss discriminator: 5.705\n",
            "  Training epcoh took: 0:00:07\n",
            "\n",
            "Running Test...\n",
            "  Accuracy: 0.142\n",
            "  Test Loss: 4.704\n",
            "  Test took: 0:00:00\n",
            "\n",
            "======== Epoch 4 / 5 ========\n",
            "Training...\n",
            "  Batch    10  of    282.    Elapsed: 0:00:00.\n",
            "  Batch    20  of    282.    Elapsed: 0:00:01.\n",
            "  Batch    30  of    282.    Elapsed: 0:00:01.\n",
            "  Batch    40  of    282.    Elapsed: 0:00:01.\n",
            "  Batch    50  of    282.    Elapsed: 0:00:01.\n",
            "  Batch    60  of    282.    Elapsed: 0:00:02.\n",
            "  Batch    70  of    282.    Elapsed: 0:00:02.\n",
            "  Batch    80  of    282.    Elapsed: 0:00:02.\n",
            "  Batch    90  of    282.    Elapsed: 0:00:02.\n",
            "  Batch   100  of    282.    Elapsed: 0:00:03.\n",
            "  Batch   110  of    282.    Elapsed: 0:00:03.\n",
            "  Batch   120  of    282.    Elapsed: 0:00:03.\n",
            "  Batch   130  of    282.    Elapsed: 0:00:03.\n",
            "  Batch   140  of    282.    Elapsed: 0:00:04.\n",
            "  Batch   150  of    282.    Elapsed: 0:00:04.\n",
            "  Batch   160  of    282.    Elapsed: 0:00:04.\n",
            "  Batch   170  of    282.    Elapsed: 0:00:04.\n",
            "  Batch   180  of    282.    Elapsed: 0:00:05.\n",
            "  Batch   190  of    282.    Elapsed: 0:00:05.\n",
            "  Batch   200  of    282.    Elapsed: 0:00:05.\n",
            "  Batch   210  of    282.    Elapsed: 0:00:05.\n",
            "  Batch   220  of    282.    Elapsed: 0:00:06.\n",
            "  Batch   230  of    282.    Elapsed: 0:00:06.\n",
            "  Batch   240  of    282.    Elapsed: 0:00:06.\n",
            "  Batch   250  of    282.    Elapsed: 0:00:06.\n",
            "  Batch   260  of    282.    Elapsed: 0:00:07.\n",
            "  Batch   270  of    282.    Elapsed: 0:00:07.\n",
            "  Batch   280  of    282.    Elapsed: 0:00:07.\n",
            "\n",
            "  Average training loss generetor: 0.733\n",
            "  Average training loss discriminator: 5.483\n",
            "  Training epcoh took: 0:00:07\n",
            "\n",
            "Running Test...\n",
            "  Accuracy: 0.194\n",
            "  Test Loss: 4.493\n",
            "  Test took: 0:00:00\n",
            "\n",
            "======== Epoch 5 / 5 ========\n",
            "Training...\n",
            "  Batch    10  of    282.    Elapsed: 0:00:00.\n",
            "  Batch    20  of    282.    Elapsed: 0:00:01.\n",
            "  Batch    30  of    282.    Elapsed: 0:00:01.\n",
            "  Batch    40  of    282.    Elapsed: 0:00:01.\n",
            "  Batch    50  of    282.    Elapsed: 0:00:01.\n",
            "  Batch    60  of    282.    Elapsed: 0:00:02.\n",
            "  Batch    70  of    282.    Elapsed: 0:00:02.\n",
            "  Batch    80  of    282.    Elapsed: 0:00:02.\n",
            "  Batch    90  of    282.    Elapsed: 0:00:02.\n",
            "  Batch   100  of    282.    Elapsed: 0:00:03.\n",
            "  Batch   110  of    282.    Elapsed: 0:00:03.\n",
            "  Batch   120  of    282.    Elapsed: 0:00:03.\n",
            "  Batch   130  of    282.    Elapsed: 0:00:03.\n",
            "  Batch   140  of    282.    Elapsed: 0:00:04.\n",
            "  Batch   150  of    282.    Elapsed: 0:00:04.\n",
            "  Batch   160  of    282.    Elapsed: 0:00:04.\n",
            "  Batch   170  of    282.    Elapsed: 0:00:04.\n",
            "  Batch   180  of    282.    Elapsed: 0:00:05.\n",
            "  Batch   190  of    282.    Elapsed: 0:00:05.\n",
            "  Batch   200  of    282.    Elapsed: 0:00:05.\n",
            "  Batch   210  of    282.    Elapsed: 0:00:05.\n",
            "  Batch   220  of    282.    Elapsed: 0:00:06.\n",
            "  Batch   230  of    282.    Elapsed: 0:00:06.\n",
            "  Batch   240  of    282.    Elapsed: 0:00:06.\n",
            "  Batch   250  of    282.    Elapsed: 0:00:06.\n",
            "  Batch   260  of    282.    Elapsed: 0:00:07.\n",
            "  Batch   270  of    282.    Elapsed: 0:00:07.\n",
            "  Batch   280  of    282.    Elapsed: 0:00:07.\n",
            "\n",
            "  Average training loss generetor: 0.740\n",
            "  Average training loss discriminator: 5.198\n",
            "  Training epcoh took: 0:00:07\n",
            "\n",
            "Running Test...\n",
            "  Accuracy: 0.265\n",
            "  Test Loss: 4.242\n",
            "  Test took: 0:00:00\n"
          ]
        }
      ]
    },
    {
      "cell_type": "code",
      "source": [
        "training_procedure_completion_print(training_stats, total_t0)"
      ],
      "metadata": {
        "colab": {
          "base_uri": "https://localhost:8080/"
        },
        "id": "Gc-ApVKKvC7E",
        "outputId": "e49c7de2-475e-4f58-d136-d4b0a6f0f7cb"
      },
      "execution_count": 24,
      "outputs": [
        {
          "output_type": "stream",
          "name": "stdout",
          "text": [
            "{'epoch': 1, 'Training Loss generator': 0.36777954390074347, 'Training Loss discriminator': 7.736100731166542, 'Valid. Loss': 5.003377437591553, 'Valid. Accur.': 0.015333333333333332, 'Training Time': '0:00:07', 'Test Time': '0:00:00'}\n",
            "{'epoch': 2, 'Training Loss generator': 0.7288916307560941, 'Training Loss discriminator': 5.8913098007229205, 'Valid. Loss': 4.877008438110352, 'Valid. Accur.': 0.05422222222222222, 'Training Time': '0:00:07', 'Test Time': '0:00:00'}\n",
            "{'epoch': 3, 'Training Loss generator': 0.7301483393138182, 'Training Loss discriminator': 5.705008092501485, 'Valid. Loss': 4.704342365264893, 'Valid. Accur.': 0.14222222222222222, 'Training Time': '0:00:07', 'Test Time': '0:00:00'}\n",
            "{'epoch': 4, 'Training Loss generator': 0.7330079106151635, 'Training Loss discriminator': 5.482651881292357, 'Valid. Loss': 4.493123531341553, 'Valid. Accur.': 0.19444444444444445, 'Training Time': '0:00:07', 'Test Time': '0:00:00'}\n",
            "{'epoch': 5, 'Training Loss generator': 0.7395982691582214, 'Training Loss discriminator': 5.1975193530955215, 'Valid. Loss': 4.242049217224121, 'Valid. Accur.': 0.2648888888888889, 'Training Time': '0:00:07', 'Test Time': '0:00:00'}\n",
            "\n",
            "Training complete!\n",
            "Total training took 0:06:23 (h:mm:ss)\n"
          ]
        }
      ]
    },
    {
      "cell_type": "code",
      "source": [
        "training_stats[-1]"
      ],
      "metadata": {
        "colab": {
          "base_uri": "https://localhost:8080/"
        },
        "id": "mIFKs-q8_Grs",
        "outputId": "a1788f9e-db53-42be-cfd6-b011b7d16751"
      },
      "execution_count": 25,
      "outputs": [
        {
          "output_type": "execute_result",
          "data": {
            "text/plain": [
              "{'Test Time': '0:00:00',\n",
              " 'Training Loss discriminator': 5.1975193530955215,\n",
              " 'Training Loss generator': 0.7395982691582214,\n",
              " 'Training Time': '0:00:07',\n",
              " 'Valid. Accur.': 0.2648888888888889,\n",
              " 'Valid. Loss': 4.242049217224121,\n",
              " 'epoch': 5}"
            ]
          },
          "metadata": {},
          "execution_count": 25
        }
      ]
    },
    {
      "cell_type": "markdown",
      "source": [
        "##20_80"
      ],
      "metadata": {
        "id": "x2sNzMzfC0el"
      }
    },
    {
      "cell_type": "code",
      "source": [
        "labeled_file = \"./20_80/labeled.tsv\"\n",
        "unlabeled_file = \"./20_80/unlabeled.tsv\"\n",
        "test_filename = \"./20_80/test.tsv\""
      ],
      "metadata": {
        "id": "KJbq2AEbDGAw"
      },
      "execution_count": 26,
      "outputs": []
    },
    {
      "cell_type": "code",
      "source": [
        "labeled_examples, unlabeled_examples, test_examples = load_the_input_dataset()"
      ],
      "metadata": {
        "id": "oER6_EOIDGAx"
      },
      "execution_count": 27,
      "outputs": []
    },
    {
      "cell_type": "code",
      "source": [
        "len(labeled_examples)"
      ],
      "metadata": {
        "colab": {
          "base_uri": "https://localhost:8080/"
        },
        "outputId": "1da530cc-cc70-4fbe-aba1-fc8bde74f931",
        "id": "qqlf7W1UDGAy"
      },
      "execution_count": 28,
      "outputs": [
        {
          "output_type": "execute_result",
          "data": {
            "text/plain": [
              "3000"
            ]
          },
          "metadata": {},
          "execution_count": 28
        }
      ]
    },
    {
      "cell_type": "code",
      "source": [
        "len(unlabeled_examples)"
      ],
      "metadata": {
        "colab": {
          "base_uri": "https://localhost:8080/"
        },
        "outputId": "9ad18f57-4fbd-43df-d459-ad149f7ab345",
        "id": "5AEVWhCwDGAy"
      },
      "execution_count": 29,
      "outputs": [
        {
          "output_type": "execute_result",
          "data": {
            "text/plain": [
              "12000"
            ]
          },
          "metadata": {},
          "execution_count": 29
        }
      ]
    },
    {
      "cell_type": "code",
      "source": [
        "len(test_examples)"
      ],
      "metadata": {
        "colab": {
          "base_uri": "https://localhost:8080/"
        },
        "id": "PfhqjSP3E6fO",
        "outputId": "106a5dfb-7b41-4b60-ab7e-bda4a2aba921"
      },
      "execution_count": 30,
      "outputs": [
        {
          "output_type": "execute_result",
          "data": {
            "text/plain": [
              "4500"
            ]
          },
          "metadata": {},
          "execution_count": 30
        }
      ]
    },
    {
      "cell_type": "code",
      "source": [
        "test_dataloader, train_dataloader, train_examples = convert_input_examples_to_dataloader(label_list)"
      ],
      "metadata": {
        "id": "BnoHO_eADGAz"
      },
      "execution_count": 31,
      "outputs": []
    },
    {
      "cell_type": "code",
      "source": [
        "generator, discriminator = instantiate_discriminator_and_generator(transformer)"
      ],
      "metadata": {
        "id": "f5TJtSqPDGAz"
      },
      "execution_count": 32,
      "outputs": []
    },
    {
      "cell_type": "code",
      "source": [
        "training_stats_20, total_t0 = training_procedure_start(test_dataloader, train_dataloader, train_examples, generator, discriminator)"
      ],
      "metadata": {
        "colab": {
          "base_uri": "https://localhost:8080/"
        },
        "outputId": "b9129169-b066-405d-cae3-064affb41890",
        "id": "NxrpXFcwDGAz"
      },
      "execution_count": 33,
      "outputs": [
        {
          "output_type": "stream",
          "name": "stdout",
          "text": [
            "\n",
            "======== Epoch 1 / 5 ========\n",
            "Training...\n",
            "  Batch    10  of    282.    Elapsed: 0:00:00.\n",
            "  Batch    20  of    282.    Elapsed: 0:00:01.\n",
            "  Batch    30  of    282.    Elapsed: 0:00:01.\n",
            "  Batch    40  of    282.    Elapsed: 0:00:01.\n",
            "  Batch    50  of    282.    Elapsed: 0:00:01.\n",
            "  Batch    60  of    282.    Elapsed: 0:00:02.\n",
            "  Batch    70  of    282.    Elapsed: 0:00:02.\n",
            "  Batch    80  of    282.    Elapsed: 0:00:02.\n",
            "  Batch    90  of    282.    Elapsed: 0:00:02.\n",
            "  Batch   100  of    282.    Elapsed: 0:00:03.\n",
            "  Batch   110  of    282.    Elapsed: 0:00:03.\n",
            "  Batch   120  of    282.    Elapsed: 0:00:03.\n",
            "  Batch   130  of    282.    Elapsed: 0:00:03.\n",
            "  Batch   140  of    282.    Elapsed: 0:00:04.\n",
            "  Batch   150  of    282.    Elapsed: 0:00:04.\n",
            "  Batch   160  of    282.    Elapsed: 0:00:04.\n",
            "  Batch   170  of    282.    Elapsed: 0:00:04.\n",
            "  Batch   180  of    282.    Elapsed: 0:00:05.\n",
            "  Batch   190  of    282.    Elapsed: 0:00:05.\n",
            "  Batch   200  of    282.    Elapsed: 0:00:05.\n",
            "  Batch   210  of    282.    Elapsed: 0:00:05.\n",
            "  Batch   220  of    282.    Elapsed: 0:00:06.\n",
            "  Batch   230  of    282.    Elapsed: 0:00:06.\n",
            "  Batch   240  of    282.    Elapsed: 0:00:06.\n",
            "  Batch   250  of    282.    Elapsed: 0:00:06.\n",
            "  Batch   260  of    282.    Elapsed: 0:00:07.\n",
            "  Batch   270  of    282.    Elapsed: 0:00:07.\n",
            "  Batch   280  of    282.    Elapsed: 0:00:07.\n",
            "\n",
            "  Average training loss generetor: 0.403\n",
            "  Average training loss discriminator: 7.645\n",
            "  Training epcoh took: 0:00:07\n",
            "\n",
            "Running Test...\n",
            "  Accuracy: 0.040\n",
            "  Test Loss: 4.870\n",
            "  Test took: 0:00:00\n",
            "\n",
            "======== Epoch 2 / 5 ========\n",
            "Training...\n",
            "  Batch    10  of    282.    Elapsed: 0:00:00.\n",
            "  Batch    20  of    282.    Elapsed: 0:00:01.\n",
            "  Batch    30  of    282.    Elapsed: 0:00:01.\n",
            "  Batch    40  of    282.    Elapsed: 0:00:01.\n",
            "  Batch    50  of    282.    Elapsed: 0:00:01.\n",
            "  Batch    60  of    282.    Elapsed: 0:00:02.\n",
            "  Batch    70  of    282.    Elapsed: 0:00:02.\n",
            "  Batch    80  of    282.    Elapsed: 0:00:02.\n",
            "  Batch    90  of    282.    Elapsed: 0:00:02.\n",
            "  Batch   100  of    282.    Elapsed: 0:00:03.\n",
            "  Batch   110  of    282.    Elapsed: 0:00:03.\n",
            "  Batch   120  of    282.    Elapsed: 0:00:03.\n",
            "  Batch   130  of    282.    Elapsed: 0:00:03.\n",
            "  Batch   140  of    282.    Elapsed: 0:00:04.\n",
            "  Batch   150  of    282.    Elapsed: 0:00:04.\n",
            "  Batch   160  of    282.    Elapsed: 0:00:04.\n",
            "  Batch   170  of    282.    Elapsed: 0:00:04.\n",
            "  Batch   180  of    282.    Elapsed: 0:00:05.\n",
            "  Batch   190  of    282.    Elapsed: 0:00:05.\n",
            "  Batch   200  of    282.    Elapsed: 0:00:05.\n",
            "  Batch   210  of    282.    Elapsed: 0:00:05.\n",
            "  Batch   220  of    282.    Elapsed: 0:00:06.\n",
            "  Batch   230  of    282.    Elapsed: 0:00:06.\n",
            "  Batch   240  of    282.    Elapsed: 0:00:06.\n",
            "  Batch   250  of    282.    Elapsed: 0:00:06.\n",
            "  Batch   260  of    282.    Elapsed: 0:00:07.\n",
            "  Batch   270  of    282.    Elapsed: 0:00:07.\n",
            "  Batch   280  of    282.    Elapsed: 0:00:07.\n",
            "\n",
            "  Average training loss generetor: 0.744\n",
            "  Average training loss discriminator: 5.705\n",
            "  Training epcoh took: 0:00:07\n",
            "\n",
            "Running Test...\n",
            "  Accuracy: 0.112\n",
            "  Test Loss: 4.629\n",
            "  Test took: 0:00:00\n",
            "\n",
            "======== Epoch 3 / 5 ========\n",
            "Training...\n",
            "  Batch    10  of    282.    Elapsed: 0:00:00.\n",
            "  Batch    20  of    282.    Elapsed: 0:00:01.\n",
            "  Batch    30  of    282.    Elapsed: 0:00:01.\n",
            "  Batch    40  of    282.    Elapsed: 0:00:01.\n",
            "  Batch    50  of    282.    Elapsed: 0:00:01.\n",
            "  Batch    60  of    282.    Elapsed: 0:00:02.\n",
            "  Batch    70  of    282.    Elapsed: 0:00:02.\n",
            "  Batch    80  of    282.    Elapsed: 0:00:02.\n",
            "  Batch    90  of    282.    Elapsed: 0:00:02.\n",
            "  Batch   100  of    282.    Elapsed: 0:00:03.\n",
            "  Batch   110  of    282.    Elapsed: 0:00:03.\n",
            "  Batch   120  of    282.    Elapsed: 0:00:03.\n",
            "  Batch   130  of    282.    Elapsed: 0:00:03.\n",
            "  Batch   140  of    282.    Elapsed: 0:00:04.\n",
            "  Batch   150  of    282.    Elapsed: 0:00:04.\n",
            "  Batch   160  of    282.    Elapsed: 0:00:04.\n",
            "  Batch   170  of    282.    Elapsed: 0:00:04.\n",
            "  Batch   180  of    282.    Elapsed: 0:00:05.\n",
            "  Batch   190  of    282.    Elapsed: 0:00:05.\n",
            "  Batch   200  of    282.    Elapsed: 0:00:05.\n",
            "  Batch   210  of    282.    Elapsed: 0:00:05.\n",
            "  Batch   220  of    282.    Elapsed: 0:00:06.\n",
            "  Batch   230  of    282.    Elapsed: 0:00:06.\n",
            "  Batch   240  of    282.    Elapsed: 0:00:06.\n",
            "  Batch   250  of    282.    Elapsed: 0:00:06.\n",
            "  Batch   260  of    282.    Elapsed: 0:00:07.\n",
            "  Batch   270  of    282.    Elapsed: 0:00:07.\n",
            "  Batch   280  of    282.    Elapsed: 0:00:07.\n",
            "\n",
            "  Average training loss generetor: 0.740\n",
            "  Average training loss discriminator: 5.401\n",
            "  Training epcoh took: 0:00:07\n",
            "\n",
            "Running Test...\n",
            "  Accuracy: 0.201\n",
            "  Test Loss: 4.340\n",
            "  Test took: 0:00:00\n",
            "\n",
            "======== Epoch 4 / 5 ========\n",
            "Training...\n",
            "  Batch    10  of    282.    Elapsed: 0:00:00.\n",
            "  Batch    20  of    282.    Elapsed: 0:00:01.\n",
            "  Batch    30  of    282.    Elapsed: 0:00:01.\n",
            "  Batch    40  of    282.    Elapsed: 0:00:01.\n",
            "  Batch    50  of    282.    Elapsed: 0:00:01.\n",
            "  Batch    60  of    282.    Elapsed: 0:00:02.\n",
            "  Batch    70  of    282.    Elapsed: 0:00:02.\n",
            "  Batch    80  of    282.    Elapsed: 0:00:02.\n",
            "  Batch    90  of    282.    Elapsed: 0:00:02.\n",
            "  Batch   100  of    282.    Elapsed: 0:00:03.\n",
            "  Batch   110  of    282.    Elapsed: 0:00:03.\n",
            "  Batch   120  of    282.    Elapsed: 0:00:03.\n",
            "  Batch   130  of    282.    Elapsed: 0:00:03.\n",
            "  Batch   140  of    282.    Elapsed: 0:00:04.\n",
            "  Batch   150  of    282.    Elapsed: 0:00:04.\n",
            "  Batch   160  of    282.    Elapsed: 0:00:04.\n",
            "  Batch   170  of    282.    Elapsed: 0:00:04.\n",
            "  Batch   180  of    282.    Elapsed: 0:00:05.\n",
            "  Batch   190  of    282.    Elapsed: 0:00:05.\n",
            "  Batch   200  of    282.    Elapsed: 0:00:05.\n",
            "  Batch   210  of    282.    Elapsed: 0:00:05.\n",
            "  Batch   220  of    282.    Elapsed: 0:00:06.\n",
            "  Batch   230  of    282.    Elapsed: 0:00:06.\n",
            "  Batch   240  of    282.    Elapsed: 0:00:06.\n",
            "  Batch   250  of    282.    Elapsed: 0:00:06.\n",
            "  Batch   260  of    282.    Elapsed: 0:00:07.\n",
            "  Batch   270  of    282.    Elapsed: 0:00:07.\n",
            "  Batch   280  of    282.    Elapsed: 0:00:07.\n",
            "\n",
            "  Average training loss generetor: 0.743\n",
            "  Average training loss discriminator: 5.069\n",
            "  Training epcoh took: 0:00:07\n",
            "\n",
            "Running Test...\n",
            "  Accuracy: 0.295\n",
            "  Test Loss: 4.012\n",
            "  Test took: 0:00:00\n",
            "\n",
            "======== Epoch 5 / 5 ========\n",
            "Training...\n",
            "  Batch    10  of    282.    Elapsed: 0:00:00.\n",
            "  Batch    20  of    282.    Elapsed: 0:00:01.\n",
            "  Batch    30  of    282.    Elapsed: 0:00:01.\n",
            "  Batch    40  of    282.    Elapsed: 0:00:01.\n",
            "  Batch    50  of    282.    Elapsed: 0:00:01.\n",
            "  Batch    60  of    282.    Elapsed: 0:00:02.\n",
            "  Batch    70  of    282.    Elapsed: 0:00:02.\n",
            "  Batch    80  of    282.    Elapsed: 0:00:02.\n",
            "  Batch    90  of    282.    Elapsed: 0:00:02.\n",
            "  Batch   100  of    282.    Elapsed: 0:00:03.\n",
            "  Batch   110  of    282.    Elapsed: 0:00:03.\n",
            "  Batch   120  of    282.    Elapsed: 0:00:03.\n",
            "  Batch   130  of    282.    Elapsed: 0:00:03.\n",
            "  Batch   140  of    282.    Elapsed: 0:00:04.\n",
            "  Batch   150  of    282.    Elapsed: 0:00:04.\n",
            "  Batch   160  of    282.    Elapsed: 0:00:04.\n",
            "  Batch   170  of    282.    Elapsed: 0:00:04.\n",
            "  Batch   180  of    282.    Elapsed: 0:00:05.\n",
            "  Batch   190  of    282.    Elapsed: 0:00:05.\n",
            "  Batch   200  of    282.    Elapsed: 0:00:05.\n",
            "  Batch   210  of    282.    Elapsed: 0:00:05.\n",
            "  Batch   220  of    282.    Elapsed: 0:00:06.\n",
            "  Batch   230  of    282.    Elapsed: 0:00:06.\n",
            "  Batch   240  of    282.    Elapsed: 0:00:06.\n",
            "  Batch   250  of    282.    Elapsed: 0:00:06.\n",
            "  Batch   260  of    282.    Elapsed: 0:00:07.\n",
            "  Batch   270  of    282.    Elapsed: 0:00:07.\n",
            "  Batch   280  of    282.    Elapsed: 0:00:07.\n",
            "\n",
            "  Average training loss generetor: 0.748\n",
            "  Average training loss discriminator: 4.708\n",
            "  Training epcoh took: 0:00:07\n",
            "\n",
            "Running Test...\n",
            "  Accuracy: 0.357\n",
            "  Test Loss: 3.674\n",
            "  Test took: 0:00:00\n"
          ]
        }
      ]
    },
    {
      "cell_type": "code",
      "source": [
        "training_procedure_completion_print(training_stats_20, total_t0)"
      ],
      "metadata": {
        "colab": {
          "base_uri": "https://localhost:8080/"
        },
        "outputId": "898192d6-e455-4ca2-a78b-ae42f462c8d7",
        "id": "v326QeDHDGA0"
      },
      "execution_count": 34,
      "outputs": [
        {
          "output_type": "stream",
          "name": "stdout",
          "text": [
            "{'epoch': 1, 'Training Loss generator': 0.40308405287193916, 'Training Loss discriminator': 7.644975087321397, 'Valid. Loss': 4.870395660400391, 'Valid. Accur.': 0.03955555555555555, 'Training Time': '0:00:07', 'Test Time': '0:00:00'}\n",
            "{'epoch': 2, 'Training Loss generator': 0.7440693627857993, 'Training Loss discriminator': 5.705063474939225, 'Valid. Loss': 4.629086494445801, 'Valid. Accur.': 0.11177777777777778, 'Training Time': '0:00:07', 'Test Time': '0:00:00'}\n",
            "{'epoch': 3, 'Training Loss generator': 0.7404250857677865, 'Training Loss discriminator': 5.40085222027826, 'Valid. Loss': 4.340271949768066, 'Valid. Accur.': 0.20133333333333334, 'Training Time': '0:00:07', 'Test Time': '0:00:00'}\n",
            "{'epoch': 4, 'Training Loss generator': 0.7429485661340943, 'Training Loss discriminator': 5.0691404089014584, 'Valid. Loss': 4.012484550476074, 'Valid. Accur.': 0.2946666666666667, 'Training Time': '0:00:07', 'Test Time': '0:00:00'}\n",
            "{'epoch': 5, 'Training Loss generator': 0.7478627564636529, 'Training Loss discriminator': 4.708107297302138, 'Valid. Loss': 3.673635959625244, 'Valid. Accur.': 0.35688888888888887, 'Training Time': '0:00:07', 'Test Time': '0:00:00'}\n",
            "\n",
            "Training complete!\n",
            "Total training took 0:00:43 (h:mm:ss)\n"
          ]
        }
      ]
    },
    {
      "cell_type": "code",
      "source": [
        "training_stats_20[-1]"
      ],
      "metadata": {
        "colab": {
          "base_uri": "https://localhost:8080/"
        },
        "outputId": "ecc62ede-2a11-494e-cea3-aa2f5a81c9df",
        "id": "P4GHkkJBDGA0"
      },
      "execution_count": 35,
      "outputs": [
        {
          "output_type": "execute_result",
          "data": {
            "text/plain": [
              "{'Test Time': '0:00:00',\n",
              " 'Training Loss discriminator': 4.708107297302138,\n",
              " 'Training Loss generator': 0.7478627564636529,\n",
              " 'Training Time': '0:00:07',\n",
              " 'Valid. Accur.': 0.35688888888888887,\n",
              " 'Valid. Loss': 3.673635959625244,\n",
              " 'epoch': 5}"
            ]
          },
          "metadata": {},
          "execution_count": 35
        }
      ]
    },
    {
      "cell_type": "markdown",
      "source": [
        "##30_70"
      ],
      "metadata": {
        "id": "Sg2aYWrfGnUK"
      }
    },
    {
      "cell_type": "code",
      "source": [
        "labeled_file = \"./30_70/labeled.tsv\"\n",
        "unlabeled_file = \"./30_70/unlabeled.tsv\"\n",
        "test_filename = \"./30_70/test.tsv\""
      ],
      "metadata": {
        "id": "C17pjqXBGnUL"
      },
      "execution_count": 36,
      "outputs": []
    },
    {
      "cell_type": "code",
      "source": [
        "labeled_examples, unlabeled_examples, test_examples = load_the_input_dataset()"
      ],
      "metadata": {
        "id": "HyuAIEhtGnUL"
      },
      "execution_count": 37,
      "outputs": []
    },
    {
      "cell_type": "code",
      "source": [
        "len(labeled_examples)"
      ],
      "metadata": {
        "colab": {
          "base_uri": "https://localhost:8080/"
        },
        "outputId": "01240fb0-dd3b-46c8-f961-bacc6e92fa0d",
        "id": "Sy0n5TidGnUL"
      },
      "execution_count": 38,
      "outputs": [
        {
          "output_type": "execute_result",
          "data": {
            "text/plain": [
              "4500"
            ]
          },
          "metadata": {},
          "execution_count": 38
        }
      ]
    },
    {
      "cell_type": "code",
      "source": [
        "len(unlabeled_examples)"
      ],
      "metadata": {
        "colab": {
          "base_uri": "https://localhost:8080/"
        },
        "outputId": "5a8f4719-0479-45f6-ce73-716eed260f6d",
        "id": "u8IPPAY9GnUM"
      },
      "execution_count": 39,
      "outputs": [
        {
          "output_type": "execute_result",
          "data": {
            "text/plain": [
              "10500"
            ]
          },
          "metadata": {},
          "execution_count": 39
        }
      ]
    },
    {
      "cell_type": "code",
      "source": [
        "len(test_examples)"
      ],
      "metadata": {
        "colab": {
          "base_uri": "https://localhost:8080/"
        },
        "outputId": "53139dd4-9c04-40da-caf3-b27c44883432",
        "id": "s615E3FgGnUM"
      },
      "execution_count": 40,
      "outputs": [
        {
          "output_type": "execute_result",
          "data": {
            "text/plain": [
              "4500"
            ]
          },
          "metadata": {},
          "execution_count": 40
        }
      ]
    },
    {
      "cell_type": "code",
      "source": [
        "test_dataloader, train_dataloader, train_examples = convert_input_examples_to_dataloader(label_list)"
      ],
      "metadata": {
        "id": "H76yRdwSGnUM"
      },
      "execution_count": 41,
      "outputs": []
    },
    {
      "cell_type": "code",
      "source": [
        "generator, discriminator = instantiate_discriminator_and_generator(transformer)"
      ],
      "metadata": {
        "id": "LYAA4At_GnUM"
      },
      "execution_count": 42,
      "outputs": []
    },
    {
      "cell_type": "code",
      "source": [
        "training_stats_30, total_t0 = training_procedure_start(test_dataloader, train_dataloader, train_examples, generator, discriminator)"
      ],
      "metadata": {
        "colab": {
          "base_uri": "https://localhost:8080/"
        },
        "outputId": "4f052ac9-5ee7-4135-d9e8-e197554a086d",
        "id": "wje7fHObGnUM"
      },
      "execution_count": 43,
      "outputs": [
        {
          "output_type": "stream",
          "name": "stdout",
          "text": [
            "\n",
            "======== Epoch 1 / 5 ========\n",
            "Training...\n",
            "  Batch    10  of    235.    Elapsed: 0:00:00.\n",
            "  Batch    20  of    235.    Elapsed: 0:00:01.\n",
            "  Batch    30  of    235.    Elapsed: 0:00:01.\n",
            "  Batch    40  of    235.    Elapsed: 0:00:01.\n",
            "  Batch    50  of    235.    Elapsed: 0:00:01.\n",
            "  Batch    60  of    235.    Elapsed: 0:00:02.\n",
            "  Batch    70  of    235.    Elapsed: 0:00:02.\n",
            "  Batch    80  of    235.    Elapsed: 0:00:02.\n",
            "  Batch    90  of    235.    Elapsed: 0:00:02.\n",
            "  Batch   100  of    235.    Elapsed: 0:00:03.\n",
            "  Batch   110  of    235.    Elapsed: 0:00:03.\n",
            "  Batch   120  of    235.    Elapsed: 0:00:03.\n",
            "  Batch   130  of    235.    Elapsed: 0:00:04.\n",
            "  Batch   140  of    235.    Elapsed: 0:00:04.\n",
            "  Batch   150  of    235.    Elapsed: 0:00:04.\n",
            "  Batch   160  of    235.    Elapsed: 0:00:04.\n",
            "  Batch   170  of    235.    Elapsed: 0:00:05.\n",
            "  Batch   180  of    235.    Elapsed: 0:00:05.\n",
            "  Batch   190  of    235.    Elapsed: 0:00:05.\n",
            "  Batch   200  of    235.    Elapsed: 0:00:05.\n",
            "  Batch   210  of    235.    Elapsed: 0:00:06.\n",
            "  Batch   220  of    235.    Elapsed: 0:00:06.\n",
            "  Batch   230  of    235.    Elapsed: 0:00:06.\n",
            "\n",
            "  Average training loss generetor: 0.305\n",
            "  Average training loss discriminator: 8.236\n",
            "  Training epcoh took: 0:00:06\n",
            "\n",
            "Running Test...\n",
            "  Accuracy: 0.025\n",
            "  Test Loss: 4.867\n",
            "  Test took: 0:00:00\n",
            "\n",
            "======== Epoch 2 / 5 ========\n",
            "Training...\n",
            "  Batch    10  of    235.    Elapsed: 0:00:00.\n",
            "  Batch    20  of    235.    Elapsed: 0:00:00.\n",
            "  Batch    30  of    235.    Elapsed: 0:00:01.\n",
            "  Batch    40  of    235.    Elapsed: 0:00:01.\n",
            "  Batch    50  of    235.    Elapsed: 0:00:01.\n",
            "  Batch    60  of    235.    Elapsed: 0:00:02.\n",
            "  Batch    70  of    235.    Elapsed: 0:00:02.\n",
            "  Batch    80  of    235.    Elapsed: 0:00:02.\n",
            "  Batch    90  of    235.    Elapsed: 0:00:02.\n",
            "  Batch   100  of    235.    Elapsed: 0:00:03.\n",
            "  Batch   110  of    235.    Elapsed: 0:00:03.\n",
            "  Batch   120  of    235.    Elapsed: 0:00:03.\n",
            "  Batch   130  of    235.    Elapsed: 0:00:03.\n",
            "  Batch   140  of    235.    Elapsed: 0:00:04.\n",
            "  Batch   150  of    235.    Elapsed: 0:00:04.\n",
            "  Batch   160  of    235.    Elapsed: 0:00:04.\n",
            "  Batch   170  of    235.    Elapsed: 0:00:04.\n",
            "  Batch   180  of    235.    Elapsed: 0:00:05.\n",
            "  Batch   190  of    235.    Elapsed: 0:00:05.\n",
            "  Batch   200  of    235.    Elapsed: 0:00:05.\n",
            "  Batch   210  of    235.    Elapsed: 0:00:05.\n",
            "  Batch   220  of    235.    Elapsed: 0:00:06.\n",
            "  Batch   230  of    235.    Elapsed: 0:00:06.\n",
            "\n",
            "  Average training loss generetor: 0.753\n",
            "  Average training loss discriminator: 5.747\n",
            "  Training epcoh took: 0:00:06\n",
            "\n",
            "Running Test...\n",
            "  Accuracy: 0.114\n",
            "  Test Loss: 4.636\n",
            "  Test took: 0:00:00\n",
            "\n",
            "======== Epoch 3 / 5 ========\n",
            "Training...\n",
            "  Batch    10  of    235.    Elapsed: 0:00:00.\n",
            "  Batch    20  of    235.    Elapsed: 0:00:01.\n",
            "  Batch    30  of    235.    Elapsed: 0:00:01.\n",
            "  Batch    40  of    235.    Elapsed: 0:00:01.\n",
            "  Batch    50  of    235.    Elapsed: 0:00:01.\n",
            "  Batch    60  of    235.    Elapsed: 0:00:02.\n",
            "  Batch    70  of    235.    Elapsed: 0:00:02.\n",
            "  Batch    80  of    235.    Elapsed: 0:00:02.\n",
            "  Batch    90  of    235.    Elapsed: 0:00:02.\n",
            "  Batch   100  of    235.    Elapsed: 0:00:03.\n",
            "  Batch   110  of    235.    Elapsed: 0:00:03.\n",
            "  Batch   120  of    235.    Elapsed: 0:00:03.\n",
            "  Batch   130  of    235.    Elapsed: 0:00:03.\n",
            "  Batch   140  of    235.    Elapsed: 0:00:04.\n",
            "  Batch   150  of    235.    Elapsed: 0:00:04.\n",
            "  Batch   160  of    235.    Elapsed: 0:00:04.\n",
            "  Batch   170  of    235.    Elapsed: 0:00:04.\n",
            "  Batch   180  of    235.    Elapsed: 0:00:05.\n",
            "  Batch   190  of    235.    Elapsed: 0:00:05.\n",
            "  Batch   200  of    235.    Elapsed: 0:00:05.\n",
            "  Batch   210  of    235.    Elapsed: 0:00:05.\n",
            "  Batch   220  of    235.    Elapsed: 0:00:06.\n",
            "  Batch   230  of    235.    Elapsed: 0:00:06.\n",
            "\n",
            "  Average training loss generetor: 0.740\n",
            "  Average training loss discriminator: 5.475\n",
            "  Training epcoh took: 0:00:06\n",
            "\n",
            "Running Test...\n",
            "  Accuracy: 0.205\n",
            "  Test Loss: 4.390\n",
            "  Test took: 0:00:00\n",
            "\n",
            "======== Epoch 4 / 5 ========\n",
            "Training...\n",
            "  Batch    10  of    235.    Elapsed: 0:00:00.\n",
            "  Batch    20  of    235.    Elapsed: 0:00:01.\n",
            "  Batch    30  of    235.    Elapsed: 0:00:01.\n",
            "  Batch    40  of    235.    Elapsed: 0:00:01.\n",
            "  Batch    50  of    235.    Elapsed: 0:00:01.\n",
            "  Batch    60  of    235.    Elapsed: 0:00:02.\n",
            "  Batch    70  of    235.    Elapsed: 0:00:02.\n",
            "  Batch    80  of    235.    Elapsed: 0:00:02.\n",
            "  Batch    90  of    235.    Elapsed: 0:00:02.\n",
            "  Batch   100  of    235.    Elapsed: 0:00:03.\n",
            "  Batch   110  of    235.    Elapsed: 0:00:03.\n",
            "  Batch   120  of    235.    Elapsed: 0:00:03.\n",
            "  Batch   130  of    235.    Elapsed: 0:00:03.\n",
            "  Batch   140  of    235.    Elapsed: 0:00:04.\n",
            "  Batch   150  of    235.    Elapsed: 0:00:04.\n",
            "  Batch   160  of    235.    Elapsed: 0:00:04.\n",
            "  Batch   170  of    235.    Elapsed: 0:00:04.\n",
            "  Batch   180  of    235.    Elapsed: 0:00:05.\n",
            "  Batch   190  of    235.    Elapsed: 0:00:05.\n",
            "  Batch   200  of    235.    Elapsed: 0:00:05.\n",
            "  Batch   210  of    235.    Elapsed: 0:00:05.\n",
            "  Batch   220  of    235.    Elapsed: 0:00:06.\n",
            "  Batch   230  of    235.    Elapsed: 0:00:06.\n",
            "\n",
            "  Average training loss generetor: 0.740\n",
            "  Average training loss discriminator: 5.187\n",
            "  Training epcoh took: 0:00:06\n",
            "\n",
            "Running Test...\n",
            "  Accuracy: 0.288\n",
            "  Test Loss: 4.115\n",
            "  Test took: 0:00:00\n",
            "\n",
            "======== Epoch 5 / 5 ========\n",
            "Training...\n",
            "  Batch    10  of    235.    Elapsed: 0:00:00.\n",
            "  Batch    20  of    235.    Elapsed: 0:00:01.\n",
            "  Batch    30  of    235.    Elapsed: 0:00:01.\n",
            "  Batch    40  of    235.    Elapsed: 0:00:01.\n",
            "  Batch    50  of    235.    Elapsed: 0:00:01.\n",
            "  Batch    60  of    235.    Elapsed: 0:00:02.\n",
            "  Batch    70  of    235.    Elapsed: 0:00:02.\n",
            "  Batch    80  of    235.    Elapsed: 0:00:02.\n",
            "  Batch    90  of    235.    Elapsed: 0:00:02.\n",
            "  Batch   100  of    235.    Elapsed: 0:00:03.\n",
            "  Batch   110  of    235.    Elapsed: 0:00:03.\n",
            "  Batch   120  of    235.    Elapsed: 0:00:03.\n",
            "  Batch   130  of    235.    Elapsed: 0:00:03.\n",
            "  Batch   140  of    235.    Elapsed: 0:00:04.\n",
            "  Batch   150  of    235.    Elapsed: 0:00:04.\n",
            "  Batch   160  of    235.    Elapsed: 0:00:04.\n",
            "  Batch   170  of    235.    Elapsed: 0:00:04.\n",
            "  Batch   180  of    235.    Elapsed: 0:00:05.\n",
            "  Batch   190  of    235.    Elapsed: 0:00:05.\n",
            "  Batch   200  of    235.    Elapsed: 0:00:05.\n",
            "  Batch   210  of    235.    Elapsed: 0:00:05.\n",
            "  Batch   220  of    235.    Elapsed: 0:00:06.\n",
            "  Batch   230  of    235.    Elapsed: 0:00:06.\n",
            "\n",
            "  Average training loss generetor: 0.745\n",
            "  Average training loss discriminator: 4.883\n",
            "  Training epcoh took: 0:00:06\n",
            "\n",
            "Running Test...\n",
            "  Accuracy: 0.328\n",
            "  Test Loss: 3.832\n",
            "  Test took: 0:00:00\n"
          ]
        }
      ]
    },
    {
      "cell_type": "code",
      "source": [
        "training_procedure_completion_print(training_stats_30, total_t0)"
      ],
      "metadata": {
        "colab": {
          "base_uri": "https://localhost:8080/"
        },
        "outputId": "05c8b036-4cca-4284-8234-0b7a9378f494",
        "id": "P7ZbeHuaGnUM"
      },
      "execution_count": 44,
      "outputs": [
        {
          "output_type": "stream",
          "name": "stdout",
          "text": [
            "{'epoch': 1, 'Training Loss generator': 0.3054431925666459, 'Training Loss discriminator': 8.235840978013709, 'Valid. Loss': 4.86742639541626, 'Valid. Accur.': 0.025333333333333333, 'Training Time': '0:00:06', 'Test Time': '0:00:00'}\n",
            "{'epoch': 2, 'Training Loss generator': 0.75342421709223, 'Training Loss discriminator': 5.746794887299234, 'Valid. Loss': 4.635583400726318, 'Valid. Accur.': 0.11377777777777778, 'Training Time': '0:00:06', 'Test Time': '0:00:00'}\n",
            "{'epoch': 3, 'Training Loss generator': 0.740130630706219, 'Training Loss discriminator': 5.474757811363707, 'Valid. Loss': 4.38953161239624, 'Valid. Accur.': 0.20466666666666666, 'Training Time': '0:00:06', 'Test Time': '0:00:00'}\n",
            "{'epoch': 4, 'Training Loss generator': 0.7401934448708879, 'Training Loss discriminator': 5.187282653565102, 'Valid. Loss': 4.1150031089782715, 'Valid. Accur.': 0.28755555555555556, 'Training Time': '0:00:06', 'Test Time': '0:00:00'}\n",
            "{'epoch': 5, 'Training Loss generator': 0.7445266510577913, 'Training Loss discriminator': 4.8834837791767525, 'Valid. Loss': 3.8319778442382812, 'Valid. Accur.': 0.3277777777777778, 'Training Time': '0:00:06', 'Test Time': '0:00:00'}\n",
            "\n",
            "Training complete!\n",
            "Total training took 0:00:34 (h:mm:ss)\n"
          ]
        }
      ]
    },
    {
      "cell_type": "code",
      "source": [
        "training_stats_30[-1]"
      ],
      "metadata": {
        "colab": {
          "base_uri": "https://localhost:8080/"
        },
        "outputId": "3cea8052-c4aa-4541-ab5b-4ccab5ad66d2",
        "id": "85ctEpKdGnUN"
      },
      "execution_count": 45,
      "outputs": [
        {
          "output_type": "execute_result",
          "data": {
            "text/plain": [
              "{'Test Time': '0:00:00',\n",
              " 'Training Loss discriminator': 4.8834837791767525,\n",
              " 'Training Loss generator': 0.7445266510577913,\n",
              " 'Training Time': '0:00:06',\n",
              " 'Valid. Accur.': 0.3277777777777778,\n",
              " 'Valid. Loss': 3.8319778442382812,\n",
              " 'epoch': 5}"
            ]
          },
          "metadata": {},
          "execution_count": 45
        }
      ]
    },
    {
      "cell_type": "markdown",
      "source": [
        "##40_60"
      ],
      "metadata": {
        "id": "PHN-rjWRG5BL"
      }
    },
    {
      "cell_type": "code",
      "source": [
        "labeled_file = \"./40_60/labeled.tsv\"\n",
        "unlabeled_file = \"./40_60/unlabeled.tsv\"\n",
        "test_filename = \"./40_60/test.tsv\""
      ],
      "metadata": {
        "id": "SI8CXuC_G5BL"
      },
      "execution_count": 46,
      "outputs": []
    },
    {
      "cell_type": "code",
      "source": [
        "labeled_examples, unlabeled_examples, test_examples = load_the_input_dataset()"
      ],
      "metadata": {
        "id": "3bJndoWQG5BM"
      },
      "execution_count": 47,
      "outputs": []
    },
    {
      "cell_type": "code",
      "source": [
        "len(labeled_examples)"
      ],
      "metadata": {
        "colab": {
          "base_uri": "https://localhost:8080/"
        },
        "outputId": "532c4515-339c-4ff1-e24e-aab7caa34e87",
        "id": "4yi4Y_q8G5BM"
      },
      "execution_count": 48,
      "outputs": [
        {
          "output_type": "execute_result",
          "data": {
            "text/plain": [
              "6000"
            ]
          },
          "metadata": {},
          "execution_count": 48
        }
      ]
    },
    {
      "cell_type": "code",
      "source": [
        "len(unlabeled_examples)"
      ],
      "metadata": {
        "colab": {
          "base_uri": "https://localhost:8080/"
        },
        "outputId": "79d5687d-c36b-4d08-d165-a1686700b9b4",
        "id": "CdlIotJ1G5BN"
      },
      "execution_count": 49,
      "outputs": [
        {
          "output_type": "execute_result",
          "data": {
            "text/plain": [
              "9000"
            ]
          },
          "metadata": {},
          "execution_count": 49
        }
      ]
    },
    {
      "cell_type": "code",
      "source": [
        "len(test_examples)"
      ],
      "metadata": {
        "colab": {
          "base_uri": "https://localhost:8080/"
        },
        "outputId": "0c00b412-c166-4456-c542-50b696c05215",
        "id": "56uRf6g_G5BN"
      },
      "execution_count": 50,
      "outputs": [
        {
          "output_type": "execute_result",
          "data": {
            "text/plain": [
              "4500"
            ]
          },
          "metadata": {},
          "execution_count": 50
        }
      ]
    },
    {
      "cell_type": "code",
      "source": [
        "test_dataloader, train_dataloader, train_examples = convert_input_examples_to_dataloader(label_list)"
      ],
      "metadata": {
        "id": "n3REQeClG5BN"
      },
      "execution_count": 51,
      "outputs": []
    },
    {
      "cell_type": "code",
      "source": [
        "generator, discriminator = instantiate_discriminator_and_generator(transformer)"
      ],
      "metadata": {
        "id": "PVcUnCeWG5BO"
      },
      "execution_count": 52,
      "outputs": []
    },
    {
      "cell_type": "code",
      "source": [
        "training_stats_40, total_t0 = training_procedure_start(test_dataloader, train_dataloader, train_examples, generator, discriminator)"
      ],
      "metadata": {
        "colab": {
          "base_uri": "https://localhost:8080/"
        },
        "outputId": "11fa719c-234a-4889-86dc-0041aaa294aa",
        "id": "v56OoHXTG5BO"
      },
      "execution_count": 53,
      "outputs": [
        {
          "output_type": "stream",
          "name": "stdout",
          "text": [
            "\n",
            "======== Epoch 1 / 5 ========\n",
            "Training...\n",
            "  Batch    10  of    235.    Elapsed: 0:00:00.\n",
            "  Batch    20  of    235.    Elapsed: 0:00:01.\n",
            "  Batch    30  of    235.    Elapsed: 0:00:01.\n",
            "  Batch    40  of    235.    Elapsed: 0:00:01.\n",
            "  Batch    50  of    235.    Elapsed: 0:00:01.\n",
            "  Batch    60  of    235.    Elapsed: 0:00:02.\n",
            "  Batch    70  of    235.    Elapsed: 0:00:02.\n",
            "  Batch    80  of    235.    Elapsed: 0:00:02.\n",
            "  Batch    90  of    235.    Elapsed: 0:00:02.\n",
            "  Batch   100  of    235.    Elapsed: 0:00:03.\n",
            "  Batch   110  of    235.    Elapsed: 0:00:03.\n",
            "  Batch   120  of    235.    Elapsed: 0:00:03.\n",
            "  Batch   130  of    235.    Elapsed: 0:00:03.\n",
            "  Batch   140  of    235.    Elapsed: 0:00:04.\n",
            "  Batch   150  of    235.    Elapsed: 0:00:04.\n",
            "  Batch   160  of    235.    Elapsed: 0:00:04.\n",
            "  Batch   170  of    235.    Elapsed: 0:00:04.\n",
            "  Batch   180  of    235.    Elapsed: 0:00:05.\n",
            "  Batch   190  of    235.    Elapsed: 0:00:05.\n",
            "  Batch   200  of    235.    Elapsed: 0:00:05.\n",
            "  Batch   210  of    235.    Elapsed: 0:00:05.\n",
            "  Batch   220  of    235.    Elapsed: 0:00:06.\n",
            "  Batch   230  of    235.    Elapsed: 0:00:06.\n",
            "\n",
            "  Average training loss generetor: 0.329\n",
            "  Average training loss discriminator: 8.058\n",
            "  Training epcoh took: 0:00:06\n",
            "\n",
            "Running Test...\n",
            "  Accuracy: 0.062\n",
            "  Test Loss: 4.810\n",
            "  Test took: 0:00:00\n",
            "\n",
            "======== Epoch 2 / 5 ========\n",
            "Training...\n",
            "  Batch    10  of    235.    Elapsed: 0:00:00.\n",
            "  Batch    20  of    235.    Elapsed: 0:00:01.\n",
            "  Batch    30  of    235.    Elapsed: 0:00:01.\n",
            "  Batch    40  of    235.    Elapsed: 0:00:01.\n",
            "  Batch    50  of    235.    Elapsed: 0:00:01.\n",
            "  Batch    60  of    235.    Elapsed: 0:00:02.\n",
            "  Batch    70  of    235.    Elapsed: 0:00:02.\n",
            "  Batch    80  of    235.    Elapsed: 0:00:02.\n",
            "  Batch    90  of    235.    Elapsed: 0:00:02.\n",
            "  Batch   100  of    235.    Elapsed: 0:00:03.\n",
            "  Batch   110  of    235.    Elapsed: 0:00:03.\n",
            "  Batch   120  of    235.    Elapsed: 0:00:03.\n",
            "  Batch   130  of    235.    Elapsed: 0:00:03.\n",
            "  Batch   140  of    235.    Elapsed: 0:00:04.\n",
            "  Batch   150  of    235.    Elapsed: 0:00:04.\n",
            "  Batch   160  of    235.    Elapsed: 0:00:04.\n",
            "  Batch   170  of    235.    Elapsed: 0:00:04.\n",
            "  Batch   180  of    235.    Elapsed: 0:00:05.\n",
            "  Batch   190  of    235.    Elapsed: 0:00:05.\n",
            "  Batch   200  of    235.    Elapsed: 0:00:05.\n",
            "  Batch   210  of    235.    Elapsed: 0:00:05.\n",
            "  Batch   220  of    235.    Elapsed: 0:00:06.\n",
            "  Batch   230  of    235.    Elapsed: 0:00:06.\n",
            "\n",
            "  Average training loss generetor: 0.760\n",
            "  Average training loss discriminator: 5.674\n",
            "  Training epcoh took: 0:00:06\n",
            "\n",
            "Running Test...\n",
            "  Accuracy: 0.191\n",
            "  Test Loss: 4.521\n",
            "  Test took: 0:00:00\n",
            "\n",
            "======== Epoch 3 / 5 ========\n",
            "Training...\n",
            "  Batch    10  of    235.    Elapsed: 0:00:00.\n",
            "  Batch    20  of    235.    Elapsed: 0:00:01.\n",
            "  Batch    30  of    235.    Elapsed: 0:00:01.\n",
            "  Batch    40  of    235.    Elapsed: 0:00:01.\n",
            "  Batch    50  of    235.    Elapsed: 0:00:01.\n",
            "  Batch    60  of    235.    Elapsed: 0:00:02.\n",
            "  Batch    70  of    235.    Elapsed: 0:00:02.\n",
            "  Batch    80  of    235.    Elapsed: 0:00:02.\n",
            "  Batch    90  of    235.    Elapsed: 0:00:02.\n",
            "  Batch   100  of    235.    Elapsed: 0:00:03.\n",
            "  Batch   110  of    235.    Elapsed: 0:00:03.\n",
            "  Batch   120  of    235.    Elapsed: 0:00:03.\n",
            "  Batch   130  of    235.    Elapsed: 0:00:03.\n",
            "  Batch   140  of    235.    Elapsed: 0:00:04.\n",
            "  Batch   150  of    235.    Elapsed: 0:00:04.\n",
            "  Batch   160  of    235.    Elapsed: 0:00:04.\n",
            "  Batch   170  of    235.    Elapsed: 0:00:04.\n",
            "  Batch   180  of    235.    Elapsed: 0:00:05.\n",
            "  Batch   190  of    235.    Elapsed: 0:00:05.\n",
            "  Batch   200  of    235.    Elapsed: 0:00:05.\n",
            "  Batch   210  of    235.    Elapsed: 0:00:05.\n",
            "  Batch   220  of    235.    Elapsed: 0:00:06.\n",
            "  Batch   230  of    235.    Elapsed: 0:00:06.\n",
            "\n",
            "  Average training loss generetor: 0.749\n",
            "  Average training loss discriminator: 5.346\n",
            "  Training epcoh took: 0:00:06\n",
            "\n",
            "Running Test...\n",
            "  Accuracy: 0.304\n",
            "  Test Loss: 4.214\n",
            "  Test took: 0:00:00\n",
            "\n",
            "======== Epoch 4 / 5 ========\n",
            "Training...\n",
            "  Batch    10  of    235.    Elapsed: 0:00:00.\n",
            "  Batch    20  of    235.    Elapsed: 0:00:01.\n",
            "  Batch    30  of    235.    Elapsed: 0:00:01.\n",
            "  Batch    40  of    235.    Elapsed: 0:00:01.\n",
            "  Batch    50  of    235.    Elapsed: 0:00:01.\n",
            "  Batch    60  of    235.    Elapsed: 0:00:02.\n",
            "  Batch    70  of    235.    Elapsed: 0:00:02.\n",
            "  Batch    80  of    235.    Elapsed: 0:00:02.\n",
            "  Batch    90  of    235.    Elapsed: 0:00:03.\n",
            "  Batch   100  of    235.    Elapsed: 0:00:03.\n",
            "  Batch   110  of    235.    Elapsed: 0:00:04.\n",
            "  Batch   120  of    235.    Elapsed: 0:00:04.\n",
            "  Batch   130  of    235.    Elapsed: 0:00:04.\n",
            "  Batch   140  of    235.    Elapsed: 0:00:05.\n",
            "  Batch   150  of    235.    Elapsed: 0:00:05.\n",
            "  Batch   160  of    235.    Elapsed: 0:00:05.\n",
            "  Batch   170  of    235.    Elapsed: 0:00:06.\n",
            "  Batch   180  of    235.    Elapsed: 0:00:06.\n",
            "  Batch   190  of    235.    Elapsed: 0:00:06.\n",
            "  Batch   200  of    235.    Elapsed: 0:00:07.\n",
            "  Batch   210  of    235.    Elapsed: 0:00:07.\n",
            "  Batch   220  of    235.    Elapsed: 0:00:07.\n",
            "  Batch   230  of    235.    Elapsed: 0:00:07.\n",
            "\n",
            "  Average training loss generetor: 0.746\n",
            "  Average training loss discriminator: 4.995\n",
            "  Training epcoh took: 0:00:08\n",
            "\n",
            "Running Test...\n",
            "  Accuracy: 0.370\n",
            "  Test Loss: 3.876\n",
            "  Test took: 0:00:00\n",
            "\n",
            "======== Epoch 5 / 5 ========\n",
            "Training...\n",
            "  Batch    10  of    235.    Elapsed: 0:00:00.\n",
            "  Batch    20  of    235.    Elapsed: 0:00:01.\n",
            "  Batch    30  of    235.    Elapsed: 0:00:01.\n",
            "  Batch    40  of    235.    Elapsed: 0:00:01.\n",
            "  Batch    50  of    235.    Elapsed: 0:00:01.\n",
            "  Batch    60  of    235.    Elapsed: 0:00:02.\n",
            "  Batch    70  of    235.    Elapsed: 0:00:02.\n",
            "  Batch    80  of    235.    Elapsed: 0:00:02.\n",
            "  Batch    90  of    235.    Elapsed: 0:00:02.\n",
            "  Batch   100  of    235.    Elapsed: 0:00:03.\n",
            "  Batch   110  of    235.    Elapsed: 0:00:03.\n",
            "  Batch   120  of    235.    Elapsed: 0:00:03.\n",
            "  Batch   130  of    235.    Elapsed: 0:00:03.\n",
            "  Batch   140  of    235.    Elapsed: 0:00:04.\n",
            "  Batch   150  of    235.    Elapsed: 0:00:04.\n",
            "  Batch   160  of    235.    Elapsed: 0:00:04.\n",
            "  Batch   170  of    235.    Elapsed: 0:00:04.\n",
            "  Batch   180  of    235.    Elapsed: 0:00:05.\n",
            "  Batch   190  of    235.    Elapsed: 0:00:05.\n",
            "  Batch   200  of    235.    Elapsed: 0:00:05.\n",
            "  Batch   210  of    235.    Elapsed: 0:00:05.\n",
            "  Batch   220  of    235.    Elapsed: 0:00:06.\n",
            "  Batch   230  of    235.    Elapsed: 0:00:06.\n",
            "\n",
            "  Average training loss generetor: 0.746\n",
            "  Average training loss discriminator: 4.630\n",
            "  Training epcoh took: 0:00:06\n",
            "\n",
            "Running Test...\n",
            "  Accuracy: 0.417\n",
            "  Test Loss: 3.528\n",
            "  Test took: 0:00:01\n"
          ]
        }
      ]
    },
    {
      "cell_type": "code",
      "source": [
        "training_procedure_completion_print(training_stats_40, total_t0)"
      ],
      "metadata": {
        "colab": {
          "base_uri": "https://localhost:8080/"
        },
        "outputId": "b3714078-d722-43f7-808b-ede44f8c3801",
        "id": "Xt-3fUi5G5BP"
      },
      "execution_count": 54,
      "outputs": [
        {
          "output_type": "stream",
          "name": "stdout",
          "text": [
            "{'epoch': 1, 'Training Loss generator': 0.3290237516561087, 'Training Loss discriminator': 8.05837090674867, 'Valid. Loss': 4.809695243835449, 'Valid. Accur.': 0.06155555555555556, 'Training Time': '0:00:06', 'Test Time': '0:00:00'}\n",
            "{'epoch': 2, 'Training Loss generator': 0.7604810871976487, 'Training Loss discriminator': 5.674054602359203, 'Valid. Loss': 4.520574569702148, 'Valid. Accur.': 0.19111111111111112, 'Training Time': '0:00:06', 'Test Time': '0:00:00'}\n",
            "{'epoch': 3, 'Training Loss generator': 0.7486343104788598, 'Training Loss discriminator': 5.345676799530678, 'Valid. Loss': 4.2140583992004395, 'Valid. Accur.': 0.30444444444444446, 'Training Time': '0:00:06', 'Test Time': '0:00:00'}\n",
            "{'epoch': 4, 'Training Loss generator': 0.7457201473256375, 'Training Loss discriminator': 4.9946121946294255, 'Valid. Loss': 3.875866413116455, 'Valid. Accur.': 0.37044444444444447, 'Training Time': '0:00:08', 'Test Time': '0:00:00'}\n",
            "{'epoch': 5, 'Training Loss generator': 0.7462316809816564, 'Training Loss discriminator': 4.63043617289117, 'Valid. Loss': 3.5281851291656494, 'Valid. Accur.': 0.41733333333333333, 'Training Time': '0:00:06', 'Test Time': '0:00:01'}\n",
            "\n",
            "Training complete!\n",
            "Total training took 0:00:49 (h:mm:ss)\n"
          ]
        }
      ]
    },
    {
      "cell_type": "code",
      "source": [
        "training_stats_40[-1]"
      ],
      "metadata": {
        "colab": {
          "base_uri": "https://localhost:8080/"
        },
        "outputId": "5df65e54-9100-400e-c5c3-56dbd68cff52",
        "id": "qf-LFYGhG5BP"
      },
      "execution_count": 55,
      "outputs": [
        {
          "output_type": "execute_result",
          "data": {
            "text/plain": [
              "{'Test Time': '0:00:01',\n",
              " 'Training Loss discriminator': 4.63043617289117,\n",
              " 'Training Loss generator': 0.7462316809816564,\n",
              " 'Training Time': '0:00:06',\n",
              " 'Valid. Accur.': 0.41733333333333333,\n",
              " 'Valid. Loss': 3.5281851291656494,\n",
              " 'epoch': 5}"
            ]
          },
          "metadata": {},
          "execution_count": 55
        }
      ]
    },
    {
      "cell_type": "markdown",
      "source": [
        "##50_50"
      ],
      "metadata": {
        "id": "xwZfDyvyLzEr"
      }
    },
    {
      "cell_type": "code",
      "source": [
        "labeled_file = \"./50_50/labeled.tsv\"\n",
        "unlabeled_file = \"./50_50/unlabeled.tsv\"\n",
        "test_filename = \"./50_50/test.tsv\""
      ],
      "metadata": {
        "id": "lLlRUNuILzEs"
      },
      "execution_count": 56,
      "outputs": []
    },
    {
      "cell_type": "code",
      "source": [
        "labeled_examples, unlabeled_examples, test_examples = load_the_input_dataset()"
      ],
      "metadata": {
        "id": "F5XdpKTjLzEs"
      },
      "execution_count": 57,
      "outputs": []
    },
    {
      "cell_type": "code",
      "source": [
        "len(labeled_examples)"
      ],
      "metadata": {
        "colab": {
          "base_uri": "https://localhost:8080/"
        },
        "outputId": "bcf7992e-8e1d-4cb9-8556-f4fce1155088",
        "id": "U4ciKxTsLzEs"
      },
      "execution_count": 58,
      "outputs": [
        {
          "output_type": "execute_result",
          "data": {
            "text/plain": [
              "7500"
            ]
          },
          "metadata": {},
          "execution_count": 58
        }
      ]
    },
    {
      "cell_type": "code",
      "source": [
        "len(unlabeled_examples)"
      ],
      "metadata": {
        "colab": {
          "base_uri": "https://localhost:8080/"
        },
        "outputId": "6153a5b5-4259-4d4a-b447-1ec2aad775d5",
        "id": "lRmORmv3LzEs"
      },
      "execution_count": 59,
      "outputs": [
        {
          "output_type": "execute_result",
          "data": {
            "text/plain": [
              "7500"
            ]
          },
          "metadata": {},
          "execution_count": 59
        }
      ]
    },
    {
      "cell_type": "code",
      "source": [
        "len(test_examples)"
      ],
      "metadata": {
        "colab": {
          "base_uri": "https://localhost:8080/"
        },
        "outputId": "671f7a94-1b1b-47c8-d3c9-9f9e8d58ca76",
        "id": "qJ3ho9oCLzEs"
      },
      "execution_count": 60,
      "outputs": [
        {
          "output_type": "execute_result",
          "data": {
            "text/plain": [
              "4500"
            ]
          },
          "metadata": {},
          "execution_count": 60
        }
      ]
    },
    {
      "cell_type": "code",
      "source": [
        "test_dataloader, train_dataloader, train_examples = convert_input_examples_to_dataloader(label_list)"
      ],
      "metadata": {
        "id": "3AQJw0J9LzEs"
      },
      "execution_count": 61,
      "outputs": []
    },
    {
      "cell_type": "code",
      "source": [
        "generator, discriminator = instantiate_discriminator_and_generator(transformer)"
      ],
      "metadata": {
        "id": "CimCG2csLzEt"
      },
      "execution_count": 62,
      "outputs": []
    },
    {
      "cell_type": "code",
      "source": [
        "training_stats_50, total_t0 = training_procedure_start(test_dataloader, train_dataloader, train_examples, generator, discriminator)"
      ],
      "metadata": {
        "colab": {
          "base_uri": "https://localhost:8080/"
        },
        "outputId": "a765cccc-932b-4ca5-bd68-9ee1c9c2a396",
        "id": "1dP_jKgwLzEt"
      },
      "execution_count": 63,
      "outputs": [
        {
          "output_type": "stream",
          "name": "stdout",
          "text": [
            "\n",
            "======== Epoch 1 / 5 ========\n",
            "Training...\n",
            "  Batch    10  of    235.    Elapsed: 0:00:00.\n",
            "  Batch    20  of    235.    Elapsed: 0:00:01.\n",
            "  Batch    30  of    235.    Elapsed: 0:00:01.\n",
            "  Batch    40  of    235.    Elapsed: 0:00:01.\n",
            "  Batch    50  of    235.    Elapsed: 0:00:01.\n",
            "  Batch    60  of    235.    Elapsed: 0:00:02.\n",
            "  Batch    70  of    235.    Elapsed: 0:00:02.\n",
            "  Batch    80  of    235.    Elapsed: 0:00:02.\n",
            "  Batch    90  of    235.    Elapsed: 0:00:02.\n",
            "  Batch   100  of    235.    Elapsed: 0:00:03.\n",
            "  Batch   110  of    235.    Elapsed: 0:00:03.\n",
            "  Batch   120  of    235.    Elapsed: 0:00:03.\n",
            "  Batch   130  of    235.    Elapsed: 0:00:03.\n",
            "  Batch   140  of    235.    Elapsed: 0:00:04.\n",
            "  Batch   150  of    235.    Elapsed: 0:00:04.\n",
            "  Batch   160  of    235.    Elapsed: 0:00:04.\n",
            "  Batch   170  of    235.    Elapsed: 0:00:04.\n",
            "  Batch   180  of    235.    Elapsed: 0:00:05.\n",
            "  Batch   190  of    235.    Elapsed: 0:00:05.\n",
            "  Batch   200  of    235.    Elapsed: 0:00:05.\n",
            "  Batch   210  of    235.    Elapsed: 0:00:05.\n",
            "  Batch   220  of    235.    Elapsed: 0:00:06.\n",
            "  Batch   230  of    235.    Elapsed: 0:00:06.\n",
            "\n",
            "  Average training loss generetor: 0.332\n",
            "  Average training loss discriminator: 7.939\n",
            "  Training epcoh took: 0:00:06\n",
            "\n",
            "Running Test...\n",
            "  Accuracy: 0.095\n",
            "  Test Loss: 4.746\n",
            "  Test took: 0:00:00\n",
            "\n",
            "======== Epoch 2 / 5 ========\n",
            "Training...\n",
            "  Batch    10  of    235.    Elapsed: 0:00:00.\n",
            "  Batch    20  of    235.    Elapsed: 0:00:01.\n",
            "  Batch    30  of    235.    Elapsed: 0:00:01.\n",
            "  Batch    40  of    235.    Elapsed: 0:00:01.\n",
            "  Batch    50  of    235.    Elapsed: 0:00:01.\n",
            "  Batch    60  of    235.    Elapsed: 0:00:02.\n",
            "  Batch    70  of    235.    Elapsed: 0:00:02.\n",
            "  Batch    80  of    235.    Elapsed: 0:00:02.\n",
            "  Batch    90  of    235.    Elapsed: 0:00:02.\n",
            "  Batch   100  of    235.    Elapsed: 0:00:03.\n",
            "  Batch   110  of    235.    Elapsed: 0:00:03.\n",
            "  Batch   120  of    235.    Elapsed: 0:00:03.\n",
            "  Batch   130  of    235.    Elapsed: 0:00:03.\n",
            "  Batch   140  of    235.    Elapsed: 0:00:04.\n",
            "  Batch   150  of    235.    Elapsed: 0:00:04.\n",
            "  Batch   160  of    235.    Elapsed: 0:00:04.\n",
            "  Batch   170  of    235.    Elapsed: 0:00:04.\n",
            "  Batch   180  of    235.    Elapsed: 0:00:05.\n",
            "  Batch   190  of    235.    Elapsed: 0:00:05.\n",
            "  Batch   200  of    235.    Elapsed: 0:00:05.\n",
            "  Batch   210  of    235.    Elapsed: 0:00:05.\n",
            "  Batch   220  of    235.    Elapsed: 0:00:06.\n",
            "  Batch   230  of    235.    Elapsed: 0:00:06.\n",
            "\n",
            "  Average training loss generetor: 0.764\n",
            "  Average training loss discriminator: 5.554\n",
            "  Training epcoh took: 0:00:06\n",
            "\n",
            "Running Test...\n",
            "  Accuracy: 0.221\n",
            "  Test Loss: 4.387\n",
            "  Test took: 0:00:00\n",
            "\n",
            "======== Epoch 3 / 5 ========\n",
            "Training...\n",
            "  Batch    10  of    235.    Elapsed: 0:00:00.\n",
            "  Batch    20  of    235.    Elapsed: 0:00:01.\n",
            "  Batch    30  of    235.    Elapsed: 0:00:01.\n",
            "  Batch    40  of    235.    Elapsed: 0:00:01.\n",
            "  Batch    50  of    235.    Elapsed: 0:00:01.\n",
            "  Batch    60  of    235.    Elapsed: 0:00:02.\n",
            "  Batch    70  of    235.    Elapsed: 0:00:02.\n",
            "  Batch    80  of    235.    Elapsed: 0:00:02.\n",
            "  Batch    90  of    235.    Elapsed: 0:00:02.\n",
            "  Batch   100  of    235.    Elapsed: 0:00:03.\n",
            "  Batch   110  of    235.    Elapsed: 0:00:03.\n",
            "  Batch   120  of    235.    Elapsed: 0:00:03.\n",
            "  Batch   130  of    235.    Elapsed: 0:00:03.\n",
            "  Batch   140  of    235.    Elapsed: 0:00:04.\n",
            "  Batch   150  of    235.    Elapsed: 0:00:04.\n",
            "  Batch   160  of    235.    Elapsed: 0:00:04.\n",
            "  Batch   170  of    235.    Elapsed: 0:00:04.\n",
            "  Batch   180  of    235.    Elapsed: 0:00:05.\n",
            "  Batch   190  of    235.    Elapsed: 0:00:05.\n",
            "  Batch   200  of    235.    Elapsed: 0:00:05.\n",
            "  Batch   210  of    235.    Elapsed: 0:00:05.\n",
            "  Batch   220  of    235.    Elapsed: 0:00:06.\n",
            "  Batch   230  of    235.    Elapsed: 0:00:06.\n",
            "\n",
            "  Average training loss generetor: 0.749\n",
            "  Average training loss discriminator: 5.156\n",
            "  Training epcoh took: 0:00:06\n",
            "\n",
            "Running Test...\n",
            "  Accuracy: 0.308\n",
            "  Test Loss: 4.009\n",
            "  Test took: 0:00:00\n",
            "\n",
            "======== Epoch 4 / 5 ========\n",
            "Training...\n",
            "  Batch    10  of    235.    Elapsed: 0:00:00.\n",
            "  Batch    20  of    235.    Elapsed: 0:00:01.\n",
            "  Batch    30  of    235.    Elapsed: 0:00:01.\n",
            "  Batch    40  of    235.    Elapsed: 0:00:01.\n",
            "  Batch    50  of    235.    Elapsed: 0:00:01.\n",
            "  Batch    60  of    235.    Elapsed: 0:00:02.\n",
            "  Batch    70  of    235.    Elapsed: 0:00:02.\n",
            "  Batch    80  of    235.    Elapsed: 0:00:02.\n",
            "  Batch    90  of    235.    Elapsed: 0:00:02.\n",
            "  Batch   100  of    235.    Elapsed: 0:00:03.\n",
            "  Batch   110  of    235.    Elapsed: 0:00:03.\n",
            "  Batch   120  of    235.    Elapsed: 0:00:03.\n",
            "  Batch   130  of    235.    Elapsed: 0:00:03.\n",
            "  Batch   140  of    235.    Elapsed: 0:00:04.\n",
            "  Batch   150  of    235.    Elapsed: 0:00:04.\n",
            "  Batch   160  of    235.    Elapsed: 0:00:04.\n",
            "  Batch   170  of    235.    Elapsed: 0:00:04.\n",
            "  Batch   180  of    235.    Elapsed: 0:00:05.\n",
            "  Batch   190  of    235.    Elapsed: 0:00:05.\n",
            "  Batch   200  of    235.    Elapsed: 0:00:05.\n",
            "  Batch   210  of    235.    Elapsed: 0:00:05.\n",
            "  Batch   220  of    235.    Elapsed: 0:00:06.\n",
            "  Batch   230  of    235.    Elapsed: 0:00:06.\n",
            "\n",
            "  Average training loss generetor: 0.749\n",
            "  Average training loss discriminator: 4.749\n",
            "  Training epcoh took: 0:00:06\n",
            "\n",
            "Running Test...\n",
            "  Accuracy: 0.379\n",
            "  Test Loss: 3.622\n",
            "  Test took: 0:00:00\n",
            "\n",
            "======== Epoch 5 / 5 ========\n",
            "Training...\n",
            "  Batch    10  of    235.    Elapsed: 0:00:00.\n",
            "  Batch    20  of    235.    Elapsed: 0:00:01.\n",
            "  Batch    30  of    235.    Elapsed: 0:00:01.\n",
            "  Batch    40  of    235.    Elapsed: 0:00:01.\n",
            "  Batch    50  of    235.    Elapsed: 0:00:01.\n",
            "  Batch    60  of    235.    Elapsed: 0:00:02.\n",
            "  Batch    70  of    235.    Elapsed: 0:00:02.\n",
            "  Batch    80  of    235.    Elapsed: 0:00:02.\n",
            "  Batch    90  of    235.    Elapsed: 0:00:02.\n",
            "  Batch   100  of    235.    Elapsed: 0:00:03.\n",
            "  Batch   110  of    235.    Elapsed: 0:00:03.\n",
            "  Batch   120  of    235.    Elapsed: 0:00:03.\n",
            "  Batch   130  of    235.    Elapsed: 0:00:03.\n",
            "  Batch   140  of    235.    Elapsed: 0:00:04.\n",
            "  Batch   150  of    235.    Elapsed: 0:00:04.\n",
            "  Batch   160  of    235.    Elapsed: 0:00:04.\n",
            "  Batch   170  of    235.    Elapsed: 0:00:04.\n",
            "  Batch   180  of    235.    Elapsed: 0:00:05.\n",
            "  Batch   190  of    235.    Elapsed: 0:00:05.\n",
            "  Batch   200  of    235.    Elapsed: 0:00:05.\n",
            "  Batch   210  of    235.    Elapsed: 0:00:05.\n",
            "  Batch   220  of    235.    Elapsed: 0:00:06.\n",
            "  Batch   230  of    235.    Elapsed: 0:00:06.\n",
            "\n",
            "  Average training loss generetor: 0.752\n",
            "  Average training loss discriminator: 4.346\n",
            "  Training epcoh took: 0:00:06\n",
            "\n",
            "Running Test...\n",
            "  Accuracy: 0.475\n",
            "  Test Loss: 3.246\n",
            "  Test took: 0:00:00\n"
          ]
        }
      ]
    },
    {
      "cell_type": "code",
      "source": [
        "training_procedure_completion_print(training_stats_50, total_t0)"
      ],
      "metadata": {
        "colab": {
          "base_uri": "https://localhost:8080/"
        },
        "outputId": "2b961761-2359-407d-c7ef-206b2d9e547c",
        "id": "Afm-dTntLzEt"
      },
      "execution_count": 64,
      "outputs": [
        {
          "output_type": "stream",
          "name": "stdout",
          "text": [
            "{'epoch': 1, 'Training Loss generator': 0.33172560579916266, 'Training Loss discriminator': 7.938953541694803, 'Valid. Loss': 4.745975494384766, 'Valid. Accur.': 0.09488888888888888, 'Training Time': '0:00:06', 'Test Time': '0:00:00'}\n",
            "{'epoch': 2, 'Training Loss generator': 0.7639597068441675, 'Training Loss discriminator': 5.554377434101511, 'Valid. Loss': 4.387365341186523, 'Valid. Accur.': 0.22133333333333333, 'Training Time': '0:00:06', 'Test Time': '0:00:00'}\n",
            "{'epoch': 3, 'Training Loss generator': 0.7487535943376257, 'Training Loss discriminator': 5.1558471578232785, 'Valid. Loss': 4.009373188018799, 'Valid. Accur.': 0.308, 'Training Time': '0:00:06', 'Test Time': '0:00:00'}\n",
            "{'epoch': 4, 'Training Loss generator': 0.7493078338338973, 'Training Loss discriminator': 4.7492284226924815, 'Valid. Loss': 3.622387409210205, 'Valid. Accur.': 0.3788888888888889, 'Training Time': '0:00:06', 'Test Time': '0:00:00'}\n",
            "{'epoch': 5, 'Training Loss generator': 0.7515372205287852, 'Training Loss discriminator': 4.346355664476436, 'Valid. Loss': 3.2459042072296143, 'Valid. Accur.': 0.47533333333333333, 'Training Time': '0:00:06', 'Test Time': '0:00:00'}\n",
            "\n",
            "Training complete!\n",
            "Total training took 0:00:36 (h:mm:ss)\n"
          ]
        }
      ]
    },
    {
      "cell_type": "code",
      "source": [
        "training_stats_50[-1]"
      ],
      "metadata": {
        "colab": {
          "base_uri": "https://localhost:8080/"
        },
        "outputId": "6d6524d1-6c32-4144-c11a-a1deccf7baf2",
        "id": "nA_PJEYILzEt"
      },
      "execution_count": 65,
      "outputs": [
        {
          "output_type": "execute_result",
          "data": {
            "text/plain": [
              "{'Test Time': '0:00:00',\n",
              " 'Training Loss discriminator': 4.346355664476436,\n",
              " 'Training Loss generator': 0.7515372205287852,\n",
              " 'Training Time': '0:00:06',\n",
              " 'Valid. Accur.': 0.47533333333333333,\n",
              " 'Valid. Loss': 3.2459042072296143,\n",
              " 'epoch': 5}"
            ]
          },
          "metadata": {},
          "execution_count": 65
        }
      ]
    },
    {
      "cell_type": "markdown",
      "source": [
        "##1_99"
      ],
      "metadata": {
        "id": "jA5J8q6hMrFO"
      }
    },
    {
      "cell_type": "code",
      "source": [
        "labeled_file = \"./1_99/labeled.tsv\"\n",
        "unlabeled_file = \"./1_99/unlabeled.tsv\"\n",
        "test_filename = \"./1_99/test.tsv\""
      ],
      "metadata": {
        "id": "iokUBVrJMrFO"
      },
      "execution_count": 66,
      "outputs": []
    },
    {
      "cell_type": "code",
      "source": [
        "labeled_examples, unlabeled_examples, test_examples = load_the_input_dataset()"
      ],
      "metadata": {
        "id": "eOF82Tx2MrFP"
      },
      "execution_count": 67,
      "outputs": []
    },
    {
      "cell_type": "code",
      "source": [
        "len(labeled_examples)"
      ],
      "metadata": {
        "colab": {
          "base_uri": "https://localhost:8080/"
        },
        "outputId": "3be05600-bab4-4c6b-faa5-ccf48bf27b2f",
        "id": "Ww14cnQmMrFP"
      },
      "execution_count": 68,
      "outputs": [
        {
          "output_type": "execute_result",
          "data": {
            "text/plain": [
              "150"
            ]
          },
          "metadata": {},
          "execution_count": 68
        }
      ]
    },
    {
      "cell_type": "code",
      "source": [
        "len(unlabeled_examples)"
      ],
      "metadata": {
        "colab": {
          "base_uri": "https://localhost:8080/"
        },
        "outputId": "5420beb3-efb9-4440-f03c-d4c8cd1de6a1",
        "id": "R26TdAIoMrFP"
      },
      "execution_count": 69,
      "outputs": [
        {
          "output_type": "execute_result",
          "data": {
            "text/plain": [
              "14850"
            ]
          },
          "metadata": {},
          "execution_count": 69
        }
      ]
    },
    {
      "cell_type": "code",
      "source": [
        "len(test_examples)"
      ],
      "metadata": {
        "colab": {
          "base_uri": "https://localhost:8080/"
        },
        "outputId": "6f2648c3-5d26-45ef-c87d-832711b31138",
        "id": "MLQ2dJNyMrFP"
      },
      "execution_count": 70,
      "outputs": [
        {
          "output_type": "execute_result",
          "data": {
            "text/plain": [
              "4500"
            ]
          },
          "metadata": {},
          "execution_count": 70
        }
      ]
    },
    {
      "cell_type": "code",
      "source": [
        "test_dataloader, train_dataloader, train_examples = convert_input_examples_to_dataloader(label_list)"
      ],
      "metadata": {
        "id": "gQ6ZHq_jMrFP"
      },
      "execution_count": 71,
      "outputs": []
    },
    {
      "cell_type": "code",
      "source": [
        "generator, discriminator = instantiate_discriminator_and_generator(transformer)"
      ],
      "metadata": {
        "id": "UHZphA0nMrFP"
      },
      "execution_count": 72,
      "outputs": []
    },
    {
      "cell_type": "code",
      "source": [
        "training_stats_1, total_t0 = training_procedure_start(test_dataloader, train_dataloader, train_examples, generator, discriminator)"
      ],
      "metadata": {
        "colab": {
          "base_uri": "https://localhost:8080/"
        },
        "outputId": "f6a4f785-d64f-42e2-da52-39aea5e8435d",
        "id": "Jgrs7ezFMrFP"
      },
      "execution_count": 73,
      "outputs": [
        {
          "output_type": "stream",
          "name": "stdout",
          "text": [
            "\n",
            "======== Epoch 1 / 5 ========\n",
            "Training...\n",
            "  Batch    10  of    247.    Elapsed: 0:00:00.\n",
            "  Batch    20  of    247.    Elapsed: 0:00:01.\n",
            "  Batch    30  of    247.    Elapsed: 0:00:01.\n",
            "  Batch    40  of    247.    Elapsed: 0:00:01.\n",
            "  Batch    50  of    247.    Elapsed: 0:00:01.\n",
            "  Batch    60  of    247.    Elapsed: 0:00:02.\n",
            "  Batch    70  of    247.    Elapsed: 0:00:02.\n",
            "  Batch    80  of    247.    Elapsed: 0:00:02.\n",
            "  Batch    90  of    247.    Elapsed: 0:00:02.\n",
            "  Batch   100  of    247.    Elapsed: 0:00:03.\n",
            "  Batch   110  of    247.    Elapsed: 0:00:03.\n",
            "  Batch   120  of    247.    Elapsed: 0:00:03.\n",
            "  Batch   130  of    247.    Elapsed: 0:00:03.\n",
            "  Batch   140  of    247.    Elapsed: 0:00:04.\n",
            "  Batch   150  of    247.    Elapsed: 0:00:04.\n",
            "  Batch   160  of    247.    Elapsed: 0:00:04.\n",
            "  Batch   170  of    247.    Elapsed: 0:00:04.\n",
            "  Batch   180  of    247.    Elapsed: 0:00:05.\n",
            "  Batch   190  of    247.    Elapsed: 0:00:05.\n",
            "  Batch   200  of    247.    Elapsed: 0:00:05.\n",
            "  Batch   210  of    247.    Elapsed: 0:00:05.\n",
            "  Batch   220  of    247.    Elapsed: 0:00:06.\n",
            "  Batch   230  of    247.    Elapsed: 0:00:06.\n",
            "  Batch   240  of    247.    Elapsed: 0:00:06.\n",
            "\n",
            "  Average training loss generetor: 0.322\n",
            "  Average training loss discriminator: 8.112\n",
            "  Training epcoh took: 0:00:06\n",
            "\n",
            "Running Test...\n",
            "  Accuracy: 0.032\n",
            "  Test Loss: 4.891\n",
            "  Test took: 0:00:00\n",
            "\n",
            "======== Epoch 2 / 5 ========\n",
            "Training...\n",
            "  Batch    10  of    247.    Elapsed: 0:00:00.\n",
            "  Batch    20  of    247.    Elapsed: 0:00:01.\n",
            "  Batch    30  of    247.    Elapsed: 0:00:01.\n",
            "  Batch    40  of    247.    Elapsed: 0:00:01.\n",
            "  Batch    50  of    247.    Elapsed: 0:00:01.\n",
            "  Batch    60  of    247.    Elapsed: 0:00:02.\n",
            "  Batch    70  of    247.    Elapsed: 0:00:02.\n",
            "  Batch    80  of    247.    Elapsed: 0:00:02.\n",
            "  Batch    90  of    247.    Elapsed: 0:00:02.\n",
            "  Batch   100  of    247.    Elapsed: 0:00:03.\n",
            "  Batch   110  of    247.    Elapsed: 0:00:03.\n",
            "  Batch   120  of    247.    Elapsed: 0:00:03.\n",
            "  Batch   130  of    247.    Elapsed: 0:00:03.\n",
            "  Batch   140  of    247.    Elapsed: 0:00:04.\n",
            "  Batch   150  of    247.    Elapsed: 0:00:04.\n",
            "  Batch   160  of    247.    Elapsed: 0:00:04.\n",
            "  Batch   170  of    247.    Elapsed: 0:00:04.\n",
            "  Batch   180  of    247.    Elapsed: 0:00:05.\n",
            "  Batch   190  of    247.    Elapsed: 0:00:05.\n",
            "  Batch   200  of    247.    Elapsed: 0:00:05.\n",
            "  Batch   210  of    247.    Elapsed: 0:00:05.\n",
            "  Batch   220  of    247.    Elapsed: 0:00:06.\n",
            "  Batch   230  of    247.    Elapsed: 0:00:06.\n",
            "  Batch   240  of    247.    Elapsed: 0:00:06.\n",
            "\n",
            "  Average training loss generetor: 0.831\n",
            "  Average training loss discriminator: 5.739\n",
            "  Training epcoh took: 0:00:06\n",
            "\n",
            "Running Test...\n",
            "  Accuracy: 0.077\n",
            "  Test Loss: 4.780\n",
            "  Test took: 0:00:00\n",
            "\n",
            "======== Epoch 3 / 5 ========\n",
            "Training...\n",
            "  Batch    10  of    247.    Elapsed: 0:00:00.\n",
            "  Batch    20  of    247.    Elapsed: 0:00:01.\n",
            "  Batch    30  of    247.    Elapsed: 0:00:01.\n",
            "  Batch    40  of    247.    Elapsed: 0:00:01.\n",
            "  Batch    50  of    247.    Elapsed: 0:00:01.\n",
            "  Batch    60  of    247.    Elapsed: 0:00:02.\n",
            "  Batch    70  of    247.    Elapsed: 0:00:02.\n",
            "  Batch    80  of    247.    Elapsed: 0:00:02.\n",
            "  Batch    90  of    247.    Elapsed: 0:00:02.\n",
            "  Batch   100  of    247.    Elapsed: 0:00:03.\n",
            "  Batch   110  of    247.    Elapsed: 0:00:03.\n",
            "  Batch   120  of    247.    Elapsed: 0:00:03.\n",
            "  Batch   130  of    247.    Elapsed: 0:00:03.\n",
            "  Batch   140  of    247.    Elapsed: 0:00:04.\n",
            "  Batch   150  of    247.    Elapsed: 0:00:04.\n",
            "  Batch   160  of    247.    Elapsed: 0:00:04.\n",
            "  Batch   170  of    247.    Elapsed: 0:00:04.\n",
            "  Batch   180  of    247.    Elapsed: 0:00:05.\n",
            "  Batch   190  of    247.    Elapsed: 0:00:05.\n",
            "  Batch   200  of    247.    Elapsed: 0:00:05.\n",
            "  Batch   210  of    247.    Elapsed: 0:00:05.\n",
            "  Batch   220  of    247.    Elapsed: 0:00:06.\n",
            "  Batch   230  of    247.    Elapsed: 0:00:06.\n",
            "  Batch   240  of    247.    Elapsed: 0:00:06.\n",
            "\n",
            "  Average training loss generetor: 0.758\n",
            "  Average training loss discriminator: 5.402\n",
            "  Training epcoh took: 0:00:06\n",
            "\n",
            "Running Test...\n",
            "  Accuracy: 0.145\n",
            "  Test Loss: 4.658\n",
            "  Test took: 0:00:00\n",
            "\n",
            "======== Epoch 4 / 5 ========\n",
            "Training...\n",
            "  Batch    10  of    247.    Elapsed: 0:00:00.\n",
            "  Batch    20  of    247.    Elapsed: 0:00:01.\n",
            "  Batch    30  of    247.    Elapsed: 0:00:01.\n",
            "  Batch    40  of    247.    Elapsed: 0:00:01.\n",
            "  Batch    50  of    247.    Elapsed: 0:00:01.\n",
            "  Batch    60  of    247.    Elapsed: 0:00:02.\n",
            "  Batch    70  of    247.    Elapsed: 0:00:02.\n",
            "  Batch    80  of    247.    Elapsed: 0:00:02.\n",
            "  Batch    90  of    247.    Elapsed: 0:00:02.\n",
            "  Batch   100  of    247.    Elapsed: 0:00:03.\n",
            "  Batch   110  of    247.    Elapsed: 0:00:03.\n",
            "  Batch   120  of    247.    Elapsed: 0:00:03.\n",
            "  Batch   130  of    247.    Elapsed: 0:00:03.\n",
            "  Batch   140  of    247.    Elapsed: 0:00:04.\n",
            "  Batch   150  of    247.    Elapsed: 0:00:04.\n",
            "  Batch   160  of    247.    Elapsed: 0:00:04.\n",
            "  Batch   170  of    247.    Elapsed: 0:00:04.\n",
            "  Batch   180  of    247.    Elapsed: 0:00:05.\n",
            "  Batch   190  of    247.    Elapsed: 0:00:05.\n",
            "  Batch   200  of    247.    Elapsed: 0:00:05.\n",
            "  Batch   210  of    247.    Elapsed: 0:00:05.\n",
            "  Batch   220  of    247.    Elapsed: 0:00:06.\n",
            "  Batch   230  of    247.    Elapsed: 0:00:06.\n",
            "  Batch   240  of    247.    Elapsed: 0:00:06.\n",
            "\n",
            "  Average training loss generetor: 0.746\n",
            "  Average training loss discriminator: 5.270\n",
            "  Training epcoh took: 0:00:06\n",
            "\n",
            "Running Test...\n",
            "  Accuracy: 0.192\n",
            "  Test Loss: 4.529\n",
            "  Test took: 0:00:00\n",
            "\n",
            "======== Epoch 5 / 5 ========\n",
            "Training...\n",
            "  Batch    10  of    247.    Elapsed: 0:00:00.\n",
            "  Batch    20  of    247.    Elapsed: 0:00:01.\n",
            "  Batch    30  of    247.    Elapsed: 0:00:01.\n",
            "  Batch    40  of    247.    Elapsed: 0:00:01.\n",
            "  Batch    50  of    247.    Elapsed: 0:00:01.\n",
            "  Batch    60  of    247.    Elapsed: 0:00:02.\n",
            "  Batch    70  of    247.    Elapsed: 0:00:02.\n",
            "  Batch    80  of    247.    Elapsed: 0:00:02.\n",
            "  Batch    90  of    247.    Elapsed: 0:00:02.\n",
            "  Batch   100  of    247.    Elapsed: 0:00:03.\n",
            "  Batch   110  of    247.    Elapsed: 0:00:03.\n",
            "  Batch   120  of    247.    Elapsed: 0:00:03.\n",
            "  Batch   130  of    247.    Elapsed: 0:00:03.\n",
            "  Batch   140  of    247.    Elapsed: 0:00:04.\n",
            "  Batch   150  of    247.    Elapsed: 0:00:04.\n",
            "  Batch   160  of    247.    Elapsed: 0:00:04.\n",
            "  Batch   170  of    247.    Elapsed: 0:00:04.\n",
            "  Batch   180  of    247.    Elapsed: 0:00:05.\n",
            "  Batch   190  of    247.    Elapsed: 0:00:05.\n",
            "  Batch   200  of    247.    Elapsed: 0:00:05.\n",
            "  Batch   210  of    247.    Elapsed: 0:00:05.\n",
            "  Batch   220  of    247.    Elapsed: 0:00:06.\n",
            "  Batch   230  of    247.    Elapsed: 0:00:06.\n",
            "  Batch   240  of    247.    Elapsed: 0:00:06.\n",
            "\n",
            "  Average training loss generetor: 0.737\n",
            "  Average training loss discriminator: 5.083\n",
            "  Training epcoh took: 0:00:06\n",
            "\n",
            "Running Test...\n",
            "  Accuracy: 0.223\n",
            "  Test Loss: 4.412\n",
            "  Test took: 0:00:00\n"
          ]
        }
      ]
    },
    {
      "cell_type": "code",
      "source": [
        "training_procedure_completion_print(training_stats_1, total_t0)"
      ],
      "metadata": {
        "colab": {
          "base_uri": "https://localhost:8080/"
        },
        "outputId": "be583be8-0275-4e68-8f08-d4834156d0f7",
        "id": "fp72ot0aMrFQ"
      },
      "execution_count": 74,
      "outputs": [
        {
          "output_type": "stream",
          "name": "stdout",
          "text": [
            "{'epoch': 1, 'Training Loss generator': 0.32181275346380495, 'Training Loss discriminator': 8.111525514830461, 'Valid. Loss': 4.891260623931885, 'Valid. Accur.': 0.03155555555555556, 'Training Time': '0:00:06', 'Test Time': '0:00:00'}\n",
            "{'epoch': 2, 'Training Loss generator': 0.8309443064546778, 'Training Loss discriminator': 5.739177246325411, 'Valid. Loss': 4.780420780181885, 'Valid. Accur.': 0.07733333333333334, 'Training Time': '0:00:06', 'Test Time': '0:00:00'}\n",
            "{'epoch': 3, 'Training Loss generator': 0.75803403936417, 'Training Loss discriminator': 5.401900086084358, 'Valid. Loss': 4.658026218414307, 'Valid. Accur.': 0.1451111111111111, 'Training Time': '0:00:06', 'Test Time': '0:00:00'}\n",
            "{'epoch': 4, 'Training Loss generator': 0.7462442454538847, 'Training Loss discriminator': 5.26986261683437, 'Valid. Loss': 4.528913497924805, 'Valid. Accur.': 0.19155555555555556, 'Training Time': '0:00:06', 'Test Time': '0:00:00'}\n",
            "{'epoch': 5, 'Training Loss generator': 0.7374529237689277, 'Training Loss discriminator': 5.083373018604541, 'Valid. Loss': 4.412231922149658, 'Valid. Accur.': 0.22266666666666668, 'Training Time': '0:00:06', 'Test Time': '0:00:00'}\n",
            "\n",
            "Training complete!\n",
            "Total training took 0:00:36 (h:mm:ss)\n"
          ]
        }
      ]
    },
    {
      "cell_type": "code",
      "source": [
        "training_stats_1[-1]"
      ],
      "metadata": {
        "colab": {
          "base_uri": "https://localhost:8080/"
        },
        "outputId": "0978d669-6486-469f-ca70-6069e6979ae7",
        "id": "uSuz6Er4MrFQ"
      },
      "execution_count": 75,
      "outputs": [
        {
          "output_type": "execute_result",
          "data": {
            "text/plain": [
              "{'Test Time': '0:00:00',\n",
              " 'Training Loss discriminator': 5.083373018604541,\n",
              " 'Training Loss generator': 0.7374529237689277,\n",
              " 'Training Time': '0:00:06',\n",
              " 'Valid. Accur.': 0.22266666666666668,\n",
              " 'Valid. Loss': 4.412231922149658,\n",
              " 'epoch': 5}"
            ]
          },
          "metadata": {},
          "execution_count": 75
        }
      ]
    },
    {
      "cell_type": "markdown",
      "source": [
        "##2_98"
      ],
      "metadata": {
        "id": "LAhKqqvUM8mf"
      }
    },
    {
      "cell_type": "code",
      "source": [
        "labeled_file = \"./2_98/labeled.tsv\"\n",
        "unlabeled_file = \"./2_98/unlabeled.tsv\"\n",
        "test_filename = \"./2_98/test.tsv\""
      ],
      "metadata": {
        "id": "H9oUBL25M8mg"
      },
      "execution_count": 76,
      "outputs": []
    },
    {
      "cell_type": "code",
      "source": [
        "labeled_examples, unlabeled_examples, test_examples = load_the_input_dataset()"
      ],
      "metadata": {
        "id": "PGsjlj79M8mg"
      },
      "execution_count": 77,
      "outputs": []
    },
    {
      "cell_type": "code",
      "source": [
        "len(labeled_examples)"
      ],
      "metadata": {
        "colab": {
          "base_uri": "https://localhost:8080/"
        },
        "outputId": "f1a1e999-1ddc-4381-e41d-82dea4e4c270",
        "id": "io8zU3oNM8mh"
      },
      "execution_count": 78,
      "outputs": [
        {
          "output_type": "execute_result",
          "data": {
            "text/plain": [
              "300"
            ]
          },
          "metadata": {},
          "execution_count": 78
        }
      ]
    },
    {
      "cell_type": "code",
      "source": [
        "len(unlabeled_examples)"
      ],
      "metadata": {
        "colab": {
          "base_uri": "https://localhost:8080/"
        },
        "outputId": "efaccd65-7e58-4423-ae6c-252b81409d6f",
        "id": "uarOxPTmM8mh"
      },
      "execution_count": 79,
      "outputs": [
        {
          "output_type": "execute_result",
          "data": {
            "text/plain": [
              "14700"
            ]
          },
          "metadata": {},
          "execution_count": 79
        }
      ]
    },
    {
      "cell_type": "code",
      "source": [
        "len(test_examples)"
      ],
      "metadata": {
        "colab": {
          "base_uri": "https://localhost:8080/"
        },
        "outputId": "bc2a3b21-5102-4979-a40c-d567d052cca9",
        "id": "Wqfs18knM8mh"
      },
      "execution_count": 80,
      "outputs": [
        {
          "output_type": "execute_result",
          "data": {
            "text/plain": [
              "4500"
            ]
          },
          "metadata": {},
          "execution_count": 80
        }
      ]
    },
    {
      "cell_type": "code",
      "source": [
        "test_dataloader, train_dataloader, train_examples = convert_input_examples_to_dataloader(label_list)"
      ],
      "metadata": {
        "id": "SSQZPXk5M8mi"
      },
      "execution_count": 81,
      "outputs": []
    },
    {
      "cell_type": "code",
      "source": [
        "generator, discriminator = instantiate_discriminator_and_generator(transformer)"
      ],
      "metadata": {
        "id": "uF2fD8yuM8mi"
      },
      "execution_count": 82,
      "outputs": []
    },
    {
      "cell_type": "code",
      "source": [
        "training_stats_2, total_t0 = training_procedure_start(test_dataloader, train_dataloader, train_examples, generator, discriminator)"
      ],
      "metadata": {
        "colab": {
          "base_uri": "https://localhost:8080/"
        },
        "outputId": "09a1176f-b094-434d-b2de-f4a4dbe04259",
        "id": "FLiwgZJkM8mi"
      },
      "execution_count": 83,
      "outputs": [
        {
          "output_type": "stream",
          "name": "stdout",
          "text": [
            "\n",
            "======== Epoch 1 / 5 ========\n",
            "Training...\n",
            "  Batch    10  of    254.    Elapsed: 0:00:00.\n",
            "  Batch    20  of    254.    Elapsed: 0:00:01.\n",
            "  Batch    30  of    254.    Elapsed: 0:00:01.\n",
            "  Batch    40  of    254.    Elapsed: 0:00:01.\n",
            "  Batch    50  of    254.    Elapsed: 0:00:01.\n",
            "  Batch    60  of    254.    Elapsed: 0:00:02.\n",
            "  Batch    70  of    254.    Elapsed: 0:00:02.\n",
            "  Batch    80  of    254.    Elapsed: 0:00:02.\n",
            "  Batch    90  of    254.    Elapsed: 0:00:02.\n",
            "  Batch   100  of    254.    Elapsed: 0:00:03.\n",
            "  Batch   110  of    254.    Elapsed: 0:00:03.\n",
            "  Batch   120  of    254.    Elapsed: 0:00:03.\n",
            "  Batch   130  of    254.    Elapsed: 0:00:03.\n",
            "  Batch   140  of    254.    Elapsed: 0:00:04.\n",
            "  Batch   150  of    254.    Elapsed: 0:00:04.\n",
            "  Batch   160  of    254.    Elapsed: 0:00:04.\n",
            "  Batch   170  of    254.    Elapsed: 0:00:04.\n",
            "  Batch   180  of    254.    Elapsed: 0:00:05.\n",
            "  Batch   190  of    254.    Elapsed: 0:00:05.\n",
            "  Batch   200  of    254.    Elapsed: 0:00:05.\n",
            "  Batch   210  of    254.    Elapsed: 0:00:05.\n",
            "  Batch   220  of    254.    Elapsed: 0:00:06.\n",
            "  Batch   230  of    254.    Elapsed: 0:00:06.\n",
            "  Batch   240  of    254.    Elapsed: 0:00:06.\n",
            "  Batch   250  of    254.    Elapsed: 0:00:06.\n",
            "\n",
            "  Average training loss generetor: 0.391\n",
            "  Average training loss discriminator: 7.831\n",
            "  Training epcoh took: 0:00:07\n",
            "\n",
            "Running Test...\n",
            "  Accuracy: 0.019\n",
            "  Test Loss: 4.891\n",
            "  Test took: 0:00:00\n",
            "\n",
            "======== Epoch 2 / 5 ========\n",
            "Training...\n",
            "  Batch    10  of    254.    Elapsed: 0:00:00.\n",
            "  Batch    20  of    254.    Elapsed: 0:00:01.\n",
            "  Batch    30  of    254.    Elapsed: 0:00:01.\n",
            "  Batch    40  of    254.    Elapsed: 0:00:01.\n",
            "  Batch    50  of    254.    Elapsed: 0:00:01.\n",
            "  Batch    60  of    254.    Elapsed: 0:00:02.\n",
            "  Batch    70  of    254.    Elapsed: 0:00:02.\n",
            "  Batch    80  of    254.    Elapsed: 0:00:02.\n",
            "  Batch    90  of    254.    Elapsed: 0:00:02.\n",
            "  Batch   100  of    254.    Elapsed: 0:00:03.\n",
            "  Batch   110  of    254.    Elapsed: 0:00:03.\n",
            "  Batch   120  of    254.    Elapsed: 0:00:03.\n",
            "  Batch   130  of    254.    Elapsed: 0:00:03.\n",
            "  Batch   140  of    254.    Elapsed: 0:00:04.\n",
            "  Batch   150  of    254.    Elapsed: 0:00:04.\n",
            "  Batch   160  of    254.    Elapsed: 0:00:04.\n",
            "  Batch   170  of    254.    Elapsed: 0:00:04.\n",
            "  Batch   180  of    254.    Elapsed: 0:00:05.\n",
            "  Batch   190  of    254.    Elapsed: 0:00:05.\n",
            "  Batch   200  of    254.    Elapsed: 0:00:05.\n",
            "  Batch   210  of    254.    Elapsed: 0:00:05.\n",
            "  Batch   220  of    254.    Elapsed: 0:00:06.\n",
            "  Batch   230  of    254.    Elapsed: 0:00:06.\n",
            "  Batch   240  of    254.    Elapsed: 0:00:06.\n",
            "  Batch   250  of    254.    Elapsed: 0:00:06.\n",
            "\n",
            "  Average training loss generetor: 0.780\n",
            "  Average training loss discriminator: 5.632\n",
            "  Training epcoh took: 0:00:07\n",
            "\n",
            "Running Test...\n",
            "  Accuracy: 0.073\n",
            "  Test Loss: 4.748\n",
            "  Test took: 0:00:00\n",
            "\n",
            "======== Epoch 3 / 5 ========\n",
            "Training...\n",
            "  Batch    10  of    254.    Elapsed: 0:00:00.\n",
            "  Batch    20  of    254.    Elapsed: 0:00:01.\n",
            "  Batch    30  of    254.    Elapsed: 0:00:01.\n",
            "  Batch    40  of    254.    Elapsed: 0:00:01.\n",
            "  Batch    50  of    254.    Elapsed: 0:00:01.\n",
            "  Batch    60  of    254.    Elapsed: 0:00:02.\n",
            "  Batch    70  of    254.    Elapsed: 0:00:02.\n",
            "  Batch    80  of    254.    Elapsed: 0:00:02.\n",
            "  Batch    90  of    254.    Elapsed: 0:00:02.\n",
            "  Batch   100  of    254.    Elapsed: 0:00:03.\n",
            "  Batch   110  of    254.    Elapsed: 0:00:03.\n",
            "  Batch   120  of    254.    Elapsed: 0:00:03.\n",
            "  Batch   130  of    254.    Elapsed: 0:00:03.\n",
            "  Batch   140  of    254.    Elapsed: 0:00:04.\n",
            "  Batch   150  of    254.    Elapsed: 0:00:04.\n",
            "  Batch   160  of    254.    Elapsed: 0:00:04.\n",
            "  Batch   170  of    254.    Elapsed: 0:00:04.\n",
            "  Batch   180  of    254.    Elapsed: 0:00:05.\n",
            "  Batch   190  of    254.    Elapsed: 0:00:05.\n",
            "  Batch   200  of    254.    Elapsed: 0:00:05.\n",
            "  Batch   210  of    254.    Elapsed: 0:00:05.\n",
            "  Batch   220  of    254.    Elapsed: 0:00:06.\n",
            "  Batch   230  of    254.    Elapsed: 0:00:06.\n",
            "  Batch   240  of    254.    Elapsed: 0:00:06.\n",
            "  Batch   250  of    254.    Elapsed: 0:00:06.\n",
            "\n",
            "  Average training loss generetor: 0.750\n",
            "  Average training loss discriminator: 5.492\n",
            "  Training epcoh took: 0:00:06\n",
            "\n",
            "Running Test...\n",
            "  Accuracy: 0.116\n",
            "  Test Loss: 4.600\n",
            "  Test took: 0:00:00\n",
            "\n",
            "======== Epoch 4 / 5 ========\n",
            "Training...\n",
            "  Batch    10  of    254.    Elapsed: 0:00:00.\n",
            "  Batch    20  of    254.    Elapsed: 0:00:01.\n",
            "  Batch    30  of    254.    Elapsed: 0:00:01.\n",
            "  Batch    40  of    254.    Elapsed: 0:00:01.\n",
            "  Batch    50  of    254.    Elapsed: 0:00:01.\n",
            "  Batch    60  of    254.    Elapsed: 0:00:02.\n",
            "  Batch    70  of    254.    Elapsed: 0:00:02.\n",
            "  Batch    80  of    254.    Elapsed: 0:00:02.\n",
            "  Batch    90  of    254.    Elapsed: 0:00:02.\n",
            "  Batch   100  of    254.    Elapsed: 0:00:03.\n",
            "  Batch   110  of    254.    Elapsed: 0:00:03.\n",
            "  Batch   120  of    254.    Elapsed: 0:00:03.\n",
            "  Batch   130  of    254.    Elapsed: 0:00:03.\n",
            "  Batch   140  of    254.    Elapsed: 0:00:04.\n",
            "  Batch   150  of    254.    Elapsed: 0:00:04.\n",
            "  Batch   160  of    254.    Elapsed: 0:00:04.\n",
            "  Batch   170  of    254.    Elapsed: 0:00:04.\n",
            "  Batch   180  of    254.    Elapsed: 0:00:05.\n",
            "  Batch   190  of    254.    Elapsed: 0:00:05.\n",
            "  Batch   200  of    254.    Elapsed: 0:00:05.\n",
            "  Batch   210  of    254.    Elapsed: 0:00:05.\n",
            "  Batch   220  of    254.    Elapsed: 0:00:06.\n",
            "  Batch   230  of    254.    Elapsed: 0:00:06.\n",
            "  Batch   240  of    254.    Elapsed: 0:00:06.\n",
            "  Batch   250  of    254.    Elapsed: 0:00:06.\n",
            "\n",
            "  Average training loss generetor: 0.742\n",
            "  Average training loss discriminator: 5.250\n",
            "  Training epcoh took: 0:00:06\n",
            "\n",
            "Running Test...\n",
            "  Accuracy: 0.179\n",
            "  Test Loss: 4.442\n",
            "  Test took: 0:00:01\n",
            "\n",
            "======== Epoch 5 / 5 ========\n",
            "Training...\n",
            "  Batch    10  of    254.    Elapsed: 0:00:00.\n",
            "  Batch    20  of    254.    Elapsed: 0:00:01.\n",
            "  Batch    30  of    254.    Elapsed: 0:00:01.\n",
            "  Batch    40  of    254.    Elapsed: 0:00:01.\n",
            "  Batch    50  of    254.    Elapsed: 0:00:01.\n",
            "  Batch    60  of    254.    Elapsed: 0:00:02.\n",
            "  Batch    70  of    254.    Elapsed: 0:00:02.\n",
            "  Batch    80  of    254.    Elapsed: 0:00:02.\n",
            "  Batch    90  of    254.    Elapsed: 0:00:02.\n",
            "  Batch   100  of    254.    Elapsed: 0:00:03.\n",
            "  Batch   110  of    254.    Elapsed: 0:00:03.\n",
            "  Batch   120  of    254.    Elapsed: 0:00:03.\n",
            "  Batch   130  of    254.    Elapsed: 0:00:03.\n",
            "  Batch   140  of    254.    Elapsed: 0:00:04.\n",
            "  Batch   150  of    254.    Elapsed: 0:00:04.\n",
            "  Batch   160  of    254.    Elapsed: 0:00:04.\n",
            "  Batch   170  of    254.    Elapsed: 0:00:04.\n",
            "  Batch   180  of    254.    Elapsed: 0:00:05.\n",
            "  Batch   190  of    254.    Elapsed: 0:00:05.\n",
            "  Batch   200  of    254.    Elapsed: 0:00:05.\n",
            "  Batch   210  of    254.    Elapsed: 0:00:05.\n",
            "  Batch   220  of    254.    Elapsed: 0:00:06.\n",
            "  Batch   230  of    254.    Elapsed: 0:00:06.\n",
            "  Batch   240  of    254.    Elapsed: 0:00:06.\n",
            "  Batch   250  of    254.    Elapsed: 0:00:06.\n",
            "\n",
            "  Average training loss generetor: 0.741\n",
            "  Average training loss discriminator: 5.048\n",
            "  Training epcoh took: 0:00:06\n",
            "\n",
            "Running Test...\n",
            "  Accuracy: 0.210\n",
            "  Test Loss: 4.285\n",
            "  Test took: 0:00:00\n"
          ]
        }
      ]
    },
    {
      "cell_type": "code",
      "source": [
        "training_procedure_completion_print(training_stats_2, total_t0)"
      ],
      "metadata": {
        "colab": {
          "base_uri": "https://localhost:8080/"
        },
        "outputId": "20c8886b-15fe-4eb1-89bf-0c31370e1780",
        "id": "Jyf2fEx1M8mi"
      },
      "execution_count": 84,
      "outputs": [
        {
          "output_type": "stream",
          "name": "stdout",
          "text": [
            "{'epoch': 1, 'Training Loss generator': 0.39134659684138506, 'Training Loss discriminator': 7.831087823927872, 'Valid. Loss': 4.890683174133301, 'Valid. Accur.': 0.018666666666666668, 'Training Time': '0:00:07', 'Test Time': '0:00:00'}\n",
            "{'epoch': 2, 'Training Loss generator': 0.7798559247978091, 'Training Loss discriminator': 5.632400302201744, 'Valid. Loss': 4.748368740081787, 'Valid. Accur.': 0.07288888888888889, 'Training Time': '0:00:07', 'Test Time': '0:00:00'}\n",
            "{'epoch': 3, 'Training Loss generator': 0.7498461791849512, 'Training Loss discriminator': 5.492148780447292, 'Valid. Loss': 4.599752902984619, 'Valid. Accur.': 0.116, 'Training Time': '0:00:06', 'Test Time': '0:00:00'}\n",
            "{'epoch': 4, 'Training Loss generator': 0.7423711245454202, 'Training Loss discriminator': 5.2500404260289955, 'Valid. Loss': 4.441521167755127, 'Valid. Accur.': 0.1791111111111111, 'Training Time': '0:00:06', 'Test Time': '0:00:01'}\n",
            "{'epoch': 5, 'Training Loss generator': 0.7408028127640252, 'Training Loss discriminator': 5.047796454251282, 'Valid. Loss': 4.285112380981445, 'Valid. Accur.': 0.20955555555555555, 'Training Time': '0:00:06', 'Test Time': '0:00:00'}\n",
            "\n",
            "Training complete!\n",
            "Total training took 0:00:38 (h:mm:ss)\n"
          ]
        }
      ]
    },
    {
      "cell_type": "code",
      "source": [
        "training_stats_2[-1]"
      ],
      "metadata": {
        "colab": {
          "base_uri": "https://localhost:8080/"
        },
        "outputId": "0f606824-884b-4f5a-a927-bd9db8e2c0e3",
        "id": "4B5d3rVvM8mj"
      },
      "execution_count": 85,
      "outputs": [
        {
          "output_type": "execute_result",
          "data": {
            "text/plain": [
              "{'Test Time': '0:00:00',\n",
              " 'Training Loss discriminator': 5.047796454251282,\n",
              " 'Training Loss generator': 0.7408028127640252,\n",
              " 'Training Time': '0:00:06',\n",
              " 'Valid. Accur.': 0.20955555555555555,\n",
              " 'Valid. Loss': 4.285112380981445,\n",
              " 'epoch': 5}"
            ]
          },
          "metadata": {},
          "execution_count": 85
        }
      ]
    },
    {
      "cell_type": "markdown",
      "source": [
        "##5_95"
      ],
      "metadata": {
        "id": "m43kYfDwNVmY"
      }
    },
    {
      "cell_type": "code",
      "source": [
        "labeled_file = \"./5_95/labeled.tsv\"\n",
        "unlabeled_file = \"./5_95/unlabeled.tsv\"\n",
        "test_filename = \"./5_95/test.tsv\""
      ],
      "metadata": {
        "id": "I3eJUARqNVmY"
      },
      "execution_count": 86,
      "outputs": []
    },
    {
      "cell_type": "code",
      "source": [
        "labeled_examples, unlabeled_examples, test_examples = load_the_input_dataset()"
      ],
      "metadata": {
        "id": "kOXQ68jqNVmZ"
      },
      "execution_count": 87,
      "outputs": []
    },
    {
      "cell_type": "code",
      "source": [
        "len(labeled_examples)"
      ],
      "metadata": {
        "colab": {
          "base_uri": "https://localhost:8080/"
        },
        "outputId": "1f2ad33a-48e8-4131-8fbf-6d0744f16dbb",
        "id": "B3cv5EnNNVmZ"
      },
      "execution_count": 88,
      "outputs": [
        {
          "output_type": "execute_result",
          "data": {
            "text/plain": [
              "750"
            ]
          },
          "metadata": {},
          "execution_count": 88
        }
      ]
    },
    {
      "cell_type": "code",
      "source": [
        "len(unlabeled_examples)"
      ],
      "metadata": {
        "colab": {
          "base_uri": "https://localhost:8080/"
        },
        "outputId": "fe873624-c722-4296-bde1-9fbe669cd826",
        "id": "y8ESd6UENVmZ"
      },
      "execution_count": 89,
      "outputs": [
        {
          "output_type": "execute_result",
          "data": {
            "text/plain": [
              "14250"
            ]
          },
          "metadata": {},
          "execution_count": 89
        }
      ]
    },
    {
      "cell_type": "code",
      "source": [
        "len(test_examples)"
      ],
      "metadata": {
        "colab": {
          "base_uri": "https://localhost:8080/"
        },
        "outputId": "34f98ef1-9f6e-4944-c88d-264429c45353",
        "id": "dZoo4o1-NVmZ"
      },
      "execution_count": 90,
      "outputs": [
        {
          "output_type": "execute_result",
          "data": {
            "text/plain": [
              "4500"
            ]
          },
          "metadata": {},
          "execution_count": 90
        }
      ]
    },
    {
      "cell_type": "code",
      "source": [
        "test_dataloader, train_dataloader, train_examples = convert_input_examples_to_dataloader(label_list)"
      ],
      "metadata": {
        "id": "shGYiKHiNVma"
      },
      "execution_count": 91,
      "outputs": []
    },
    {
      "cell_type": "code",
      "source": [
        "generator, discriminator = instantiate_discriminator_and_generator(transformer)"
      ],
      "metadata": {
        "id": "twHU-G7vNVma"
      },
      "execution_count": 92,
      "outputs": []
    },
    {
      "cell_type": "code",
      "source": [
        "training_stats_5, total_t0 = training_procedure_start(test_dataloader, train_dataloader, train_examples, generator, discriminator)"
      ],
      "metadata": {
        "colab": {
          "base_uri": "https://localhost:8080/"
        },
        "outputId": "f195d94d-7bce-40ba-cc55-4429d641960b",
        "id": "3PDAqlXDNVma"
      },
      "execution_count": 93,
      "outputs": [
        {
          "output_type": "stream",
          "name": "stdout",
          "text": [
            "\n",
            "======== Epoch 1 / 5 ========\n",
            "Training...\n",
            "  Batch    10  of    270.    Elapsed: 0:00:00.\n",
            "  Batch    20  of    270.    Elapsed: 0:00:01.\n",
            "  Batch    30  of    270.    Elapsed: 0:00:01.\n",
            "  Batch    40  of    270.    Elapsed: 0:00:01.\n",
            "  Batch    50  of    270.    Elapsed: 0:00:01.\n",
            "  Batch    60  of    270.    Elapsed: 0:00:02.\n",
            "  Batch    70  of    270.    Elapsed: 0:00:02.\n",
            "  Batch    80  of    270.    Elapsed: 0:00:02.\n",
            "  Batch    90  of    270.    Elapsed: 0:00:02.\n",
            "  Batch   100  of    270.    Elapsed: 0:00:03.\n",
            "  Batch   110  of    270.    Elapsed: 0:00:03.\n",
            "  Batch   120  of    270.    Elapsed: 0:00:03.\n",
            "  Batch   130  of    270.    Elapsed: 0:00:04.\n",
            "  Batch   140  of    270.    Elapsed: 0:00:04.\n",
            "  Batch   150  of    270.    Elapsed: 0:00:04.\n",
            "  Batch   160  of    270.    Elapsed: 0:00:05.\n",
            "  Batch   170  of    270.    Elapsed: 0:00:05.\n",
            "  Batch   180  of    270.    Elapsed: 0:00:05.\n",
            "  Batch   190  of    270.    Elapsed: 0:00:06.\n",
            "  Batch   200  of    270.    Elapsed: 0:00:06.\n",
            "  Batch   210  of    270.    Elapsed: 0:00:06.\n",
            "  Batch   220  of    270.    Elapsed: 0:00:06.\n",
            "  Batch   230  of    270.    Elapsed: 0:00:07.\n",
            "  Batch   240  of    270.    Elapsed: 0:00:07.\n",
            "  Batch   250  of    270.    Elapsed: 0:00:07.\n",
            "  Batch   260  of    270.    Elapsed: 0:00:07.\n",
            "\n",
            "  Average training loss generetor: 0.368\n",
            "  Average training loss discriminator: 7.945\n",
            "  Training epcoh took: 0:00:08\n",
            "\n",
            "Running Test...\n",
            "  Accuracy: 0.034\n",
            "  Test Loss: 4.854\n",
            "  Test took: 0:00:00\n",
            "\n",
            "======== Epoch 2 / 5 ========\n",
            "Training...\n",
            "  Batch    10  of    270.    Elapsed: 0:00:00.\n",
            "  Batch    20  of    270.    Elapsed: 0:00:01.\n",
            "  Batch    30  of    270.    Elapsed: 0:00:01.\n",
            "  Batch    40  of    270.    Elapsed: 0:00:01.\n",
            "  Batch    50  of    270.    Elapsed: 0:00:01.\n",
            "  Batch    60  of    270.    Elapsed: 0:00:02.\n",
            "  Batch    70  of    270.    Elapsed: 0:00:02.\n",
            "  Batch    80  of    270.    Elapsed: 0:00:02.\n",
            "  Batch    90  of    270.    Elapsed: 0:00:02.\n",
            "  Batch   100  of    270.    Elapsed: 0:00:03.\n",
            "  Batch   110  of    270.    Elapsed: 0:00:03.\n",
            "  Batch   120  of    270.    Elapsed: 0:00:03.\n",
            "  Batch   130  of    270.    Elapsed: 0:00:03.\n",
            "  Batch   140  of    270.    Elapsed: 0:00:04.\n",
            "  Batch   150  of    270.    Elapsed: 0:00:04.\n",
            "  Batch   160  of    270.    Elapsed: 0:00:04.\n",
            "  Batch   170  of    270.    Elapsed: 0:00:04.\n",
            "  Batch   180  of    270.    Elapsed: 0:00:05.\n",
            "  Batch   190  of    270.    Elapsed: 0:00:05.\n",
            "  Batch   200  of    270.    Elapsed: 0:00:05.\n",
            "  Batch   210  of    270.    Elapsed: 0:00:05.\n",
            "  Batch   220  of    270.    Elapsed: 0:00:06.\n",
            "  Batch   230  of    270.    Elapsed: 0:00:06.\n",
            "  Batch   240  of    270.    Elapsed: 0:00:06.\n",
            "  Batch   250  of    270.    Elapsed: 0:00:06.\n",
            "  Batch   260  of    270.    Elapsed: 0:00:07.\n",
            "\n",
            "  Average training loss generetor: 0.773\n",
            "  Average training loss discriminator: 5.705\n",
            "  Training epcoh took: 0:00:07\n",
            "\n",
            "Running Test...\n",
            "  Accuracy: 0.106\n",
            "  Test Loss: 4.654\n",
            "  Test took: 0:00:00\n",
            "\n",
            "======== Epoch 3 / 5 ========\n",
            "Training...\n",
            "  Batch    10  of    270.    Elapsed: 0:00:00.\n",
            "  Batch    20  of    270.    Elapsed: 0:00:01.\n",
            "  Batch    30  of    270.    Elapsed: 0:00:01.\n",
            "  Batch    40  of    270.    Elapsed: 0:00:01.\n",
            "  Batch    50  of    270.    Elapsed: 0:00:01.\n",
            "  Batch    60  of    270.    Elapsed: 0:00:02.\n",
            "  Batch    70  of    270.    Elapsed: 0:00:02.\n",
            "  Batch    80  of    270.    Elapsed: 0:00:02.\n",
            "  Batch    90  of    270.    Elapsed: 0:00:02.\n",
            "  Batch   100  of    270.    Elapsed: 0:00:03.\n",
            "  Batch   110  of    270.    Elapsed: 0:00:03.\n",
            "  Batch   120  of    270.    Elapsed: 0:00:03.\n",
            "  Batch   130  of    270.    Elapsed: 0:00:03.\n",
            "  Batch   140  of    270.    Elapsed: 0:00:04.\n",
            "  Batch   150  of    270.    Elapsed: 0:00:04.\n",
            "  Batch   160  of    270.    Elapsed: 0:00:04.\n",
            "  Batch   170  of    270.    Elapsed: 0:00:04.\n",
            "  Batch   180  of    270.    Elapsed: 0:00:05.\n",
            "  Batch   190  of    270.    Elapsed: 0:00:05.\n",
            "  Batch   200  of    270.    Elapsed: 0:00:05.\n",
            "  Batch   210  of    270.    Elapsed: 0:00:05.\n",
            "  Batch   220  of    270.    Elapsed: 0:00:06.\n",
            "  Batch   230  of    270.    Elapsed: 0:00:06.\n",
            "  Batch   240  of    270.    Elapsed: 0:00:06.\n",
            "  Batch   250  of    270.    Elapsed: 0:00:06.\n",
            "  Batch   260  of    270.    Elapsed: 0:00:07.\n",
            "\n",
            "  Average training loss generetor: 0.744\n",
            "  Average training loss discriminator: 5.433\n",
            "  Training epcoh took: 0:00:07\n",
            "\n",
            "Running Test...\n",
            "  Accuracy: 0.185\n",
            "  Test Loss: 4.428\n",
            "  Test took: 0:00:00\n",
            "\n",
            "======== Epoch 4 / 5 ========\n",
            "Training...\n",
            "  Batch    10  of    270.    Elapsed: 0:00:00.\n",
            "  Batch    20  of    270.    Elapsed: 0:00:01.\n",
            "  Batch    30  of    270.    Elapsed: 0:00:01.\n",
            "  Batch    40  of    270.    Elapsed: 0:00:01.\n",
            "  Batch    50  of    270.    Elapsed: 0:00:01.\n",
            "  Batch    60  of    270.    Elapsed: 0:00:02.\n",
            "  Batch    70  of    270.    Elapsed: 0:00:02.\n",
            "  Batch    80  of    270.    Elapsed: 0:00:02.\n",
            "  Batch    90  of    270.    Elapsed: 0:00:02.\n",
            "  Batch   100  of    270.    Elapsed: 0:00:03.\n",
            "  Batch   110  of    270.    Elapsed: 0:00:03.\n",
            "  Batch   120  of    270.    Elapsed: 0:00:03.\n",
            "  Batch   130  of    270.    Elapsed: 0:00:03.\n",
            "  Batch   140  of    270.    Elapsed: 0:00:04.\n",
            "  Batch   150  of    270.    Elapsed: 0:00:04.\n",
            "  Batch   160  of    270.    Elapsed: 0:00:04.\n",
            "  Batch   170  of    270.    Elapsed: 0:00:04.\n",
            "  Batch   180  of    270.    Elapsed: 0:00:05.\n",
            "  Batch   190  of    270.    Elapsed: 0:00:05.\n",
            "  Batch   200  of    270.    Elapsed: 0:00:05.\n",
            "  Batch   210  of    270.    Elapsed: 0:00:05.\n",
            "  Batch   220  of    270.    Elapsed: 0:00:06.\n",
            "  Batch   230  of    270.    Elapsed: 0:00:06.\n",
            "  Batch   240  of    270.    Elapsed: 0:00:06.\n",
            "  Batch   250  of    270.    Elapsed: 0:00:06.\n",
            "  Batch   260  of    270.    Elapsed: 0:00:07.\n",
            "\n",
            "  Average training loss generetor: 0.739\n",
            "  Average training loss discriminator: 5.129\n",
            "  Training epcoh took: 0:00:07\n",
            "\n",
            "Running Test...\n",
            "  Accuracy: 0.265\n",
            "  Test Loss: 4.182\n",
            "  Test took: 0:00:00\n",
            "\n",
            "======== Epoch 5 / 5 ========\n",
            "Training...\n",
            "  Batch    10  of    270.    Elapsed: 0:00:00.\n",
            "  Batch    20  of    270.    Elapsed: 0:00:01.\n",
            "  Batch    30  of    270.    Elapsed: 0:00:01.\n",
            "  Batch    40  of    270.    Elapsed: 0:00:01.\n",
            "  Batch    50  of    270.    Elapsed: 0:00:01.\n",
            "  Batch    60  of    270.    Elapsed: 0:00:02.\n",
            "  Batch    70  of    270.    Elapsed: 0:00:02.\n",
            "  Batch    80  of    270.    Elapsed: 0:00:02.\n",
            "  Batch    90  of    270.    Elapsed: 0:00:02.\n",
            "  Batch   100  of    270.    Elapsed: 0:00:03.\n",
            "  Batch   110  of    270.    Elapsed: 0:00:03.\n",
            "  Batch   120  of    270.    Elapsed: 0:00:03.\n",
            "  Batch   130  of    270.    Elapsed: 0:00:03.\n",
            "  Batch   140  of    270.    Elapsed: 0:00:04.\n",
            "  Batch   150  of    270.    Elapsed: 0:00:04.\n",
            "  Batch   160  of    270.    Elapsed: 0:00:04.\n",
            "  Batch   170  of    270.    Elapsed: 0:00:04.\n",
            "  Batch   180  of    270.    Elapsed: 0:00:05.\n",
            "  Batch   190  of    270.    Elapsed: 0:00:05.\n",
            "  Batch   200  of    270.    Elapsed: 0:00:05.\n",
            "  Batch   210  of    270.    Elapsed: 0:00:05.\n",
            "  Batch   220  of    270.    Elapsed: 0:00:06.\n",
            "  Batch   230  of    270.    Elapsed: 0:00:06.\n",
            "  Batch   240  of    270.    Elapsed: 0:00:06.\n",
            "  Batch   250  of    270.    Elapsed: 0:00:06.\n",
            "  Batch   260  of    270.    Elapsed: 0:00:07.\n",
            "\n",
            "  Average training loss generetor: 0.742\n",
            "  Average training loss discriminator: 4.803\n",
            "  Training epcoh took: 0:00:07\n",
            "\n",
            "Running Test...\n",
            "  Accuracy: 0.345\n",
            "  Test Loss: 3.930\n",
            "  Test took: 0:00:00\n"
          ]
        }
      ]
    },
    {
      "cell_type": "code",
      "source": [
        "training_procedure_completion_print(training_stats_5, total_t0)"
      ],
      "metadata": {
        "colab": {
          "base_uri": "https://localhost:8080/"
        },
        "outputId": "db5a59e5-f64d-4abc-df80-428db42d9eba",
        "id": "xbr48AgMNVma"
      },
      "execution_count": 94,
      "outputs": [
        {
          "output_type": "stream",
          "name": "stdout",
          "text": [
            "{'epoch': 1, 'Training Loss generator': 0.3680159423293339, 'Training Loss discriminator': 7.944758494695027, 'Valid. Loss': 4.853957176208496, 'Valid. Accur.': 0.034, 'Training Time': '0:00:08', 'Test Time': '0:00:00'}\n",
            "{'epoch': 2, 'Training Loss generator': 0.7734571662214067, 'Training Loss discriminator': 5.7054716428120935, 'Valid. Loss': 4.654236793518066, 'Valid. Accur.': 0.10555555555555556, 'Training Time': '0:00:07', 'Test Time': '0:00:00'}\n",
            "{'epoch': 3, 'Training Loss generator': 0.7437099540675128, 'Training Loss discriminator': 5.43312155229074, 'Valid. Loss': 4.427764415740967, 'Valid. Accur.': 0.18533333333333332, 'Training Time': '0:00:07', 'Test Time': '0:00:00'}\n",
            "{'epoch': 4, 'Training Loss generator': 0.7390494805795175, 'Training Loss discriminator': 5.129379881752862, 'Valid. Loss': 4.182183265686035, 'Valid. Accur.': 0.26511111111111113, 'Training Time': '0:00:07', 'Test Time': '0:00:00'}\n",
            "{'epoch': 5, 'Training Loss generator': 0.7419136939225374, 'Training Loss discriminator': 4.8032499489960845, 'Valid. Loss': 3.93046236038208, 'Valid. Accur.': 0.3453333333333333, 'Training Time': '0:00:07', 'Test Time': '0:00:00'}\n",
            "\n",
            "Training complete!\n",
            "Total training took 0:00:40 (h:mm:ss)\n"
          ]
        }
      ]
    },
    {
      "cell_type": "code",
      "source": [
        "training_stats_5[-1]"
      ],
      "metadata": {
        "colab": {
          "base_uri": "https://localhost:8080/"
        },
        "outputId": "379a42cc-5b15-4bfc-afbd-97401f2e62bb",
        "id": "It8qnSsqNVma"
      },
      "execution_count": 95,
      "outputs": [
        {
          "output_type": "execute_result",
          "data": {
            "text/plain": [
              "{'Test Time': '0:00:00',\n",
              " 'Training Loss discriminator': 4.8032499489960845,\n",
              " 'Training Loss generator': 0.7419136939225374,\n",
              " 'Training Time': '0:00:07',\n",
              " 'Valid. Accur.': 0.3453333333333333,\n",
              " 'Valid. Loss': 3.93046236038208,\n",
              " 'epoch': 5}"
            ]
          },
          "metadata": {},
          "execution_count": 95
        }
      ]
    },
    {
      "cell_type": "markdown",
      "source": [
        "## Analysis for different splits and epochs"
      ],
      "metadata": {
        "id": "TOglB1f5zjOD"
      }
    },
    {
      "cell_type": "code",
      "source": [
        "print(\"Last epoch accuracies:\")\n",
        "print(\"1:99:\", training_stats_1[-1][\"Valid. Accur.\"])\n",
        "print(\"2:98:\", training_stats_2[-1][\"Valid. Accur.\"])\n",
        "print(\"5:95:\", training_stats_5[-1][\"Valid. Accur.\"])\n",
        "print(\"10:90:\", training_stats[-1][\"Valid. Accur.\"]) #for 10 \n",
        "print(\"20:80:\", training_stats_20[-1][\"Valid. Accur.\"]) #for 20\n",
        "print(\"30:70:\", training_stats_30[-1][\"Valid. Accur.\"]) #for 30\n",
        "print(\"40:60:\", training_stats_40[-1][\"Valid. Accur.\"])\n",
        "print(\"50:50:\", training_stats_50[-1][\"Valid. Accur.\"])\n"
      ],
      "metadata": {
        "colab": {
          "base_uri": "https://localhost:8080/"
        },
        "id": "jPjRnjB1nhwj",
        "outputId": "c6d17861-ad2d-4901-867a-843614445d2a"
      },
      "execution_count": 96,
      "outputs": [
        {
          "output_type": "stream",
          "name": "stdout",
          "text": [
            "Last epoch accuracies:\n",
            "1:99: 0.22266666666666668\n",
            "2:98: 0.20955555555555555\n",
            "5:95: 0.3453333333333333\n",
            "10:90: 0.2648888888888889\n",
            "20:80: 0.35688888888888887\n",
            "30:70: 0.3277777777777778\n",
            "40:60: 0.41733333333333333\n",
            "50:50: 0.47533333333333333\n"
          ]
        }
      ]
    },
    {
      "cell_type": "code",
      "source": [
        "import matplotlib.pyplot as plt\n",
        "\n",
        "y = [training_stats_1[-1][\"Valid. Accur.\"], training_stats_2[-1][\"Valid. Accur.\"], \\\n",
        "     training_stats_5[-1][\"Valid. Accur.\"], training_stats[-1][\"Valid. Accur.\"], training_stats_20[-1][\"Valid. Accur.\"], \\\n",
        "     training_stats_30[-1][\"Valid. Accur.\"], training_stats_40[-1][\"Valid. Accur.\"]\\\n",
        "     , training_stats_50[-1][\"Valid. Accur.\"]]\n",
        "x = [\"1:99\",\"2:98\",\"5:95\", \"10:90\", \"20:80\", \"30:70\", \"40:60\", \"50:50\"]\n",
        "plt.plot(x, y, '-o')\n",
        "\n",
        "#plt.plot(x, y, label = \"line 1\")\n",
        "#plt.plot(y, x, label = \"line 2\")\n",
        "#plt.plot(x, np.sin(x), label = \"curve 1\")\n",
        "#plt.plot(x, np.cos(x), label = \"curve 2\")\n",
        "\n",
        "# naming the x axis\n",
        "plt.xlabel('Ratio of Training:Testing split')\n",
        "# naming the y axis\n",
        "plt.ylabel('Accuracy (%) after 5 epochs')\n",
        "# giving a title to my graph\n",
        "plt.title('TinyBERT: GAN on CLINC-150 dataset')\n",
        "  \n",
        "# function to show the plot\n",
        "plt.show()"
      ],
      "metadata": {
        "colab": {
          "base_uri": "https://localhost:8080/",
          "height": 295
        },
        "id": "N_-r6L6qNVma",
        "outputId": "4680dd6b-18cd-4f29-d08d-8946bd44d3ec"
      },
      "execution_count": 98,
      "outputs": [
        {
          "output_type": "display_data",
          "data": {
            "text/plain": [
              "<Figure size 432x288 with 1 Axes>"
            ],
            "image/png": "[encoded data removed]"
          },
          "metadata": {
            "needs_background": "light"
          }
        }
      ]
    },
    {
      "cell_type": "code",
      "source": [
        "import matplotlib.pyplot as plt\n",
        "\n",
        "y_1 = [training_stats_1[x][\"Valid. Accur.\"] for x in range(num_train_epochs)]\n",
        "y_2 = [training_stats_2[x][\"Valid. Accur.\"] for x in range(num_train_epochs)]\n",
        "y_5 = [training_stats_5[x][\"Valid. Accur.\"] for x in range(num_train_epochs)]\n",
        "y_10 = [training_stats[x][\"Valid. Accur.\"] for x in range(num_train_epochs)]\n",
        "y_20 = [training_stats_20[x][\"Valid. Accur.\"] for x in range(num_train_epochs)]\n",
        "y_30 = [training_stats_30[x][\"Valid. Accur.\"] for x in range(num_train_epochs)]\n",
        "y_40 = [training_stats_40[x][\"Valid. Accur.\"] for x in range(num_train_epochs)]\n",
        "y_50 = [training_stats_50[x][\"Valid. Accur.\"] for x in range(num_train_epochs)]\n",
        "x = [\"1\",\"2\",\"3\", \"4\", \"5\"]\n",
        "\n",
        "plt.plot(x, y_1, '-o', label = \"1:99 split\")\n",
        "plt.plot(x, y_2, '-o', label = \"2:98 split\")\n",
        "plt.plot(x, y_5, '-o', label = \"5:95 split\")\n",
        "plt.plot(x, y_10, '-o', label = \"10:90 split\")\n",
        "plt.plot(x, y_20, '-o', label = \"20:80 split\")\n",
        "plt.plot(x, y_30, '-o', label = \"30:70 split\")\n",
        "plt.plot(x, y_40, '-o', label = \"40:60 split\")\n",
        "plt.plot(x, y_50, '-o', label = \"50:50 split\")\n",
        "\n",
        "\n",
        "# naming the x axis\n",
        "plt.xlabel('Epochs')\n",
        "# naming the y axis\n",
        "plt.ylabel('Accuracy (%)')\n",
        "# giving a title to my graph\n",
        "plt.title('TinyBERT: GAN on CLINC-150 dataset (Accuracy vs Epochs) for various training splits')\n",
        "plt.legend()\n",
        "  \n",
        "# function to show the plot\n",
        "plt.show()"
      ],
      "metadata": {
        "colab": {
          "base_uri": "https://localhost:8080/",
          "height": 295
        },
        "id": "dFerPQK8mk4-",
        "outputId": "895d9cae-d791-4f4c-a75e-7b9803ee9488"
      },
      "execution_count": 99,
      "outputs": [
        {
          "output_type": "display_data",
          "data": {
            "text/plain": [
              "<Figure size 432x288 with 1 Axes>"
            ],
            "image/png": "[encoded data removed]"
          },
          "metadata": {
            "needs_background": "light"
          }
        }
      ]
    },
    {
      "cell_type": "code",
      "source": [
        "print(\"Accuracies for different splits over 5 epochs:\")\n",
        "print(\"1:99\", y_1)\n",
        "print(\"2:98\", y_2)\n",
        "print(\"5:95\", y_5)\n",
        "print(\"10:90\", y_10)\n",
        "print(\"20:80\", y_20)\n",
        "print(\"30:70\", y_30)\n",
        "print(\"40:60\", y_40)\n",
        "print(\"50:50\", y_50)"
      ],
      "metadata": {
        "colab": {
          "base_uri": "https://localhost:8080/"
        },
        "id": "FizYhQ5XyxSE",
        "outputId": "07e279b4-3d77-4a4c-93f0-bc9d4376ab49"
      },
      "execution_count": 100,
      "outputs": [
        {
          "output_type": "stream",
          "name": "stdout",
          "text": [
            "Accuracies for different splits over 5 epochs:\n",
            "1:99 [0.03155555555555556, 0.07733333333333334, 0.1451111111111111, 0.19155555555555556, 0.22266666666666668]\n",
            "2:98 [0.018666666666666668, 0.07288888888888889, 0.116, 0.1791111111111111, 0.20955555555555555]\n",
            "5:95 [0.034, 0.10555555555555556, 0.18533333333333332, 0.26511111111111113, 0.3453333333333333]\n",
            "10:90 [0.015333333333333332, 0.05422222222222222, 0.14222222222222222, 0.19444444444444445, 0.2648888888888889]\n",
            "20:80 [0.03955555555555555, 0.11177777777777778, 0.20133333333333334, 0.2946666666666667, 0.35688888888888887]\n",
            "30:70 [0.025333333333333333, 0.11377777777777778, 0.20466666666666666, 0.28755555555555556, 0.3277777777777778]\n",
            "40:60 [0.06155555555555556, 0.19111111111111112, 0.30444444444444446, 0.37044444444444447, 0.41733333333333333]\n",
            "50:50 [0.09488888888888888, 0.22133333333333333, 0.308, 0.3788888888888889, 0.47533333333333333]\n"
          ]
        }
      ]
    }
  ]
}