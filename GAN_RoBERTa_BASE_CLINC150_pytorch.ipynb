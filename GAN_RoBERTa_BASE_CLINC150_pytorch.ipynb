{
  "nbformat": 4,
  "nbformat_minor": 0,
  "metadata": {
    "accelerator": "GPU",
    "colab": {
      "name": "GAN_RoBERTa_BASE_CLINC150_pytorch.ipynb",
      "provenance": [],
      "collapsed_sections": [],
      "toc_visible": true
    },
    "kernelspec": {
      "display_name": "Python 3",
      "name": "python3"
    },
    "widgets": {
      "application/vnd.jupyter.widget-state+json": {
        "9155b49976024734919fa87fe7da4364": {
          "model_module": "@jupyter-widgets/controls",
          "model_name": "HBoxModel",
          "model_module_version": "1.5.0",
          "state": {
            "_dom_classes": [],
            "_model_module": "@jupyter-widgets/controls",
            "_model_module_version": "1.5.0",
            "_model_name": "HBoxModel",
            "_view_count": null,
            "_view_module": "@jupyter-widgets/controls",
            "_view_module_version": "1.5.0",
            "_view_name": "HBoxView",
            "box_style": "",
            "children": [
              "IPY_MODEL_d37dd4af8f8a41d88e4b4f1143f44d00",
              "IPY_MODEL_114b2ef98e6a4ef5925341e947edc8dd",
              "IPY_MODEL_b08b31fd20144f24937c61d3bdbc60c0"
            ],
            "layout": "IPY_MODEL_88cf6340f2a04db094267d836eb28167"
          }
        },
        "d37dd4af8f8a41d88e4b4f1143f44d00": {
          "model_module": "@jupyter-widgets/controls",
          "model_name": "HTMLModel",
          "model_module_version": "1.5.0",
          "state": {
            "_dom_classes": [],
            "_model_module": "@jupyter-widgets/controls",
            "_model_module_version": "1.5.0",
            "_model_name": "HTMLModel",
            "_view_count": null,
            "_view_module": "@jupyter-widgets/controls",
            "_view_module_version": "1.5.0",
            "_view_name": "HTMLView",
            "description": "",
            "description_tooltip": null,
            "layout": "IPY_MODEL_16f1795bd1a44afca43880ecb185fbf9",
            "placeholder": "​",
            "style": "IPY_MODEL_e91f734b92624256ad0f16fd220483d2",
            "value": "Downloading: 100%"
          }
        },
        "114b2ef98e6a4ef5925341e947edc8dd": {
          "model_module": "@jupyter-widgets/controls",
          "model_name": "FloatProgressModel",
          "model_module_version": "1.5.0",
          "state": {
            "_dom_classes": [],
            "_model_module": "@jupyter-widgets/controls",
            "_model_module_version": "1.5.0",
            "_model_name": "FloatProgressModel",
            "_view_count": null,
            "_view_module": "@jupyter-widgets/controls",
            "_view_module_version": "1.5.0",
            "_view_name": "ProgressView",
            "bar_style": "success",
            "description": "",
            "description_tooltip": null,
            "layout": "IPY_MODEL_40b5dead328a48f5a8af4d9cf72c8400",
            "max": 481,
            "min": 0,
            "orientation": "horizontal",
            "style": "IPY_MODEL_f1c55b6432394f85b25bd71413fc8771",
            "value": 481
          }
        },
        "b08b31fd20144f24937c61d3bdbc60c0": {
          "model_module": "@jupyter-widgets/controls",
          "model_name": "HTMLModel",
          "model_module_version": "1.5.0",
          "state": {
            "_dom_classes": [],
            "_model_module": "@jupyter-widgets/controls",
            "_model_module_version": "1.5.0",
            "_model_name": "HTMLModel",
            "_view_count": null,
            "_view_module": "@jupyter-widgets/controls",
            "_view_module_version": "1.5.0",
            "_view_name": "HTMLView",
            "description": "",
            "description_tooltip": null,
            "layout": "IPY_MODEL_b9e15d9923f344eb9bae2770db4f053f",
            "placeholder": "​",
            "style": "IPY_MODEL_20b0e153db31491eaa4b5a71d11932bb",
            "value": " 481/481 [00:00&lt;00:00, 10.4kB/s]"
          }
        },
        "88cf6340f2a04db094267d836eb28167": {
          "model_module": "@jupyter-widgets/base",
          "model_name": "LayoutModel",
          "model_module_version": "1.2.0",
          "state": {
            "_model_module": "@jupyter-widgets/base",
            "_model_module_version": "1.2.0",
            "_model_name": "LayoutModel",
            "_view_count": null,
            "_view_module": "@jupyter-widgets/base",
            "_view_module_version": "1.2.0",
            "_view_name": "LayoutView",
            "align_content": null,
            "align_items": null,
            "align_self": null,
            "border": null,
            "bottom": null,
            "display": null,
            "flex": null,
            "flex_flow": null,
            "grid_area": null,
            "grid_auto_columns": null,
            "grid_auto_flow": null,
            "grid_auto_rows": null,
            "grid_column": null,
            "grid_gap": null,
            "grid_row": null,
            "grid_template_areas": null,
            "grid_template_columns": null,
            "grid_template_rows": null,
            "height": null,
            "justify_content": null,
            "justify_items": null,
            "left": null,
            "margin": null,
            "max_height": null,
            "max_width": null,
            "min_height": null,
            "min_width": null,
            "object_fit": null,
            "object_position": null,
            "order": null,
            "overflow": null,
            "overflow_x": null,
            "overflow_y": null,
            "padding": null,
            "right": null,
            "top": null,
            "visibility": null,
            "width": null
          }
        },
        "16f1795bd1a44afca43880ecb185fbf9": {
          "model_module": "@jupyter-widgets/base",
          "model_name": "LayoutModel",
          "model_module_version": "1.2.0",
          "state": {
            "_model_module": "@jupyter-widgets/base",
            "_model_module_version": "1.2.0",
            "_model_name": "LayoutModel",
            "_view_count": null,
            "_view_module": "@jupyter-widgets/base",
            "_view_module_version": "1.2.0",
            "_view_name": "LayoutView",
            "align_content": null,
            "align_items": null,
            "align_self": null,
            "border": null,
            "bottom": null,
            "display": null,
            "flex": null,
            "flex_flow": null,
            "grid_area": null,
            "grid_auto_columns": null,
            "grid_auto_flow": null,
            "grid_auto_rows": null,
            "grid_column": null,
            "grid_gap": null,
            "grid_row": null,
            "grid_template_areas": null,
            "grid_template_columns": null,
            "grid_template_rows": null,
            "height": null,
            "justify_content": null,
            "justify_items": null,
            "left": null,
            "margin": null,
            "max_height": null,
            "max_width": null,
            "min_height": null,
            "min_width": null,
            "object_fit": null,
            "object_position": null,
            "order": null,
            "overflow": null,
            "overflow_x": null,
            "overflow_y": null,
            "padding": null,
            "right": null,
            "top": null,
            "visibility": null,
            "width": null
          }
        },
        "e91f734b92624256ad0f16fd220483d2": {
          "model_module": "@jupyter-widgets/controls",
          "model_name": "DescriptionStyleModel",
          "model_module_version": "1.5.0",
          "state": {
            "_model_module": "@jupyter-widgets/controls",
            "_model_module_version": "1.5.0",
            "_model_name": "DescriptionStyleModel",
            "_view_count": null,
            "_view_module": "@jupyter-widgets/base",
            "_view_module_version": "1.2.0",
            "_view_name": "StyleView",
            "description_width": ""
          }
        },
        "40b5dead328a48f5a8af4d9cf72c8400": {
          "model_module": "@jupyter-widgets/base",
          "model_name": "LayoutModel",
          "model_module_version": "1.2.0",
          "state": {
            "_model_module": "@jupyter-widgets/base",
            "_model_module_version": "1.2.0",
            "_model_name": "LayoutModel",
            "_view_count": null,
            "_view_module": "@jupyter-widgets/base",
            "_view_module_version": "1.2.0",
            "_view_name": "LayoutView",
            "align_content": null,
            "align_items": null,
            "align_self": null,
            "border": null,
            "bottom": null,
            "display": null,
            "flex": null,
            "flex_flow": null,
            "grid_area": null,
            "grid_auto_columns": null,
            "grid_auto_flow": null,
            "grid_auto_rows": null,
            "grid_column": null,
            "grid_gap": null,
            "grid_row": null,
            "grid_template_areas": null,
            "grid_template_columns": null,
            "grid_template_rows": null,
            "height": null,
            "justify_content": null,
            "justify_items": null,
            "left": null,
            "margin": null,
            "max_height": null,
            "max_width": null,
            "min_height": null,
            "min_width": null,
            "object_fit": null,
            "object_position": null,
            "order": null,
            "overflow": null,
            "overflow_x": null,
            "overflow_y": null,
            "padding": null,
            "right": null,
            "top": null,
            "visibility": null,
            "width": null
          }
        },
        "f1c55b6432394f85b25bd71413fc8771": {
          "model_module": "@jupyter-widgets/controls",
          "model_name": "ProgressStyleModel",
          "model_module_version": "1.5.0",
          "state": {
            "_model_module": "@jupyter-widgets/controls",
            "_model_module_version": "1.5.0",
            "_model_name": "ProgressStyleModel",
            "_view_count": null,
            "_view_module": "@jupyter-widgets/base",
            "_view_module_version": "1.2.0",
            "_view_name": "StyleView",
            "bar_color": null,
            "description_width": ""
          }
        },
        "b9e15d9923f344eb9bae2770db4f053f": {
          "model_module": "@jupyter-widgets/base",
          "model_name": "LayoutModel",
          "model_module_version": "1.2.0",
          "state": {
            "_model_module": "@jupyter-widgets/base",
            "_model_module_version": "1.2.0",
            "_model_name": "LayoutModel",
            "_view_count": null,
            "_view_module": "@jupyter-widgets/base",
            "_view_module_version": "1.2.0",
            "_view_name": "LayoutView",
            "align_content": null,
            "align_items": null,
            "align_self": null,
            "border": null,
            "bottom": null,
            "display": null,
            "flex": null,
            "flex_flow": null,
            "grid_area": null,
            "grid_auto_columns": null,
            "grid_auto_flow": null,
            "grid_auto_rows": null,
            "grid_column": null,
            "grid_gap": null,
            "grid_row": null,
            "grid_template_areas": null,
            "grid_template_columns": null,
            "grid_template_rows": null,
            "height": null,
            "justify_content": null,
            "justify_items": null,
            "left": null,
            "margin": null,
            "max_height": null,
            "max_width": null,
            "min_height": null,
            "min_width": null,
            "object_fit": null,
            "object_position": null,
            "order": null,
            "overflow": null,
            "overflow_x": null,
            "overflow_y": null,
            "padding": null,
            "right": null,
            "top": null,
            "visibility": null,
            "width": null
          }
        },
        "20b0e153db31491eaa4b5a71d11932bb": {
          "model_module": "@jupyter-widgets/controls",
          "model_name": "DescriptionStyleModel",
          "model_module_version": "1.5.0",
          "state": {
            "_model_module": "@jupyter-widgets/controls",
            "_model_module_version": "1.5.0",
            "_model_name": "DescriptionStyleModel",
            "_view_count": null,
            "_view_module": "@jupyter-widgets/base",
            "_view_module_version": "1.2.0",
            "_view_name": "StyleView",
            "description_width": ""
          }
        },
        "5155e2f7bbd840e2a39bce385b9d1ac9": {
          "model_module": "@jupyter-widgets/controls",
          "model_name": "HBoxModel",
          "model_module_version": "1.5.0",
          "state": {
            "_dom_classes": [],
            "_model_module": "@jupyter-widgets/controls",
            "_model_module_version": "1.5.0",
            "_model_name": "HBoxModel",
            "_view_count": null,
            "_view_module": "@jupyter-widgets/controls",
            "_view_module_version": "1.5.0",
            "_view_name": "HBoxView",
            "box_style": "",
            "children": [
              "IPY_MODEL_8d7e265f18e94ff18b64d709dca0af59",
              "IPY_MODEL_0ce89bc47d784b0f854054a947a2809e",
              "IPY_MODEL_b2e11bfb8ca74c0295ba353b1a363549"
            ],
            "layout": "IPY_MODEL_f88e918a2c9c483fa0a4b39bd1a568c2"
          }
        },
        "8d7e265f18e94ff18b64d709dca0af59": {
          "model_module": "@jupyter-widgets/controls",
          "model_name": "HTMLModel",
          "model_module_version": "1.5.0",
          "state": {
            "_dom_classes": [],
            "_model_module": "@jupyter-widgets/controls",
            "_model_module_version": "1.5.0",
            "_model_name": "HTMLModel",
            "_view_count": null,
            "_view_module": "@jupyter-widgets/controls",
            "_view_module_version": "1.5.0",
            "_view_name": "HTMLView",
            "description": "",
            "description_tooltip": null,
            "layout": "IPY_MODEL_e70636e8154e420e92e172b3982e8e1b",
            "placeholder": "​",
            "style": "IPY_MODEL_0d55171749d645f5823f8ed151945981",
            "value": "Downloading: 100%"
          }
        },
        "0ce89bc47d784b0f854054a947a2809e": {
          "model_module": "@jupyter-widgets/controls",
          "model_name": "FloatProgressModel",
          "model_module_version": "1.5.0",
          "state": {
            "_dom_classes": [],
            "_model_module": "@jupyter-widgets/controls",
            "_model_module_version": "1.5.0",
            "_model_name": "FloatProgressModel",
            "_view_count": null,
            "_view_module": "@jupyter-widgets/controls",
            "_view_module_version": "1.5.0",
            "_view_name": "ProgressView",
            "bar_style": "success",
            "description": "",
            "description_tooltip": null,
            "layout": "IPY_MODEL_68ba5406a43749089ad416c6a8871c61",
            "max": 501200538,
            "min": 0,
            "orientation": "horizontal",
            "style": "IPY_MODEL_b399c836c45b4c9bab525e0db091dfd4",
            "value": 501200538
          }
        },
        "b2e11bfb8ca74c0295ba353b1a363549": {
          "model_module": "@jupyter-widgets/controls",
          "model_name": "HTMLModel",
          "model_module_version": "1.5.0",
          "state": {
            "_dom_classes": [],
            "_model_module": "@jupyter-widgets/controls",
            "_model_module_version": "1.5.0",
            "_model_name": "HTMLModel",
            "_view_count": null,
            "_view_module": "@jupyter-widgets/controls",
            "_view_module_version": "1.5.0",
            "_view_name": "HTMLView",
            "description": "",
            "description_tooltip": null,
            "layout": "IPY_MODEL_2dfb8927af4c4e079d66c74102760644",
            "placeholder": "​",
            "style": "IPY_MODEL_60eced5bbff248cd8e1804ef1d802123",
            "value": " 501M/501M [00:13&lt;00:00, 38.2MB/s]"
          }
        },
        "f88e918a2c9c483fa0a4b39bd1a568c2": {
          "model_module": "@jupyter-widgets/base",
          "model_name": "LayoutModel",
          "model_module_version": "1.2.0",
          "state": {
            "_model_module": "@jupyter-widgets/base",
            "_model_module_version": "1.2.0",
            "_model_name": "LayoutModel",
            "_view_count": null,
            "_view_module": "@jupyter-widgets/base",
            "_view_module_version": "1.2.0",
            "_view_name": "LayoutView",
            "align_content": null,
            "align_items": null,
            "align_self": null,
            "border": null,
            "bottom": null,
            "display": null,
            "flex": null,
            "flex_flow": null,
            "grid_area": null,
            "grid_auto_columns": null,
            "grid_auto_flow": null,
            "grid_auto_rows": null,
            "grid_column": null,
            "grid_gap": null,
            "grid_row": null,
            "grid_template_areas": null,
            "grid_template_columns": null,
            "grid_template_rows": null,
            "height": null,
            "justify_content": null,
            "justify_items": null,
            "left": null,
            "margin": null,
            "max_height": null,
            "max_width": null,
            "min_height": null,
            "min_width": null,
            "object_fit": null,
            "object_position": null,
            "order": null,
            "overflow": null,
            "overflow_x": null,
            "overflow_y": null,
            "padding": null,
            "right": null,
            "top": null,
            "visibility": null,
            "width": null
          }
        },
        "e70636e8154e420e92e172b3982e8e1b": {
          "model_module": "@jupyter-widgets/base",
          "model_name": "LayoutModel",
          "model_module_version": "1.2.0",
          "state": {
            "_model_module": "@jupyter-widgets/base",
            "_model_module_version": "1.2.0",
            "_model_name": "LayoutModel",
            "_view_count": null,
            "_view_module": "@jupyter-widgets/base",
            "_view_module_version": "1.2.0",
            "_view_name": "LayoutView",
            "align_content": null,
            "align_items": null,
            "align_self": null,
            "border": null,
            "bottom": null,
            "display": null,
            "flex": null,
            "flex_flow": null,
            "grid_area": null,
            "grid_auto_columns": null,
            "grid_auto_flow": null,
            "grid_auto_rows": null,
            "grid_column": null,
            "grid_gap": null,
            "grid_row": null,
            "grid_template_areas": null,
            "grid_template_columns": null,
            "grid_template_rows": null,
            "height": null,
            "justify_content": null,
            "justify_items": null,
            "left": null,
            "margin": null,
            "max_height": null,
            "max_width": null,
            "min_height": null,
            "min_width": null,
            "object_fit": null,
            "object_position": null,
            "order": null,
            "overflow": null,
            "overflow_x": null,
            "overflow_y": null,
            "padding": null,
            "right": null,
            "top": null,
            "visibility": null,
            "width": null
          }
        },
        "0d55171749d645f5823f8ed151945981": {
          "model_module": "@jupyter-widgets/controls",
          "model_name": "DescriptionStyleModel",
          "model_module_version": "1.5.0",
          "state": {
            "_model_module": "@jupyter-widgets/controls",
            "_model_module_version": "1.5.0",
            "_model_name": "DescriptionStyleModel",
            "_view_count": null,
            "_view_module": "@jupyter-widgets/base",
            "_view_module_version": "1.2.0",
            "_view_name": "StyleView",
            "description_width": ""
          }
        },
        "68ba5406a43749089ad416c6a8871c61": {
          "model_module": "@jupyter-widgets/base",
          "model_name": "LayoutModel",
          "model_module_version": "1.2.0",
          "state": {
            "_model_module": "@jupyter-widgets/base",
            "_model_module_version": "1.2.0",
            "_model_name": "LayoutModel",
            "_view_count": null,
            "_view_module": "@jupyter-widgets/base",
            "_view_module_version": "1.2.0",
            "_view_name": "LayoutView",
            "align_content": null,
            "align_items": null,
            "align_self": null,
            "border": null,
            "bottom": null,
            "display": null,
            "flex": null,
            "flex_flow": null,
            "grid_area": null,
            "grid_auto_columns": null,
            "grid_auto_flow": null,
            "grid_auto_rows": null,
            "grid_column": null,
            "grid_gap": null,
            "grid_row": null,
            "grid_template_areas": null,
            "grid_template_columns": null,
            "grid_template_rows": null,
            "height": null,
            "justify_content": null,
            "justify_items": null,
            "left": null,
            "margin": null,
            "max_height": null,
            "max_width": null,
            "min_height": null,
            "min_width": null,
            "object_fit": null,
            "object_position": null,
            "order": null,
            "overflow": null,
            "overflow_x": null,
            "overflow_y": null,
            "padding": null,
            "right": null,
            "top": null,
            "visibility": null,
            "width": null
          }
        },
        "b399c836c45b4c9bab525e0db091dfd4": {
          "model_module": "@jupyter-widgets/controls",
          "model_name": "ProgressStyleModel",
          "model_module_version": "1.5.0",
          "state": {
            "_model_module": "@jupyter-widgets/controls",
            "_model_module_version": "1.5.0",
            "_model_name": "ProgressStyleModel",
            "_view_count": null,
            "_view_module": "@jupyter-widgets/base",
            "_view_module_version": "1.2.0",
            "_view_name": "StyleView",
            "bar_color": null,
            "description_width": ""
          }
        },
        "2dfb8927af4c4e079d66c74102760644": {
          "model_module": "@jupyter-widgets/base",
          "model_name": "LayoutModel",
          "model_module_version": "1.2.0",
          "state": {
            "_model_module": "@jupyter-widgets/base",
            "_model_module_version": "1.2.0",
            "_model_name": "LayoutModel",
            "_view_count": null,
            "_view_module": "@jupyter-widgets/base",
            "_view_module_version": "1.2.0",
            "_view_name": "LayoutView",
            "align_content": null,
            "align_items": null,
            "align_self": null,
            "border": null,
            "bottom": null,
            "display": null,
            "flex": null,
            "flex_flow": null,
            "grid_area": null,
            "grid_auto_columns": null,
            "grid_auto_flow": null,
            "grid_auto_rows": null,
            "grid_column": null,
            "grid_gap": null,
            "grid_row": null,
            "grid_template_areas": null,
            "grid_template_columns": null,
            "grid_template_rows": null,
            "height": null,
            "justify_content": null,
            "justify_items": null,
            "left": null,
            "margin": null,
            "max_height": null,
            "max_width": null,
            "min_height": null,
            "min_width": null,
            "object_fit": null,
            "object_position": null,
            "order": null,
            "overflow": null,
            "overflow_x": null,
            "overflow_y": null,
            "padding": null,
            "right": null,
            "top": null,
            "visibility": null,
            "width": null
          }
        },
        "60eced5bbff248cd8e1804ef1d802123": {
          "model_module": "@jupyter-widgets/controls",
          "model_name": "DescriptionStyleModel",
          "model_module_version": "1.5.0",
          "state": {
            "_model_module": "@jupyter-widgets/controls",
            "_model_module_version": "1.5.0",
            "_model_name": "DescriptionStyleModel",
            "_view_count": null,
            "_view_module": "@jupyter-widgets/base",
            "_view_module_version": "1.2.0",
            "_view_name": "StyleView",
            "description_width": ""
          }
        },
        "ed5bfeeac4b4461f91925ab44f50cd4c": {
          "model_module": "@jupyter-widgets/controls",
          "model_name": "HBoxModel",
          "model_module_version": "1.5.0",
          "state": {
            "_dom_classes": [],
            "_model_module": "@jupyter-widgets/controls",
            "_model_module_version": "1.5.0",
            "_model_name": "HBoxModel",
            "_view_count": null,
            "_view_module": "@jupyter-widgets/controls",
            "_view_module_version": "1.5.0",
            "_view_name": "HBoxView",
            "box_style": "",
            "children": [
              "IPY_MODEL_2edbfbbf0e2346a389af15ca10b0d9bd",
              "IPY_MODEL_cd444d24b8ed44f7a90b14952272f6f7",
              "IPY_MODEL_b1b7701d7151488cbc8dab7ebe59f0c0"
            ],
            "layout": "IPY_MODEL_2b4c4f8cbbb24a15a6acd00dbf6822a8"
          }
        },
        "2edbfbbf0e2346a389af15ca10b0d9bd": {
          "model_module": "@jupyter-widgets/controls",
          "model_name": "HTMLModel",
          "model_module_version": "1.5.0",
          "state": {
            "_dom_classes": [],
            "_model_module": "@jupyter-widgets/controls",
            "_model_module_version": "1.5.0",
            "_model_name": "HTMLModel",
            "_view_count": null,
            "_view_module": "@jupyter-widgets/controls",
            "_view_module_version": "1.5.0",
            "_view_name": "HTMLView",
            "description": "",
            "description_tooltip": null,
            "layout": "IPY_MODEL_a7c0ef95fbeb499b960ce69a0cb3422e",
            "placeholder": "​",
            "style": "IPY_MODEL_fb7ef7068da7432b9488000ae858b06f",
            "value": "Downloading: 100%"
          }
        },
        "cd444d24b8ed44f7a90b14952272f6f7": {
          "model_module": "@jupyter-widgets/controls",
          "model_name": "FloatProgressModel",
          "model_module_version": "1.5.0",
          "state": {
            "_dom_classes": [],
            "_model_module": "@jupyter-widgets/controls",
            "_model_module_version": "1.5.0",
            "_model_name": "FloatProgressModel",
            "_view_count": null,
            "_view_module": "@jupyter-widgets/controls",
            "_view_module_version": "1.5.0",
            "_view_name": "ProgressView",
            "bar_style": "success",
            "description": "",
            "description_tooltip": null,
            "layout": "IPY_MODEL_300aa094b20844f28fdaa377332c2373",
            "max": 898823,
            "min": 0,
            "orientation": "horizontal",
            "style": "IPY_MODEL_117bc1b266f84ad0bee0f00f96d42b61",
            "value": 898823
          }
        },
        "b1b7701d7151488cbc8dab7ebe59f0c0": {
          "model_module": "@jupyter-widgets/controls",
          "model_name": "HTMLModel",
          "model_module_version": "1.5.0",
          "state": {
            "_dom_classes": [],
            "_model_module": "@jupyter-widgets/controls",
            "_model_module_version": "1.5.0",
            "_model_name": "HTMLModel",
            "_view_count": null,
            "_view_module": "@jupyter-widgets/controls",
            "_view_module_version": "1.5.0",
            "_view_name": "HTMLView",
            "description": "",
            "description_tooltip": null,
            "layout": "IPY_MODEL_738e19d4d4aa46999e2a75e43b08bd1c",
            "placeholder": "​",
            "style": "IPY_MODEL_f2fd7d5624a64dd9902448a420759ef2",
            "value": " 899k/899k [00:00&lt;00:00, 2.11MB/s]"
          }
        },
        "2b4c4f8cbbb24a15a6acd00dbf6822a8": {
          "model_module": "@jupyter-widgets/base",
          "model_name": "LayoutModel",
          "model_module_version": "1.2.0",
          "state": {
            "_model_module": "@jupyter-widgets/base",
            "_model_module_version": "1.2.0",
            "_model_name": "LayoutModel",
            "_view_count": null,
            "_view_module": "@jupyter-widgets/base",
            "_view_module_version": "1.2.0",
            "_view_name": "LayoutView",
            "align_content": null,
            "align_items": null,
            "align_self": null,
            "border": null,
            "bottom": null,
            "display": null,
            "flex": null,
            "flex_flow": null,
            "grid_area": null,
            "grid_auto_columns": null,
            "grid_auto_flow": null,
            "grid_auto_rows": null,
            "grid_column": null,
            "grid_gap": null,
            "grid_row": null,
            "grid_template_areas": null,
            "grid_template_columns": null,
            "grid_template_rows": null,
            "height": null,
            "justify_content": null,
            "justify_items": null,
            "left": null,
            "margin": null,
            "max_height": null,
            "max_width": null,
            "min_height": null,
            "min_width": null,
            "object_fit": null,
            "object_position": null,
            "order": null,
            "overflow": null,
            "overflow_x": null,
            "overflow_y": null,
            "padding": null,
            "right": null,
            "top": null,
            "visibility": null,
            "width": null
          }
        },
        "a7c0ef95fbeb499b960ce69a0cb3422e": {
          "model_module": "@jupyter-widgets/base",
          "model_name": "LayoutModel",
          "model_module_version": "1.2.0",
          "state": {
            "_model_module": "@jupyter-widgets/base",
            "_model_module_version": "1.2.0",
            "_model_name": "LayoutModel",
            "_view_count": null,
            "_view_module": "@jupyter-widgets/base",
            "_view_module_version": "1.2.0",
            "_view_name": "LayoutView",
            "align_content": null,
            "align_items": null,
            "align_self": null,
            "border": null,
            "bottom": null,
            "display": null,
            "flex": null,
            "flex_flow": null,
            "grid_area": null,
            "grid_auto_columns": null,
            "grid_auto_flow": null,
            "grid_auto_rows": null,
            "grid_column": null,
            "grid_gap": null,
            "grid_row": null,
            "grid_template_areas": null,
            "grid_template_columns": null,
            "grid_template_rows": null,
            "height": null,
            "justify_content": null,
            "justify_items": null,
            "left": null,
            "margin": null,
            "max_height": null,
            "max_width": null,
            "min_height": null,
            "min_width": null,
            "object_fit": null,
            "object_position": null,
            "order": null,
            "overflow": null,
            "overflow_x": null,
            "overflow_y": null,
            "padding": null,
            "right": null,
            "top": null,
            "visibility": null,
            "width": null
          }
        },
        "fb7ef7068da7432b9488000ae858b06f": {
          "model_module": "@jupyter-widgets/controls",
          "model_name": "DescriptionStyleModel",
          "model_module_version": "1.5.0",
          "state": {
            "_model_module": "@jupyter-widgets/controls",
            "_model_module_version": "1.5.0",
            "_model_name": "DescriptionStyleModel",
            "_view_count": null,
            "_view_module": "@jupyter-widgets/base",
            "_view_module_version": "1.2.0",
            "_view_name": "StyleView",
            "description_width": ""
          }
        },
        "300aa094b20844f28fdaa377332c2373": {
          "model_module": "@jupyter-widgets/base",
          "model_name": "LayoutModel",
          "model_module_version": "1.2.0",
          "state": {
            "_model_module": "@jupyter-widgets/base",
            "_model_module_version": "1.2.0",
            "_model_name": "LayoutModel",
            "_view_count": null,
            "_view_module": "@jupyter-widgets/base",
            "_view_module_version": "1.2.0",
            "_view_name": "LayoutView",
            "align_content": null,
            "align_items": null,
            "align_self": null,
            "border": null,
            "bottom": null,
            "display": null,
            "flex": null,
            "flex_flow": null,
            "grid_area": null,
            "grid_auto_columns": null,
            "grid_auto_flow": null,
            "grid_auto_rows": null,
            "grid_column": null,
            "grid_gap": null,
            "grid_row": null,
            "grid_template_areas": null,
            "grid_template_columns": null,
            "grid_template_rows": null,
            "height": null,
            "justify_content": null,
            "justify_items": null,
            "left": null,
            "margin": null,
            "max_height": null,
            "max_width": null,
            "min_height": null,
            "min_width": null,
            "object_fit": null,
            "object_position": null,
            "order": null,
            "overflow": null,
            "overflow_x": null,
            "overflow_y": null,
            "padding": null,
            "right": null,
            "top": null,
            "visibility": null,
            "width": null
          }
        },
        "117bc1b266f84ad0bee0f00f96d42b61": {
          "model_module": "@jupyter-widgets/controls",
          "model_name": "ProgressStyleModel",
          "model_module_version": "1.5.0",
          "state": {
            "_model_module": "@jupyter-widgets/controls",
            "_model_module_version": "1.5.0",
            "_model_name": "ProgressStyleModel",
            "_view_count": null,
            "_view_module": "@jupyter-widgets/base",
            "_view_module_version": "1.2.0",
            "_view_name": "StyleView",
            "bar_color": null,
            "description_width": ""
          }
        },
        "738e19d4d4aa46999e2a75e43b08bd1c": {
          "model_module": "@jupyter-widgets/base",
          "model_name": "LayoutModel",
          "model_module_version": "1.2.0",
          "state": {
            "_model_module": "@jupyter-widgets/base",
            "_model_module_version": "1.2.0",
            "_model_name": "LayoutModel",
            "_view_count": null,
            "_view_module": "@jupyter-widgets/base",
            "_view_module_version": "1.2.0",
            "_view_name": "LayoutView",
            "align_content": null,
            "align_items": null,
            "align_self": null,
            "border": null,
            "bottom": null,
            "display": null,
            "flex": null,
            "flex_flow": null,
            "grid_area": null,
            "grid_auto_columns": null,
            "grid_auto_flow": null,
            "grid_auto_rows": null,
            "grid_column": null,
            "grid_gap": null,
            "grid_row": null,
            "grid_template_areas": null,
            "grid_template_columns": null,
            "grid_template_rows": null,
            "height": null,
            "justify_content": null,
            "justify_items": null,
            "left": null,
            "margin": null,
            "max_height": null,
            "max_width": null,
            "min_height": null,
            "min_width": null,
            "object_fit": null,
            "object_position": null,
            "order": null,
            "overflow": null,
            "overflow_x": null,
            "overflow_y": null,
            "padding": null,
            "right": null,
            "top": null,
            "visibility": null,
            "width": null
          }
        },
        "f2fd7d5624a64dd9902448a420759ef2": {
          "model_module": "@jupyter-widgets/controls",
          "model_name": "DescriptionStyleModel",
          "model_module_version": "1.5.0",
          "state": {
            "_model_module": "@jupyter-widgets/controls",
            "_model_module_version": "1.5.0",
            "_model_name": "DescriptionStyleModel",
            "_view_count": null,
            "_view_module": "@jupyter-widgets/base",
            "_view_module_version": "1.2.0",
            "_view_name": "StyleView",
            "description_width": ""
          }
        },
        "0621b375873046c3bdad95c9ff3e40f3": {
          "model_module": "@jupyter-widgets/controls",
          "model_name": "HBoxModel",
          "model_module_version": "1.5.0",
          "state": {
            "_dom_classes": [],
            "_model_module": "@jupyter-widgets/controls",
            "_model_module_version": "1.5.0",
            "_model_name": "HBoxModel",
            "_view_count": null,
            "_view_module": "@jupyter-widgets/controls",
            "_view_module_version": "1.5.0",
            "_view_name": "HBoxView",
            "box_style": "",
            "children": [
              "IPY_MODEL_0d7067bbec9a4e06803f95781ebd5182",
              "IPY_MODEL_6ae94335fb3142f599f826f5fa531006",
              "IPY_MODEL_1d2b6c8fcd4247c3af7da0c100d338c7"
            ],
            "layout": "IPY_MODEL_01d5c335a6924640a29d5c4eda90b763"
          }
        },
        "0d7067bbec9a4e06803f95781ebd5182": {
          "model_module": "@jupyter-widgets/controls",
          "model_name": "HTMLModel",
          "model_module_version": "1.5.0",
          "state": {
            "_dom_classes": [],
            "_model_module": "@jupyter-widgets/controls",
            "_model_module_version": "1.5.0",
            "_model_name": "HTMLModel",
            "_view_count": null,
            "_view_module": "@jupyter-widgets/controls",
            "_view_module_version": "1.5.0",
            "_view_name": "HTMLView",
            "description": "",
            "description_tooltip": null,
            "layout": "IPY_MODEL_ca0864fa67de425a9a688c916a206c1a",
            "placeholder": "​",
            "style": "IPY_MODEL_96f54386ea12422fbb374458a4f85e40",
            "value": "Downloading: 100%"
          }
        },
        "6ae94335fb3142f599f826f5fa531006": {
          "model_module": "@jupyter-widgets/controls",
          "model_name": "FloatProgressModel",
          "model_module_version": "1.5.0",
          "state": {
            "_dom_classes": [],
            "_model_module": "@jupyter-widgets/controls",
            "_model_module_version": "1.5.0",
            "_model_name": "FloatProgressModel",
            "_view_count": null,
            "_view_module": "@jupyter-widgets/controls",
            "_view_module_version": "1.5.0",
            "_view_name": "ProgressView",
            "bar_style": "success",
            "description": "",
            "description_tooltip": null,
            "layout": "IPY_MODEL_44a1d6569ad94b808a91ad3ed5f1c543",
            "max": 456318,
            "min": 0,
            "orientation": "horizontal",
            "style": "IPY_MODEL_9d5a1044da8d49b2a6ccb3a1f08115f4",
            "value": 456318
          }
        },
        "1d2b6c8fcd4247c3af7da0c100d338c7": {
          "model_module": "@jupyter-widgets/controls",
          "model_name": "HTMLModel",
          "model_module_version": "1.5.0",
          "state": {
            "_dom_classes": [],
            "_model_module": "@jupyter-widgets/controls",
            "_model_module_version": "1.5.0",
            "_model_name": "HTMLModel",
            "_view_count": null,
            "_view_module": "@jupyter-widgets/controls",
            "_view_module_version": "1.5.0",
            "_view_name": "HTMLView",
            "description": "",
            "description_tooltip": null,
            "layout": "IPY_MODEL_40b32c0e76b04ecf87a5afc0e0b497f3",
            "placeholder": "​",
            "style": "IPY_MODEL_7a131e4498b1431189ca3a9d6043963c",
            "value": " 456k/456k [00:00&lt;00:00, 776kB/s]"
          }
        },
        "01d5c335a6924640a29d5c4eda90b763": {
          "model_module": "@jupyter-widgets/base",
          "model_name": "LayoutModel",
          "model_module_version": "1.2.0",
          "state": {
            "_model_module": "@jupyter-widgets/base",
            "_model_module_version": "1.2.0",
            "_model_name": "LayoutModel",
            "_view_count": null,
            "_view_module": "@jupyter-widgets/base",
            "_view_module_version": "1.2.0",
            "_view_name": "LayoutView",
            "align_content": null,
            "align_items": null,
            "align_self": null,
            "border": null,
            "bottom": null,
            "display": null,
            "flex": null,
            "flex_flow": null,
            "grid_area": null,
            "grid_auto_columns": null,
            "grid_auto_flow": null,
            "grid_auto_rows": null,
            "grid_column": null,
            "grid_gap": null,
            "grid_row": null,
            "grid_template_areas": null,
            "grid_template_columns": null,
            "grid_template_rows": null,
            "height": null,
            "justify_content": null,
            "justify_items": null,
            "left": null,
            "margin": null,
            "max_height": null,
            "max_width": null,
            "min_height": null,
            "min_width": null,
            "object_fit": null,
            "object_position": null,
            "order": null,
            "overflow": null,
            "overflow_x": null,
            "overflow_y": null,
            "padding": null,
            "right": null,
            "top": null,
            "visibility": null,
            "width": null
          }
        },
        "ca0864fa67de425a9a688c916a206c1a": {
          "model_module": "@jupyter-widgets/base",
          "model_name": "LayoutModel",
          "model_module_version": "1.2.0",
          "state": {
            "_model_module": "@jupyter-widgets/base",
            "_model_module_version": "1.2.0",
            "_model_name": "LayoutModel",
            "_view_count": null,
            "_view_module": "@jupyter-widgets/base",
            "_view_module_version": "1.2.0",
            "_view_name": "LayoutView",
            "align_content": null,
            "align_items": null,
            "align_self": null,
            "border": null,
            "bottom": null,
            "display": null,
            "flex": null,
            "flex_flow": null,
            "grid_area": null,
            "grid_auto_columns": null,
            "grid_auto_flow": null,
            "grid_auto_rows": null,
            "grid_column": null,
            "grid_gap": null,
            "grid_row": null,
            "grid_template_areas": null,
            "grid_template_columns": null,
            "grid_template_rows": null,
            "height": null,
            "justify_content": null,
            "justify_items": null,
            "left": null,
            "margin": null,
            "max_height": null,
            "max_width": null,
            "min_height": null,
            "min_width": null,
            "object_fit": null,
            "object_position": null,
            "order": null,
            "overflow": null,
            "overflow_x": null,
            "overflow_y": null,
            "padding": null,
            "right": null,
            "top": null,
            "visibility": null,
            "width": null
          }
        },
        "96f54386ea12422fbb374458a4f85e40": {
          "model_module": "@jupyter-widgets/controls",
          "model_name": "DescriptionStyleModel",
          "model_module_version": "1.5.0",
          "state": {
            "_model_module": "@jupyter-widgets/controls",
            "_model_module_version": "1.5.0",
            "_model_name": "DescriptionStyleModel",
            "_view_count": null,
            "_view_module": "@jupyter-widgets/base",
            "_view_module_version": "1.2.0",
            "_view_name": "StyleView",
            "description_width": ""
          }
        },
        "44a1d6569ad94b808a91ad3ed5f1c543": {
          "model_module": "@jupyter-widgets/base",
          "model_name": "LayoutModel",
          "model_module_version": "1.2.0",
          "state": {
            "_model_module": "@jupyter-widgets/base",
            "_model_module_version": "1.2.0",
            "_model_name": "LayoutModel",
            "_view_count": null,
            "_view_module": "@jupyter-widgets/base",
            "_view_module_version": "1.2.0",
            "_view_name": "LayoutView",
            "align_content": null,
            "align_items": null,
            "align_self": null,
            "border": null,
            "bottom": null,
            "display": null,
            "flex": null,
            "flex_flow": null,
            "grid_area": null,
            "grid_auto_columns": null,
            "grid_auto_flow": null,
            "grid_auto_rows": null,
            "grid_column": null,
            "grid_gap": null,
            "grid_row": null,
            "grid_template_areas": null,
            "grid_template_columns": null,
            "grid_template_rows": null,
            "height": null,
            "justify_content": null,
            "justify_items": null,
            "left": null,
            "margin": null,
            "max_height": null,
            "max_width": null,
            "min_height": null,
            "min_width": null,
            "object_fit": null,
            "object_position": null,
            "order": null,
            "overflow": null,
            "overflow_x": null,
            "overflow_y": null,
            "padding": null,
            "right": null,
            "top": null,
            "visibility": null,
            "width": null
          }
        },
        "9d5a1044da8d49b2a6ccb3a1f08115f4": {
          "model_module": "@jupyter-widgets/controls",
          "model_name": "ProgressStyleModel",
          "model_module_version": "1.5.0",
          "state": {
            "_model_module": "@jupyter-widgets/controls",
            "_model_module_version": "1.5.0",
            "_model_name": "ProgressStyleModel",
            "_view_count": null,
            "_view_module": "@jupyter-widgets/base",
            "_view_module_version": "1.2.0",
            "_view_name": "StyleView",
            "bar_color": null,
            "description_width": ""
          }
        },
        "40b32c0e76b04ecf87a5afc0e0b497f3": {
          "model_module": "@jupyter-widgets/base",
          "model_name": "LayoutModel",
          "model_module_version": "1.2.0",
          "state": {
            "_model_module": "@jupyter-widgets/base",
            "_model_module_version": "1.2.0",
            "_model_name": "LayoutModel",
            "_view_count": null,
            "_view_module": "@jupyter-widgets/base",
            "_view_module_version": "1.2.0",
            "_view_name": "LayoutView",
            "align_content": null,
            "align_items": null,
            "align_self": null,
            "border": null,
            "bottom": null,
            "display": null,
            "flex": null,
            "flex_flow": null,
            "grid_area": null,
            "grid_auto_columns": null,
            "grid_auto_flow": null,
            "grid_auto_rows": null,
            "grid_column": null,
            "grid_gap": null,
            "grid_row": null,
            "grid_template_areas": null,
            "grid_template_columns": null,
            "grid_template_rows": null,
            "height": null,
            "justify_content": null,
            "justify_items": null,
            "left": null,
            "margin": null,
            "max_height": null,
            "max_width": null,
            "min_height": null,
            "min_width": null,
            "object_fit": null,
            "object_position": null,
            "order": null,
            "overflow": null,
            "overflow_x": null,
            "overflow_y": null,
            "padding": null,
            "right": null,
            "top": null,
            "visibility": null,
            "width": null
          }
        },
        "7a131e4498b1431189ca3a9d6043963c": {
          "model_module": "@jupyter-widgets/controls",
          "model_name": "DescriptionStyleModel",
          "model_module_version": "1.5.0",
          "state": {
            "_model_module": "@jupyter-widgets/controls",
            "_model_module_version": "1.5.0",
            "_model_name": "DescriptionStyleModel",
            "_view_count": null,
            "_view_module": "@jupyter-widgets/base",
            "_view_module_version": "1.2.0",
            "_view_name": "StyleView",
            "description_width": ""
          }
        },
        "4b88bc9f4ab441c096e9361d329dcc4c": {
          "model_module": "@jupyter-widgets/controls",
          "model_name": "HBoxModel",
          "model_module_version": "1.5.0",
          "state": {
            "_dom_classes": [],
            "_model_module": "@jupyter-widgets/controls",
            "_model_module_version": "1.5.0",
            "_model_name": "HBoxModel",
            "_view_count": null,
            "_view_module": "@jupyter-widgets/controls",
            "_view_module_version": "1.5.0",
            "_view_name": "HBoxView",
            "box_style": "",
            "children": [
              "IPY_MODEL_15a565b689834156b447b3e2b258bef7",
              "IPY_MODEL_a560492fa0a244919eb4f5fb543de631",
              "IPY_MODEL_f611dd230cd946308c8e17894446a5e7"
            ],
            "layout": "IPY_MODEL_8a10993ccd114865a0b0b5d1d759ae18"
          }
        },
        "15a565b689834156b447b3e2b258bef7": {
          "model_module": "@jupyter-widgets/controls",
          "model_name": "HTMLModel",
          "model_module_version": "1.5.0",
          "state": {
            "_dom_classes": [],
            "_model_module": "@jupyter-widgets/controls",
            "_model_module_version": "1.5.0",
            "_model_name": "HTMLModel",
            "_view_count": null,
            "_view_module": "@jupyter-widgets/controls",
            "_view_module_version": "1.5.0",
            "_view_name": "HTMLView",
            "description": "",
            "description_tooltip": null,
            "layout": "IPY_MODEL_8720ed823ed94734957e7d1253449563",
            "placeholder": "​",
            "style": "IPY_MODEL_1fd186eb46a64fc7b806dd649c3c62b7",
            "value": "Downloading: 100%"
          }
        },
        "a560492fa0a244919eb4f5fb543de631": {
          "model_module": "@jupyter-widgets/controls",
          "model_name": "FloatProgressModel",
          "model_module_version": "1.5.0",
          "state": {
            "_dom_classes": [],
            "_model_module": "@jupyter-widgets/controls",
            "_model_module_version": "1.5.0",
            "_model_name": "FloatProgressModel",
            "_view_count": null,
            "_view_module": "@jupyter-widgets/controls",
            "_view_module_version": "1.5.0",
            "_view_name": "ProgressView",
            "bar_style": "success",
            "description": "",
            "description_tooltip": null,
            "layout": "IPY_MODEL_a017ec030b034028b8c288118825b19c",
            "max": 1355863,
            "min": 0,
            "orientation": "horizontal",
            "style": "IPY_MODEL_566bd775421748f5bfda8f5d0e5404c9",
            "value": 1355863
          }
        },
        "f611dd230cd946308c8e17894446a5e7": {
          "model_module": "@jupyter-widgets/controls",
          "model_name": "HTMLModel",
          "model_module_version": "1.5.0",
          "state": {
            "_dom_classes": [],
            "_model_module": "@jupyter-widgets/controls",
            "_model_module_version": "1.5.0",
            "_model_name": "HTMLModel",
            "_view_count": null,
            "_view_module": "@jupyter-widgets/controls",
            "_view_module_version": "1.5.0",
            "_view_name": "HTMLView",
            "description": "",
            "description_tooltip": null,
            "layout": "IPY_MODEL_c3587701415e46f18e369ff2b7c18a9b",
            "placeholder": "​",
            "style": "IPY_MODEL_90c47ff47cd04f1d833bc623c237a52d",
            "value": " 1.36M/1.36M [00:00&lt;00:00, 3.06MB/s]"
          }
        },
        "8a10993ccd114865a0b0b5d1d759ae18": {
          "model_module": "@jupyter-widgets/base",
          "model_name": "LayoutModel",
          "model_module_version": "1.2.0",
          "state": {
            "_model_module": "@jupyter-widgets/base",
            "_model_module_version": "1.2.0",
            "_model_name": "LayoutModel",
            "_view_count": null,
            "_view_module": "@jupyter-widgets/base",
            "_view_module_version": "1.2.0",
            "_view_name": "LayoutView",
            "align_content": null,
            "align_items": null,
            "align_self": null,
            "border": null,
            "bottom": null,
            "display": null,
            "flex": null,
            "flex_flow": null,
            "grid_area": null,
            "grid_auto_columns": null,
            "grid_auto_flow": null,
            "grid_auto_rows": null,
            "grid_column": null,
            "grid_gap": null,
            "grid_row": null,
            "grid_template_areas": null,
            "grid_template_columns": null,
            "grid_template_rows": null,
            "height": null,
            "justify_content": null,
            "justify_items": null,
            "left": null,
            "margin": null,
            "max_height": null,
            "max_width": null,
            "min_height": null,
            "min_width": null,
            "object_fit": null,
            "object_position": null,
            "order": null,
            "overflow": null,
            "overflow_x": null,
            "overflow_y": null,
            "padding": null,
            "right": null,
            "top": null,
            "visibility": null,
            "width": null
          }
        },
        "8720ed823ed94734957e7d1253449563": {
          "model_module": "@jupyter-widgets/base",
          "model_name": "LayoutModel",
          "model_module_version": "1.2.0",
          "state": {
            "_model_module": "@jupyter-widgets/base",
            "_model_module_version": "1.2.0",
            "_model_name": "LayoutModel",
            "_view_count": null,
            "_view_module": "@jupyter-widgets/base",
            "_view_module_version": "1.2.0",
            "_view_name": "LayoutView",
            "align_content": null,
            "align_items": null,
            "align_self": null,
            "border": null,
            "bottom": null,
            "display": null,
            "flex": null,
            "flex_flow": null,
            "grid_area": null,
            "grid_auto_columns": null,
            "grid_auto_flow": null,
            "grid_auto_rows": null,
            "grid_column": null,
            "grid_gap": null,
            "grid_row": null,
            "grid_template_areas": null,
            "grid_template_columns": null,
            "grid_template_rows": null,
            "height": null,
            "justify_content": null,
            "justify_items": null,
            "left": null,
            "margin": null,
            "max_height": null,
            "max_width": null,
            "min_height": null,
            "min_width": null,
            "object_fit": null,
            "object_position": null,
            "order": null,
            "overflow": null,
            "overflow_x": null,
            "overflow_y": null,
            "padding": null,
            "right": null,
            "top": null,
            "visibility": null,
            "width": null
          }
        },
        "1fd186eb46a64fc7b806dd649c3c62b7": {
          "model_module": "@jupyter-widgets/controls",
          "model_name": "DescriptionStyleModel",
          "model_module_version": "1.5.0",
          "state": {
            "_model_module": "@jupyter-widgets/controls",
            "_model_module_version": "1.5.0",
            "_model_name": "DescriptionStyleModel",
            "_view_count": null,
            "_view_module": "@jupyter-widgets/base",
            "_view_module_version": "1.2.0",
            "_view_name": "StyleView",
            "description_width": ""
          }
        },
        "a017ec030b034028b8c288118825b19c": {
          "model_module": "@jupyter-widgets/base",
          "model_name": "LayoutModel",
          "model_module_version": "1.2.0",
          "state": {
            "_model_module": "@jupyter-widgets/base",
            "_model_module_version": "1.2.0",
            "_model_name": "LayoutModel",
            "_view_count": null,
            "_view_module": "@jupyter-widgets/base",
            "_view_module_version": "1.2.0",
            "_view_name": "LayoutView",
            "align_content": null,
            "align_items": null,
            "align_self": null,
            "border": null,
            "bottom": null,
            "display": null,
            "flex": null,
            "flex_flow": null,
            "grid_area": null,
            "grid_auto_columns": null,
            "grid_auto_flow": null,
            "grid_auto_rows": null,
            "grid_column": null,
            "grid_gap": null,
            "grid_row": null,
            "grid_template_areas": null,
            "grid_template_columns": null,
            "grid_template_rows": null,
            "height": null,
            "justify_content": null,
            "justify_items": null,
            "left": null,
            "margin": null,
            "max_height": null,
            "max_width": null,
            "min_height": null,
            "min_width": null,
            "object_fit": null,
            "object_position": null,
            "order": null,
            "overflow": null,
            "overflow_x": null,
            "overflow_y": null,
            "padding": null,
            "right": null,
            "top": null,
            "visibility": null,
            "width": null
          }
        },
        "566bd775421748f5bfda8f5d0e5404c9": {
          "model_module": "@jupyter-widgets/controls",
          "model_name": "ProgressStyleModel",
          "model_module_version": "1.5.0",
          "state": {
            "_model_module": "@jupyter-widgets/controls",
            "_model_module_version": "1.5.0",
            "_model_name": "ProgressStyleModel",
            "_view_count": null,
            "_view_module": "@jupyter-widgets/base",
            "_view_module_version": "1.2.0",
            "_view_name": "StyleView",
            "bar_color": null,
            "description_width": ""
          }
        },
        "c3587701415e46f18e369ff2b7c18a9b": {
          "model_module": "@jupyter-widgets/base",
          "model_name": "LayoutModel",
          "model_module_version": "1.2.0",
          "state": {
            "_model_module": "@jupyter-widgets/base",
            "_model_module_version": "1.2.0",
            "_model_name": "LayoutModel",
            "_view_count": null,
            "_view_module": "@jupyter-widgets/base",
            "_view_module_version": "1.2.0",
            "_view_name": "LayoutView",
            "align_content": null,
            "align_items": null,
            "align_self": null,
            "border": null,
            "bottom": null,
            "display": null,
            "flex": null,
            "flex_flow": null,
            "grid_area": null,
            "grid_auto_columns": null,
            "grid_auto_flow": null,
            "grid_auto_rows": null,
            "grid_column": null,
            "grid_gap": null,
            "grid_row": null,
            "grid_template_areas": null,
            "grid_template_columns": null,
            "grid_template_rows": null,
            "height": null,
            "justify_content": null,
            "justify_items": null,
            "left": null,
            "margin": null,
            "max_height": null,
            "max_width": null,
            "min_height": null,
            "min_width": null,
            "object_fit": null,
            "object_position": null,
            "order": null,
            "overflow": null,
            "overflow_x": null,
            "overflow_y": null,
            "padding": null,
            "right": null,
            "top": null,
            "visibility": null,
            "width": null
          }
        },
        "90c47ff47cd04f1d833bc623c237a52d": {
          "model_module": "@jupyter-widgets/controls",
          "model_name": "DescriptionStyleModel",
          "model_module_version": "1.5.0",
          "state": {
            "_model_module": "@jupyter-widgets/controls",
            "_model_module_version": "1.5.0",
            "_model_name": "DescriptionStyleModel",
            "_view_count": null,
            "_view_module": "@jupyter-widgets/base",
            "_view_module_version": "1.2.0",
            "_view_name": "StyleView",
            "description_width": ""
          }
        }
      }
    }
  },
  "cells": [
    {
      "cell_type": "markdown",
      "metadata": {
        "id": "view-in-github"
      },
      "source": [
        "<a href=\"https://colab.research.google.com/github/crux82/ganbert-pytorch/blob/main/GANBERT_pytorch.ipynb\" target=\"_parent\"><img src=\"https://colab.research.google.com/assets/colab-badge.svg\" alt=\"Open In Colab\"/></a>"
      ]
    },
    {
      "cell_type": "markdown",
      "metadata": {
        "id": "fUpqAwtN8rTA"
      },
      "source": [
        "# GAN-RoBERTa (in Pytorch and compatible with HuggingFace)\n",
        "\n",
        "This is a Pytorch (+ **Huggingface** transformers) implementation of the GAN-BERT model from https://github.com/crux82/ganbert. While the original GAN-BERT was an extension of BERT, this implementation can be adapted to several architectures, ranging from Roberta to Albert!\n",
        "\n",
        "**NOTE**: given that this implementation is different from the original one in Tensorflow, some results can be slighty different.\n"
      ]
    },
    {
      "cell_type": "markdown",
      "metadata": {
        "id": "Q0m5KR34gmRH"
      },
      "source": [
        "Let's GO!\n",
        "\n",
        "Required Imports."
      ]
    },
    {
      "cell_type": "markdown",
      "source": [
        "## Importing Library"
      ],
      "metadata": {
        "id": "_QNqyjz1Fq-x"
      }
    },
    {
      "cell_type": "code",
      "metadata": {
        "colab": {
          "base_uri": "https://localhost:8080/"
        },
        "id": "UIqpm34x2rms",
        "outputId": "31e9db82-27be-4fa4-d8b8-05ce5e27d0e0"
      },
      "source": [
        "!pip install transformers==4.3.2\n",
        "import torch\n",
        "import io\n",
        "import torch.nn.functional as F\n",
        "import random\n",
        "import numpy as np\n",
        "import time\n",
        "import math\n",
        "import datetime\n",
        "import torch.nn as nn\n",
        "from transformers import *\n",
        "from torch.utils.data import TensorDataset, DataLoader, RandomSampler, SequentialSampler\n",
        "#!pip install torch==1.7.1+cu101 torchvision==0.8.2+cu101 -f https://download.pytorch.org/whl/torch_stable.html\n",
        "#!pip install sentencepiece\n",
        "\n",
        "##Set random values\n",
        "seed_val = 42\n",
        "random.seed(seed_val)\n",
        "np.random.seed(seed_val)\n",
        "torch.manual_seed(seed_val)\n",
        "if torch.cuda.is_available():\n",
        "  torch.cuda.manual_seed_all(seed_val)"
      ],
      "execution_count": 1,
      "outputs": [
        {
          "output_type": "stream",
          "name": "stdout",
          "text": [
            "Looking in indexes: https://pypi.org/simple, https://us-python.pkg.dev/colab-wheels/public/simple/\n",
            "Collecting transformers==4.3.2\n",
            "  Downloading transformers-4.3.2-py3-none-any.whl (1.8 MB)\n",
            "\u001b[K     |████████████████████████████████| 1.8 MB 12.5 MB/s \n",
            "\u001b[?25hRequirement already satisfied: numpy>=1.17 in /usr/local/lib/python3.7/dist-packages (from transformers==4.3.2) (1.21.6)\n",
            "Collecting sacremoses\n",
            "  Downloading sacremoses-0.0.53.tar.gz (880 kB)\n",
            "\u001b[K     |████████████████████████████████| 880 kB 34.3 MB/s \n",
            "\u001b[?25hRequirement already satisfied: importlib-metadata in /usr/local/lib/python3.7/dist-packages (from transformers==4.3.2) (4.11.4)\n",
            "Requirement already satisfied: tqdm>=4.27 in /usr/local/lib/python3.7/dist-packages (from transformers==4.3.2) (4.64.0)\n",
            "Collecting tokenizers<0.11,>=0.10.1\n",
            "  Downloading tokenizers-0.10.3-cp37-cp37m-manylinux_2_5_x86_64.manylinux1_x86_64.manylinux_2_12_x86_64.manylinux2010_x86_64.whl (3.3 MB)\n",
            "\u001b[K     |████████████████████████████████| 3.3 MB 23.6 MB/s \n",
            "\u001b[?25hRequirement already satisfied: packaging in /usr/local/lib/python3.7/dist-packages (from transformers==4.3.2) (21.3)\n",
            "Requirement already satisfied: filelock in /usr/local/lib/python3.7/dist-packages (from transformers==4.3.2) (3.7.0)\n",
            "Requirement already satisfied: regex!=2019.12.17 in /usr/local/lib/python3.7/dist-packages (from transformers==4.3.2) (2019.12.20)\n",
            "Requirement already satisfied: requests in /usr/local/lib/python3.7/dist-packages (from transformers==4.3.2) (2.23.0)\n",
            "Requirement already satisfied: zipp>=0.5 in /usr/local/lib/python3.7/dist-packages (from importlib-metadata->transformers==4.3.2) (3.8.0)\n",
            "Requirement already satisfied: typing-extensions>=3.6.4 in /usr/local/lib/python3.7/dist-packages (from importlib-metadata->transformers==4.3.2) (4.2.0)\n",
            "Requirement already satisfied: pyparsing!=3.0.5,>=2.0.2 in /usr/local/lib/python3.7/dist-packages (from packaging->transformers==4.3.2) (3.0.9)\n",
            "Requirement already satisfied: idna<3,>=2.5 in /usr/local/lib/python3.7/dist-packages (from requests->transformers==4.3.2) (2.10)\n",
            "Requirement already satisfied: chardet<4,>=3.0.2 in /usr/local/lib/python3.7/dist-packages (from requests->transformers==4.3.2) (3.0.4)\n",
            "Requirement already satisfied: certifi>=2017.4.17 in /usr/local/lib/python3.7/dist-packages (from requests->transformers==4.3.2) (2022.5.18.1)\n",
            "Requirement already satisfied: urllib3!=1.25.0,!=1.25.1,<1.26,>=1.21.1 in /usr/local/lib/python3.7/dist-packages (from requests->transformers==4.3.2) (1.24.3)\n",
            "Requirement already satisfied: six in /usr/local/lib/python3.7/dist-packages (from sacremoses->transformers==4.3.2) (1.15.0)\n",
            "Requirement already satisfied: click in /usr/local/lib/python3.7/dist-packages (from sacremoses->transformers==4.3.2) (7.1.2)\n",
            "Requirement already satisfied: joblib in /usr/local/lib/python3.7/dist-packages (from sacremoses->transformers==4.3.2) (1.1.0)\n",
            "Building wheels for collected packages: sacremoses\n",
            "  Building wheel for sacremoses (setup.py) ... \u001b[?25l\u001b[?25hdone\n",
            "  Created wheel for sacremoses: filename=sacremoses-0.0.53-py3-none-any.whl size=895260 sha256=2218d7cd744b20f2d70ac71e3362f87c6c2320d9ebd60ede6e58ff5c4e6d7987\n",
            "  Stored in directory: /root/.cache/pip/wheels/87/39/dd/a83eeef36d0bf98e7a4d1933a4ad2d660295a40613079bafc9\n",
            "Successfully built sacremoses\n",
            "Installing collected packages: tokenizers, sacremoses, transformers\n",
            "Successfully installed sacremoses-0.0.53 tokenizers-0.10.3 transformers-4.3.2\n"
          ]
        }
      ]
    },
    {
      "cell_type": "markdown",
      "source": [
        "## Mounting Drive"
      ],
      "metadata": {
        "id": "Xk68mMDHFuT_"
      }
    },
    {
      "cell_type": "code",
      "source": [
        "from google.colab import drive\n",
        "drive.mount('/content/gdrive')"
      ],
      "metadata": {
        "colab": {
          "base_uri": "https://localhost:8080/"
        },
        "id": "u8wV81hUXIPz",
        "outputId": "23653bd4-d5b3-43ab-9046-6fbae07ef50b"
      },
      "execution_count": 2,
      "outputs": [
        {
          "output_type": "stream",
          "name": "stdout",
          "text": [
            "Mounted at /content/gdrive\n"
          ]
        }
      ]
    },
    {
      "cell_type": "code",
      "source": [
        "%cd \"/content/gdrive/My Drive/GAN-BERT/data_CLINC150\""
      ],
      "metadata": {
        "colab": {
          "base_uri": "https://localhost:8080/"
        },
        "id": "Fo5-RJvBXOkl",
        "outputId": "1da84565-008e-42fa-ca2f-1e2e79b6c828"
      },
      "execution_count": 3,
      "outputs": [
        {
          "output_type": "stream",
          "name": "stdout",
          "text": [
            "/content/gdrive/My Drive/GAN-BERT/data_CLINC150\n"
          ]
        }
      ]
    },
    {
      "cell_type": "code",
      "source": [
        "import os\n",
        "os.listdir('./')"
      ],
      "metadata": {
        "colab": {
          "base_uri": "https://localhost:8080/"
        },
        "id": "fpJT4toCXyul",
        "outputId": "3dbe5c39-258c-43e5-ac8b-055f89c39e63"
      },
      "execution_count": 4,
      "outputs": [
        {
          "output_type": "execute_result",
          "data": {
            "text/plain": [
              "['Data_Preparation.ipynb',\n",
              " 'data_full.json',\n",
              " '10_90',\n",
              " '.ipynb_checkpoints',\n",
              " '20_80',\n",
              " '40_60',\n",
              " 'ganbert',\n",
              " '1_99',\n",
              " '2_98',\n",
              " '5_95',\n",
              " '50_50',\n",
              " '30_70',\n",
              " 'test_OOS.tsv',\n",
              " 'test.tsv']"
            ]
          },
          "metadata": {},
          "execution_count": 4
        }
      ]
    },
    {
      "cell_type": "code",
      "metadata": {
        "id": "LeZgRup520II",
        "colab": {
          "base_uri": "https://localhost:8080/"
        },
        "outputId": "25c27ffb-b930-423f-f520-6ccc63208505"
      },
      "source": [
        "# If there's a GPU available...\n",
        "if torch.cuda.is_available():    \n",
        "    # Tell PyTorch to use the GPU.    \n",
        "    device = torch.device(\"cuda\")\n",
        "    print('There are %d GPU(s) available.' % torch.cuda.device_count())\n",
        "    print('We will use the GPU:', torch.cuda.get_device_name(0))\n",
        "# If not...\n",
        "else:\n",
        "    print('No GPU available, using the CPU instead.')\n",
        "    device = torch.device(\"cpu\")"
      ],
      "execution_count": 5,
      "outputs": [
        {
          "output_type": "stream",
          "name": "stdout",
          "text": [
            "There are 1 GPU(s) available.\n",
            "We will use the GPU: Tesla P100-PCIE-16GB\n"
          ]
        }
      ]
    },
    {
      "cell_type": "markdown",
      "metadata": {
        "id": "AU3ns8Ic7I-h"
      },
      "source": [
        "### Input Parameters\n"
      ]
    },
    {
      "cell_type": "code",
      "metadata": {
        "id": "jw0HC_hU3FUy",
        "colab": {
          "base_uri": "https://localhost:8080/"
        },
        "outputId": "bd544c1a-c4d9-4405-c006-d988f332530b"
      },
      "source": [
        "#--------------------------------\n",
        "#  Transformer parameters\n",
        "#--------------------------------\n",
        "max_seq_length = 64\n",
        "batch_size = 64\n",
        "\n",
        "#--------------------------------\n",
        "#  GAN-BERT specific parameters\n",
        "#--------------------------------\n",
        "# number of hidden layers in the generator, \n",
        "# each of the size of the output space\n",
        "num_hidden_layers_g = 1; \n",
        "# number of hidden layers in the discriminator, \n",
        "# each of the size of the input space\n",
        "num_hidden_layers_d = 1; \n",
        "# size of the generator's input noisy vectors\n",
        "noise_size = 100\n",
        "# dropout to be applied to discriminator's input vectors\n",
        "out_dropout_rate = 0.2\n",
        "\n",
        "# Replicate labeled data to balance poorly represented datasets, \n",
        "# e.g., less than 1% of labeled material\n",
        "apply_balance = True\n",
        "\n",
        "#--------------------------------\n",
        "#  Optimization parameters\n",
        "#--------------------------------\n",
        "learning_rate_discriminator = 5e-5\n",
        "learning_rate_generator = 5e-5\n",
        "epsilon = 1e-8\n",
        "num_train_epochs = 5\n",
        "multi_gpu = True\n",
        "# Scheduler\n",
        "apply_scheduler = False\n",
        "warmup_proportion = 0.1\n",
        "# Print\n",
        "print_each_n_step = 10\n",
        "\n",
        "#--------------------------------\n",
        "#  Adopted Tranformer model\n",
        "#--------------------------------\n",
        "# Since this version is compatible with Huggingface transformers, you can uncomment\n",
        "# (or add) transformer models compatible with GAN\n",
        "\n",
        "#model_name = \"bert-base-cased\"\n",
        "#model_name = \"bert-base-uncased\"\n",
        "model_name = \"roberta-base\"\n",
        "#model_name = \"albert-base-v2\"\n",
        "#model_name = \"xlm-roberta-base\"\n",
        "#model_name = \"amazon/bort\"\n",
        "\n",
        "#--------------------------------\n",
        "#  Retrieve the TREC QC Dataset\n",
        "#--------------------------------\n",
        "! git clone https://github.com/crux82/ganbert\n",
        "\n",
        "#  NOTE: in this setting 50 classes are involved\n",
        "labeled_file = \"./ganbert/data/labeled.tsv\"\n",
        "unlabeled_file = \"./ganbert/data/unlabeled.tsv\"\n",
        "test_filename = \"./ganbert/data/test.tsv\"\n",
        "\n",
        "#label_list = [\"UNK_UNK\",\"ABBR_abb\", \"ABBR_exp\", \"DESC_def\", \"DESC_desc\", \n",
        "#              \"DESC_manner\", \"DESC_reason\", \"ENTY_animal\", \"ENTY_body\", \n",
        "#              \"ENTY_color\", \"ENTY_cremat\", \"ENTY_currency\", \"ENTY_dismed\", \n",
        "#              \"ENTY_event\", \"ENTY_food\", \"ENTY_instru\", \"ENTY_lang\", \n",
        "#              \"ENTY_letter\", \"ENTY_other\", \"ENTY_plant\", \"ENTY_product\", \n",
        "#              \"ENTY_religion\", \"ENTY_sport\", \"ENTY_substance\", \"ENTY_symbol\", \n",
        "#              \"ENTY_techmeth\", \"ENTY_termeq\", \"ENTY_veh\", \"ENTY_word\", \"HUM_desc\", \n",
        "#              \"HUM_gr\", \"HUM_ind\", \"HUM_title\", \"LOC_city\", \"LOC_country\", \n",
        "#              \"LOC_mount\", \"LOC_other\", \"LOC_state\", \"NUM_code\", \"NUM_count\", \n",
        "#              \"NUM_date\", \"NUM_dist\", \"NUM_money\", \"NUM_ord\", \"NUM_other\", \n",
        "#              \"NUM_perc\", \"NUM_period\", \"NUM_speed\", \"NUM_temp\", \"NUM_volsize\", \n",
        "#              \"NUM_weight\"]\n",
        "\n",
        "label_list = ['UNK_UNK','translate', 'transfer', 'timer', 'definition', 'meaning_of_life',\n",
        "       'insurance_change', 'find_phone', 'travel_alert', 'pto_request',\n",
        "       'improve_credit_score', 'fun_fact', 'change_language', 'payday',\n",
        "       'replacement_card_duration', 'time', 'application_status',\n",
        "       'flight_status', 'flip_coin', 'change_user_name',\n",
        "       'where_are_you_from', 'shopping_list_update', 'what_can_i_ask_you',\n",
        "       'maybe', 'oil_change_how', 'restaurant_reservation', 'balance',\n",
        "       'confirm_reservation', 'freeze_account', 'rollover_401k',\n",
        "       'who_made_you', 'distance', 'user_name', 'timezone', 'next_song',\n",
        "       'transactions', 'restaurant_suggestion', 'rewards_balance',\n",
        "       'pay_bill', 'spending_history', 'pto_request_status',\n",
        "       'credit_score', 'new_card', 'lost_luggage', 'repeat', 'mpg',\n",
        "       'oil_change_when', 'yes', 'travel_suggestion', 'insurance',\n",
        "       'todo_list_update', 'reminder', 'change_speed', 'tire_pressure',\n",
        "       'no', 'apr', 'nutrition_info', 'calendar', 'uber', 'calculator',\n",
        "       'date', 'carry_on', 'pto_used', 'schedule_maintenance',\n",
        "       'travel_notification', 'sync_device', 'thank_you', 'roll_dice',\n",
        "       'food_last', 'cook_time', 'reminder_update', 'report_lost_card',\n",
        "       'ingredient_substitution', 'make_call', 'alarm', 'todo_list',\n",
        "       'change_accent', 'w2', 'bill_due', 'calories', 'damaged_card',\n",
        "       'restaurant_reviews', 'routing', 'do_you_have_pets',\n",
        "       'schedule_meeting', 'gas_type', 'plug_type', 'tire_change',\n",
        "       'exchange_rate', 'next_holiday', 'change_volume',\n",
        "       'who_do_you_work_for', 'credit_limit', 'how_busy',\n",
        "       'accept_reservations', 'order_status', 'pin_change', 'goodbye',\n",
        "       'account_blocked', 'what_song', 'international_fees',\n",
        "       'last_maintenance', 'meeting_schedule', 'ingredients_list',\n",
        "       'report_fraud', 'measurement_conversion', 'smart_home',\n",
        "       'book_hotel', 'current_location', 'weather', 'taxes',\n",
        "       'min_payment', 'whisper_mode', 'cancel', 'international_visa',\n",
        "       'vaccines', 'pto_balance', 'directions', 'spelling', 'greeting',\n",
        "       'reset_settings', 'what_is_your_name', 'direct_deposit',\n",
        "       'interest_rate', 'credit_limit_change', 'what_are_your_hobbies',\n",
        "       'book_flight', 'shopping_list', 'text', 'bill_balance',\n",
        "       'share_location', 'redeem_rewards', 'play_music',\n",
        "       'calendar_update', 'are_you_a_bot', 'gas', 'expiration_date',\n",
        "       'update_playlist', 'cancel_reservation', 'tell_joke',\n",
        "       'change_ai_name', 'how_old_are_you', 'car_rental', 'jump_start',\n",
        "       'meal_suggestion', 'recipe', 'income', 'order', 'traffic',\n",
        "       'order_checks', 'card_declined']"
      ],
      "execution_count": 6,
      "outputs": [
        {
          "output_type": "stream",
          "name": "stdout",
          "text": [
            "fatal: destination path 'ganbert' already exists and is not an empty directory.\n"
          ]
        }
      ]
    },
    {
      "cell_type": "code",
      "source": [
        "labeled_examples = None\n",
        "unlabeled_examples = None\n",
        "test_examples = None"
      ],
      "metadata": {
        "id": "VPPZXi50MQq0"
      },
      "execution_count": 7,
      "outputs": []
    },
    {
      "cell_type": "markdown",
      "metadata": {
        "id": "R6Q5jzVioTHb"
      },
      "source": [
        "## Load the Tranformer Model"
      ]
    },
    {
      "cell_type": "code",
      "metadata": {
        "id": "gxghkkZq3Gbn",
        "outputId": "68388c38-8798-496a-8714-f98f2228c923",
        "colab": {
          "base_uri": "https://localhost:8080/",
          "height": 177,
          "referenced_widgets": [
            "9155b49976024734919fa87fe7da4364",
            "d37dd4af8f8a41d88e4b4f1143f44d00",
            "114b2ef98e6a4ef5925341e947edc8dd",
            "b08b31fd20144f24937c61d3bdbc60c0",
            "88cf6340f2a04db094267d836eb28167",
            "16f1795bd1a44afca43880ecb185fbf9",
            "e91f734b92624256ad0f16fd220483d2",
            "40b5dead328a48f5a8af4d9cf72c8400",
            "f1c55b6432394f85b25bd71413fc8771",
            "b9e15d9923f344eb9bae2770db4f053f",
            "20b0e153db31491eaa4b5a71d11932bb",
            "5155e2f7bbd840e2a39bce385b9d1ac9",
            "8d7e265f18e94ff18b64d709dca0af59",
            "0ce89bc47d784b0f854054a947a2809e",
            "b2e11bfb8ca74c0295ba353b1a363549",
            "f88e918a2c9c483fa0a4b39bd1a568c2",
            "e70636e8154e420e92e172b3982e8e1b",
            "0d55171749d645f5823f8ed151945981",
            "68ba5406a43749089ad416c6a8871c61",
            "b399c836c45b4c9bab525e0db091dfd4",
            "2dfb8927af4c4e079d66c74102760644",
            "60eced5bbff248cd8e1804ef1d802123",
            "ed5bfeeac4b4461f91925ab44f50cd4c",
            "2edbfbbf0e2346a389af15ca10b0d9bd",
            "cd444d24b8ed44f7a90b14952272f6f7",
            "b1b7701d7151488cbc8dab7ebe59f0c0",
            "2b4c4f8cbbb24a15a6acd00dbf6822a8",
            "a7c0ef95fbeb499b960ce69a0cb3422e",
            "fb7ef7068da7432b9488000ae858b06f",
            "300aa094b20844f28fdaa377332c2373",
            "117bc1b266f84ad0bee0f00f96d42b61",
            "738e19d4d4aa46999e2a75e43b08bd1c",
            "f2fd7d5624a64dd9902448a420759ef2",
            "0621b375873046c3bdad95c9ff3e40f3",
            "0d7067bbec9a4e06803f95781ebd5182",
            "6ae94335fb3142f599f826f5fa531006",
            "1d2b6c8fcd4247c3af7da0c100d338c7",
            "01d5c335a6924640a29d5c4eda90b763",
            "ca0864fa67de425a9a688c916a206c1a",
            "96f54386ea12422fbb374458a4f85e40",
            "44a1d6569ad94b808a91ad3ed5f1c543",
            "9d5a1044da8d49b2a6ccb3a1f08115f4",
            "40b32c0e76b04ecf87a5afc0e0b497f3",
            "7a131e4498b1431189ca3a9d6043963c",
            "4b88bc9f4ab441c096e9361d329dcc4c",
            "15a565b689834156b447b3e2b258bef7",
            "a560492fa0a244919eb4f5fb543de631",
            "f611dd230cd946308c8e17894446a5e7",
            "8a10993ccd114865a0b0b5d1d759ae18",
            "8720ed823ed94734957e7d1253449563",
            "1fd186eb46a64fc7b806dd649c3c62b7",
            "a017ec030b034028b8c288118825b19c",
            "566bd775421748f5bfda8f5d0e5404c9",
            "c3587701415e46f18e369ff2b7c18a9b",
            "90c47ff47cd04f1d833bc623c237a52d"
          ]
        }
      },
      "source": [
        "transformer = AutoModel.from_pretrained(model_name)\n",
        "tokenizer = AutoTokenizer.from_pretrained(model_name)"
      ],
      "execution_count": 8,
      "outputs": [
        {
          "output_type": "display_data",
          "data": {
            "text/plain": [
              "Downloading:   0%|          | 0.00/481 [00:00<?, ?B/s]"
            ],
            "application/vnd.jupyter.widget-view+json": {
              "version_major": 2,
              "version_minor": 0,
              "model_id": "9155b49976024734919fa87fe7da4364"
            }
          },
          "metadata": {}
        },
        {
          "output_type": "display_data",
          "data": {
            "text/plain": [
              "Downloading:   0%|          | 0.00/501M [00:00<?, ?B/s]"
            ],
            "application/vnd.jupyter.widget-view+json": {
              "version_major": 2,
              "version_minor": 0,
              "model_id": "5155e2f7bbd840e2a39bce385b9d1ac9"
            }
          },
          "metadata": {}
        },
        {
          "output_type": "display_data",
          "data": {
            "text/plain": [
              "Downloading:   0%|          | 0.00/899k [00:00<?, ?B/s]"
            ],
            "application/vnd.jupyter.widget-view+json": {
              "version_major": 2,
              "version_minor": 0,
              "model_id": "ed5bfeeac4b4461f91925ab44f50cd4c"
            }
          },
          "metadata": {}
        },
        {
          "output_type": "display_data",
          "data": {
            "text/plain": [
              "Downloading:   0%|          | 0.00/456k [00:00<?, ?B/s]"
            ],
            "application/vnd.jupyter.widget-view+json": {
              "version_major": 2,
              "version_minor": 0,
              "model_id": "0621b375873046c3bdad95c9ff3e40f3"
            }
          },
          "metadata": {}
        },
        {
          "output_type": "display_data",
          "data": {
            "text/plain": [
              "Downloading:   0%|          | 0.00/1.36M [00:00<?, ?B/s]"
            ],
            "application/vnd.jupyter.widget-view+json": {
              "version_major": 2,
              "version_minor": 0,
              "model_id": "4b88bc9f4ab441c096e9361d329dcc4c"
            }
          },
          "metadata": {}
        }
      ]
    },
    {
      "cell_type": "markdown",
      "metadata": {
        "id": "rd_ixn5qn_zV"
      },
      "source": [
        "## Function required to load the dataset"
      ]
    },
    {
      "cell_type": "code",
      "metadata": {
        "id": "W7cP8q7K3BId"
      },
      "source": [
        "def get_qc_examples(input_file):\n",
        "  \"\"\"Creates examples for the training and dev sets.\"\"\"\n",
        "  examples = []\n",
        "\n",
        "  with open(input_file, 'r') as f:\n",
        "      contents = f.read()\n",
        "      file_as_list = contents.splitlines()\n",
        "      for line in file_as_list[1:]:\n",
        "          split = line.split(\" \")\n",
        "          statement = ' '.join(split[1:])\n",
        "\n",
        "          text_a = statement\n",
        "          label = split[0] \n",
        "          examples.append((text_a, label))\n",
        "      f.close()\n",
        "\n",
        "  return examples"
      ],
      "execution_count": 9,
      "outputs": []
    },
    {
      "cell_type": "markdown",
      "metadata": {
        "id": "K43tOavNqib4"
      },
      "source": [
        "##**Load** the input QC dataset (fine-grained)"
      ]
    },
    {
      "cell_type": "code",
      "metadata": {
        "id": "cXCwFyF2qhw7"
      },
      "source": [
        "#Load the examples\n",
        "def load_the_input_dataset():\n",
        "  labeled_examples = get_qc_examples(labeled_file)\n",
        "  unlabeled_examples = get_qc_examples(unlabeled_file)\n",
        "  test_examples = get_qc_examples(test_filename)\n",
        "  return labeled_examples, unlabeled_examples, test_examples"
      ],
      "execution_count": 10,
      "outputs": []
    },
    {
      "cell_type": "markdown",
      "metadata": {
        "id": "JBhaW5vBfR6B"
      },
      "source": [
        "##Functions required to convert examples into Dataloader"
      ]
    },
    {
      "cell_type": "code",
      "metadata": {
        "id": "fmKL5AD7I4Zg"
      },
      "source": [
        "def generate_data_loader(input_examples, label_masks, label_map, do_shuffle = False, balance_label_examples = False):\n",
        "  '''\n",
        "  Generate a Dataloader given the input examples, eventually masked if they are \n",
        "  to be considered NOT labeled.\n",
        "  '''\n",
        "  examples = []\n",
        "\n",
        "  # Count the percentage of labeled examples  \n",
        "  num_labeled_examples = 0\n",
        "  for label_mask in label_masks:\n",
        "    if label_mask: \n",
        "      num_labeled_examples += 1\n",
        "  label_mask_rate = num_labeled_examples/len(input_examples)\n",
        "\n",
        "  # if required it applies the balance\n",
        "  for index, ex in enumerate(input_examples): \n",
        "    if label_mask_rate == 1 or not balance_label_examples:\n",
        "      examples.append((ex, label_masks[index]))\n",
        "    else:\n",
        "      # IT SIMULATE A LABELED EXAMPLE\n",
        "      if label_masks[index]:\n",
        "        balance = int(1/label_mask_rate)\n",
        "        balance = int(math.log(balance,2))\n",
        "        if balance < 1:\n",
        "          balance = 1\n",
        "        for b in range(0, int(balance)):\n",
        "          examples.append((ex, label_masks[index]))\n",
        "      else:\n",
        "        examples.append((ex, label_masks[index]))\n",
        "  \n",
        "  #-----------------------------------------------\n",
        "  # Generate input examples to the Transformer\n",
        "  #-----------------------------------------------\n",
        "  input_ids = []\n",
        "  input_mask_array = []\n",
        "  label_mask_array = []\n",
        "  label_id_array = []\n",
        "\n",
        "  # Tokenization \n",
        "  for (text, label_mask) in examples:\n",
        "    encoded_sent = tokenizer.encode(text[0], add_special_tokens=True, max_length=max_seq_length, padding=\"max_length\", truncation=True)\n",
        "    input_ids.append(encoded_sent)\n",
        "    label_id_array.append(label_map[text[1]])\n",
        "    label_mask_array.append(label_mask)\n",
        "  \n",
        "  # Attention to token (to ignore padded input wordpieces)\n",
        "  for sent in input_ids:\n",
        "    att_mask = [int(token_id > 0) for token_id in sent]                          \n",
        "    input_mask_array.append(att_mask)\n",
        "  # Convertion to Tensor\n",
        "  input_ids = torch.tensor(input_ids) \n",
        "  input_mask_array = torch.tensor(input_mask_array)\n",
        "  label_id_array = torch.tensor(label_id_array, dtype=torch.long)\n",
        "  label_mask_array = torch.tensor(label_mask_array)\n",
        "\n",
        "  # Building the TensorDataset\n",
        "  dataset = TensorDataset(input_ids, input_mask_array, label_id_array, label_mask_array)\n",
        "\n",
        "  if do_shuffle:\n",
        "    sampler = RandomSampler\n",
        "  else:\n",
        "    sampler = SequentialSampler\n",
        "\n",
        "  # Building the DataLoader\n",
        "  return DataLoader(\n",
        "              dataset,  # The training samples.\n",
        "              sampler = sampler(dataset), \n",
        "              batch_size = batch_size) # Trains with this batch size.\n",
        "\n",
        "def format_time(elapsed):\n",
        "    '''\n",
        "    Takes a time in seconds and returns a string hh:mm:ss\n",
        "    '''\n",
        "    # Round to the nearest second.\n",
        "    elapsed_rounded = int(round((elapsed)))\n",
        "    # Format as hh:mm:ss\n",
        "    return str(datetime.timedelta(seconds=elapsed_rounded))"
      ],
      "execution_count": 11,
      "outputs": []
    },
    {
      "cell_type": "markdown",
      "metadata": {
        "id": "Do3O-VeefT3g"
      },
      "source": [
        "##Convert the input examples into DataLoader"
      ]
    },
    {
      "cell_type": "code",
      "metadata": {
        "id": "4c-nsMXlKX-D"
      },
      "source": [
        "def convert_input_examples_to_dataloader(label_list):\n",
        "  label_map = {}\n",
        "  for (i, label) in enumerate(label_list):\n",
        "    label_map[label] = i\n",
        "  #------------------------------\n",
        "  #   Load the train dataset\n",
        "  #------------------------------\n",
        "  train_examples = labeled_examples\n",
        "  #The labeled (train) dataset is assigned with a mask set to True\n",
        "  train_label_masks = np.ones(len(labeled_examples), dtype=bool)\n",
        "  #If unlabel examples are available\n",
        "  if unlabeled_examples:\n",
        "    train_examples = train_examples + unlabeled_examples\n",
        "    #The unlabeled (train) dataset is assigned with a mask set to False\n",
        "    tmp_masks = np.zeros(len(unlabeled_examples), dtype=bool)\n",
        "    train_label_masks = np.concatenate([train_label_masks,tmp_masks])\n",
        "\n",
        "  train_dataloader = generate_data_loader(train_examples, train_label_masks, label_map, do_shuffle = True, balance_label_examples = apply_balance)\n",
        "\n",
        "  #------------------------------\n",
        "  #   Load the test dataset\n",
        "  #------------------------------\n",
        "  #The labeled (test) dataset is assigned with a mask set to True\n",
        "  test_label_masks = np.ones(len(test_examples), dtype=bool)\n",
        "\n",
        "  test_dataloader = generate_data_loader(test_examples, test_label_masks, label_map, do_shuffle = False, balance_label_examples = False)\n",
        "  return test_dataloader, train_dataloader, train_examples"
      ],
      "execution_count": 12,
      "outputs": []
    },
    {
      "cell_type": "markdown",
      "metadata": {
        "id": "6Ihcw3vquaQm"
      },
      "source": [
        "## Generator and Discriminator definition\n",
        "We define the Generator and Discriminator as discussed in https://www.aclweb.org/anthology/2020.acl-main.191/"
      ]
    },
    {
      "cell_type": "code",
      "metadata": {
        "id": "18kY64-n3I6y"
      },
      "source": [
        "#------------------------------\n",
        "#   The Generator as in \n",
        "#   https://www.aclweb.org/anthology/2020.acl-main.191/\n",
        "#   https://github.com/crux82/ganbert\n",
        "#------------------------------\n",
        "class Generator(nn.Module):\n",
        "    def __init__(self, noise_size=100, output_size=512, hidden_sizes=[512], dropout_rate=0.1):\n",
        "        super(Generator, self).__init__()\n",
        "        layers = []\n",
        "        hidden_sizes = [noise_size] + hidden_sizes\n",
        "        for i in range(len(hidden_sizes)-1):\n",
        "            layers.extend([nn.Linear(hidden_sizes[i], hidden_sizes[i+1]), nn.LeakyReLU(0.2, inplace=True), nn.Dropout(dropout_rate)])\n",
        "\n",
        "        layers.append(nn.Linear(hidden_sizes[-1],output_size))\n",
        "        self.layers = nn.Sequential(*layers)\n",
        "\n",
        "    def forward(self, noise):\n",
        "        output_rep = self.layers(noise)\n",
        "        return output_rep\n",
        "\n",
        "#------------------------------\n",
        "#   The Discriminator\n",
        "#   https://www.aclweb.org/anthology/2020.acl-main.191/\n",
        "#   https://github.com/crux82/ganbert\n",
        "#------------------------------\n",
        "class Discriminator(nn.Module):\n",
        "    def __init__(self, input_size=512, hidden_sizes=[512], num_labels=2, dropout_rate=0.1):\n",
        "        super(Discriminator, self).__init__()\n",
        "        self.input_dropout = nn.Dropout(p=dropout_rate)\n",
        "        layers = []\n",
        "        hidden_sizes = [input_size] + hidden_sizes\n",
        "        for i in range(len(hidden_sizes)-1):\n",
        "            layers.extend([nn.Linear(hidden_sizes[i], hidden_sizes[i+1]), nn.LeakyReLU(0.2, inplace=True), nn.Dropout(dropout_rate)])\n",
        "\n",
        "        self.layers = nn.Sequential(*layers) #per il flatten\n",
        "        self.logit = nn.Linear(hidden_sizes[-1],num_labels+1) # +1 for the probability of this sample being fake/real.\n",
        "        self.softmax = nn.Softmax(dim=-1)\n",
        "\n",
        "    def forward(self, input_rep):\n",
        "        input_rep = self.input_dropout(input_rep)\n",
        "        last_rep = self.layers(input_rep)\n",
        "        logits = self.logit(last_rep)\n",
        "        probs = self.softmax(logits)\n",
        "        return last_rep, logits, probs"
      ],
      "execution_count": 13,
      "outputs": []
    },
    {
      "cell_type": "markdown",
      "metadata": {
        "id": "Uje9s2zQunFc"
      },
      "source": [
        "##We instantiate the Discriminator and Generator"
      ]
    },
    {
      "cell_type": "code",
      "metadata": {
        "id": "Ylz5rvqE3U2S"
      },
      "source": [
        "def instantiate_discriminator_and_generator(transformer):\n",
        "  # The config file is required to get the dimension of the vector produced by \n",
        "  # the underlying transformer\n",
        "  config = AutoConfig.from_pretrained(model_name)\n",
        "  hidden_size = int(config.hidden_size)\n",
        "  # Define the number and width of hidden layers\n",
        "  hidden_levels_g = [hidden_size for i in range(0, num_hidden_layers_g)]\n",
        "  hidden_levels_d = [hidden_size for i in range(0, num_hidden_layers_d)]\n",
        "\n",
        "  #-------------------------------------------------\n",
        "  #   Instantiate the Generator and Discriminator\n",
        "  #-------------------------------------------------\n",
        "  generator = Generator(noise_size=noise_size, output_size=hidden_size, hidden_sizes=hidden_levels_g, dropout_rate=out_dropout_rate)\n",
        "  discriminator = Discriminator(input_size=hidden_size, hidden_sizes=hidden_levels_d, num_labels=len(label_list), dropout_rate=out_dropout_rate)\n",
        "\n",
        "  # Put everything in the GPU if available\n",
        "  if torch.cuda.is_available():    \n",
        "    generator.cuda()\n",
        "    discriminator.cuda()\n",
        "    transformer.cuda()\n",
        "    if multi_gpu:\n",
        "      transformer = torch.nn.DataParallel(transformer)\n",
        "\n",
        "  # print(config)\n",
        "  return generator, discriminator"
      ],
      "execution_count": 14,
      "outputs": []
    },
    {
      "cell_type": "markdown",
      "metadata": {
        "id": "VG3qzp2-usZE"
      },
      "source": [
        "##Training procedure starting method\n",
        "Let's go with the training procedure"
      ]
    },
    {
      "cell_type": "code",
      "metadata": {
        "id": "NhqylHGK3Va4"
      },
      "source": [
        "def training_procedure_start(test_dataloader, train_dataloader, train_examples, generator, discriminator):\n",
        "  training_stats = []\n",
        "\n",
        "  # Measure the total training time for the whole run.\n",
        "  total_t0 = time.time()\n",
        "\n",
        "  #models parameters\n",
        "  transformer_vars = [i for i in transformer.parameters()]\n",
        "  d_vars = transformer_vars + [v for v in discriminator.parameters()]\n",
        "  g_vars = [v for v in generator.parameters()]\n",
        "\n",
        "  #optimizer\n",
        "  dis_optimizer = torch.optim.AdamW(d_vars, lr=learning_rate_discriminator)\n",
        "  gen_optimizer = torch.optim.AdamW(g_vars, lr=learning_rate_generator) \n",
        "\n",
        "  #scheduler\n",
        "  if apply_scheduler:\n",
        "    num_train_examples = len(train_examples)\n",
        "    num_train_steps = int(num_train_examples / batch_size * num_train_epochs)\n",
        "    num_warmup_steps = int(num_train_steps * warmup_proportion)\n",
        "\n",
        "    scheduler_d = get_constant_schedule_with_warmup(dis_optimizer, \n",
        "                                            num_warmup_steps = num_warmup_steps)\n",
        "    scheduler_g = get_constant_schedule_with_warmup(gen_optimizer, \n",
        "                                            num_warmup_steps = num_warmup_steps)\n",
        "\n",
        "  # For each epoch...\n",
        "  for epoch_i in range(0, num_train_epochs):\n",
        "      # ========================================\n",
        "      #               Training\n",
        "      # ========================================\n",
        "      # Perform one full pass over the training set.\n",
        "      print(\"\")\n",
        "      print('======== Epoch {:} / {:} ========'.format(epoch_i + 1, num_train_epochs))\n",
        "      print('Training...')\n",
        "\n",
        "      # Measure how long the training epoch takes.\n",
        "      t0 = time.time()\n",
        "\n",
        "      # Reset the total loss for this epoch.\n",
        "      tr_g_loss = 0\n",
        "      tr_d_loss = 0\n",
        "\n",
        "      # Put the model into training mode.\n",
        "      transformer.train() \n",
        "      generator.train()\n",
        "      discriminator.train()\n",
        "\n",
        "      # For each batch of training data...\n",
        "      for step, batch in enumerate(train_dataloader):\n",
        "\n",
        "          # Progress update every print_each_n_step batches.\n",
        "          if step % print_each_n_step == 0 and not step == 0:\n",
        "              # Calculate elapsed time in minutes.\n",
        "              elapsed = format_time(time.time() - t0)\n",
        "              \n",
        "              # Report progress.\n",
        "              print('  Batch {:>5,}  of  {:>5,}.    Elapsed: {:}.'.format(step, len(train_dataloader), elapsed))\n",
        "\n",
        "          # Unpack this training batch from our dataloader. \n",
        "          b_input_ids = batch[0].to(\"cuda:0\") \n",
        "          b_input_mask = batch[1].to(\"cuda:0\")\n",
        "          b_labels = batch[2].to(\"cuda:0\")\n",
        "          b_label_mask = batch[3].to(\"cuda:0\")\n",
        "\n",
        "          real_batch_size = b_input_ids.shape[0]\n",
        "      \n",
        "          # Encode real data in the Transformer\n",
        "          model_outputs = transformer(b_input_ids, attention_mask=b_input_mask)\n",
        "          hidden_states = model_outputs[-1]\n",
        "          \n",
        "          # Generate fake data that should have the same distribution of the ones\n",
        "          # encoded by the transformer. \n",
        "          # First noisy input are used in input to the Generator\n",
        "          noise = torch.zeros(real_batch_size, noise_size, device=device).uniform_(0, 1)\n",
        "          # Gnerate Fake data\n",
        "          gen_rep = generator(noise)\n",
        "\n",
        "          # Generate the output of the Discriminator for real and fake data.\n",
        "          # First, we put together the output of the tranformer and the generator\n",
        "          disciminator_input = torch.cat([hidden_states, gen_rep], dim=0)\n",
        "          # Then, we select the output of the disciminator\n",
        "          features, logits, probs = discriminator(disciminator_input)\n",
        "\n",
        "          # Finally, we separate the discriminator's output for the real and fake\n",
        "          # data\n",
        "          features_list = torch.split(features, real_batch_size)\n",
        "          D_real_features = features_list[0]\n",
        "          D_fake_features = features_list[1]\n",
        "        \n",
        "          logits_list = torch.split(logits, real_batch_size)\n",
        "          D_real_logits = logits_list[0]\n",
        "          D_fake_logits = logits_list[1]\n",
        "          \n",
        "          probs_list = torch.split(probs, real_batch_size)\n",
        "          D_real_probs = probs_list[0]\n",
        "          D_fake_probs = probs_list[1]\n",
        "\n",
        "          #---------------------------------\n",
        "          #  LOSS evaluation\n",
        "          #---------------------------------\n",
        "          # Generator's LOSS estimation\n",
        "          g_loss_d = -1 * torch.mean(torch.log(1 - D_fake_probs[:,-1] + epsilon))\n",
        "          g_feat_reg = torch.mean(torch.pow(torch.mean(D_real_features, dim=0) - torch.mean(D_fake_features, dim=0), 2))\n",
        "          g_loss = g_loss_d + g_feat_reg\n",
        "    \n",
        "          # Disciminator's LOSS estimation\n",
        "          logits = D_real_logits[:,0:-1]\n",
        "          log_probs = F.log_softmax(logits, dim=-1)\n",
        "          # The discriminator provides an output for labeled and unlabeled real data\n",
        "          # so the loss evaluated for unlabeled data is ignored (masked)\n",
        "          label2one_hot = torch.nn.functional.one_hot(b_labels, len(label_list))\n",
        "          per_example_loss = -torch.sum(label2one_hot * log_probs, dim=-1)\n",
        "          per_example_loss = torch.masked_select(per_example_loss, b_label_mask.to(device))\n",
        "          labeled_example_count = per_example_loss.type(torch.float32).numel()\n",
        "\n",
        "          # It may be the case that a batch does not contain labeled examples, \n",
        "          # so the \"supervised loss\" in this case is not evaluated\n",
        "          if labeled_example_count == 0:\n",
        "            D_L_Supervised = 0\n",
        "          else:\n",
        "            D_L_Supervised = torch.div(torch.sum(per_example_loss.to(device)), labeled_example_count)\n",
        "                  \n",
        "          D_L_unsupervised1U = -1 * torch.mean(torch.log(1 - D_real_probs[:, -1] + epsilon))\n",
        "          D_L_unsupervised2U = -1 * torch.mean(torch.log(D_fake_probs[:, -1] + epsilon))\n",
        "          d_loss = D_L_Supervised + D_L_unsupervised1U + D_L_unsupervised2U\n",
        "\n",
        "          #---------------------------------\n",
        "          #  OPTIMIZATION\n",
        "          #---------------------------------\n",
        "          # Avoid gradient accumulation\n",
        "          gen_optimizer.zero_grad()\n",
        "          dis_optimizer.zero_grad()\n",
        "\n",
        "          # Calculate weigth updates\n",
        "          # retain_graph=True is required since the underlying graph will be deleted after backward\n",
        "          g_loss.backward(retain_graph=True)\n",
        "          d_loss.backward() \n",
        "          \n",
        "          # Apply modifications\n",
        "          gen_optimizer.step()\n",
        "          dis_optimizer.step()\n",
        "\n",
        "          # A detail log of the individual losses\n",
        "          #print(\"{0:.4f}\\t{1:.4f}\\t{2:.4f}\\t{3:.4f}\\t{4:.4f}\".\n",
        "          #      format(D_L_Supervised, D_L_unsupervised1U, D_L_unsupervised2U,\n",
        "          #             g_loss_d, g_feat_reg))\n",
        "\n",
        "          # Save the losses to print them later\n",
        "          tr_g_loss += g_loss.item()\n",
        "          tr_d_loss += d_loss.item()\n",
        "\n",
        "          # Update the learning rate with the scheduler\n",
        "          if apply_scheduler:\n",
        "            scheduler_d.step()\n",
        "            scheduler_g.step()\n",
        "\n",
        "      # Calculate the average loss over all of the batches.\n",
        "      avg_train_loss_g = tr_g_loss / len(train_dataloader)\n",
        "      avg_train_loss_d = tr_d_loss / len(train_dataloader)             \n",
        "      \n",
        "      # Measure how long this epoch took.\n",
        "      training_time = format_time(time.time() - t0)\n",
        "\n",
        "      print(\"\")\n",
        "      print(\"  Average training loss generetor: {0:.3f}\".format(avg_train_loss_g))\n",
        "      print(\"  Average training loss discriminator: {0:.3f}\".format(avg_train_loss_d))\n",
        "      print(\"  Training epcoh took: {:}\".format(training_time))\n",
        "          \n",
        "      # ========================================\n",
        "      #     TEST ON THE EVALUATION DATASET\n",
        "      # ========================================\n",
        "      # After the completion of each training epoch, measure our performance on\n",
        "      # our test set.\n",
        "      print(\"\")\n",
        "      print(\"Running Test...\")\n",
        "\n",
        "      t0 = time.time()\n",
        "\n",
        "      # Put the model in evaluation mode--the dropout layers behave differently\n",
        "      # during evaluation.\n",
        "      transformer.eval() #maybe redundant\n",
        "      discriminator.eval()\n",
        "      generator.eval()\n",
        "\n",
        "      # Tracking variables \n",
        "      total_test_accuracy = 0\n",
        "    \n",
        "      total_test_loss = 0\n",
        "      nb_test_steps = 0\n",
        "\n",
        "      all_preds = []\n",
        "      all_labels_ids = []\n",
        "\n",
        "      #loss\n",
        "      nll_loss = torch.nn.CrossEntropyLoss(ignore_index=-1)\n",
        "\n",
        "      # Evaluate data for one epoch\n",
        "      for batch in test_dataloader:\n",
        "          \n",
        "          # Unpack this training batch from our dataloader. \n",
        "          b_input_ids = batch[0].to(device)\n",
        "          b_input_mask = batch[1].to(device)\n",
        "          b_labels = batch[2].to(device)\n",
        "          \n",
        "          # Tell pytorch not to bother with constructing the compute graph during\n",
        "          # the forward pass, since this is only needed for backprop (training).\n",
        "          with torch.no_grad():        \n",
        "              model_outputs = transformer(b_input_ids, attention_mask=b_input_mask)\n",
        "              hidden_states = model_outputs[-1]\n",
        "              _, logits, probs = discriminator(hidden_states)\n",
        "              ###log_probs = F.log_softmax(probs[:,1:], dim=-1)\n",
        "              filtered_logits = logits[:,0:-1]\n",
        "              # Accumulate the test loss.\n",
        "              total_test_loss += nll_loss(filtered_logits, b_labels)\n",
        "              \n",
        "          # Accumulate the predictions and the input labels\n",
        "          _, preds = torch.max(filtered_logits, 1)\n",
        "          all_preds += preds.detach().cpu()\n",
        "          all_labels_ids += b_labels.detach().cpu()\n",
        "\n",
        "      # Report the final accuracy for this validation run.\n",
        "      all_preds = torch.stack(all_preds).numpy()\n",
        "      all_labels_ids = torch.stack(all_labels_ids).numpy()\n",
        "      test_accuracy = np.sum(all_preds == all_labels_ids) / len(all_preds)\n",
        "      print(\"  Accuracy: {0:.3f}\".format(test_accuracy))\n",
        "\n",
        "      # Calculate the average loss over all of the batches.\n",
        "      avg_test_loss = total_test_loss / len(test_dataloader)\n",
        "      avg_test_loss = avg_test_loss.item()\n",
        "      \n",
        "      # Measure how long the validation run took.\n",
        "      test_time = format_time(time.time() - t0)\n",
        "      \n",
        "      print(\"  Test Loss: {0:.3f}\".format(avg_test_loss))\n",
        "      print(\"  Test took: {:}\".format(test_time))\n",
        "\n",
        "      # Record all statistics from this epoch.\n",
        "      training_stats.append(\n",
        "          {\n",
        "              'epoch': epoch_i + 1,\n",
        "              'Training Loss generator': avg_train_loss_g,\n",
        "              'Training Loss discriminator': avg_train_loss_d,\n",
        "              'Valid. Loss': avg_test_loss,\n",
        "              'Valid. Accur.': test_accuracy,\n",
        "              'Training Time': training_time,\n",
        "              'Test Time': test_time\n",
        "          }\n",
        "      )\n",
        "  return training_stats, total_t0"
      ],
      "execution_count": 15,
      "outputs": []
    },
    {
      "cell_type": "markdown",
      "source": [
        "##Training complete visualization"
      ],
      "metadata": {
        "id": "eTX0HOHaGUJq"
      }
    },
    {
      "cell_type": "code",
      "metadata": {
        "id": "dDm9NProRB4c"
      },
      "source": [
        "def training_procedure_completion_print(training_stats, total_t0):\n",
        "  for stat in training_stats:\n",
        "    print(stat)\n",
        "\n",
        "  print(\"\\nTraining complete!\")\n",
        "\n",
        "  print(\"Total training took {:} (h:mm:ss)\".format(format_time(time.time()-total_t0)))"
      ],
      "execution_count": 16,
      "outputs": []
    },
    {
      "cell_type": "markdown",
      "source": [
        "##10_90"
      ],
      "metadata": {
        "id": "uznO9TEJ_98f"
      }
    },
    {
      "cell_type": "code",
      "source": [
        "labeled_file = \"./10_90/labeled.tsv\"\n",
        "unlabeled_file = \"./10_90/unlabeled.tsv\"\n",
        "test_filename = \"./10_90/test.tsv\""
      ],
      "metadata": {
        "id": "GWdiy94-Xuvo"
      },
      "execution_count": 17,
      "outputs": []
    },
    {
      "cell_type": "code",
      "source": [
        "labeled_examples, unlabeled_examples, test_examples = load_the_input_dataset()"
      ],
      "metadata": {
        "id": "iCOTa8n4YwN2"
      },
      "execution_count": 18,
      "outputs": []
    },
    {
      "cell_type": "code",
      "source": [
        "len(labeled_examples)"
      ],
      "metadata": {
        "colab": {
          "base_uri": "https://localhost:8080/"
        },
        "id": "zxNXQddnluA-",
        "outputId": "b74562ce-ca09-4b7b-be2d-6ccfadaed30f"
      },
      "execution_count": 19,
      "outputs": [
        {
          "output_type": "execute_result",
          "data": {
            "text/plain": [
              "1500"
            ]
          },
          "metadata": {},
          "execution_count": 19
        }
      ]
    },
    {
      "cell_type": "code",
      "source": [
        "len(unlabeled_examples)"
      ],
      "metadata": {
        "colab": {
          "base_uri": "https://localhost:8080/"
        },
        "id": "IVOC5uMomrbm",
        "outputId": "68ebb2d2-4d6d-4900-8098-48eee94667ec"
      },
      "execution_count": 20,
      "outputs": [
        {
          "output_type": "execute_result",
          "data": {
            "text/plain": [
              "13500"
            ]
          },
          "metadata": {},
          "execution_count": 20
        }
      ]
    },
    {
      "cell_type": "code",
      "source": [
        "test_dataloader, train_dataloader, train_examples = convert_input_examples_to_dataloader(label_list)"
      ],
      "metadata": {
        "id": "qaGcL4-rm1ZW"
      },
      "execution_count": 21,
      "outputs": []
    },
    {
      "cell_type": "code",
      "source": [
        "generator, discriminator = instantiate_discriminator_and_generator(transformer)"
      ],
      "metadata": {
        "id": "3xNHljrEptEh"
      },
      "execution_count": 22,
      "outputs": []
    },
    {
      "cell_type": "code",
      "source": [
        "training_stats, total_t0 = training_procedure_start(test_dataloader, train_dataloader, train_examples, generator, discriminator)"
      ],
      "metadata": {
        "colab": {
          "base_uri": "https://localhost:8080/"
        },
        "id": "hWP5yxE0p0jR",
        "outputId": "754f6c6c-a50b-40e0-94f1-187aa2cf3f33"
      },
      "execution_count": 23,
      "outputs": [
        {
          "output_type": "stream",
          "name": "stdout",
          "text": [
            "\n",
            "======== Epoch 1 / 5 ========\n",
            "Training...\n",
            "  Batch    10  of    282.    Elapsed: 0:00:06.\n",
            "  Batch    20  of    282.    Elapsed: 0:00:12.\n",
            "  Batch    30  of    282.    Elapsed: 0:00:18.\n",
            "  Batch    40  of    282.    Elapsed: 0:00:24.\n",
            "  Batch    50  of    282.    Elapsed: 0:00:30.\n",
            "  Batch    60  of    282.    Elapsed: 0:00:36.\n",
            "  Batch    70  of    282.    Elapsed: 0:00:42.\n",
            "  Batch    80  of    282.    Elapsed: 0:00:48.\n",
            "  Batch    90  of    282.    Elapsed: 0:00:53.\n",
            "  Batch   100  of    282.    Elapsed: 0:01:00.\n",
            "  Batch   110  of    282.    Elapsed: 0:01:06.\n",
            "  Batch   120  of    282.    Elapsed: 0:01:11.\n",
            "  Batch   130  of    282.    Elapsed: 0:01:17.\n",
            "  Batch   140  of    282.    Elapsed: 0:01:23.\n",
            "  Batch   150  of    282.    Elapsed: 0:01:29.\n",
            "  Batch   160  of    282.    Elapsed: 0:01:35.\n",
            "  Batch   170  of    282.    Elapsed: 0:01:41.\n",
            "  Batch   180  of    282.    Elapsed: 0:01:47.\n",
            "  Batch   190  of    282.    Elapsed: 0:01:53.\n",
            "  Batch   200  of    282.    Elapsed: 0:01:58.\n",
            "  Batch   210  of    282.    Elapsed: 0:02:04.\n",
            "  Batch   220  of    282.    Elapsed: 0:02:10.\n",
            "  Batch   230  of    282.    Elapsed: 0:02:16.\n",
            "  Batch   240  of    282.    Elapsed: 0:02:22.\n",
            "  Batch   250  of    282.    Elapsed: 0:02:28.\n",
            "  Batch   260  of    282.    Elapsed: 0:02:34.\n",
            "  Batch   270  of    282.    Elapsed: 0:02:40.\n",
            "  Batch   280  of    282.    Elapsed: 0:02:45.\n",
            "\n",
            "  Average training loss generetor: 0.669\n",
            "  Average training loss discriminator: 6.126\n",
            "  Training epcoh took: 0:02:46\n",
            "\n",
            "Running Test...\n",
            "  Accuracy: 0.007\n",
            "  Test Loss: 5.015\n",
            "  Test took: 0:00:08\n",
            "\n",
            "======== Epoch 2 / 5 ========\n",
            "Training...\n",
            "  Batch    10  of    282.    Elapsed: 0:00:06.\n",
            "  Batch    20  of    282.    Elapsed: 0:00:12.\n",
            "  Batch    30  of    282.    Elapsed: 0:00:18.\n",
            "  Batch    40  of    282.    Elapsed: 0:00:23.\n",
            "  Batch    50  of    282.    Elapsed: 0:00:29.\n",
            "  Batch    60  of    282.    Elapsed: 0:00:35.\n",
            "  Batch    70  of    282.    Elapsed: 0:00:41.\n",
            "  Batch    80  of    282.    Elapsed: 0:00:47.\n",
            "  Batch    90  of    282.    Elapsed: 0:00:53.\n",
            "  Batch   100  of    282.    Elapsed: 0:00:59.\n",
            "  Batch   110  of    282.    Elapsed: 0:01:05.\n",
            "  Batch   120  of    282.    Elapsed: 0:01:11.\n",
            "  Batch   130  of    282.    Elapsed: 0:01:16.\n",
            "  Batch   140  of    282.    Elapsed: 0:01:22.\n",
            "  Batch   150  of    282.    Elapsed: 0:01:28.\n",
            "  Batch   160  of    282.    Elapsed: 0:01:34.\n",
            "  Batch   170  of    282.    Elapsed: 0:01:40.\n",
            "  Batch   180  of    282.    Elapsed: 0:01:46.\n",
            "  Batch   190  of    282.    Elapsed: 0:01:52.\n",
            "  Batch   200  of    282.    Elapsed: 0:01:58.\n",
            "  Batch   210  of    282.    Elapsed: 0:02:04.\n",
            "  Batch   220  of    282.    Elapsed: 0:02:09.\n",
            "  Batch   230  of    282.    Elapsed: 0:02:16.\n",
            "  Batch   240  of    282.    Elapsed: 0:02:22.\n",
            "  Batch   250  of    282.    Elapsed: 0:02:28.\n",
            "  Batch   260  of    282.    Elapsed: 0:02:34.\n",
            "  Batch   270  of    282.    Elapsed: 0:02:41.\n",
            "  Batch   280  of    282.    Elapsed: 0:02:47.\n",
            "\n",
            "  Average training loss generetor: 0.720\n",
            "  Average training loss discriminator: 5.785\n",
            "  Training epcoh took: 0:02:48\n",
            "\n",
            "Running Test...\n",
            "  Accuracy: 0.007\n",
            "  Test Loss: 5.015\n",
            "  Test took: 0:00:08\n",
            "\n",
            "======== Epoch 3 / 5 ========\n",
            "Training...\n",
            "  Batch    10  of    282.    Elapsed: 0:00:07.\n",
            "  Batch    20  of    282.    Elapsed: 0:00:13.\n",
            "  Batch    30  of    282.    Elapsed: 0:00:20.\n",
            "  Batch    40  of    282.    Elapsed: 0:00:27.\n",
            "  Batch    50  of    282.    Elapsed: 0:00:33.\n",
            "  Batch    60  of    282.    Elapsed: 0:00:39.\n",
            "  Batch    70  of    282.    Elapsed: 0:00:45.\n",
            "  Batch    80  of    282.    Elapsed: 0:00:51.\n",
            "  Batch    90  of    282.    Elapsed: 0:00:57.\n",
            "  Batch   100  of    282.    Elapsed: 0:01:03.\n",
            "  Batch   110  of    282.    Elapsed: 0:01:09.\n",
            "  Batch   120  of    282.    Elapsed: 0:01:15.\n",
            "  Batch   130  of    282.    Elapsed: 0:01:20.\n",
            "  Batch   140  of    282.    Elapsed: 0:01:26.\n",
            "  Batch   150  of    282.    Elapsed: 0:01:32.\n",
            "  Batch   160  of    282.    Elapsed: 0:01:38.\n",
            "  Batch   170  of    282.    Elapsed: 0:01:44.\n",
            "  Batch   180  of    282.    Elapsed: 0:01:50.\n",
            "  Batch   190  of    282.    Elapsed: 0:01:56.\n",
            "  Batch   200  of    282.    Elapsed: 0:02:02.\n",
            "  Batch   210  of    282.    Elapsed: 0:02:08.\n",
            "  Batch   220  of    282.    Elapsed: 0:02:13.\n",
            "  Batch   230  of    282.    Elapsed: 0:02:19.\n",
            "  Batch   240  of    282.    Elapsed: 0:02:25.\n",
            "  Batch   250  of    282.    Elapsed: 0:02:31.\n",
            "  Batch   260  of    282.    Elapsed: 0:02:37.\n",
            "  Batch   270  of    282.    Elapsed: 0:02:43.\n",
            "  Batch   280  of    282.    Elapsed: 0:02:49.\n",
            "\n",
            "  Average training loss generetor: 0.715\n",
            "  Average training loss discriminator: 5.772\n",
            "  Training epcoh took: 0:02:49\n",
            "\n",
            "Running Test...\n",
            "  Accuracy: 0.007\n",
            "  Test Loss: 5.013\n",
            "  Test took: 0:00:08\n",
            "\n",
            "======== Epoch 4 / 5 ========\n",
            "Training...\n",
            "  Batch    10  of    282.    Elapsed: 0:00:06.\n",
            "  Batch    20  of    282.    Elapsed: 0:00:12.\n",
            "  Batch    30  of    282.    Elapsed: 0:00:18.\n",
            "  Batch    40  of    282.    Elapsed: 0:00:24.\n",
            "  Batch    50  of    282.    Elapsed: 0:00:29.\n",
            "  Batch    60  of    282.    Elapsed: 0:00:35.\n",
            "  Batch    70  of    282.    Elapsed: 0:00:41.\n",
            "  Batch    80  of    282.    Elapsed: 0:00:47.\n",
            "  Batch    90  of    282.    Elapsed: 0:00:53.\n",
            "  Batch   100  of    282.    Elapsed: 0:00:59.\n",
            "  Batch   110  of    282.    Elapsed: 0:01:05.\n",
            "  Batch   120  of    282.    Elapsed: 0:01:11.\n",
            "  Batch   130  of    282.    Elapsed: 0:01:17.\n",
            "  Batch   140  of    282.    Elapsed: 0:01:22.\n",
            "  Batch   150  of    282.    Elapsed: 0:01:28.\n",
            "  Batch   160  of    282.    Elapsed: 0:01:34.\n",
            "  Batch   170  of    282.    Elapsed: 0:01:40.\n",
            "  Batch   180  of    282.    Elapsed: 0:01:46.\n",
            "  Batch   190  of    282.    Elapsed: 0:01:52.\n",
            "  Batch   200  of    282.    Elapsed: 0:01:58.\n",
            "  Batch   210  of    282.    Elapsed: 0:02:04.\n",
            "  Batch   220  of    282.    Elapsed: 0:02:10.\n",
            "  Batch   230  of    282.    Elapsed: 0:02:15.\n",
            "  Batch   240  of    282.    Elapsed: 0:02:21.\n",
            "  Batch   250  of    282.    Elapsed: 0:02:27.\n",
            "  Batch   260  of    282.    Elapsed: 0:02:33.\n",
            "  Batch   270  of    282.    Elapsed: 0:02:39.\n",
            "  Batch   280  of    282.    Elapsed: 0:02:45.\n",
            "\n",
            "  Average training loss generetor: 0.712\n",
            "  Average training loss discriminator: 5.763\n",
            "  Training epcoh took: 0:02:46\n",
            "\n",
            "Running Test...\n",
            "  Accuracy: 0.007\n",
            "  Test Loss: 5.013\n",
            "  Test took: 0:00:08\n",
            "\n",
            "======== Epoch 5 / 5 ========\n",
            "Training...\n",
            "  Batch    10  of    282.    Elapsed: 0:00:06.\n",
            "  Batch    20  of    282.    Elapsed: 0:00:12.\n",
            "  Batch    30  of    282.    Elapsed: 0:00:18.\n",
            "  Batch    40  of    282.    Elapsed: 0:00:24.\n",
            "  Batch    50  of    282.    Elapsed: 0:00:29.\n",
            "  Batch    60  of    282.    Elapsed: 0:00:35.\n",
            "  Batch    70  of    282.    Elapsed: 0:00:41.\n",
            "  Batch    80  of    282.    Elapsed: 0:00:47.\n",
            "  Batch    90  of    282.    Elapsed: 0:00:53.\n",
            "  Batch   100  of    282.    Elapsed: 0:00:59.\n",
            "  Batch   110  of    282.    Elapsed: 0:01:05.\n",
            "  Batch   120  of    282.    Elapsed: 0:01:11.\n",
            "  Batch   130  of    282.    Elapsed: 0:01:16.\n",
            "  Batch   140  of    282.    Elapsed: 0:01:22.\n",
            "  Batch   150  of    282.    Elapsed: 0:01:28.\n",
            "  Batch   160  of    282.    Elapsed: 0:01:34.\n",
            "  Batch   170  of    282.    Elapsed: 0:01:40.\n",
            "  Batch   180  of    282.    Elapsed: 0:01:46.\n",
            "  Batch   190  of    282.    Elapsed: 0:01:52.\n",
            "  Batch   200  of    282.    Elapsed: 0:01:58.\n",
            "  Batch   210  of    282.    Elapsed: 0:02:04.\n",
            "  Batch   220  of    282.    Elapsed: 0:02:09.\n",
            "  Batch   230  of    282.    Elapsed: 0:02:15.\n",
            "  Batch   240  of    282.    Elapsed: 0:02:21.\n",
            "  Batch   250  of    282.    Elapsed: 0:02:27.\n",
            "  Batch   260  of    282.    Elapsed: 0:02:33.\n",
            "  Batch   270  of    282.    Elapsed: 0:02:39.\n",
            "  Batch   280  of    282.    Elapsed: 0:02:45.\n",
            "\n",
            "  Average training loss generetor: 0.709\n",
            "  Average training loss discriminator: 5.756\n",
            "  Training epcoh took: 0:02:46\n",
            "\n",
            "Running Test...\n",
            "  Accuracy: 0.007\n",
            "  Test Loss: 5.012\n",
            "  Test took: 0:00:08\n"
          ]
        }
      ]
    },
    {
      "cell_type": "code",
      "source": [
        "training_procedure_completion_print(training_stats, total_t0)"
      ],
      "metadata": {
        "colab": {
          "base_uri": "https://localhost:8080/"
        },
        "id": "Gc-ApVKKvC7E",
        "outputId": "baa79250-12d1-476d-964d-300ba35eca75"
      },
      "execution_count": 24,
      "outputs": [
        {
          "output_type": "stream",
          "name": "stdout",
          "text": [
            "{'epoch': 1, 'Training Loss generator': 0.668606553999509, 'Training Loss discriminator': 6.1263907665902, 'Valid. Loss': 5.015275478363037, 'Valid. Accur.': 0.006666666666666667, 'Training Time': '0:02:46', 'Test Time': '0:00:08'}\n",
            "{'epoch': 2, 'Training Loss generator': 0.7199858310797536, 'Training Loss discriminator': 5.785373892344482, 'Valid. Loss': 5.015170097351074, 'Valid. Accur.': 0.006666666666666667, 'Training Time': '0:02:48', 'Test Time': '0:00:08'}\n",
            "{'epoch': 3, 'Training Loss generator': 0.7150408386761415, 'Training Loss discriminator': 5.771698946648455, 'Valid. Loss': 5.013206481933594, 'Valid. Accur.': 0.006666666666666667, 'Training Time': '0:02:49', 'Test Time': '0:00:08'}\n",
            "{'epoch': 4, 'Training Loss generator': 0.7121715689381809, 'Training Loss discriminator': 5.762901324752375, 'Valid. Loss': 5.013364315032959, 'Valid. Accur.': 0.006666666666666667, 'Training Time': '0:02:46', 'Test Time': '0:00:08'}\n",
            "{'epoch': 5, 'Training Loss generator': 0.7092686798555631, 'Training Loss discriminator': 5.75588078025385, 'Valid. Loss': 5.012313365936279, 'Valid. Accur.': 0.006666666666666667, 'Training Time': '0:02:46', 'Test Time': '0:00:08'}\n",
            "\n",
            "Training complete!\n",
            "Total training took 0:16:02 (h:mm:ss)\n"
          ]
        }
      ]
    },
    {
      "cell_type": "code",
      "source": [
        "training_stats[-1]"
      ],
      "metadata": {
        "colab": {
          "base_uri": "https://localhost:8080/"
        },
        "id": "mIFKs-q8_Grs",
        "outputId": "399a04a1-03b1-4d3e-b32a-e30b54377283"
      },
      "execution_count": 25,
      "outputs": [
        {
          "output_type": "execute_result",
          "data": {
            "text/plain": [
              "{'Test Time': '0:00:08',\n",
              " 'Training Loss discriminator': 5.75588078025385,\n",
              " 'Training Loss generator': 0.7092686798555631,\n",
              " 'Training Time': '0:02:46',\n",
              " 'Valid. Accur.': 0.006666666666666667,\n",
              " 'Valid. Loss': 5.012313365936279,\n",
              " 'epoch': 5}"
            ]
          },
          "metadata": {},
          "execution_count": 25
        }
      ]
    },
    {
      "cell_type": "markdown",
      "source": [
        "##20_80"
      ],
      "metadata": {
        "id": "x2sNzMzfC0el"
      }
    },
    {
      "cell_type": "code",
      "source": [
        "labeled_file = \"./20_80/labeled.tsv\"\n",
        "unlabeled_file = \"./20_80/unlabeled.tsv\"\n",
        "test_filename = \"./20_80/test.tsv\""
      ],
      "metadata": {
        "id": "KJbq2AEbDGAw"
      },
      "execution_count": 26,
      "outputs": []
    },
    {
      "cell_type": "code",
      "source": [
        "labeled_examples, unlabeled_examples, test_examples = load_the_input_dataset()"
      ],
      "metadata": {
        "id": "oER6_EOIDGAx"
      },
      "execution_count": 27,
      "outputs": []
    },
    {
      "cell_type": "code",
      "source": [
        "len(labeled_examples)"
      ],
      "metadata": {
        "colab": {
          "base_uri": "https://localhost:8080/"
        },
        "outputId": "67a246ae-c713-4cbc-b428-7780d148ffe5",
        "id": "qqlf7W1UDGAy"
      },
      "execution_count": 28,
      "outputs": [
        {
          "output_type": "execute_result",
          "data": {
            "text/plain": [
              "3000"
            ]
          },
          "metadata": {},
          "execution_count": 28
        }
      ]
    },
    {
      "cell_type": "code",
      "source": [
        "len(unlabeled_examples)"
      ],
      "metadata": {
        "colab": {
          "base_uri": "https://localhost:8080/"
        },
        "outputId": "8fcb3c53-1b0e-43d1-def8-eab401538433",
        "id": "5AEVWhCwDGAy"
      },
      "execution_count": 29,
      "outputs": [
        {
          "output_type": "execute_result",
          "data": {
            "text/plain": [
              "12000"
            ]
          },
          "metadata": {},
          "execution_count": 29
        }
      ]
    },
    {
      "cell_type": "code",
      "source": [
        "len(test_examples)"
      ],
      "metadata": {
        "colab": {
          "base_uri": "https://localhost:8080/"
        },
        "id": "PfhqjSP3E6fO",
        "outputId": "8f00eeba-c54c-4e73-80dc-93c6ba462185"
      },
      "execution_count": 30,
      "outputs": [
        {
          "output_type": "execute_result",
          "data": {
            "text/plain": [
              "4500"
            ]
          },
          "metadata": {},
          "execution_count": 30
        }
      ]
    },
    {
      "cell_type": "code",
      "source": [
        "test_dataloader, train_dataloader, train_examples = convert_input_examples_to_dataloader(label_list)"
      ],
      "metadata": {
        "id": "BnoHO_eADGAz"
      },
      "execution_count": 31,
      "outputs": []
    },
    {
      "cell_type": "code",
      "source": [
        "generator, discriminator = instantiate_discriminator_and_generator(transformer)"
      ],
      "metadata": {
        "id": "f5TJtSqPDGAz"
      },
      "execution_count": 32,
      "outputs": []
    },
    {
      "cell_type": "code",
      "source": [
        "training_stats_20, total_t0 = training_procedure_start(test_dataloader, train_dataloader, train_examples, generator, discriminator)"
      ],
      "metadata": {
        "colab": {
          "base_uri": "https://localhost:8080/"
        },
        "outputId": "33ee95b5-d1be-4127-9ca6-c730aa7fb36f",
        "id": "NxrpXFcwDGAz"
      },
      "execution_count": 33,
      "outputs": [
        {
          "output_type": "stream",
          "name": "stdout",
          "text": [
            "\n",
            "======== Epoch 1 / 5 ========\n",
            "Training...\n",
            "  Batch    10  of    282.    Elapsed: 0:00:06.\n",
            "  Batch    20  of    282.    Elapsed: 0:00:12.\n",
            "  Batch    30  of    282.    Elapsed: 0:00:18.\n",
            "  Batch    40  of    282.    Elapsed: 0:00:24.\n",
            "  Batch    50  of    282.    Elapsed: 0:00:30.\n",
            "  Batch    60  of    282.    Elapsed: 0:00:35.\n",
            "  Batch    70  of    282.    Elapsed: 0:00:41.\n",
            "  Batch    80  of    282.    Elapsed: 0:00:47.\n",
            "  Batch    90  of    282.    Elapsed: 0:00:53.\n",
            "  Batch   100  of    282.    Elapsed: 0:00:59.\n",
            "  Batch   110  of    282.    Elapsed: 0:01:05.\n",
            "  Batch   120  of    282.    Elapsed: 0:01:11.\n",
            "  Batch   130  of    282.    Elapsed: 0:01:17.\n",
            "  Batch   140  of    282.    Elapsed: 0:01:23.\n",
            "  Batch   150  of    282.    Elapsed: 0:01:28.\n",
            "  Batch   160  of    282.    Elapsed: 0:01:34.\n",
            "  Batch   170  of    282.    Elapsed: 0:01:40.\n",
            "  Batch   180  of    282.    Elapsed: 0:01:46.\n",
            "  Batch   190  of    282.    Elapsed: 0:01:52.\n",
            "  Batch   200  of    282.    Elapsed: 0:01:58.\n",
            "  Batch   210  of    282.    Elapsed: 0:02:04.\n",
            "  Batch   220  of    282.    Elapsed: 0:02:10.\n",
            "  Batch   230  of    282.    Elapsed: 0:02:16.\n",
            "  Batch   240  of    282.    Elapsed: 0:02:21.\n",
            "  Batch   250  of    282.    Elapsed: 0:02:27.\n",
            "  Batch   260  of    282.    Elapsed: 0:02:33.\n",
            "  Batch   270  of    282.    Elapsed: 0:02:39.\n",
            "  Batch   280  of    282.    Elapsed: 0:02:45.\n",
            "\n",
            "  Average training loss generetor: 0.663\n",
            "  Average training loss discriminator: 6.139\n",
            "  Training epcoh took: 0:02:46\n",
            "\n",
            "Running Test...\n",
            "  Accuracy: 0.007\n",
            "  Test Loss: 5.016\n",
            "  Test took: 0:00:08\n",
            "\n",
            "======== Epoch 2 / 5 ========\n",
            "Training...\n",
            "  Batch    10  of    282.    Elapsed: 0:00:06.\n",
            "  Batch    20  of    282.    Elapsed: 0:00:12.\n",
            "  Batch    30  of    282.    Elapsed: 0:00:18.\n",
            "  Batch    40  of    282.    Elapsed: 0:00:24.\n",
            "  Batch    50  of    282.    Elapsed: 0:00:30.\n",
            "  Batch    60  of    282.    Elapsed: 0:00:35.\n",
            "  Batch    70  of    282.    Elapsed: 0:00:41.\n",
            "  Batch    80  of    282.    Elapsed: 0:00:47.\n",
            "  Batch    90  of    282.    Elapsed: 0:00:53.\n",
            "  Batch   100  of    282.    Elapsed: 0:00:59.\n",
            "  Batch   110  of    282.    Elapsed: 0:01:05.\n",
            "  Batch   120  of    282.    Elapsed: 0:01:11.\n",
            "  Batch   130  of    282.    Elapsed: 0:01:17.\n",
            "  Batch   140  of    282.    Elapsed: 0:01:22.\n",
            "  Batch   150  of    282.    Elapsed: 0:01:28.\n",
            "  Batch   160  of    282.    Elapsed: 0:01:34.\n",
            "  Batch   170  of    282.    Elapsed: 0:01:40.\n",
            "  Batch   180  of    282.    Elapsed: 0:01:46.\n",
            "  Batch   190  of    282.    Elapsed: 0:01:52.\n",
            "  Batch   200  of    282.    Elapsed: 0:01:58.\n",
            "  Batch   210  of    282.    Elapsed: 0:02:04.\n",
            "  Batch   220  of    282.    Elapsed: 0:02:09.\n",
            "  Batch   230  of    282.    Elapsed: 0:02:15.\n",
            "  Batch   240  of    282.    Elapsed: 0:02:21.\n",
            "  Batch   250  of    282.    Elapsed: 0:02:27.\n",
            "  Batch   260  of    282.    Elapsed: 0:02:33.\n",
            "  Batch   270  of    282.    Elapsed: 0:02:39.\n",
            "  Batch   280  of    282.    Elapsed: 0:02:45.\n",
            "\n",
            "  Average training loss generetor: 0.719\n",
            "  Average training loss discriminator: 5.784\n",
            "  Training epcoh took: 0:02:46\n",
            "\n",
            "Running Test...\n",
            "  Accuracy: 0.007\n",
            "  Test Loss: 5.014\n",
            "  Test took: 0:00:08\n",
            "\n",
            "======== Epoch 3 / 5 ========\n",
            "Training...\n",
            "  Batch    10  of    282.    Elapsed: 0:00:06.\n",
            "  Batch    20  of    282.    Elapsed: 0:00:12.\n",
            "  Batch    30  of    282.    Elapsed: 0:00:18.\n",
            "  Batch    40  of    282.    Elapsed: 0:00:24.\n",
            "  Batch    50  of    282.    Elapsed: 0:00:29.\n",
            "  Batch    60  of    282.    Elapsed: 0:00:35.\n",
            "  Batch    70  of    282.    Elapsed: 0:00:41.\n",
            "  Batch    80  of    282.    Elapsed: 0:00:47.\n",
            "  Batch    90  of    282.    Elapsed: 0:00:53.\n",
            "  Batch   100  of    282.    Elapsed: 0:00:59.\n",
            "  Batch   110  of    282.    Elapsed: 0:01:05.\n",
            "  Batch   120  of    282.    Elapsed: 0:01:11.\n",
            "  Batch   130  of    282.    Elapsed: 0:01:17.\n",
            "  Batch   140  of    282.    Elapsed: 0:01:22.\n",
            "  Batch   150  of    282.    Elapsed: 0:01:28.\n",
            "  Batch   160  of    282.    Elapsed: 0:01:34.\n",
            "  Batch   170  of    282.    Elapsed: 0:01:40.\n",
            "  Batch   180  of    282.    Elapsed: 0:01:46.\n",
            "  Batch   190  of    282.    Elapsed: 0:01:52.\n",
            "  Batch   200  of    282.    Elapsed: 0:01:58.\n",
            "  Batch   210  of    282.    Elapsed: 0:02:04.\n",
            "  Batch   220  of    282.    Elapsed: 0:02:09.\n",
            "  Batch   230  of    282.    Elapsed: 0:02:15.\n",
            "  Batch   240  of    282.    Elapsed: 0:02:21.\n",
            "  Batch   250  of    282.    Elapsed: 0:02:27.\n",
            "  Batch   260  of    282.    Elapsed: 0:02:33.\n",
            "  Batch   270  of    282.    Elapsed: 0:02:39.\n",
            "  Batch   280  of    282.    Elapsed: 0:02:45.\n",
            "\n",
            "  Average training loss generetor: 0.714\n",
            "  Average training loss discriminator: 5.770\n",
            "  Training epcoh took: 0:02:45\n",
            "\n",
            "Running Test...\n",
            "  Accuracy: 0.007\n",
            "  Test Loss: 5.014\n",
            "  Test took: 0:00:08\n",
            "\n",
            "======== Epoch 4 / 5 ========\n",
            "Training...\n",
            "  Batch    10  of    282.    Elapsed: 0:00:06.\n",
            "  Batch    20  of    282.    Elapsed: 0:00:12.\n",
            "  Batch    30  of    282.    Elapsed: 0:00:18.\n",
            "  Batch    40  of    282.    Elapsed: 0:00:24.\n",
            "  Batch    50  of    282.    Elapsed: 0:00:29.\n",
            "  Batch    60  of    282.    Elapsed: 0:00:35.\n",
            "  Batch    70  of    282.    Elapsed: 0:00:41.\n",
            "  Batch    80  of    282.    Elapsed: 0:00:47.\n",
            "  Batch    90  of    282.    Elapsed: 0:00:53.\n",
            "  Batch   100  of    282.    Elapsed: 0:00:59.\n",
            "  Batch   110  of    282.    Elapsed: 0:01:05.\n",
            "  Batch   120  of    282.    Elapsed: 0:01:11.\n",
            "  Batch   130  of    282.    Elapsed: 0:01:16.\n",
            "  Batch   140  of    282.    Elapsed: 0:01:22.\n",
            "  Batch   150  of    282.    Elapsed: 0:01:28.\n",
            "  Batch   160  of    282.    Elapsed: 0:01:34.\n",
            "  Batch   170  of    282.    Elapsed: 0:01:40.\n",
            "  Batch   180  of    282.    Elapsed: 0:01:46.\n",
            "  Batch   190  of    282.    Elapsed: 0:01:52.\n",
            "  Batch   200  of    282.    Elapsed: 0:01:58.\n",
            "  Batch   210  of    282.    Elapsed: 0:02:03.\n",
            "  Batch   220  of    282.    Elapsed: 0:02:09.\n",
            "  Batch   230  of    282.    Elapsed: 0:02:15.\n",
            "  Batch   240  of    282.    Elapsed: 0:02:21.\n",
            "  Batch   250  of    282.    Elapsed: 0:02:27.\n",
            "  Batch   260  of    282.    Elapsed: 0:02:33.\n",
            "  Batch   270  of    282.    Elapsed: 0:02:39.\n",
            "  Batch   280  of    282.    Elapsed: 0:02:45.\n",
            "\n",
            "  Average training loss generetor: 0.711\n",
            "  Average training loss discriminator: 5.762\n",
            "  Training epcoh took: 0:02:45\n",
            "\n",
            "Running Test...\n",
            "  Accuracy: 0.007\n",
            "  Test Loss: 5.013\n",
            "  Test took: 0:00:08\n",
            "\n",
            "======== Epoch 5 / 5 ========\n",
            "Training...\n",
            "  Batch    10  of    282.    Elapsed: 0:00:06.\n",
            "  Batch    20  of    282.    Elapsed: 0:00:12.\n",
            "  Batch    30  of    282.    Elapsed: 0:00:18.\n",
            "  Batch    40  of    282.    Elapsed: 0:00:24.\n",
            "  Batch    50  of    282.    Elapsed: 0:00:29.\n",
            "  Batch    60  of    282.    Elapsed: 0:00:35.\n",
            "  Batch    70  of    282.    Elapsed: 0:00:41.\n",
            "  Batch    80  of    282.    Elapsed: 0:00:47.\n",
            "  Batch    90  of    282.    Elapsed: 0:00:53.\n",
            "  Batch   100  of    282.    Elapsed: 0:00:59.\n",
            "  Batch   110  of    282.    Elapsed: 0:01:05.\n",
            "  Batch   120  of    282.    Elapsed: 0:01:11.\n",
            "  Batch   130  of    282.    Elapsed: 0:01:16.\n",
            "  Batch   140  of    282.    Elapsed: 0:01:22.\n",
            "  Batch   150  of    282.    Elapsed: 0:01:28.\n",
            "  Batch   160  of    282.    Elapsed: 0:01:34.\n",
            "  Batch   170  of    282.    Elapsed: 0:01:40.\n",
            "  Batch   180  of    282.    Elapsed: 0:01:46.\n",
            "  Batch   190  of    282.    Elapsed: 0:01:52.\n",
            "  Batch   200  of    282.    Elapsed: 0:01:58.\n",
            "  Batch   210  of    282.    Elapsed: 0:02:03.\n",
            "  Batch   220  of    282.    Elapsed: 0:02:09.\n",
            "  Batch   230  of    282.    Elapsed: 0:02:15.\n",
            "  Batch   240  of    282.    Elapsed: 0:02:21.\n",
            "  Batch   250  of    282.    Elapsed: 0:02:27.\n",
            "  Batch   260  of    282.    Elapsed: 0:02:33.\n",
            "  Batch   270  of    282.    Elapsed: 0:02:39.\n",
            "  Batch   280  of    282.    Elapsed: 0:02:45.\n",
            "\n",
            "  Average training loss generetor: 0.709\n",
            "  Average training loss discriminator: 5.753\n",
            "  Training epcoh took: 0:02:45\n",
            "\n",
            "Running Test...\n",
            "  Accuracy: 0.007\n",
            "  Test Loss: 5.014\n",
            "  Test took: 0:00:08\n"
          ]
        }
      ]
    },
    {
      "cell_type": "code",
      "source": [
        "training_procedure_completion_print(training_stats_20, total_t0)"
      ],
      "metadata": {
        "colab": {
          "base_uri": "https://localhost:8080/"
        },
        "outputId": "96ce7a9f-6f55-4bd5-c2bb-c9e874fbdb1c",
        "id": "v326QeDHDGA0"
      },
      "execution_count": 34,
      "outputs": [
        {
          "output_type": "stream",
          "name": "stdout",
          "text": [
            "{'epoch': 1, 'Training Loss generator': 0.6634523940259419, 'Training Loss discriminator': 6.13903564933344, 'Valid. Loss': 5.01606559753418, 'Valid. Accur.': 0.006666666666666667, 'Training Time': '0:02:46', 'Test Time': '0:00:08'}\n",
            "{'epoch': 2, 'Training Loss generator': 0.7193672929672484, 'Training Loss discriminator': 5.7844923726210355, 'Valid. Loss': 5.014435768127441, 'Valid. Accur.': 0.006666666666666667, 'Training Time': '0:02:46', 'Test Time': '0:00:08'}\n",
            "{'epoch': 3, 'Training Loss generator': 0.7138601239268662, 'Training Loss discriminator': 5.770287799497023, 'Valid. Loss': 5.013609886169434, 'Valid. Accur.': 0.006666666666666667, 'Training Time': '0:02:45', 'Test Time': '0:00:08'}\n",
            "{'epoch': 4, 'Training Loss generator': 0.711145558467148, 'Training Loss discriminator': 5.7620893674539335, 'Valid. Loss': 5.01298713684082, 'Valid. Accur.': 0.006666666666666667, 'Training Time': '0:02:45', 'Test Time': '0:00:08'}\n",
            "{'epoch': 5, 'Training Loss generator': 0.709072084291607, 'Training Loss discriminator': 5.753393864800744, 'Valid. Loss': 5.013557434082031, 'Valid. Accur.': 0.006666666666666667, 'Training Time': '0:02:45', 'Test Time': '0:00:08'}\n",
            "\n",
            "Training complete!\n",
            "Total training took 1:07:39 (h:mm:ss)\n"
          ]
        }
      ]
    },
    {
      "cell_type": "code",
      "source": [
        "training_stats_20[-1]"
      ],
      "metadata": {
        "colab": {
          "base_uri": "https://localhost:8080/"
        },
        "outputId": "245097f8-4e6d-4821-80e8-f0f9774acc71",
        "id": "P4GHkkJBDGA0"
      },
      "execution_count": 35,
      "outputs": [
        {
          "output_type": "execute_result",
          "data": {
            "text/plain": [
              "{'Test Time': '0:00:08',\n",
              " 'Training Loss discriminator': 5.753393864800744,\n",
              " 'Training Loss generator': 0.709072084291607,\n",
              " 'Training Time': '0:02:45',\n",
              " 'Valid. Accur.': 0.006666666666666667,\n",
              " 'Valid. Loss': 5.013557434082031,\n",
              " 'epoch': 5}"
            ]
          },
          "metadata": {},
          "execution_count": 35
        }
      ]
    },
    {
      "cell_type": "markdown",
      "source": [
        "##30_70"
      ],
      "metadata": {
        "id": "Sg2aYWrfGnUK"
      }
    },
    {
      "cell_type": "code",
      "source": [
        "labeled_file = \"./30_70/labeled.tsv\"\n",
        "unlabeled_file = \"./30_70/unlabeled.tsv\"\n",
        "test_filename = \"./30_70/test.tsv\""
      ],
      "metadata": {
        "id": "C17pjqXBGnUL"
      },
      "execution_count": 36,
      "outputs": []
    },
    {
      "cell_type": "code",
      "source": [
        "labeled_examples, unlabeled_examples, test_examples = load_the_input_dataset()"
      ],
      "metadata": {
        "id": "HyuAIEhtGnUL"
      },
      "execution_count": 37,
      "outputs": []
    },
    {
      "cell_type": "code",
      "source": [
        "len(labeled_examples)"
      ],
      "metadata": {
        "colab": {
          "base_uri": "https://localhost:8080/"
        },
        "outputId": "cfa269db-e1fc-4ac5-b384-729a58924bf0",
        "id": "Sy0n5TidGnUL"
      },
      "execution_count": 38,
      "outputs": [
        {
          "output_type": "execute_result",
          "data": {
            "text/plain": [
              "4500"
            ]
          },
          "metadata": {},
          "execution_count": 38
        }
      ]
    },
    {
      "cell_type": "code",
      "source": [
        "len(unlabeled_examples)"
      ],
      "metadata": {
        "colab": {
          "base_uri": "https://localhost:8080/"
        },
        "outputId": "a3cdc9d5-4e67-4197-c595-baffc70ad6d1",
        "id": "u8IPPAY9GnUM"
      },
      "execution_count": 39,
      "outputs": [
        {
          "output_type": "execute_result",
          "data": {
            "text/plain": [
              "10500"
            ]
          },
          "metadata": {},
          "execution_count": 39
        }
      ]
    },
    {
      "cell_type": "code",
      "source": [
        "len(test_examples)"
      ],
      "metadata": {
        "colab": {
          "base_uri": "https://localhost:8080/"
        },
        "outputId": "56abd424-dae3-4a62-9478-213cb4bd5497",
        "id": "s615E3FgGnUM"
      },
      "execution_count": 40,
      "outputs": [
        {
          "output_type": "execute_result",
          "data": {
            "text/plain": [
              "4500"
            ]
          },
          "metadata": {},
          "execution_count": 40
        }
      ]
    },
    {
      "cell_type": "code",
      "source": [
        "test_dataloader, train_dataloader, train_examples = convert_input_examples_to_dataloader(label_list)"
      ],
      "metadata": {
        "id": "H76yRdwSGnUM"
      },
      "execution_count": 41,
      "outputs": []
    },
    {
      "cell_type": "code",
      "source": [
        "generator, discriminator = instantiate_discriminator_and_generator(transformer)"
      ],
      "metadata": {
        "id": "LYAA4At_GnUM"
      },
      "execution_count": 42,
      "outputs": []
    },
    {
      "cell_type": "code",
      "source": [
        "training_stats_30, total_t0 = training_procedure_start(test_dataloader, train_dataloader, train_examples, generator, discriminator)"
      ],
      "metadata": {
        "colab": {
          "base_uri": "https://localhost:8080/"
        },
        "outputId": "c2619b9b-7f41-4ff2-a722-0c808f752b1f",
        "id": "wje7fHObGnUM"
      },
      "execution_count": 43,
      "outputs": [
        {
          "output_type": "stream",
          "name": "stdout",
          "text": [
            "\n",
            "======== Epoch 1 / 5 ========\n",
            "Training...\n",
            "  Batch    10  of    235.    Elapsed: 0:00:06.\n",
            "  Batch    20  of    235.    Elapsed: 0:00:12.\n",
            "  Batch    30  of    235.    Elapsed: 0:00:18.\n",
            "  Batch    40  of    235.    Elapsed: 0:00:24.\n",
            "  Batch    50  of    235.    Elapsed: 0:00:30.\n",
            "  Batch    60  of    235.    Elapsed: 0:00:35.\n",
            "  Batch    70  of    235.    Elapsed: 0:00:41.\n",
            "  Batch    80  of    235.    Elapsed: 0:00:47.\n",
            "  Batch    90  of    235.    Elapsed: 0:00:53.\n",
            "  Batch   100  of    235.    Elapsed: 0:00:59.\n",
            "  Batch   110  of    235.    Elapsed: 0:01:05.\n",
            "  Batch   120  of    235.    Elapsed: 0:01:11.\n",
            "  Batch   130  of    235.    Elapsed: 0:01:17.\n",
            "  Batch   140  of    235.    Elapsed: 0:01:23.\n",
            "  Batch   150  of    235.    Elapsed: 0:01:28.\n",
            "  Batch   160  of    235.    Elapsed: 0:01:34.\n",
            "  Batch   170  of    235.    Elapsed: 0:01:40.\n",
            "  Batch   180  of    235.    Elapsed: 0:01:46.\n",
            "  Batch   190  of    235.    Elapsed: 0:01:52.\n",
            "  Batch   200  of    235.    Elapsed: 0:01:58.\n",
            "  Batch   210  of    235.    Elapsed: 0:02:04.\n",
            "  Batch   220  of    235.    Elapsed: 0:02:10.\n",
            "  Batch   230  of    235.    Elapsed: 0:02:16.\n",
            "\n",
            "  Average training loss generetor: 0.649\n",
            "  Average training loss discriminator: 6.245\n",
            "  Training epcoh took: 0:02:18\n",
            "\n",
            "Running Test...\n",
            "  Accuracy: 0.007\n",
            "  Test Loss: 5.016\n",
            "  Test took: 0:00:08\n",
            "\n",
            "======== Epoch 2 / 5 ========\n",
            "Training...\n",
            "  Batch    10  of    235.    Elapsed: 0:00:06.\n",
            "  Batch    20  of    235.    Elapsed: 0:00:12.\n",
            "  Batch    30  of    235.    Elapsed: 0:00:18.\n",
            "  Batch    40  of    235.    Elapsed: 0:00:24.\n",
            "  Batch    50  of    235.    Elapsed: 0:00:29.\n",
            "  Batch    60  of    235.    Elapsed: 0:00:35.\n",
            "  Batch    70  of    235.    Elapsed: 0:00:41.\n",
            "  Batch    80  of    235.    Elapsed: 0:00:47.\n",
            "  Batch    90  of    235.    Elapsed: 0:00:53.\n",
            "  Batch   100  of    235.    Elapsed: 0:00:59.\n",
            "  Batch   110  of    235.    Elapsed: 0:01:05.\n",
            "  Batch   120  of    235.    Elapsed: 0:01:11.\n",
            "  Batch   130  of    235.    Elapsed: 0:01:17.\n",
            "  Batch   140  of    235.    Elapsed: 0:01:22.\n",
            "  Batch   150  of    235.    Elapsed: 0:01:28.\n",
            "  Batch   160  of    235.    Elapsed: 0:01:34.\n",
            "  Batch   170  of    235.    Elapsed: 0:01:40.\n",
            "  Batch   180  of    235.    Elapsed: 0:01:46.\n",
            "  Batch   190  of    235.    Elapsed: 0:01:52.\n",
            "  Batch   200  of    235.    Elapsed: 0:01:58.\n",
            "  Batch   210  of    235.    Elapsed: 0:02:04.\n",
            "  Batch   220  of    235.    Elapsed: 0:02:10.\n",
            "  Batch   230  of    235.    Elapsed: 0:02:15.\n",
            "\n",
            "  Average training loss generetor: 0.720\n",
            "  Average training loss discriminator: 5.790\n",
            "  Training epcoh took: 0:02:18\n",
            "\n",
            "Running Test...\n",
            "  Accuracy: 0.007\n",
            "  Test Loss: 5.014\n",
            "  Test took: 0:00:08\n",
            "\n",
            "======== Epoch 3 / 5 ========\n",
            "Training...\n",
            "  Batch    10  of    235.    Elapsed: 0:00:06.\n",
            "  Batch    20  of    235.    Elapsed: 0:00:12.\n",
            "  Batch    30  of    235.    Elapsed: 0:00:18.\n",
            "  Batch    40  of    235.    Elapsed: 0:00:24.\n",
            "  Batch    50  of    235.    Elapsed: 0:00:29.\n",
            "  Batch    60  of    235.    Elapsed: 0:00:35.\n",
            "  Batch    70  of    235.    Elapsed: 0:00:41.\n",
            "  Batch    80  of    235.    Elapsed: 0:00:47.\n",
            "  Batch    90  of    235.    Elapsed: 0:00:53.\n",
            "  Batch   100  of    235.    Elapsed: 0:00:59.\n",
            "  Batch   110  of    235.    Elapsed: 0:01:05.\n",
            "  Batch   120  of    235.    Elapsed: 0:01:11.\n",
            "  Batch   130  of    235.    Elapsed: 0:01:16.\n",
            "  Batch   140  of    235.    Elapsed: 0:01:22.\n",
            "  Batch   150  of    235.    Elapsed: 0:01:28.\n",
            "  Batch   160  of    235.    Elapsed: 0:01:34.\n",
            "  Batch   170  of    235.    Elapsed: 0:01:40.\n",
            "  Batch   180  of    235.    Elapsed: 0:01:46.\n",
            "  Batch   190  of    235.    Elapsed: 0:01:52.\n",
            "  Batch   200  of    235.    Elapsed: 0:01:58.\n",
            "  Batch   210  of    235.    Elapsed: 0:02:04.\n",
            "  Batch   220  of    235.    Elapsed: 0:02:09.\n",
            "  Batch   230  of    235.    Elapsed: 0:02:15.\n",
            "\n",
            "  Average training loss generetor: 0.716\n",
            "  Average training loss discriminator: 5.778\n",
            "  Training epcoh took: 0:02:18\n",
            "\n",
            "Running Test...\n",
            "  Accuracy: 0.007\n",
            "  Test Loss: 5.013\n",
            "  Test took: 0:00:08\n",
            "\n",
            "======== Epoch 4 / 5 ========\n",
            "Training...\n",
            "  Batch    10  of    235.    Elapsed: 0:00:06.\n",
            "  Batch    20  of    235.    Elapsed: 0:00:12.\n",
            "  Batch    30  of    235.    Elapsed: 0:00:18.\n",
            "  Batch    40  of    235.    Elapsed: 0:00:24.\n",
            "  Batch    50  of    235.    Elapsed: 0:00:29.\n",
            "  Batch    60  of    235.    Elapsed: 0:00:35.\n",
            "  Batch    70  of    235.    Elapsed: 0:00:41.\n",
            "  Batch    80  of    235.    Elapsed: 0:00:47.\n",
            "  Batch    90  of    235.    Elapsed: 0:00:53.\n",
            "  Batch   100  of    235.    Elapsed: 0:00:59.\n",
            "  Batch   110  of    235.    Elapsed: 0:01:05.\n",
            "  Batch   120  of    235.    Elapsed: 0:01:11.\n",
            "  Batch   130  of    235.    Elapsed: 0:01:17.\n",
            "  Batch   140  of    235.    Elapsed: 0:01:22.\n",
            "  Batch   150  of    235.    Elapsed: 0:01:28.\n",
            "  Batch   160  of    235.    Elapsed: 0:01:34.\n",
            "  Batch   170  of    235.    Elapsed: 0:01:40.\n",
            "  Batch   180  of    235.    Elapsed: 0:01:46.\n",
            "  Batch   190  of    235.    Elapsed: 0:01:52.\n",
            "  Batch   200  of    235.    Elapsed: 0:01:58.\n",
            "  Batch   210  of    235.    Elapsed: 0:02:04.\n",
            "  Batch   220  of    235.    Elapsed: 0:02:09.\n",
            "  Batch   230  of    235.    Elapsed: 0:02:15.\n",
            "\n",
            "  Average training loss generetor: 0.713\n",
            "  Average training loss discriminator: 5.767\n",
            "  Training epcoh took: 0:02:18\n",
            "\n",
            "Running Test...\n",
            "  Accuracy: 0.007\n",
            "  Test Loss: 5.013\n",
            "  Test took: 0:00:08\n",
            "\n",
            "======== Epoch 5 / 5 ========\n",
            "Training...\n",
            "  Batch    10  of    235.    Elapsed: 0:00:06.\n",
            "  Batch    20  of    235.    Elapsed: 0:00:12.\n",
            "  Batch    30  of    235.    Elapsed: 0:00:18.\n",
            "  Batch    40  of    235.    Elapsed: 0:00:24.\n",
            "  Batch    50  of    235.    Elapsed: 0:00:29.\n",
            "  Batch    60  of    235.    Elapsed: 0:00:35.\n",
            "  Batch    70  of    235.    Elapsed: 0:00:41.\n",
            "  Batch    80  of    235.    Elapsed: 0:00:47.\n",
            "  Batch    90  of    235.    Elapsed: 0:00:53.\n",
            "  Batch   100  of    235.    Elapsed: 0:00:59.\n",
            "  Batch   110  of    235.    Elapsed: 0:01:05.\n",
            "  Batch   120  of    235.    Elapsed: 0:01:11.\n",
            "  Batch   130  of    235.    Elapsed: 0:01:17.\n",
            "  Batch   140  of    235.    Elapsed: 0:01:22.\n",
            "  Batch   150  of    235.    Elapsed: 0:01:28.\n",
            "  Batch   160  of    235.    Elapsed: 0:01:34.\n",
            "  Batch   170  of    235.    Elapsed: 0:01:40.\n",
            "  Batch   180  of    235.    Elapsed: 0:01:46.\n",
            "  Batch   190  of    235.    Elapsed: 0:01:52.\n",
            "  Batch   200  of    235.    Elapsed: 0:01:58.\n",
            "  Batch   210  of    235.    Elapsed: 0:02:04.\n",
            "  Batch   220  of    235.    Elapsed: 0:02:10.\n",
            "  Batch   230  of    235.    Elapsed: 0:02:15.\n",
            "\n",
            "  Average training loss generetor: 0.711\n",
            "  Average training loss discriminator: 5.760\n",
            "  Training epcoh took: 0:02:18\n",
            "\n",
            "Running Test...\n",
            "  Accuracy: 0.007\n",
            "  Test Loss: 5.013\n",
            "  Test took: 0:00:08\n"
          ]
        }
      ]
    },
    {
      "cell_type": "code",
      "source": [
        "training_procedure_completion_print(training_stats_30, total_t0)"
      ],
      "metadata": {
        "colab": {
          "base_uri": "https://localhost:8080/"
        },
        "outputId": "be42da4e-5a30-4edd-c4c1-ab5090d339c2",
        "id": "P7ZbeHuaGnUM"
      },
      "execution_count": 44,
      "outputs": [
        {
          "output_type": "stream",
          "name": "stdout",
          "text": [
            "{'epoch': 1, 'Training Loss generator': 0.6493643844619076, 'Training Loss discriminator': 6.2450631973591255, 'Valid. Loss': 5.015645980834961, 'Valid. Accur.': 0.006666666666666667, 'Training Time': '0:02:18', 'Test Time': '0:00:08'}\n",
            "{'epoch': 2, 'Training Loss generator': 0.7201208355578971, 'Training Loss discriminator': 5.7901914413939135, 'Valid. Loss': 5.014273166656494, 'Valid. Accur.': 0.006666666666666667, 'Training Time': '0:02:18', 'Test Time': '0:00:08'}\n",
            "{'epoch': 3, 'Training Loss generator': 0.7158291126819367, 'Training Loss discriminator': 5.778393648025838, 'Valid. Loss': 5.013179302215576, 'Valid. Accur.': 0.006666666666666667, 'Training Time': '0:02:18', 'Test Time': '0:00:08'}\n",
            "{'epoch': 4, 'Training Loss generator': 0.7132966815157139, 'Training Loss discriminator': 5.767291604711654, 'Valid. Loss': 5.0131330490112305, 'Valid. Accur.': 0.006666666666666667, 'Training Time': '0:02:18', 'Test Time': '0:00:08'}\n",
            "{'epoch': 5, 'Training Loss generator': 0.7108607180575107, 'Training Loss discriminator': 5.7597350100253495, 'Valid. Loss': 5.012820243835449, 'Valid. Accur.': 0.006666666666666667, 'Training Time': '0:02:18', 'Test Time': '0:00:08'}\n",
            "\n",
            "Training complete!\n",
            "Total training took 0:17:17 (h:mm:ss)\n"
          ]
        }
      ]
    },
    {
      "cell_type": "code",
      "source": [
        "training_stats_30[-1]"
      ],
      "metadata": {
        "colab": {
          "base_uri": "https://localhost:8080/"
        },
        "outputId": "743da280-0dae-45bf-adec-47114d8b6784",
        "id": "85ctEpKdGnUN"
      },
      "execution_count": 45,
      "outputs": [
        {
          "output_type": "execute_result",
          "data": {
            "text/plain": [
              "{'Test Time': '0:00:08',\n",
              " 'Training Loss discriminator': 5.7597350100253495,\n",
              " 'Training Loss generator': 0.7108607180575107,\n",
              " 'Training Time': '0:02:18',\n",
              " 'Valid. Accur.': 0.006666666666666667,\n",
              " 'Valid. Loss': 5.012820243835449,\n",
              " 'epoch': 5}"
            ]
          },
          "metadata": {},
          "execution_count": 45
        }
      ]
    },
    {
      "cell_type": "markdown",
      "source": [
        "##40_60"
      ],
      "metadata": {
        "id": "PHN-rjWRG5BL"
      }
    },
    {
      "cell_type": "code",
      "source": [
        "labeled_file = \"./40_60/labeled.tsv\"\n",
        "unlabeled_file = \"./40_60/unlabeled.tsv\"\n",
        "test_filename = \"./40_60/test.tsv\""
      ],
      "metadata": {
        "id": "SI8CXuC_G5BL"
      },
      "execution_count": 46,
      "outputs": []
    },
    {
      "cell_type": "code",
      "source": [
        "labeled_examples, unlabeled_examples, test_examples = load_the_input_dataset()"
      ],
      "metadata": {
        "id": "3bJndoWQG5BM"
      },
      "execution_count": 47,
      "outputs": []
    },
    {
      "cell_type": "code",
      "source": [
        "len(labeled_examples)"
      ],
      "metadata": {
        "colab": {
          "base_uri": "https://localhost:8080/"
        },
        "outputId": "a67a3db1-97dc-4db4-9102-363907c58fb8",
        "id": "4yi4Y_q8G5BM"
      },
      "execution_count": 48,
      "outputs": [
        {
          "output_type": "execute_result",
          "data": {
            "text/plain": [
              "6000"
            ]
          },
          "metadata": {},
          "execution_count": 48
        }
      ]
    },
    {
      "cell_type": "code",
      "source": [
        "len(unlabeled_examples)"
      ],
      "metadata": {
        "colab": {
          "base_uri": "https://localhost:8080/"
        },
        "outputId": "e95df59f-2113-470e-b070-333df1931514",
        "id": "CdlIotJ1G5BN"
      },
      "execution_count": 49,
      "outputs": [
        {
          "output_type": "execute_result",
          "data": {
            "text/plain": [
              "9000"
            ]
          },
          "metadata": {},
          "execution_count": 49
        }
      ]
    },
    {
      "cell_type": "code",
      "source": [
        "len(test_examples)"
      ],
      "metadata": {
        "colab": {
          "base_uri": "https://localhost:8080/"
        },
        "outputId": "08df1f9c-c226-4e52-f58e-e6229fd548da",
        "id": "56uRf6g_G5BN"
      },
      "execution_count": 50,
      "outputs": [
        {
          "output_type": "execute_result",
          "data": {
            "text/plain": [
              "4500"
            ]
          },
          "metadata": {},
          "execution_count": 50
        }
      ]
    },
    {
      "cell_type": "code",
      "source": [
        "test_dataloader, train_dataloader, train_examples = convert_input_examples_to_dataloader(label_list)"
      ],
      "metadata": {
        "id": "n3REQeClG5BN"
      },
      "execution_count": 51,
      "outputs": []
    },
    {
      "cell_type": "code",
      "source": [
        "generator, discriminator = instantiate_discriminator_and_generator(transformer)"
      ],
      "metadata": {
        "id": "PVcUnCeWG5BO"
      },
      "execution_count": 52,
      "outputs": []
    },
    {
      "cell_type": "code",
      "source": [
        "training_stats_40, total_t0 = training_procedure_start(test_dataloader, train_dataloader, train_examples, generator, discriminator)"
      ],
      "metadata": {
        "colab": {
          "base_uri": "https://localhost:8080/"
        },
        "outputId": "165a6e6d-eb40-4638-ba32-05ff168ea52d",
        "id": "v56OoHXTG5BO"
      },
      "execution_count": 53,
      "outputs": [
        {
          "output_type": "stream",
          "name": "stdout",
          "text": [
            "\n",
            "======== Epoch 1 / 5 ========\n",
            "Training...\n",
            "  Batch    10  of    235.    Elapsed: 0:00:06.\n",
            "  Batch    20  of    235.    Elapsed: 0:00:12.\n",
            "  Batch    30  of    235.    Elapsed: 0:00:18.\n",
            "  Batch    40  of    235.    Elapsed: 0:00:24.\n",
            "  Batch    50  of    235.    Elapsed: 0:00:30.\n",
            "  Batch    60  of    235.    Elapsed: 0:00:35.\n",
            "  Batch    70  of    235.    Elapsed: 0:00:41.\n",
            "  Batch    80  of    235.    Elapsed: 0:00:47.\n",
            "  Batch    90  of    235.    Elapsed: 0:00:53.\n",
            "  Batch   100  of    235.    Elapsed: 0:00:59.\n",
            "  Batch   110  of    235.    Elapsed: 0:01:05.\n",
            "  Batch   120  of    235.    Elapsed: 0:01:11.\n",
            "  Batch   130  of    235.    Elapsed: 0:01:17.\n",
            "  Batch   140  of    235.    Elapsed: 0:01:23.\n",
            "  Batch   150  of    235.    Elapsed: 0:01:29.\n",
            "  Batch   160  of    235.    Elapsed: 0:01:34.\n",
            "  Batch   170  of    235.    Elapsed: 0:01:40.\n",
            "  Batch   180  of    235.    Elapsed: 0:01:46.\n",
            "  Batch   190  of    235.    Elapsed: 0:01:52.\n",
            "  Batch   200  of    235.    Elapsed: 0:01:58.\n",
            "  Batch   210  of    235.    Elapsed: 0:02:04.\n",
            "  Batch   220  of    235.    Elapsed: 0:02:10.\n",
            "  Batch   230  of    235.    Elapsed: 0:02:16.\n",
            "\n",
            "  Average training loss generetor: 0.658\n",
            "  Average training loss discriminator: 6.203\n",
            "  Training epcoh took: 0:02:18\n",
            "\n",
            "Running Test...\n",
            "  Accuracy: 0.007\n",
            "  Test Loss: 5.016\n",
            "  Test took: 0:00:08\n",
            "\n",
            "======== Epoch 2 / 5 ========\n",
            "Training...\n",
            "  Batch    10  of    235.    Elapsed: 0:00:06.\n",
            "  Batch    20  of    235.    Elapsed: 0:00:12.\n",
            "  Batch    30  of    235.    Elapsed: 0:00:18.\n",
            "  Batch    40  of    235.    Elapsed: 0:00:24.\n",
            "  Batch    50  of    235.    Elapsed: 0:00:29.\n",
            "  Batch    60  of    235.    Elapsed: 0:00:35.\n",
            "  Batch    70  of    235.    Elapsed: 0:00:41.\n",
            "  Batch    80  of    235.    Elapsed: 0:00:47.\n",
            "  Batch    90  of    235.    Elapsed: 0:00:53.\n",
            "  Batch   100  of    235.    Elapsed: 0:00:59.\n",
            "  Batch   110  of    235.    Elapsed: 0:01:05.\n",
            "  Batch   120  of    235.    Elapsed: 0:01:11.\n",
            "  Batch   130  of    235.    Elapsed: 0:01:17.\n",
            "  Batch   140  of    235.    Elapsed: 0:01:23.\n",
            "  Batch   150  of    235.    Elapsed: 0:01:29.\n",
            "  Batch   160  of    235.    Elapsed: 0:01:34.\n",
            "  Batch   170  of    235.    Elapsed: 0:01:40.\n",
            "  Batch   180  of    235.    Elapsed: 0:01:46.\n",
            "  Batch   190  of    235.    Elapsed: 0:01:52.\n",
            "  Batch   200  of    235.    Elapsed: 0:01:58.\n",
            "  Batch   210  of    235.    Elapsed: 0:02:04.\n",
            "  Batch   220  of    235.    Elapsed: 0:02:10.\n",
            "  Batch   230  of    235.    Elapsed: 0:02:16.\n",
            "\n",
            "  Average training loss generetor: 0.719\n",
            "  Average training loss discriminator: 5.790\n",
            "  Training epcoh took: 0:02:18\n",
            "\n",
            "Running Test...\n",
            "  Accuracy: 0.007\n",
            "  Test Loss: 5.014\n",
            "  Test took: 0:00:08\n",
            "\n",
            "======== Epoch 3 / 5 ========\n",
            "Training...\n",
            "  Batch    10  of    235.    Elapsed: 0:00:06.\n",
            "  Batch    20  of    235.    Elapsed: 0:00:12.\n",
            "  Batch    30  of    235.    Elapsed: 0:00:18.\n",
            "  Batch    40  of    235.    Elapsed: 0:00:24.\n",
            "  Batch    50  of    235.    Elapsed: 0:00:30.\n",
            "  Batch    60  of    235.    Elapsed: 0:00:35.\n",
            "  Batch    70  of    235.    Elapsed: 0:00:41.\n",
            "  Batch    80  of    235.    Elapsed: 0:00:47.\n",
            "  Batch    90  of    235.    Elapsed: 0:00:53.\n",
            "  Batch   100  of    235.    Elapsed: 0:00:59.\n",
            "  Batch   110  of    235.    Elapsed: 0:01:05.\n",
            "  Batch   120  of    235.    Elapsed: 0:01:11.\n",
            "  Batch   130  of    235.    Elapsed: 0:01:17.\n",
            "  Batch   140  of    235.    Elapsed: 0:01:23.\n",
            "  Batch   150  of    235.    Elapsed: 0:01:28.\n",
            "  Batch   160  of    235.    Elapsed: 0:01:34.\n",
            "  Batch   170  of    235.    Elapsed: 0:01:40.\n",
            "  Batch   180  of    235.    Elapsed: 0:01:46.\n",
            "  Batch   190  of    235.    Elapsed: 0:01:52.\n",
            "  Batch   200  of    235.    Elapsed: 0:01:58.\n",
            "  Batch   210  of    235.    Elapsed: 0:02:04.\n",
            "  Batch   220  of    235.    Elapsed: 0:02:10.\n",
            "  Batch   230  of    235.    Elapsed: 0:02:16.\n",
            "\n",
            "  Average training loss generetor: 0.716\n",
            "  Average training loss discriminator: 5.776\n",
            "  Training epcoh took: 0:02:18\n",
            "\n",
            "Running Test...\n",
            "  Accuracy: 0.007\n",
            "  Test Loss: 5.013\n",
            "  Test took: 0:00:08\n",
            "\n",
            "======== Epoch 4 / 5 ========\n",
            "Training...\n",
            "  Batch    10  of    235.    Elapsed: 0:00:06.\n",
            "  Batch    20  of    235.    Elapsed: 0:00:12.\n",
            "  Batch    30  of    235.    Elapsed: 0:00:18.\n",
            "  Batch    40  of    235.    Elapsed: 0:00:24.\n",
            "  Batch    50  of    235.    Elapsed: 0:00:29.\n",
            "  Batch    60  of    235.    Elapsed: 0:00:35.\n",
            "  Batch    70  of    235.    Elapsed: 0:00:41.\n",
            "  Batch    80  of    235.    Elapsed: 0:00:47.\n",
            "  Batch    90  of    235.    Elapsed: 0:00:53.\n",
            "  Batch   100  of    235.    Elapsed: 0:00:59.\n",
            "  Batch   110  of    235.    Elapsed: 0:01:05.\n",
            "  Batch   120  of    235.    Elapsed: 0:01:11.\n",
            "  Batch   130  of    235.    Elapsed: 0:01:17.\n",
            "  Batch   140  of    235.    Elapsed: 0:01:22.\n",
            "  Batch   150  of    235.    Elapsed: 0:01:28.\n",
            "  Batch   160  of    235.    Elapsed: 0:01:34.\n",
            "  Batch   170  of    235.    Elapsed: 0:01:40.\n",
            "  Batch   180  of    235.    Elapsed: 0:01:46.\n",
            "  Batch   190  of    235.    Elapsed: 0:01:52.\n",
            "  Batch   200  of    235.    Elapsed: 0:01:58.\n",
            "  Batch   210  of    235.    Elapsed: 0:02:04.\n",
            "  Batch   220  of    235.    Elapsed: 0:02:09.\n",
            "  Batch   230  of    235.    Elapsed: 0:02:15.\n",
            "\n",
            "  Average training loss generetor: 0.713\n",
            "  Average training loss discriminator: 5.766\n",
            "  Training epcoh took: 0:02:18\n",
            "\n",
            "Running Test...\n",
            "  Accuracy: 0.007\n",
            "  Test Loss: 5.013\n",
            "  Test took: 0:00:08\n",
            "\n",
            "======== Epoch 5 / 5 ========\n",
            "Training...\n",
            "  Batch    10  of    235.    Elapsed: 0:00:06.\n",
            "  Batch    20  of    235.    Elapsed: 0:00:12.\n",
            "  Batch    30  of    235.    Elapsed: 0:00:18.\n",
            "  Batch    40  of    235.    Elapsed: 0:00:24.\n",
            "  Batch    50  of    235.    Elapsed: 0:00:29.\n",
            "  Batch    60  of    235.    Elapsed: 0:00:35.\n",
            "  Batch    70  of    235.    Elapsed: 0:00:41.\n",
            "  Batch    80  of    235.    Elapsed: 0:00:47.\n",
            "  Batch    90  of    235.    Elapsed: 0:00:53.\n",
            "  Batch   100  of    235.    Elapsed: 0:00:59.\n",
            "  Batch   110  of    235.    Elapsed: 0:01:05.\n",
            "  Batch   120  of    235.    Elapsed: 0:01:11.\n",
            "  Batch   130  of    235.    Elapsed: 0:01:17.\n",
            "  Batch   140  of    235.    Elapsed: 0:01:22.\n",
            "  Batch   150  of    235.    Elapsed: 0:01:28.\n",
            "  Batch   160  of    235.    Elapsed: 0:01:34.\n",
            "  Batch   170  of    235.    Elapsed: 0:01:40.\n",
            "  Batch   180  of    235.    Elapsed: 0:01:46.\n",
            "  Batch   190  of    235.    Elapsed: 0:01:52.\n",
            "  Batch   200  of    235.    Elapsed: 0:01:58.\n",
            "  Batch   210  of    235.    Elapsed: 0:02:04.\n",
            "  Batch   220  of    235.    Elapsed: 0:02:10.\n",
            "  Batch   230  of    235.    Elapsed: 0:02:15.\n",
            "\n",
            "  Average training loss generetor: 0.711\n",
            "  Average training loss discriminator: 5.758\n",
            "  Training epcoh took: 0:02:18\n",
            "\n",
            "Running Test...\n",
            "  Accuracy: 0.007\n",
            "  Test Loss: 5.013\n",
            "  Test took: 0:00:08\n"
          ]
        }
      ]
    },
    {
      "cell_type": "code",
      "source": [
        "training_procedure_completion_print(training_stats_40, total_t0)"
      ],
      "metadata": {
        "colab": {
          "base_uri": "https://localhost:8080/"
        },
        "outputId": "c7865888-8fa4-49ad-8ad1-96cc294ac46e",
        "id": "Xt-3fUi5G5BP"
      },
      "execution_count": 54,
      "outputs": [
        {
          "output_type": "stream",
          "name": "stdout",
          "text": [
            "{'epoch': 1, 'Training Loss generator': 0.6579586724017529, 'Training Loss discriminator': 6.202700026491855, 'Valid. Loss': 5.0159912109375, 'Valid. Accur.': 0.006666666666666667, 'Training Time': '0:02:18', 'Test Time': '0:00:08'}\n",
            "{'epoch': 2, 'Training Loss generator': 0.7194878583258771, 'Training Loss discriminator': 5.790169249189661, 'Valid. Loss': 5.014411926269531, 'Valid. Accur.': 0.006666666666666667, 'Training Time': '0:02:18', 'Test Time': '0:00:08'}\n",
            "{'epoch': 3, 'Training Loss generator': 0.7156552860077391, 'Training Loss discriminator': 5.775850107314739, 'Valid. Loss': 5.013206958770752, 'Valid. Accur.': 0.006666666666666667, 'Training Time': '0:02:18', 'Test Time': '0:00:08'}\n",
            "{'epoch': 4, 'Training Loss generator': 0.7128831181120365, 'Training Loss discriminator': 5.766283390369821, 'Valid. Loss': 5.012876987457275, 'Valid. Accur.': 0.006666666666666667, 'Training Time': '0:02:18', 'Test Time': '0:00:08'}\n",
            "{'epoch': 5, 'Training Loss generator': 0.7110419833913763, 'Training Loss discriminator': 5.758349682422394, 'Valid. Loss': 5.012773513793945, 'Valid. Accur.': 0.006666666666666667, 'Training Time': '0:02:18', 'Test Time': '0:00:08'}\n",
            "\n",
            "Training complete!\n",
            "Total training took 0:14:16 (h:mm:ss)\n"
          ]
        }
      ]
    },
    {
      "cell_type": "code",
      "source": [
        "training_stats_40[-1]"
      ],
      "metadata": {
        "colab": {
          "base_uri": "https://localhost:8080/"
        },
        "outputId": "ff67efc9-9de2-4461-dd57-c1271f1afc01",
        "id": "qf-LFYGhG5BP"
      },
      "execution_count": 55,
      "outputs": [
        {
          "output_type": "execute_result",
          "data": {
            "text/plain": [
              "{'Test Time': '0:00:08',\n",
              " 'Training Loss discriminator': 5.758349682422394,\n",
              " 'Training Loss generator': 0.7110419833913763,\n",
              " 'Training Time': '0:02:18',\n",
              " 'Valid. Accur.': 0.006666666666666667,\n",
              " 'Valid. Loss': 5.012773513793945,\n",
              " 'epoch': 5}"
            ]
          },
          "metadata": {},
          "execution_count": 55
        }
      ]
    },
    {
      "cell_type": "markdown",
      "source": [
        "##50_50"
      ],
      "metadata": {
        "id": "xwZfDyvyLzEr"
      }
    },
    {
      "cell_type": "code",
      "source": [
        "labeled_file = \"./50_50/labeled.tsv\"\n",
        "unlabeled_file = \"./50_50/unlabeled.tsv\"\n",
        "test_filename = \"./50_50/test.tsv\""
      ],
      "metadata": {
        "id": "lLlRUNuILzEs"
      },
      "execution_count": 56,
      "outputs": []
    },
    {
      "cell_type": "code",
      "source": [
        "labeled_examples, unlabeled_examples, test_examples = load_the_input_dataset()"
      ],
      "metadata": {
        "id": "F5XdpKTjLzEs"
      },
      "execution_count": 57,
      "outputs": []
    },
    {
      "cell_type": "code",
      "source": [
        "len(labeled_examples)"
      ],
      "metadata": {
        "colab": {
          "base_uri": "https://localhost:8080/"
        },
        "outputId": "a6b800f3-6876-4d28-81bf-835e31f1eaef",
        "id": "U4ciKxTsLzEs"
      },
      "execution_count": 58,
      "outputs": [
        {
          "output_type": "execute_result",
          "data": {
            "text/plain": [
              "7500"
            ]
          },
          "metadata": {},
          "execution_count": 58
        }
      ]
    },
    {
      "cell_type": "code",
      "source": [
        "len(unlabeled_examples)"
      ],
      "metadata": {
        "colab": {
          "base_uri": "https://localhost:8080/"
        },
        "outputId": "17c837ee-6034-4f9d-d8ee-710eb7d2957c",
        "id": "lRmORmv3LzEs"
      },
      "execution_count": 59,
      "outputs": [
        {
          "output_type": "execute_result",
          "data": {
            "text/plain": [
              "7500"
            ]
          },
          "metadata": {},
          "execution_count": 59
        }
      ]
    },
    {
      "cell_type": "code",
      "source": [
        "len(test_examples)"
      ],
      "metadata": {
        "colab": {
          "base_uri": "https://localhost:8080/"
        },
        "outputId": "03b75c02-0758-43ac-d72f-ab73e3103af2",
        "id": "qJ3ho9oCLzEs"
      },
      "execution_count": 60,
      "outputs": [
        {
          "output_type": "execute_result",
          "data": {
            "text/plain": [
              "4500"
            ]
          },
          "metadata": {},
          "execution_count": 60
        }
      ]
    },
    {
      "cell_type": "code",
      "source": [
        "test_dataloader, train_dataloader, train_examples = convert_input_examples_to_dataloader(label_list)"
      ],
      "metadata": {
        "id": "3AQJw0J9LzEs"
      },
      "execution_count": 61,
      "outputs": []
    },
    {
      "cell_type": "code",
      "source": [
        "generator, discriminator = instantiate_discriminator_and_generator(transformer)"
      ],
      "metadata": {
        "id": "CimCG2csLzEt"
      },
      "execution_count": 62,
      "outputs": []
    },
    {
      "cell_type": "code",
      "source": [
        "training_stats_50, total_t0 = training_procedure_start(test_dataloader, train_dataloader, train_examples, generator, discriminator)"
      ],
      "metadata": {
        "colab": {
          "base_uri": "https://localhost:8080/"
        },
        "outputId": "387c900f-ee30-4db9-da2c-9673169be497",
        "id": "1dP_jKgwLzEt"
      },
      "execution_count": 63,
      "outputs": [
        {
          "output_type": "stream",
          "name": "stdout",
          "text": [
            "\n",
            "======== Epoch 1 / 5 ========\n",
            "Training...\n",
            "  Batch    10  of    235.    Elapsed: 0:00:06.\n",
            "  Batch    20  of    235.    Elapsed: 0:00:12.\n",
            "  Batch    30  of    235.    Elapsed: 0:00:18.\n",
            "  Batch    40  of    235.    Elapsed: 0:00:24.\n",
            "  Batch    50  of    235.    Elapsed: 0:00:29.\n",
            "  Batch    60  of    235.    Elapsed: 0:00:35.\n",
            "  Batch    70  of    235.    Elapsed: 0:00:41.\n",
            "  Batch    80  of    235.    Elapsed: 0:00:47.\n",
            "  Batch    90  of    235.    Elapsed: 0:00:53.\n",
            "  Batch   100  of    235.    Elapsed: 0:00:59.\n",
            "  Batch   110  of    235.    Elapsed: 0:01:05.\n",
            "  Batch   120  of    235.    Elapsed: 0:01:11.\n",
            "  Batch   130  of    235.    Elapsed: 0:01:17.\n",
            "  Batch   140  of    235.    Elapsed: 0:01:22.\n",
            "  Batch   150  of    235.    Elapsed: 0:01:28.\n",
            "  Batch   160  of    235.    Elapsed: 0:01:34.\n",
            "  Batch   170  of    235.    Elapsed: 0:01:40.\n",
            "  Batch   180  of    235.    Elapsed: 0:01:46.\n",
            "  Batch   190  of    235.    Elapsed: 0:01:52.\n",
            "  Batch   200  of    235.    Elapsed: 0:01:58.\n",
            "  Batch   210  of    235.    Elapsed: 0:02:04.\n",
            "  Batch   220  of    235.    Elapsed: 0:02:09.\n",
            "  Batch   230  of    235.    Elapsed: 0:02:15.\n",
            "\n",
            "  Average training loss generetor: 0.662\n",
            "  Average training loss discriminator: 6.175\n",
            "  Training epcoh took: 0:02:18\n",
            "\n",
            "Running Test...\n",
            "  Accuracy: 0.007\n",
            "  Test Loss: 5.015\n",
            "  Test took: 0:00:08\n",
            "\n",
            "======== Epoch 2 / 5 ========\n",
            "Training...\n",
            "  Batch    10  of    235.    Elapsed: 0:00:06.\n",
            "  Batch    20  of    235.    Elapsed: 0:00:12.\n",
            "  Batch    30  of    235.    Elapsed: 0:00:18.\n",
            "  Batch    40  of    235.    Elapsed: 0:00:24.\n",
            "  Batch    50  of    235.    Elapsed: 0:00:29.\n",
            "  Batch    60  of    235.    Elapsed: 0:00:35.\n",
            "  Batch    70  of    235.    Elapsed: 0:00:41.\n",
            "  Batch    80  of    235.    Elapsed: 0:00:47.\n",
            "  Batch    90  of    235.    Elapsed: 0:00:53.\n",
            "  Batch   100  of    235.    Elapsed: 0:00:59.\n",
            "  Batch   110  of    235.    Elapsed: 0:01:05.\n",
            "  Batch   120  of    235.    Elapsed: 0:01:11.\n",
            "  Batch   130  of    235.    Elapsed: 0:01:17.\n",
            "  Batch   140  of    235.    Elapsed: 0:01:22.\n",
            "  Batch   150  of    235.    Elapsed: 0:01:28.\n",
            "  Batch   160  of    235.    Elapsed: 0:01:34.\n",
            "  Batch   170  of    235.    Elapsed: 0:01:40.\n",
            "  Batch   180  of    235.    Elapsed: 0:01:46.\n",
            "  Batch   190  of    235.    Elapsed: 0:01:52.\n",
            "  Batch   200  of    235.    Elapsed: 0:01:58.\n",
            "  Batch   210  of    235.    Elapsed: 0:02:04.\n",
            "  Batch   220  of    235.    Elapsed: 0:02:09.\n",
            "  Batch   230  of    235.    Elapsed: 0:02:15.\n",
            "\n",
            "  Average training loss generetor: 0.719\n",
            "  Average training loss discriminator: 5.788\n",
            "  Training epcoh took: 0:02:18\n",
            "\n",
            "Running Test...\n",
            "  Accuracy: 0.007\n",
            "  Test Loss: 5.014\n",
            "  Test took: 0:00:08\n",
            "\n",
            "======== Epoch 3 / 5 ========\n",
            "Training...\n",
            "  Batch    10  of    235.    Elapsed: 0:00:06.\n",
            "  Batch    20  of    235.    Elapsed: 0:00:12.\n",
            "  Batch    30  of    235.    Elapsed: 0:00:18.\n",
            "  Batch    40  of    235.    Elapsed: 0:00:24.\n",
            "  Batch    50  of    235.    Elapsed: 0:00:29.\n",
            "  Batch    60  of    235.    Elapsed: 0:00:35.\n",
            "  Batch    70  of    235.    Elapsed: 0:00:41.\n",
            "  Batch    80  of    235.    Elapsed: 0:00:47.\n",
            "  Batch    90  of    235.    Elapsed: 0:00:53.\n",
            "  Batch   100  of    235.    Elapsed: 0:00:59.\n",
            "  Batch   110  of    235.    Elapsed: 0:01:05.\n",
            "  Batch   120  of    235.    Elapsed: 0:01:11.\n",
            "  Batch   130  of    235.    Elapsed: 0:01:16.\n",
            "  Batch   140  of    235.    Elapsed: 0:01:22.\n",
            "  Batch   150  of    235.    Elapsed: 0:01:28.\n",
            "  Batch   160  of    235.    Elapsed: 0:01:34.\n",
            "  Batch   170  of    235.    Elapsed: 0:01:40.\n",
            "  Batch   180  of    235.    Elapsed: 0:01:46.\n",
            "  Batch   190  of    235.    Elapsed: 0:01:52.\n",
            "  Batch   200  of    235.    Elapsed: 0:01:58.\n",
            "  Batch   210  of    235.    Elapsed: 0:02:03.\n",
            "  Batch   220  of    235.    Elapsed: 0:02:09.\n",
            "  Batch   230  of    235.    Elapsed: 0:02:15.\n",
            "\n",
            "  Average training loss generetor: 0.716\n",
            "  Average training loss discriminator: 5.773\n",
            "  Training epcoh took: 0:02:18\n",
            "\n",
            "Running Test...\n",
            "  Accuracy: 0.007\n",
            "  Test Loss: 5.013\n",
            "  Test took: 0:00:08\n",
            "\n",
            "======== Epoch 4 / 5 ========\n",
            "Training...\n",
            "  Batch    10  of    235.    Elapsed: 0:00:06.\n",
            "  Batch    20  of    235.    Elapsed: 0:00:12.\n",
            "  Batch    30  of    235.    Elapsed: 0:00:18.\n",
            "  Batch    40  of    235.    Elapsed: 0:00:24.\n",
            "  Batch    50  of    235.    Elapsed: 0:00:30.\n",
            "  Batch    60  of    235.    Elapsed: 0:00:35.\n",
            "  Batch    70  of    235.    Elapsed: 0:00:41.\n",
            "  Batch    80  of    235.    Elapsed: 0:00:47.\n",
            "  Batch    90  of    235.    Elapsed: 0:00:53.\n",
            "  Batch   100  of    235.    Elapsed: 0:00:59.\n",
            "  Batch   110  of    235.    Elapsed: 0:01:05.\n",
            "  Batch   120  of    235.    Elapsed: 0:01:11.\n",
            "  Batch   130  of    235.    Elapsed: 0:01:17.\n",
            "  Batch   140  of    235.    Elapsed: 0:01:22.\n",
            "  Batch   150  of    235.    Elapsed: 0:01:28.\n",
            "  Batch   160  of    235.    Elapsed: 0:01:34.\n",
            "  Batch   170  of    235.    Elapsed: 0:01:40.\n",
            "  Batch   180  of    235.    Elapsed: 0:01:46.\n",
            "  Batch   190  of    235.    Elapsed: 0:01:52.\n",
            "  Batch   200  of    235.    Elapsed: 0:01:58.\n",
            "  Batch   210  of    235.    Elapsed: 0:02:04.\n",
            "  Batch   220  of    235.    Elapsed: 0:02:09.\n",
            "  Batch   230  of    235.    Elapsed: 0:02:15.\n",
            "\n",
            "  Average training loss generetor: 0.712\n",
            "  Average training loss discriminator: 5.765\n",
            "  Training epcoh took: 0:02:18\n",
            "\n",
            "Running Test...\n",
            "  Accuracy: 0.007\n",
            "  Test Loss: 5.013\n",
            "  Test took: 0:00:08\n",
            "\n",
            "======== Epoch 5 / 5 ========\n",
            "Training...\n",
            "  Batch    10  of    235.    Elapsed: 0:00:06.\n",
            "  Batch    20  of    235.    Elapsed: 0:00:12.\n",
            "  Batch    30  of    235.    Elapsed: 0:00:18.\n",
            "  Batch    40  of    235.    Elapsed: 0:00:24.\n",
            "  Batch    50  of    235.    Elapsed: 0:00:29.\n",
            "  Batch    60  of    235.    Elapsed: 0:00:35.\n",
            "  Batch    70  of    235.    Elapsed: 0:00:41.\n",
            "  Batch    80  of    235.    Elapsed: 0:00:47.\n",
            "  Batch    90  of    235.    Elapsed: 0:00:53.\n",
            "  Batch   100  of    235.    Elapsed: 0:00:59.\n",
            "  Batch   110  of    235.    Elapsed: 0:01:05.\n",
            "  Batch   120  of    235.    Elapsed: 0:01:11.\n",
            "  Batch   130  of    235.    Elapsed: 0:01:16.\n",
            "  Batch   140  of    235.    Elapsed: 0:01:22.\n",
            "  Batch   150  of    235.    Elapsed: 0:01:28.\n",
            "  Batch   160  of    235.    Elapsed: 0:01:34.\n",
            "  Batch   170  of    235.    Elapsed: 0:01:40.\n",
            "  Batch   180  of    235.    Elapsed: 0:01:46.\n",
            "  Batch   190  of    235.    Elapsed: 0:01:52.\n",
            "  Batch   200  of    235.    Elapsed: 0:01:58.\n",
            "  Batch   210  of    235.    Elapsed: 0:02:04.\n",
            "  Batch   220  of    235.    Elapsed: 0:02:10.\n",
            "  Batch   230  of    235.    Elapsed: 0:02:15.\n",
            "\n",
            "  Average training loss generetor: 0.711\n",
            "  Average training loss discriminator: 5.757\n",
            "  Training epcoh took: 0:02:18\n",
            "\n",
            "Running Test...\n",
            "  Accuracy: 0.007\n",
            "  Test Loss: 5.013\n",
            "  Test took: 0:00:08\n"
          ]
        }
      ]
    },
    {
      "cell_type": "code",
      "source": [
        "training_procedure_completion_print(training_stats_50, total_t0)"
      ],
      "metadata": {
        "colab": {
          "base_uri": "https://localhost:8080/"
        },
        "outputId": "b1b7d64d-d54d-4963-ffaf-02bad3400744",
        "id": "Afm-dTntLzEt"
      },
      "execution_count": 64,
      "outputs": [
        {
          "output_type": "stream",
          "name": "stdout",
          "text": [
            "{'epoch': 1, 'Training Loss generator': 0.6619536714905754, 'Training Loss discriminator': 6.175158488496821, 'Valid. Loss': 5.015459060668945, 'Valid. Accur.': 0.006666666666666667, 'Training Time': '0:02:18', 'Test Time': '0:00:08'}\n",
            "{'epoch': 2, 'Training Loss generator': 0.7188254896630633, 'Training Loss discriminator': 5.787511121465805, 'Valid. Loss': 5.014227390289307, 'Valid. Accur.': 0.006666666666666667, 'Training Time': '0:02:18', 'Test Time': '0:00:08'}\n",
            "{'epoch': 3, 'Training Loss generator': 0.7156738552641362, 'Training Loss discriminator': 5.773251123631254, 'Valid. Loss': 5.013397216796875, 'Valid. Accur.': 0.006666666666666667, 'Training Time': '0:02:18', 'Test Time': '0:00:08'}\n",
            "{'epoch': 4, 'Training Loss generator': 0.7124202715589645, 'Training Loss discriminator': 5.765006099863255, 'Valid. Loss': 5.0130934715271, 'Valid. Accur.': 0.006666666666666667, 'Training Time': '0:02:18', 'Test Time': '0:00:08'}\n",
            "{'epoch': 5, 'Training Loss generator': 0.7109688000476106, 'Training Loss discriminator': 5.757045689034969, 'Valid. Loss': 5.012914657592773, 'Valid. Accur.': 0.006666666666666667, 'Training Time': '0:02:18', 'Test Time': '0:00:08'}\n",
            "\n",
            "Training complete!\n",
            "Total training took 0:12:16 (h:mm:ss)\n"
          ]
        }
      ]
    },
    {
      "cell_type": "code",
      "source": [
        "training_stats_50[-1]"
      ],
      "metadata": {
        "colab": {
          "base_uri": "https://localhost:8080/"
        },
        "outputId": "ef39ab44-ae1b-49f1-ea14-6ac87d4ffb91",
        "id": "nA_PJEYILzEt"
      },
      "execution_count": 65,
      "outputs": [
        {
          "output_type": "execute_result",
          "data": {
            "text/plain": [
              "{'Test Time': '0:00:08',\n",
              " 'Training Loss discriminator': 5.757045689034969,\n",
              " 'Training Loss generator': 0.7109688000476106,\n",
              " 'Training Time': '0:02:18',\n",
              " 'Valid. Accur.': 0.006666666666666667,\n",
              " 'Valid. Loss': 5.012914657592773,\n",
              " 'epoch': 5}"
            ]
          },
          "metadata": {},
          "execution_count": 65
        }
      ]
    },
    {
      "cell_type": "markdown",
      "source": [
        "##1_99"
      ],
      "metadata": {
        "id": "jA5J8q6hMrFO"
      }
    },
    {
      "cell_type": "code",
      "source": [
        "labeled_file = \"./1_99/labeled.tsv\"\n",
        "unlabeled_file = \"./1_99/unlabeled.tsv\"\n",
        "test_filename = \"./1_99/test.tsv\""
      ],
      "metadata": {
        "id": "iokUBVrJMrFO"
      },
      "execution_count": 66,
      "outputs": []
    },
    {
      "cell_type": "code",
      "source": [
        "labeled_examples, unlabeled_examples, test_examples = load_the_input_dataset()"
      ],
      "metadata": {
        "id": "eOF82Tx2MrFP"
      },
      "execution_count": 67,
      "outputs": []
    },
    {
      "cell_type": "code",
      "source": [
        "len(labeled_examples)"
      ],
      "metadata": {
        "colab": {
          "base_uri": "https://localhost:8080/"
        },
        "outputId": "55b441cf-3b2f-4196-c17a-6454ed029beb",
        "id": "Ww14cnQmMrFP"
      },
      "execution_count": 68,
      "outputs": [
        {
          "output_type": "execute_result",
          "data": {
            "text/plain": [
              "150"
            ]
          },
          "metadata": {},
          "execution_count": 68
        }
      ]
    },
    {
      "cell_type": "code",
      "source": [
        "len(unlabeled_examples)"
      ],
      "metadata": {
        "colab": {
          "base_uri": "https://localhost:8080/"
        },
        "outputId": "2786d997-2552-416f-ce91-60aeddad084f",
        "id": "R26TdAIoMrFP"
      },
      "execution_count": 69,
      "outputs": [
        {
          "output_type": "execute_result",
          "data": {
            "text/plain": [
              "14850"
            ]
          },
          "metadata": {},
          "execution_count": 69
        }
      ]
    },
    {
      "cell_type": "code",
      "source": [
        "len(test_examples)"
      ],
      "metadata": {
        "colab": {
          "base_uri": "https://localhost:8080/"
        },
        "outputId": "79cecde7-50eb-45f3-80d7-3f30d3f15148",
        "id": "MLQ2dJNyMrFP"
      },
      "execution_count": 70,
      "outputs": [
        {
          "output_type": "execute_result",
          "data": {
            "text/plain": [
              "4500"
            ]
          },
          "metadata": {},
          "execution_count": 70
        }
      ]
    },
    {
      "cell_type": "code",
      "source": [
        "test_dataloader, train_dataloader, train_examples = convert_input_examples_to_dataloader(label_list)"
      ],
      "metadata": {
        "id": "gQ6ZHq_jMrFP"
      },
      "execution_count": 71,
      "outputs": []
    },
    {
      "cell_type": "code",
      "source": [
        "generator, discriminator = instantiate_discriminator_and_generator(transformer)"
      ],
      "metadata": {
        "id": "UHZphA0nMrFP"
      },
      "execution_count": 72,
      "outputs": []
    },
    {
      "cell_type": "code",
      "source": [
        "training_stats_1, total_t0 = training_procedure_start(test_dataloader, train_dataloader, train_examples, generator, discriminator)"
      ],
      "metadata": {
        "colab": {
          "base_uri": "https://localhost:8080/"
        },
        "outputId": "c17cbfed-5b40-472c-e646-d8b83e9a2852",
        "id": "Jgrs7ezFMrFP"
      },
      "execution_count": 73,
      "outputs": [
        {
          "output_type": "stream",
          "name": "stdout",
          "text": [
            "\n",
            "======== Epoch 1 / 5 ========\n",
            "Training...\n",
            "  Batch    10  of    247.    Elapsed: 0:00:06.\n",
            "  Batch    20  of    247.    Elapsed: 0:00:12.\n",
            "  Batch    30  of    247.    Elapsed: 0:00:18.\n",
            "  Batch    40  of    247.    Elapsed: 0:00:24.\n",
            "  Batch    50  of    247.    Elapsed: 0:00:30.\n",
            "  Batch    60  of    247.    Elapsed: 0:00:35.\n",
            "  Batch    70  of    247.    Elapsed: 0:00:41.\n",
            "  Batch    80  of    247.    Elapsed: 0:00:47.\n",
            "  Batch    90  of    247.    Elapsed: 0:00:53.\n",
            "  Batch   100  of    247.    Elapsed: 0:00:59.\n",
            "  Batch   110  of    247.    Elapsed: 0:01:05.\n",
            "  Batch   120  of    247.    Elapsed: 0:01:11.\n",
            "  Batch   130  of    247.    Elapsed: 0:01:17.\n",
            "  Batch   140  of    247.    Elapsed: 0:01:22.\n",
            "  Batch   150  of    247.    Elapsed: 0:01:28.\n",
            "  Batch   160  of    247.    Elapsed: 0:01:34.\n",
            "  Batch   170  of    247.    Elapsed: 0:01:40.\n",
            "  Batch   180  of    247.    Elapsed: 0:01:46.\n",
            "  Batch   190  of    247.    Elapsed: 0:01:52.\n",
            "  Batch   200  of    247.    Elapsed: 0:01:58.\n",
            "  Batch   210  of    247.    Elapsed: 0:02:04.\n",
            "  Batch   220  of    247.    Elapsed: 0:02:09.\n",
            "  Batch   230  of    247.    Elapsed: 0:02:15.\n",
            "  Batch   240  of    247.    Elapsed: 0:02:21.\n",
            "\n",
            "  Average training loss generetor: 0.668\n",
            "  Average training loss discriminator: 6.070\n",
            "  Training epcoh took: 0:02:25\n",
            "\n",
            "Running Test...\n",
            "  Accuracy: 0.007\n",
            "  Test Loss: 5.017\n",
            "  Test took: 0:00:08\n",
            "\n",
            "======== Epoch 2 / 5 ========\n",
            "Training...\n",
            "  Batch    10  of    247.    Elapsed: 0:00:06.\n",
            "  Batch    20  of    247.    Elapsed: 0:00:12.\n",
            "  Batch    30  of    247.    Elapsed: 0:00:18.\n",
            "  Batch    40  of    247.    Elapsed: 0:00:24.\n",
            "  Batch    50  of    247.    Elapsed: 0:00:30.\n",
            "  Batch    60  of    247.    Elapsed: 0:00:35.\n",
            "  Batch    70  of    247.    Elapsed: 0:00:41.\n",
            "  Batch    80  of    247.    Elapsed: 0:00:47.\n",
            "  Batch    90  of    247.    Elapsed: 0:00:53.\n",
            "  Batch   100  of    247.    Elapsed: 0:00:59.\n",
            "  Batch   110  of    247.    Elapsed: 0:01:05.\n",
            "  Batch   120  of    247.    Elapsed: 0:01:11.\n",
            "  Batch   130  of    247.    Elapsed: 0:01:17.\n",
            "  Batch   140  of    247.    Elapsed: 0:01:22.\n",
            "  Batch   150  of    247.    Elapsed: 0:01:28.\n",
            "  Batch   160  of    247.    Elapsed: 0:01:34.\n",
            "  Batch   170  of    247.    Elapsed: 0:01:40.\n",
            "  Batch   180  of    247.    Elapsed: 0:01:46.\n",
            "  Batch   190  of    247.    Elapsed: 0:01:52.\n",
            "  Batch   200  of    247.    Elapsed: 0:01:58.\n",
            "  Batch   210  of    247.    Elapsed: 0:02:04.\n",
            "  Batch   220  of    247.    Elapsed: 0:02:10.\n",
            "  Batch   230  of    247.    Elapsed: 0:02:15.\n",
            "  Batch   240  of    247.    Elapsed: 0:02:21.\n",
            "\n",
            "  Average training loss generetor: 0.724\n",
            "  Average training loss discriminator: 5.655\n",
            "  Training epcoh took: 0:02:25\n",
            "\n",
            "Running Test...\n",
            "  Accuracy: 0.007\n",
            "  Test Loss: 5.016\n",
            "  Test took: 0:00:08\n",
            "\n",
            "======== Epoch 3 / 5 ========\n",
            "Training...\n",
            "  Batch    10  of    247.    Elapsed: 0:00:06.\n",
            "  Batch    20  of    247.    Elapsed: 0:00:12.\n",
            "  Batch    30  of    247.    Elapsed: 0:00:18.\n",
            "  Batch    40  of    247.    Elapsed: 0:00:24.\n",
            "  Batch    50  of    247.    Elapsed: 0:00:29.\n",
            "  Batch    60  of    247.    Elapsed: 0:00:35.\n",
            "  Batch    70  of    247.    Elapsed: 0:00:41.\n",
            "  Batch    80  of    247.    Elapsed: 0:00:47.\n",
            "  Batch    90  of    247.    Elapsed: 0:00:53.\n",
            "  Batch   100  of    247.    Elapsed: 0:00:59.\n",
            "  Batch   110  of    247.    Elapsed: 0:01:05.\n",
            "  Batch   120  of    247.    Elapsed: 0:01:11.\n",
            "  Batch   130  of    247.    Elapsed: 0:01:17.\n",
            "  Batch   140  of    247.    Elapsed: 0:01:22.\n",
            "  Batch   150  of    247.    Elapsed: 0:01:28.\n",
            "  Batch   160  of    247.    Elapsed: 0:01:34.\n",
            "  Batch   170  of    247.    Elapsed: 0:01:40.\n",
            "  Batch   180  of    247.    Elapsed: 0:01:46.\n",
            "  Batch   190  of    247.    Elapsed: 0:01:52.\n",
            "  Batch   200  of    247.    Elapsed: 0:01:58.\n",
            "  Batch   210  of    247.    Elapsed: 0:02:04.\n",
            "  Batch   220  of    247.    Elapsed: 0:02:10.\n",
            "  Batch   230  of    247.    Elapsed: 0:02:16.\n",
            "  Batch   240  of    247.    Elapsed: 0:02:21.\n",
            "\n",
            "  Average training loss generetor: 0.717\n",
            "  Average training loss discriminator: 5.662\n",
            "  Training epcoh took: 0:02:25\n",
            "\n",
            "Running Test...\n",
            "  Accuracy: 0.007\n",
            "  Test Loss: 5.016\n",
            "  Test took: 0:00:08\n",
            "\n",
            "======== Epoch 4 / 5 ========\n",
            "Training...\n",
            "  Batch    10  of    247.    Elapsed: 0:00:06.\n",
            "  Batch    20  of    247.    Elapsed: 0:00:12.\n",
            "  Batch    30  of    247.    Elapsed: 0:00:18.\n",
            "  Batch    40  of    247.    Elapsed: 0:00:24.\n",
            "  Batch    50  of    247.    Elapsed: 0:00:29.\n",
            "  Batch    60  of    247.    Elapsed: 0:00:35.\n",
            "  Batch    70  of    247.    Elapsed: 0:00:41.\n",
            "  Batch    80  of    247.    Elapsed: 0:00:47.\n",
            "  Batch    90  of    247.    Elapsed: 0:00:53.\n",
            "  Batch   100  of    247.    Elapsed: 0:00:59.\n",
            "  Batch   110  of    247.    Elapsed: 0:01:05.\n",
            "  Batch   120  of    247.    Elapsed: 0:01:11.\n",
            "  Batch   130  of    247.    Elapsed: 0:01:16.\n",
            "  Batch   140  of    247.    Elapsed: 0:01:22.\n",
            "  Batch   150  of    247.    Elapsed: 0:01:28.\n",
            "  Batch   160  of    247.    Elapsed: 0:01:34.\n",
            "  Batch   170  of    247.    Elapsed: 0:01:40.\n",
            "  Batch   180  of    247.    Elapsed: 0:01:46.\n",
            "  Batch   190  of    247.    Elapsed: 0:01:52.\n",
            "  Batch   200  of    247.    Elapsed: 0:01:58.\n",
            "  Batch   210  of    247.    Elapsed: 0:02:03.\n",
            "  Batch   220  of    247.    Elapsed: 0:02:09.\n",
            "  Batch   230  of    247.    Elapsed: 0:02:15.\n",
            "  Batch   240  of    247.    Elapsed: 0:02:21.\n",
            "\n",
            "  Average training loss generetor: 0.715\n",
            "  Average training loss discriminator: 5.588\n",
            "  Training epcoh took: 0:02:25\n",
            "\n",
            "Running Test...\n",
            "  Accuracy: 0.007\n",
            "  Test Loss: 5.016\n",
            "  Test took: 0:00:08\n",
            "\n",
            "======== Epoch 5 / 5 ========\n",
            "Training...\n",
            "  Batch    10  of    247.    Elapsed: 0:00:06.\n",
            "  Batch    20  of    247.    Elapsed: 0:00:12.\n",
            "  Batch    30  of    247.    Elapsed: 0:00:18.\n",
            "  Batch    40  of    247.    Elapsed: 0:00:24.\n",
            "  Batch    50  of    247.    Elapsed: 0:00:29.\n",
            "  Batch    60  of    247.    Elapsed: 0:00:35.\n",
            "  Batch    70  of    247.    Elapsed: 0:00:41.\n",
            "  Batch    80  of    247.    Elapsed: 0:00:47.\n",
            "  Batch    90  of    247.    Elapsed: 0:00:53.\n",
            "  Batch   100  of    247.    Elapsed: 0:00:59.\n",
            "  Batch   110  of    247.    Elapsed: 0:01:05.\n",
            "  Batch   120  of    247.    Elapsed: 0:01:11.\n",
            "  Batch   130  of    247.    Elapsed: 0:01:17.\n",
            "  Batch   140  of    247.    Elapsed: 0:01:22.\n",
            "  Batch   150  of    247.    Elapsed: 0:01:28.\n",
            "  Batch   160  of    247.    Elapsed: 0:01:34.\n",
            "  Batch   170  of    247.    Elapsed: 0:01:40.\n",
            "  Batch   180  of    247.    Elapsed: 0:01:46.\n",
            "  Batch   190  of    247.    Elapsed: 0:01:52.\n",
            "  Batch   200  of    247.    Elapsed: 0:01:58.\n",
            "  Batch   210  of    247.    Elapsed: 0:02:04.\n",
            "  Batch   220  of    247.    Elapsed: 0:02:09.\n",
            "  Batch   230  of    247.    Elapsed: 0:02:15.\n",
            "  Batch   240  of    247.    Elapsed: 0:02:21.\n",
            "\n",
            "  Average training loss generetor: 0.711\n",
            "  Average training loss discriminator: 5.689\n",
            "  Training epcoh took: 0:02:25\n",
            "\n",
            "Running Test...\n",
            "  Accuracy: 0.007\n",
            "  Test Loss: 5.014\n",
            "  Test took: 0:00:08\n"
          ]
        }
      ]
    },
    {
      "cell_type": "code",
      "source": [
        "training_procedure_completion_print(training_stats_1, total_t0)"
      ],
      "metadata": {
        "colab": {
          "base_uri": "https://localhost:8080/"
        },
        "outputId": "61979942-d199-4715-c63b-7cd82eea8843",
        "id": "fp72ot0aMrFQ"
      },
      "execution_count": 74,
      "outputs": [
        {
          "output_type": "stream",
          "name": "stdout",
          "text": [
            "{'epoch': 1, 'Training Loss generator': 0.6682333349314357, 'Training Loss discriminator': 6.070482972662458, 'Valid. Loss': 5.016643524169922, 'Valid. Accur.': 0.006666666666666667, 'Training Time': '0:02:25', 'Test Time': '0:00:08'}\n",
            "{'epoch': 2, 'Training Loss generator': 0.7241566830318467, 'Training Loss discriminator': 5.655082263927228, 'Valid. Loss': 5.016462326049805, 'Valid. Accur.': 0.006666666666666667, 'Training Time': '0:02:25', 'Test Time': '0:00:08'}\n",
            "{'epoch': 3, 'Training Loss generator': 0.7172845908504749, 'Training Loss discriminator': 5.6616588244554, 'Valid. Loss': 5.016002178192139, 'Valid. Accur.': 0.006666666666666667, 'Training Time': '0:02:25', 'Test Time': '0:00:08'}\n",
            "{'epoch': 4, 'Training Loss generator': 0.7149047298952635, 'Training Loss discriminator': 5.587892511354284, 'Valid. Loss': 5.016129016876221, 'Valid. Accur.': 0.006666666666666667, 'Training Time': '0:02:25', 'Test Time': '0:00:08'}\n",
            "{'epoch': 5, 'Training Loss generator': 0.7109511576683415, 'Training Loss discriminator': 5.689221535375727, 'Valid. Loss': 5.014122009277344, 'Valid. Accur.': 0.006666666666666667, 'Training Time': '0:02:25', 'Test Time': '0:00:08'}\n",
            "\n",
            "Training complete!\n",
            "Total training took 0:13:04 (h:mm:ss)\n"
          ]
        }
      ]
    },
    {
      "cell_type": "code",
      "source": [
        "training_stats_1[-1]"
      ],
      "metadata": {
        "colab": {
          "base_uri": "https://localhost:8080/"
        },
        "outputId": "35239d13-c7fd-43b6-ac28-305c318fd16a",
        "id": "uSuz6Er4MrFQ"
      },
      "execution_count": 75,
      "outputs": [
        {
          "output_type": "execute_result",
          "data": {
            "text/plain": [
              "{'Test Time': '0:00:08',\n",
              " 'Training Loss discriminator': 5.689221535375727,\n",
              " 'Training Loss generator': 0.7109511576683415,\n",
              " 'Training Time': '0:02:25',\n",
              " 'Valid. Accur.': 0.006666666666666667,\n",
              " 'Valid. Loss': 5.014122009277344,\n",
              " 'epoch': 5}"
            ]
          },
          "metadata": {},
          "execution_count": 75
        }
      ]
    },
    {
      "cell_type": "markdown",
      "source": [
        "##2_98"
      ],
      "metadata": {
        "id": "LAhKqqvUM8mf"
      }
    },
    {
      "cell_type": "code",
      "source": [
        "labeled_file = \"./2_98/labeled.tsv\"\n",
        "unlabeled_file = \"./2_98/unlabeled.tsv\"\n",
        "test_filename = \"./2_98/test.tsv\""
      ],
      "metadata": {
        "id": "H9oUBL25M8mg"
      },
      "execution_count": 76,
      "outputs": []
    },
    {
      "cell_type": "code",
      "source": [
        "labeled_examples, unlabeled_examples, test_examples = load_the_input_dataset()"
      ],
      "metadata": {
        "id": "PGsjlj79M8mg"
      },
      "execution_count": 77,
      "outputs": []
    },
    {
      "cell_type": "code",
      "source": [
        "len(labeled_examples)"
      ],
      "metadata": {
        "colab": {
          "base_uri": "https://localhost:8080/"
        },
        "outputId": "d99c43ed-0d21-43b6-cac7-dacf86eb634a",
        "id": "io8zU3oNM8mh"
      },
      "execution_count": 78,
      "outputs": [
        {
          "output_type": "execute_result",
          "data": {
            "text/plain": [
              "300"
            ]
          },
          "metadata": {},
          "execution_count": 78
        }
      ]
    },
    {
      "cell_type": "code",
      "source": [
        "len(unlabeled_examples)"
      ],
      "metadata": {
        "colab": {
          "base_uri": "https://localhost:8080/"
        },
        "outputId": "bede046a-28d5-4738-d12f-35c9e7473da3",
        "id": "uarOxPTmM8mh"
      },
      "execution_count": 79,
      "outputs": [
        {
          "output_type": "execute_result",
          "data": {
            "text/plain": [
              "14700"
            ]
          },
          "metadata": {},
          "execution_count": 79
        }
      ]
    },
    {
      "cell_type": "code",
      "source": [
        "len(test_examples)"
      ],
      "metadata": {
        "colab": {
          "base_uri": "https://localhost:8080/"
        },
        "outputId": "f3297d76-342e-4bb5-9853-1efce7e7a533",
        "id": "Wqfs18knM8mh"
      },
      "execution_count": 80,
      "outputs": [
        {
          "output_type": "execute_result",
          "data": {
            "text/plain": [
              "4500"
            ]
          },
          "metadata": {},
          "execution_count": 80
        }
      ]
    },
    {
      "cell_type": "code",
      "source": [
        "test_dataloader, train_dataloader, train_examples = convert_input_examples_to_dataloader(label_list)"
      ],
      "metadata": {
        "id": "SSQZPXk5M8mi"
      },
      "execution_count": 81,
      "outputs": []
    },
    {
      "cell_type": "code",
      "source": [
        "generator, discriminator = instantiate_discriminator_and_generator(transformer)"
      ],
      "metadata": {
        "id": "uF2fD8yuM8mi"
      },
      "execution_count": 82,
      "outputs": []
    },
    {
      "cell_type": "code",
      "source": [
        "training_stats_2, total_t0 = training_procedure_start(test_dataloader, train_dataloader, train_examples, generator, discriminator)"
      ],
      "metadata": {
        "colab": {
          "base_uri": "https://localhost:8080/"
        },
        "outputId": "e300fbe9-efa7-47c3-99e4-289413fe0668",
        "id": "FLiwgZJkM8mi"
      },
      "execution_count": 83,
      "outputs": [
        {
          "output_type": "stream",
          "name": "stdout",
          "text": [
            "\n",
            "======== Epoch 1 / 5 ========\n",
            "Training...\n",
            "  Batch    10  of    254.    Elapsed: 0:00:06.\n",
            "  Batch    20  of    254.    Elapsed: 0:00:12.\n",
            "  Batch    30  of    254.    Elapsed: 0:00:18.\n",
            "  Batch    40  of    254.    Elapsed: 0:00:24.\n",
            "  Batch    50  of    254.    Elapsed: 0:00:29.\n",
            "  Batch    60  of    254.    Elapsed: 0:00:35.\n",
            "  Batch    70  of    254.    Elapsed: 0:00:41.\n",
            "  Batch    80  of    254.    Elapsed: 0:00:47.\n",
            "  Batch    90  of    254.    Elapsed: 0:00:53.\n",
            "  Batch   100  of    254.    Elapsed: 0:00:59.\n",
            "  Batch   110  of    254.    Elapsed: 0:01:05.\n",
            "  Batch   120  of    254.    Elapsed: 0:01:11.\n",
            "  Batch   130  of    254.    Elapsed: 0:01:16.\n",
            "  Batch   140  of    254.    Elapsed: 0:01:22.\n",
            "  Batch   150  of    254.    Elapsed: 0:01:28.\n",
            "  Batch   160  of    254.    Elapsed: 0:01:34.\n",
            "  Batch   170  of    254.    Elapsed: 0:01:40.\n",
            "  Batch   180  of    254.    Elapsed: 0:01:46.\n",
            "  Batch   190  of    254.    Elapsed: 0:01:52.\n",
            "  Batch   200  of    254.    Elapsed: 0:01:58.\n",
            "  Batch   210  of    254.    Elapsed: 0:02:04.\n",
            "  Batch   220  of    254.    Elapsed: 0:02:10.\n",
            "  Batch   230  of    254.    Elapsed: 0:02:15.\n",
            "  Batch   240  of    254.    Elapsed: 0:02:21.\n",
            "  Batch   250  of    254.    Elapsed: 0:02:27.\n",
            "\n",
            "  Average training loss generetor: 0.663\n",
            "  Average training loss discriminator: 6.181\n",
            "  Training epcoh took: 0:02:29\n",
            "\n",
            "Running Test...\n",
            "  Accuracy: 0.007\n",
            "  Test Loss: 5.018\n",
            "  Test took: 0:00:08\n",
            "\n",
            "======== Epoch 2 / 5 ========\n",
            "Training...\n",
            "  Batch    10  of    254.    Elapsed: 0:00:06.\n",
            "  Batch    20  of    254.    Elapsed: 0:00:12.\n",
            "  Batch    30  of    254.    Elapsed: 0:00:18.\n",
            "  Batch    40  of    254.    Elapsed: 0:00:24.\n",
            "  Batch    50  of    254.    Elapsed: 0:00:29.\n",
            "  Batch    60  of    254.    Elapsed: 0:00:35.\n",
            "  Batch    70  of    254.    Elapsed: 0:00:41.\n",
            "  Batch    80  of    254.    Elapsed: 0:00:47.\n",
            "  Batch    90  of    254.    Elapsed: 0:00:53.\n",
            "  Batch   100  of    254.    Elapsed: 0:00:59.\n",
            "  Batch   110  of    254.    Elapsed: 0:01:05.\n",
            "  Batch   120  of    254.    Elapsed: 0:01:11.\n",
            "  Batch   130  of    254.    Elapsed: 0:01:16.\n",
            "  Batch   140  of    254.    Elapsed: 0:01:22.\n",
            "  Batch   150  of    254.    Elapsed: 0:01:28.\n",
            "  Batch   160  of    254.    Elapsed: 0:01:34.\n",
            "  Batch   170  of    254.    Elapsed: 0:01:40.\n",
            "  Batch   180  of    254.    Elapsed: 0:01:46.\n",
            "  Batch   190  of    254.    Elapsed: 0:01:52.\n",
            "  Batch   200  of    254.    Elapsed: 0:01:58.\n",
            "  Batch   210  of    254.    Elapsed: 0:02:04.\n",
            "  Batch   220  of    254.    Elapsed: 0:02:09.\n",
            "  Batch   230  of    254.    Elapsed: 0:02:15.\n",
            "  Batch   240  of    254.    Elapsed: 0:02:21.\n",
            "  Batch   250  of    254.    Elapsed: 0:02:27.\n",
            "\n",
            "  Average training loss generetor: 0.723\n",
            "  Average training loss discriminator: 5.772\n",
            "  Training epcoh took: 0:02:29\n",
            "\n",
            "Running Test...\n",
            "  Accuracy: 0.007\n",
            "  Test Loss: 5.018\n",
            "  Test took: 0:00:08\n",
            "\n",
            "======== Epoch 3 / 5 ========\n",
            "Training...\n",
            "  Batch    10  of    254.    Elapsed: 0:00:06.\n",
            "  Batch    20  of    254.    Elapsed: 0:00:12.\n",
            "  Batch    30  of    254.    Elapsed: 0:00:18.\n",
            "  Batch    40  of    254.    Elapsed: 0:00:24.\n",
            "  Batch    50  of    254.    Elapsed: 0:00:29.\n",
            "  Batch    60  of    254.    Elapsed: 0:00:35.\n",
            "  Batch    70  of    254.    Elapsed: 0:00:41.\n",
            "  Batch    80  of    254.    Elapsed: 0:00:47.\n",
            "  Batch    90  of    254.    Elapsed: 0:00:53.\n",
            "  Batch   100  of    254.    Elapsed: 0:00:59.\n",
            "  Batch   110  of    254.    Elapsed: 0:01:05.\n",
            "  Batch   120  of    254.    Elapsed: 0:01:11.\n",
            "  Batch   130  of    254.    Elapsed: 0:01:17.\n",
            "  Batch   140  of    254.    Elapsed: 0:01:23.\n",
            "  Batch   150  of    254.    Elapsed: 0:01:28.\n",
            "  Batch   160  of    254.    Elapsed: 0:01:34.\n",
            "  Batch   170  of    254.    Elapsed: 0:01:40.\n",
            "  Batch   180  of    254.    Elapsed: 0:01:46.\n",
            "  Batch   190  of    254.    Elapsed: 0:01:52.\n",
            "  Batch   200  of    254.    Elapsed: 0:01:58.\n",
            "  Batch   210  of    254.    Elapsed: 0:02:04.\n",
            "  Batch   220  of    254.    Elapsed: 0:02:10.\n",
            "  Batch   230  of    254.    Elapsed: 0:02:15.\n",
            "  Batch   240  of    254.    Elapsed: 0:02:21.\n",
            "  Batch   250  of    254.    Elapsed: 0:02:27.\n",
            "\n",
            "  Average training loss generetor: 0.716\n",
            "  Average training loss discriminator: 5.757\n",
            "  Training epcoh took: 0:02:29\n",
            "\n",
            "Running Test...\n",
            "  Accuracy: 0.007\n",
            "  Test Loss: 5.016\n",
            "  Test took: 0:00:08\n",
            "\n",
            "======== Epoch 4 / 5 ========\n",
            "Training...\n",
            "  Batch    10  of    254.    Elapsed: 0:00:06.\n",
            "  Batch    20  of    254.    Elapsed: 0:00:12.\n",
            "  Batch    30  of    254.    Elapsed: 0:00:18.\n",
            "  Batch    40  of    254.    Elapsed: 0:00:24.\n",
            "  Batch    50  of    254.    Elapsed: 0:00:29.\n",
            "  Batch    60  of    254.    Elapsed: 0:00:35.\n",
            "  Batch    70  of    254.    Elapsed: 0:00:41.\n",
            "  Batch    80  of    254.    Elapsed: 0:00:47.\n",
            "  Batch    90  of    254.    Elapsed: 0:00:53.\n",
            "  Batch   100  of    254.    Elapsed: 0:00:59.\n",
            "  Batch   110  of    254.    Elapsed: 0:01:05.\n",
            "  Batch   120  of    254.    Elapsed: 0:01:11.\n",
            "  Batch   130  of    254.    Elapsed: 0:01:17.\n",
            "  Batch   140  of    254.    Elapsed: 0:01:22.\n",
            "  Batch   150  of    254.    Elapsed: 0:01:28.\n",
            "  Batch   160  of    254.    Elapsed: 0:01:34.\n",
            "  Batch   170  of    254.    Elapsed: 0:01:40.\n",
            "  Batch   180  of    254.    Elapsed: 0:01:46.\n",
            "  Batch   190  of    254.    Elapsed: 0:01:52.\n",
            "  Batch   200  of    254.    Elapsed: 0:01:58.\n",
            "  Batch   210  of    254.    Elapsed: 0:02:04.\n",
            "  Batch   220  of    254.    Elapsed: 0:02:10.\n",
            "  Batch   230  of    254.    Elapsed: 0:02:16.\n",
            "  Batch   240  of    254.    Elapsed: 0:02:21.\n",
            "  Batch   250  of    254.    Elapsed: 0:02:27.\n",
            "\n",
            "  Average training loss generetor: 0.712\n",
            "  Average training loss discriminator: 5.764\n",
            "  Training epcoh took: 0:02:29\n",
            "\n",
            "Running Test...\n",
            "  Accuracy: 0.007\n",
            "  Test Loss: 5.015\n",
            "  Test took: 0:00:08\n",
            "\n",
            "======== Epoch 5 / 5 ========\n",
            "Training...\n",
            "  Batch    10  of    254.    Elapsed: 0:00:06.\n",
            "  Batch    20  of    254.    Elapsed: 0:00:12.\n",
            "  Batch    30  of    254.    Elapsed: 0:00:18.\n",
            "  Batch    40  of    254.    Elapsed: 0:00:24.\n",
            "  Batch    50  of    254.    Elapsed: 0:00:29.\n",
            "  Batch    60  of    254.    Elapsed: 0:00:35.\n",
            "  Batch    70  of    254.    Elapsed: 0:00:41.\n",
            "  Batch    80  of    254.    Elapsed: 0:00:47.\n",
            "  Batch    90  of    254.    Elapsed: 0:00:53.\n",
            "  Batch   100  of    254.    Elapsed: 0:00:59.\n",
            "  Batch   110  of    254.    Elapsed: 0:01:05.\n",
            "  Batch   120  of    254.    Elapsed: 0:01:11.\n",
            "  Batch   130  of    254.    Elapsed: 0:01:17.\n",
            "  Batch   140  of    254.    Elapsed: 0:01:22.\n",
            "  Batch   150  of    254.    Elapsed: 0:01:28.\n",
            "  Batch   160  of    254.    Elapsed: 0:01:34.\n",
            "  Batch   170  of    254.    Elapsed: 0:01:40.\n",
            "  Batch   180  of    254.    Elapsed: 0:01:46.\n",
            "  Batch   190  of    254.    Elapsed: 0:01:52.\n",
            "  Batch   200  of    254.    Elapsed: 0:01:58.\n",
            "  Batch   210  of    254.    Elapsed: 0:02:04.\n",
            "  Batch   220  of    254.    Elapsed: 0:02:10.\n",
            "  Batch   230  of    254.    Elapsed: 0:02:15.\n",
            "  Batch   240  of    254.    Elapsed: 0:02:21.\n",
            "  Batch   250  of    254.    Elapsed: 0:02:27.\n",
            "\n",
            "  Average training loss generetor: 0.710\n",
            "  Average training loss discriminator: 5.744\n",
            "  Training epcoh took: 0:02:29\n",
            "\n",
            "Running Test...\n",
            "  Accuracy: 0.007\n",
            "  Test Loss: 5.015\n",
            "  Test took: 0:00:08\n"
          ]
        }
      ]
    },
    {
      "cell_type": "code",
      "source": [
        "training_procedure_completion_print(training_stats_2, total_t0)"
      ],
      "metadata": {
        "colab": {
          "base_uri": "https://localhost:8080/"
        },
        "outputId": "db16e4f7-829b-40af-a036-dae187587add",
        "id": "Jyf2fEx1M8mi"
      },
      "execution_count": 84,
      "outputs": [
        {
          "output_type": "stream",
          "name": "stdout",
          "text": [
            "{'epoch': 1, 'Training Loss generator': 0.6629711831296523, 'Training Loss discriminator': 6.181430625868595, 'Valid. Loss': 5.018484592437744, 'Valid. Accur.': 0.006666666666666667, 'Training Time': '0:02:29', 'Test Time': '0:00:08'}\n",
            "{'epoch': 2, 'Training Loss generator': 0.7227949981145033, 'Training Loss discriminator': 5.771795164881729, 'Valid. Loss': 5.017527103424072, 'Valid. Accur.': 0.006666666666666667, 'Training Time': '0:02:29', 'Test Time': '0:00:08'}\n",
            "{'epoch': 3, 'Training Loss generator': 0.7159539066900419, 'Training Loss discriminator': 5.757018255905842, 'Valid. Loss': 5.015931129455566, 'Valid. Accur.': 0.006666666666666667, 'Training Time': '0:02:29', 'Test Time': '0:00:08'}\n",
            "{'epoch': 4, 'Training Loss generator': 0.7124814881583837, 'Training Loss discriminator': 5.763825063630352, 'Valid. Loss': 5.0152668952941895, 'Valid. Accur.': 0.006666666666666667, 'Training Time': '0:02:29', 'Test Time': '0:00:08'}\n",
            "{'epoch': 5, 'Training Loss generator': 0.7103900780358653, 'Training Loss discriminator': 5.744222610719561, 'Valid. Loss': 5.014655113220215, 'Valid. Accur.': 0.006666666666666667, 'Training Time': '0:02:29', 'Test Time': '0:00:08'}\n",
            "\n",
            "Training complete!\n",
            "Total training took 0:13:14 (h:mm:ss)\n"
          ]
        }
      ]
    },
    {
      "cell_type": "code",
      "source": [
        "training_stats_2[-1]"
      ],
      "metadata": {
        "colab": {
          "base_uri": "https://localhost:8080/"
        },
        "outputId": "10e257f5-9330-44b2-9352-0b1bd0a91ae2",
        "id": "4B5d3rVvM8mj"
      },
      "execution_count": 85,
      "outputs": [
        {
          "output_type": "execute_result",
          "data": {
            "text/plain": [
              "{'Test Time': '0:00:08',\n",
              " 'Training Loss discriminator': 5.744222610719561,\n",
              " 'Training Loss generator': 0.7103900780358653,\n",
              " 'Training Time': '0:02:29',\n",
              " 'Valid. Accur.': 0.006666666666666667,\n",
              " 'Valid. Loss': 5.014655113220215,\n",
              " 'epoch': 5}"
            ]
          },
          "metadata": {},
          "execution_count": 85
        }
      ]
    },
    {
      "cell_type": "markdown",
      "source": [
        "##5_95"
      ],
      "metadata": {
        "id": "m43kYfDwNVmY"
      }
    },
    {
      "cell_type": "code",
      "source": [
        "labeled_file = \"./5_95/labeled.tsv\"\n",
        "unlabeled_file = \"./5_95/unlabeled.tsv\"\n",
        "test_filename = \"./5_95/test.tsv\""
      ],
      "metadata": {
        "id": "I3eJUARqNVmY"
      },
      "execution_count": 86,
      "outputs": []
    },
    {
      "cell_type": "code",
      "source": [
        "labeled_examples, unlabeled_examples, test_examples = load_the_input_dataset()"
      ],
      "metadata": {
        "id": "kOXQ68jqNVmZ"
      },
      "execution_count": 87,
      "outputs": []
    },
    {
      "cell_type": "code",
      "source": [
        "len(labeled_examples)"
      ],
      "metadata": {
        "colab": {
          "base_uri": "https://localhost:8080/"
        },
        "outputId": "627dda1c-b529-4913-d40e-e0e4f7813560",
        "id": "B3cv5EnNNVmZ"
      },
      "execution_count": 88,
      "outputs": [
        {
          "output_type": "execute_result",
          "data": {
            "text/plain": [
              "750"
            ]
          },
          "metadata": {},
          "execution_count": 88
        }
      ]
    },
    {
      "cell_type": "code",
      "source": [
        "len(unlabeled_examples)"
      ],
      "metadata": {
        "colab": {
          "base_uri": "https://localhost:8080/"
        },
        "outputId": "ebe62495-3689-4454-b0c3-0989db9c654c",
        "id": "y8ESd6UENVmZ"
      },
      "execution_count": 89,
      "outputs": [
        {
          "output_type": "execute_result",
          "data": {
            "text/plain": [
              "14250"
            ]
          },
          "metadata": {},
          "execution_count": 89
        }
      ]
    },
    {
      "cell_type": "code",
      "source": [
        "len(test_examples)"
      ],
      "metadata": {
        "colab": {
          "base_uri": "https://localhost:8080/"
        },
        "outputId": "903be754-d8e6-4206-e827-bd35b0df71af",
        "id": "dZoo4o1-NVmZ"
      },
      "execution_count": 90,
      "outputs": [
        {
          "output_type": "execute_result",
          "data": {
            "text/plain": [
              "4500"
            ]
          },
          "metadata": {},
          "execution_count": 90
        }
      ]
    },
    {
      "cell_type": "code",
      "source": [
        "test_dataloader, train_dataloader, train_examples = convert_input_examples_to_dataloader(label_list)"
      ],
      "metadata": {
        "id": "shGYiKHiNVma"
      },
      "execution_count": 91,
      "outputs": []
    },
    {
      "cell_type": "code",
      "source": [
        "generator, discriminator = instantiate_discriminator_and_generator(transformer)"
      ],
      "metadata": {
        "id": "twHU-G7vNVma"
      },
      "execution_count": 92,
      "outputs": []
    },
    {
      "cell_type": "code",
      "source": [
        "training_stats_5, total_t0 = training_procedure_start(test_dataloader, train_dataloader, train_examples, generator, discriminator)"
      ],
      "metadata": {
        "colab": {
          "base_uri": "https://localhost:8080/"
        },
        "outputId": "97836542-2a4a-45ec-a10d-2d726250356e",
        "id": "3PDAqlXDNVma"
      },
      "execution_count": 93,
      "outputs": [
        {
          "output_type": "stream",
          "name": "stdout",
          "text": [
            "\n",
            "======== Epoch 1 / 5 ========\n",
            "Training...\n",
            "  Batch    10  of    270.    Elapsed: 0:00:06.\n",
            "  Batch    20  of    270.    Elapsed: 0:00:12.\n",
            "  Batch    30  of    270.    Elapsed: 0:00:18.\n",
            "  Batch    40  of    270.    Elapsed: 0:00:24.\n",
            "  Batch    50  of    270.    Elapsed: 0:00:29.\n",
            "  Batch    60  of    270.    Elapsed: 0:00:35.\n",
            "  Batch    70  of    270.    Elapsed: 0:00:41.\n",
            "  Batch    80  of    270.    Elapsed: 0:00:47.\n",
            "  Batch    90  of    270.    Elapsed: 0:00:53.\n",
            "  Batch   100  of    270.    Elapsed: 0:00:59.\n",
            "  Batch   110  of    270.    Elapsed: 0:01:05.\n",
            "  Batch   120  of    270.    Elapsed: 0:01:11.\n",
            "  Batch   130  of    270.    Elapsed: 0:01:17.\n",
            "  Batch   140  of    270.    Elapsed: 0:01:23.\n",
            "  Batch   150  of    270.    Elapsed: 0:01:28.\n",
            "  Batch   160  of    270.    Elapsed: 0:01:34.\n",
            "  Batch   170  of    270.    Elapsed: 0:01:40.\n",
            "  Batch   180  of    270.    Elapsed: 0:01:46.\n",
            "  Batch   190  of    270.    Elapsed: 0:01:52.\n",
            "  Batch   200  of    270.    Elapsed: 0:01:58.\n",
            "  Batch   210  of    270.    Elapsed: 0:02:04.\n",
            "  Batch   220  of    270.    Elapsed: 0:02:10.\n",
            "  Batch   230  of    270.    Elapsed: 0:02:16.\n",
            "  Batch   240  of    270.    Elapsed: 0:02:21.\n",
            "  Batch   250  of    270.    Elapsed: 0:02:27.\n",
            "  Batch   260  of    270.    Elapsed: 0:02:33.\n",
            "\n",
            "  Average training loss generetor: 0.669\n",
            "  Average training loss discriminator: 6.136\n",
            "  Training epcoh took: 0:02:39\n",
            "\n",
            "Running Test...\n",
            "  Accuracy: 0.007\n",
            "  Test Loss: 5.017\n",
            "  Test took: 0:00:08\n",
            "\n",
            "======== Epoch 2 / 5 ========\n",
            "Training...\n",
            "  Batch    10  of    270.    Elapsed: 0:00:06.\n",
            "  Batch    20  of    270.    Elapsed: 0:00:12.\n",
            "  Batch    30  of    270.    Elapsed: 0:00:18.\n",
            "  Batch    40  of    270.    Elapsed: 0:00:24.\n",
            "  Batch    50  of    270.    Elapsed: 0:00:29.\n",
            "  Batch    60  of    270.    Elapsed: 0:00:35.\n",
            "  Batch    70  of    270.    Elapsed: 0:00:41.\n",
            "  Batch    80  of    270.    Elapsed: 0:00:47.\n",
            "  Batch    90  of    270.    Elapsed: 0:00:53.\n",
            "  Batch   100  of    270.    Elapsed: 0:00:59.\n",
            "  Batch   110  of    270.    Elapsed: 0:01:05.\n",
            "  Batch   120  of    270.    Elapsed: 0:01:11.\n",
            "  Batch   130  of    270.    Elapsed: 0:01:17.\n",
            "  Batch   140  of    270.    Elapsed: 0:01:22.\n",
            "  Batch   150  of    270.    Elapsed: 0:01:28.\n",
            "  Batch   160  of    270.    Elapsed: 0:01:34.\n",
            "  Batch   170  of    270.    Elapsed: 0:01:40.\n",
            "  Batch   180  of    270.    Elapsed: 0:01:46.\n",
            "  Batch   190  of    270.    Elapsed: 0:01:52.\n",
            "  Batch   200  of    270.    Elapsed: 0:01:58.\n",
            "  Batch   210  of    270.    Elapsed: 0:02:04.\n",
            "  Batch   220  of    270.    Elapsed: 0:02:10.\n",
            "  Batch   230  of    270.    Elapsed: 0:02:16.\n",
            "  Batch   240  of    270.    Elapsed: 0:02:21.\n",
            "  Batch   250  of    270.    Elapsed: 0:02:27.\n",
            "  Batch   260  of    270.    Elapsed: 0:02:33.\n",
            "\n",
            "  Average training loss generetor: 0.719\n",
            "  Average training loss discriminator: 5.785\n",
            "  Training epcoh took: 0:02:39\n",
            "\n",
            "Running Test...\n",
            "  Accuracy: 0.007\n",
            "  Test Loss: 5.015\n",
            "  Test took: 0:00:08\n",
            "\n",
            "======== Epoch 3 / 5 ========\n",
            "Training...\n",
            "  Batch    10  of    270.    Elapsed: 0:00:06.\n",
            "  Batch    20  of    270.    Elapsed: 0:00:12.\n",
            "  Batch    30  of    270.    Elapsed: 0:00:18.\n",
            "  Batch    40  of    270.    Elapsed: 0:00:24.\n",
            "  Batch    50  of    270.    Elapsed: 0:00:30.\n",
            "  Batch    60  of    270.    Elapsed: 0:00:36.\n",
            "  Batch    70  of    270.    Elapsed: 0:00:43.\n",
            "  Batch    80  of    270.    Elapsed: 0:00:50.\n",
            "  Batch    90  of    270.    Elapsed: 0:00:56.\n",
            "  Batch   100  of    270.    Elapsed: 0:01:03.\n",
            "  Batch   110  of    270.    Elapsed: 0:01:09.\n",
            "  Batch   120  of    270.    Elapsed: 0:01:15.\n",
            "  Batch   130  of    270.    Elapsed: 0:01:21.\n",
            "  Batch   140  of    270.    Elapsed: 0:01:27.\n",
            "  Batch   150  of    270.    Elapsed: 0:01:33.\n",
            "  Batch   160  of    270.    Elapsed: 0:01:39.\n",
            "  Batch   170  of    270.    Elapsed: 0:01:44.\n",
            "  Batch   180  of    270.    Elapsed: 0:01:50.\n",
            "  Batch   190  of    270.    Elapsed: 0:01:56.\n",
            "  Batch   200  of    270.    Elapsed: 0:02:02.\n",
            "  Batch   210  of    270.    Elapsed: 0:02:08.\n",
            "  Batch   220  of    270.    Elapsed: 0:02:14.\n",
            "  Batch   230  of    270.    Elapsed: 0:02:20.\n",
            "  Batch   240  of    270.    Elapsed: 0:02:26.\n",
            "  Batch   250  of    270.    Elapsed: 0:02:32.\n",
            "  Batch   260  of    270.    Elapsed: 0:02:37.\n",
            "\n",
            "  Average training loss generetor: 0.715\n",
            "  Average training loss discriminator: 5.770\n",
            "  Training epcoh took: 0:02:43\n",
            "\n",
            "Running Test...\n",
            "  Accuracy: 0.007\n",
            "  Test Loss: 5.014\n",
            "  Test took: 0:00:08\n",
            "\n",
            "======== Epoch 4 / 5 ========\n",
            "Training...\n",
            "  Batch    10  of    270.    Elapsed: 0:00:06.\n",
            "  Batch    20  of    270.    Elapsed: 0:00:12.\n",
            "  Batch    30  of    270.    Elapsed: 0:00:18.\n",
            "  Batch    40  of    270.    Elapsed: 0:00:24.\n",
            "  Batch    50  of    270.    Elapsed: 0:00:29.\n",
            "  Batch    60  of    270.    Elapsed: 0:00:35.\n",
            "  Batch    70  of    270.    Elapsed: 0:00:41.\n",
            "  Batch    80  of    270.    Elapsed: 0:00:47.\n",
            "  Batch    90  of    270.    Elapsed: 0:00:53.\n",
            "  Batch   100  of    270.    Elapsed: 0:00:59.\n",
            "  Batch   110  of    270.    Elapsed: 0:01:05.\n",
            "  Batch   120  of    270.    Elapsed: 0:01:11.\n",
            "  Batch   130  of    270.    Elapsed: 0:01:17.\n",
            "  Batch   140  of    270.    Elapsed: 0:01:23.\n",
            "  Batch   150  of    270.    Elapsed: 0:01:28.\n",
            "  Batch   160  of    270.    Elapsed: 0:01:34.\n",
            "  Batch   170  of    270.    Elapsed: 0:01:40.\n",
            "  Batch   180  of    270.    Elapsed: 0:01:46.\n",
            "  Batch   190  of    270.    Elapsed: 0:01:52.\n",
            "  Batch   200  of    270.    Elapsed: 0:01:58.\n",
            "  Batch   210  of    270.    Elapsed: 0:02:04.\n",
            "  Batch   220  of    270.    Elapsed: 0:02:10.\n",
            "  Batch   230  of    270.    Elapsed: 0:02:16.\n",
            "  Batch   240  of    270.    Elapsed: 0:02:22.\n",
            "  Batch   250  of    270.    Elapsed: 0:02:27.\n",
            "  Batch   260  of    270.    Elapsed: 0:02:33.\n",
            "\n",
            "  Average training loss generetor: 0.711\n",
            "  Average training loss discriminator: 5.765\n",
            "  Training epcoh took: 0:02:39\n",
            "\n",
            "Running Test...\n",
            "  Accuracy: 0.007\n",
            "  Test Loss: 5.014\n",
            "  Test took: 0:00:08\n",
            "\n",
            "======== Epoch 5 / 5 ========\n",
            "Training...\n",
            "  Batch    10  of    270.    Elapsed: 0:00:06.\n",
            "  Batch    20  of    270.    Elapsed: 0:00:12.\n",
            "  Batch    30  of    270.    Elapsed: 0:00:18.\n",
            "  Batch    40  of    270.    Elapsed: 0:00:24.\n",
            "  Batch    50  of    270.    Elapsed: 0:00:29.\n",
            "  Batch    60  of    270.    Elapsed: 0:00:35.\n",
            "  Batch    70  of    270.    Elapsed: 0:00:41.\n",
            "  Batch    80  of    270.    Elapsed: 0:00:47.\n",
            "  Batch    90  of    270.    Elapsed: 0:00:53.\n",
            "  Batch   100  of    270.    Elapsed: 0:00:59.\n",
            "  Batch   110  of    270.    Elapsed: 0:01:05.\n",
            "  Batch   120  of    270.    Elapsed: 0:01:11.\n",
            "  Batch   130  of    270.    Elapsed: 0:01:17.\n",
            "  Batch   140  of    270.    Elapsed: 0:01:22.\n",
            "  Batch   150  of    270.    Elapsed: 0:01:28.\n",
            "  Batch   160  of    270.    Elapsed: 0:01:34.\n",
            "  Batch   170  of    270.    Elapsed: 0:01:40.\n",
            "  Batch   180  of    270.    Elapsed: 0:01:46.\n",
            "  Batch   190  of    270.    Elapsed: 0:01:52.\n",
            "  Batch   200  of    270.    Elapsed: 0:01:58.\n",
            "  Batch   210  of    270.    Elapsed: 0:02:04.\n",
            "  Batch   220  of    270.    Elapsed: 0:02:10.\n",
            "  Batch   230  of    270.    Elapsed: 0:02:16.\n",
            "  Batch   240  of    270.    Elapsed: 0:02:21.\n",
            "  Batch   250  of    270.    Elapsed: 0:02:27.\n",
            "  Batch   260  of    270.    Elapsed: 0:02:33.\n",
            "\n",
            "  Average training loss generetor: 0.709\n",
            "  Average training loss discriminator: 5.756\n",
            "  Training epcoh took: 0:02:39\n",
            "\n",
            "Running Test...\n",
            "  Accuracy: 0.007\n",
            "  Test Loss: 5.014\n",
            "  Test took: 0:00:08\n"
          ]
        }
      ]
    },
    {
      "cell_type": "code",
      "source": [
        "training_procedure_completion_print(training_stats_5, total_t0)"
      ],
      "metadata": {
        "colab": {
          "base_uri": "https://localhost:8080/"
        },
        "outputId": "402d1d40-e0ae-4d83-8c63-d375fcd9fdaf",
        "id": "xbr48AgMNVma"
      },
      "execution_count": 94,
      "outputs": [
        {
          "output_type": "stream",
          "name": "stdout",
          "text": [
            "{'epoch': 1, 'Training Loss generator': 0.6689436529142161, 'Training Loss discriminator': 6.136492826320507, 'Valid. Loss': 5.016754627227783, 'Valid. Accur.': 0.006666666666666667, 'Training Time': '0:02:39', 'Test Time': '0:00:08'}\n",
            "{'epoch': 2, 'Training Loss generator': 0.7194536710226977, 'Training Loss discriminator': 5.785424797623246, 'Valid. Loss': 5.01511287689209, 'Valid. Accur.': 0.006666666666666667, 'Training Time': '0:02:39', 'Test Time': '0:00:08'}\n",
            "{'epoch': 3, 'Training Loss generator': 0.7145968088397273, 'Training Loss discriminator': 5.770061950330381, 'Valid. Loss': 5.014277458190918, 'Valid. Accur.': 0.006666666666666667, 'Training Time': '0:02:43', 'Test Time': '0:00:08'}\n",
            "{'epoch': 4, 'Training Loss generator': 0.7107357713911269, 'Training Loss discriminator': 5.764809036254883, 'Valid. Loss': 5.014136791229248, 'Valid. Accur.': 0.006666666666666667, 'Training Time': '0:02:39', 'Test Time': '0:00:08'}\n",
            "{'epoch': 5, 'Training Loss generator': 0.7091327773200141, 'Training Loss discriminator': 5.756119533821389, 'Valid. Loss': 5.013647079467773, 'Valid. Accur.': 0.006666666666666667, 'Training Time': '0:02:39', 'Test Time': '0:00:08'}\n",
            "\n",
            "Training complete!\n",
            "Total training took 0:23:55 (h:mm:ss)\n"
          ]
        }
      ]
    },
    {
      "cell_type": "code",
      "source": [
        "training_stats_5[-1]"
      ],
      "metadata": {
        "colab": {
          "base_uri": "https://localhost:8080/"
        },
        "outputId": "b7d570e8-2d30-4cfa-aebc-9f6c1cda24c4",
        "id": "It8qnSsqNVma"
      },
      "execution_count": 95,
      "outputs": [
        {
          "output_type": "execute_result",
          "data": {
            "text/plain": [
              "{'Test Time': '0:00:08',\n",
              " 'Training Loss discriminator': 5.756119533821389,\n",
              " 'Training Loss generator': 0.7091327773200141,\n",
              " 'Training Time': '0:02:39',\n",
              " 'Valid. Accur.': 0.006666666666666667,\n",
              " 'Valid. Loss': 5.013647079467773,\n",
              " 'epoch': 5}"
            ]
          },
          "metadata": {},
          "execution_count": 95
        }
      ]
    },
    {
      "cell_type": "markdown",
      "source": [
        "## Analysis for different splits and epochs"
      ],
      "metadata": {
        "id": "TOglB1f5zjOD"
      }
    },
    {
      "cell_type": "code",
      "source": [
        "print(\"Last epoch accuracies:\")\n",
        "print(\"1:99:\", training_stats_1[-1][\"Valid. Accur.\"])\n",
        "print(\"2:98:\", training_stats_2[-1][\"Valid. Accur.\"])\n",
        "print(\"5:95:\", training_stats_5[-1][\"Valid. Accur.\"])\n",
        "print(\"10:90:\", training_stats[-1][\"Valid. Accur.\"]) #for 10 \n",
        "print(\"20:80:\", training_stats_20[-1][\"Valid. Accur.\"]) #for 20\n",
        "print(\"30:70:\", training_stats_30[-1][\"Valid. Accur.\"]) #for 30\n",
        "print(\"40:60:\", training_stats_40[-1][\"Valid. Accur.\"])\n",
        "print(\"50:50:\", training_stats_50[-1][\"Valid. Accur.\"])\n"
      ],
      "metadata": {
        "colab": {
          "base_uri": "https://localhost:8080/"
        },
        "id": "jPjRnjB1nhwj",
        "outputId": "967d33ce-6126-4667-bc20-136a04817f36"
      },
      "execution_count": 101,
      "outputs": [
        {
          "output_type": "stream",
          "name": "stdout",
          "text": [
            "Last epoch accuracies:\n",
            "1:99: 0.006666666666666667\n",
            "2:98: 0.006666666666666667\n",
            "5:95: 0.006666666666666667\n",
            "10:90: 0.006666666666666667\n",
            "20:80: 0.006666666666666667\n",
            "30:70: 0.006666666666666667\n",
            "40:60: 0.006666666666666667\n",
            "50:50: 0.006666666666666667\n"
          ]
        }
      ]
    },
    {
      "cell_type": "code",
      "source": [
        "'epoch': epoch_i + 1,\n",
        "              'Training Loss generator': avg_train_loss_g,\n",
        "              'Training Loss discriminator': avg_train_loss_d,\n",
        "              'Valid. Loss': avg_test_loss,\n",
        "              'Valid. Accur.': test_accuracy,\n",
        "              'Training Time': training_time,\n",
        "              'Test Time': test_time"
      ],
      "metadata": {
        "id": "9f_CVOPLGuHq"
      },
      "execution_count": null,
      "outputs": []
    },
    {
      "cell_type": "code",
      "source": [
        "print(\"Last epoch Training Loss:\")\n",
        "print(\"1:99:\", training_stats_1[-1][\"Training Loss generator\"])\n",
        "print(\"2:98:\", training_stats_2[-1][\"Training Loss generator\"])\n",
        "print(\"5:95:\", training_stats_5[-1][\"Training Loss generator\"])\n",
        "print(\"10:90:\", training_stats[-1][\"Training Loss generator\"]) #for 10 \n",
        "print(\"20:80:\", training_stats_20[-1][\"Training Loss generator\"]) #for 20\n",
        "print(\"30:70:\", training_stats_30[-1][\"Training Loss generator\"]) #for 30\n",
        "print(\"40:60:\", training_stats_40[-1][\"Training Loss generator\"])\n",
        "print(\"50:50:\", training_stats_50[-1][\"Training Loss generator\"])\n"
      ],
      "metadata": {
        "colab": {
          "base_uri": "https://localhost:8080/"
        },
        "id": "MJQfyFjZGdlW",
        "outputId": "f5e02cf8-62b8-4730-9656-b9195b7da877"
      },
      "execution_count": 103,
      "outputs": [
        {
          "output_type": "stream",
          "name": "stdout",
          "text": [
            "Last epoch Training Loss:\n",
            "1:99: 0.7109511576683415\n",
            "2:98: 0.7103900780358653\n",
            "5:95: 0.7091327773200141\n",
            "10:90: 0.7092686798555631\n",
            "20:80: 0.709072084291607\n",
            "30:70: 0.7108607180575107\n",
            "40:60: 0.7110419833913763\n",
            "50:50: 0.7109688000476106\n"
          ]
        }
      ]
    },
    {
      "cell_type": "code",
      "source": [
        "import matplotlib.pyplot as plt\n",
        "\n",
        "y = [training_stats_1[-1][\"Valid. Accur.\"], training_stats_2[-1][\"Valid. Accur.\"], \\\n",
        "     training_stats_5[-1][\"Valid. Accur.\"], training_stats[-1][\"Valid. Accur.\"], training_stats_20[-1][\"Valid. Accur.\"], \\\n",
        "     training_stats_30[-1][\"Valid. Accur.\"], training_stats_40[-1][\"Valid. Accur.\"]\\\n",
        "     , training_stats_50[-1][\"Valid. Accur.\"]]\n",
        "x = [\"1:99\",\"2:98\",\"5:95\", \"10:90\", \"20:80\", \"30:70\", \"40:60\", \"50:50\"]\n",
        "plt.plot(x, y, '-o')\n",
        "\n",
        "#plt.plot(x, y, label = \"line 1\")\n",
        "#plt.plot(y, x, label = \"line 2\")\n",
        "#plt.plot(x, np.sin(x), label = \"curve 1\")\n",
        "#plt.plot(x, np.cos(x), label = \"curve 2\")\n",
        "\n",
        "# naming the x axis\n",
        "plt.xlabel('Ratio of Training:Testing split')\n",
        "# naming the y axis\n",
        "plt.ylabel('Accuracy (%) after 5 epochs')\n",
        "# giving a title to my graph\n",
        "plt.title('RoBERTa: GAN on CLINC-150 dataset')\n",
        "  \n",
        "# function to show the plot\n",
        "plt.show()"
      ],
      "metadata": {
        "colab": {
          "base_uri": "https://localhost:8080/",
          "height": 295
        },
        "id": "N_-r6L6qNVma",
        "outputId": "b18159a1-0f3b-4964-8069-9d697f313291"
      },
      "execution_count": 99,
      "outputs": [
        {
          "output_type": "display_data",
          "data": {
            "text/plain": [
              "<Figure size 432x288 with 1 Axes>"
            ],
            "image/png": "[encoded data removed]"
          },
          "metadata": {
            "needs_background": "light"
          }
        }
      ]
    },
    {
      "cell_type": "code",
      "source": [
        "print(\"Last epoch Training Loss:\")\n",
        "print(\"1:99:\", training_stats_1[-1][\"Valid. Loss\"])\n",
        "print(\"2:98:\", training_stats_2[-1][\"Valid. Loss\"])\n",
        "print(\"5:95:\", training_stats_5[-1][\"Valid. Loss\"])\n",
        "print(\"10:90:\", training_stats[-1][\"Valid. Loss\"]) #for 10 \n",
        "print(\"20:80:\", training_stats_20[-1][\"Valid. Loss\"]) #for 20\n",
        "print(\"30:70:\", training_stats_30[-1][\"Valid. Loss\"]) #for 30\n",
        "print(\"40:60:\", training_stats_40[-1][\"Valid. Loss\"])\n",
        "print(\"50:50:\", training_stats_50[-1][\"Valid. Loss\"])\n"
      ],
      "metadata": {
        "colab": {
          "base_uri": "https://localhost:8080/"
        },
        "id": "XzSVBzxjG_rN",
        "outputId": "322c272f-98ad-42c5-bbcd-74523e0214b6"
      },
      "execution_count": 104,
      "outputs": [
        {
          "output_type": "stream",
          "name": "stdout",
          "text": [
            "Last epoch Training Loss:\n",
            "1:99: 5.014122009277344\n",
            "2:98: 5.014655113220215\n",
            "5:95: 5.013647079467773\n",
            "10:90: 5.012313365936279\n",
            "20:80: 5.013557434082031\n",
            "30:70: 5.012820243835449\n",
            "40:60: 5.012773513793945\n",
            "50:50: 5.012914657592773\n"
          ]
        }
      ]
    },
    {
      "cell_type": "code",
      "source": [
        "import matplotlib.pyplot as plt\n",
        "\n",
        "y = [training_stats_1[-1][\"Valid. Loss\"], training_stats_2[-1][\"Valid. Loss\"], \\\n",
        "     training_stats_5[-1][\"Valid. Loss\"], training_stats[-1][\"Valid. Loss\"], training_stats_20[-1][\"Valid. Loss\"], \\\n",
        "     training_stats_30[-1][\"Valid. Loss\"], training_stats_40[-1][\"Valid. Loss\"]\\\n",
        "     , training_stats_50[-1][\"Valid. Loss\"]]\n",
        "x = [\"1:99\",\"2:98\",\"5:95\", \"10:90\", \"20:80\", \"30:70\", \"40:60\", \"50:50\"]\n",
        "plt.plot(x, y, '-o')\n",
        "\n",
        "#plt.plot(x, y, label = \"line 1\")\n",
        "#plt.plot(y, x, label = \"line 2\")\n",
        "#plt.plot(x, np.sin(x), label = \"curve 1\")\n",
        "#plt.plot(x, np.cos(x), label = \"curve 2\")\n",
        "\n",
        "# naming the x axis\n",
        "plt.xlabel('Ratio of Training:Testing split')\n",
        "# naming the y axis\n",
        "plt.ylabel('Loss after 5 epochs')\n",
        "# giving a title to my graph\n",
        "plt.title('RoBERTa: GAN on CLINC-150 dataset')\n",
        "  \n",
        "# function to show the plot\n",
        "plt.show()"
      ],
      "metadata": {
        "colab": {
          "base_uri": "https://localhost:8080/",
          "height": 295
        },
        "id": "MqWXyvYnHfE6",
        "outputId": "b4f2daa0-08f6-46b8-d77e-e6d58038b56b"
      },
      "execution_count": 106,
      "outputs": [
        {
          "output_type": "display_data",
          "data": {
            "text/plain": [
              "<Figure size 432x288 with 1 Axes>"
            ],
            "image/png": "[encoded data removed]"
          },
          "metadata": {
            "needs_background": "light"
          }
        }
      ]
    },
    {
      "cell_type": "code",
      "source": [
        "import matplotlib.pyplot as plt\n",
        "\n",
        "y_1 = [training_stats_1[x][\"Valid. Accur.\"] for x in range(num_train_epochs)]\n",
        "y_2 = [training_stats_2[x][\"Valid. Accur.\"] for x in range(num_train_epochs)]\n",
        "y_5 = [training_stats_5[x][\"Valid. Accur.\"] for x in range(num_train_epochs)]\n",
        "y_10 = [training_stats[x][\"Valid. Accur.\"] for x in range(num_train_epochs)]\n",
        "y_20 = [training_stats_20[x][\"Valid. Accur.\"] for x in range(num_train_epochs)]\n",
        "y_30 = [training_stats_30[x][\"Valid. Accur.\"] for x in range(num_train_epochs)]\n",
        "y_40 = [training_stats_40[x][\"Valid. Accur.\"] for x in range(num_train_epochs)]\n",
        "y_50 = [training_stats_50[x][\"Valid. Accur.\"] for x in range(num_train_epochs)]\n",
        "x = [\"1\",\"2\",\"3\", \"4\", \"5\"]\n",
        "\n",
        "plt.plot(x, y_1, '-o', label = \"1:99 split\")\n",
        "plt.plot(x, y_2, '-o', label = \"2:98 split\")\n",
        "plt.plot(x, y_5, '-o', label = \"5:95 split\")\n",
        "plt.plot(x, y_10, '-o', label = \"10:90 split\")\n",
        "plt.plot(x, y_20, '-o', label = \"20:80 split\")\n",
        "plt.plot(x, y_30, '-o', label = \"30:70 split\")\n",
        "plt.plot(x, y_40, '-o', label = \"40:60 split\")\n",
        "plt.plot(x, y_50, '-o', label = \"50:50 split\")\n",
        "\n",
        "\n",
        "# naming the x axis\n",
        "plt.xlabel('Epochs')\n",
        "# naming the y axis\n",
        "plt.ylabel('Accuracy (%)')\n",
        "# giving a title to my graph\n",
        "plt.title('RoBERTa: GAN on CLINC-150 dataset (Accuracy vs Epochs) for various training splits')\n",
        "plt.legend()\n",
        "  \n",
        "# function to show the plot\n",
        "plt.show()"
      ],
      "metadata": {
        "colab": {
          "base_uri": "https://localhost:8080/",
          "height": 295
        },
        "id": "dFerPQK8mk4-",
        "outputId": "558abf1c-c981-4f64-9224-5add8e73fdd4"
      },
      "execution_count": 107,
      "outputs": [
        {
          "output_type": "display_data",
          "data": {
            "text/plain": [
              "<Figure size 432x288 with 1 Axes>"
            ],
            "image/png": "[encoded data removed]"
          },
          "metadata": {
            "needs_background": "light"
          }
        }
      ]
    },
    {
      "cell_type": "code",
      "source": [
        "print(\"Accuracies for different splits over 5 epochs:\")\n",
        "print(\"1:99\", y_1)\n",
        "print(\"2:98\", y_2)\n",
        "print(\"5:95\", y_5)\n",
        "print(\"10:90\", y_10)\n",
        "print(\"20:80\", y_20)\n",
        "print(\"30:70\", y_30)\n",
        "print(\"40:60\", y_40)\n",
        "print(\"50:50\", y_50)"
      ],
      "metadata": {
        "colab": {
          "base_uri": "https://localhost:8080/"
        },
        "id": "FizYhQ5XyxSE",
        "outputId": "8e03c854-6436-4981-9504-1fffdd8719a7"
      },
      "execution_count": 108,
      "outputs": [
        {
          "output_type": "stream",
          "name": "stdout",
          "text": [
            "Accuracies for different splits over 5 epochs:\n",
            "1:99 [0.006666666666666667, 0.006666666666666667, 0.006666666666666667, 0.006666666666666667, 0.006666666666666667]\n",
            "2:98 [0.006666666666666667, 0.006666666666666667, 0.006666666666666667, 0.006666666666666667, 0.006666666666666667]\n",
            "5:95 [0.006666666666666667, 0.006666666666666667, 0.006666666666666667, 0.006666666666666667, 0.006666666666666667]\n",
            "10:90 [0.006666666666666667, 0.006666666666666667, 0.006666666666666667, 0.006666666666666667, 0.006666666666666667]\n",
            "20:80 [0.006666666666666667, 0.006666666666666667, 0.006666666666666667, 0.006666666666666667, 0.006666666666666667]\n",
            "30:70 [0.006666666666666667, 0.006666666666666667, 0.006666666666666667, 0.006666666666666667, 0.006666666666666667]\n",
            "40:60 [0.006666666666666667, 0.006666666666666667, 0.006666666666666667, 0.006666666666666667, 0.006666666666666667]\n",
            "50:50 [0.006666666666666667, 0.006666666666666667, 0.006666666666666667, 0.006666666666666667, 0.006666666666666667]\n"
          ]
        }
      ]
    },
    {
      "cell_type": "code",
      "source": [
        "import matplotlib.pyplot as plt\n",
        "\n",
        "y_1 = [training_stats_1[x][\"Valid. Loss\"] for x in range(num_train_epochs)]\n",
        "y_2 = [training_stats_2[x][\"Valid. Loss\"] for x in range(num_train_epochs)]\n",
        "y_5 = [training_stats_5[x][\"Valid. Loss\"] for x in range(num_train_epochs)]\n",
        "y_10 = [training_stats[x][\"Valid. Loss\"] for x in range(num_train_epochs)]\n",
        "y_20 = [training_stats_20[x][\"Valid. Loss\"] for x in range(num_train_epochs)]\n",
        "y_30 = [training_stats_30[x][\"Valid. Loss\"] for x in range(num_train_epochs)]\n",
        "y_40 = [training_stats_40[x][\"Valid. Loss\"] for x in range(num_train_epochs)]\n",
        "y_50 = [training_stats_50[x][\"Valid. Loss\"] for x in range(num_train_epochs)]\n",
        "x = [\"1\",\"2\",\"3\", \"4\", \"5\"]\n",
        "\n",
        "plt.plot(x, y_1, '-o', label = \"1:99 split\")\n",
        "plt.plot(x, y_2, '-o', label = \"2:98 split\")\n",
        "plt.plot(x, y_5, '-o', label = \"5:95 split\")\n",
        "plt.plot(x, y_10, '-o', label = \"10:90 split\")\n",
        "plt.plot(x, y_20, '-o', label = \"20:80 split\")\n",
        "plt.plot(x, y_30, '-o', label = \"30:70 split\")\n",
        "plt.plot(x, y_40, '-o', label = \"40:60 split\")\n",
        "plt.plot(x, y_50, '-o', label = \"50:50 split\")\n",
        "\n",
        "\n",
        "# naming the x axis\n",
        "plt.xlabel('Epochs')\n",
        "# naming the y axis\n",
        "plt.ylabel('Valid. Loss')\n",
        "# giving a title to my graph\n",
        "plt.title('RoBERTa: GAN on CLINC-150 dataset (Loss vs Epochs) for various training splits')\n",
        "plt.legend()\n",
        "  \n",
        "# function to show the plot\n",
        "plt.show()"
      ],
      "metadata": {
        "colab": {
          "base_uri": "https://localhost:8080/",
          "height": 295
        },
        "id": "3yw31zCLIZbP",
        "outputId": "cb7378d3-f1de-4554-cb31-8f2478fb48c7"
      },
      "execution_count": 112,
      "outputs": [
        {
          "output_type": "display_data",
          "data": {
            "text/plain": [
              "<Figure size 432x288 with 1 Axes>"
            ],
            "image/png": "[encoded data removed]"
          },
          "metadata": {
            "needs_background": "light"
          }
        }
      ]
    },
    {
      "cell_type": "code",
      "source": [
        "print(\"Valid. Loss for different splits over 5 epochs:\")\n",
        "print(\"1:99\", y_1)\n",
        "print(\"2:98\", y_2)\n",
        "print(\"5:95\", y_5)\n",
        "print(\"10:90\", y_10)\n",
        "print(\"20:80\", y_20)\n",
        "print(\"30:70\", y_30)\n",
        "print(\"40:60\", y_40)\n",
        "print(\"50:50\", y_50)"
      ],
      "metadata": {
        "colab": {
          "base_uri": "https://localhost:8080/"
        },
        "id": "YfNEXtgMMCC3",
        "outputId": "243dd85d-1288-4867-feef-6d7a91175602"
      },
      "execution_count": 111,
      "outputs": [
        {
          "output_type": "stream",
          "name": "stdout",
          "text": [
            "Valid. Loss for different splits over 5 epochs:\n",
            "1:99 [5.016643524169922, 5.016462326049805, 5.016002178192139, 5.016129016876221, 5.014122009277344]\n",
            "2:98 [5.018484592437744, 5.017527103424072, 5.015931129455566, 5.0152668952941895, 5.014655113220215]\n",
            "5:95 [5.016754627227783, 5.01511287689209, 5.014277458190918, 5.014136791229248, 5.013647079467773]\n",
            "10:90 [5.015275478363037, 5.015170097351074, 5.013206481933594, 5.013364315032959, 5.012313365936279]\n",
            "20:80 [5.01606559753418, 5.014435768127441, 5.013609886169434, 5.01298713684082, 5.013557434082031]\n",
            "30:70 [5.015645980834961, 5.014273166656494, 5.013179302215576, 5.0131330490112305, 5.012820243835449]\n",
            "40:60 [5.0159912109375, 5.014411926269531, 5.013206958770752, 5.012876987457275, 5.012773513793945]\n",
            "50:50 [5.015459060668945, 5.014227390289307, 5.013397216796875, 5.0130934715271, 5.012914657592773]\n"
          ]
        }
      ]
    }
  ]
}